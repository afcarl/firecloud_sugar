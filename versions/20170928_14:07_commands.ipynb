{
 "cells": [
  {
   "cell_type": "markdown",
   "metadata": {},
   "source": [
    "### Commands"
   ]
  },
  {
   "cell_type": "code",
   "execution_count": 2,
   "metadata": {
    "collapsed": true
   },
   "outputs": [],
   "source": [
    "from firecloud import api as firecloud_api\n",
    "import fc_interface"
   ]
  },
  {
   "cell_type": "code",
   "execution_count": 3,
   "metadata": {
    "collapsed": true
   },
   "outputs": [],
   "source": [
    "%load_ext autoreload\n",
    "%autoreload 2"
   ]
  },
  {
   "cell_type": "code",
   "execution_count": 4,
   "metadata": {
    "collapsed": true
   },
   "outputs": [],
   "source": [
    "### Parameters\n",
    "namespace = \"nci-mimoun-bi-org\"\n",
    "workspace = \"CCLF_TSCA\"\n",
    "paths_to_samples_info = \"paths_to_batches_info.xlsx\"\n",
    "google_bucket_id = \"fc-35446f22-ea37-483a-bd6c-5e9fc56851ff\"\n",
    "batches_info = pd.read_excel(paths_to_samples_info)"
   ]
  },
  {
   "cell_type": "markdown",
   "metadata": {},
   "source": [
    "#### Deletions"
   ]
  },
  {
   "cell_type": "code",
   "execution_count": null,
   "metadata": {
    "collapsed": true,
    "editable": false,
    "run_control": {
     "frozen": true
    }
   },
   "outputs": [],
   "source": [
    "### Delete unnecessary attributes in samples\n",
    "attrs = [\"annotate_variants_vcf\", \"annotate_variants_vcf_index\", \"oncotated_maf\", \"mutect2_vcf_index\", \"match_normal_oncotated_maf\", \"gnomad_vcf\", \"merged_vcfs\", \"match_primary_tumor_bam_file\"]\n",
    "for idx, row in all_samples.iterrows():\n",
    "    fc_interface.delete_entity_attributes(namespace, workspace, \"sample\", row['entity:sample_id'], attrs)"
   ]
  },
  {
   "cell_type": "code",
   "execution_count": null,
   "metadata": {
    "collapsed": true,
    "editable": false,
    "run_control": {
     "frozen": true
    }
   },
   "outputs": [],
   "source": [
    "### Delete method repostory\n",
    "firecloud_api.delete_repository_method('tsca', 'CreatePoN', 15)"
   ]
  },
  {
   "cell_type": "code",
   "execution_count": null,
   "metadata": {
    "collapsed": true,
    "editable": false,
    "run_control": {
     "frozen": true
    }
   },
   "outputs": [],
   "source": [
    "### Delete method repository\n",
    "firecloud_api.delete_repository_method('tsca', 'Mutect2_for_Normal', 1)"
   ]
  },
  {
   "cell_type": "code",
   "execution_count": null,
   "metadata": {
    "collapsed": true,
    "editable": false,
    "run_control": {
     "frozen": true
    }
   },
   "outputs": [],
   "source": [
    "### Delete multiple method repositories\n",
    "for i in range(10, 23):\n",
    "    firecloud_api.delete_repository_method('tsca', 'CreatePoN', i)"
   ]
  },
  {
   "cell_type": "code",
   "execution_count": null,
   "metadata": {
    "collapsed": true,
    "editable": false,
    "run_control": {
     "frozen": true
    }
   },
   "outputs": [],
   "source": [
    "### Delete method config\n",
    "firecloud_api.delete_workspace_config(namespace, workspace, \"tsca\", \"Mutect2_for_Normal\")"
   ]
  },
  {
   "cell_type": "markdown",
   "metadata": {},
   "source": [
    "#### Pair creation"
   ]
  },
  {
   "cell_type": "code",
   "execution_count": null,
   "metadata": {
    "collapsed": true,
    "editable": false,
    "run_control": {
     "frozen": true
    }
   },
   "outputs": [],
   "source": [
    "### Create pairs\n",
    "all_samples = fc_interface.get_samples_multiple_batches(paths_to_samples_info, google_bucket_id)\n",
    "pairs_list = fc_interface.create_pairs_list(all_samples)\n",
    "blacklist = [\"DW039-Tumor-SM-DB2IF\"]\n",
    "clean_pairs_list = pairs_list[ ~pairs_list['case_sample_id'].isin(blacklist)]"
   ]
  },
  {
   "cell_type": "code",
   "execution_count": null,
   "metadata": {
    "collapsed": true,
    "editable": false,
    "run_control": {
     "frozen": true
    }
   },
   "outputs": [],
   "source": [
    "### Upload pairs\n",
    "res = fc_interface.upload_pairs(namespace, workspace, clean_pairs_list)"
   ]
  },
  {
   "cell_type": "code",
   "execution_count": null,
   "metadata": {
    "collapsed": true,
    "editable": false,
    "run_control": {
     "frozen": true
    }
   },
   "outputs": [],
   "source": [
    "# ### Delete unnecessary attributes in pairs\n",
    "# ### NOT WOKING\n",
    "# all_samples = fc_interface.get_samples_multiple_batches(paths_to_samples_info, google_bucket_id)\n",
    "# pairs_list = fc_interface.create_pairs_list(all_samples)\n",
    "# attrs = [\"__annotate_variants_vcf\", \"__annotate_variants_vcf_index\", \\\n",
    "#          \"__scattered_intervals\", \"__tmp_mutect_vcf2\", \"_tmp_mutect_vcf_index2\", \\\n",
    "#          \"__tmp_mutect_vcf2\", \"_tmp_mutect_vcf_index2\"]\n",
    "# for idx, row in pairs_list.iterrows():\n",
    "#     fc_interface.delete_entity_attributes(namespace, workspace, \"pair\", row['entity:pair_id'], attrs)"
   ]
  },
  {
   "cell_type": "code",
   "execution_count": null,
   "metadata": {
    "collapsed": true,
    "editable": false,
    "run_control": {
     "frozen": true
    }
   },
   "outputs": [],
   "source": [
    "### Upload metadata for given batch\n",
    "fc_interface.update_batch_metadata('TSCA21', \\\n",
    "                                  '/xchip/clf/seq_data/processed_for_fh/tsca21_201708_SN0128552/tsca21_201708_SN0128552.import_samples.txt', \\\n",
    "                                      paths_to_samples_info, \\\n",
    "                                        namespace, workspace, google_bucket_id)"
   ]
  },
  {
   "cell_type": "code",
   "execution_count": null,
   "metadata": {
    "collapsed": true,
    "editable": false,
    "run_control": {
     "frozen": true
    }
   },
   "outputs": [],
   "source": [
    "### Delete sample_set\n",
    "fc_interface.delete_sample_set(namespace, workspace, 'TSCA1213')"
   ]
  },
  {
   "cell_type": "code",
   "execution_count": null,
   "metadata": {
    "collapsed": true,
    "editable": false,
    "run_control": {
     "frozen": true
    }
   },
   "outputs": [],
   "source": [
    "### All paths to batch info\n",
    "# pd.read_excel('paths_to_batches_info.xlsx').path_to_samples_info.tolist()"
   ]
  },
  {
   "cell_type": "code",
   "execution_count": null,
   "metadata": {
    "collapsed": true,
    "editable": false,
    "run_control": {
     "frozen": true
    }
   },
   "outputs": [],
   "source": [
    "### Create cumulative PoN (all batches)\n",
    "batches_info = pd.read_excel(paths_to_samples_info)\n",
    "PoN = fc_interface.create_panel_of_normals(batches_info.path_to_samples_info.tolist(), -1, 'Cum_PoN_21_all')\n",
    "fc_interface.upload_pon(PoN, 'CumPoN21', namespace, workspace)"
   ]
  },
  {
   "cell_type": "code",
   "execution_count": null,
   "metadata": {
    "collapsed": true,
    "editable": false,
    "run_control": {
     "frozen": true
    }
   },
   "outputs": [],
   "source": [
    "### Create PoN from normals of only one batch (no samples from other batches)\n",
    "batches_info = pd.read_excel(paths_to_samples_info)\n",
    "tsca21_path = batches_info.path_to_samples_info.tolist()[-1]\n",
    "PoN = fc_interface.create_panel_of_normals([tsca21_path], -1, 'PoN_TSCA21_Normals')\n",
    "fc_interface.upload_pon(PoN, 'PoN_TSCA21_Normals', namespace, workspace)"
   ]
  },
  {
   "cell_type": "code",
   "execution_count": null,
   "metadata": {
    "collapsed": true,
    "editable": false,
    "run_control": {
     "frozen": true
    }
   },
   "outputs": [],
   "source": [
    "### Delete pair set\n",
    "fc_interface.delete_pair_set(namespace, workspace, 'TSCA1213')"
   ]
  },
  {
   "cell_type": "code",
   "execution_count": null,
   "metadata": {
    "collapsed": true,
    "editable": false,
    "run_control": {
     "frozen": true
    }
   },
   "outputs": [],
   "source": [
    "### Delete sample set\n",
    "fc_interface.delete_sample_set(namespace, workspace, 'TSCA1213')"
   ]
  },
  {
   "cell_type": "code",
   "execution_count": null,
   "metadata": {
    "collapsed": true,
    "editable": false,
    "run_control": {
     "frozen": true
    }
   },
   "outputs": [],
   "source": [
    "### Download method configs\n",
    "fc_interface.download_method_configs(namespace, workspace)"
   ]
  },
  {
   "cell_type": "code",
   "execution_count": null,
   "metadata": {
    "collapsed": true,
    "editable": false,
    "run_control": {
     "frozen": true
    }
   },
   "outputs": [],
   "source": [
    "### Upload pairsets\n",
    "tn_pairsets, tp_pairsets = fc_interface.create_pairsets(all_samples, clean_pairs_list)\n",
    "fc_interface.upload_pairsets(namespace, workspace, tn_pairsets, \"TN\")\n",
    "fc_interface.upload_pairsets(namespace, workspace, tp_pairsets, \"TP\")"
   ]
  },
  {
   "cell_type": "code",
   "execution_count": null,
   "metadata": {
    "collapsed": true,
    "editable": false,
    "run_control": {
     "frozen": true
    }
   },
   "outputs": [],
   "source": [
    "### Delete all pairs\n",
    "for idx, row in clean_pairs_list.iterrows():\n",
    "    res = fc_interface.delete_pair(namespace, workspace, row['entity:pair_id'])\n",
    "    print(res)"
   ]
  },
  {
   "cell_type": "code",
   "execution_count": null,
   "metadata": {
    "collapsed": true,
    "editable": false,
    "run_control": {
     "frozen": true
    }
   },
   "outputs": [],
   "source": [
    "all_samples = fc_interface.get_samples_multiple_batches(paths_to_samples_info, google_bucket_id)\n",
    "pairs_list = fc_interface.create_pairs_list(all_samples)\n",
    "blacklist = [\"DW039-Tumor-SM-DB2IF\"]\n",
    "clean_pairs_list = pairs_list[ ~pairs_list['case_sample_id'].isin(blacklist)]\n",
    "\n",
    "### Update pair attributes\n",
    "update_pair_attrs(namespace, workspace, clean_pairs_list, attrs=['control_sample_tsca_id'])"
   ]
  },
  {
   "cell_type": "code",
   "execution_count": null,
   "metadata": {
    "collapsed": true,
    "editable": false,
    "run_control": {
     "frozen": true
    }
   },
   "outputs": [],
   "source": [
    "### Create PoN from all normals\n",
    "batches_info = pd.read_excel(paths_to_samples_info)\n",
    "all_paths = batches_info.path_to_samples_info.tolist()\n",
    "PoN = fc_interface.create_panel_of_normals(all_paths, -1, 'Cum_PoN_21_all')\n",
    "fc_interface.upload_pon(PoN, 'Cum_PoN_21_all', namespace, workspace)"
   ]
  },
  {
   "cell_type": "code",
   "execution_count": 6,
   "metadata": {
    "collapsed": true
   },
   "outputs": [],
   "source": [
    "### Create PoN with normals from batch + other normals\n",
    "batches_info = pd.read_excel(paths_to_samples_info)\n",
    "all_paths = batches_info.path_to_samples_info.tolist()\n",
    "# PoN = fc_interface.create_panel_of_normals(all_paths, -1, 'Cum_PoN_21_all')\n",
    "# fc_interface.upload_pon(PoN, 'Cum_PoN_21_all', namespace, workspace)"
   ]
  },
  {
   "cell_type": "code",
   "execution_count": 4,
   "metadata": {
    "collapsed": true
   },
   "outputs": [],
   "source": [
    "# batch_id = 'TSCA21'\n",
    "# batch_path = batches_info.loc[batches_info.tsca_id==batch_id, 'path_to_samples_info'].item()\n",
    "# pd.read_table(batch_path)\n",
    "# batch_id, paths, N, name"
   ]
  },
  {
   "cell_type": "code",
   "execution_count": 21,
   "metadata": {
    "collapsed": true,
    "editable": false,
    "run_control": {
     "frozen": true
    }
   },
   "outputs": [],
   "source": [
    "# Retrieve samples before export to FC\n",
    "tsca21 = \\\n",
    "    fc_interface.\\\n",
    "        prepare_batch_samples_for_metadata_export('/xchip/clf/seq_data/processed_for_fh/tsca21_201708_SN0128552/tsca21_201708_SN0128552.import_samples.txt', \\\n",
    "                            'TSCA21', google_bucket_id)"
   ]
  },
  {
   "cell_type": "code",
   "execution_count": null,
   "metadata": {
    "collapsed": true,
    "editable": false,
    "run_control": {
     "frozen": true
    }
   },
   "outputs": [],
   "source": [
    "### Update WDLs\n",
    "fc_interface.download_remote_wdls(namespace, workspace)"
   ]
  },
  {
   "cell_type": "code",
   "execution_count": 336,
   "metadata": {
    "collapsed": true,
    "editable": false,
    "run_control": {
     "frozen": true
    }
   },
   "outputs": [],
   "source": [
    "### Prepare cohorts for export to FC\n",
    "cohorts = fc_interface.prepare_cohorts_for_metadata_export(paths_to_batches_info, google_bucket_id)"
   ]
  },
  {
   "cell_type": "code",
   "execution_count": 358,
   "metadata": {
    "collapsed": true,
    "editable": false,
    "run_control": {
     "frozen": true
    }
   },
   "outputs": [],
   "source": [
    "# # Delete cohorts\n",
    "# cohort_codes = pd.read_table('cohort_files/cohort_names_dictionary.txt', header=None)\n",
    "# for coh_code in cohort_codes.loc[:, 1].tolist():\n",
    "#     res = fc_interface.delete_sample_set(namespace, workspace, coh_code)"
   ]
  },
  {
   "cell_type": "code",
   "execution_count": 338,
   "metadata": {
    "editable": false,
    "run_control": {
     "frozen": true
    }
   },
   "outputs": [
    {
     "name": "stdout",
     "output_type": "stream",
     "text": [
      "65 Participants in this batch\n",
      "95 Samples in this batch\n"
     ]
    }
   ],
   "source": [
    "# ### Upload metadata for given batch\n",
    "# fc_interface.update_batch_metadata('TSCA21', \\\n",
    "#                                   '/xchip/clf/seq_data/processed_for_fh/tsca21_201708_SN0128552/tsca21_201708_SN0128552.import_samples.txt', \\\n",
    "#                                       paths_to_samples_info, \\\n",
    "#                                         namespace, workspace, google_bucket_id)"
   ]
  },
  {
   "cell_type": "code",
   "execution_count": 361,
   "metadata": {
    "collapsed": true,
    "editable": false,
    "run_control": {
     "frozen": true
    }
   },
   "outputs": [],
   "source": [
    "# Export metadata\n",
    "(r1, r2, r3, r4, r5, r6) = fc_interface.export_batch_metadata_to_fc('TSCA21', namespace, workspace)"
   ]
  },
  {
   "cell_type": "code",
   "execution_count": 359,
   "metadata": {
    "collapsed": true,
    "editable": false,
    "run_control": {
     "frozen": true
    }
   },
   "outputs": [],
   "source": [
    "# Cohorts\n",
    "cohorts = fc_interface.prepare_cohorts_for_metadata_export(paths_to_batches_info, google_bucket_id)"
   ]
  },
  {
   "cell_type": "markdown",
   "metadata": {},
   "source": [
    "---"
   ]
  },
  {
   "cell_type": "markdown",
   "metadata": {},
   "source": [
    "---"
   ]
  },
  {
   "cell_type": "code",
   "execution_count": 5,
   "metadata": {},
   "outputs": [
    {
     "data": {
      "text/html": [
       "<div>\n",
       "<style>\n",
       "    .dataframe thead tr:only-child th {\n",
       "        text-align: right;\n",
       "    }\n",
       "\n",
       "    .dataframe thead th {\n",
       "        text-align: left;\n",
       "    }\n",
       "\n",
       "    .dataframe tbody tr th {\n",
       "        vertical-align: top;\n",
       "    }\n",
       "</style>\n",
       "<table border=\"1\" class=\"dataframe\">\n",
       "  <thead>\n",
       "    <tr style=\"text-align: right;\">\n",
       "      <th></th>\n",
       "      <th>tsca_id</th>\n",
       "      <th>path_to_samples_info</th>\n",
       "    </tr>\n",
       "  </thead>\n",
       "  <tbody>\n",
       "    <tr>\n",
       "      <th>0</th>\n",
       "      <td>TSCA1213</td>\n",
       "      <td>/xchip/clf/seq_data/processed_for_fh/tsca1213_...</td>\n",
       "    </tr>\n",
       "    <tr>\n",
       "      <th>1</th>\n",
       "      <td>TSCA14</td>\n",
       "      <td>/xchip/clf/seq_data/processed_for_fh/tsca14_20...</td>\n",
       "    </tr>\n",
       "    <tr>\n",
       "      <th>2</th>\n",
       "      <td>TSCA15</td>\n",
       "      <td>/xchip/clf/seq_data/processed_for_fh/tsca15_20...</td>\n",
       "    </tr>\n",
       "    <tr>\n",
       "      <th>3</th>\n",
       "      <td>TSCA16</td>\n",
       "      <td>/xchip/clf/seq_data/processed_for_fh/tsca16_20...</td>\n",
       "    </tr>\n",
       "    <tr>\n",
       "      <th>4</th>\n",
       "      <td>TSCA17</td>\n",
       "      <td>/xchip/clf/seq_data/processed_for_fh/tsca17_20...</td>\n",
       "    </tr>\n",
       "    <tr>\n",
       "      <th>5</th>\n",
       "      <td>TSCA18</td>\n",
       "      <td>/xchip/clf/seq_data/processed_for_fh/tsca18_20...</td>\n",
       "    </tr>\n",
       "    <tr>\n",
       "      <th>6</th>\n",
       "      <td>TSCA19</td>\n",
       "      <td>/xchip/clf/seq_data/processed_for_fh/tsca19_20...</td>\n",
       "    </tr>\n",
       "    <tr>\n",
       "      <th>7</th>\n",
       "      <td>TSCA20</td>\n",
       "      <td>/xchip/clf/seq_data/processed_for_fh/tsca20_20...</td>\n",
       "    </tr>\n",
       "    <tr>\n",
       "      <th>8</th>\n",
       "      <td>TSCA21</td>\n",
       "      <td>/xchip/clf/seq_data/processed_for_fh/tsca21_20...</td>\n",
       "    </tr>\n",
       "  </tbody>\n",
       "</table>\n",
       "</div>"
      ],
      "text/plain": [
       "    tsca_id                               path_to_samples_info\n",
       "0  TSCA1213  /xchip/clf/seq_data/processed_for_fh/tsca1213_...\n",
       "1    TSCA14  /xchip/clf/seq_data/processed_for_fh/tsca14_20...\n",
       "2    TSCA15  /xchip/clf/seq_data/processed_for_fh/tsca15_20...\n",
       "3    TSCA16  /xchip/clf/seq_data/processed_for_fh/tsca16_20...\n",
       "4    TSCA17  /xchip/clf/seq_data/processed_for_fh/tsca17_20...\n",
       "5    TSCA18  /xchip/clf/seq_data/processed_for_fh/tsca18_20...\n",
       "6    TSCA19  /xchip/clf/seq_data/processed_for_fh/tsca19_20...\n",
       "7    TSCA20  /xchip/clf/seq_data/processed_for_fh/tsca20_20...\n",
       "8    TSCA21  /xchip/clf/seq_data/processed_for_fh/tsca21_20..."
      ]
     },
     "execution_count": 5,
     "metadata": {},
     "output_type": "execute_result"
    }
   ],
   "source": [
    "batches_info"
   ]
  },
  {
   "cell_type": "code",
   "execution_count": 6,
   "metadata": {
    "collapsed": true
   },
   "outputs": [],
   "source": [
    "paths_to_samples_info = \"paths_to_batches_info.xlsx\""
   ]
  },
  {
   "cell_type": "code",
   "execution_count": 25,
   "metadata": {
    "collapsed": true
   },
   "outputs": [],
   "source": [
    "batch_id='TSCA14'"
   ]
  },
  {
   "cell_type": "code",
   "execution_count": 28,
   "metadata": {},
   "outputs": [],
   "source": [
    "paths_to_samples = pd.read_excel(paths_to_samples_info, index_col=0)\n",
    "path_to_samples_info  = paths_to_samples.loc[batch_id, 'path_to_samples_info']\n",
    "all_samples = pd.read_table(path_to_samples_info)"
   ]
  },
  {
   "cell_type": "code",
   "execution_count": 29,
   "metadata": {},
   "outputs": [],
   "source": [
    "normal_samples = all_samples[all_samples['sample_type'] == \"Normal\"]"
   ]
  },
  {
   "cell_type": "code",
   "execution_count": 36,
   "metadata": {},
   "outputs": [
    {
     "data": {
      "text/html": [
       "<div>\n",
       "<style>\n",
       "    .dataframe thead tr:only-child th {\n",
       "        text-align: right;\n",
       "    }\n",
       "\n",
       "    .dataframe thead th {\n",
       "        text-align: left;\n",
       "    }\n",
       "\n",
       "    .dataframe tbody tr th {\n",
       "        vertical-align: top;\n",
       "    }\n",
       "</style>\n",
       "<table border=\"1\" class=\"dataframe\">\n",
       "  <thead>\n",
       "    <tr style=\"text-align: right;\">\n",
       "      <th></th>\n",
       "      <th>path_to_samples_info</th>\n",
       "    </tr>\n",
       "    <tr>\n",
       "      <th>tsca_id</th>\n",
       "      <th></th>\n",
       "    </tr>\n",
       "  </thead>\n",
       "  <tbody>\n",
       "    <tr>\n",
       "      <th>TSCA1213</th>\n",
       "      <td>/xchip/clf/seq_data/processed_for_fh/tsca1213_...</td>\n",
       "    </tr>\n",
       "    <tr>\n",
       "      <th>TSCA15</th>\n",
       "      <td>/xchip/clf/seq_data/processed_for_fh/tsca15_20...</td>\n",
       "    </tr>\n",
       "    <tr>\n",
       "      <th>TSCA16</th>\n",
       "      <td>/xchip/clf/seq_data/processed_for_fh/tsca16_20...</td>\n",
       "    </tr>\n",
       "    <tr>\n",
       "      <th>TSCA17</th>\n",
       "      <td>/xchip/clf/seq_data/processed_for_fh/tsca17_20...</td>\n",
       "    </tr>\n",
       "    <tr>\n",
       "      <th>TSCA18</th>\n",
       "      <td>/xchip/clf/seq_data/processed_for_fh/tsca18_20...</td>\n",
       "    </tr>\n",
       "    <tr>\n",
       "      <th>TSCA19</th>\n",
       "      <td>/xchip/clf/seq_data/processed_for_fh/tsca19_20...</td>\n",
       "    </tr>\n",
       "    <tr>\n",
       "      <th>TSCA20</th>\n",
       "      <td>/xchip/clf/seq_data/processed_for_fh/tsca20_20...</td>\n",
       "    </tr>\n",
       "    <tr>\n",
       "      <th>TSCA21</th>\n",
       "      <td>/xchip/clf/seq_data/processed_for_fh/tsca21_20...</td>\n",
       "    </tr>\n",
       "  </tbody>\n",
       "</table>\n",
       "</div>"
      ],
      "text/plain": [
       "                                       path_to_samples_info\n",
       "tsca_id                                                    \n",
       "TSCA1213  /xchip/clf/seq_data/processed_for_fh/tsca1213_...\n",
       "TSCA15    /xchip/clf/seq_data/processed_for_fh/tsca15_20...\n",
       "TSCA16    /xchip/clf/seq_data/processed_for_fh/tsca16_20...\n",
       "TSCA17    /xchip/clf/seq_data/processed_for_fh/tsca17_20...\n",
       "TSCA18    /xchip/clf/seq_data/processed_for_fh/tsca18_20...\n",
       "TSCA19    /xchip/clf/seq_data/processed_for_fh/tsca19_20...\n",
       "TSCA20    /xchip/clf/seq_data/processed_for_fh/tsca20_20...\n",
       "TSCA21    /xchip/clf/seq_data/processed_for_fh/tsca21_20..."
      ]
     },
     "execution_count": 36,
     "metadata": {},
     "output_type": "execute_result"
    }
   ],
   "source": [
    "paths_to_samples.loc[~paths_to_samples.index.isin([batch_id])]"
   ]
  },
  {
   "cell_type": "code",
   "execution_count": 46,
   "metadata": {},
   "outputs": [
    {
     "name": "stdout",
     "output_type": "stream",
     "text": [
      "path_to_samples_info    /xchip/clf/seq_data/processed_for_fh/tsca1213_...\n",
      "Name: TSCA1213, dtype: object\n",
      "path_to_samples_info    /xchip/clf/seq_data/processed_for_fh/tsca15_20...\n",
      "Name: TSCA15, dtype: object\n",
      "path_to_samples_info    /xchip/clf/seq_data/processed_for_fh/tsca16_20...\n",
      "Name: TSCA16, dtype: object\n",
      "path_to_samples_info    /xchip/clf/seq_data/processed_for_fh/tsca17_20...\n",
      "Name: TSCA17, dtype: object\n",
      "path_to_samples_info    /xchip/clf/seq_data/processed_for_fh/tsca18_20...\n",
      "Name: TSCA18, dtype: object\n",
      "path_to_samples_info    /xchip/clf/seq_data/processed_for_fh/tsca19_20...\n",
      "Name: TSCA19, dtype: object\n",
      "path_to_samples_info    /xchip/clf/seq_data/processed_for_fh/tsca20_20...\n",
      "Name: TSCA20, dtype: object\n",
      "path_to_samples_info    /xchip/clf/seq_data/processed_for_fh/tsca21_20...\n",
      "Name: TSCA21, dtype: object\n"
     ]
    }
   ],
   "source": [
    "dfs = []\n",
    "for i, row in paths_to_samples.loc[~paths_to_samples.index.isin([batch_id])].iterrows():\n",
    "    print(row)\n",
    "    df_tmp = pd.read_table(row['path_to_samples_info'])\n",
    "    dfs.append(df_tmp)\n",
    "df = pd.concat(dfs, axis=0)"
   ]
  },
  {
   "cell_type": "code",
   "execution_count": 53,
   "metadata": {},
   "outputs": [],
   "source": [
    "paths_to_samples = pd.read_excel(paths_to_samples_info, index_col=0)\n",
    "path_to_samples_info  = paths_to_samples.loc[batch_id, 'path_to_samples_info']\n",
    "all_samples = pd.read_table(path_to_samples_info)\n",
    "normal_samples = all_samples[all_samples['sample_type'] == \"Normal\"]\n",
    "\n",
    "# Iterate over batches except the one in question (to select N random normal samples from them)\n",
    "dfs = []\n",
    "for i, row in paths_to_samples.loc[~paths_to_samples.index.isin([batch_id])].iterrows():\n",
    "    df_tmp = pd.read_table(row['path_to_samples_info'])\n",
    "    dfs.append(df_tmp)\n",
    "df = pd.concat(dfs, axis=0)\n",
    "\n",
    "other_normal_samples = df[df['sample_type'] == \"Normal\"].sample(20)"
   ]
  },
  {
   "cell_type": "code",
   "execution_count": 55,
   "metadata": {},
   "outputs": [
    {
     "data": {
      "text/plain": [
       "Index(['sample_id', 'individual_id', 'clean_bam_file_capture',\n",
       "       'external_id_validation', 'aggregation_product_name_validation',\n",
       "       'bsp_sample_id_validation', 'stock_sample_id_validation', 'sample_type',\n",
       "       'picard_aggregation_type_validation', 'processed_subtype_validation',\n",
       "       'source_subtype_validation', 'squid_sample_id_validation',\n",
       "       'tumor_subtype', 'short_letter_code'],\n",
       "      dtype='object')"
      ]
     },
     "execution_count": 55,
     "metadata": {},
     "output_type": "execute_result"
    }
   ],
   "source": [
    "normal_samples.columns"
   ]
  },
  {
   "cell_type": "code",
   "execution_count": 56,
   "metadata": {},
   "outputs": [
    {
     "data": {
      "text/plain": [
       "Index(['sample_id', 'individual_id', 'clean_bam_file_capture',\n",
       "       'external_id_validation', 'aggregation_product_name_validation',\n",
       "       'bsp_sample_id_validation', 'stock_sample_id_validation', 'sample_type',\n",
       "       'picard_aggregation_type_validation', 'processed_subtype_validation',\n",
       "       'source_subtype_validation', 'squid_sample_id_validation',\n",
       "       'tumor_subtype', 'short_letter_code'],\n",
       "      dtype='object')"
      ]
     },
     "execution_count": 56,
     "metadata": {},
     "output_type": "execute_result"
    }
   ],
   "source": [
    "other_normal_samples.columns"
   ]
  },
  {
   "cell_type": "code",
   "execution_count": 60,
   "metadata": {},
   "outputs": [
    {
     "data": {
      "text/html": [
       "<div>\n",
       "<style>\n",
       "    .dataframe thead tr:only-child th {\n",
       "        text-align: right;\n",
       "    }\n",
       "\n",
       "    .dataframe thead th {\n",
       "        text-align: left;\n",
       "    }\n",
       "\n",
       "    .dataframe tbody tr th {\n",
       "        vertical-align: top;\n",
       "    }\n",
       "</style>\n",
       "<table border=\"1\" class=\"dataframe\">\n",
       "  <thead>\n",
       "    <tr style=\"text-align: right;\">\n",
       "      <th></th>\n",
       "      <th>sample_id</th>\n",
       "      <th>individual_id</th>\n",
       "      <th>clean_bam_file_capture</th>\n",
       "      <th>external_id_validation</th>\n",
       "      <th>aggregation_product_name_validation</th>\n",
       "      <th>bsp_sample_id_validation</th>\n",
       "      <th>stock_sample_id_validation</th>\n",
       "      <th>sample_type</th>\n",
       "      <th>picard_aggregation_type_validation</th>\n",
       "      <th>processed_subtype_validation</th>\n",
       "      <th>source_subtype_validation</th>\n",
       "      <th>squid_sample_id_validation</th>\n",
       "      <th>tumor_subtype</th>\n",
       "      <th>short_letter_code</th>\n",
       "    </tr>\n",
       "  </thead>\n",
       "  <tbody>\n",
       "    <tr>\n",
       "      <th>2</th>\n",
       "      <td>AB056-Normal-SM-DB2JM</td>\n",
       "      <td>AB056</td>\n",
       "      <td>/xchip/clf/seq_data/processed_for_fh/tsca14_20...</td>\n",
       "      <td>AB056N_primary</td>\n",
       "      <td>TSCA Rapid Cancer Detection Panel v2</td>\n",
       "      <td>SM-DB9KT</td>\n",
       "      <td>SM-DB2JM</td>\n",
       "      <td>Normal</td>\n",
       "      <td>PCR</td>\n",
       "      <td>Tissue:Tissue Lysate/Homogenate</td>\n",
       "      <td>Tissue:Fresh Tissue</td>\n",
       "      <td>AB056N_primary</td>\n",
       "      <td>Primary</td>\n",
       "      <td>NDNA</td>\n",
       "    </tr>\n",
       "    <tr>\n",
       "      <th>33</th>\n",
       "      <td>EH016-Normal-SM-DB2JP</td>\n",
       "      <td>EH016</td>\n",
       "      <td>/xchip/clf/seq_data/processed_for_fh/tsca14_20...</td>\n",
       "      <td>EH016N_RETM_15FBS_p5</td>\n",
       "      <td>TSCA Rapid Cancer Detection Panel v2</td>\n",
       "      <td>SM-DB9KW</td>\n",
       "      <td>SM-DB2JP</td>\n",
       "      <td>Normal</td>\n",
       "      <td>PCR</td>\n",
       "      <td>Cells:Pellet frozen</td>\n",
       "      <td>Cells:Cell Line, Viable</td>\n",
       "      <td>EH016N_RETM_15FBS_p5</td>\n",
       "      <td>NaN</td>\n",
       "      <td>NCELL</td>\n",
       "    </tr>\n",
       "    <tr>\n",
       "      <th>36</th>\n",
       "      <td>EH019-Normal-SM-DB2J3</td>\n",
       "      <td>EH019</td>\n",
       "      <td>/xchip/clf/seq_data/processed_for_fh/tsca14_20...</td>\n",
       "      <td>EH019N_primary</td>\n",
       "      <td>TSCA Rapid Cancer Detection Panel v2</td>\n",
       "      <td>SM-DB9KA</td>\n",
       "      <td>SM-DB2J3</td>\n",
       "      <td>Normal</td>\n",
       "      <td>PCR</td>\n",
       "      <td>Tissue:Tissue Lysate/Homogenate</td>\n",
       "      <td>Tissue:Fresh Tissue</td>\n",
       "      <td>EH019N_primary</td>\n",
       "      <td>NaN</td>\n",
       "      <td>NDNA</td>\n",
       "    </tr>\n",
       "    <tr>\n",
       "      <th>38</th>\n",
       "      <td>EH020-Normal-SM-DB2IQ</td>\n",
       "      <td>EH020</td>\n",
       "      <td>/xchip/clf/seq_data/processed_for_fh/tsca14_20...</td>\n",
       "      <td>EH020N_primary</td>\n",
       "      <td>TSCA Rapid Cancer Detection Panel v2</td>\n",
       "      <td>SM-DB9JX</td>\n",
       "      <td>SM-DB2IQ</td>\n",
       "      <td>Normal</td>\n",
       "      <td>PCR</td>\n",
       "      <td>Tissue:Tissue Lysate/Homogenate</td>\n",
       "      <td>Tissue:Fresh Tissue</td>\n",
       "      <td>EH020N_primary</td>\n",
       "      <td>NaN</td>\n",
       "      <td>NDNA</td>\n",
       "    </tr>\n",
       "    <tr>\n",
       "      <th>45</th>\n",
       "      <td>JL58-Normal-SM-DB2JJ</td>\n",
       "      <td>JL58</td>\n",
       "      <td>/xchip/clf/seq_data/processed_for_fh/tsca14_20...</td>\n",
       "      <td>JL58N_RETM_p5</td>\n",
       "      <td>TSCA Rapid Cancer Detection Panel v2</td>\n",
       "      <td>SM-DB9KQ</td>\n",
       "      <td>SM-DB2JJ</td>\n",
       "      <td>Normal</td>\n",
       "      <td>PCR</td>\n",
       "      <td>Cells:Pellet frozen</td>\n",
       "      <td>Cells:Cell Line, Viable</td>\n",
       "      <td>JL58N_RETM_p5</td>\n",
       "      <td>NaN</td>\n",
       "      <td>NCELL</td>\n",
       "    </tr>\n",
       "    <tr>\n",
       "      <th>48</th>\n",
       "      <td>JL59-Normal-SM-DB2J6</td>\n",
       "      <td>JL59</td>\n",
       "      <td>/xchip/clf/seq_data/processed_for_fh/tsca14_20...</td>\n",
       "      <td>JL59N_primary</td>\n",
       "      <td>TSCA Rapid Cancer Detection Panel v2</td>\n",
       "      <td>SM-DB9KD</td>\n",
       "      <td>SM-DB2J6</td>\n",
       "      <td>Normal</td>\n",
       "      <td>PCR</td>\n",
       "      <td>Tissue:Tissue Lysate/Homogenate</td>\n",
       "      <td>Tissue:Fresh Tissue</td>\n",
       "      <td>JL59N_primary</td>\n",
       "      <td>NaN</td>\n",
       "      <td>NDNA</td>\n",
       "    </tr>\n",
       "    <tr>\n",
       "      <th>50</th>\n",
       "      <td>JL61-Normal-SM-DB2JI</td>\n",
       "      <td>JL61</td>\n",
       "      <td>/xchip/clf/seq_data/processed_for_fh/tsca14_20...</td>\n",
       "      <td>JL61N_primary</td>\n",
       "      <td>TSCA Rapid Cancer Detection Panel v2</td>\n",
       "      <td>SM-DB9KP</td>\n",
       "      <td>SM-DB2JI</td>\n",
       "      <td>Normal</td>\n",
       "      <td>PCR</td>\n",
       "      <td>Tissue:Tissue Lysate/Homogenate</td>\n",
       "      <td>Tissue:Fresh Tissue</td>\n",
       "      <td>JL61N_primary</td>\n",
       "      <td>NaN</td>\n",
       "      <td>NDNA</td>\n",
       "    </tr>\n",
       "    <tr>\n",
       "      <th>57</th>\n",
       "      <td>PEDS153-Normal-SM-DB2IU</td>\n",
       "      <td>PEDS153</td>\n",
       "      <td>/xchip/clf/seq_data/processed_for_fh/tsca14_20...</td>\n",
       "      <td>PEDS153N_2_RETM_p10</td>\n",
       "      <td>TSCA Rapid Cancer Detection Panel v2</td>\n",
       "      <td>SM-DB9K2</td>\n",
       "      <td>SM-DB2IU</td>\n",
       "      <td>Normal</td>\n",
       "      <td>PCR</td>\n",
       "      <td>Cells:Pellet frozen</td>\n",
       "      <td>Cells:Cell Line, Viable</td>\n",
       "      <td>PEDS153N_2_RETM_p10</td>\n",
       "      <td>NaN</td>\n",
       "      <td>NCELL</td>\n",
       "    </tr>\n",
       "    <tr>\n",
       "      <th>59</th>\n",
       "      <td>PEDS157-Normal-SM-DB2I6</td>\n",
       "      <td>PEDS157</td>\n",
       "      <td>/xchip/clf/seq_data/processed_for_fh/tsca14_20...</td>\n",
       "      <td>PEDS157N_AR5_p5</td>\n",
       "      <td>TSCA Rapid Cancer Detection Panel v2</td>\n",
       "      <td>SM-DB9JD</td>\n",
       "      <td>SM-DB2I6</td>\n",
       "      <td>Normal</td>\n",
       "      <td>PCR</td>\n",
       "      <td>Cells:Pellet frozen</td>\n",
       "      <td>Cells:Cell Line, Viable</td>\n",
       "      <td>PEDS157N_AR5_p5</td>\n",
       "      <td>NaN</td>\n",
       "      <td>NCELL</td>\n",
       "    </tr>\n",
       "    <tr>\n",
       "      <th>62</th>\n",
       "      <td>PEDS160-Normal-SM-DB2HU</td>\n",
       "      <td>PEDS160</td>\n",
       "      <td>/xchip/clf/seq_data/processed_for_fh/tsca14_20...</td>\n",
       "      <td>PEDS160N_CM_p10</td>\n",
       "      <td>TSCA Rapid Cancer Detection Panel v2</td>\n",
       "      <td>SM-DB9J2</td>\n",
       "      <td>SM-DB2HU</td>\n",
       "      <td>Normal</td>\n",
       "      <td>PCR</td>\n",
       "      <td>Cells:Pellet frozen</td>\n",
       "      <td>Cells:Cell Line, Viable</td>\n",
       "      <td>PEDS160N_CM_p10</td>\n",
       "      <td>NaN</td>\n",
       "      <td>NCELL</td>\n",
       "    </tr>\n",
       "    <tr>\n",
       "      <th>65</th>\n",
       "      <td>PEDS166-Normal-SM-DB2I5</td>\n",
       "      <td>PEDS166</td>\n",
       "      <td>/xchip/clf/seq_data/processed_for_fh/tsca14_20...</td>\n",
       "      <td>PEDS166N_1_SMGM_HYPOXIA_p5</td>\n",
       "      <td>TSCA Rapid Cancer Detection Panel v2</td>\n",
       "      <td>SM-DB9JC</td>\n",
       "      <td>SM-DB2I5</td>\n",
       "      <td>Normal</td>\n",
       "      <td>PCR</td>\n",
       "      <td>Cells:Pellet frozen</td>\n",
       "      <td>Cells:Cell Line, Viable</td>\n",
       "      <td>PEDS166N_1_SMGM_HYPOXIA_p5</td>\n",
       "      <td>NaN</td>\n",
       "      <td>NCELL</td>\n",
       "    </tr>\n",
       "    <tr>\n",
       "      <th>72</th>\n",
       "      <td>PEDS175-Normal-SM-DB2IZ</td>\n",
       "      <td>PEDS175</td>\n",
       "      <td>/xchip/clf/seq_data/processed_for_fh/tsca14_20...</td>\n",
       "      <td>PEDS175N_CM_p7</td>\n",
       "      <td>TSCA Rapid Cancer Detection Panel v2</td>\n",
       "      <td>SM-DB9K7</td>\n",
       "      <td>SM-DB2IZ</td>\n",
       "      <td>Normal</td>\n",
       "      <td>PCR</td>\n",
       "      <td>Cells:Pellet frozen</td>\n",
       "      <td>Cells:Cell Line, Viable</td>\n",
       "      <td>PEDS175N_CM_p7</td>\n",
       "      <td>NaN</td>\n",
       "      <td>NCELL</td>\n",
       "    </tr>\n",
       "    <tr>\n",
       "      <th>74</th>\n",
       "      <td>PEDS176-Normal-SM-DB2J8</td>\n",
       "      <td>PEDS176</td>\n",
       "      <td>/xchip/clf/seq_data/processed_for_fh/tsca14_20...</td>\n",
       "      <td>PEDS176N_CM_p5</td>\n",
       "      <td>TSCA Rapid Cancer Detection Panel v2</td>\n",
       "      <td>SM-DB9KF</td>\n",
       "      <td>SM-DB2J8</td>\n",
       "      <td>Normal</td>\n",
       "      <td>PCR</td>\n",
       "      <td>Cells:Pellet frozen</td>\n",
       "      <td>Cells:Cell Line, Viable</td>\n",
       "      <td>PEDS176N_CM_p5</td>\n",
       "      <td>NaN</td>\n",
       "      <td>NCELL</td>\n",
       "    </tr>\n",
       "    <tr>\n",
       "      <th>78</th>\n",
       "      <td>PEDS177-Normal-SM-DB2IV</td>\n",
       "      <td>PEDS177</td>\n",
       "      <td>/xchip/clf/seq_data/processed_for_fh/tsca14_20...</td>\n",
       "      <td>PEDS177N_CM_p5</td>\n",
       "      <td>TSCA Rapid Cancer Detection Panel v2</td>\n",
       "      <td>SM-DB9K3</td>\n",
       "      <td>SM-DB2IV</td>\n",
       "      <td>Normal</td>\n",
       "      <td>PCR</td>\n",
       "      <td>Cells:Pellet frozen</td>\n",
       "      <td>Cells:Cell Line, Viable</td>\n",
       "      <td>PEDS177N_CM_p5</td>\n",
       "      <td>NaN</td>\n",
       "      <td>NCELL</td>\n",
       "    </tr>\n",
       "    <tr>\n",
       "      <th>83</th>\n",
       "      <td>PEDS194-Normal-SM-DB2IW</td>\n",
       "      <td>PEDS194</td>\n",
       "      <td>/xchip/clf/seq_data/processed_for_fh/tsca14_20...</td>\n",
       "      <td>PEDS194N_primary</td>\n",
       "      <td>TSCA Rapid Cancer Detection Panel v2</td>\n",
       "      <td>SM-DB9K4</td>\n",
       "      <td>SM-DB2IW</td>\n",
       "      <td>Normal</td>\n",
       "      <td>PCR</td>\n",
       "      <td>Tissue:Tissue Lysate/Homogenate</td>\n",
       "      <td>Tissue:Fresh Tissue</td>\n",
       "      <td>PEDS194N_primary</td>\n",
       "      <td>NaN</td>\n",
       "      <td>NDNA</td>\n",
       "    </tr>\n",
       "    <tr>\n",
       "      <th>87</th>\n",
       "      <td>PEDS199-Normal-SM-DB2K9</td>\n",
       "      <td>PEDS199</td>\n",
       "      <td>/xchip/clf/seq_data/processed_for_fh/tsca14_20...</td>\n",
       "      <td>PEDS199N_primary</td>\n",
       "      <td>TSCA Rapid Cancer Detection Panel v2</td>\n",
       "      <td>SM-DB9LG</td>\n",
       "      <td>SM-DB2K9</td>\n",
       "      <td>Normal</td>\n",
       "      <td>PCR</td>\n",
       "      <td>Tissue:Tissue Lysate/Homogenate</td>\n",
       "      <td>Tissue:Fresh Tissue</td>\n",
       "      <td>PEDS199N_primary</td>\n",
       "      <td>NaN</td>\n",
       "      <td>NDNA</td>\n",
       "    </tr>\n",
       "    <tr>\n",
       "      <th>62</th>\n",
       "      <td>EH022-Normal-SM-DHZ97</td>\n",
       "      <td>EH022</td>\n",
       "      <td>/xchip/clf/seq_data/processed_for_fh/tsca15_20...</td>\n",
       "      <td>EH022N_RETM_p2</td>\n",
       "      <td>TSCA Rapid Cancer Detection Panel v2</td>\n",
       "      <td>SM-DHZ97</td>\n",
       "      <td>SM-DHNB5</td>\n",
       "      <td>Normal</td>\n",
       "      <td>PCR</td>\n",
       "      <td>Cells:Pellet frozen</td>\n",
       "      <td>Tissue:Fresh Tissue</td>\n",
       "      <td>EH022N_RETM_p2</td>\n",
       "      <td>NaN</td>\n",
       "      <td>NDNA</td>\n",
       "    </tr>\n",
       "    <tr>\n",
       "      <th>165</th>\n",
       "      <td>PEDS166-Normal-SM-D4L3H</td>\n",
       "      <td>PEDS166</td>\n",
       "      <td>/xchip/clf/seq_data/processed_for_fh/tsca1213_...</td>\n",
       "      <td>PEDS166N_1_SMGM_p5</td>\n",
       "      <td>TSCA Rapid Cancer Detection Panel v2</td>\n",
       "      <td>SM-D59JH</td>\n",
       "      <td>SM-D4L3H</td>\n",
       "      <td>Normal</td>\n",
       "      <td>PCR</td>\n",
       "      <td>Cells:Pellet frozen</td>\n",
       "      <td>Cells:Cell Line, Viable</td>\n",
       "      <td>PEDS166N_1_SMGM_p5</td>\n",
       "      <td>NaN</td>\n",
       "      <td>NCELL</td>\n",
       "    </tr>\n",
       "    <tr>\n",
       "      <th>65</th>\n",
       "      <td>CCLF_PEDS1037-Normal-SM-F67FW</td>\n",
       "      <td>CCLF_PEDS1037</td>\n",
       "      <td>/xchip/clf/seq_data/processed_for_fh/tsca20_20...</td>\n",
       "      <td>CCLF_PEDS1037N_Primary</td>\n",
       "      <td>TSCA Rapid Cancer Detection Panel v2</td>\n",
       "      <td>SM-F67FW</td>\n",
       "      <td>SM-F64PF</td>\n",
       "      <td>Normal</td>\n",
       "      <td>PCR</td>\n",
       "      <td>DNA:DNA Somatic</td>\n",
       "      <td>Tissue:Fresh Tissue</td>\n",
       "      <td>CCLF_PEDS1037N_Primary</td>\n",
       "      <td>Primary</td>\n",
       "      <td>NDNA</td>\n",
       "    </tr>\n",
       "    <tr>\n",
       "      <th>105</th>\n",
       "      <td>PEDS162-Normal-SM-DHZ7Y</td>\n",
       "      <td>PEDS162</td>\n",
       "      <td>/xchip/clf/seq_data/processed_for_fh/tsca15_20...</td>\n",
       "      <td>PEDS162N_RETM_p8</td>\n",
       "      <td>TSCA Rapid Cancer Detection Panel v2</td>\n",
       "      <td>SM-DHZ7Y</td>\n",
       "      <td>SM-DHNA3</td>\n",
       "      <td>Normal</td>\n",
       "      <td>PCR</td>\n",
       "      <td>Cells:Pellet frozen</td>\n",
       "      <td>Cells:Cell Line, Viable</td>\n",
       "      <td>PEDS162N_RETM_p8</td>\n",
       "      <td>NaN</td>\n",
       "      <td>NCELL</td>\n",
       "    </tr>\n",
       "    <tr>\n",
       "      <th>84</th>\n",
       "      <td>JL62-Normal-SM-DHZ6L</td>\n",
       "      <td>JL62</td>\n",
       "      <td>/xchip/clf/seq_data/processed_for_fh/tsca15_20...</td>\n",
       "      <td>JL62N_primary</td>\n",
       "      <td>TSCA Rapid Cancer Detection Panel v2</td>\n",
       "      <td>SM-DHZ6L</td>\n",
       "      <td>SM-DHJNF</td>\n",
       "      <td>Normal</td>\n",
       "      <td>PCR</td>\n",
       "      <td>DNA:DNA Somatic</td>\n",
       "      <td>Tissue:Fresh Tissue</td>\n",
       "      <td>JL62N_primary</td>\n",
       "      <td>NaN</td>\n",
       "      <td>NDNA</td>\n",
       "    </tr>\n",
       "    <tr>\n",
       "      <th>72</th>\n",
       "      <td>PEDS187-Normal-SM-E7S1S</td>\n",
       "      <td>PEDS187</td>\n",
       "      <td>/xchip/clf/seq_data/processed_for_fh/tsca17_20...</td>\n",
       "      <td>PEDS187N_CM_p8</td>\n",
       "      <td>TSCA Rapid Cancer Detection Panel v2</td>\n",
       "      <td>SM-E7S1S</td>\n",
       "      <td>SM-E77BF</td>\n",
       "      <td>Normal</td>\n",
       "      <td>PCR</td>\n",
       "      <td>DNA:DNA Somatic</td>\n",
       "      <td>Cells:Cell Line, Viable</td>\n",
       "      <td>PEDS187N_CM_p8</td>\n",
       "      <td>NaN</td>\n",
       "      <td>NCELL</td>\n",
       "    </tr>\n",
       "    <tr>\n",
       "      <th>165</th>\n",
       "      <td>PEDS207-Normal-SM-DHZ6C</td>\n",
       "      <td>PEDS207</td>\n",
       "      <td>/xchip/clf/seq_data/processed_for_fh/tsca15_20...</td>\n",
       "      <td>PEDS207N_primary</td>\n",
       "      <td>TSCA Rapid Cancer Detection Panel v2</td>\n",
       "      <td>SM-DHZ6C</td>\n",
       "      <td>SM-DHJN6</td>\n",
       "      <td>Normal</td>\n",
       "      <td>PCR</td>\n",
       "      <td>DNA:DNA Somatic</td>\n",
       "      <td>Tissue:Fresh Tissue</td>\n",
       "      <td>PEDS207N_primary</td>\n",
       "      <td>NaN</td>\n",
       "      <td>NDNA</td>\n",
       "    </tr>\n",
       "    <tr>\n",
       "      <th>97</th>\n",
       "      <td>CCLF_PEDS1002-Normal-SM-DHZ7F</td>\n",
       "      <td>CCLF_PEDS1002</td>\n",
       "      <td>/xchip/clf/seq_data/processed_for_fh/tsca15_20...</td>\n",
       "      <td>PEDS1002N_primary</td>\n",
       "      <td>TSCA Rapid Cancer Detection Panel v2</td>\n",
       "      <td>SM-DHZ7F</td>\n",
       "      <td>SM-DHJO9</td>\n",
       "      <td>Normal</td>\n",
       "      <td>PCR</td>\n",
       "      <td>DNA:DNA Somatic</td>\n",
       "      <td>Tissue:Fresh Tissue</td>\n",
       "      <td>PEDS1002N_primary</td>\n",
       "      <td>NaN</td>\n",
       "      <td>NDNA</td>\n",
       "    </tr>\n",
       "    <tr>\n",
       "      <th>38</th>\n",
       "      <td>EH015-Normal-SM-D4L38</td>\n",
       "      <td>EH015</td>\n",
       "      <td>/xchip/clf/seq_data/processed_for_fh/tsca1213_...</td>\n",
       "      <td>EH015N_RETM_p5</td>\n",
       "      <td>TSCA Rapid Cancer Detection Panel v2</td>\n",
       "      <td>SM-D59J7</td>\n",
       "      <td>SM-D4L38</td>\n",
       "      <td>Normal</td>\n",
       "      <td>PCR</td>\n",
       "      <td>Cells:Pellet frozen</td>\n",
       "      <td>Cells:Cell Line, Viable</td>\n",
       "      <td>EH015N_RETM_p5</td>\n",
       "      <td>NaN</td>\n",
       "      <td>NCELL</td>\n",
       "    </tr>\n",
       "    <tr>\n",
       "      <th>78</th>\n",
       "      <td>PEDS199-Normal-SM-E7S1P</td>\n",
       "      <td>PEDS199</td>\n",
       "      <td>/xchip/clf/seq_data/processed_for_fh/tsca17_20...</td>\n",
       "      <td>PEDS199N_RETM_p5_Repeat</td>\n",
       "      <td>TSCA Rapid Cancer Detection Panel v2</td>\n",
       "      <td>SM-E7S1P</td>\n",
       "      <td>SM-DNULP</td>\n",
       "      <td>Normal</td>\n",
       "      <td>PCR</td>\n",
       "      <td>DNA:DNA Somatic</td>\n",
       "      <td>Cells:Cell Line, Viable</td>\n",
       "      <td>PEDS199N_RETM_p5_Repeat</td>\n",
       "      <td>NaN</td>\n",
       "      <td>NCELL</td>\n",
       "    </tr>\n",
       "    <tr>\n",
       "      <th>138</th>\n",
       "      <td>PEDS194-Normal-SM-DHZ7O</td>\n",
       "      <td>PEDS194</td>\n",
       "      <td>/xchip/clf/seq_data/processed_for_fh/tsca15_20...</td>\n",
       "      <td>PEDS194N_CM_p5</td>\n",
       "      <td>TSCA Rapid Cancer Detection Panel v2</td>\n",
       "      <td>SM-DHZ7O</td>\n",
       "      <td>SM-DHN9U</td>\n",
       "      <td>Normal</td>\n",
       "      <td>PCR</td>\n",
       "      <td>Cells:Pellet frozen</td>\n",
       "      <td>Cells:Cell Line, Viable</td>\n",
       "      <td>PEDS194N_CM_p5</td>\n",
       "      <td>NaN</td>\n",
       "      <td>NCELL</td>\n",
       "    </tr>\n",
       "    <tr>\n",
       "      <th>171</th>\n",
       "      <td>CCLF_RCRF004-Normal-SM-DHZ5M</td>\n",
       "      <td>CCLF_RCRF004</td>\n",
       "      <td>/xchip/clf/seq_data/processed_for_fh/tsca15_20...</td>\n",
       "      <td>RCRF004N_primary</td>\n",
       "      <td>TSCA Rapid Cancer Detection Panel v2</td>\n",
       "      <td>SM-DHZ5M</td>\n",
       "      <td>SM-DHJMG</td>\n",
       "      <td>Normal</td>\n",
       "      <td>PCR</td>\n",
       "      <td>DNA:DNA Somatic</td>\n",
       "      <td>Cells:Cell Line, Viable</td>\n",
       "      <td>RCRF004N_primary</td>\n",
       "      <td>NaN</td>\n",
       "      <td>NCELL</td>\n",
       "    </tr>\n",
       "    <tr>\n",
       "      <th>64</th>\n",
       "      <td>CCLF_RCRF1016-Normal-SM-GBJBK</td>\n",
       "      <td>CCLF_RCRF1016</td>\n",
       "      <td>/xchip/clf/seq_data/processed_for_fh/tsca21_20...</td>\n",
       "      <td>CCLF_RCRF1016N_Primary</td>\n",
       "      <td>TSCA Rapid Cancer Detection Panel v2</td>\n",
       "      <td>SM-GBJBK</td>\n",
       "      <td>SM-GB4DI</td>\n",
       "      <td>Normal</td>\n",
       "      <td>PCR</td>\n",
       "      <td>DNA:DNA Somatic</td>\n",
       "      <td>Tissue:Fresh Tissue</td>\n",
       "      <td>CCLF_RCRF1016N_Primary</td>\n",
       "      <td>NaN</td>\n",
       "      <td>NDNA</td>\n",
       "    </tr>\n",
       "    <tr>\n",
       "      <th>44</th>\n",
       "      <td>EH016-Normal-SM-DHZ61</td>\n",
       "      <td>EH016</td>\n",
       "      <td>/xchip/clf/seq_data/processed_for_fh/tsca15_20...</td>\n",
       "      <td>EH016N_M87_p5</td>\n",
       "      <td>TSCA Rapid Cancer Detection Panel v2</td>\n",
       "      <td>SM-DHZ61</td>\n",
       "      <td>SM-DHJMU</td>\n",
       "      <td>Normal</td>\n",
       "      <td>PCR</td>\n",
       "      <td>DNA:DNA Somatic</td>\n",
       "      <td>Cells:Cell Line, Viable</td>\n",
       "      <td>EH016N_M87_p5</td>\n",
       "      <td>NaN</td>\n",
       "      <td>NCELL</td>\n",
       "    </tr>\n",
       "    <tr>\n",
       "      <th>172</th>\n",
       "      <td>PEDS171-Normal-SM-D4L1V</td>\n",
       "      <td>PEDS171</td>\n",
       "      <td>/xchip/clf/seq_data/processed_for_fh/tsca1213_...</td>\n",
       "      <td>PEDS171N_RETM_p7</td>\n",
       "      <td>TSCA Rapid Cancer Detection Panel v2</td>\n",
       "      <td>SM-D59HS</td>\n",
       "      <td>SM-D4L1V</td>\n",
       "      <td>Normal</td>\n",
       "      <td>PCR</td>\n",
       "      <td>Cells:Pellet frozen</td>\n",
       "      <td>Cells:Cell Line, Viable</td>\n",
       "      <td>PEDS171N_RETM_p7</td>\n",
       "      <td>NaN</td>\n",
       "      <td>NCELL</td>\n",
       "    </tr>\n",
       "    <tr>\n",
       "      <th>21</th>\n",
       "      <td>CCLF_PEDS1033-Normal-SM-F29SD</td>\n",
       "      <td>CCLF_PEDS1033</td>\n",
       "      <td>/xchip/clf/seq_data/processed_for_fh/tsca19_20...</td>\n",
       "      <td>CCLF_PEDS1033N_CM_p2</td>\n",
       "      <td>TSCA Rapid Cancer Detection Panel v2</td>\n",
       "      <td>SM-F29SD</td>\n",
       "      <td>SM-F21OD</td>\n",
       "      <td>Normal</td>\n",
       "      <td>PCR</td>\n",
       "      <td>DNA:DNA Somatic</td>\n",
       "      <td>Tissue:Fresh Tissue</td>\n",
       "      <td>CCLF_PEDS1033N_CM_p2</td>\n",
       "      <td>NaN</td>\n",
       "      <td>NDNA</td>\n",
       "    </tr>\n",
       "    <tr>\n",
       "      <th>56</th>\n",
       "      <td>CCLF_PEDS1026-Normal-SM-EUVHW</td>\n",
       "      <td>CCLF_PEDS1026</td>\n",
       "      <td>/xchip/clf/seq_data/processed_for_fh/tsca18_20...</td>\n",
       "      <td>CCLF_PEDS1026N_Tissue</td>\n",
       "      <td>TSCA Rapid Cancer Detection Panel v2</td>\n",
       "      <td>SM-EUVHW</td>\n",
       "      <td>SM-EUSBN</td>\n",
       "      <td>Normal</td>\n",
       "      <td>PCR</td>\n",
       "      <td>DNA:DNA Somatic</td>\n",
       "      <td>Tissue:Fresh Tissue</td>\n",
       "      <td>CCLF_PEDS1026N_Tissue</td>\n",
       "      <td>Metastatic</td>\n",
       "      <td>NDNA</td>\n",
       "    </tr>\n",
       "    <tr>\n",
       "      <th>43</th>\n",
       "      <td>EH016-Normal-SM-DHZ5Q</td>\n",
       "      <td>EH016</td>\n",
       "      <td>/xchip/clf/seq_data/processed_for_fh/tsca15_20...</td>\n",
       "      <td>EH016N_CM_p5</td>\n",
       "      <td>TSCA Rapid Cancer Detection Panel v2</td>\n",
       "      <td>SM-DHZ5Q</td>\n",
       "      <td>SM-DHJMK</td>\n",
       "      <td>Normal</td>\n",
       "      <td>PCR</td>\n",
       "      <td>DNA:DNA Somatic</td>\n",
       "      <td>Cells:Cell Line, Viable</td>\n",
       "      <td>EH016N_CM_p5</td>\n",
       "      <td>NaN</td>\n",
       "      <td>NCELL</td>\n",
       "    </tr>\n",
       "    <tr>\n",
       "      <th>185</th>\n",
       "      <td>TC007-Normal-SM-DHZ6S</td>\n",
       "      <td>TC007</td>\n",
       "      <td>/xchip/clf/seq_data/processed_for_fh/tsca15_20...</td>\n",
       "      <td>TC007N_primary</td>\n",
       "      <td>TSCA Rapid Cancer Detection Panel v2</td>\n",
       "      <td>SM-DHZ6S</td>\n",
       "      <td>SM-DHOHR</td>\n",
       "      <td>Normal</td>\n",
       "      <td>PCR</td>\n",
       "      <td>DNA:DNA Somatic</td>\n",
       "      <td>Tissue:Fresh Tissue</td>\n",
       "      <td>TC007N_primary</td>\n",
       "      <td>NaN</td>\n",
       "      <td>NDNA</td>\n",
       "    </tr>\n",
       "    <tr>\n",
       "      <th>51</th>\n",
       "      <td>CCLF_PEDS1021-Normal-SM-E7RZX</td>\n",
       "      <td>CCLF_PEDS1021</td>\n",
       "      <td>/xchip/clf/seq_data/processed_for_fh/tsca17_20...</td>\n",
       "      <td>CCLF_PEDS1021N_primary</td>\n",
       "      <td>TSCA Rapid Cancer Detection Panel v2</td>\n",
       "      <td>SM-E7RZX</td>\n",
       "      <td>SM-E77AN</td>\n",
       "      <td>Normal</td>\n",
       "      <td>PCR</td>\n",
       "      <td>DNA:DNA Somatic</td>\n",
       "      <td>Tissue:Fresh Tissue</td>\n",
       "      <td>CCLF_PEDS1021N_primary</td>\n",
       "      <td>NaN</td>\n",
       "      <td>NDNA</td>\n",
       "    </tr>\n",
       "  </tbody>\n",
       "</table>\n",
       "</div>"
      ],
      "text/plain": [
       "                         sample_id  individual_id  \\\n",
       "2            AB056-Normal-SM-DB2JM          AB056   \n",
       "33           EH016-Normal-SM-DB2JP          EH016   \n",
       "36           EH019-Normal-SM-DB2J3          EH019   \n",
       "38           EH020-Normal-SM-DB2IQ          EH020   \n",
       "45            JL58-Normal-SM-DB2JJ           JL58   \n",
       "48            JL59-Normal-SM-DB2J6           JL59   \n",
       "50            JL61-Normal-SM-DB2JI           JL61   \n",
       "57         PEDS153-Normal-SM-DB2IU        PEDS153   \n",
       "59         PEDS157-Normal-SM-DB2I6        PEDS157   \n",
       "62         PEDS160-Normal-SM-DB2HU        PEDS160   \n",
       "65         PEDS166-Normal-SM-DB2I5        PEDS166   \n",
       "72         PEDS175-Normal-SM-DB2IZ        PEDS175   \n",
       "74         PEDS176-Normal-SM-DB2J8        PEDS176   \n",
       "78         PEDS177-Normal-SM-DB2IV        PEDS177   \n",
       "83         PEDS194-Normal-SM-DB2IW        PEDS194   \n",
       "87         PEDS199-Normal-SM-DB2K9        PEDS199   \n",
       "62           EH022-Normal-SM-DHZ97          EH022   \n",
       "165        PEDS166-Normal-SM-D4L3H        PEDS166   \n",
       "65   CCLF_PEDS1037-Normal-SM-F67FW  CCLF_PEDS1037   \n",
       "105        PEDS162-Normal-SM-DHZ7Y        PEDS162   \n",
       "84            JL62-Normal-SM-DHZ6L           JL62   \n",
       "72         PEDS187-Normal-SM-E7S1S        PEDS187   \n",
       "165        PEDS207-Normal-SM-DHZ6C        PEDS207   \n",
       "97   CCLF_PEDS1002-Normal-SM-DHZ7F  CCLF_PEDS1002   \n",
       "38           EH015-Normal-SM-D4L38          EH015   \n",
       "78         PEDS199-Normal-SM-E7S1P        PEDS199   \n",
       "138        PEDS194-Normal-SM-DHZ7O        PEDS194   \n",
       "171   CCLF_RCRF004-Normal-SM-DHZ5M   CCLF_RCRF004   \n",
       "64   CCLF_RCRF1016-Normal-SM-GBJBK  CCLF_RCRF1016   \n",
       "44           EH016-Normal-SM-DHZ61          EH016   \n",
       "172        PEDS171-Normal-SM-D4L1V        PEDS171   \n",
       "21   CCLF_PEDS1033-Normal-SM-F29SD  CCLF_PEDS1033   \n",
       "56   CCLF_PEDS1026-Normal-SM-EUVHW  CCLF_PEDS1026   \n",
       "43           EH016-Normal-SM-DHZ5Q          EH016   \n",
       "185          TC007-Normal-SM-DHZ6S          TC007   \n",
       "51   CCLF_PEDS1021-Normal-SM-E7RZX  CCLF_PEDS1021   \n",
       "\n",
       "                                clean_bam_file_capture  \\\n",
       "2    /xchip/clf/seq_data/processed_for_fh/tsca14_20...   \n",
       "33   /xchip/clf/seq_data/processed_for_fh/tsca14_20...   \n",
       "36   /xchip/clf/seq_data/processed_for_fh/tsca14_20...   \n",
       "38   /xchip/clf/seq_data/processed_for_fh/tsca14_20...   \n",
       "45   /xchip/clf/seq_data/processed_for_fh/tsca14_20...   \n",
       "48   /xchip/clf/seq_data/processed_for_fh/tsca14_20...   \n",
       "50   /xchip/clf/seq_data/processed_for_fh/tsca14_20...   \n",
       "57   /xchip/clf/seq_data/processed_for_fh/tsca14_20...   \n",
       "59   /xchip/clf/seq_data/processed_for_fh/tsca14_20...   \n",
       "62   /xchip/clf/seq_data/processed_for_fh/tsca14_20...   \n",
       "65   /xchip/clf/seq_data/processed_for_fh/tsca14_20...   \n",
       "72   /xchip/clf/seq_data/processed_for_fh/tsca14_20...   \n",
       "74   /xchip/clf/seq_data/processed_for_fh/tsca14_20...   \n",
       "78   /xchip/clf/seq_data/processed_for_fh/tsca14_20...   \n",
       "83   /xchip/clf/seq_data/processed_for_fh/tsca14_20...   \n",
       "87   /xchip/clf/seq_data/processed_for_fh/tsca14_20...   \n",
       "62   /xchip/clf/seq_data/processed_for_fh/tsca15_20...   \n",
       "165  /xchip/clf/seq_data/processed_for_fh/tsca1213_...   \n",
       "65   /xchip/clf/seq_data/processed_for_fh/tsca20_20...   \n",
       "105  /xchip/clf/seq_data/processed_for_fh/tsca15_20...   \n",
       "84   /xchip/clf/seq_data/processed_for_fh/tsca15_20...   \n",
       "72   /xchip/clf/seq_data/processed_for_fh/tsca17_20...   \n",
       "165  /xchip/clf/seq_data/processed_for_fh/tsca15_20...   \n",
       "97   /xchip/clf/seq_data/processed_for_fh/tsca15_20...   \n",
       "38   /xchip/clf/seq_data/processed_for_fh/tsca1213_...   \n",
       "78   /xchip/clf/seq_data/processed_for_fh/tsca17_20...   \n",
       "138  /xchip/clf/seq_data/processed_for_fh/tsca15_20...   \n",
       "171  /xchip/clf/seq_data/processed_for_fh/tsca15_20...   \n",
       "64   /xchip/clf/seq_data/processed_for_fh/tsca21_20...   \n",
       "44   /xchip/clf/seq_data/processed_for_fh/tsca15_20...   \n",
       "172  /xchip/clf/seq_data/processed_for_fh/tsca1213_...   \n",
       "21   /xchip/clf/seq_data/processed_for_fh/tsca19_20...   \n",
       "56   /xchip/clf/seq_data/processed_for_fh/tsca18_20...   \n",
       "43   /xchip/clf/seq_data/processed_for_fh/tsca15_20...   \n",
       "185  /xchip/clf/seq_data/processed_for_fh/tsca15_20...   \n",
       "51   /xchip/clf/seq_data/processed_for_fh/tsca17_20...   \n",
       "\n",
       "         external_id_validation   aggregation_product_name_validation  \\\n",
       "2                AB056N_primary  TSCA Rapid Cancer Detection Panel v2   \n",
       "33         EH016N_RETM_15FBS_p5  TSCA Rapid Cancer Detection Panel v2   \n",
       "36               EH019N_primary  TSCA Rapid Cancer Detection Panel v2   \n",
       "38               EH020N_primary  TSCA Rapid Cancer Detection Panel v2   \n",
       "45                JL58N_RETM_p5  TSCA Rapid Cancer Detection Panel v2   \n",
       "48                JL59N_primary  TSCA Rapid Cancer Detection Panel v2   \n",
       "50                JL61N_primary  TSCA Rapid Cancer Detection Panel v2   \n",
       "57          PEDS153N_2_RETM_p10  TSCA Rapid Cancer Detection Panel v2   \n",
       "59              PEDS157N_AR5_p5  TSCA Rapid Cancer Detection Panel v2   \n",
       "62              PEDS160N_CM_p10  TSCA Rapid Cancer Detection Panel v2   \n",
       "65   PEDS166N_1_SMGM_HYPOXIA_p5  TSCA Rapid Cancer Detection Panel v2   \n",
       "72               PEDS175N_CM_p7  TSCA Rapid Cancer Detection Panel v2   \n",
       "74               PEDS176N_CM_p5  TSCA Rapid Cancer Detection Panel v2   \n",
       "78               PEDS177N_CM_p5  TSCA Rapid Cancer Detection Panel v2   \n",
       "83             PEDS194N_primary  TSCA Rapid Cancer Detection Panel v2   \n",
       "87             PEDS199N_primary  TSCA Rapid Cancer Detection Panel v2   \n",
       "62               EH022N_RETM_p2  TSCA Rapid Cancer Detection Panel v2   \n",
       "165          PEDS166N_1_SMGM_p5  TSCA Rapid Cancer Detection Panel v2   \n",
       "65       CCLF_PEDS1037N_Primary  TSCA Rapid Cancer Detection Panel v2   \n",
       "105            PEDS162N_RETM_p8  TSCA Rapid Cancer Detection Panel v2   \n",
       "84                JL62N_primary  TSCA Rapid Cancer Detection Panel v2   \n",
       "72               PEDS187N_CM_p8  TSCA Rapid Cancer Detection Panel v2   \n",
       "165            PEDS207N_primary  TSCA Rapid Cancer Detection Panel v2   \n",
       "97            PEDS1002N_primary  TSCA Rapid Cancer Detection Panel v2   \n",
       "38               EH015N_RETM_p5  TSCA Rapid Cancer Detection Panel v2   \n",
       "78      PEDS199N_RETM_p5_Repeat  TSCA Rapid Cancer Detection Panel v2   \n",
       "138              PEDS194N_CM_p5  TSCA Rapid Cancer Detection Panel v2   \n",
       "171            RCRF004N_primary  TSCA Rapid Cancer Detection Panel v2   \n",
       "64       CCLF_RCRF1016N_Primary  TSCA Rapid Cancer Detection Panel v2   \n",
       "44                EH016N_M87_p5  TSCA Rapid Cancer Detection Panel v2   \n",
       "172            PEDS171N_RETM_p7  TSCA Rapid Cancer Detection Panel v2   \n",
       "21         CCLF_PEDS1033N_CM_p2  TSCA Rapid Cancer Detection Panel v2   \n",
       "56        CCLF_PEDS1026N_Tissue  TSCA Rapid Cancer Detection Panel v2   \n",
       "43                 EH016N_CM_p5  TSCA Rapid Cancer Detection Panel v2   \n",
       "185              TC007N_primary  TSCA Rapid Cancer Detection Panel v2   \n",
       "51       CCLF_PEDS1021N_primary  TSCA Rapid Cancer Detection Panel v2   \n",
       "\n",
       "    bsp_sample_id_validation stock_sample_id_validation sample_type  \\\n",
       "2                   SM-DB9KT                   SM-DB2JM      Normal   \n",
       "33                  SM-DB9KW                   SM-DB2JP      Normal   \n",
       "36                  SM-DB9KA                   SM-DB2J3      Normal   \n",
       "38                  SM-DB9JX                   SM-DB2IQ      Normal   \n",
       "45                  SM-DB9KQ                   SM-DB2JJ      Normal   \n",
       "48                  SM-DB9KD                   SM-DB2J6      Normal   \n",
       "50                  SM-DB9KP                   SM-DB2JI      Normal   \n",
       "57                  SM-DB9K2                   SM-DB2IU      Normal   \n",
       "59                  SM-DB9JD                   SM-DB2I6      Normal   \n",
       "62                  SM-DB9J2                   SM-DB2HU      Normal   \n",
       "65                  SM-DB9JC                   SM-DB2I5      Normal   \n",
       "72                  SM-DB9K7                   SM-DB2IZ      Normal   \n",
       "74                  SM-DB9KF                   SM-DB2J8      Normal   \n",
       "78                  SM-DB9K3                   SM-DB2IV      Normal   \n",
       "83                  SM-DB9K4                   SM-DB2IW      Normal   \n",
       "87                  SM-DB9LG                   SM-DB2K9      Normal   \n",
       "62                  SM-DHZ97                   SM-DHNB5      Normal   \n",
       "165                 SM-D59JH                   SM-D4L3H      Normal   \n",
       "65                  SM-F67FW                   SM-F64PF      Normal   \n",
       "105                 SM-DHZ7Y                   SM-DHNA3      Normal   \n",
       "84                  SM-DHZ6L                   SM-DHJNF      Normal   \n",
       "72                  SM-E7S1S                   SM-E77BF      Normal   \n",
       "165                 SM-DHZ6C                   SM-DHJN6      Normal   \n",
       "97                  SM-DHZ7F                   SM-DHJO9      Normal   \n",
       "38                  SM-D59J7                   SM-D4L38      Normal   \n",
       "78                  SM-E7S1P                   SM-DNULP      Normal   \n",
       "138                 SM-DHZ7O                   SM-DHN9U      Normal   \n",
       "171                 SM-DHZ5M                   SM-DHJMG      Normal   \n",
       "64                  SM-GBJBK                   SM-GB4DI      Normal   \n",
       "44                  SM-DHZ61                   SM-DHJMU      Normal   \n",
       "172                 SM-D59HS                   SM-D4L1V      Normal   \n",
       "21                  SM-F29SD                   SM-F21OD      Normal   \n",
       "56                  SM-EUVHW                   SM-EUSBN      Normal   \n",
       "43                  SM-DHZ5Q                   SM-DHJMK      Normal   \n",
       "185                 SM-DHZ6S                   SM-DHOHR      Normal   \n",
       "51                  SM-E7RZX                   SM-E77AN      Normal   \n",
       "\n",
       "    picard_aggregation_type_validation     processed_subtype_validation  \\\n",
       "2                                  PCR  Tissue:Tissue Lysate/Homogenate   \n",
       "33                                 PCR              Cells:Pellet frozen   \n",
       "36                                 PCR  Tissue:Tissue Lysate/Homogenate   \n",
       "38                                 PCR  Tissue:Tissue Lysate/Homogenate   \n",
       "45                                 PCR              Cells:Pellet frozen   \n",
       "48                                 PCR  Tissue:Tissue Lysate/Homogenate   \n",
       "50                                 PCR  Tissue:Tissue Lysate/Homogenate   \n",
       "57                                 PCR              Cells:Pellet frozen   \n",
       "59                                 PCR              Cells:Pellet frozen   \n",
       "62                                 PCR              Cells:Pellet frozen   \n",
       "65                                 PCR              Cells:Pellet frozen   \n",
       "72                                 PCR              Cells:Pellet frozen   \n",
       "74                                 PCR              Cells:Pellet frozen   \n",
       "78                                 PCR              Cells:Pellet frozen   \n",
       "83                                 PCR  Tissue:Tissue Lysate/Homogenate   \n",
       "87                                 PCR  Tissue:Tissue Lysate/Homogenate   \n",
       "62                                 PCR              Cells:Pellet frozen   \n",
       "165                                PCR              Cells:Pellet frozen   \n",
       "65                                 PCR                  DNA:DNA Somatic   \n",
       "105                                PCR              Cells:Pellet frozen   \n",
       "84                                 PCR                  DNA:DNA Somatic   \n",
       "72                                 PCR                  DNA:DNA Somatic   \n",
       "165                                PCR                  DNA:DNA Somatic   \n",
       "97                                 PCR                  DNA:DNA Somatic   \n",
       "38                                 PCR              Cells:Pellet frozen   \n",
       "78                                 PCR                  DNA:DNA Somatic   \n",
       "138                                PCR              Cells:Pellet frozen   \n",
       "171                                PCR                  DNA:DNA Somatic   \n",
       "64                                 PCR                  DNA:DNA Somatic   \n",
       "44                                 PCR                  DNA:DNA Somatic   \n",
       "172                                PCR              Cells:Pellet frozen   \n",
       "21                                 PCR                  DNA:DNA Somatic   \n",
       "56                                 PCR                  DNA:DNA Somatic   \n",
       "43                                 PCR                  DNA:DNA Somatic   \n",
       "185                                PCR                  DNA:DNA Somatic   \n",
       "51                                 PCR                  DNA:DNA Somatic   \n",
       "\n",
       "    source_subtype_validation  squid_sample_id_validation tumor_subtype  \\\n",
       "2         Tissue:Fresh Tissue              AB056N_primary       Primary   \n",
       "33    Cells:Cell Line, Viable        EH016N_RETM_15FBS_p5           NaN   \n",
       "36        Tissue:Fresh Tissue              EH019N_primary           NaN   \n",
       "38        Tissue:Fresh Tissue              EH020N_primary           NaN   \n",
       "45    Cells:Cell Line, Viable               JL58N_RETM_p5           NaN   \n",
       "48        Tissue:Fresh Tissue               JL59N_primary           NaN   \n",
       "50        Tissue:Fresh Tissue               JL61N_primary           NaN   \n",
       "57    Cells:Cell Line, Viable         PEDS153N_2_RETM_p10           NaN   \n",
       "59    Cells:Cell Line, Viable             PEDS157N_AR5_p5           NaN   \n",
       "62    Cells:Cell Line, Viable             PEDS160N_CM_p10           NaN   \n",
       "65    Cells:Cell Line, Viable  PEDS166N_1_SMGM_HYPOXIA_p5           NaN   \n",
       "72    Cells:Cell Line, Viable              PEDS175N_CM_p7           NaN   \n",
       "74    Cells:Cell Line, Viable              PEDS176N_CM_p5           NaN   \n",
       "78    Cells:Cell Line, Viable              PEDS177N_CM_p5           NaN   \n",
       "83        Tissue:Fresh Tissue            PEDS194N_primary           NaN   \n",
       "87        Tissue:Fresh Tissue            PEDS199N_primary           NaN   \n",
       "62        Tissue:Fresh Tissue              EH022N_RETM_p2           NaN   \n",
       "165   Cells:Cell Line, Viable          PEDS166N_1_SMGM_p5           NaN   \n",
       "65        Tissue:Fresh Tissue      CCLF_PEDS1037N_Primary       Primary   \n",
       "105   Cells:Cell Line, Viable            PEDS162N_RETM_p8           NaN   \n",
       "84        Tissue:Fresh Tissue               JL62N_primary           NaN   \n",
       "72    Cells:Cell Line, Viable              PEDS187N_CM_p8           NaN   \n",
       "165       Tissue:Fresh Tissue            PEDS207N_primary           NaN   \n",
       "97        Tissue:Fresh Tissue           PEDS1002N_primary           NaN   \n",
       "38    Cells:Cell Line, Viable              EH015N_RETM_p5           NaN   \n",
       "78    Cells:Cell Line, Viable     PEDS199N_RETM_p5_Repeat           NaN   \n",
       "138   Cells:Cell Line, Viable              PEDS194N_CM_p5           NaN   \n",
       "171   Cells:Cell Line, Viable            RCRF004N_primary           NaN   \n",
       "64        Tissue:Fresh Tissue      CCLF_RCRF1016N_Primary           NaN   \n",
       "44    Cells:Cell Line, Viable               EH016N_M87_p5           NaN   \n",
       "172   Cells:Cell Line, Viable            PEDS171N_RETM_p7           NaN   \n",
       "21        Tissue:Fresh Tissue        CCLF_PEDS1033N_CM_p2           NaN   \n",
       "56        Tissue:Fresh Tissue       CCLF_PEDS1026N_Tissue    Metastatic   \n",
       "43    Cells:Cell Line, Viable                EH016N_CM_p5           NaN   \n",
       "185       Tissue:Fresh Tissue              TC007N_primary           NaN   \n",
       "51        Tissue:Fresh Tissue      CCLF_PEDS1021N_primary           NaN   \n",
       "\n",
       "    short_letter_code  \n",
       "2                NDNA  \n",
       "33              NCELL  \n",
       "36               NDNA  \n",
       "38               NDNA  \n",
       "45              NCELL  \n",
       "48               NDNA  \n",
       "50               NDNA  \n",
       "57              NCELL  \n",
       "59              NCELL  \n",
       "62              NCELL  \n",
       "65              NCELL  \n",
       "72              NCELL  \n",
       "74              NCELL  \n",
       "78              NCELL  \n",
       "83               NDNA  \n",
       "87               NDNA  \n",
       "62               NDNA  \n",
       "165             NCELL  \n",
       "65               NDNA  \n",
       "105             NCELL  \n",
       "84               NDNA  \n",
       "72              NCELL  \n",
       "165              NDNA  \n",
       "97               NDNA  \n",
       "38              NCELL  \n",
       "78              NCELL  \n",
       "138             NCELL  \n",
       "171             NCELL  \n",
       "64               NDNA  \n",
       "44              NCELL  \n",
       "172             NCELL  \n",
       "21               NDNA  \n",
       "56               NDNA  \n",
       "43              NCELL  \n",
       "185              NDNA  \n",
       "51               NDNA  "
      ]
     },
     "execution_count": 60,
     "metadata": {},
     "output_type": "execute_result"
    }
   ],
   "source": [
    "name = 'PoN_TSCA14_plus_20_random'\n",
    "pon = pd.concat([normal_samples, other_normal_samples], axis=0)\n",
    "pon['membership:sample_set_id'] = name\n",
    "pon = pon[[]]"
   ]
  },
  {
   "cell_type": "code",
   "execution_count": null,
   "metadata": {
    "collapsed": true
   },
   "outputs": [],
   "source": []
  }
 ],
 "metadata": {
  "kernelspec": {
   "display_name": "Python 3",
   "language": "python",
   "name": "python3"
  },
  "language_info": {
   "codemirror_mode": {
    "name": "ipython",
    "version": 3
   },
   "file_extension": ".py",
   "mimetype": "text/x-python",
   "name": "python",
   "nbconvert_exporter": "python",
   "pygments_lexer": "ipython3",
   "version": "3.6.1"
  }
 },
 "nbformat": 4,
 "nbformat_minor": 2
}
