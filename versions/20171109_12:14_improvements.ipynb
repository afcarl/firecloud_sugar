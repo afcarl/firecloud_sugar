{
 "cells": [
  {
   "cell_type": "code",
   "execution_count": 61,
   "metadata": {},
   "outputs": [
    {
     "name": "stdout",
     "output_type": "stream",
     "text": [
      "The autoreload extension is already loaded. To reload it, use:\n",
      "  %reload_ext autoreload\n"
     ]
    }
   ],
   "source": [
    "import v2fc_interface as fs\n",
    "from firecloud import api as firecloud_api\n",
    "%load_ext autoreload\n",
    "%autoreload 2"
   ]
  },
  {
   "cell_type": "code",
   "execution_count": 9,
   "metadata": {
    "collapsed": true
   },
   "outputs": [],
   "source": [
    "paths_to_samples_info = pd.read_excel(\"paths_to_batches_info.xlsx\")\n",
    "namespace = \"nci-mimoun-bi-org\"\n",
    "workspace = \"CCLF_TSCA_2_0\"\n",
    "google_bucket_id = \"fc-35446f22-ea37-483a-bd6c-5e9fc56851ff\""
   ]
  },
  {
   "cell_type": "code",
   "execution_count": 32,
   "metadata": {
    "collapsed": true
   },
   "outputs": [],
   "source": [
    "tsca_id = \"TSCA1213\"\n",
    "latest_tsca_id = \"TSCA22\"\n",
    "path_to_samples_info = \"/xchip/clf/seq_data/processed_for_fh/tsca1213_201610_SN0106956/tsca1213_201610_SN0106956.import_samples.txt\""
   ]
  },
  {
   "cell_type": "code",
   "execution_count": null,
   "metadata": {
    "collapsed": true
   },
   "outputs": [],
   "source": []
  },
  {
   "cell_type": "code",
   "execution_count": 31,
   "metadata": {
    "editable": false,
    "run_control": {
     "frozen": true
    }
   },
   "outputs": [
    {
     "name": "stdout",
     "output_type": "stream",
     "text": [
      "160 Participants in this batch\n",
      "190 Samples in this batch\n"
     ]
    }
   ],
   "source": [
    "### PROCESS FOR NEW BATCH\n",
    "tsca_id = \"TSCA1213\"\n",
    "latest_tsca_id = \"TSCA22\"\n",
    "path_to_samples_info = \"/xchip/clf/seq_data/processed_for_fh/tsca1213_201610_SN0106956/tsca1213_201610_SN0106956.import_samples.txt\"\n",
    "res = fs.upload_all(tsca_id, latest_tsca_id, path_to_samples_info, namespace, workspace, google_bucket_id)"
   ]
  },
  {
   "cell_type": "code",
   "execution_count": 55,
   "metadata": {
    "collapsed": true
   },
   "outputs": [],
   "source": [
    "for idx, row in paths_to_samples_info.iterrows():\n",
    "    tsca_id = row['tsca_id']\n",
    "    pon, name = fs.create_panel_of_normals_from_batch(tsca_id, \"paths_to_batches_info.xlsx\")\n",
    "    res = fs.upload_pon(pon, name, namespace, workspace)"
   ]
  }
 ],
 "metadata": {
  "kernelspec": {
   "display_name": "Python 3",
   "language": "python",
   "name": "python3"
  },
  "language_info": {
   "codemirror_mode": {
    "name": "ipython",
    "version": 3
   },
   "file_extension": ".py",
   "mimetype": "text/x-python",
   "name": "python",
   "nbconvert_exporter": "python",
   "pygments_lexer": "ipython3",
   "version": "3.6.1"
  }
 },
 "nbformat": 4,
 "nbformat_minor": 2
}
