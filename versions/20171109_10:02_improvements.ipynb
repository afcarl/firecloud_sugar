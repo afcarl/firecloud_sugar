{
 "cells": [
  {
   "cell_type": "code",
   "execution_count": 8,
   "metadata": {},
   "outputs": [
    {
     "name": "stdout",
     "output_type": "stream",
     "text": [
      "The autoreload extension is already loaded. To reload it, use:\n",
      "  %reload_ext autoreload\n"
     ]
    }
   ],
   "source": [
    "import v2fc_interface as fs\n",
    "\n",
    "%load_ext autoreload\n",
    "%autoreload 2"
   ]
  },
  {
   "cell_type": "code",
   "execution_count": 9,
   "metadata": {
    "collapsed": true
   },
   "outputs": [],
   "source": [
    "paths_to_samples_info = pd.read_excel(\"paths_to_batches_info.xlsx\")\n",
    "namespace = \"nci-mimoun-bi-org\"\n",
    "workspace = \"CCLF_TSCA_2_0\"\n",
    "google_bucket_id = \"fc-35446f22-ea37-483a-bd6c-5e9fc56851ff\""
   ]
  },
  {
   "cell_type": "code",
   "execution_count": null,
   "metadata": {},
   "outputs": [],
   "source": [
    "df = fs.get_samples(\"paths_to_batches_info.xlsx\", google_bucket_id)"
   ]
  },
  {
   "cell_type": "code",
   "execution_count": null,
   "metadata": {
    "collapsed": true
   },
   "outputs": [],
   "source": []
  },
  {
   "cell_type": "code",
   "execution_count": null,
   "metadata": {
    "collapsed": true
   },
   "outputs": [],
   "source": []
  },
  {
   "cell_type": "code",
   "execution_count": 19,
   "metadata": {},
   "outputs": [
    {
     "ename": "NameError",
     "evalue": "name 'tsca_id' is not defined",
     "output_type": "error",
     "traceback": [
      "\u001b[0;31m---------------------------------------------------------------------------\u001b[0m",
      "\u001b[0;31mNameError\u001b[0m                                 Traceback (most recent call last)",
      "\u001b[0;32m<ipython-input-19-82f677e1dd0b>\u001b[0m in \u001b[0;36m<module>\u001b[0;34m()\u001b[0m\n\u001b[0;32m----> 1\u001b[0;31m \u001b[0mdata\u001b[0m \u001b[0;34m=\u001b[0m \u001b[0mfs\u001b[0m\u001b[0;34m.\u001b[0m\u001b[0mprepare_cohorts_for_metadata_export\u001b[0m\u001b[0;34m(\u001b[0m\u001b[0;34m\"paths_to_batches_info.xlsx\"\u001b[0m\u001b[0;34m,\u001b[0m \u001b[0mgoogle_bucket_id\u001b[0m\u001b[0;34m,\u001b[0m \u001b[0;34m\"TSCA22\"\u001b[0m\u001b[0;34m,\u001b[0m \u001b[0mnamespace\u001b[0m\u001b[0;34m,\u001b[0m \u001b[0mworkspace\u001b[0m\u001b[0;34m,\u001b[0m \u001b[0mblacklist\u001b[0m\u001b[0;34m=\u001b[0m\u001b[0;34m[\u001b[0m\u001b[0;34m]\u001b[0m\u001b[0;34m)\u001b[0m\u001b[0;34m\u001b[0m\u001b[0m\n\u001b[0m",
      "\u001b[0;32m/Users/mimoun/production_fc/metadata_exports/v2fc_interface.py\u001b[0m in \u001b[0;36mprepare_cohorts_for_metadata_export\u001b[0;34m(paths_to_batches_info, google_bucket_id, latest_tsca_id, namespace, workspace, blacklist)\u001b[0m\n\u001b[1;32m    266\u001b[0m     \"\"\"\n\u001b[1;32m    267\u001b[0m     \u001b[0;31m# Retrieve list of samples with corresponding cohort from bsp.broadinstitute.org\u001b[0m\u001b[0;34m\u001b[0m\u001b[0;34m\u001b[0m\u001b[0m\n\u001b[0;32m--> 268\u001b[0;31m     \u001b[0msamples_with_cohort\u001b[0m \u001b[0;34m=\u001b[0m \u001b[0mpd\u001b[0m\u001b[0;34m.\u001b[0m\u001b[0mread_excel\u001b[0m\u001b[0;34m(\u001b[0m\u001b[0;34m'cohort_files/bsp_latest_all_samples_%s.xls'\u001b[0m\u001b[0;34m%\u001b[0m\u001b[0mtsca_id\u001b[0m\u001b[0;34m)\u001b[0m\u001b[0;34m\u001b[0m\u001b[0m\n\u001b[0m\u001b[1;32m    269\u001b[0m \u001b[0;34m\u001b[0m\u001b[0m\n\u001b[1;32m    270\u001b[0m     \u001b[0;31m# All samples, without cohort data\u001b[0m\u001b[0;34m\u001b[0m\u001b[0;34m\u001b[0m\u001b[0m\n",
      "\u001b[0;31mNameError\u001b[0m: name 'tsca_id' is not defined"
     ]
    }
   ],
   "source": [
    "data = fs.prepare_cohorts_for_metadata_export(\"paths_to_batches_info.xlsx\", google_bucket_id, \"TSCA22\", namespace, workspace, blacklist=[])"
   ]
  },
  {
   "cell_type": "code",
   "execution_count": 2,
   "metadata": {
    "collapsed": true
   },
   "outputs": [],
   "source": [
    "tsca_id = \"TSCA1213\"\n",
    "path_to_samples_info = \"/xchip/clf/seq_data/processed_for_fh/tsca1213_201610_SN0106956/tsca1213_201610_SN0106956.import_samples.txt\""
   ]
  },
  {
   "cell_type": "code",
   "execution_count": null,
   "metadata": {
    "editable": false,
    "run_control": {
     "frozen": true
    }
   },
   "outputs": [],
   "source": [
    "### PROCESS FOR NEW BATCH\n",
    "tsca_id = \"TSCA1213\"\n",
    "path_to_samples_info = \"/xchip/clf/seq_data/processed_for_fh/tsca1213_201610_SN0106956/tsca1213_201610_SN0106956.import_samples.txt\"\n",
    "res = fs.upload_all(tsca_id, path_to_samples_info, namespace, workspace, google_bucket_id)"
   ]
  },
  {
   "cell_type": "code",
   "execution_count": 15,
   "metadata": {},
   "outputs": [
    {
     "name": "stdout",
     "output_type": "stream",
     "text": [
      "160 Participants in this batch\n",
      "190 Samples in this batch\n"
     ]
    }
   ],
   "source": [
    "### PROCESS FOR NEW BATCH\n",
    "tsca_id = \"TSCA1213\"\n",
    "path_to_samples_info = \"/xchip/clf/seq_data/processed_for_fh/tsca1213_201610_SN0106956/tsca1213_201610_SN0106956.import_samples.txt\"\n",
    "res = fs.upload_all(tsca_id, path_to_samples_info, namespace, workspace, google_bucket_id)"
   ]
  },
  {
   "cell_type": "code",
   "execution_count": null,
   "metadata": {
    "collapsed": true
   },
   "outputs": [],
   "source": []
  }
 ],
 "metadata": {
  "kernelspec": {
   "display_name": "Python 3",
   "language": "python",
   "name": "python3"
  },
  "language_info": {
   "codemirror_mode": {
    "name": "ipython",
    "version": 3
   },
   "file_extension": ".py",
   "mimetype": "text/x-python",
   "name": "python",
   "nbconvert_exporter": "python",
   "pygments_lexer": "ipython3",
   "version": "3.6.1"
  }
 },
 "nbformat": 4,
 "nbformat_minor": 2
}
