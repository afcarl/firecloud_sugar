{
 "cells": [
  {
   "cell_type": "markdown",
   "metadata": {},
   "source": [
    "### Commands"
   ]
  },
  {
   "cell_type": "code",
   "execution_count": 2,
   "metadata": {
    "collapsed": true
   },
   "outputs": [],
   "source": [
    "from firecloud import api as firecloud_api\n",
    "import fc_interface"
   ]
  },
  {
   "cell_type": "code",
   "execution_count": 3,
   "metadata": {
    "collapsed": true
   },
   "outputs": [],
   "source": [
    "%load_ext autoreload\n",
    "%autoreload 2"
   ]
  },
  {
   "cell_type": "code",
   "execution_count": 4,
   "metadata": {
    "collapsed": true
   },
   "outputs": [],
   "source": [
    "### Parameters\n",
    "namespace = \"nci-mimoun-bi-org\"\n",
    "workspace = \"CCLF_TSCA\"\n",
    "paths_to_samples_info = \"paths_to_batches_info.xlsx\"\n",
    "google_bucket_id = \"fc-35446f22-ea37-483a-bd6c-5e9fc56851ff\"\n",
    "batches_info = pd.read_excel(paths_to_samples_info)"
   ]
  },
  {
   "cell_type": "markdown",
   "metadata": {},
   "source": [
    "#### Deletions"
   ]
  },
  {
   "cell_type": "code",
   "execution_count": null,
   "metadata": {
    "collapsed": true,
    "editable": false,
    "run_control": {
     "frozen": true
    }
   },
   "outputs": [],
   "source": [
    "### Delete unnecessary attributes in samples\n",
    "attrs = [\"annotate_variants_vcf\", \"annotate_variants_vcf_index\", \"oncotated_maf\", \"mutect2_vcf_index\", \"match_normal_oncotated_maf\", \"gnomad_vcf\", \"merged_vcfs\", \"match_primary_tumor_bam_file\"]\n",
    "for idx, row in all_samples.iterrows():\n",
    "    fc_interface.delete_entity_attributes(namespace, workspace, \"sample\", row['entity:sample_id'], attrs)"
   ]
  },
  {
   "cell_type": "code",
   "execution_count": null,
   "metadata": {
    "collapsed": true,
    "editable": false,
    "run_control": {
     "frozen": true
    }
   },
   "outputs": [],
   "source": [
    "### Delete method repostory\n",
    "firecloud_api.delete_repository_method('tsca', 'CreatePoN', 15)"
   ]
  },
  {
   "cell_type": "code",
   "execution_count": null,
   "metadata": {
    "collapsed": true,
    "editable": false,
    "run_control": {
     "frozen": true
    }
   },
   "outputs": [],
   "source": [
    "### Delete method repository\n",
    "firecloud_api.delete_repository_method('tsca', 'Mutect2_for_Normal', 1)"
   ]
  },
  {
   "cell_type": "code",
   "execution_count": null,
   "metadata": {
    "collapsed": true,
    "editable": false,
    "run_control": {
     "frozen": true
    }
   },
   "outputs": [],
   "source": [
    "### Delete multiple method repositories\n",
    "for i in range(10, 23):\n",
    "    firecloud_api.delete_repository_method('tsca', 'CreatePoN', i)"
   ]
  },
  {
   "cell_type": "code",
   "execution_count": null,
   "metadata": {
    "collapsed": true,
    "editable": false,
    "run_control": {
     "frozen": true
    }
   },
   "outputs": [],
   "source": [
    "### Delete method config\n",
    "firecloud_api.delete_workspace_config(namespace, workspace, \"tsca\", \"Mutect2_for_Normal\")"
   ]
  },
  {
   "cell_type": "markdown",
   "metadata": {},
   "source": [
    "#### Pair creation"
   ]
  },
  {
   "cell_type": "code",
   "execution_count": null,
   "metadata": {
    "collapsed": true,
    "editable": false,
    "run_control": {
     "frozen": true
    }
   },
   "outputs": [],
   "source": [
    "### Create pairs\n",
    "all_samples = fc_interface.get_samples_multiple_batches(paths_to_samples_info, google_bucket_id)\n",
    "pairs_list = fc_interface.create_pairs_list(all_samples)\n",
    "blacklist = [\"DW039-Tumor-SM-DB2IF\"]\n",
    "clean_pairs_list = pairs_list[ ~pairs_list['case_sample_id'].isin(blacklist)]"
   ]
  },
  {
   "cell_type": "code",
   "execution_count": null,
   "metadata": {
    "collapsed": true,
    "editable": false,
    "run_control": {
     "frozen": true
    }
   },
   "outputs": [],
   "source": [
    "### Upload pairs\n",
    "res = fc_interface.upload_pairs(namespace, workspace, clean_pairs_list)"
   ]
  },
  {
   "cell_type": "code",
   "execution_count": null,
   "metadata": {
    "collapsed": true,
    "editable": false,
    "run_control": {
     "frozen": true
    }
   },
   "outputs": [],
   "source": [
    "# ### Delete unnecessary attributes in pairs\n",
    "# ### NOT WOKING\n",
    "# all_samples = fc_interface.get_samples_multiple_batches(paths_to_samples_info, google_bucket_id)\n",
    "# pairs_list = fc_interface.create_pairs_list(all_samples)\n",
    "# attrs = [\"__annotate_variants_vcf\", \"__annotate_variants_vcf_index\", \\\n",
    "#          \"__scattered_intervals\", \"__tmp_mutect_vcf2\", \"_tmp_mutect_vcf_index2\", \\\n",
    "#          \"__tmp_mutect_vcf2\", \"_tmp_mutect_vcf_index2\"]\n",
    "# for idx, row in pairs_list.iterrows():\n",
    "#     fc_interface.delete_entity_attributes(namespace, workspace, \"pair\", row['entity:pair_id'], attrs)"
   ]
  },
  {
   "cell_type": "code",
   "execution_count": null,
   "metadata": {
    "collapsed": true,
    "editable": false,
    "run_control": {
     "frozen": true
    }
   },
   "outputs": [],
   "source": [
    "### Upload metadata for given batch\n",
    "fc_interface.update_batch_metadata('TSCA21', \\\n",
    "                                  '/xchip/clf/seq_data/processed_for_fh/tsca21_201708_SN0128552/tsca21_201708_SN0128552.import_samples.txt', \\\n",
    "                                      paths_to_samples_info, \\\n",
    "                                        namespace, workspace, google_bucket_id)"
   ]
  },
  {
   "cell_type": "code",
   "execution_count": null,
   "metadata": {
    "collapsed": true,
    "editable": false,
    "run_control": {
     "frozen": true
    }
   },
   "outputs": [],
   "source": [
    "### Delete sample_set\n",
    "fc_interface.delete_sample_set(namespace, workspace, 'TSCA1213')"
   ]
  },
  {
   "cell_type": "code",
   "execution_count": null,
   "metadata": {
    "collapsed": true,
    "editable": false,
    "run_control": {
     "frozen": true
    }
   },
   "outputs": [],
   "source": [
    "### All paths to batch info\n",
    "# pd.read_excel('paths_to_batches_info.xlsx').path_to_samples_info.tolist()"
   ]
  },
  {
   "cell_type": "code",
   "execution_count": null,
   "metadata": {
    "collapsed": true,
    "editable": false,
    "run_control": {
     "frozen": true
    }
   },
   "outputs": [],
   "source": [
    "### Create cumulative PoN (all batches)\n",
    "batches_info = pd.read_excel(paths_to_samples_info)\n",
    "PoN = fc_interface.create_panel_of_normals(batches_info.path_to_samples_info.tolist(), -1, 'Cum_PoN_21_all')\n",
    "fc_interface.upload_pon(PoN, 'CumPoN21', namespace, workspace)"
   ]
  },
  {
   "cell_type": "code",
   "execution_count": null,
   "metadata": {
    "collapsed": true,
    "editable": false,
    "run_control": {
     "frozen": true
    }
   },
   "outputs": [],
   "source": [
    "### Create PoN from normals of only one batch (no samples from other batches)\n",
    "batches_info = pd.read_excel(paths_to_samples_info)\n",
    "tsca21_path = batches_info.path_to_samples_info.tolist()[-1]\n",
    "PoN = fc_interface.create_panel_of_normals([tsca21_path], -1, 'PoN_TSCA21_Normals')\n",
    "fc_interface.upload_pon(PoN, 'PoN_TSCA21_Normals', namespace, workspace)"
   ]
  },
  {
   "cell_type": "code",
   "execution_count": null,
   "metadata": {
    "collapsed": true,
    "editable": false,
    "run_control": {
     "frozen": true
    }
   },
   "outputs": [],
   "source": [
    "### Delete pair set\n",
    "fc_interface.delete_pair_set(namespace, workspace, 'TSCA1213')"
   ]
  },
  {
   "cell_type": "code",
   "execution_count": null,
   "metadata": {
    "collapsed": true,
    "editable": false,
    "run_control": {
     "frozen": true
    }
   },
   "outputs": [],
   "source": [
    "### Delete sample set\n",
    "fc_interface.delete_sample_set(namespace, workspace, 'TSCA1213')"
   ]
  },
  {
   "cell_type": "code",
   "execution_count": null,
   "metadata": {
    "collapsed": true,
    "editable": false,
    "run_control": {
     "frozen": true
    }
   },
   "outputs": [],
   "source": [
    "### Download method configs\n",
    "fc_interface.download_method_configs(namespace, workspace)"
   ]
  },
  {
   "cell_type": "code",
   "execution_count": null,
   "metadata": {
    "collapsed": true,
    "editable": false,
    "run_control": {
     "frozen": true
    }
   },
   "outputs": [],
   "source": [
    "### Upload pairsets\n",
    "tn_pairsets, tp_pairsets = fc_interface.create_pairsets(all_samples, clean_pairs_list)\n",
    "fc_interface.upload_pairsets(namespace, workspace, tn_pairsets, \"TN\")\n",
    "fc_interface.upload_pairsets(namespace, workspace, tp_pairsets, \"TP\")"
   ]
  },
  {
   "cell_type": "code",
   "execution_count": null,
   "metadata": {
    "collapsed": true,
    "editable": false,
    "run_control": {
     "frozen": true
    }
   },
   "outputs": [],
   "source": [
    "### Delete all pairs\n",
    "for idx, row in clean_pairs_list.iterrows():\n",
    "    res = fc_interface.delete_pair(namespace, workspace, row['entity:pair_id'])\n",
    "    print(res)"
   ]
  },
  {
   "cell_type": "code",
   "execution_count": null,
   "metadata": {
    "collapsed": true,
    "editable": false,
    "run_control": {
     "frozen": true
    }
   },
   "outputs": [],
   "source": [
    "all_samples = fc_interface.get_samples_multiple_batches(paths_to_samples_info, google_bucket_id)\n",
    "pairs_list = fc_interface.create_pairs_list(all_samples)\n",
    "blacklist = [\"DW039-Tumor-SM-DB2IF\"]\n",
    "clean_pairs_list = pairs_list[ ~pairs_list['case_sample_id'].isin(blacklist)]\n",
    "\n",
    "### Update pair attributes\n",
    "update_pair_attrs(namespace, workspace, clean_pairs_list, attrs=['control_sample_tsca_id'])"
   ]
  },
  {
   "cell_type": "code",
   "execution_count": null,
   "metadata": {
    "collapsed": true,
    "editable": false,
    "run_control": {
     "frozen": true
    }
   },
   "outputs": [],
   "source": [
    "### Create PoN from all normals\n",
    "batches_info = pd.read_excel(paths_to_samples_info)\n",
    "all_paths = batches_info.path_to_samples_info.tolist()\n",
    "PoN = fc_interface.create_panel_of_normals(all_paths, -1, 'Cum_PoN_21_all')\n",
    "fc_interface.upload_pon(PoN, 'Cum_PoN_21_all', namespace, workspace)"
   ]
  },
  {
   "cell_type": "code",
   "execution_count": 6,
   "metadata": {
    "collapsed": true
   },
   "outputs": [],
   "source": [
    "### Create PoN with normals from batch + other normals\n",
    "batches_info = pd.read_excel(paths_to_samples_info)\n",
    "all_paths = batches_info.path_to_samples_info.tolist()\n",
    "# PoN = fc_interface.create_panel_of_normals(all_paths, -1, 'Cum_PoN_21_all')\n",
    "# fc_interface.upload_pon(PoN, 'Cum_PoN_21_all', namespace, workspace)"
   ]
  },
  {
   "cell_type": "code",
   "execution_count": 4,
   "metadata": {
    "collapsed": true
   },
   "outputs": [],
   "source": [
    "# batch_id = 'TSCA21'\n",
    "# batch_path = batches_info.loc[batches_info.tsca_id==batch_id, 'path_to_samples_info'].item()\n",
    "# pd.read_table(batch_path)\n",
    "# batch_id, paths, N, name"
   ]
  },
  {
   "cell_type": "code",
   "execution_count": 21,
   "metadata": {
    "collapsed": true,
    "editable": false,
    "run_control": {
     "frozen": true
    }
   },
   "outputs": [],
   "source": [
    "# Retrieve samples before export to FC\n",
    "tsca21 = \\\n",
    "    fc_interface.\\\n",
    "        prepare_batch_samples_for_metadata_export('/xchip/clf/seq_data/processed_for_fh/tsca21_201708_SN0128552/tsca21_201708_SN0128552.import_samples.txt', \\\n",
    "                            'TSCA21', google_bucket_id)"
   ]
  },
  {
   "cell_type": "code",
   "execution_count": null,
   "metadata": {
    "collapsed": true,
    "editable": false,
    "run_control": {
     "frozen": true
    }
   },
   "outputs": [],
   "source": [
    "### Update WDLs\n",
    "fc_interface.download_remote_wdls(namespace, workspace)"
   ]
  },
  {
   "cell_type": "code",
   "execution_count": 336,
   "metadata": {
    "collapsed": true,
    "editable": false,
    "run_control": {
     "frozen": true
    }
   },
   "outputs": [],
   "source": [
    "### Prepare cohorts for export to FC\n",
    "cohorts = fc_interface.prepare_cohorts_for_metadata_export(paths_to_batches_info, google_bucket_id)"
   ]
  },
  {
   "cell_type": "code",
   "execution_count": 358,
   "metadata": {
    "collapsed": true,
    "editable": false,
    "run_control": {
     "frozen": true
    }
   },
   "outputs": [],
   "source": [
    "# # Delete cohorts\n",
    "# cohort_codes = pd.read_table('cohort_files/cohort_names_dictionary.txt', header=None)\n",
    "# for coh_code in cohort_codes.loc[:, 1].tolist():\n",
    "#     res = fc_interface.delete_sample_set(namespace, workspace, coh_code)"
   ]
  },
  {
   "cell_type": "code",
   "execution_count": 338,
   "metadata": {
    "editable": false,
    "run_control": {
     "frozen": true
    }
   },
   "outputs": [
    {
     "name": "stdout",
     "output_type": "stream",
     "text": [
      "65 Participants in this batch\n",
      "95 Samples in this batch\n"
     ]
    }
   ],
   "source": [
    "# ### Upload metadata for given batch\n",
    "# fc_interface.update_batch_metadata('TSCA21', \\\n",
    "#                                   '/xchip/clf/seq_data/processed_for_fh/tsca21_201708_SN0128552/tsca21_201708_SN0128552.import_samples.txt', \\\n",
    "#                                       paths_to_samples_info, \\\n",
    "#                                         namespace, workspace, google_bucket_id)"
   ]
  },
  {
   "cell_type": "code",
   "execution_count": 361,
   "metadata": {
    "collapsed": true,
    "editable": false,
    "run_control": {
     "frozen": true
    }
   },
   "outputs": [],
   "source": [
    "# Export metadata\n",
    "(r1, r2, r3, r4, r5, r6) = fc_interface.export_batch_metadata_to_fc('TSCA21', namespace, workspace)"
   ]
  },
  {
   "cell_type": "code",
   "execution_count": 359,
   "metadata": {
    "collapsed": true,
    "editable": false,
    "run_control": {
     "frozen": true
    }
   },
   "outputs": [],
   "source": [
    "# Cohorts\n",
    "cohorts = fc_interface.prepare_cohorts_for_metadata_export(paths_to_batches_info, google_bucket_id)"
   ]
  },
  {
   "cell_type": "markdown",
   "metadata": {},
   "source": [
    "---"
   ]
  },
  {
   "cell_type": "markdown",
   "metadata": {},
   "source": [
    "---"
   ]
  },
  {
   "cell_type": "code",
   "execution_count": 5,
   "metadata": {},
   "outputs": [
    {
     "data": {
      "text/html": [
       "<div>\n",
       "<style>\n",
       "    .dataframe thead tr:only-child th {\n",
       "        text-align: right;\n",
       "    }\n",
       "\n",
       "    .dataframe thead th {\n",
       "        text-align: left;\n",
       "    }\n",
       "\n",
       "    .dataframe tbody tr th {\n",
       "        vertical-align: top;\n",
       "    }\n",
       "</style>\n",
       "<table border=\"1\" class=\"dataframe\">\n",
       "  <thead>\n",
       "    <tr style=\"text-align: right;\">\n",
       "      <th></th>\n",
       "      <th>tsca_id</th>\n",
       "      <th>path_to_samples_info</th>\n",
       "    </tr>\n",
       "  </thead>\n",
       "  <tbody>\n",
       "    <tr>\n",
       "      <th>0</th>\n",
       "      <td>TSCA1213</td>\n",
       "      <td>/xchip/clf/seq_data/processed_for_fh/tsca1213_...</td>\n",
       "    </tr>\n",
       "    <tr>\n",
       "      <th>1</th>\n",
       "      <td>TSCA14</td>\n",
       "      <td>/xchip/clf/seq_data/processed_for_fh/tsca14_20...</td>\n",
       "    </tr>\n",
       "    <tr>\n",
       "      <th>2</th>\n",
       "      <td>TSCA15</td>\n",
       "      <td>/xchip/clf/seq_data/processed_for_fh/tsca15_20...</td>\n",
       "    </tr>\n",
       "    <tr>\n",
       "      <th>3</th>\n",
       "      <td>TSCA16</td>\n",
       "      <td>/xchip/clf/seq_data/processed_for_fh/tsca16_20...</td>\n",
       "    </tr>\n",
       "    <tr>\n",
       "      <th>4</th>\n",
       "      <td>TSCA17</td>\n",
       "      <td>/xchip/clf/seq_data/processed_for_fh/tsca17_20...</td>\n",
       "    </tr>\n",
       "    <tr>\n",
       "      <th>5</th>\n",
       "      <td>TSCA18</td>\n",
       "      <td>/xchip/clf/seq_data/processed_for_fh/tsca18_20...</td>\n",
       "    </tr>\n",
       "    <tr>\n",
       "      <th>6</th>\n",
       "      <td>TSCA19</td>\n",
       "      <td>/xchip/clf/seq_data/processed_for_fh/tsca19_20...</td>\n",
       "    </tr>\n",
       "    <tr>\n",
       "      <th>7</th>\n",
       "      <td>TSCA20</td>\n",
       "      <td>/xchip/clf/seq_data/processed_for_fh/tsca20_20...</td>\n",
       "    </tr>\n",
       "    <tr>\n",
       "      <th>8</th>\n",
       "      <td>TSCA21</td>\n",
       "      <td>/xchip/clf/seq_data/processed_for_fh/tsca21_20...</td>\n",
       "    </tr>\n",
       "  </tbody>\n",
       "</table>\n",
       "</div>"
      ],
      "text/plain": [
       "    tsca_id                               path_to_samples_info\n",
       "0  TSCA1213  /xchip/clf/seq_data/processed_for_fh/tsca1213_...\n",
       "1    TSCA14  /xchip/clf/seq_data/processed_for_fh/tsca14_20...\n",
       "2    TSCA15  /xchip/clf/seq_data/processed_for_fh/tsca15_20...\n",
       "3    TSCA16  /xchip/clf/seq_data/processed_for_fh/tsca16_20...\n",
       "4    TSCA17  /xchip/clf/seq_data/processed_for_fh/tsca17_20...\n",
       "5    TSCA18  /xchip/clf/seq_data/processed_for_fh/tsca18_20...\n",
       "6    TSCA19  /xchip/clf/seq_data/processed_for_fh/tsca19_20...\n",
       "7    TSCA20  /xchip/clf/seq_data/processed_for_fh/tsca20_20...\n",
       "8    TSCA21  /xchip/clf/seq_data/processed_for_fh/tsca21_20..."
      ]
     },
     "execution_count": 5,
     "metadata": {},
     "output_type": "execute_result"
    }
   ],
   "source": [
    "batches_info"
   ]
  },
  {
   "cell_type": "code",
   "execution_count": 6,
   "metadata": {
    "collapsed": true
   },
   "outputs": [],
   "source": [
    "paths_to_samples_info = \"paths_to_batches_info.xlsx\""
   ]
  },
  {
   "cell_type": "code",
   "execution_count": 25,
   "metadata": {
    "collapsed": true
   },
   "outputs": [],
   "source": [
    "batch_id='TSCA14'"
   ]
  },
  {
   "cell_type": "code",
   "execution_count": 28,
   "metadata": {},
   "outputs": [],
   "source": [
    "paths_to_samples = pd.read_excel(paths_to_samples_info, index_col=0)\n",
    "path_to_samples_info  = paths_to_samples.loc[batch_id, 'path_to_samples_info']\n",
    "all_samples = pd.read_table(path_to_samples_info)"
   ]
  },
  {
   "cell_type": "code",
   "execution_count": 29,
   "metadata": {},
   "outputs": [],
   "source": [
    "normal_samples = all_samples[all_samples['sample_type'] == \"Normal\"]"
   ]
  },
  {
   "cell_type": "code",
   "execution_count": 36,
   "metadata": {},
   "outputs": [
    {
     "data": {
      "text/html": [
       "<div>\n",
       "<style>\n",
       "    .dataframe thead tr:only-child th {\n",
       "        text-align: right;\n",
       "    }\n",
       "\n",
       "    .dataframe thead th {\n",
       "        text-align: left;\n",
       "    }\n",
       "\n",
       "    .dataframe tbody tr th {\n",
       "        vertical-align: top;\n",
       "    }\n",
       "</style>\n",
       "<table border=\"1\" class=\"dataframe\">\n",
       "  <thead>\n",
       "    <tr style=\"text-align: right;\">\n",
       "      <th></th>\n",
       "      <th>path_to_samples_info</th>\n",
       "    </tr>\n",
       "    <tr>\n",
       "      <th>tsca_id</th>\n",
       "      <th></th>\n",
       "    </tr>\n",
       "  </thead>\n",
       "  <tbody>\n",
       "    <tr>\n",
       "      <th>TSCA1213</th>\n",
       "      <td>/xchip/clf/seq_data/processed_for_fh/tsca1213_...</td>\n",
       "    </tr>\n",
       "    <tr>\n",
       "      <th>TSCA15</th>\n",
       "      <td>/xchip/clf/seq_data/processed_for_fh/tsca15_20...</td>\n",
       "    </tr>\n",
       "    <tr>\n",
       "      <th>TSCA16</th>\n",
       "      <td>/xchip/clf/seq_data/processed_for_fh/tsca16_20...</td>\n",
       "    </tr>\n",
       "    <tr>\n",
       "      <th>TSCA17</th>\n",
       "      <td>/xchip/clf/seq_data/processed_for_fh/tsca17_20...</td>\n",
       "    </tr>\n",
       "    <tr>\n",
       "      <th>TSCA18</th>\n",
       "      <td>/xchip/clf/seq_data/processed_for_fh/tsca18_20...</td>\n",
       "    </tr>\n",
       "    <tr>\n",
       "      <th>TSCA19</th>\n",
       "      <td>/xchip/clf/seq_data/processed_for_fh/tsca19_20...</td>\n",
       "    </tr>\n",
       "    <tr>\n",
       "      <th>TSCA20</th>\n",
       "      <td>/xchip/clf/seq_data/processed_for_fh/tsca20_20...</td>\n",
       "    </tr>\n",
       "    <tr>\n",
       "      <th>TSCA21</th>\n",
       "      <td>/xchip/clf/seq_data/processed_for_fh/tsca21_20...</td>\n",
       "    </tr>\n",
       "  </tbody>\n",
       "</table>\n",
       "</div>"
      ],
      "text/plain": [
       "                                       path_to_samples_info\n",
       "tsca_id                                                    \n",
       "TSCA1213  /xchip/clf/seq_data/processed_for_fh/tsca1213_...\n",
       "TSCA15    /xchip/clf/seq_data/processed_for_fh/tsca15_20...\n",
       "TSCA16    /xchip/clf/seq_data/processed_for_fh/tsca16_20...\n",
       "TSCA17    /xchip/clf/seq_data/processed_for_fh/tsca17_20...\n",
       "TSCA18    /xchip/clf/seq_data/processed_for_fh/tsca18_20...\n",
       "TSCA19    /xchip/clf/seq_data/processed_for_fh/tsca19_20...\n",
       "TSCA20    /xchip/clf/seq_data/processed_for_fh/tsca20_20...\n",
       "TSCA21    /xchip/clf/seq_data/processed_for_fh/tsca21_20..."
      ]
     },
     "execution_count": 36,
     "metadata": {},
     "output_type": "execute_result"
    }
   ],
   "source": [
    "paths_to_samples.loc[~paths_to_samples.index.isin([batch_id])]"
   ]
  },
  {
   "cell_type": "code",
   "execution_count": 46,
   "metadata": {},
   "outputs": [
    {
     "name": "stdout",
     "output_type": "stream",
     "text": [
      "path_to_samples_info    /xchip/clf/seq_data/processed_for_fh/tsca1213_...\n",
      "Name: TSCA1213, dtype: object\n",
      "path_to_samples_info    /xchip/clf/seq_data/processed_for_fh/tsca15_20...\n",
      "Name: TSCA15, dtype: object\n",
      "path_to_samples_info    /xchip/clf/seq_data/processed_for_fh/tsca16_20...\n",
      "Name: TSCA16, dtype: object\n",
      "path_to_samples_info    /xchip/clf/seq_data/processed_for_fh/tsca17_20...\n",
      "Name: TSCA17, dtype: object\n",
      "path_to_samples_info    /xchip/clf/seq_data/processed_for_fh/tsca18_20...\n",
      "Name: TSCA18, dtype: object\n",
      "path_to_samples_info    /xchip/clf/seq_data/processed_for_fh/tsca19_20...\n",
      "Name: TSCA19, dtype: object\n",
      "path_to_samples_info    /xchip/clf/seq_data/processed_for_fh/tsca20_20...\n",
      "Name: TSCA20, dtype: object\n",
      "path_to_samples_info    /xchip/clf/seq_data/processed_for_fh/tsca21_20...\n",
      "Name: TSCA21, dtype: object\n"
     ]
    }
   ],
   "source": [
    "dfs = []\n",
    "for i, row in paths_to_samples.loc[~paths_to_samples.index.isin([batch_id])].iterrows():\n",
    "    print(row)\n",
    "    df_tmp = pd.read_table(row['path_to_samples_info'])\n",
    "    dfs.append(df_tmp)\n",
    "df = pd.concat(dfs, axis=0)"
   ]
  },
  {
   "cell_type": "code",
   "execution_count": 50,
   "metadata": {},
   "outputs": [
    {
     "data": {
      "text/html": [
       "<div>\n",
       "<style>\n",
       "    .dataframe thead tr:only-child th {\n",
       "        text-align: right;\n",
       "    }\n",
       "\n",
       "    .dataframe thead th {\n",
       "        text-align: left;\n",
       "    }\n",
       "\n",
       "    .dataframe tbody tr th {\n",
       "        vertical-align: top;\n",
       "    }\n",
       "</style>\n",
       "<table border=\"1\" class=\"dataframe\">\n",
       "  <thead>\n",
       "    <tr style=\"text-align: right;\">\n",
       "      <th></th>\n",
       "      <th>sample_id</th>\n",
       "      <th>individual_id</th>\n",
       "      <th>clean_bam_file_capture</th>\n",
       "      <th>external_id_validation</th>\n",
       "      <th>aggregation_product_name_validation</th>\n",
       "      <th>bsp_sample_id_validation</th>\n",
       "      <th>stock_sample_id_validation</th>\n",
       "      <th>sample_type</th>\n",
       "      <th>picard_aggregation_type_validation</th>\n",
       "      <th>processed_subtype_validation</th>\n",
       "      <th>source_subtype_validation</th>\n",
       "      <th>squid_sample_id_validation</th>\n",
       "      <th>tumor_subtype</th>\n",
       "      <th>short_letter_code</th>\n",
       "    </tr>\n",
       "  </thead>\n",
       "  <tbody>\n",
       "    <tr>\n",
       "      <th>93</th>\n",
       "      <td>PEDS143-Normal-SM-F67F9</td>\n",
       "      <td>PEDS143</td>\n",
       "      <td>/xchip/clf/seq_data/processed_for_fh/tsca20_20...</td>\n",
       "      <td>PEDS143N_CM_p0</td>\n",
       "      <td>TSCA Rapid Cancer Detection Panel v2</td>\n",
       "      <td>SM-F67F9</td>\n",
       "      <td>SM-F64OW</td>\n",
       "      <td>Normal</td>\n",
       "      <td>PCR</td>\n",
       "      <td>DNA:DNA Somatic</td>\n",
       "      <td>Tissue:Fresh Tissue</td>\n",
       "      <td>PEDS143N_CM_p0</td>\n",
       "      <td>NaN</td>\n",
       "      <td>NDNA</td>\n",
       "    </tr>\n",
       "    <tr>\n",
       "      <th>73</th>\n",
       "      <td>PEDS196-Normal-SM-DNULT</td>\n",
       "      <td>PEDS196</td>\n",
       "      <td>/xchip/clf/seq_data/processed_for_fh/tsca16_20...</td>\n",
       "      <td>PEDS196N_FM_p5</td>\n",
       "      <td>TSCA Rapid Cancer Detection Panel v2</td>\n",
       "      <td>SM-DOEJV</td>\n",
       "      <td>SM-DNULT</td>\n",
       "      <td>Normal</td>\n",
       "      <td>PCR</td>\n",
       "      <td>Cells:Pellet frozen</td>\n",
       "      <td>Cells:Cell Line, Viable</td>\n",
       "      <td>PEDS196N_FM_p5</td>\n",
       "      <td>NaN</td>\n",
       "      <td>NCELL</td>\n",
       "    </tr>\n",
       "    <tr>\n",
       "      <th>38</th>\n",
       "      <td>EH015-Normal-SM-D4L38</td>\n",
       "      <td>EH015</td>\n",
       "      <td>/xchip/clf/seq_data/processed_for_fh/tsca1213_...</td>\n",
       "      <td>EH015N_RETM_p5</td>\n",
       "      <td>TSCA Rapid Cancer Detection Panel v2</td>\n",
       "      <td>SM-D59J7</td>\n",
       "      <td>SM-D4L38</td>\n",
       "      <td>Normal</td>\n",
       "      <td>PCR</td>\n",
       "      <td>Cells:Pellet frozen</td>\n",
       "      <td>Cells:Cell Line, Viable</td>\n",
       "      <td>EH015N_RETM_p5</td>\n",
       "      <td>NaN</td>\n",
       "      <td>NCELL</td>\n",
       "    </tr>\n",
       "    <tr>\n",
       "      <th>178</th>\n",
       "      <td>PEDS176-Normal-SM-D4L2I</td>\n",
       "      <td>PEDS176</td>\n",
       "      <td>/xchip/clf/seq_data/processed_for_fh/tsca1213_...</td>\n",
       "      <td>PEDS176N_1_primary</td>\n",
       "      <td>TSCA Rapid Cancer Detection Panel v2</td>\n",
       "      <td>SM-D59IF</td>\n",
       "      <td>SM-D4L2I</td>\n",
       "      <td>Normal</td>\n",
       "      <td>PCR</td>\n",
       "      <td>Tissue:Fresh Frozen Tissue</td>\n",
       "      <td>Tissue:Fresh Tissue</td>\n",
       "      <td>PEDS176N_1_primary</td>\n",
       "      <td>NaN</td>\n",
       "      <td>NDNA</td>\n",
       "    </tr>\n",
       "    <tr>\n",
       "      <th>57</th>\n",
       "      <td>EH021-Normal-SM-DHZ4X</td>\n",
       "      <td>EH021</td>\n",
       "      <td>/xchip/clf/seq_data/processed_for_fh/tsca15_20...</td>\n",
       "      <td>EH021N_primary</td>\n",
       "      <td>TSCA Rapid Cancer Detection Panel v2</td>\n",
       "      <td>SM-DHZ4X</td>\n",
       "      <td>SM-DHJLR</td>\n",
       "      <td>Normal</td>\n",
       "      <td>PCR</td>\n",
       "      <td>DNA:DNA Somatic</td>\n",
       "      <td>Tissue:Fresh Tissue</td>\n",
       "      <td>EH021N_primary</td>\n",
       "      <td>NaN</td>\n",
       "      <td>NDNA</td>\n",
       "    </tr>\n",
       "    <tr>\n",
       "      <th>37</th>\n",
       "      <td>EH015-Normal-SM-D4L2J</td>\n",
       "      <td>EH015</td>\n",
       "      <td>/xchip/clf/seq_data/processed_for_fh/tsca1213_...</td>\n",
       "      <td>EH015N_CM_p5</td>\n",
       "      <td>TSCA Rapid Cancer Detection Panel v2</td>\n",
       "      <td>SM-D59IG</td>\n",
       "      <td>SM-D4L2J</td>\n",
       "      <td>Normal</td>\n",
       "      <td>PCR</td>\n",
       "      <td>Cells:Pellet frozen</td>\n",
       "      <td>Cells:Cell Line, Viable</td>\n",
       "      <td>EH015N_CM_p5</td>\n",
       "      <td>NaN</td>\n",
       "      <td>NCELL</td>\n",
       "    </tr>\n",
       "    <tr>\n",
       "      <th>177</th>\n",
       "      <td>PEDS175-Normal-SM-D4L37</td>\n",
       "      <td>PEDS175</td>\n",
       "      <td>/xchip/clf/seq_data/processed_for_fh/tsca1213_...</td>\n",
       "      <td>PEDS175N_SMGM_p6</td>\n",
       "      <td>TSCA Rapid Cancer Detection Panel v2</td>\n",
       "      <td>SM-D59J6</td>\n",
       "      <td>SM-D4L37</td>\n",
       "      <td>Normal</td>\n",
       "      <td>PCR</td>\n",
       "      <td>Cells:Pellet frozen</td>\n",
       "      <td>Cells:Cell Line, Viable</td>\n",
       "      <td>PEDS175N_SMGM_p6</td>\n",
       "      <td>NaN</td>\n",
       "      <td>NCELL</td>\n",
       "    </tr>\n",
       "    <tr>\n",
       "      <th>65</th>\n",
       "      <td>PEDS176-Normal-SM-DNUN3</td>\n",
       "      <td>PEDS176</td>\n",
       "      <td>/xchip/clf/seq_data/processed_for_fh/tsca16_20...</td>\n",
       "      <td>PEDS176N_FM_p5</td>\n",
       "      <td>TSCA Rapid Cancer Detection Panel v2</td>\n",
       "      <td>SM-DOEL5</td>\n",
       "      <td>SM-DNUN3</td>\n",
       "      <td>Normal</td>\n",
       "      <td>PCR</td>\n",
       "      <td>Cells:Pellet frozen</td>\n",
       "      <td>Cells:Cell Line, Viable</td>\n",
       "      <td>PEDS176N_FM_p5</td>\n",
       "      <td>NaN</td>\n",
       "      <td>NCELL</td>\n",
       "    </tr>\n",
       "    <tr>\n",
       "      <th>72</th>\n",
       "      <td>PEDS187-Normal-SM-E7S1S</td>\n",
       "      <td>PEDS187</td>\n",
       "      <td>/xchip/clf/seq_data/processed_for_fh/tsca17_20...</td>\n",
       "      <td>PEDS187N_CM_p8</td>\n",
       "      <td>TSCA Rapid Cancer Detection Panel v2</td>\n",
       "      <td>SM-E7S1S</td>\n",
       "      <td>SM-E77BF</td>\n",
       "      <td>Normal</td>\n",
       "      <td>PCR</td>\n",
       "      <td>DNA:DNA Somatic</td>\n",
       "      <td>Cells:Cell Line, Viable</td>\n",
       "      <td>PEDS187N_CM_p8</td>\n",
       "      <td>NaN</td>\n",
       "      <td>NCELL</td>\n",
       "    </tr>\n",
       "    <tr>\n",
       "      <th>22</th>\n",
       "      <td>CCLF_PEDS1033-Normal-SM-F29SC</td>\n",
       "      <td>CCLF_PEDS1033</td>\n",
       "      <td>/xchip/clf/seq_data/processed_for_fh/tsca19_20...</td>\n",
       "      <td>CCLF_PEDS1033N_Primary</td>\n",
       "      <td>TSCA Rapid Cancer Detection Panel v2</td>\n",
       "      <td>SM-F29SC</td>\n",
       "      <td>SM-F21OC</td>\n",
       "      <td>Normal</td>\n",
       "      <td>PCR</td>\n",
       "      <td>DNA:DNA Somatic</td>\n",
       "      <td>Tissue:Fresh Tissue</td>\n",
       "      <td>CCLF_PEDS1033N_Primary</td>\n",
       "      <td>NaN</td>\n",
       "      <td>NDNA</td>\n",
       "    </tr>\n",
       "    <tr>\n",
       "      <th>10</th>\n",
       "      <td>CCLF_JL1001-Normal-SM-E7S2K</td>\n",
       "      <td>CCLF_JL1001</td>\n",
       "      <td>/xchip/clf/seq_data/processed_for_fh/tsca17_20...</td>\n",
       "      <td>CCLF_JL1001N_primary</td>\n",
       "      <td>TSCA Rapid Cancer Detection Panel v2</td>\n",
       "      <td>SM-E7S2K</td>\n",
       "      <td>SM-E78BH</td>\n",
       "      <td>Normal</td>\n",
       "      <td>PCR</td>\n",
       "      <td>DNA:DNA Somatic</td>\n",
       "      <td>Tissue:Fresh Tissue</td>\n",
       "      <td>CCLF_JL1001N_primary</td>\n",
       "      <td>NaN</td>\n",
       "      <td>NDNA</td>\n",
       "    </tr>\n",
       "    <tr>\n",
       "      <th>168</th>\n",
       "      <td>PEDS209-Normal-SM-DHZ7E</td>\n",
       "      <td>PEDS209</td>\n",
       "      <td>/xchip/clf/seq_data/processed_for_fh/tsca15_20...</td>\n",
       "      <td>PEDS209N_primary</td>\n",
       "      <td>TSCA Rapid Cancer Detection Panel v2</td>\n",
       "      <td>SM-DHZ7E</td>\n",
       "      <td>SM-DHJO8</td>\n",
       "      <td>Normal</td>\n",
       "      <td>PCR</td>\n",
       "      <td>DNA:DNA Somatic</td>\n",
       "      <td>Tissue:Fresh Tissue</td>\n",
       "      <td>PEDS209N_primary</td>\n",
       "      <td>NaN</td>\n",
       "      <td>NDNA</td>\n",
       "    </tr>\n",
       "    <tr>\n",
       "      <th>37</th>\n",
       "      <td>CCLF_PEDS1019-Normal-SM-F67EO</td>\n",
       "      <td>CCLF_PEDS1019</td>\n",
       "      <td>/xchip/clf/seq_data/processed_for_fh/tsca20_20...</td>\n",
       "      <td>CCLF_PEDS1019N_RETM_p4</td>\n",
       "      <td>TSCA Rapid Cancer Detection Panel v2</td>\n",
       "      <td>SM-F67EO</td>\n",
       "      <td>SM-F64OF</td>\n",
       "      <td>Normal</td>\n",
       "      <td>PCR</td>\n",
       "      <td>DNA:DNA Somatic</td>\n",
       "      <td>Cells:Cell Line, Viable</td>\n",
       "      <td>CCLF_PEDS1019N_RETM_p4</td>\n",
       "      <td>NaN</td>\n",
       "      <td>NCELL</td>\n",
       "    </tr>\n",
       "    <tr>\n",
       "      <th>48</th>\n",
       "      <td>CCLF_PEDS1025-Normal-SM-EUVG1</td>\n",
       "      <td>CCLF_PEDS1025</td>\n",
       "      <td>/xchip/clf/seq_data/processed_for_fh/tsca18_20...</td>\n",
       "      <td>CCLF_PEDS1025N_OGM_p8</td>\n",
       "      <td>TSCA Rapid Cancer Detection Panel v2</td>\n",
       "      <td>SM-EUVG1</td>\n",
       "      <td>SM-EUS9Z</td>\n",
       "      <td>Normal</td>\n",
       "      <td>PCR</td>\n",
       "      <td>DNA:DNA Somatic</td>\n",
       "      <td>Cells:Cell Line, Viable</td>\n",
       "      <td>CCLF_PEDS1025N_OGM_p8</td>\n",
       "      <td>Metastatic</td>\n",
       "      <td>NCELL</td>\n",
       "    </tr>\n",
       "    <tr>\n",
       "      <th>57</th>\n",
       "      <td>CCLF_SS1003-Normal-SM-E7S2A</td>\n",
       "      <td>CCLF_SS1003</td>\n",
       "      <td>/xchip/clf/seq_data/processed_for_fh/tsca17_20...</td>\n",
       "      <td>CCLF_SS1003N_primary</td>\n",
       "      <td>TSCA Rapid Cancer Detection Panel v2</td>\n",
       "      <td>SM-E7S2A</td>\n",
       "      <td>SM-E7QWK</td>\n",
       "      <td>Normal</td>\n",
       "      <td>PCR</td>\n",
       "      <td>DNA:DNA Somatic</td>\n",
       "      <td>Tissue:Fresh Tissue</td>\n",
       "      <td>CCLF_SS1003N_primary</td>\n",
       "      <td>Primary</td>\n",
       "      <td>NDNA</td>\n",
       "    </tr>\n",
       "    <tr>\n",
       "      <th>72</th>\n",
       "      <td>GG004-Normal-SM-DHZ9Y</td>\n",
       "      <td>GG004</td>\n",
       "      <td>/xchip/clf/seq_data/processed_for_fh/tsca15_20...</td>\n",
       "      <td>GG004N</td>\n",
       "      <td>TSCA Rapid Cancer Detection Panel v2</td>\n",
       "      <td>SM-DHZ9Y</td>\n",
       "      <td>SM-D182N</td>\n",
       "      <td>Normal</td>\n",
       "      <td>PCR</td>\n",
       "      <td>DNA:DNA Somatic</td>\n",
       "      <td>Cells:Cell Line, Viable</td>\n",
       "      <td>GG004N</td>\n",
       "      <td>Benign</td>\n",
       "      <td>NCELL</td>\n",
       "    </tr>\n",
       "    <tr>\n",
       "      <th>137</th>\n",
       "      <td>PEDS194-Normal-SM-DHZ8P</td>\n",
       "      <td>PEDS194</td>\n",
       "      <td>/xchip/clf/seq_data/processed_for_fh/tsca15_20...</td>\n",
       "      <td>PEDS194N_AR5_p5</td>\n",
       "      <td>TSCA Rapid Cancer Detection Panel v2</td>\n",
       "      <td>SM-DHZ8P</td>\n",
       "      <td>SM-DHNAP</td>\n",
       "      <td>Normal</td>\n",
       "      <td>PCR</td>\n",
       "      <td>Cells:Pellet frozen</td>\n",
       "      <td>Cells:Cell Line, Viable</td>\n",
       "      <td>PEDS194N_AR5_p5</td>\n",
       "      <td>NaN</td>\n",
       "      <td>NCELL</td>\n",
       "    </tr>\n",
       "    <tr>\n",
       "      <th>55</th>\n",
       "      <td>CCLF_RCRF1007-Normal-SM-E7S1M</td>\n",
       "      <td>CCLF_RCRF1007</td>\n",
       "      <td>/xchip/clf/seq_data/processed_for_fh/tsca17_20...</td>\n",
       "      <td>CCLF_RCRF1007N_primary</td>\n",
       "      <td>TSCA Rapid Cancer Detection Panel v2</td>\n",
       "      <td>SM-E7S1M</td>\n",
       "      <td>SM-E77BA</td>\n",
       "      <td>Normal</td>\n",
       "      <td>PCR</td>\n",
       "      <td>DNA:DNA Somatic</td>\n",
       "      <td>Tissue:Fresh Tissue</td>\n",
       "      <td>CCLF_RCRF1007N_primary</td>\n",
       "      <td>NaN</td>\n",
       "      <td>NDNA</td>\n",
       "    </tr>\n",
       "    <tr>\n",
       "      <th>32</th>\n",
       "      <td>EH014-Normal-SM-D4L46</td>\n",
       "      <td>EH014</td>\n",
       "      <td>/xchip/clf/seq_data/processed_for_fh/tsca1213_...</td>\n",
       "      <td>EH014N_RETM_p5</td>\n",
       "      <td>TSCA Rapid Cancer Detection Panel v2</td>\n",
       "      <td>SM-D59K8</td>\n",
       "      <td>SM-D4L46</td>\n",
       "      <td>Normal</td>\n",
       "      <td>PCR</td>\n",
       "      <td>Cells:Pellet frozen</td>\n",
       "      <td>Cells:Cell Line, Viable</td>\n",
       "      <td>EH014N_RETM_p5</td>\n",
       "      <td>NaN</td>\n",
       "      <td>NCELL</td>\n",
       "    </tr>\n",
       "    <tr>\n",
       "      <th>84</th>\n",
       "      <td>EH030-Normal-SM-GBJBI</td>\n",
       "      <td>EH030</td>\n",
       "      <td>/xchip/clf/seq_data/processed_for_fh/tsca21_20...</td>\n",
       "      <td>EH030N_Primary</td>\n",
       "      <td>TSCA Rapid Cancer Detection Panel v2</td>\n",
       "      <td>SM-GBJBI</td>\n",
       "      <td>SM-GB4TX</td>\n",
       "      <td>Normal</td>\n",
       "      <td>PCR</td>\n",
       "      <td>DNA:DNA Somatic</td>\n",
       "      <td>Tissue:Fresh Tissue</td>\n",
       "      <td>EH030N_Primary</td>\n",
       "      <td>NaN</td>\n",
       "      <td>NDNA</td>\n",
       "    </tr>\n",
       "    <tr>\n",
       "      <th>91</th>\n",
       "      <td>PEDS222-Normal-SM-E7S2B</td>\n",
       "      <td>PEDS222</td>\n",
       "      <td>/xchip/clf/seq_data/processed_for_fh/tsca17_20...</td>\n",
       "      <td>PEDS222N_AH_FM_p5</td>\n",
       "      <td>TSCA Rapid Cancer Detection Panel v2</td>\n",
       "      <td>SM-E7S2B</td>\n",
       "      <td>SM-E77BW</td>\n",
       "      <td>Normal</td>\n",
       "      <td>PCR</td>\n",
       "      <td>DNA:DNA Somatic</td>\n",
       "      <td>Cells:Cell Line, Viable</td>\n",
       "      <td>PEDS222N_AH_FM_p5</td>\n",
       "      <td>Primary</td>\n",
       "      <td>NCELL</td>\n",
       "    </tr>\n",
       "    <tr>\n",
       "      <th>56</th>\n",
       "      <td>EH021-Normal-SM-DHZ9J</td>\n",
       "      <td>EH021</td>\n",
       "      <td>/xchip/clf/seq_data/processed_for_fh/tsca15_20...</td>\n",
       "      <td>EH021N_SMGM_p2</td>\n",
       "      <td>TSCA Rapid Cancer Detection Panel v2</td>\n",
       "      <td>SM-DHZ9J</td>\n",
       "      <td>SM-DHNBE</td>\n",
       "      <td>Normal</td>\n",
       "      <td>PCR</td>\n",
       "      <td>Cells:Pellet frozen</td>\n",
       "      <td>Tissue:Fresh Tissue</td>\n",
       "      <td>EH021N_SMGM_p2</td>\n",
       "      <td>NaN</td>\n",
       "      <td>NDNA</td>\n",
       "    </tr>\n",
       "    <tr>\n",
       "      <th>165</th>\n",
       "      <td>PEDS166-Normal-SM-D4L3H</td>\n",
       "      <td>PEDS166</td>\n",
       "      <td>/xchip/clf/seq_data/processed_for_fh/tsca1213_...</td>\n",
       "      <td>PEDS166N_1_SMGM_p5</td>\n",
       "      <td>TSCA Rapid Cancer Detection Panel v2</td>\n",
       "      <td>SM-D59JH</td>\n",
       "      <td>SM-D4L3H</td>\n",
       "      <td>Normal</td>\n",
       "      <td>PCR</td>\n",
       "      <td>Cells:Pellet frozen</td>\n",
       "      <td>Cells:Cell Line, Viable</td>\n",
       "      <td>PEDS166N_1_SMGM_p5</td>\n",
       "      <td>NaN</td>\n",
       "      <td>NCELL</td>\n",
       "    </tr>\n",
       "    <tr>\n",
       "      <th>39</th>\n",
       "      <td>EH015-Normal-SM-D4L2L</td>\n",
       "      <td>EH015</td>\n",
       "      <td>/xchip/clf/seq_data/processed_for_fh/tsca1213_...</td>\n",
       "      <td>EH015N_SMGM_p5</td>\n",
       "      <td>TSCA Rapid Cancer Detection Panel v2</td>\n",
       "      <td>SM-D59II</td>\n",
       "      <td>SM-D4L2L</td>\n",
       "      <td>Normal</td>\n",
       "      <td>PCR</td>\n",
       "      <td>Cells:Pellet frozen</td>\n",
       "      <td>Cells:Cell Line, Viable</td>\n",
       "      <td>EH015N_SMGM_p5</td>\n",
       "      <td>NaN</td>\n",
       "      <td>NCELL</td>\n",
       "    </tr>\n",
       "    <tr>\n",
       "      <th>20</th>\n",
       "      <td>CCLF_RCRF1005-Normal-SM-DNUL8</td>\n",
       "      <td>CCLF_RCRF1005</td>\n",
       "      <td>/xchip/clf/seq_data/processed_for_fh/tsca16_20...</td>\n",
       "      <td>CCLF_RCRF1005N_M87</td>\n",
       "      <td>TSCA Rapid Cancer Detection Panel v2</td>\n",
       "      <td>SM-DOEJA</td>\n",
       "      <td>SM-DNUL8</td>\n",
       "      <td>Normal</td>\n",
       "      <td>PCR</td>\n",
       "      <td>Tissue:Tissue Lysate/Homogenate</td>\n",
       "      <td>Tissue:Fresh Tissue</td>\n",
       "      <td>CCLF_RCRF1005N_M87</td>\n",
       "      <td>Primary</td>\n",
       "      <td>NDNA</td>\n",
       "    </tr>\n",
       "    <tr>\n",
       "      <th>88</th>\n",
       "      <td>PEDS211-Normal-SM-E7S1T</td>\n",
       "      <td>PEDS211</td>\n",
       "      <td>/xchip/clf/seq_data/processed_for_fh/tsca17_20...</td>\n",
       "      <td>PEDS211N_CM_p6</td>\n",
       "      <td>TSCA Rapid Cancer Detection Panel v2</td>\n",
       "      <td>SM-E7S1T</td>\n",
       "      <td>SM-E77BG</td>\n",
       "      <td>Normal</td>\n",
       "      <td>PCR</td>\n",
       "      <td>DNA:DNA Somatic</td>\n",
       "      <td>Cells:Cell Line, Viable</td>\n",
       "      <td>PEDS211N_CM_p6</td>\n",
       "      <td>NaN</td>\n",
       "      <td>NCELL</td>\n",
       "    </tr>\n",
       "    <tr>\n",
       "      <th>139</th>\n",
       "      <td>PEDS194-Normal-SM-DHZ92</td>\n",
       "      <td>PEDS194</td>\n",
       "      <td>/xchip/clf/seq_data/processed_for_fh/tsca15_20...</td>\n",
       "      <td>PEDS194N_RETM_p5</td>\n",
       "      <td>TSCA Rapid Cancer Detection Panel v2</td>\n",
       "      <td>SM-DHZ92</td>\n",
       "      <td>SM-DHNAZ</td>\n",
       "      <td>Normal</td>\n",
       "      <td>PCR</td>\n",
       "      <td>Cells:Pellet frozen</td>\n",
       "      <td>Cells:Cell Line, Viable</td>\n",
       "      <td>PEDS194N_RETM_p5</td>\n",
       "      <td>NaN</td>\n",
       "      <td>NCELL</td>\n",
       "    </tr>\n",
       "    <tr>\n",
       "      <th>70</th>\n",
       "      <td>GG002-Normal-SM-DHZ8X</td>\n",
       "      <td>GG002</td>\n",
       "      <td>/xchip/clf/seq_data/processed_for_fh/tsca15_20...</td>\n",
       "      <td>GG002N</td>\n",
       "      <td>TSCA Rapid Cancer Detection Panel v2</td>\n",
       "      <td>SM-DHZ8X</td>\n",
       "      <td>SM-D182K</td>\n",
       "      <td>Normal</td>\n",
       "      <td>PCR</td>\n",
       "      <td>DNA:DNA Somatic</td>\n",
       "      <td>Cells:Cell Line, Viable</td>\n",
       "      <td>GG002N</td>\n",
       "      <td>Benign</td>\n",
       "      <td>NCELL</td>\n",
       "    </tr>\n",
       "    <tr>\n",
       "      <th>64</th>\n",
       "      <td>CCLF_RCRF1016-Normal-SM-GBJBK</td>\n",
       "      <td>CCLF_RCRF1016</td>\n",
       "      <td>/xchip/clf/seq_data/processed_for_fh/tsca21_20...</td>\n",
       "      <td>CCLF_RCRF1016N_Primary</td>\n",
       "      <td>TSCA Rapid Cancer Detection Panel v2</td>\n",
       "      <td>SM-GBJBK</td>\n",
       "      <td>SM-GB4DI</td>\n",
       "      <td>Normal</td>\n",
       "      <td>PCR</td>\n",
       "      <td>DNA:DNA Somatic</td>\n",
       "      <td>Tissue:Fresh Tissue</td>\n",
       "      <td>CCLF_RCRF1016N_Primary</td>\n",
       "      <td>NaN</td>\n",
       "      <td>NDNA</td>\n",
       "    </tr>\n",
       "    <tr>\n",
       "      <th>155</th>\n",
       "      <td>PEDS153-Normal-SM-D4L1X</td>\n",
       "      <td>PEDS153</td>\n",
       "      <td>/xchip/clf/seq_data/processed_for_fh/tsca1213_...</td>\n",
       "      <td>PEDS153N_RETM_p8</td>\n",
       "      <td>TSCA Rapid Cancer Detection Panel v2</td>\n",
       "      <td>SM-D59HU</td>\n",
       "      <td>SM-D4L1X</td>\n",
       "      <td>Normal</td>\n",
       "      <td>PCR</td>\n",
       "      <td>Cells:Pellet frozen</td>\n",
       "      <td>Cells:Cell Line, Viable</td>\n",
       "      <td>PEDS153N_RETM_p8</td>\n",
       "      <td>NaN</td>\n",
       "      <td>NCELL</td>\n",
       "    </tr>\n",
       "  </tbody>\n",
       "</table>\n",
       "</div>"
      ],
      "text/plain": [
       "                         sample_id  individual_id  \\\n",
       "93         PEDS143-Normal-SM-F67F9        PEDS143   \n",
       "73         PEDS196-Normal-SM-DNULT        PEDS196   \n",
       "38           EH015-Normal-SM-D4L38          EH015   \n",
       "178        PEDS176-Normal-SM-D4L2I        PEDS176   \n",
       "57           EH021-Normal-SM-DHZ4X          EH021   \n",
       "37           EH015-Normal-SM-D4L2J          EH015   \n",
       "177        PEDS175-Normal-SM-D4L37        PEDS175   \n",
       "65         PEDS176-Normal-SM-DNUN3        PEDS176   \n",
       "72         PEDS187-Normal-SM-E7S1S        PEDS187   \n",
       "22   CCLF_PEDS1033-Normal-SM-F29SC  CCLF_PEDS1033   \n",
       "10     CCLF_JL1001-Normal-SM-E7S2K    CCLF_JL1001   \n",
       "168        PEDS209-Normal-SM-DHZ7E        PEDS209   \n",
       "37   CCLF_PEDS1019-Normal-SM-F67EO  CCLF_PEDS1019   \n",
       "48   CCLF_PEDS1025-Normal-SM-EUVG1  CCLF_PEDS1025   \n",
       "57     CCLF_SS1003-Normal-SM-E7S2A    CCLF_SS1003   \n",
       "72           GG004-Normal-SM-DHZ9Y          GG004   \n",
       "137        PEDS194-Normal-SM-DHZ8P        PEDS194   \n",
       "55   CCLF_RCRF1007-Normal-SM-E7S1M  CCLF_RCRF1007   \n",
       "32           EH014-Normal-SM-D4L46          EH014   \n",
       "84           EH030-Normal-SM-GBJBI          EH030   \n",
       "91         PEDS222-Normal-SM-E7S2B        PEDS222   \n",
       "56           EH021-Normal-SM-DHZ9J          EH021   \n",
       "165        PEDS166-Normal-SM-D4L3H        PEDS166   \n",
       "39           EH015-Normal-SM-D4L2L          EH015   \n",
       "20   CCLF_RCRF1005-Normal-SM-DNUL8  CCLF_RCRF1005   \n",
       "88         PEDS211-Normal-SM-E7S1T        PEDS211   \n",
       "139        PEDS194-Normal-SM-DHZ92        PEDS194   \n",
       "70           GG002-Normal-SM-DHZ8X          GG002   \n",
       "64   CCLF_RCRF1016-Normal-SM-GBJBK  CCLF_RCRF1016   \n",
       "155        PEDS153-Normal-SM-D4L1X        PEDS153   \n",
       "\n",
       "                                clean_bam_file_capture  \\\n",
       "93   /xchip/clf/seq_data/processed_for_fh/tsca20_20...   \n",
       "73   /xchip/clf/seq_data/processed_for_fh/tsca16_20...   \n",
       "38   /xchip/clf/seq_data/processed_for_fh/tsca1213_...   \n",
       "178  /xchip/clf/seq_data/processed_for_fh/tsca1213_...   \n",
       "57   /xchip/clf/seq_data/processed_for_fh/tsca15_20...   \n",
       "37   /xchip/clf/seq_data/processed_for_fh/tsca1213_...   \n",
       "177  /xchip/clf/seq_data/processed_for_fh/tsca1213_...   \n",
       "65   /xchip/clf/seq_data/processed_for_fh/tsca16_20...   \n",
       "72   /xchip/clf/seq_data/processed_for_fh/tsca17_20...   \n",
       "22   /xchip/clf/seq_data/processed_for_fh/tsca19_20...   \n",
       "10   /xchip/clf/seq_data/processed_for_fh/tsca17_20...   \n",
       "168  /xchip/clf/seq_data/processed_for_fh/tsca15_20...   \n",
       "37   /xchip/clf/seq_data/processed_for_fh/tsca20_20...   \n",
       "48   /xchip/clf/seq_data/processed_for_fh/tsca18_20...   \n",
       "57   /xchip/clf/seq_data/processed_for_fh/tsca17_20...   \n",
       "72   /xchip/clf/seq_data/processed_for_fh/tsca15_20...   \n",
       "137  /xchip/clf/seq_data/processed_for_fh/tsca15_20...   \n",
       "55   /xchip/clf/seq_data/processed_for_fh/tsca17_20...   \n",
       "32   /xchip/clf/seq_data/processed_for_fh/tsca1213_...   \n",
       "84   /xchip/clf/seq_data/processed_for_fh/tsca21_20...   \n",
       "91   /xchip/clf/seq_data/processed_for_fh/tsca17_20...   \n",
       "56   /xchip/clf/seq_data/processed_for_fh/tsca15_20...   \n",
       "165  /xchip/clf/seq_data/processed_for_fh/tsca1213_...   \n",
       "39   /xchip/clf/seq_data/processed_for_fh/tsca1213_...   \n",
       "20   /xchip/clf/seq_data/processed_for_fh/tsca16_20...   \n",
       "88   /xchip/clf/seq_data/processed_for_fh/tsca17_20...   \n",
       "139  /xchip/clf/seq_data/processed_for_fh/tsca15_20...   \n",
       "70   /xchip/clf/seq_data/processed_for_fh/tsca15_20...   \n",
       "64   /xchip/clf/seq_data/processed_for_fh/tsca21_20...   \n",
       "155  /xchip/clf/seq_data/processed_for_fh/tsca1213_...   \n",
       "\n",
       "     external_id_validation   aggregation_product_name_validation  \\\n",
       "93           PEDS143N_CM_p0  TSCA Rapid Cancer Detection Panel v2   \n",
       "73           PEDS196N_FM_p5  TSCA Rapid Cancer Detection Panel v2   \n",
       "38           EH015N_RETM_p5  TSCA Rapid Cancer Detection Panel v2   \n",
       "178      PEDS176N_1_primary  TSCA Rapid Cancer Detection Panel v2   \n",
       "57           EH021N_primary  TSCA Rapid Cancer Detection Panel v2   \n",
       "37             EH015N_CM_p5  TSCA Rapid Cancer Detection Panel v2   \n",
       "177        PEDS175N_SMGM_p6  TSCA Rapid Cancer Detection Panel v2   \n",
       "65           PEDS176N_FM_p5  TSCA Rapid Cancer Detection Panel v2   \n",
       "72           PEDS187N_CM_p8  TSCA Rapid Cancer Detection Panel v2   \n",
       "22   CCLF_PEDS1033N_Primary  TSCA Rapid Cancer Detection Panel v2   \n",
       "10     CCLF_JL1001N_primary  TSCA Rapid Cancer Detection Panel v2   \n",
       "168        PEDS209N_primary  TSCA Rapid Cancer Detection Panel v2   \n",
       "37   CCLF_PEDS1019N_RETM_p4  TSCA Rapid Cancer Detection Panel v2   \n",
       "48    CCLF_PEDS1025N_OGM_p8  TSCA Rapid Cancer Detection Panel v2   \n",
       "57     CCLF_SS1003N_primary  TSCA Rapid Cancer Detection Panel v2   \n",
       "72                   GG004N  TSCA Rapid Cancer Detection Panel v2   \n",
       "137         PEDS194N_AR5_p5  TSCA Rapid Cancer Detection Panel v2   \n",
       "55   CCLF_RCRF1007N_primary  TSCA Rapid Cancer Detection Panel v2   \n",
       "32           EH014N_RETM_p5  TSCA Rapid Cancer Detection Panel v2   \n",
       "84           EH030N_Primary  TSCA Rapid Cancer Detection Panel v2   \n",
       "91        PEDS222N_AH_FM_p5  TSCA Rapid Cancer Detection Panel v2   \n",
       "56           EH021N_SMGM_p2  TSCA Rapid Cancer Detection Panel v2   \n",
       "165      PEDS166N_1_SMGM_p5  TSCA Rapid Cancer Detection Panel v2   \n",
       "39           EH015N_SMGM_p5  TSCA Rapid Cancer Detection Panel v2   \n",
       "20       CCLF_RCRF1005N_M87  TSCA Rapid Cancer Detection Panel v2   \n",
       "88           PEDS211N_CM_p6  TSCA Rapid Cancer Detection Panel v2   \n",
       "139        PEDS194N_RETM_p5  TSCA Rapid Cancer Detection Panel v2   \n",
       "70                   GG002N  TSCA Rapid Cancer Detection Panel v2   \n",
       "64   CCLF_RCRF1016N_Primary  TSCA Rapid Cancer Detection Panel v2   \n",
       "155        PEDS153N_RETM_p8  TSCA Rapid Cancer Detection Panel v2   \n",
       "\n",
       "    bsp_sample_id_validation stock_sample_id_validation sample_type  \\\n",
       "93                  SM-F67F9                   SM-F64OW      Normal   \n",
       "73                  SM-DOEJV                   SM-DNULT      Normal   \n",
       "38                  SM-D59J7                   SM-D4L38      Normal   \n",
       "178                 SM-D59IF                   SM-D4L2I      Normal   \n",
       "57                  SM-DHZ4X                   SM-DHJLR      Normal   \n",
       "37                  SM-D59IG                   SM-D4L2J      Normal   \n",
       "177                 SM-D59J6                   SM-D4L37      Normal   \n",
       "65                  SM-DOEL5                   SM-DNUN3      Normal   \n",
       "72                  SM-E7S1S                   SM-E77BF      Normal   \n",
       "22                  SM-F29SC                   SM-F21OC      Normal   \n",
       "10                  SM-E7S2K                   SM-E78BH      Normal   \n",
       "168                 SM-DHZ7E                   SM-DHJO8      Normal   \n",
       "37                  SM-F67EO                   SM-F64OF      Normal   \n",
       "48                  SM-EUVG1                   SM-EUS9Z      Normal   \n",
       "57                  SM-E7S2A                   SM-E7QWK      Normal   \n",
       "72                  SM-DHZ9Y                   SM-D182N      Normal   \n",
       "137                 SM-DHZ8P                   SM-DHNAP      Normal   \n",
       "55                  SM-E7S1M                   SM-E77BA      Normal   \n",
       "32                  SM-D59K8                   SM-D4L46      Normal   \n",
       "84                  SM-GBJBI                   SM-GB4TX      Normal   \n",
       "91                  SM-E7S2B                   SM-E77BW      Normal   \n",
       "56                  SM-DHZ9J                   SM-DHNBE      Normal   \n",
       "165                 SM-D59JH                   SM-D4L3H      Normal   \n",
       "39                  SM-D59II                   SM-D4L2L      Normal   \n",
       "20                  SM-DOEJA                   SM-DNUL8      Normal   \n",
       "88                  SM-E7S1T                   SM-E77BG      Normal   \n",
       "139                 SM-DHZ92                   SM-DHNAZ      Normal   \n",
       "70                  SM-DHZ8X                   SM-D182K      Normal   \n",
       "64                  SM-GBJBK                   SM-GB4DI      Normal   \n",
       "155                 SM-D59HU                   SM-D4L1X      Normal   \n",
       "\n",
       "    picard_aggregation_type_validation     processed_subtype_validation  \\\n",
       "93                                 PCR                  DNA:DNA Somatic   \n",
       "73                                 PCR              Cells:Pellet frozen   \n",
       "38                                 PCR              Cells:Pellet frozen   \n",
       "178                                PCR       Tissue:Fresh Frozen Tissue   \n",
       "57                                 PCR                  DNA:DNA Somatic   \n",
       "37                                 PCR              Cells:Pellet frozen   \n",
       "177                                PCR              Cells:Pellet frozen   \n",
       "65                                 PCR              Cells:Pellet frozen   \n",
       "72                                 PCR                  DNA:DNA Somatic   \n",
       "22                                 PCR                  DNA:DNA Somatic   \n",
       "10                                 PCR                  DNA:DNA Somatic   \n",
       "168                                PCR                  DNA:DNA Somatic   \n",
       "37                                 PCR                  DNA:DNA Somatic   \n",
       "48                                 PCR                  DNA:DNA Somatic   \n",
       "57                                 PCR                  DNA:DNA Somatic   \n",
       "72                                 PCR                  DNA:DNA Somatic   \n",
       "137                                PCR              Cells:Pellet frozen   \n",
       "55                                 PCR                  DNA:DNA Somatic   \n",
       "32                                 PCR              Cells:Pellet frozen   \n",
       "84                                 PCR                  DNA:DNA Somatic   \n",
       "91                                 PCR                  DNA:DNA Somatic   \n",
       "56                                 PCR              Cells:Pellet frozen   \n",
       "165                                PCR              Cells:Pellet frozen   \n",
       "39                                 PCR              Cells:Pellet frozen   \n",
       "20                                 PCR  Tissue:Tissue Lysate/Homogenate   \n",
       "88                                 PCR                  DNA:DNA Somatic   \n",
       "139                                PCR              Cells:Pellet frozen   \n",
       "70                                 PCR                  DNA:DNA Somatic   \n",
       "64                                 PCR                  DNA:DNA Somatic   \n",
       "155                                PCR              Cells:Pellet frozen   \n",
       "\n",
       "    source_subtype_validation squid_sample_id_validation tumor_subtype  \\\n",
       "93        Tissue:Fresh Tissue             PEDS143N_CM_p0           NaN   \n",
       "73    Cells:Cell Line, Viable             PEDS196N_FM_p5           NaN   \n",
       "38    Cells:Cell Line, Viable             EH015N_RETM_p5           NaN   \n",
       "178       Tissue:Fresh Tissue         PEDS176N_1_primary           NaN   \n",
       "57        Tissue:Fresh Tissue             EH021N_primary           NaN   \n",
       "37    Cells:Cell Line, Viable               EH015N_CM_p5           NaN   \n",
       "177   Cells:Cell Line, Viable           PEDS175N_SMGM_p6           NaN   \n",
       "65    Cells:Cell Line, Viable             PEDS176N_FM_p5           NaN   \n",
       "72    Cells:Cell Line, Viable             PEDS187N_CM_p8           NaN   \n",
       "22        Tissue:Fresh Tissue     CCLF_PEDS1033N_Primary           NaN   \n",
       "10        Tissue:Fresh Tissue       CCLF_JL1001N_primary           NaN   \n",
       "168       Tissue:Fresh Tissue           PEDS209N_primary           NaN   \n",
       "37    Cells:Cell Line, Viable     CCLF_PEDS1019N_RETM_p4           NaN   \n",
       "48    Cells:Cell Line, Viable      CCLF_PEDS1025N_OGM_p8    Metastatic   \n",
       "57        Tissue:Fresh Tissue       CCLF_SS1003N_primary       Primary   \n",
       "72    Cells:Cell Line, Viable                     GG004N        Benign   \n",
       "137   Cells:Cell Line, Viable            PEDS194N_AR5_p5           NaN   \n",
       "55        Tissue:Fresh Tissue     CCLF_RCRF1007N_primary           NaN   \n",
       "32    Cells:Cell Line, Viable             EH014N_RETM_p5           NaN   \n",
       "84        Tissue:Fresh Tissue             EH030N_Primary           NaN   \n",
       "91    Cells:Cell Line, Viable          PEDS222N_AH_FM_p5       Primary   \n",
       "56        Tissue:Fresh Tissue             EH021N_SMGM_p2           NaN   \n",
       "165   Cells:Cell Line, Viable         PEDS166N_1_SMGM_p5           NaN   \n",
       "39    Cells:Cell Line, Viable             EH015N_SMGM_p5           NaN   \n",
       "20        Tissue:Fresh Tissue         CCLF_RCRF1005N_M87       Primary   \n",
       "88    Cells:Cell Line, Viable             PEDS211N_CM_p6           NaN   \n",
       "139   Cells:Cell Line, Viable           PEDS194N_RETM_p5           NaN   \n",
       "70    Cells:Cell Line, Viable                     GG002N        Benign   \n",
       "64        Tissue:Fresh Tissue     CCLF_RCRF1016N_Primary           NaN   \n",
       "155   Cells:Cell Line, Viable           PEDS153N_RETM_p8           NaN   \n",
       "\n",
       "    short_letter_code  \n",
       "93               NDNA  \n",
       "73              NCELL  \n",
       "38              NCELL  \n",
       "178              NDNA  \n",
       "57               NDNA  \n",
       "37              NCELL  \n",
       "177             NCELL  \n",
       "65              NCELL  \n",
       "72              NCELL  \n",
       "22               NDNA  \n",
       "10               NDNA  \n",
       "168              NDNA  \n",
       "37              NCELL  \n",
       "48              NCELL  \n",
       "57               NDNA  \n",
       "72              NCELL  \n",
       "137             NCELL  \n",
       "55               NDNA  \n",
       "32              NCELL  \n",
       "84               NDNA  \n",
       "91              NCELL  \n",
       "56               NDNA  \n",
       "165             NCELL  \n",
       "39              NCELL  \n",
       "20               NDNA  \n",
       "88              NCELL  \n",
       "139             NCELL  \n",
       "70              NCELL  \n",
       "64               NDNA  \n",
       "155             NCELL  "
      ]
     },
     "execution_count": 50,
     "metadata": {},
     "output_type": "execute_result"
    }
   ],
   "source": []
  },
  {
   "cell_type": "code",
   "execution_count": null,
   "metadata": {
    "collapsed": true
   },
   "outputs": [],
   "source": []
  }
 ],
 "metadata": {
  "kernelspec": {
   "display_name": "Python 3",
   "language": "python",
   "name": "python3"
  },
  "language_info": {
   "codemirror_mode": {
    "name": "ipython",
    "version": 3
   },
   "file_extension": ".py",
   "mimetype": "text/x-python",
   "name": "python",
   "nbconvert_exporter": "python",
   "pygments_lexer": "ipython3",
   "version": "3.6.1"
  }
 },
 "nbformat": 4,
 "nbformat_minor": 2
}
