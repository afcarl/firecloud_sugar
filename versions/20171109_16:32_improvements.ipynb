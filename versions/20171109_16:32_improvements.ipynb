{
 "cells": [
  {
   "cell_type": "code",
   "execution_count": null,
   "metadata": {},
   "outputs": [],
   "source": [
    "import v2fc_interface as fs\n",
    "from firecloud import api as firecloud_api\n",
    "%load_ext autoreload\n",
    "%autoreload 2"
   ]
  },
  {
   "cell_type": "code",
   "execution_count": 2,
   "metadata": {
    "collapsed": true
   },
   "outputs": [],
   "source": [
    "paths_to_samples_info = pd.read_excel(\"paths_to_batches_info.xlsx\")\n",
    "namespace = \"nci-mimoun-bi-org\"\n",
    "workspace = \"CCLF_TSCA_2_0\"\n",
    "google_bucket_id = \"fc-35446f22-ea37-483a-bd6c-5e9fc56851ff\""
   ]
  },
  {
   "cell_type": "code",
   "execution_count": 3,
   "metadata": {
    "collapsed": true
   },
   "outputs": [],
   "source": [
    "tsca_id = \"TSCA1213\"\n",
    "latest_tsca_id = \"TSCA22\"\n",
    "path_to_samples_info = \"/xchip/clf/seq_data/processed_for_fh/tsca1213_201610_SN0106956/tsca1213_201610_SN0106956.import_samples.txt\""
   ]
  },
  {
   "cell_type": "code",
   "execution_count": null,
   "metadata": {
    "editable": false,
    "run_control": {
     "frozen": true
    }
   },
   "outputs": [],
   "source": [
    "### PROCESS FOR NEW BATCH\n",
    "tsca_id = \"TSCA1213\"\n",
    "latest_tsca_id = \"TSCA22\"\n",
    "path_to_samples_info = \"/xchip/clf/seq_data/processed_for_fh/tsca1213_201610_SN0106956/tsca1213_201610_SN0106956.import_samples.txt\"\n",
    "res = fs.upload_data_new_batch(tsca_id, latest_tsca_id, path_to_samples_info, namespace, workspace, google_bucket_id)\n",
    "# res = update_cohorts(latest_tsca_id, namespace, workspace, google_bucket_id)"
   ]
  },
  {
   "cell_type": "code",
   "execution_count": 57,
   "metadata": {},
   "outputs": [
    {
     "data": {
      "text/plain": [
       "(<Response [200]>, <Response [200]>)"
      ]
     },
     "execution_count": 57,
     "metadata": {},
     "output_type": "execute_result"
    }
   ],
   "source": [
    "fs.update_cohorts(latest_tsca_id, namespace, workspace, google_bucket_id)"
   ]
  },
  {
   "cell_type": "code",
   "execution_count": 33,
   "metadata": {
    "collapsed": true
   },
   "outputs": [],
   "source": [
    "remote_sample_sets = pd.read_table('remote_files/sample_set_membership_%s.tsv'%latest_tsca_id)"
   ]
  },
  {
   "cell_type": "code",
   "execution_count": 36,
   "metadata": {},
   "outputs": [],
   "source": [
    "remote_sample_ids = remote_sample_sets['sample'].tolist()"
   ]
  },
  {
   "cell_type": "code",
   "execution_count": 26,
   "metadata": {},
   "outputs": [],
   "source": [
    "all_samples = fs.get_samples_with_cohort(latest_tsca_id, \"paths_to_batches_info.xlsx\", google_bucket_id)\n",
    "pairs = fs.create_pairs_list(all_samples)\n",
    "cohort_pairsets = fs.prepare_cohort_pairsets_for_metadata_exports(latest_tsca_id, pairs, all_samples, blacklist=[])"
   ]
  },
  {
   "cell_type": "code",
   "execution_count": 43,
   "metadata": {},
   "outputs": [
    {
     "data": {
      "text/html": [
       "<div>\n",
       "<style>\n",
       "    .dataframe thead tr:only-child th {\n",
       "        text-align: right;\n",
       "    }\n",
       "\n",
       "    .dataframe thead th {\n",
       "        text-align: left;\n",
       "    }\n",
       "\n",
       "    .dataframe tbody tr th {\n",
       "        vertical-align: top;\n",
       "    }\n",
       "</style>\n",
       "<table border=\"1\" class=\"dataframe\">\n",
       "  <thead>\n",
       "    <tr style=\"text-align: right;\">\n",
       "      <th></th>\n",
       "      <th>membership:pair_set_id</th>\n",
       "      <th>pair_id</th>\n",
       "    </tr>\n",
       "  </thead>\n",
       "  <tbody>\n",
       "    <tr>\n",
       "      <th>0</th>\n",
       "      <td>COHORT_AA</td>\n",
       "      <td>AA34-Tumor-SM-D4L25_NA_TN</td>\n",
       "    </tr>\n",
       "    <tr>\n",
       "      <th>1</th>\n",
       "      <td>COHORT_AA</td>\n",
       "      <td>AA34-Tumor-SM-D4L25_NA_TP</td>\n",
       "    </tr>\n",
       "  </tbody>\n",
       "</table>\n",
       "</div>"
      ],
      "text/plain": [
       "  membership:pair_set_id                    pair_id\n",
       "0              COHORT_AA  AA34-Tumor-SM-D4L25_NA_TN\n",
       "1              COHORT_AA  AA34-Tumor-SM-D4L25_NA_TP"
      ]
     },
     "execution_count": 43,
     "metadata": {},
     "output_type": "execute_result"
    }
   ],
   "source": [
    "cohort_pairsets.head(2)"
   ]
  },
  {
   "cell_type": "code",
   "execution_count": 44,
   "metadata": {
    "collapsed": true
   },
   "outputs": [],
   "source": [
    "remote_pair_sets = pd.read_table('remote_files/pair_set_membership_%s.tsv'%latest_tsca_id)"
   ]
  },
  {
   "cell_type": "code",
   "execution_count": 51,
   "metadata": {},
   "outputs": [],
   "source": [
    "remote_pair_ids = remote_pair_sets['pair'].tolist()"
   ]
  },
  {
   "cell_type": "code",
   "execution_count": 56,
   "metadata": {},
   "outputs": [
    {
     "data": {
      "text/plain": [
       "array(['COHORT_AA', 'COHORT_AB', 'COHORT_BT', 'COHORT_CCLF_RCRF',\n",
       "       'COHORT_CO', 'COHORT_COLO', 'COHORT_CSHL_PDAC', 'COHORT_CY',\n",
       "       'COHORT_DW', 'COHORT_EH', 'COHORT_EW', 'COHORT_GG', 'COHORT_HG',\n",
       "       'COHORT_JB', 'COHORT_JL', 'COHORT_JNT', 'COHORT_NB', 'COHORT_NH',\n",
       "       'COHORT_PEDS', 'COHORT_PK', 'COHORT_PM', 'COHORT_SP', 'COHORT_SS',\n",
       "       'COHORT_TC', 'Cum_TSCA22_all', 'Cum_Tumors_TSCA22_all',\n",
       "       'PoN_TSCA1213_plus_20_random', 'PoN_TSCA14_plus_20_random',\n",
       "       'PoN_TSCA15_plus_20_random', 'PoN_TSCA16_plus_20_random',\n",
       "       'PoN_TSCA17_plus_20_random', 'PoN_TSCA18_plus_20_random',\n",
       "       'PoN_TSCA19_plus_20_random', 'PoN_TSCA20_plus_20_random',\n",
       "       'PoN_TSCA21_plus_20_random', 'PoN_TSCA22_plus_20_random',\n",
       "       'TSCA1213', 'TSCA1213_N', 'TSCA1213_T', 'TSCA14', 'TSCA14_N',\n",
       "       'TSCA14_T', 'TSCA15', 'TSCA15_N', 'TSCA15_T', 'TSCA16', 'TSCA16_N',\n",
       "       'TSCA16_T', 'TSCA17', 'TSCA17_N', 'TSCA17_T', 'TSCA18', 'TSCA18_N',\n",
       "       'TSCA18_T', 'TSCA19', 'TSCA19_N', 'TSCA19_T', 'TSCA20', 'TSCA20_N',\n",
       "       'TSCA20_T', 'TSCA21', 'TSCA21_N', 'TSCA21_T', 'TSCA22', 'TSCA22_N',\n",
       "       'TSCA22_T'], dtype=object)"
      ]
     },
     "execution_count": 56,
     "metadata": {},
     "output_type": "execute_result"
    }
   ],
   "source": [
    "remote_sample_sets['membership:sample_set_id'].unique()"
   ]
  },
  {
   "cell_type": "code",
   "execution_count": null,
   "metadata": {
    "collapsed": true
   },
   "outputs": [],
   "source": []
  }
 ],
 "metadata": {
  "kernelspec": {
   "display_name": "Python 3",
   "language": "python",
   "name": "python3"
  },
  "language_info": {
   "codemirror_mode": {
    "name": "ipython",
    "version": 3
   },
   "file_extension": ".py",
   "mimetype": "text/x-python",
   "name": "python",
   "nbconvert_exporter": "python",
   "pygments_lexer": "ipython3",
   "version": "3.6.1"
  }
 },
 "nbformat": 4,
 "nbformat_minor": 2
}
