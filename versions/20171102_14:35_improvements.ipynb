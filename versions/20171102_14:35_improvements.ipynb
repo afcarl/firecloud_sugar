{
 "cells": [
  {
   "cell_type": "code",
   "execution_count": 3,
   "metadata": {
    "collapsed": true
   },
   "outputs": [],
   "source": [
    "import v2fc_interface as fs\n",
    "\n",
    "%load_ext autoreload\n",
    "%autoreload 2"
   ]
  },
  {
   "cell_type": "code",
   "execution_count": 18,
   "metadata": {
    "collapsed": true
   },
   "outputs": [],
   "source": [
    "paths_to_samples_info = pd.read_excel(\"paths_to_batches_info.xlsx\")\n",
    "namespace = \"nci-mimoun-bi-org\"\n",
    "workspace = \"CCLF_TSCA_2_0\"\n",
    "google_bucket_id = \"fc-35446f22-ea37-483a-bd6c-5e9fc56851ff\""
   ]
  },
  {
   "cell_type": "code",
   "execution_count": 42,
   "metadata": {},
   "outputs": [],
   "source": [
    "# participants = pd.concat([pd.read_table(i) for i in paths_to_samples_info['path_to_samples_info'].tolist()], axis=0)"
   ]
  },
  {
   "cell_type": "code",
   "execution_count": 52,
   "metadata": {},
   "outputs": [
    {
     "data": {
      "text/plain": [
       "array(['TSCA15',\n",
       "       '/xchip/clf/seq_data/processed_for_fh/tsca15_201612_SN0110792/tsca15_201612_SN0110792.import_samples.txt'], dtype=object)"
      ]
     },
     "execution_count": 52,
     "metadata": {},
     "output_type": "execute_result"
    }
   ],
   "source": [
    "paths_to_samples_info.iloc[2].values"
   ]
  },
  {
   "cell_type": "code",
   "execution_count": 53,
   "metadata": {},
   "outputs": [
    {
     "name": "stdout",
     "output_type": "stream",
     "text": [
      "103 Participants in this batch\n"
     ]
    }
   ],
   "source": [
    "pts = fs.prepare_participants_for_metadata_export(\"/xchip/clf/seq_data/processed_for_fh/tsca15_201612_SN0110792/tsca15_201612_SN0110792.import_samples.txt\")"
   ]
  },
  {
   "cell_type": "code",
   "execution_count": 54,
   "metadata": {},
   "outputs": [
    {
     "data": {
      "text/plain": [
       "<Response [200]>"
      ]
     },
     "execution_count": 54,
     "metadata": {},
     "output_type": "execute_result"
    }
   ],
   "source": [
    "fs.save_and_upload_participants(pts, namespace, workspace, 'TSCA15')"
   ]
  },
  {
   "cell_type": "code",
   "execution_count": 65,
   "metadata": {},
   "outputs": [
    {
     "name": "stdout",
     "output_type": "stream",
     "text": [
      "160 Participants in this batch\n",
      "  entity:participant_id\n",
      "0                  AA33\n",
      "1                  AA34\n",
      "2                  AA36\n",
      "3                  AA39\n",
      "4                  AA40\n",
      "73 Participants in this batch\n",
      "  entity:participant_id\n",
      "0                 AB035\n",
      "1                 AB055\n",
      "2                 AB056\n",
      "4                 AB057\n",
      "5                BT1009\n",
      "103 Participants in this batch\n",
      "  entity:participant_id\n",
      "0                  AA24\n",
      "1                  AA25\n",
      "2                  AA33\n",
      "4                  AA38\n",
      "5                  AA39\n",
      "59 Participants in this batch\n",
      "  entity:participant_id\n",
      "0                 AB053\n",
      "1                BT1011\n",
      "2                BT1015\n",
      "3                BT1018\n",
      "4                BT1037\n",
      "63 Participants in this batch\n",
      "  entity:participant_id\n",
      "0                  AA38\n",
      "1                  AA42\n",
      "2                  AA45\n",
      "3                  AA47\n",
      "4                  AA49\n",
      "72 Participants in this batch\n",
      "  entity:participant_id\n",
      "0                  AA49\n",
      "1                  AA53\n",
      "2                  AA55\n",
      "3                  AA56\n",
      "4                  AA59\n",
      "72 Participants in this batch\n",
      "  entity:participant_id\n",
      "0                  AA66\n",
      "1                 AB053\n",
      "2           CCLF_AA1003\n",
      "3           CCLF_AA1005\n",
      "4           CCLF_AA1008\n",
      "59 Participants in this batch\n",
      "  entity:participant_id\n",
      "0                  AA40\n",
      "1                  AA44\n",
      "2                  AA55\n",
      "3                  AA59\n",
      "4                 BT630\n",
      "65 Participants in this batch\n",
      "  entity:participant_id\n",
      "0                  AA53\n",
      "1                  AA55\n",
      "2                  AA56\n",
      "3                 AB059\n",
      "5                BT1016\n",
      "70 Participants in this batch\n",
      "  entity:participant_id\n",
      "0                  AA53\n",
      "1                  AA61\n",
      "2           CCLF_AA1005\n",
      "4           CCLF_AA1024\n",
      "5           CCLF_AA1001\n"
     ]
    }
   ],
   "source": [
    "for idx, row in paths_to_samples_info.iterrows():\n",
    "    participants = fs.prepare_participants_for_metadata_export(row['path_to_samples_info'])\n",
    "    res = fs.save_and_upload_participants(pts, namespace, workspace, row['tsca_id'])\n",
    "    "
   ]
  },
  {
   "cell_type": "code",
   "execution_count": null,
   "metadata": {
    "collapsed": true
   },
   "outputs": [],
   "source": []
  }
 ],
 "metadata": {
  "kernelspec": {
   "display_name": "Python 3",
   "language": "python",
   "name": "python3"
  },
  "language_info": {
   "codemirror_mode": {
    "name": "ipython",
    "version": 3
   },
   "file_extension": ".py",
   "mimetype": "text/x-python",
   "name": "python",
   "nbconvert_exporter": "python",
   "pygments_lexer": "ipython3",
   "version": "3.6.1"
  }
 },
 "nbformat": 4,
 "nbformat_minor": 2
}
