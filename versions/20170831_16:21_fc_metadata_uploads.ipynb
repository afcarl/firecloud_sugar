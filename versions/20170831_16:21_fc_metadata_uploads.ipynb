{
 "cells": [
  {
   "cell_type": "markdown",
   "metadata": {
    "extensions": {
     "jupyter_dashboards": {
      "version": 1,
      "views": {
       "grid_default": {
        "col": 0,
        "height": 4,
        "hidden": false,
        "row": 0,
        "width": 4
       },
       "report_default": {}
      }
     }
    }
   },
   "source": [
    "## Firecloud: Uploading Metadata to Firecloud\n",
    "Mimoun Cadosch 7/17"
   ]
  },
  {
   "cell_type": "code",
   "execution_count": 78,
   "metadata": {
    "collapsed": true,
    "extensions": {
     "jupyter_dashboards": {
      "version": 1,
      "views": {
       "grid_default": {
        "hidden": true
       },
       "report_default": {}
      }
     }
    }
   },
   "outputs": [],
   "source": [
    "from firecloud import api as firecloud_api\n",
    "import pandas as pd\n",
    "import os, sys\n",
    "import datetime\n",
    "from IPython.display import display"
   ]
  },
  {
   "cell_type": "code",
   "execution_count": 74,
   "metadata": {
    "collapsed": true,
    "extensions": {
     "jupyter_dashboards": {
      "version": 1,
      "views": {
       "grid_default": {
        "hidden": true
       },
       "report_default": {}
      }
     }
    }
   },
   "outputs": [],
   "source": [
    "## Resources\n",
    "# https://github.com/broadinstitute/fiss/blob/master/firecloud/api.py\n",
    "# https://github.com/broadinstitute/firecloud-tools"
   ]
  },
  {
   "cell_type": "code",
   "execution_count": 75,
   "metadata": {
    "code_folding": [],
    "collapsed": true,
    "extensions": {
     "jupyter_dashboards": {
      "version": 1,
      "views": {
       "grid_default": {
        "hidden": true
       },
       "report_default": {}
      }
     }
    }
   },
   "outputs": [],
   "source": [
    "# res = firecloud_api.delete_workspace_config(namespace, workspace, \"tsca\", \"Mutect2TumorOnly\")\n",
    "# res = firecloud_api.delete_workspace_config(namespace, workspace, 'tsca', 'CreatePanelOfNormalsGATK')\n",
    "# delete_sample(namespace, workspace, \"AA66-Tumor-SM-F29RQ\")\n",
    "# res = delete_sample_set(namespace, workspace, sample_set_id='CumPoN_1920')\n",
    "# firecloud_api.delete_repository_method('tsca', 'CallSomaticCNV', 10)"
   ]
  },
  {
   "cell_type": "code",
   "execution_count": 76,
   "metadata": {
    "code_folding": [],
    "collapsed": true,
    "extensions": {
     "jupyter_dashboards": {
      "version": 1,
      "views": {
       "grid_default": {
        "col": 8,
        "height": 4,
        "hidden": false,
        "row": 0,
        "width": 4
       },
       "report_default": {}
      }
     }
    }
   },
   "outputs": [],
   "source": [
    "namespace = \"nci-mimoun-bi-org\"\n",
    "workspace = \"CCLF_TSCA\"\n",
    "google_bucket_id = \"fc-35446f22-ea37-483a-bd6c-5e9fc56851ff\"\n",
    "path_to_all_samples_info = \"paths_to_samples_info.xlsx\"\n",
    "# batches_info = pd.read_excel('paths_to_samples_info.xlsx')\n",
    "# Must be True\n",
    "filesystem_mounted = os.path.ismount('/xchip/clf/')"
   ]
  },
  {
   "cell_type": "code",
   "execution_count": 41,
   "metadata": {
    "code_folding": [
     0
    ],
    "collapsed": true,
    "extensions": {
     "jupyter_dashboards": {
      "version": 1,
      "views": {
       "grid_default": {
        "hidden": true
       },
       "report_default": {}
      }
     }
    }
   },
   "outputs": [],
   "source": [
    "def delete_sample(namespace, workspace, sample_id):\n",
    "    \"\"\"Delete sample from workspace/namespace\n",
    "    Args: \n",
    "        Self-explanatory\n",
    "    Returns: \n",
    "        HTTP Response\n",
    "    \"\"\"\n",
    "    body = [{\"entityType\": \"sample\", \"entityName\": sample_id}]\n",
    "    res = firecloud_api.delete_entities(namespace, workspace, body)\n",
    "    return res"
   ]
  },
  {
   "cell_type": "code",
   "execution_count": 42,
   "metadata": {
    "code_folding": [
     0
    ],
    "collapsed": true
   },
   "outputs": [],
   "source": [
    "def delete_sample_set(namespace, workspace, sample_set_id):\n",
    "    \"\"\"Delete sample set from workspace/namespace\n",
    "    Args: \n",
    "        Self-explanatory\n",
    "    Returns: \n",
    "        HTTP Response\n",
    "    \"\"\"\n",
    "    body = [{\"entityType\": \"sample_set\", \"entityName\": sample_set_id}]\n",
    "    res = firecloud_api.delete_entities(namespace, workspace, body)\n",
    "    return res"
   ]
  },
  {
   "cell_type": "code",
   "execution_count": 43,
   "metadata": {
    "code_folding": [
     0
    ],
    "collapsed": true
   },
   "outputs": [],
   "source": [
    "def delete_workspace_config(namespace, workspace, cnamespace, config):\n",
    "    \"\"\"Delete workspace configuration\n",
    "    Args: \n",
    "        Self-explanatory\n",
    "    Returns: \n",
    "        HTTP Response\n",
    "    \"\"\"\n",
    "    res = firecloud_api.delete_workspace_config(namespace, workspace, cnamespace, config)\n",
    "    return res"
   ]
  },
  {
   "cell_type": "code",
   "execution_count": 44,
   "metadata": {
    "code_folding": [
     0
    ],
    "collapsed": true
   },
   "outputs": [],
   "source": [
    "def delete_entity_attributes(namespace, workspace, entity_type, entity_name, attrs):\n",
    "    \"\"\"Delete entity attributes\n",
    "    Args: \n",
    "    - updates: list of attributes to delete\n",
    "    \"\"\"\n",
    "    attr_update = [{\"op\": \"RemoveAttribute\", \"attributeName\":  attr} for attr in attrs]\n",
    "    res = firecloud_api.update_entity(namespace, workspace, entity_type, entity_name, attr_update)\n",
    "    return res"
   ]
  },
  {
   "cell_type": "code",
   "execution_count": 45,
   "metadata": {
    "code_folding": [
     0
    ],
    "collapsed": true
   },
   "outputs": [],
   "source": [
    "def upload_entities_from_tsv(namespace, workspace, entities_tsv_file):\n",
    "    \"\"\"Upload entities from tsv file\n",
    "    Args: \n",
    "        Self-explanatory\n",
    "        entities_tsv_file: path to tsv file\n",
    "    Returns: \n",
    "        HTTP Response\n",
    "    \"\"\"\n",
    "    res = firecloud_api.upload_entities_tsv(namespace, workspace, entities_tsv=entities_tsv_file)\n",
    "    return res"
   ]
  },
  {
   "cell_type": "code",
   "execution_count": 46,
   "metadata": {
    "code_folding": [
     0
    ],
    "collapsed": true,
    "extensions": {
     "jupyter_dashboards": {
      "version": 1,
      "views": {
       "grid_default": {
        "hidden": true
       },
       "report_default": {}
      }
     }
    }
   },
   "outputs": [],
   "source": [
    "def prepare_patients_for_metadata_import(path, tsca_id):\n",
    "    \"\"\"Create participant entities file for Firecloud. \n",
    "    Patients need to exist before you can upload their respective samples\n",
    "    Args:\n",
    "        path_id: path to file ending in {}.import_samples.txt\n",
    "        tsca_id: tsca id\n",
    "    Saves: \n",
    "        ./tsca_id/fc_upload_patients_tsca_{tsca_id}.csv:\n",
    "            contains patient ids in tsca batch\n",
    "    \"\"\"    \n",
    "    raw = pd.read_table(path)\n",
    "    print( \"%d Participants in this batch\" % raw['individual_id'].unique().shape[0] )\n",
    "    # Data to upload\n",
    "    data = pd.DataFrame(raw.individual_id.drop_duplicates()).rename(columns={'individual_id':'entity:participant_id'})\n",
    "    os.system('mkdir -p %s'%tsca_id)\n",
    "    filename = './%s/fc_upload_patients_tsca_%s.txt' % (tsca_id, tsca_id)\n",
    "    data.to_csv(filename, '\\t', index=False)"
   ]
  },
  {
   "cell_type": "code",
   "execution_count": 47,
   "metadata": {
    "code_folding": [
     0
    ],
    "collapsed": true
   },
   "outputs": [],
   "source": [
    "def prepare_batch_sample_set_for_metadata_import(path, tsca_id):\n",
    "    \"\"\"Create sample_set entities file for Firecloud.\n",
    "    A sample for a given batch \n",
    "    Args:\n",
    "        path: path to file ending in {}.import_samples.txt\n",
    "        tsca_id: batch tsca id\n",
    "    \"\"\"\n",
    "    raw = pd.read_table(path)\n",
    "    print( \"%d Samples in this batch\" % raw.shape[0] )\n",
    "\n",
    "    # Data to upload\n",
    "    data = pd.concat([pd.DataFrame(index=raw.index, columns=['membership:sample_set_id'], data=tsca_id), \\\n",
    "                      raw.sample_id], axis=1)\n",
    "    os.system('mkdir -p %s'%tsca_id)\n",
    "    filename = './%s/fc_upload_sample_set_tsca_%s.txt' % (tsca_id, tsca_id)\n",
    "    data.to_csv(filename, '\\t', index=False)"
   ]
  },
  {
   "cell_type": "code",
   "execution_count": 48,
   "metadata": {
    "code_folding": [
     0
    ],
    "collapsed": true,
    "extensions": {
     "jupyter_dashboards": {
      "version": 1,
      "views": {
       "grid_default": {
        "hidden": true
       },
       "report_default": {}
      }
     }
    }
   },
   "outputs": [],
   "source": [
    "def prepare_batch_samples_for_metadata_import(path, tsca_id, google_bucket_id):\n",
    "    \"\"\"Prepare the file to import samples metadata to firecloud\n",
    "    Args:\n",
    "        path_id: path to file ending in {}.import_samples.txt\n",
    "        tsca_id: TSCAXX\n",
    "        google_bucket_id: id of google bucket ('gs://google_bucket_id')\n",
    "    Returns:\n",
    "        pd.DF of data ready for import\n",
    "    Saves:\n",
    "        ./{tsca_id}/fc_upload_samples_tsca_{tsca_id}.txt\n",
    "    \"\"\"\n",
    "    # Import raw data\n",
    "    data = pd.read_table(path)\n",
    "    \n",
    "    # Rename columns to match firecloud requirements\n",
    "    data = data.rename(columns={'sample_id':'entity:sample_id', 'individual_id':'participant_id'})\n",
    "    \n",
    "    # Locations of BAM files in google bucket\n",
    "    path_in_bucket_full = \"gs://%s/seq_data/%s\" % (google_bucket_id, tsca_id)\n",
    "\n",
    "    # Extract bam filename\n",
    "    data['bam_filename'] = data.apply(lambda row: row['clean_bam_file_capture'].split('/')[-1], axis=1)\n",
    "    \n",
    "    # Create bai filename (change extension on .bam file)\n",
    "    data['bai_filename'] = data.apply(lambda row: \"%s%s\" %(row['bam_filename'][:-3], 'bai'), axis=1)\n",
    "    \n",
    "    # Change BAM path from xchip to Google cloud\n",
    "    data['clean_bam_file_capture'] = \\\n",
    "        data.apply( lambda row: \"%s/%s/%s\" \\\n",
    "                   %(path_in_bucket_full, row['external_id_validation'], row['bam_filename']), axis=1)\n",
    "    \n",
    "    # Add location of .bai file \n",
    "    data['clean_bai_file_capture'] = \\\n",
    "        data.apply( lambda row: \"%s/%s/%s\" \\\n",
    "                   %(path_in_bucket_full, row['external_id_validation'], row['bai_filename']), axis=1)\n",
    "       \n",
    "    # Add TSCA ID\n",
    "    data['tsca_id'] = tsca_id\n",
    "        \n",
    "    return data"
   ]
  },
  {
   "cell_type": "code",
   "execution_count": 49,
   "metadata": {
    "code_folding": [
     0
    ],
    "collapsed": true
   },
   "outputs": [],
   "source": [
    "def prepare_panel_of_normals_for_metadata_import(paths, N, name):\n",
    "    \"\"\"Create panel of normals sample set for Firecloud from multiple TSCA batches\n",
    "    Args:\n",
    "        paths: (list) paths to file ending in {}.import_samples.txt\n",
    "        N: (int) number of samples in panel of normals\n",
    "        name: (string) name of Panel of Normals\n",
    "    \"\"\"    \n",
    "    dfs = [ pd.read_table(paths[0]) ]\n",
    "    for i, path in enumerate(paths[1:]):\n",
    "        df_to_concat = pd.read_table(path)\n",
    "        dfs.append(df_to_concat)\n",
    "    df = pd.concat(dfs, axis=0)\n",
    "    # Shuffle samples to pick from all batches\n",
    "    df = df.sample(frac=1).reset_index(drop=True)\n",
    "    normals = df[df.sample_type==\"Normal\"][:N]['sample_id']\n",
    "    if N==-1: print (\"Creating panel of %d normals\" %normals.shape[0])\n",
    "    else: print (\"Creating panel of %d normals\" %N)\n",
    "    \n",
    "    data = pd.concat([pd.DataFrame(index=normals.index, columns=['membership:sample_set_id'], data=name), \\\n",
    "                        normals], axis=1)\n",
    "\n",
    "    os.system('mkdir -p PoNs')\n",
    "    filename = './PoNs/fc_upload_PoN_%s.txt' % (name)\n",
    "    data.to_csv(filename, '\\t', index=False)"
   ]
  },
  {
   "cell_type": "code",
   "execution_count": 50,
   "metadata": {
    "code_folding": [
     0
    ],
    "collapsed": true
   },
   "outputs": [],
   "source": [
    "def write_df_to_csv(data, tsca_id):\n",
    "    data.to_csv('%s/fc_upload_samples_tsca_%s.txt' % (tsca_id, tsca_id), sep='\\t', index=False)"
   ]
  },
  {
   "cell_type": "code",
   "execution_count": 51,
   "metadata": {
    "code_folding": [],
    "collapsed": true
   },
   "outputs": [],
   "source": [
    "def get_samples_multiple_batches(paths_to_samples_info, google_bucket_id, sublist=None):\n",
    "    \"\"\"Compile samples from multiple batches\n",
    "    Args: Self-explanatory\n",
    "        - paths_to_samples_info: .xlsx file containing paths to files containing sample_info\n",
    "        - sublist: list of tsca_ids to only compile data from certain batches. If None, compile data from all batches.\n",
    "    Returns: \n",
    "        - df with samples from all batches\n",
    "    \"\"\"\n",
    "    paths_to_samples_info = pd.read_excel(paths_to_samples_info, index_col=0)\n",
    "    df_list = []\n",
    "\n",
    "    for tsca_id, paths in paths_to_samples_info.iterrows():\n",
    "        if sublist is not None and tsca_id not in sublist:\n",
    "            continue\n",
    "        # Make data Firecloud-compatible\n",
    "        batch_data = prepare_batch_samples_for_metadata_import(paths.path_to_samples_info, tsca_id, google_bucket_id)\n",
    "        df_list.append(batch_data)\n",
    "\n",
    "    all_samples = pd.concat(df_list, axis=0)\n",
    "    return all_samples"
   ]
  },
  {
   "cell_type": "code",
   "execution_count": 52,
   "metadata": {
    "code_folding": [
     0
    ],
    "collapsed": true
   },
   "outputs": [],
   "source": [
    "def add_matching_samples(all_samples, batch_samples):\n",
    "    \"\"\"Add sample_id and bam filepath of matching normals and primary tumor tissue for every sample\n",
    "    in batch_samples\n",
    "    Args:\n",
    "        - all_samples: df with target samples we want to find matches in\n",
    "        - batch_samples: df with source samples we want to find matches for\n",
    "    Returns: \n",
    "        - batch_samples (augmented)\n",
    "    \"\"\"\n",
    "    for index, row in batch_samples.iterrows():\n",
    "        # Find all samples from same individual (same individual_id, different sample_id)\n",
    "        patient_samples = all_samples[ (all_samples['participant_id'] == row['participant_id']) \\\n",
    "                                      & (all_samples['entity:sample_id'] != row['entity:sample_id']) ]\n",
    "\n",
    "        # NOTE: If more than one match tumor tissue or match normal found, select one at random.\n",
    "        # The match normal is used to compute allelic fractions in Mutect2, so for now we ignore the conditions it was grown in.\n",
    "\n",
    "        # Tumor tissue: Add primary tumor tissue\n",
    "        match_primary_tumor = patient_samples[ patient_samples['external_id_validation'] \\\n",
    "                                              .str.contains('primary|prim|tissue|tiss') ]\n",
    "        #    > No primary tumor tissue found\n",
    "        if match_primary_tumor.empty:\n",
    "            batch_samples.loc[index, 'match_primary_tumor_sample_id'] = \"NA\"\n",
    "            batch_samples.loc[index, 'match_primary_tumor_bam_file'] = \"NA\"\n",
    "        #    > Tumor tissue found\n",
    "        elif match_primary_tumor.shape[0] > 0:\n",
    "            match_primary_tumor = match_primary_tumor.sample(n=1)\n",
    "            batch_samples.loc[index, 'match_primary_tumor_sample_id'] = match_primary_tumor['entity:sample_id'].item()\n",
    "            batch_samples.loc[index, 'match_primary_tumor_bam_file'] = match_primary_tumor['clean_bam_file_capture'].item()\n",
    "\n",
    "        # Add match normal\n",
    "        match_normal = patient_samples[ patient_samples['sample_type'] == \"Normal\"]\n",
    "        #   > No match normal found\n",
    "        if match_normal.empty: \n",
    "            batch_samples.loc[index, 'match_normal_sample_id'] = \"NA\"\n",
    "            batch_samples.loc[index, 'match_normal_bam_file'] = \"NA\"\n",
    "        #   > Match normal found\n",
    "        elif match_normal.shape[0] > 0:\n",
    "            match_normal = match_normal.sample(n=1)\n",
    "            batch_samples.loc[index, 'match_normal_sample_id'] = match_normal['entity:sample_id'].item()\n",
    "            batch_samples.loc[index, 'match_normal_bam_file'] = match_normal['clean_bam_file_capture'].item()\n",
    "            \n",
    "    return batch_samples"
   ]
  },
  {
   "cell_type": "code",
   "execution_count": 53,
   "metadata": {
    "code_folding": [
     0
    ],
    "collapsed": true
   },
   "outputs": [],
   "source": [
    "def prepare_batch_data_for_metadata_import(tsca_id, path_to_batch_samples_info, path_to_all_samples_info):    \n",
    "    \"\"\"Prepare batch metadata for uploading to Firecloud\n",
    "    Args:\n",
    "        - path_to_batch_samples_info: path to info on batch samples\n",
    "        - path_to_all_samples_info: path to info on all samples\n",
    "    \"\"\"\n",
    "    prepare_patients_for_metadata_import(path_to_batch_samples_info, tsca_id)\n",
    "    prepare_batch_sample_set_for_metadata_import(path_to_batch_samples_info, tsca_id)\n",
    "    prepare_batch_samples = batch_samples_for_metadata_import(path_to_batch_samples_info, tsca_id, google_bucket_id)\n",
    "    # Collect all samples\n",
    "    all_samples = compile_samples(path_to_all_samples_info, google_bucket_id)\n",
    "    # Add match normals and primaries\n",
    "    batch_samples_with_matches = add_matching_samples(all_samples, batch_samples)\n",
    "    write_df_to_csv(batch_samples_with_matches, tsca_id)\n",
    "    return"
   ]
  },
  {
   "cell_type": "code",
   "execution_count": 54,
   "metadata": {
    "code_folding": [
     0
    ],
    "collapsed": true
   },
   "outputs": [],
   "source": [
    "def export_batch_metadata_to_fc(tsca_id):\n",
    "    \"\"\"Export metadata into Firecloud\n",
    "    Args: \n",
    "        - tsca_id\n",
    "    \"\"\"\n",
    "    patient_metadata    = \"%s/fc_upload_patients_tsca_%s.txt\" % (tsca_id, tsca_id)\n",
    "    sample_set_metadata = \"%s/fc_upload_sample_set_tsca_%s.txt\" % (tsca_id, tsca_id)\n",
    "    samples_metadata    = \"%s/fc_upload_samples_tsca_%s.txt\" % (tsca_id, tsca_id)\n",
    "    pon_metadata        = \"PoNs/fc_upload_PoN_sample_set_tsca_%s_PoN.txt\" %(tsca_id)\n",
    "\n",
    "    # Upload metadata\n",
    "    r1 = upload_entities_from_tsv(namespace, workspace, patient_metadata)\n",
    "    r2 = upload_entities_from_tsv(namespace, workspace, samples_metadata)\n",
    "    r3 = upload_entities_from_tsv(namespace, workspace, sample_set_metadata)\n",
    "    # r4 = upload_entities_from_tsv(namespace, workspace, pon_metadata)\n",
    "    return (r1, r2, r3)"
   ]
  },
  {
   "cell_type": "code",
   "execution_count": 55,
   "metadata": {
    "code_folding": [
     0
    ],
    "collapsed": true
   },
   "outputs": [],
   "source": [
    "def create_cumulative_pon(paths, num_normals, pon_name, export_to_fc=False):\n",
    "    \"\"\"Create Cumulative PoN\n",
    "    Args:\n",
    "        - paths: list of paths to batch info files\n",
    "        - tsca_ids: list of tsca_ids used in this batch\n",
    "        - export_to_fc: export to firecloud\n",
    "    \"\"\"\n",
    "    prepare_panel_of_normals_for_metadata_import(paths, num_normals, pon_name)\n",
    "    if export_to_fc:\n",
    "        return upload_entities_from_tsv(namespace, workspace, 'PoNs/fc_upload_PoN_%s.txt'%pon_name)\n",
    "    return {}"
   ]
  },
  {
   "cell_type": "code",
   "execution_count": 56,
   "metadata": {
    "code_folding": [
     0
    ],
    "collapsed": true
   },
   "outputs": [],
   "source": [
    "def get_method_config_version(namespace, workspace, method_namespace, method_config_name):\n",
    "    res = firecloud_api.get_workspace_config(namespace, workspace, method_namespace, method_config_name)\n",
    "    return res.json()['methodRepoMethod']['methodVersion']"
   ]
  },
  {
   "cell_type": "code",
   "execution_count": 57,
   "metadata": {
    "code_folding": [
     0
    ],
    "collapsed": true
   },
   "outputs": [],
   "source": [
    "def update_method_config_versions():\n",
    "    \"\"\"Updates the file method_configs/latest_method_configs.txt\n",
    "    This file contains the latest snapshot versions of the methods used in Firecloud\n",
    "    \"\"\"\n",
    "    method_configs = pd.read_table('method_configs/latest_method_configs.txt')\n",
    "    method_configs['snapshot'] = method_configs['method'].apply(lambda x: get_method_config_version(namespace, workspace, 'tsca', x))\n",
    "    timestamp = datetime.datetime.now().strftime(\"%Y_%m_%d_%H:%M\")\n",
    "    method_configs.to_csv('method_configs/%s_method_configs.txt'%timestamp, index=False, sep=\"\\t\")\n",
    "    method_configs.to_csv('method_configs/latest_method_configs.txt', index=False, sep=\"\\t\")\n",
    "    return method_configs"
   ]
  },
  {
   "cell_type": "code",
   "execution_count": 63,
   "metadata": {
    "code_folding": [
     0
    ],
    "collapsed": true
   },
   "outputs": [],
   "source": [
    "def download_remote_wdls():\n",
    "    \"\"\"Update WDL scripts in wdls/production directory, to the ones currently being used in Firecloud\n",
    "    \"\"\"\n",
    "    update_method_config_versions()\n",
    "    method_configs = pd.read_table('method_configs/latest_method_configs.txt')\n",
    "    for idx, method in method_configs.iterrows():\n",
    "        res = firecloud_api.get_repository_method('tsca', method.method, method.snapshot)\n",
    "        print(\"Updating WDL for %s:%s\"%(method.method, method.snapshot))\n",
    "        if res.status_code == 200:\n",
    "            text_file = open(\"../wdls/production/%s.wdl\"%method.method, \"w\")\n",
    "            text_file.write(res.json()['payload'])\n",
    "            text_file.close()\n",
    "    return"
   ]
  },
  {
   "cell_type": "code",
   "execution_count": 61,
   "metadata": {
    "code_folding": [
     0
    ],
    "collapsed": true
   },
   "outputs": [],
   "source": [
    "def update_batch_metadata(tsca_id, path_to_batch_samples_info, path_to_all_samples_info):\n",
    "    \"\"\"Upload to Firecloud all the metadata necessary to run TSCA pipeline on new batch\n",
    "    Args: \n",
    "        - tsca_id: tsca_id of the batch to run TSCA pipeline on\n",
    "        - path_to_batch_samples_info: ends in *.import_samples.txt\n",
    "        - path_to_all_samples_info: .xlsx file with path_to_batch_samples_info for all batches\n",
    "    \"\"\"\n",
    "    # Prepare all metadata for batch\n",
    "    prepare_batch_data_for_metadata_import(tsca_id, path_to_batch_samples_info, path_to_all_samples_info)\n",
    "    # Upload to Firecloud\n",
    "    export_batch_metadata_to_fc(batch_id)\n",
    "    return"
   ]
  },
  {
   "cell_type": "code",
   "execution_count": 24,
   "metadata": {
    "code_folding": [
     0
    ],
    "collapsed": true
   },
   "outputs": [],
   "source": [
    "def main():\n",
    "    \"\"\"Run for every new batch.\n",
    "    It is also necessary to upload metadata for all previous batches, because this batch can contain \n",
    "    match normals for samples in previous batches.\n",
    "    \"\"\"\n",
    "    print (\"For new batch: please add batch_id and path_to_batch_info to paths_to_samples_info.xlsx file\")\n",
    "    s = input('Have you updated the paths_to_samples_info.xlsx file? (Y/N)')\n",
    "    if s == \"N\":\n",
    "        print(\"Please do so before proceeding...\")\n",
    "        return\n",
    "    path_to_all_samples_info = \"paths_to_samples_info.xlsx\"\n",
    "    batches_info = pd.read_excel(path_to_all_samples_info)\n",
    "#     for idx, batch in batches_info.iterrows():\n",
    "#         update_batch_metadata(batch.tscaid, batch.path_to_samples_info, path_to_all_samples_info)"
   ]
  },
  {
   "cell_type": "code",
   "execution_count": 25,
   "metadata": {
    "collapsed": true
   },
   "outputs": [],
   "source": [
    "# main()"
   ]
  },
  {
   "cell_type": "markdown",
   "metadata": {},
   "source": [
    "#### Common calls"
   ]
  },
  {
   "cell_type": "code",
   "execution_count": null,
   "metadata": {
    "collapsed": true
   },
   "outputs": [],
   "source": []
  },
  {
   "cell_type": "code",
   "execution_count": null,
   "metadata": {
    "collapsed": true
   },
   "outputs": [],
   "source": []
  },
  {
   "cell_type": "code",
   "execution_count": 22,
   "metadata": {
    "collapsed": true,
    "editable": false
   },
   "outputs": [],
   "source": [
    "### Prepare all metadata for batch\n",
    "# prepare_all_metadata('TSCA20', '/xchip/clf/seq_data/processed_for_fh/tsca20_201707_SN0125362/tsca20_201707_SN0125362.import_samples.txt')"
   ]
  },
  {
   "cell_type": "code",
   "execution_count": 95,
   "metadata": {
    "collapsed": true
   },
   "outputs": [],
   "source": [
    "# attrs = [\"__exac_vcf_index\"]\n",
    "# res = delete_entity_attributes(namespace, workspace, \"sample\", \"AA66-Tumor-SM-F29RQ\", attrs)"
   ]
  },
  {
   "cell_type": "code",
   "execution_count": 23,
   "metadata": {
    "collapsed": true,
    "editable": false
   },
   "outputs": [],
   "source": [
    "### Create PoN for all batches\n",
    "# for index, value in paths_to_samples_info.iterrows():\n",
    "#     paths = [value.path_to_samples_info]\n",
    "#     pon_id = \"%s_PoN\" % value.tsca_id\n",
    "#     panel_of_normals_for_metadata_import(paths, -1, pon_id)"
   ]
  },
  {
   "cell_type": "code",
   "execution_count": 40,
   "metadata": {
    "collapsed": true
   },
   "outputs": [],
   "source": [
    "### Export metadata for batch\n",
    "# r1, r2, r3 = export_metadata('TSCA14')\n",
    "# for index, value in paths_to_samples_info.iterrows():\n",
    "#     export_metadata(value.tsca_id)"
   ]
  },
  {
   "cell_type": "code",
   "execution_count": 22,
   "metadata": {
    "collapsed": true,
    "editable": false
   },
   "outputs": [],
   "source": [
    "### Delete sample sets\n",
    "# for tsca_id in paths_to_samples_info['tsca_id'].tolist():\n",
    "#     delete_sample_set(namespace, workspace, \"%s_PoN\" %tsca_id)\n",
    "# delete_sample_set(namespace, workspace, \"CumPon40\")"
   ]
  },
  {
   "cell_type": "code",
   "execution_count": 29,
   "metadata": {
    "collapsed": true
   },
   "outputs": [],
   "source": [
    "### Deleting a sample\n",
    "# res = delete_sample_set(namespace, workspace, \"TSCA14\")\n",
    "# res = delete_sample(namespace, workspace, 'DW039-Tumor-SM-DB2IF')\n",
    "### NOTE: Delete sample (manually) from samples fc_upload file AND from sample_set membership fc_upload file"
   ]
  },
  {
   "cell_type": "code",
   "execution_count": null,
   "metadata": {
    "collapsed": true
   },
   "outputs": [],
   "source": [
    "### Create cumulative PoN\n",
    "# res = create_cumulative_pon(batches_info.path_to_samples_info.tolist(), 5, 'CumPon5', True)"
   ]
  },
  {
   "cell_type": "code",
   "execution_count": 31,
   "metadata": {
    "collapsed": true
   },
   "outputs": [],
   "source": [
    "# all_samples = compile_samples('paths_to_samples_info.xlsx', google_bucket_id)"
   ]
  },
  {
   "cell_type": "code",
   "execution_count": 37,
   "metadata": {
    "collapsed": true
   },
   "outputs": [],
   "source": [
    "# pon = pd.read_table('PoNs/fc_upload_PoN_sample_set_tsca_CumPon40.txt')"
   ]
  },
  {
   "cell_type": "code",
   "execution_count": 100,
   "metadata": {
    "collapsed": true
   },
   "outputs": [],
   "source": [
    "# pon.merge(all_samples, left_on='sample_id', right_on='entity:sample_id')[['sample_id', 'tsca_id']]"
   ]
  },
  {
   "cell_type": "code",
   "execution_count": 28,
   "metadata": {
    "collapsed": true
   },
   "outputs": [],
   "source": [
    "# update_method_config_versions()"
   ]
  },
  {
   "cell_type": "code",
   "execution_count": null,
   "metadata": {
    "collapsed": true
   },
   "outputs": [],
   "source": []
  },
  {
   "cell_type": "code",
   "execution_count": 26,
   "metadata": {
    "code_folding": [
     0
    ],
    "collapsed": true
   },
   "outputs": [],
   "source": [
    "def download_remote_samples_metadata(filename):\n",
    "    \"\"\"Download metedata of all samples to filename\n",
    "    Args:\n",
    "        - filename: file to write samples metadata to\n",
    "    \"\"\"\n",
    "    res = firecloud_api.get_entities_tsv(namespace, workspace, \"sample\")\n",
    "    with open(filename, 'wb') as f:\n",
    "        for chunk in res.iter_content(chunk_size=1024): \n",
    "            if chunk:\n",
    "                f.write(chunk)\n",
    "    return"
   ]
  },
  {
   "cell_type": "code",
   "execution_count": 27,
   "metadata": {
    "code_folding": [
     0
    ],
    "collapsed": true
   },
   "outputs": [],
   "source": [
    "def add_match_normal_oncotated_maf(target, all_samples):\n",
    "    \"\"\"For every sample, add the path to the match normal oncotated maf file if it exists\n",
    "    Args:\n",
    "        - target: sample we are looking the match normal for\n",
    "        - all_samples: all samples to look for match normal in\n",
    "    \"\"\"\n",
    "    if pd.isnull(target.match_normal_sample_id):\n",
    "        return target\n",
    "    match_normal = all_samples[ all_samples['entity:sample_id'] == target.match_normal_sample_id]\n",
    "    if pd.notnull(match_normal.oncotated_maf.item()):\n",
    "        print(\"Sample %s has normal with maf\"%target['entity:sample_id'])\n",
    "        target['match_normal_oncotated_maf'] = match_normal.oncotated_maf.item()\n",
    "    return target"
   ]
  },
  {
   "cell_type": "code",
   "execution_count": 28,
   "metadata": {
    "code_folding": [
     0
    ],
    "collapsed": true
   },
   "outputs": [],
   "source": [
    "def update_samples_with_oncotated_mafs():\n",
    "    \"\"\"Read remote samples downloaded, and update every sample with the oncotated maf of match normal \n",
    "    if it exists.\n",
    "    Return:\n",
    "        - result\n",
    "    \"\"\"\n",
    "    filename = \"match_normal_updates/remote_samples.tsv\"\n",
    "    download_remote_samples_metadata(filename)\n",
    "    remote_samples = pd.read_table(filename)\n",
    "    updated_samples = remote_samples.apply(lambda row: add_match_normal_oncotated_maf(row, remote_samples), axis=1)\n",
    "    updated_samples_select = updated_samples[['entity:sample_id', 'participant', 'match_normal_oncotated_maf']]\n",
    "    updated_samples_select.to_csv(\"match_normal_updates/remote_samples_updated.tsv\", sep=\"\\t\", index=None)\n",
    "    res = upload_entities_from_tsv(namespace, workspace, \"match_normal_updates/remote_samples_updated.tsv\")\n",
    "    return res"
   ]
  },
  {
   "cell_type": "code",
   "execution_count": 29,
   "metadata": {
    "collapsed": true
   },
   "outputs": [
    {
     "name": "stdout",
     "output_type": "stream",
     "text": [
      "Sample AA44-Normal-SM-DHZ88 has normal with maf\n",
      "Sample CCLF_PEDS1019-Normal-SM-E7S24 has normal with maf\n",
      "Sample CCLF_PEDS1019-Tumor-SM-E7S2G has normal with maf\n",
      "Sample CCLF_PEDS1023-Tumor-SM-F29S7 has normal with maf\n",
      "Sample CCLF_PEDS1027-Tumor-SM-EUVFW has normal with maf\n",
      "Sample CCLF_PEDS1029-Normal-SM-EUVH1 has normal with maf\n",
      "Sample CCLF_PEDS1029-Tumor-SM-EUVFZ has normal with maf\n",
      "Sample CCLF_PEDS1033-Normal-SM-F29SD has normal with maf\n",
      "Sample CCLF_PEDS1033-Tumor-SM-F29SE has normal with maf\n",
      "Sample CCLF_PEDS1034-Tumor-SM-F67EF has normal with maf\n",
      "Sample CCLF_PEDS1037-Tumor-SM-F67FK has normal with maf\n",
      "Sample CCLF_RCRF1009-Tumor-SM-F67FI has normal with maf\n",
      "Sample PEDS063-Tumor-SM-F67EL has normal with maf\n",
      "Sample PEDS143-Tumor-SM-F67FL has normal with maf\n"
     ]
    },
    {
     "data": {
      "text/plain": [
       "<Response [200]>"
      ]
     },
     "execution_count": 29,
     "metadata": {},
     "output_type": "execute_result"
    }
   ],
   "source": [
    "update_samples_with_oncotated_mafs()"
   ]
  },
  {
   "cell_type": "code",
   "execution_count": 109,
   "metadata": {
    "code_folding": [],
    "collapsed": true
   },
   "outputs": [],
   "source": [
    "def add_match_samples_from_current_batch(tsca_id, path_to_all_samples_info):\n",
    "    \"\"\"Add match primaries and normals in current batch for samples in previous batches\n",
    "    Args:\n",
    "        - tsca_id: current batch id\n",
    "    \"\"\"\n",
    "    - read all samples except current one\n",
    "    - read samples in current batch\n",
    "    - for sample in all samples except current one:\n",
    "    - look for primary and normal in current ones\n",
    "    "
   ]
  },
  {
   "cell_type": "code",
   "execution_count": 168,
   "metadata": {
    "collapsed": true
   },
   "outputs": [],
   "source": [
    "all_batches_info      = pd.read_excel(path_to_all_samples_info)\n",
    "previous_batches_info = all_batches_info.iloc[:-1, :]\n",
    "current_batch_info    = all_batches_info.iloc[-1, :]\n",
    "\n",
    "previous_samples = compile_samples(path_to_all_samples_info, google_bucket_id, previous_batches_info.tsca_id.tolist())\n",
    "current_samples  = pd.read_table(current_batch_info.path_to_samples_info)"
   ]
  },
  {
   "cell_type": "code",
   "execution_count": 178,
   "metadata": {},
   "outputs": [
    {
     "data": {
      "text/plain": [
       "Index(['sample_id', 'individual_id', 'clean_bam_file_capture',\n",
       "       'external_id_validation', 'aggregation_product_name_validation',\n",
       "       'bsp_sample_id_validation', 'stock_sample_id_validation', 'sample_type',\n",
       "       'picard_aggregation_type_validation', 'processed_subtype_validation',\n",
       "       'source_subtype_validation', 'squid_sample_id_validation',\n",
       "       'tumor_subtype', 'short_letter_code'],\n",
       "      dtype='object')"
      ]
     },
     "execution_count": 178,
     "metadata": {},
     "output_type": "execute_result"
    }
   ],
   "source": [
    "current_samples.columns"
   ]
  },
  {
   "cell_type": "code",
   "execution_count": 187,
   "metadata": {},
   "outputs": [
    {
     "name": "stdout",
     "output_type": "stream",
     "text": [
      "Sample AA44-Normal-SM-DHZ88 in tsca TSCA15 has match normal in current batch\n",
      "Sample CCLF_PEDS1019-Normal-SM-E7S24 in tsca TSCA17 has match normal in current batch\n",
      "Sample CCLF_PEDS1019-Tumor-SM-E7S2G in tsca TSCA17 has match normal in current batch\n",
      "Sample CCLF_PEDS1019-Normal-SM-EUVGI in tsca TSCA18 has match normal in current batch\n",
      "Sample CCLF_PEDS1027-Tumor-SM-EUVFW in tsca TSCA18 has match normal in current batch\n",
      "Sample CCLF_PEDS1029-Normal-SM-EUVH1 in tsca TSCA18 has match normal in current batch\n",
      "Sample CCLF_PEDS1029-Tumor-SM-EUVFZ in tsca TSCA18 has match normal in current batch\n",
      "Sample CCLF_PEDS1033-Normal-SM-F29SD in tsca TSCA19 has match normal in current batch\n",
      "Sample CCLF_PEDS1033-Normal-SM-F29SC in tsca TSCA19 has match normal in current batch\n",
      "Sample CCLF_PEDS1033-Tumor-SM-F29SF in tsca TSCA19 has match normal in current batch\n",
      "Sample CCLF_PEDS1033-Tumor-SM-F29SE in tsca TSCA19 has match normal in current batch\n"
     ]
    }
   ],
   "source": [
    "samples_with_new_match_normal = []\n",
    "samples_with_new_match_primary= []\n",
    "\n",
    "for idx, row in previous_samples.iterrows():\n",
    "    #print(row['entity:sample_id'])\n",
    "    # Find all samples from same individual (same individual_id, different sample_id)\n",
    "    patient_samples = current_samples[ (current_samples['individual_id'] == row['participant_id']) \\\n",
    "                                      & (current_samples['sample_id'] != row['entity:sample_id']) ]\n",
    "\n",
    "    # NOTE: If more than one match tumor tissue or match normal found, select one at random.\n",
    "    # Tumor tissue: Add primary tumor tissue\n",
    "    match_primary_tumor = current_samples[ current_samples['external_id_validation'] \\\n",
    "                                          .str.contains('primary|prim|tissue|tiss') ]\n",
    "    # Add match primary\n",
    "    if match_primary_tumor.shape[0] > 0:\n",
    "        print (\"Sample %s in tsca %s has match primary in current batch\" %(row['entity:sample_id'], row['tsca_id']))\n",
    "        match_primary_tumor = match_primary_tumor.sample(n=1)\n",
    "        samples_with_new_match_primary.append(match_primary_tumor.sample_id.item())\n",
    "\n",
    "    # Add match normal\n",
    "    match_normal = patient_samples[ patient_samples['sample_type'] == \"Normal\"]\n",
    "    if match_normal.shape[0] > 0:\n",
    "        print(\"Sample %s in tsca %s has match normal in current batch\" % (row['entity:sample_id'], row['tsca_id']))\n",
    "        match_normal = match_normal.sample(n=1)\n",
    "        samples_with_new_match_normal.append(match_normal.sample_id.item())"
   ]
  },
  {
   "cell_type": "code",
   "execution_count": null,
   "metadata": {
    "collapsed": true
   },
   "outputs": [],
   "source": []
  },
  {
   "cell_type": "code",
   "execution_count": null,
   "metadata": {
    "collapsed": true
   },
   "outputs": [],
   "source": []
  },
  {
   "cell_type": "code",
   "execution_count": 77,
   "metadata": {
    "collapsed": true
   },
   "outputs": [],
   "source": [
    "for i in range(50, 60):\n",
    "    firecloud_api.delete_repository_method('tsca', 'Mutect2TumorOnly', i)"
   ]
  },
  {
   "cell_type": "code",
   "execution_count": null,
   "metadata": {
    "collapsed": true
   },
   "outputs": [],
   "source": []
  },
  {
   "cell_type": "code",
   "execution_count": null,
   "metadata": {
    "collapsed": true
   },
   "outputs": [],
   "source": []
  },
  {
   "cell_type": "code",
   "execution_count": null,
   "metadata": {
    "collapsed": true
   },
   "outputs": [],
   "source": []
  },
  {
   "cell_type": "code",
   "execution_count": null,
   "metadata": {
    "collapsed": true
   },
   "outputs": [],
   "source": [
    "def add_matching_samples(all_samples, batch_samples):\n",
    "    \"\"\"Add sample_id and bam filepath of matching normals and primary tumor tissue for every sample\n",
    "    in batch_samples\n",
    "    Args:\n",
    "        - all_samples: df with target samples we want to find matches in\n",
    "        - batch_samples: df with source samples we want to find matches for\n",
    "    Returns: \n",
    "        - batch_samples (augmented)\n",
    "    \"\"\"\n",
    "    for index, row in batch_samples.iterrows():\n",
    "        # Find all samples from same individual (same individual_id, different sample_id)\n",
    "        patient_samples = all_samples[ (all_samples['participant_id'] == row['participant_id']) \\\n",
    "                                      & (all_samples['entity:sample_id'] != row['entity:sample_id']) ]\n",
    "\n",
    "        # NOTE: If more than one match tumor tissue or match normal found, select one at random.\n",
    "        # The match normal is used to compute allelic fractions in Mutect2, so for now we ignore the conditions it was grown in.\n",
    "\n",
    "        # Tumor tissue: Add primary tumor tissue\n",
    "        match_primary_tumor = patient_samples[ patient_samples['external_id_validation'] \\\n",
    "                                              .str.contains('primary|prim|tissue|tiss') ]\n",
    "        #    > No primary tumor tissue found\n",
    "        if match_primary_tumor.empty:\n",
    "            batch_samples.loc[index, 'match_primary_tumor_sample_id'] = \"NA\"\n",
    "            batch_samples.loc[index, 'match_primary_tumor_bam_file'] = \"NA\"\n",
    "        #    > Tumor tissue found\n",
    "        elif match_primary_tumor.shape[0] > 0:\n",
    "            match_primary_tumor = match_primary_tumor.sample(n=1)\n",
    "            batch_samples.loc[index, 'match_primary_tumor_sample_id'] = match_primary_tumor['entity:sample_id'].item()\n",
    "            batch_samples.loc[index, 'match_primary_tumor_bam_file'] = match_primary_tumor['clean_bam_file_capture'].item()\n",
    "\n",
    "        # Add match normal\n",
    "        match_normal = patient_samples[ patient_samples['sample_type'] == \"Normal\"]\n",
    "        #   > No match normal found\n",
    "        if match_normal.empty: \n",
    "            batch_samples.loc[index, 'match_normal_sample_id'] = \"NA\"\n",
    "            batch_samples.loc[index, 'match_normal_bam_file'] = \"NA\"\n",
    "        #   > Match normal found\n",
    "        elif match_normal.shape[0] > 0:\n",
    "            match_normal = match_normal.sample(n=1)\n",
    "            batch_samples.loc[index, 'match_normal_sample_id'] = match_normal['entity:sample_id'].item()\n",
    "            batch_samples.loc[index, 'match_normal_bam_file'] = match_normal['clean_bam_file_capture'].item()\n",
    "            \n",
    "    return batch_samples"
   ]
  }
 ],
 "metadata": {
  "extensions": {
   "jupyter_dashboards": {
    "activeView": "grid_default",
    "version": 1,
    "views": {
     "grid_default": {
      "cellMargin": 10,
      "defaultCellHeight": 20,
      "maxColumns": 12,
      "name": "grid",
      "type": "grid"
     },
     "report_default": {
      "name": "report",
      "type": "report"
     }
    }
   }
  },
  "kernelspec": {
   "display_name": "Python 3",
   "language": "python",
   "name": "python3"
  },
  "language_info": {
   "codemirror_mode": {
    "name": "ipython",
    "version": 3
   },
   "file_extension": ".py",
   "mimetype": "text/x-python",
   "name": "python",
   "nbconvert_exporter": "python",
   "pygments_lexer": "ipython3",
   "version": "3.6.1"
  }
 },
 "nbformat": 4,
 "nbformat_minor": 2
}
