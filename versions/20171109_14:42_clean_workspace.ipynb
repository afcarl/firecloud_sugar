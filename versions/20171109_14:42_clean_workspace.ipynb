{
 "cells": [
  {
   "cell_type": "markdown",
   "metadata": {},
   "source": [
    "# Cleaning a workspace"
   ]
  },
  {
   "cell_type": "code",
   "execution_count": 2,
   "metadata": {
    "collapsed": true
   },
   "outputs": [],
   "source": [
    "import v2fc_interface as fs\n",
    "\n",
    "%load_ext autoreload\n",
    "%autoreload 2"
   ]
  },
  {
   "cell_type": "code",
   "execution_count": 4,
   "metadata": {
    "collapsed": true
   },
   "outputs": [],
   "source": [
    "paths_to_samples_info = pd.read_excel(\"paths_to_batches_info.xlsx\")\n",
    "namespace = \"nci-mimoun-bi-org\"\n",
    "workspace = \"CCLF_TSCA_2_0\"\n",
    "google_bucket_id = \"fc-35446f22-ea37-483a-bd6c-5e9fc56851ff\""
   ]
  },
  {
   "cell_type": "code",
   "execution_count": 1,
   "metadata": {
    "collapsed": true
   },
   "outputs": [],
   "source": [
    "### DELETE PAIR SETS\n",
    "pairsets = pd.read_table('pair_set_entity.tsv')\n",
    "pairsets['entity:pair_set_id'].apply(lambda x: fs.delete_pair_set(namespace, workspace, x))"
   ]
  },
  {
   "cell_type": "code",
   "execution_count": 7,
   "metadata": {
    "collapsed": true
   },
   "outputs": [
    {
     "data": {
      "text/plain": [
       "0       <Response [204]>\n",
       "1       <Response [204]>\n",
       "2       <Response [204]>\n",
       "3       <Response [204]>\n",
       "4       <Response [204]>\n",
       "5       <Response [204]>\n",
       "6       <Response [204]>\n",
       "7       <Response [204]>\n",
       "8       <Response [204]>\n",
       "9       <Response [204]>\n",
       "10      <Response [204]>\n",
       "11      <Response [204]>\n",
       "12      <Response [204]>\n",
       "13      <Response [204]>\n",
       "14      <Response [204]>\n",
       "15      <Response [204]>\n",
       "16      <Response [204]>\n",
       "17      <Response [204]>\n",
       "18      <Response [204]>\n",
       "19      <Response [204]>\n",
       "20      <Response [204]>\n",
       "21      <Response [204]>\n",
       "22      <Response [204]>\n",
       "23      <Response [204]>\n",
       "24      <Response [204]>\n",
       "25      <Response [204]>\n",
       "26      <Response [204]>\n",
       "27      <Response [204]>\n",
       "28      <Response [204]>\n",
       "29      <Response [204]>\n",
       "              ...       \n",
       "1921    <Response [204]>\n",
       "1922    <Response [204]>\n",
       "1923    <Response [204]>\n",
       "1924    <Response [204]>\n",
       "1925    <Response [204]>\n",
       "1926    <Response [204]>\n",
       "1927    <Response [204]>\n",
       "1928    <Response [204]>\n",
       "1929    <Response [204]>\n",
       "1930    <Response [204]>\n",
       "1931    <Response [204]>\n",
       "1932    <Response [204]>\n",
       "1933    <Response [204]>\n",
       "1934    <Response [204]>\n",
       "1935    <Response [204]>\n",
       "1936    <Response [204]>\n",
       "1937    <Response [204]>\n",
       "1938    <Response [204]>\n",
       "1939    <Response [204]>\n",
       "1940    <Response [204]>\n",
       "1941    <Response [204]>\n",
       "1942    <Response [204]>\n",
       "1943    <Response [204]>\n",
       "1944    <Response [204]>\n",
       "1945    <Response [204]>\n",
       "1946    <Response [204]>\n",
       "1947    <Response [204]>\n",
       "1948    <Response [204]>\n",
       "1949    <Response [204]>\n",
       "1950    <Response [204]>\n",
       "Name: entity:pair_id, Length: 1951, dtype: object"
      ]
     },
     "execution_count": 7,
     "metadata": {},
     "output_type": "execute_result"
    }
   ],
   "source": [
    "### DELETE PAIRS\n",
    "pairs = pd.read_table('Pairs/remote_pairs.txt')\n",
    "pairs['entity:pair_id'].apply(lambda x: fs.delete_pair(namespace, workspace, x))"
   ]
  },
  {
   "cell_type": "code",
   "execution_count": 20,
   "metadata": {
    "collapsed": true
   },
   "outputs": [
    {
     "data": {
      "text/plain": [
       "0       <Response [400]>\n",
       "1       <Response [204]>\n",
       "2       <Response [204]>\n",
       "3       <Response [204]>\n",
       "4       <Response [204]>\n",
       "5       <Response [204]>\n",
       "6       <Response [204]>\n",
       "7       <Response [204]>\n",
       "8       <Response [204]>\n",
       "9       <Response [204]>\n",
       "10      <Response [204]>\n",
       "11      <Response [204]>\n",
       "12      <Response [204]>\n",
       "13      <Response [204]>\n",
       "14      <Response [204]>\n",
       "15      <Response [204]>\n",
       "16      <Response [204]>\n",
       "17      <Response [204]>\n",
       "18      <Response [204]>\n",
       "19      <Response [204]>\n",
       "20      <Response [204]>\n",
       "21      <Response [204]>\n",
       "22      <Response [204]>\n",
       "23      <Response [204]>\n",
       "24      <Response [204]>\n",
       "25      <Response [204]>\n",
       "26      <Response [204]>\n",
       "27      <Response [204]>\n",
       "28      <Response [204]>\n",
       "29      <Response [204]>\n",
       "              ...       \n",
       "1110    <Response [204]>\n",
       "1111    <Response [204]>\n",
       "1112    <Response [204]>\n",
       "1113    <Response [204]>\n",
       "1114    <Response [204]>\n",
       "1115    <Response [204]>\n",
       "1116    <Response [204]>\n",
       "1117    <Response [204]>\n",
       "1118    <Response [204]>\n",
       "1119    <Response [204]>\n",
       "1120    <Response [204]>\n",
       "1121    <Response [204]>\n",
       "1122    <Response [204]>\n",
       "1123    <Response [204]>\n",
       "1124    <Response [204]>\n",
       "1125    <Response [204]>\n",
       "1126    <Response [204]>\n",
       "1127    <Response [204]>\n",
       "1128    <Response [204]>\n",
       "1129    <Response [204]>\n",
       "1130    <Response [204]>\n",
       "1131    <Response [204]>\n",
       "1132    <Response [204]>\n",
       "1133    <Response [204]>\n",
       "1134    <Response [204]>\n",
       "1135    <Response [204]>\n",
       "1136    <Response [204]>\n",
       "1137    <Response [204]>\n",
       "1138    <Response [204]>\n",
       "1139    <Response [204]>\n",
       "Name: entity:sample_id, Length: 1140, dtype: object"
      ]
     },
     "execution_count": 20,
     "metadata": {},
     "output_type": "execute_result"
    }
   ],
   "source": [
    "### DELETE SAMPLES\n",
    "samples = pd.read_table('remote_samples.txt')\n",
    "samples['entity:sample_id'].apply(lambda x: fs.delete_sample(namespace, workspace, x))"
   ]
  },
  {
   "cell_type": "code",
   "execution_count": 9,
   "metadata": {
    "collapsed": true
   },
   "outputs": [
    {
     "data": {
      "text/plain": [
       "0     <Response [400]>\n",
       "1     <Response [400]>\n",
       "2     <Response [400]>\n",
       "3     <Response [400]>\n",
       "4     <Response [400]>\n",
       "5     <Response [400]>\n",
       "6     <Response [400]>\n",
       "7     <Response [400]>\n",
       "8     <Response [400]>\n",
       "9     <Response [400]>\n",
       "10    <Response [400]>\n",
       "11    <Response [400]>\n",
       "12    <Response [400]>\n",
       "13    <Response [400]>\n",
       "14    <Response [400]>\n",
       "15    <Response [400]>\n",
       "16    <Response [400]>\n",
       "17    <Response [400]>\n",
       "18    <Response [400]>\n",
       "19    <Response [400]>\n",
       "20    <Response [400]>\n",
       "21    <Response [400]>\n",
       "22    <Response [400]>\n",
       "23    <Response [400]>\n",
       "24    <Response [400]>\n",
       "25    <Response [400]>\n",
       "26    <Response [400]>\n",
       "27    <Response [400]>\n",
       "28    <Response [400]>\n",
       "29    <Response [400]>\n",
       "            ...       \n",
       "40    <Response [204]>\n",
       "41    <Response [204]>\n",
       "42    <Response [204]>\n",
       "43    <Response [204]>\n",
       "44    <Response [204]>\n",
       "45    <Response [204]>\n",
       "46    <Response [204]>\n",
       "47    <Response [204]>\n",
       "48    <Response [204]>\n",
       "49    <Response [204]>\n",
       "50    <Response [204]>\n",
       "51    <Response [204]>\n",
       "52    <Response [204]>\n",
       "53    <Response [204]>\n",
       "54    <Response [204]>\n",
       "55    <Response [204]>\n",
       "56    <Response [204]>\n",
       "57    <Response [204]>\n",
       "58    <Response [204]>\n",
       "59    <Response [204]>\n",
       "60    <Response [204]>\n",
       "61    <Response [204]>\n",
       "62    <Response [204]>\n",
       "63    <Response [204]>\n",
       "64    <Response [204]>\n",
       "65    <Response [204]>\n",
       "66    <Response [204]>\n",
       "67    <Response [204]>\n",
       "68    <Response [204]>\n",
       "69    <Response [204]>\n",
       "Name: entity:sample_set_id, Length: 70, dtype: object"
      ]
     },
     "execution_count": 9,
     "metadata": {},
     "output_type": "execute_result"
    }
   ],
   "source": [
    "### DELETE SAMPLE SETS\n",
    "samplesets = pd.read_table(\"sample_set_entity.tsv\")\n",
    "samplesets['entity:sample_set_id'].apply(lambda x: fs.delete_sample_set(namespace, workspace, x))"
   ]
  },
  {
   "cell_type": "code",
   "execution_count": 12,
   "metadata": {
    "collapsed": true
   },
   "outputs": [
    {
     "data": {
      "text/plain": [
       "0     <Response [204]>\n",
       "1     <Response [204]>\n",
       "2     <Response [204]>\n",
       "3     <Response [204]>\n",
       "4     <Response [204]>\n",
       "5     <Response [204]>\n",
       "6     <Response [204]>\n",
       "7     <Response [204]>\n",
       "8     <Response [204]>\n",
       "9     <Response [204]>\n",
       "10    <Response [204]>\n",
       "11    <Response [204]>\n",
       "12    <Response [204]>\n",
       "13    <Response [204]>\n",
       "14    <Response [204]>\n",
       "15    <Response [204]>\n",
       "16    <Response [204]>\n",
       "17    <Response [204]>\n",
       "18    <Response [204]>\n",
       "19    <Response [204]>\n",
       "20    <Response [204]>\n",
       "21    <Response [204]>\n",
       "22    <Response [204]>\n",
       "23    <Response [204]>\n",
       "24    <Response [204]>\n",
       "25    <Response [204]>\n",
       "26    <Response [204]>\n",
       "27    <Response [204]>\n",
       "28    <Response [204]>\n",
       "29    <Response [204]>\n",
       "30    <Response [204]>\n",
       "31    <Response [204]>\n",
       "32    <Response [204]>\n",
       "33    <Response [204]>\n",
       "34    <Response [204]>\n",
       "35    <Response [204]>\n",
       "36    <Response [204]>\n",
       "37    <Response [204]>\n",
       "38    <Response [204]>\n",
       "39    <Response [204]>\n",
       "40    <Response [204]>\n",
       "41    <Response [400]>\n",
       "42    <Response [409]>\n",
       "43    <Response [204]>\n",
       "Name: entity:participant_id, dtype: object"
      ]
     },
     "execution_count": 12,
     "metadata": {},
     "output_type": "execute_result"
    }
   ],
   "source": [
    "### DELETE PARTICIPANTS\n",
    "participants = pd.read_table('/Users/mimoun/Downloads/participant (3).txt')\n",
    "participants['entity:participant_id'].apply(lambda x: fs.delete_participant(namespace, workspace, x))"
   ]
  },
  {
   "cell_type": "code",
   "execution_count": 10,
   "metadata": {},
   "outputs": [
    {
     "data": {
      "text/plain": [
       "<Response [400]>"
      ]
     },
     "execution_count": 10,
     "metadata": {},
     "output_type": "execute_result"
    }
   ],
   "source": [
    "### DELETE SPECIFIC SAMPLE SET\n",
    "fs.delete_sample_set(namespace, workspace, \"Cum_TSCA22_all\")"
   ]
  },
  {
   "cell_type": "code",
   "execution_count": null,
   "metadata": {
    "collapsed": true
   },
   "outputs": [],
   "source": []
  }
 ],
 "metadata": {
  "kernelspec": {
   "display_name": "Python 3",
   "language": "python",
   "name": "python3"
  },
  "language_info": {
   "codemirror_mode": {
    "name": "ipython",
    "version": 3
   },
   "file_extension": ".py",
   "mimetype": "text/x-python",
   "name": "python",
   "nbconvert_exporter": "python",
   "pygments_lexer": "ipython3",
   "version": "3.6.1"
  }
 },
 "nbformat": 4,
 "nbformat_minor": 2
}
