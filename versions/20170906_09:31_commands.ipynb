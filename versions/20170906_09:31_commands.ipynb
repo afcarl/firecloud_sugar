{
 "cells": [
  {
   "cell_type": "markdown",
   "metadata": {},
   "source": [
    "### Commands"
   ]
  },
  {
   "cell_type": "code",
   "execution_count": 1,
   "metadata": {
    "collapsed": true
   },
   "outputs": [],
   "source": [
    "from firecloud import api as firecloud_api\n",
    "import fc_interface"
   ]
  },
  {
   "cell_type": "code",
   "execution_count": 2,
   "metadata": {},
   "outputs": [],
   "source": [
    "%load_ext autoreload\n",
    "%autoreload 2"
   ]
  },
  {
   "cell_type": "code",
   "execution_count": 3,
   "metadata": {
    "collapsed": true
   },
   "outputs": [],
   "source": [
    "### Parameters\n",
    "namespace = \"nci-mimoun-bi-org\"\n",
    "workspace = \"CCLF_TSCA\"\n",
    "paths_to_samples_info = \"paths_to_batches_info.xlsx\"\n",
    "google_bucket_id = \"fc-35446f22-ea37-483a-bd6c-5e9fc56851ff\""
   ]
  },
  {
   "cell_type": "code",
   "execution_count": null,
   "metadata": {
    "collapsed": true,
    "editable": false,
    "run_control": {
     "frozen": true
    }
   },
   "outputs": [],
   "source": [
    "### Delete unnecessary attributes in samples\n",
    "attrs = [\"annotate_variants_vcf\", \"annotate_variants_vcf_index\", \"oncotated_maf\", \"mutect2_vcf_index\", \"match_normal_oncotated_maf\", \"gnomad_vcf\", \"merged_vcfs\", \"match_primary_tumor_bam_file\"]\n",
    "for idx, row in all_samples.iterrows():\n",
    "    fc_interface.delete_entity_attributes(namespace, workspace, \"sample\", row['entity:sample_id'], attrs)"
   ]
  },
  {
   "cell_type": "code",
   "execution_count": 3,
   "metadata": {
    "editable": false,
    "run_control": {
     "frozen": true
    }
   },
   "outputs": [
    {
     "data": {
      "text/plain": [
       "<Response [200]>"
      ]
     },
     "execution_count": 3,
     "metadata": {},
     "output_type": "execute_result"
    }
   ],
   "source": [
    "### Delete method repostory\n",
    "firecloud_api.delete_repository_method('tsca', 'CreatePoN', 15)"
   ]
  },
  {
   "cell_type": "code",
   "execution_count": 16,
   "metadata": {
    "collapsed": true,
    "editable": false,
    "run_control": {
     "frozen": true
    }
   },
   "outputs": [],
   "source": [
    "### Delete method config\n",
    "firecloud_api.delete_workspace_config(namespace, workspace, \"tsca\", \"Mutect2_for_Normal\")"
   ]
  },
  {
   "cell_type": "code",
   "execution_count": 17,
   "metadata": {
    "editable": false,
    "run_control": {
     "frozen": true
    }
   },
   "outputs": [
    {
     "data": {
      "text/plain": [
       "<Response [200]>"
      ]
     },
     "execution_count": 17,
     "metadata": {},
     "output_type": "execute_result"
    }
   ],
   "source": [
    "### Delete method repository\n",
    "firecloud_api.delete_repository_method('tsca', 'Mutect2_for_Normal', 1)"
   ]
  },
  {
   "cell_type": "code",
   "execution_count": 42,
   "metadata": {
    "collapsed": true,
    "editable": false,
    "run_control": {
     "frozen": true
    }
   },
   "outputs": [],
   "source": [
    "### Delete multiple method repositories\n",
    "for i in range(10, 23):\n",
    "    firecloud_api.delete_repository_method('tsca', 'CreatePoN', i)"
   ]
  },
  {
   "cell_type": "code",
   "execution_count": 18,
   "metadata": {
    "collapsed": true,
    "editable": false,
    "run_control": {
     "frozen": true
    }
   },
   "outputs": [],
   "source": [
    "### Update pairs\n",
    "all_samples = fc_interface.get_samples_multiple_batches(paths_to_samples_info, google_bucket_id)\n",
    "pairs_list = fc_interface.create_pairs_list(all_samples)\n",
    "blacklist = [\"DW039-Tumor-SM-DB2IF\"]\n",
    "clean_pairs_list = pairs_list[ ~pairs_list['case_sample_id'].isin(blacklist)]\n",
    "res = fc_interface.upload_pairs(namespace, workspace, clean_pairs_list)"
   ]
  },
  {
   "cell_type": "code",
   "execution_count": 48,
   "metadata": {
    "collapsed": true,
    "editable": false,
    "run_control": {
     "frozen": true
    }
   },
   "outputs": [
    {
     "name": "stdout",
     "output_type": "stream",
     "text": [
      "65 Participants in this batch\n",
      "95 Samples in this batch\n"
     ]
    }
   ],
   "source": [
    "### Upload metadata for given batch\n",
    "fc_interface.update_batch_metadata('TSCA21', \\\n",
    "                                  '/xchip/clf/seq_data/processed_for_fh/tsca21_201708_SN0128552/tsca21_201708_SN0128552.import_samples.txt', \\\n",
    "                                      paths_to_samples_info, \\\n",
    "                                        namespace, workspace, google_bucket_id)"
   ]
  },
  {
   "cell_type": "code",
   "execution_count": 70,
   "metadata": {
    "editable": false,
    "run_control": {
     "frozen": true
    }
   },
   "outputs": [
    {
     "data": {
      "text/plain": [
       "<Response [204]>"
      ]
     },
     "execution_count": 70,
     "metadata": {},
     "output_type": "execute_result"
    }
   ],
   "source": [
    "### Delete sample_set\n",
    "fc_interface.delete_sample_set(namespace, workspace, 'TSCA1213')"
   ]
  },
  {
   "cell_type": "code",
   "execution_count": 74,
   "metadata": {
    "collapsed": true,
    "editable": false,
    "run_control": {
     "frozen": true
    }
   },
   "outputs": [],
   "source": [
    "### All paths to batch info\n",
    "# pd.read_excel('paths_to_batches_info.xlsx').path_to_samples_info.tolist()"
   ]
  },
  {
   "cell_type": "code",
   "execution_count": 94,
   "metadata": {
    "editable": false,
    "run_control": {
     "frozen": true
    }
   },
   "outputs": [
    {
     "name": "stdout",
     "output_type": "stream",
     "text": [
      "Creating panel of 157 normals\n"
     ]
    }
   ],
   "source": [
    "### Create cumulative PoN\n",
    "batches_info = pd.read_excel(paths_to_samples_info)\n",
    "PoN = fc_interface.create_panel_of_normals(batches_info.path_to_samples_info.tolist(), -1, 'CumPoN21')\n",
    "fc_interface.upload_pon(PoN, 'CumPoN21', namespace, workspace)"
   ]
  },
  {
   "cell_type": "code",
   "execution_count": 109,
   "metadata": {
    "editable": false,
    "run_control": {
     "frozen": true
    }
   },
   "outputs": [
    {
     "name": "stdout",
     "output_type": "stream",
     "text": [
      "Creating panel of 11 normals\n"
     ]
    },
    {
     "data": {
      "text/plain": [
       "<Response [200]>"
      ]
     },
     "execution_count": 109,
     "metadata": {},
     "output_type": "execute_result"
    }
   ],
   "source": [
    "### Create PoN from normals of only one batch\n",
    "tsca21_path = batches_info.path_to_samples_info.tolist()[-1]\n",
    "PoN = fc_interface.create_panel_of_normals([tsca21_path], -1, 'PoN_TSCA21_Normals')\n",
    "fc_interface.upload_pon(PoN, 'PoN_TSCA21_Normals', namespace, workspace)"
   ]
  },
  {
   "cell_type": "code",
   "execution_count": 20,
   "metadata": {
    "collapsed": true,
    "editable": false,
    "run_control": {
     "frozen": true
    }
   },
   "outputs": [],
   "source": [
    "### Download method configs\n",
    "fc_interface.download_method_configs(namespace, workspace)"
   ]
  },
  {
   "cell_type": "code",
   "execution_count": 5,
   "metadata": {
    "collapsed": true
   },
   "outputs": [],
   "source": [
    "fc_interface.create_pairs_list?"
   ]
  },
  {
   "cell_type": "code",
   "execution_count": 23,
   "metadata": {},
   "outputs": [],
   "source": [
    "### Update pairs\n",
    "all_samples = fc_interface.get_samples_multiple_batches(paths_to_samples_info, google_bucket_id)\n",
    "pairs_list = fc_interface.create_pairs_list(all_samples)\n",
    "blacklist = [\"DW039-Tumor-SM-DB2IF\"]\n",
    "clean_pairs_list = pairs_list[ ~pairs_list['case_sample_id'].isin(blacklist)]\n",
    "res = fc_interface.upload_pairs(namespace, workspace, clean_pairs_list)"
   ]
  },
  {
   "cell_type": "code",
   "execution_count": 22,
   "metadata": {},
   "outputs": [
    {
     "data": {
      "text/plain": [
       "(1772, 5)"
      ]
     },
     "execution_count": 22,
     "metadata": {},
     "output_type": "execute_result"
    }
   ],
   "source": [
    "def update_pairs(namespace, workspace, pairs):\n",
    "    os.system('mkdir -p Pairs')\n",
    "    filename = './Pairs/fc_upload_pairs.txt'\n",
    "    pairs.to_csv(filename, '\\t', index=False)\n",
    "    for idx, row in pairs.iterrows():\n",
    "        res = firecloud_api.update_entity(namespace, workspace, \"pair\", entity_name, attr_update)"
   ]
  },
  {
   "cell_type": "code",
   "execution_count": null,
   "metadata": {
    "collapsed": true
   },
   "outputs": [],
   "source": [
    "update_pairs(namespace, workspace, pairs)"
   ]
  }
 ],
 "metadata": {
  "kernelspec": {
   "display_name": "Python 3",
   "language": "python",
   "name": "python3"
  },
  "language_info": {
   "codemirror_mode": {
    "name": "ipython",
    "version": 3
   },
   "file_extension": ".py",
   "mimetype": "text/x-python",
   "name": "python",
   "nbconvert_exporter": "python",
   "pygments_lexer": "ipython3",
   "version": "3.6.1"
  }
 },
 "nbformat": 4,
 "nbformat_minor": 2
}
