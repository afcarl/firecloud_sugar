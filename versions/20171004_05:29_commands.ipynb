{
 "cells": [
  {
   "cell_type": "markdown",
   "metadata": {},
   "source": [
    "### Commands"
   ]
  },
  {
   "cell_type": "code",
   "execution_count": 24,
   "metadata": {
    "collapsed": true
   },
   "outputs": [],
   "source": [
    "from firecloud import api as firecloud_api\n",
    "import fc_interface"
   ]
  },
  {
   "cell_type": "code",
   "execution_count": 25,
   "metadata": {},
   "outputs": [
    {
     "name": "stdout",
     "output_type": "stream",
     "text": [
      "The autoreload extension is already loaded. To reload it, use:\n",
      "  %reload_ext autoreload\n"
     ]
    }
   ],
   "source": [
    "%load_ext autoreload\n",
    "%autoreload 2"
   ]
  },
  {
   "cell_type": "code",
   "execution_count": 26,
   "metadata": {
    "collapsed": true
   },
   "outputs": [],
   "source": [
    "### Parameters\n",
    "namespace = \"nci-mimoun-bi-org\"\n",
    "workspace = \"CCLF_TSCA\"\n",
    "paths_to_samples_info = \"paths_to_batches_info.xlsx\"\n",
    "google_bucket_id = \"fc-35446f22-ea37-483a-bd6c-5e9fc56851ff\"\n",
    "batches_info = pd.read_excel(paths_to_samples_info)"
   ]
  },
  {
   "cell_type": "markdown",
   "metadata": {},
   "source": [
    "#### Deletions"
   ]
  },
  {
   "cell_type": "code",
   "execution_count": null,
   "metadata": {
    "collapsed": true,
    "editable": false,
    "run_control": {
     "frozen": true
    }
   },
   "outputs": [],
   "source": [
    "### Delete unnecessary attributes in samples\n",
    "attrs = [\"annotate_variants_vcf\", \"annotate_variants_vcf_index\", \"oncotated_maf\", \"mutect2_vcf_index\", \"match_normal_oncotated_maf\", \"gnomad_vcf\", \"merged_vcfs\", \"match_primary_tumor_bam_file\"]\n",
    "for idx, row in all_samples.iterrows():\n",
    "    fc_interface.delete_entity_attributes(namespace, workspace, \"sample\", row['entity:sample_id'], attrs)"
   ]
  },
  {
   "cell_type": "code",
   "execution_count": null,
   "metadata": {
    "collapsed": true,
    "editable": false,
    "run_control": {
     "frozen": true
    }
   },
   "outputs": [],
   "source": [
    "### Delete method repostory\n",
    "firecloud_api.delete_repository_method('tsca', 'CreatePoN', 15)"
   ]
  },
  {
   "cell_type": "code",
   "execution_count": null,
   "metadata": {
    "collapsed": true,
    "editable": false,
    "run_control": {
     "frozen": true
    }
   },
   "outputs": [],
   "source": [
    "### Delete method repository\n",
    "firecloud_api.delete_repository_method('tsca', 'Mutect2_for_Normal', 1)"
   ]
  },
  {
   "cell_type": "code",
   "execution_count": null,
   "metadata": {
    "collapsed": true,
    "editable": false,
    "run_control": {
     "frozen": true
    }
   },
   "outputs": [],
   "source": [
    "### Delete multiple method repositories\n",
    "for i in range(10, 23):\n",
    "    firecloud_api.delete_repository_method('tsca', 'CreatePoN', i)"
   ]
  },
  {
   "cell_type": "code",
   "execution_count": null,
   "metadata": {
    "collapsed": true,
    "editable": false,
    "run_control": {
     "frozen": true
    }
   },
   "outputs": [],
   "source": [
    "### Delete method config\n",
    "firecloud_api.delete_workspace_config(namespace, workspace, \"tsca\", \"Mutect2_for_Normal\")"
   ]
  },
  {
   "cell_type": "markdown",
   "metadata": {},
   "source": [
    "#### Pair creation"
   ]
  },
  {
   "cell_type": "code",
   "execution_count": null,
   "metadata": {
    "collapsed": true,
    "editable": false,
    "run_control": {
     "frozen": true
    }
   },
   "outputs": [],
   "source": [
    "### Create pairs\n",
    "all_samples = fc_interface.get_samples_multiple_batches(paths_to_samples_info, google_bucket_id)\n",
    "pairs_list = fc_interface.create_pairs_list(all_samples)\n",
    "blacklist = [\"DW039-Tumor-SM-DB2IF\"]\n",
    "clean_pairs_list = pairs_list[ ~pairs_list['case_sample_id'].isin(blacklist)]"
   ]
  },
  {
   "cell_type": "code",
   "execution_count": null,
   "metadata": {
    "collapsed": true,
    "editable": false,
    "run_control": {
     "frozen": true
    }
   },
   "outputs": [],
   "source": [
    "### Upload pairs\n",
    "res = fc_interface.upload_pairs(namespace, workspace, clean_pairs_list)"
   ]
  },
  {
   "cell_type": "code",
   "execution_count": null,
   "metadata": {
    "collapsed": true,
    "editable": false,
    "run_control": {
     "frozen": true
    }
   },
   "outputs": [],
   "source": [
    "# ### Delete unnecessary attributes in pairs\n",
    "# ### NOT WOKING\n",
    "# all_samples = fc_interface.get_samples_multiple_batches(paths_to_samples_info, google_bucket_id)\n",
    "# pairs_list = fc_interface.create_pairs_list(all_samples)\n",
    "# attrs = [\"__annotate_variants_vcf\", \"__annotate_variants_vcf_index\", \\\n",
    "#          \"__scattered_intervals\", \"__tmp_mutect_vcf2\", \"_tmp_mutect_vcf_index2\", \\\n",
    "#          \"__tmp_mutect_vcf2\", \"_tmp_mutect_vcf_index2\"]\n",
    "# for idx, row in pairs_list.iterrows():\n",
    "#     fc_interface.delete_entity_attributes(namespace, workspace, \"pair\", row['entity:pair_id'], attrs)"
   ]
  },
  {
   "cell_type": "code",
   "execution_count": null,
   "metadata": {
    "collapsed": true,
    "editable": false,
    "run_control": {
     "frozen": true
    }
   },
   "outputs": [],
   "source": [
    "### Upload metadata for given batch\n",
    "fc_interface.update_batch_metadata('TSCA21', \\\n",
    "                                  '/xchip/clf/seq_data/processed_for_fh/tsca21_201708_SN0128552/tsca21_201708_SN0128552.import_samples.txt', \\\n",
    "                                      paths_to_samples_info, \\\n",
    "                                        namespace, workspace, google_bucket_id)"
   ]
  },
  {
   "cell_type": "code",
   "execution_count": null,
   "metadata": {
    "collapsed": true,
    "editable": false,
    "run_control": {
     "frozen": true
    }
   },
   "outputs": [],
   "source": [
    "### Delete sample_set\n",
    "fc_interface.delete_sample_set(namespace, workspace, 'TSCA1213')"
   ]
  },
  {
   "cell_type": "code",
   "execution_count": null,
   "metadata": {
    "collapsed": true,
    "editable": false,
    "run_control": {
     "frozen": true
    }
   },
   "outputs": [],
   "source": [
    "### All paths to batch info\n",
    "# pd.read_excel('paths_to_batches_info.xlsx').path_to_samples_info.tolist()"
   ]
  },
  {
   "cell_type": "code",
   "execution_count": null,
   "metadata": {
    "collapsed": true,
    "editable": false,
    "run_control": {
     "frozen": true
    }
   },
   "outputs": [],
   "source": [
    "### Create cumulative PoN (all batches)\n",
    "batches_info = pd.read_excel(paths_to_samples_info)\n",
    "PoN = fc_interface.create_panel_of_normals(batches_info.path_to_samples_info.tolist(), -1, 'Cum_PoN_21_all')\n",
    "fc_interface.upload_pon(PoN, 'CumPoN21', namespace, workspace)"
   ]
  },
  {
   "cell_type": "code",
   "execution_count": null,
   "metadata": {
    "collapsed": true,
    "editable": false,
    "run_control": {
     "frozen": true
    }
   },
   "outputs": [],
   "source": [
    "### Create PoN from normals of only one batch (no samples from other batches)\n",
    "batches_info = pd.read_excel(paths_to_samples_info)\n",
    "tsca21_path = batches_info.path_to_samples_info.tolist()[-1]\n",
    "PoN = fc_interface.create_panel_of_normals([tsca21_path], -1, 'PoN_TSCA21_Normals')\n",
    "fc_interface.upload_pon(PoN, 'PoN_TSCA21_Normals', namespace, workspace)"
   ]
  },
  {
   "cell_type": "code",
   "execution_count": null,
   "metadata": {
    "collapsed": true,
    "editable": false,
    "run_control": {
     "frozen": true
    }
   },
   "outputs": [],
   "source": [
    "### Delete pair set\n",
    "fc_interface.delete_pair_set(namespace, workspace, 'TSCA1213')"
   ]
  },
  {
   "cell_type": "code",
   "execution_count": null,
   "metadata": {
    "collapsed": true,
    "editable": false,
    "run_control": {
     "frozen": true
    }
   },
   "outputs": [],
   "source": [
    "### Delete sample set\n",
    "fc_interface.delete_sample_set(namespace, workspace, 'TSCA1213')"
   ]
  },
  {
   "cell_type": "code",
   "execution_count": null,
   "metadata": {
    "collapsed": true,
    "editable": false,
    "run_control": {
     "frozen": true
    }
   },
   "outputs": [],
   "source": [
    "### Download method configs\n",
    "fc_interface.download_method_configs(namespace, workspace)"
   ]
  },
  {
   "cell_type": "code",
   "execution_count": null,
   "metadata": {
    "collapsed": true,
    "editable": false,
    "run_control": {
     "frozen": true
    }
   },
   "outputs": [],
   "source": [
    "### Upload pairsets\n",
    "tn_pairsets, tp_pairsets = fc_interface.create_pairsets(all_samples, clean_pairs_list)\n",
    "fc_interface.upload_pairsets(namespace, workspace, tn_pairsets, \"TN\")\n",
    "fc_interface.upload_pairsets(namespace, workspace, tp_pairsets, \"TP\")"
   ]
  },
  {
   "cell_type": "code",
   "execution_count": null,
   "metadata": {
    "collapsed": true,
    "editable": false,
    "run_control": {
     "frozen": true
    }
   },
   "outputs": [],
   "source": [
    "### Delete all pairs\n",
    "for idx, row in clean_pairs_list.iterrows():\n",
    "    res = fc_interface.delete_pair(namespace, workspace, row['entity:pair_id'])\n",
    "    print(res)"
   ]
  },
  {
   "cell_type": "code",
   "execution_count": null,
   "metadata": {
    "collapsed": true,
    "editable": false,
    "run_control": {
     "frozen": true
    }
   },
   "outputs": [],
   "source": [
    "all_samples = fc_interface.get_samples_multiple_batches(paths_to_samples_info, google_bucket_id)\n",
    "pairs_list = fc_interface.create_pairs_list(all_samples)\n",
    "blacklist = [\"DW039-Tumor-SM-DB2IF\"]\n",
    "clean_pairs_list = pairs_list[ ~pairs_list['case_sample_id'].isin(blacklist)]\n",
    "\n",
    "### Update pair attributes\n",
    "update_pair_attrs(namespace, workspace, clean_pairs_list, attrs=['control_sample_tsca_id'])"
   ]
  },
  {
   "cell_type": "code",
   "execution_count": null,
   "metadata": {
    "collapsed": true,
    "editable": false,
    "run_control": {
     "frozen": true
    }
   },
   "outputs": [],
   "source": [
    "### Create PoN from all normals\n",
    "batches_info = pd.read_excel(paths_to_samples_info)\n",
    "all_paths = batches_info.path_to_samples_info.tolist()\n",
    "PoN = fc_interface.create_panel_of_normals(all_paths, -1, 'Cum_PoN_21_all')\n",
    "fc_interface.upload_pon(PoN, 'Cum_PoN_21_all', namespace, workspace)"
   ]
  },
  {
   "cell_type": "code",
   "execution_count": 6,
   "metadata": {
    "collapsed": true
   },
   "outputs": [],
   "source": [
    "### Create PoN with normals from batch + other normals\n",
    "batches_info = pd.read_excel(paths_to_samples_info)\n",
    "all_paths = batches_info.path_to_samples_info.tolist()\n",
    "# PoN = fc_interface.create_panel_of_normals(all_paths, -1, 'Cum_PoN_21_all')\n",
    "# fc_interface.upload_pon(PoN, 'Cum_PoN_21_all', namespace, workspace)"
   ]
  },
  {
   "cell_type": "code",
   "execution_count": 4,
   "metadata": {
    "collapsed": true
   },
   "outputs": [],
   "source": [
    "# batch_id = 'TSCA21'\n",
    "# batch_path = batches_info.loc[batches_info.tsca_id==batch_id, 'path_to_samples_info'].item()\n",
    "# pd.read_table(batch_path)\n",
    "# batch_id, paths, N, name"
   ]
  },
  {
   "cell_type": "code",
   "execution_count": 21,
   "metadata": {
    "collapsed": true,
    "editable": false,
    "run_control": {
     "frozen": true
    }
   },
   "outputs": [],
   "source": [
    "# Retrieve samples before export to FC\n",
    "tsca21 = \\\n",
    "    fc_interface.\\\n",
    "        prepare_batch_samples_for_metadata_export('/xchip/clf/seq_data/processed_for_fh/tsca21_201708_SN0128552/tsca21_201708_SN0128552.import_samples.txt', \\\n",
    "                            'TSCA21', google_bucket_id)"
   ]
  },
  {
   "cell_type": "code",
   "execution_count": null,
   "metadata": {
    "collapsed": true,
    "editable": false,
    "run_control": {
     "frozen": true
    }
   },
   "outputs": [],
   "source": [
    "### Update WDLs\n",
    "fc_interface.download_remote_wdls(namespace, workspace)"
   ]
  },
  {
   "cell_type": "code",
   "execution_count": 336,
   "metadata": {
    "collapsed": true,
    "editable": false,
    "run_control": {
     "frozen": true
    }
   },
   "outputs": [],
   "source": [
    "### Prepare cohorts for export to FC\n",
    "cohorts = fc_interface.prepare_cohorts_for_metadata_export(paths_to_batches_info, google_bucket_id)"
   ]
  },
  {
   "cell_type": "code",
   "execution_count": 358,
   "metadata": {
    "collapsed": true,
    "editable": false,
    "run_control": {
     "frozen": true
    }
   },
   "outputs": [],
   "source": [
    "# # Delete cohorts\n",
    "# cohort_codes = pd.read_table('cohort_files/cohort_names_dictionary.txt', header=None)\n",
    "# for coh_code in cohort_codes.loc[:, 1].tolist():\n",
    "#     res = fc_interface.delete_sample_set(namespace, workspace, coh_code)"
   ]
  },
  {
   "cell_type": "code",
   "execution_count": 338,
   "metadata": {
    "editable": false,
    "run_control": {
     "frozen": true
    }
   },
   "outputs": [
    {
     "name": "stdout",
     "output_type": "stream",
     "text": [
      "65 Participants in this batch\n",
      "95 Samples in this batch\n"
     ]
    }
   ],
   "source": [
    "# ### Upload metadata for given batch\n",
    "# fc_interface.update_batch_metadata('TSCA21', \\\n",
    "#                                   '/xchip/clf/seq_data/processed_for_fh/tsca21_201708_SN0128552/tsca21_201708_SN0128552.import_samples.txt', \\\n",
    "#                                       paths_to_samples_info, \\\n",
    "#                                         namespace, workspace, google_bucket_id)"
   ]
  },
  {
   "cell_type": "code",
   "execution_count": 361,
   "metadata": {
    "collapsed": true,
    "editable": false,
    "run_control": {
     "frozen": true
    }
   },
   "outputs": [],
   "source": [
    "# Export metadata\n",
    "(r1, r2, r3, r4, r5, r6) = fc_interface.export_batch_metadata_to_fc('TSCA21', namespace, workspace)"
   ]
  },
  {
   "cell_type": "code",
   "execution_count": 359,
   "metadata": {
    "collapsed": true,
    "editable": false,
    "run_control": {
     "frozen": true
    }
   },
   "outputs": [],
   "source": [
    "# Cohorts\n",
    "cohorts = fc_interface.prepare_cohorts_for_metadata_export(paths_to_batches_info, google_bucket_id)"
   ]
  },
  {
   "cell_type": "code",
   "execution_count": 66,
   "metadata": {
    "collapsed": true,
    "editable": false,
    "run_control": {
     "frozen": true
    }
   },
   "outputs": [],
   "source": [
    "### Create panel of normals from batch\n",
    "pon = fc_interface.create_panel_of_normals_from_batch(batch_id, paths_to_samples_info, N=20).shape"
   ]
  },
  {
   "cell_type": "code",
   "execution_count": 78,
   "metadata": {
    "collapsed": true,
    "editable": false,
    "run_control": {
     "frozen": true
    }
   },
   "outputs": [],
   "source": [
    "### Create panel of normals from batch\n",
    "for i, row in batches_info.iterrows():\n",
    "    pon, name = fc_interface.create_panel_of_normals_from_batch(row['tsca_id'], paths_to_samples_info, N=20)\n",
    "    fc_interface.upload_pon(pon, name, namespace, workspace)"
   ]
  },
  {
   "cell_type": "markdown",
   "metadata": {},
   "source": [
    "---"
   ]
  },
  {
   "cell_type": "markdown",
   "metadata": {},
   "source": [
    "---"
   ]
  },
  {
   "cell_type": "code",
   "execution_count": null,
   "metadata": {
    "collapsed": true,
    "editable": false,
    "run_control": {
     "frozen": true
    }
   },
   "outputs": [],
   "source": [
    "# Retrieve samples before export to FC\n",
    "tsca21 = \\\n",
    "    fc_interface.\\\n",
    "        prepare_batch_samples_for_metadata_export('/xchip/clf/seq_data/processed_for_fh/tsca21_201708_SN0128552/tsca21_201708_SN0128552.import_samples.txt', \\\n",
    "                            'TSCA21', google_bucket_id)"
   ]
  },
  {
   "cell_type": "code",
   "execution_count": 7,
   "metadata": {
    "collapsed": true
   },
   "outputs": [],
   "source": [
    "# Retrieve samples before export to FC\n",
    "tsca21 = \\\n",
    "    fc_interface.\\\n",
    "        prepare_batch_samples_for_metadata_export('/xchip/clf/seq_data/processed_for_fh/tsca21_201708_SN0128552/tsca21_201708_SN0128552.import_samples.txt', \\\n",
    "                            'TSCA21', google_bucket_id)"
   ]
  },
  {
   "cell_type": "code",
   "execution_count": 8,
   "metadata": {
    "collapsed": true
   },
   "outputs": [],
   "source": [
    "# Export metadata\n",
    "(r1, r2, r3, r4, r5, r6) = fc_interface.export_batch_metadata_to_fc('TSCA21', namespace, workspace)"
   ]
  },
  {
   "cell_type": "code",
   "execution_count": 9,
   "metadata": {
    "collapsed": true
   },
   "outputs": [],
   "source": [
    "res = firecloud_api.delete_workspace_config(namespace, workspace, \"tsca\", \"MutationCalling_Tumors\")"
   ]
  },
  {
   "cell_type": "code",
   "execution_count": 13,
   "metadata": {},
   "outputs": [
    {
     "data": {
      "text/plain": [
       "'nci-mimoun-bi-org'"
      ]
     },
     "execution_count": 13,
     "metadata": {},
     "output_type": "execute_result"
    }
   ],
   "source": [
    "namespace"
   ]
  },
  {
   "cell_type": "code",
   "execution_count": 7,
   "metadata": {
    "collapsed": true
   },
   "outputs": [],
   "source": [
    "# res = fc_interface.delete_sample(namespace, workspace, 'CCLF_AA1012-Tumor-SM-F67DF')"
   ]
  },
  {
   "cell_type": "code",
   "execution_count": 43,
   "metadata": {},
   "outputs": [
    {
     "data": {
      "text/plain": [
       "<Response [204]>"
      ]
     },
     "execution_count": 43,
     "metadata": {},
     "output_type": "execute_result"
    }
   ],
   "source": [
    "fc_interface.delete_sample_set(namespace, workspace, 'COHORT_AA')"
   ]
  },
  {
   "cell_type": "code",
   "execution_count": null,
   "metadata": {
    "collapsed": true
   },
   "outputs": [],
   "source": []
  },
  {
   "cell_type": "code",
   "execution_count": 33,
   "metadata": {
    "editable": false,
    "run_control": {
     "frozen": true
    }
   },
   "outputs": [],
   "source": [
    "### Prepare cohorts for export to FC\n",
    "cohorts = fc_interface.\\\n",
    "            prepare_cohorts_for_metadata_export(paths_to_samples_info, google_bucket_id, \\\n",
    "                                               blacklist=[\"CCLF_AA1012-Tumor-SM-F67DF\"])\n",
    "\n",
    "cohorts_sample_set_metadata = \"cohort_files/fc_upload_sample_set_cohorts.txt\"\n",
    "res = fc_interface.upload_entities_from_tsv(namespace, workspace, cohorts_sample_set_metadata)"
   ]
  },
  {
   "cell_type": "code",
   "execution_count": null,
   "metadata": {
    "collapsed": true
   },
   "outputs": [],
   "source": []
  }
 ],
 "metadata": {
  "kernelspec": {
   "display_name": "Python 3",
   "language": "python",
   "name": "python3"
  },
  "language_info": {
   "codemirror_mode": {
    "name": "ipython",
    "version": 3
   },
   "file_extension": ".py",
   "mimetype": "text/x-python",
   "name": "python",
   "nbconvert_exporter": "python",
   "pygments_lexer": "ipython3",
   "version": "3.6.1"
  }
 },
 "nbformat": 4,
 "nbformat_minor": 2
}
