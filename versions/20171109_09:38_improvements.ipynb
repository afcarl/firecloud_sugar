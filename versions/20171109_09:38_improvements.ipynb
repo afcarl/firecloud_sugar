{
 "cells": [
  {
   "cell_type": "code",
   "execution_count": 1,
   "metadata": {},
   "outputs": [],
   "source": [
    "import v2fc_interface as fs\n",
    "\n",
    "%load_ext autoreload\n",
    "%autoreload 2"
   ]
  },
  {
   "cell_type": "code",
   "execution_count": 2,
   "metadata": {
    "collapsed": true
   },
   "outputs": [],
   "source": [
    "paths_to_samples_info = pd.read_excel(\"paths_to_batches_info.xlsx\")\n",
    "namespace = \"nci-mimoun-bi-org\"\n",
    "workspace = \"CCLF_TSCA_2_0\"\n",
    "google_bucket_id = \"fc-35446f22-ea37-483a-bd6c-5e9fc56851ff\""
   ]
  },
  {
   "cell_type": "code",
   "execution_count": 4,
   "metadata": {},
   "outputs": [],
   "source": [
    "df = fs.get_samples(\"paths_to_batches_info.xlsx\", google_bucket_id)"
   ]
  },
  {
   "cell_type": "code",
   "execution_count": 12,
   "metadata": {},
   "outputs": [
    {
     "data": {
      "text/html": [
       "<div>\n",
       "<style>\n",
       "    .dataframe thead tr:only-child th {\n",
       "        text-align: right;\n",
       "    }\n",
       "\n",
       "    .dataframe thead th {\n",
       "        text-align: left;\n",
       "    }\n",
       "\n",
       "    .dataframe tbody tr th {\n",
       "        vertical-align: top;\n",
       "    }\n",
       "</style>\n",
       "<table border=\"1\" class=\"dataframe\">\n",
       "  <thead>\n",
       "    <tr style=\"text-align: right;\">\n",
       "      <th></th>\n",
       "      <th>tsca_id</th>\n",
       "      <th>path_to_samples_info</th>\n",
       "    </tr>\n",
       "  </thead>\n",
       "  <tbody>\n",
       "    <tr>\n",
       "      <th>0</th>\n",
       "      <td>TSCA1213</td>\n",
       "      <td>/xchip/clf/seq_data/processed_for_fh/tsca1213_...</td>\n",
       "    </tr>\n",
       "    <tr>\n",
       "      <th>1</th>\n",
       "      <td>TSCA14</td>\n",
       "      <td>/xchip/clf/seq_data/processed_for_fh/tsca14_20...</td>\n",
       "    </tr>\n",
       "    <tr>\n",
       "      <th>2</th>\n",
       "      <td>TSCA15</td>\n",
       "      <td>/xchip/clf/seq_data/processed_for_fh/tsca15_20...</td>\n",
       "    </tr>\n",
       "    <tr>\n",
       "      <th>3</th>\n",
       "      <td>TSCA16</td>\n",
       "      <td>/xchip/clf/seq_data/processed_for_fh/tsca16_20...</td>\n",
       "    </tr>\n",
       "    <tr>\n",
       "      <th>4</th>\n",
       "      <td>TSCA17</td>\n",
       "      <td>/xchip/clf/seq_data/processed_for_fh/tsca17_20...</td>\n",
       "    </tr>\n",
       "    <tr>\n",
       "      <th>5</th>\n",
       "      <td>TSCA18</td>\n",
       "      <td>/xchip/clf/seq_data/processed_for_fh/tsca18_20...</td>\n",
       "    </tr>\n",
       "    <tr>\n",
       "      <th>6</th>\n",
       "      <td>TSCA19</td>\n",
       "      <td>/xchip/clf/seq_data/processed_for_fh/tsca19_20...</td>\n",
       "    </tr>\n",
       "    <tr>\n",
       "      <th>7</th>\n",
       "      <td>TSCA20</td>\n",
       "      <td>/xchip/clf/seq_data/processed_for_fh/tsca20_20...</td>\n",
       "    </tr>\n",
       "    <tr>\n",
       "      <th>8</th>\n",
       "      <td>TSCA21</td>\n",
       "      <td>/xchip/clf/seq_data/processed_for_fh/tsca21_20...</td>\n",
       "    </tr>\n",
       "    <tr>\n",
       "      <th>9</th>\n",
       "      <td>TSCA22</td>\n",
       "      <td>/xchip/clf/seq_data/processed_for_fh/tsca22_20...</td>\n",
       "    </tr>\n",
       "  </tbody>\n",
       "</table>\n",
       "</div>"
      ],
      "text/plain": [
       "    tsca_id                               path_to_samples_info\n",
       "0  TSCA1213  /xchip/clf/seq_data/processed_for_fh/tsca1213_...\n",
       "1    TSCA14  /xchip/clf/seq_data/processed_for_fh/tsca14_20...\n",
       "2    TSCA15  /xchip/clf/seq_data/processed_for_fh/tsca15_20...\n",
       "3    TSCA16  /xchip/clf/seq_data/processed_for_fh/tsca16_20...\n",
       "4    TSCA17  /xchip/clf/seq_data/processed_for_fh/tsca17_20...\n",
       "5    TSCA18  /xchip/clf/seq_data/processed_for_fh/tsca18_20...\n",
       "6    TSCA19  /xchip/clf/seq_data/processed_for_fh/tsca19_20...\n",
       "7    TSCA20  /xchip/clf/seq_data/processed_for_fh/tsca20_20...\n",
       "8    TSCA21  /xchip/clf/seq_data/processed_for_fh/tsca21_20...\n",
       "9    TSCA22  /xchip/clf/seq_data/processed_for_fh/tsca22_20..."
      ]
     },
     "execution_count": 12,
     "metadata": {},
     "output_type": "execute_result"
    }
   ],
   "source": [
    "paths_to_samples_info"
   ]
  },
  {
   "cell_type": "code",
   "execution_count": 13,
   "metadata": {},
   "outputs": [
    {
     "name": "stdout",
     "output_type": "stream",
     "text": [
      "160 Participants in this batch\n"
     ]
    }
   ],
   "source": [
    "participants = fs.prepare_participants_for_metadata_export(paths_to_samples_info.loc[0, 'path_to_samples_info'])"
   ]
  },
  {
   "cell_type": "code",
   "execution_count": 18,
   "metadata": {},
   "outputs": [],
   "source": [
    "# paths_to_samples_info.loc[paths_to_samples_info.tsca_id=='TSCA1213', 'path_to_samples_info'].item()"
   ]
  },
  {
   "cell_type": "code",
   "execution_count": 20,
   "metadata": {},
   "outputs": [
    {
     "data": {
      "text/plain": [
       "<Response [200]>"
      ]
     },
     "execution_count": 20,
     "metadata": {},
     "output_type": "execute_result"
    }
   ],
   "source": [
    "fs.save_and_upload_participants(participants, namespace, workspace, \"TSCA1213\")"
   ]
  },
  {
   "cell_type": "code",
   "execution_count": null,
   "metadata": {
    "collapsed": true
   },
   "outputs": [],
   "source": []
  }
 ],
 "metadata": {
  "kernelspec": {
   "display_name": "Python 3",
   "language": "python",
   "name": "python3"
  },
  "language_info": {
   "codemirror_mode": {
    "name": "ipython",
    "version": 3
   },
   "file_extension": ".py",
   "mimetype": "text/x-python",
   "name": "python",
   "nbconvert_exporter": "python",
   "pygments_lexer": "ipython3",
   "version": "3.6.1"
  }
 },
 "nbformat": 4,
 "nbformat_minor": 2
}
