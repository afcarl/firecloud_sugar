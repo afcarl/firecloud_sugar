{
 "cells": [
  {
   "cell_type": "markdown",
   "metadata": {
    "extensions": {
     "jupyter_dashboards": {
      "version": 1,
      "views": {
       "grid_default": {
        "col": 0,
        "height": 4,
        "hidden": false,
        "row": 0,
        "width": 4
       },
       "report_default": {}
      }
     }
    }
   },
   "source": [
    "## Firecloud: Uploading Metadata to Firecloud\n",
    "Mimoun Cadosch 7/17"
   ]
  },
  {
   "cell_type": "code",
   "execution_count": 1,
   "metadata": {
    "collapsed": true,
    "extensions": {
     "jupyter_dashboards": {
      "version": 1,
      "views": {
       "grid_default": {
        "hidden": true
       },
       "report_default": {}
      }
     }
    }
   },
   "outputs": [],
   "source": [
    "from firecloud import api as firecloud_api\n",
    "import pandas as pd\n",
    "import os\n",
    "from IPython.display import display"
   ]
  },
  {
   "cell_type": "code",
   "execution_count": 2,
   "metadata": {
    "collapsed": true,
    "extensions": {
     "jupyter_dashboards": {
      "version": 1,
      "views": {
       "grid_default": {
        "hidden": true
       },
       "report_default": {}
      }
     }
    }
   },
   "outputs": [],
   "source": [
    "## Resources\n",
    "# https://github.com/broadinstitute/fiss/blob/master/firecloud/api.py\n",
    "# https://github.com/broadinstitute/firecloud-tools"
   ]
  },
  {
   "cell_type": "code",
   "execution_count": 28,
   "metadata": {
    "code_folding": [],
    "extensions": {
     "jupyter_dashboards": {
      "version": 1,
      "views": {
       "grid_default": {
        "hidden": true
       },
       "report_default": {}
      }
     }
    }
   },
   "outputs": [],
   "source": [
    "# res = firecloud_api.delete_workspace_config(namespace, workspace, \"tsca\", \"Mutect2TumorOnly\")\n",
    "# res = firecloud_api.delete_workspace_config(namespace, workspace, 'tsca', 'CreatePanelOfNormalsGATK')\n",
    "# delete_sample(namespace, workspace, \"AA66-Tumor-SM-F29RQ\")\n",
    "# res = delete_sample_set(namespace, workspace, sample_set_id='CumPoN_1920')\n",
    "# firecloud_api.delete_repository_method('tsca', 'Mutect2TumorOnly', 9)"
   ]
  },
  {
   "cell_type": "code",
   "execution_count": 4,
   "metadata": {
    "code_folding": [
     0
    ],
    "collapsed": true,
    "extensions": {
     "jupyter_dashboards": {
      "version": 1,
      "views": {
       "grid_default": {
        "hidden": true
       },
       "report_default": {}
      }
     }
    }
   },
   "outputs": [],
   "source": [
    "def delete_sample(namespace, workspace, sample_id):\n",
    "    \"\"\"Delete sample from workspace/namespace\n",
    "    Args: \n",
    "        Self-explanatory\n",
    "    Returns: \n",
    "        HTTP Response\n",
    "    \"\"\"\n",
    "    body = [{\"entityType\": \"sample\", \"entityName\": sample_id}]\n",
    "    res = firecloud_api.delete_entities(namespace, workspace, body)\n",
    "    return res"
   ]
  },
  {
   "cell_type": "code",
   "execution_count": 5,
   "metadata": {
    "code_folding": [
     0
    ],
    "collapsed": true
   },
   "outputs": [],
   "source": [
    "def delete_sample_set(namespace, workspace, sample_set_id):\n",
    "    \"\"\"Delete sample set from workspace/namespace\n",
    "    Args: \n",
    "        Self-explanatory\n",
    "    Returns: \n",
    "        HTTP Response\n",
    "    \"\"\"\n",
    "    body = [{\"entityType\": \"sample_set\", \"entityName\": sample_set_id}]\n",
    "    res = firecloud_api.delete_entities(namespace, workspace, body)\n",
    "    return res"
   ]
  },
  {
   "cell_type": "code",
   "execution_count": 6,
   "metadata": {
    "code_folding": [
     0
    ],
    "collapsed": true
   },
   "outputs": [],
   "source": [
    "def delete_workspace_config(namespace, workspace, cnamespace, config):\n",
    "    \"\"\"Delete workspace configuration\n",
    "    Args: \n",
    "        Self-explanatory\n",
    "    Returns: \n",
    "        HTTP Response\n",
    "    \"\"\"\n",
    "    res = firecloud_api.delete_workspace_config(namespace, workspace, cnamespace, config)\n",
    "    return res"
   ]
  },
  {
   "cell_type": "code",
   "execution_count": 7,
   "metadata": {
    "code_folding": [
     0
    ],
    "collapsed": true
   },
   "outputs": [],
   "source": [
    "def upload_entities_from_tsv(namespace, workspace, entities_tsv_file):\n",
    "    \"\"\"Upload entities from tsv file\n",
    "    Args: \n",
    "        Self-explanatory\n",
    "        entities_tsv_file: path to tsv file\n",
    "    Returns: \n",
    "        HTTP Response\n",
    "    \"\"\"\n",
    "    res = firecloud_api.upload_entities_tsv(namespace, workspace, entities_tsv=entities_tsv_file)\n",
    "    return res"
   ]
  },
  {
   "cell_type": "code",
   "execution_count": 9,
   "metadata": {
    "code_folding": [
     0
    ],
    "collapsed": true,
    "extensions": {
     "jupyter_dashboards": {
      "version": 1,
      "views": {
       "grid_default": {
        "hidden": true
       },
       "report_default": {}
      }
     }
    }
   },
   "outputs": [],
   "source": [
    "def patients_for_metadata_import(path, tsca_id):\n",
    "    \"\"\"Create participant entities in Firecloud. \n",
    "    Patients need to exist before you can upload their respective samples\n",
    "    Args:\n",
    "        path_id: path to file ending in {}.import_samples.txt\n",
    "        tsca_id: tsca id\n",
    "    Pending:\n",
    "        Are we allowed to add age, gender, race?\n",
    "    Saves: \n",
    "        ./tsca_id/fc_upload_patients_tsca_{tsca_id}.csv:\n",
    "            contains patient ids in tsca batch\n",
    "    \"\"\"    \n",
    "    raw = pd.read_table(path)\n",
    "    print( \"%d Participants in this batch\" % raw['individual_id'].unique().shape[0] )\n",
    "    # Data to upload\n",
    "    data = pd.DataFrame(raw.individual_id.drop_duplicates()).rename(columns={'individual_id':'entity:participant_id'})\n",
    "    os.system('mkdir -p %s'%tsca_id)\n",
    "    filename = './%s/fc_upload_patients_tsca_%s.txt' % (tsca_id, tsca_id)\n",
    "    data.to_csv(filename, '\\t', index=False)"
   ]
  },
  {
   "cell_type": "code",
   "execution_count": 10,
   "metadata": {
    "code_folding": [
     0
    ],
    "collapsed": true
   },
   "outputs": [],
   "source": [
    "def batch_sample_set_for_metadata_import(path, tsca_id):\n",
    "    \"\"\"Create sample_set entities in Firecloud.\n",
    "    A sample for a given batch \n",
    "    Args:\n",
    "        path: path to file ending in {}.import_samples.txt\n",
    "        tsca_id: batch tsca id\n",
    "    \"\"\"\n",
    "    raw = pd.read_table(path)\n",
    "    print( \"%d Samples in this batch\" % raw.shape[0] )\n",
    "\n",
    "    # Data to upload\n",
    "    data = pd.concat([pd.DataFrame(index=raw.index, columns=['membership:sample_set_id'], data=tsca_id), \\\n",
    "                      raw.sample_id], axis=1)\n",
    "    os.system('mkdir -p %s'%tsca_id)\n",
    "    filename = './%s/fc_upload_sample_set_tsca_%s.txt' % (tsca_id, tsca_id)\n",
    "    data.to_csv(filename, '\\t', index=False)"
   ]
  },
  {
   "cell_type": "code",
   "execution_count": 11,
   "metadata": {
    "code_folding": [
     0
    ],
    "collapsed": true,
    "extensions": {
     "jupyter_dashboards": {
      "version": 1,
      "views": {
       "grid_default": {
        "hidden": true
       },
       "report_default": {}
      }
     }
    }
   },
   "outputs": [],
   "source": [
    "def batch_samples_for_metadata_import(path, tsca_id, google_bucket_id):\n",
    "    \"\"\"Prepare the file to import samples metadata to firecloud\n",
    "    Args:\n",
    "        path_id: path to file ending in {}.import_samples.txt\n",
    "        tsca_id: TSCAXX\n",
    "        google_bucket_id: id of google bucket ('gs://google_bucket_id')\n",
    "    Returns:\n",
    "        pd.DF of data ready for import\n",
    "    Saves:\n",
    "        ./{tsca_id}/fc_upload_samples_tsca_{tsca_id}.txt\n",
    "    \"\"\"\n",
    "    # Import raw data\n",
    "    data = pd.read_table(path)\n",
    "    \n",
    "    # Rename columns to match firecloud requirements\n",
    "    data = data.rename(columns={'sample_id':'entity:sample_id', 'individual_id':'participant_id'})\n",
    "    \n",
    "    # Locations of BAM files in google bucket\n",
    "    path_in_bucket_full = \"gs://%s/seq_data/%s\" % (google_bucket_id, tsca_id)\n",
    "\n",
    "    # Extract bam filename\n",
    "    data['bam_filename'] = data.apply(lambda row: row['clean_bam_file_capture'].split('/')[-1], axis=1)\n",
    "    \n",
    "    # Create bai filename (change extension on .bam file)\n",
    "    data['bai_filename'] = data.apply(lambda row: \"%s%s\" %(row['bam_filename'][:-3], 'bai'), axis=1)\n",
    "    \n",
    "    # Change BAM path from xchip to Google cloud\n",
    "    data['clean_bam_file_capture'] = \\\n",
    "        data.apply( lambda row: \"%s/%s/%s\" \\\n",
    "                   %(path_in_bucket_full, row['external_id_validation'], row['bam_filename']), axis=1)\n",
    "    \n",
    "    # Add location of .bai file \n",
    "    data['clean_bai_file_capture'] = \\\n",
    "        data.apply( lambda row: \"%s/%s/%s\" \\\n",
    "                   %(path_in_bucket_full, row['external_id_validation'], row['bai_filename']), axis=1)\n",
    "       \n",
    "    # Add TSCA ID\n",
    "    data['tsca_id'] = tsca_id\n",
    "        \n",
    "    return data"
   ]
  },
  {
   "cell_type": "code",
   "execution_count": 12,
   "metadata": {
    "code_folding": [
     0
    ],
    "collapsed": true
   },
   "outputs": [],
   "source": [
    "def panel_of_normals_for_metadata_import(paths, N, name):\n",
    "    \"\"\"Create panel of normals sample set for Firecloud from multiple TSCA batches\n",
    "    Args:\n",
    "        paths: (list) paths to file ending in {}.import_samples.txt\n",
    "        tsca_id: (string) batch tsca id\n",
    "        N: (int) number of samples in panel of normals\n",
    "        name: (string) name of Panel of Normals\n",
    "    \"\"\"\n",
    "    \n",
    "    df0 = pd.read_table(paths[0])\n",
    "    dfs = [df0]\n",
    "    for path in paths[1:]:\n",
    "        df_to_concat = pd.read_table(path)\n",
    "        dfs.append(df_to_concat)\n",
    "\n",
    "    df = pd.concat(dfs, axis=0)\n",
    "    normals = df[df.sample_type==\"Normal\"][:N]['sample_id']\n",
    "    if N==-1: print (\"Creating panel of %d normals\" %normals.shape[0])\n",
    "    else: print (\"Creating panel of %d normals\" %N)\n",
    "    \n",
    "    data = pd.concat([pd.DataFrame(index=normals.index, columns=['membership:sample_set_id'], data=name), \\\n",
    "                        normals], axis=1)\n",
    "\n",
    "    os.system('mkdir -p PoNs')\n",
    "    filename = './PoNs/fc_upload_PoN_sample_set_tsca_%s.txt' % (name)\n",
    "    data.to_csv(filename, '\\t', index=False)"
   ]
  },
  {
   "cell_type": "code",
   "execution_count": 13,
   "metadata": {
    "code_folding": [
     0
    ],
    "collapsed": true
   },
   "outputs": [],
   "source": [
    "def write_df_to_csv(data, tsca_id):\n",
    "    data.to_csv('%s/fc_upload_samples_tsca_%s.txt' % (tsca_id, tsca_id), sep='\\t', index=False)"
   ]
  },
  {
   "cell_type": "code",
   "execution_count": 14,
   "metadata": {
    "code_folding": [
     0
    ],
    "collapsed": true
   },
   "outputs": [],
   "source": [
    "def compile_samples(paths_to_samples_info, google_bucket_id):\n",
    "    \"\"\"Compile all samples from all batches\n",
    "    Args: Self-explanatory\n",
    "        - paths_to_samples_info: .xlsx file containing paths to files containing sample_info\n",
    "    Returns: \n",
    "        - df with samples from all batches\n",
    "    \"\"\"\n",
    "    paths_to_samples_info = pd.read_excel(paths_to_samples_info, index_col=0)\n",
    "    df_list = []\n",
    "\n",
    "    for tsca_id, paths in paths_to_samples_info.iterrows():\n",
    "        # Make data Firecloud-compatible\n",
    "        batch_data = batch_samples_for_metadata_import(paths.path_to_samples_info, tsca_id, google_bucket_id)\n",
    "        df_list.append(batch_data)\n",
    "\n",
    "    all_samples = pd.concat(df_list, axis=0)\n",
    "    return all_samples"
   ]
  },
  {
   "cell_type": "code",
   "execution_count": 15,
   "metadata": {
    "code_folding": [
     0
    ],
    "collapsed": true
   },
   "outputs": [],
   "source": [
    "def add_matching_samples(all_samples, batch_samples):\n",
    "    \"\"\"Add sample_id and bam filepath of matching normals and primary tumor tissue for every sample\n",
    "    Args:\n",
    "        - all_samples: df with target samples we want to find matches in\n",
    "        - batch_samples: df with source samples we want to find matches for\n",
    "    Returns: \n",
    "        - batch_samples (augmented)\n",
    "    \"\"\"\n",
    "    for index, row in batch_samples.iterrows():\n",
    "        # Find all samples from same individual (same individual_id, different sample_id)\n",
    "        patient_samples = all_samples[ (all_samples['participant_id'] == row['participant_id']) \\\n",
    "                                      & (all_samples['entity:sample_id'] != row['entity:sample_id']) ]\n",
    "\n",
    "        # NOTE: If more than one match tumor tissue or match normal found, select one at random.\n",
    "        # The match normal is used to compute allelic fractions in Mutect2, so for now we ignore the conditions it was grown in.\n",
    "\n",
    "        # Tumor tissue: Add primary tumor tissue\n",
    "        match_primary_tumor = patient_samples[ patient_samples['external_id_validation'] \\\n",
    "                                              .str.contains('primary|prim|tissue|tiss') ]\n",
    "        #    > No primary tumor tissue found\n",
    "        if match_primary_tumor.empty:\n",
    "            batch_samples.loc[index, 'match_primary_tumor_sample_id'] = \"NA\"\n",
    "            batch_samples.loc[index, 'match_primary_tumor_bam_file'] = \"NA\"\n",
    "        #    > Tumor tissue found\n",
    "        elif match_primary_tumor.shape[0] > 0:\n",
    "            match_primary_tumor = match_primary_tumor.sample(n=1)\n",
    "            batch_samples.loc[index, 'match_primary_tumor_sample_id'] = match_primary_tumor['entity:sample_id'].item()\n",
    "            batch_samples.loc[index, 'match_primary_tumor_bam_file'] = match_primary_tumor['clean_bam_file_capture'].item()\n",
    "\n",
    "        # Add match normal\n",
    "        match_normal = patient_samples[ patient_samples['sample_type'] == \"Normal\"]\n",
    "        #   > No match normal found\n",
    "        if match_normal.empty: \n",
    "            batch_samples.loc[index, 'match_normal_sample_id'] = \"NA\"\n",
    "            batch_samples.loc[index, 'match_normal_bam_file'] = \"NA\"\n",
    "        #   > Match normal found\n",
    "        elif match_normal.shape[0] > 0:\n",
    "            match_normal = match_normal.sample(n=1)\n",
    "            batch_samples.loc[index, 'match_normal_sample_id'] = match_normal['entity:sample_id'].item()\n",
    "            batch_samples.loc[index, 'match_normal_bam_file'] = match_normal['clean_bam_file_capture'].item()\n",
    "            \n",
    "    return batch_samples"
   ]
  },
  {
   "cell_type": "code",
   "execution_count": null,
   "metadata": {
    "code_folding": [
     0
    ],
    "collapsed": true
   },
   "outputs": [],
   "source": [
    "def prepare_all_metadata(tsca_id, path_to_samples_info):    \n",
    "    patients_for_metadata_import(path_to_samples_info, tsca_id)\n",
    "    batch_sample_set_for_metadata_import(path_to_samples_info, tsca_id)\n",
    "    batch_samples = batch_samples_for_metadata_import(path_to_samples_info, tsca_id, google_bucket_id)\n",
    "    all_samples = compile_samples('paths_to_samples_info.xlsx', google_bucket_id)\n",
    "    batch_samples_with_normal = add_matching_samples(all_samples, batch_samples)\n",
    "    write_df_to_csv(batch_samples_with_normal, tsca_id)"
   ]
  },
  {
   "cell_type": "code",
   "execution_count": 56,
   "metadata": {},
   "outputs": [
    {
     "data": {
      "text/plain": [
       "'/xchip/clf/seq_data/processed_for_fh/tsca20_201707_SN0125362/tsca20_201707_SN0125362.import_samples.txt'"
      ]
     },
     "execution_count": 56,
     "metadata": {},
     "output_type": "execute_result"
    }
   ],
   "source": [
    "paths_to_samples_info.loc[7, 'path_to_samples_info']"
   ]
  },
  {
   "cell_type": "code",
   "execution_count": 22,
   "metadata": {
    "code_folding": [],
    "extensions": {
     "jupyter_dashboards": {
      "version": 1,
      "views": {
       "grid_default": {
        "col": 8,
        "height": 4,
        "hidden": false,
        "row": 0,
        "width": 4
       },
       "report_default": {}
      }
     }
    }
   },
   "outputs": [],
   "source": [
    "namespace = \"nci-mimoun-bi-org\"\n",
    "workspace = \"CCLF_TSCA\"\n",
    "google_bucket_id = \"fc-35446f22-ea37-483a-bd6c-5e9fc56851ff\"\n",
    "paths_to_samples_info = pd.read_excel('paths_to_samples_info.xlsx')"
   ]
  },
  {
   "cell_type": "markdown",
   "metadata": {},
   "source": [
    "### Prepare metadata"
   ]
  },
  {
   "cell_type": "code",
   "execution_count": 57,
   "metadata": {},
   "outputs": [
    {
     "name": "stdout",
     "output_type": "stream",
     "text": [
      "59 Participants in this batch\n",
      "95 Samples in this batch\n"
     ]
    }
   ],
   "source": [
    "prepare_all_metadata('TSCA20', '/xchip/clf/seq_data/processed_for_fh/tsca20_201707_SN0125362/tsca20_201707_SN0125362.import_samples.txt')"
   ]
  },
  {
   "cell_type": "code",
   "execution_count": 64,
   "metadata": {},
   "outputs": [],
   "source": [
    "# ### Create Batch PoN\n",
    "# for index, value in paths_to_samples_info.iterrows():\n",
    "#     paths = [value.path_to_samples_info]\n",
    "#     pon_id = \"%s_PoN\" % value.tsca_id\n",
    "#     panel_of_normals_for_metadata_import(paths, -1, pon_id)"
   ]
  },
  {
   "cell_type": "markdown",
   "metadata": {},
   "source": [
    "### Export metadata"
   ]
  },
  {
   "cell_type": "code",
   "execution_count": 54,
   "metadata": {
    "code_folding": []
   },
   "outputs": [],
   "source": [
    "def export_metadata(tsca_id):\n",
    "    \"\"\"Export metadata into Firecloud\n",
    "    Args: \n",
    "        - tsca_id\n",
    "    \"\"\"\n",
    "    patient_metadata    = \"%s/fc_upload_patients_tsca_%s.txt\" % (tsca_id, tsca_id)\n",
    "    sample_set_metadata = \"%s/fc_upload_sample_set_tsca_%s.txt\" % (tsca_id, tsca_id)\n",
    "    samples_metadata    = \"%s/fc_upload_samples_tsca_%s.txt\" % (tsca_id, tsca_id)\n",
    "    pon_metadata = \"%s\"\n",
    "\n",
    "    # Upload metadata\n",
    "#     r1 = upload_entities_from_tsv(namespace, workspace, patient_metadata)\n",
    "#     r2 = upload_entities_from_tsv(namespace, workspace, samples_metadata)\n",
    "#     r3 = upload_entities_from_tsv(namespace, workspace, sample_set_metadata)\n",
    "    r4 = upload_entities_from_tsv(namespace, workspace, pon_metadata)\n",
    "    print (\"Results for PoN metadata: %s\" %r4)\n",
    "#     print (\"Results for %s: %s, %s, %s\" %(tsca_id, r1, r2, r3))\n",
    "    return"
   ]
  },
  {
   "cell_type": "code",
   "execution_count": 58,
   "metadata": {},
   "outputs": [
    {
     "name": "stdout",
     "output_type": "stream",
     "text": [
      "Results: <Response [200]>, <Response [200]>, <Response [200]>\n"
     ]
    }
   ],
   "source": [
    "export_metadata('TSCA20')"
   ]
  },
  {
   "cell_type": "code",
   "execution_count": 59,
   "metadata": {},
   "outputs": [],
   "source": [
    "# for index, value in paths_to_samples_info.iterrows():\n",
    "#     export_metadata(value.tsca_id)"
   ]
  },
  {
   "cell_type": "code",
   "execution_count": 61,
   "metadata": {},
   "outputs": [
    {
     "ename": "ParserError",
     "evalue": "Error tokenizing data. C error: Calling read(nbytes) on source failed. Try engine='python'.",
     "output_type": "error",
     "traceback": [
      "\u001b[0;31m---------------------------------------------------------------------------\u001b[0m",
      "\u001b[0;31mParserError\u001b[0m                               Traceback (most recent call last)",
      "\u001b[0;32m<ipython-input-61-1ff677ff90ae>\u001b[0m in \u001b[0;36m<module>\u001b[0;34m()\u001b[0m\n\u001b[1;32m      3\u001b[0m \u001b[0;31m# paths = [\"/xchip/clf/seq_data/processed_for_fh/tsca20_201707_SN0125362/tsca20_201707_SN0125362.import_samples.txt\", \\\u001b[0m\u001b[0;34m\u001b[0m\u001b[0;34m\u001b[0m\u001b[0m\n\u001b[1;32m      4\u001b[0m \u001b[0;31m#         \"/xchip/clf/seq_data/processed_for_fh/tsca19_201706_SN0122601/tsca19_201706_SN0122601.import_samples.txt\"]\u001b[0m\u001b[0;34m\u001b[0m\u001b[0;34m\u001b[0m\u001b[0m\n\u001b[0;32m----> 5\u001b[0;31m \u001b[0mpanel_of_normals_for_metadata_import\u001b[0m\u001b[0;34m(\u001b[0m\u001b[0mtscas_in_pon\u001b[0m\u001b[0;34m,\u001b[0m \u001b[0;34m-\u001b[0m\u001b[0;36m1\u001b[0m\u001b[0;34m,\u001b[0m \u001b[0;34m'CumPoN'\u001b[0m\u001b[0;34m)\u001b[0m\u001b[0;34m\u001b[0m\u001b[0m\n\u001b[0m",
      "\u001b[0;32m<ipython-input-12-5fa8f5058503>\u001b[0m in \u001b[0;36mpanel_of_normals_for_metadata_import\u001b[0;34m(paths, N, name)\u001b[0m\n\u001b[1;32m      8\u001b[0m     \"\"\"\n\u001b[1;32m      9\u001b[0m \u001b[0;34m\u001b[0m\u001b[0m\n\u001b[0;32m---> 10\u001b[0;31m     \u001b[0mdf0\u001b[0m \u001b[0;34m=\u001b[0m \u001b[0mpd\u001b[0m\u001b[0;34m.\u001b[0m\u001b[0mread_table\u001b[0m\u001b[0;34m(\u001b[0m\u001b[0mpaths\u001b[0m\u001b[0;34m[\u001b[0m\u001b[0;36m0\u001b[0m\u001b[0;34m]\u001b[0m\u001b[0;34m)\u001b[0m\u001b[0;34m\u001b[0m\u001b[0m\n\u001b[0m\u001b[1;32m     11\u001b[0m     \u001b[0mdfs\u001b[0m \u001b[0;34m=\u001b[0m \u001b[0;34m[\u001b[0m\u001b[0mdf0\u001b[0m\u001b[0;34m]\u001b[0m\u001b[0;34m\u001b[0m\u001b[0m\n\u001b[1;32m     12\u001b[0m     \u001b[0;32mfor\u001b[0m \u001b[0mpath\u001b[0m \u001b[0;32min\u001b[0m \u001b[0mpaths\u001b[0m\u001b[0;34m[\u001b[0m\u001b[0;36m1\u001b[0m\u001b[0;34m:\u001b[0m\u001b[0;34m]\u001b[0m\u001b[0;34m:\u001b[0m\u001b[0;34m\u001b[0m\u001b[0m\n",
      "\u001b[0;32m/Users/mimoun/anaconda/lib/python3.6/site-packages/pandas/io/parsers.py\u001b[0m in \u001b[0;36mparser_f\u001b[0;34m(filepath_or_buffer, sep, delimiter, header, names, index_col, usecols, squeeze, prefix, mangle_dupe_cols, dtype, engine, converters, true_values, false_values, skipinitialspace, skiprows, nrows, na_values, keep_default_na, na_filter, verbose, skip_blank_lines, parse_dates, infer_datetime_format, keep_date_col, date_parser, dayfirst, iterator, chunksize, compression, thousands, decimal, lineterminator, quotechar, quoting, escapechar, comment, encoding, dialect, tupleize_cols, error_bad_lines, warn_bad_lines, skipfooter, skip_footer, doublequote, delim_whitespace, as_recarray, compact_ints, use_unsigned, low_memory, buffer_lines, memory_map, float_precision)\u001b[0m\n\u001b[1;32m    653\u001b[0m                     skip_blank_lines=skip_blank_lines)\n\u001b[1;32m    654\u001b[0m \u001b[0;34m\u001b[0m\u001b[0m\n\u001b[0;32m--> 655\u001b[0;31m         \u001b[0;32mreturn\u001b[0m \u001b[0m_read\u001b[0m\u001b[0;34m(\u001b[0m\u001b[0mfilepath_or_buffer\u001b[0m\u001b[0;34m,\u001b[0m \u001b[0mkwds\u001b[0m\u001b[0;34m)\u001b[0m\u001b[0;34m\u001b[0m\u001b[0m\n\u001b[0m\u001b[1;32m    656\u001b[0m \u001b[0;34m\u001b[0m\u001b[0m\n\u001b[1;32m    657\u001b[0m     \u001b[0mparser_f\u001b[0m\u001b[0;34m.\u001b[0m\u001b[0m__name__\u001b[0m \u001b[0;34m=\u001b[0m \u001b[0mname\u001b[0m\u001b[0;34m\u001b[0m\u001b[0m\n",
      "\u001b[0;32m/Users/mimoun/anaconda/lib/python3.6/site-packages/pandas/io/parsers.py\u001b[0m in \u001b[0;36m_read\u001b[0;34m(filepath_or_buffer, kwds)\u001b[0m\n\u001b[1;32m    403\u001b[0m \u001b[0;34m\u001b[0m\u001b[0m\n\u001b[1;32m    404\u001b[0m     \u001b[0;31m# Create the parser.\u001b[0m\u001b[0;34m\u001b[0m\u001b[0;34m\u001b[0m\u001b[0m\n\u001b[0;32m--> 405\u001b[0;31m     \u001b[0mparser\u001b[0m \u001b[0;34m=\u001b[0m \u001b[0mTextFileReader\u001b[0m\u001b[0;34m(\u001b[0m\u001b[0mfilepath_or_buffer\u001b[0m\u001b[0;34m,\u001b[0m \u001b[0;34m**\u001b[0m\u001b[0mkwds\u001b[0m\u001b[0;34m)\u001b[0m\u001b[0;34m\u001b[0m\u001b[0m\n\u001b[0m\u001b[1;32m    406\u001b[0m \u001b[0;34m\u001b[0m\u001b[0m\n\u001b[1;32m    407\u001b[0m     \u001b[0;32mif\u001b[0m \u001b[0mchunksize\u001b[0m \u001b[0;32mor\u001b[0m \u001b[0miterator\u001b[0m\u001b[0;34m:\u001b[0m\u001b[0;34m\u001b[0m\u001b[0m\n",
      "\u001b[0;32m/Users/mimoun/anaconda/lib/python3.6/site-packages/pandas/io/parsers.py\u001b[0m in \u001b[0;36m__init__\u001b[0;34m(self, f, engine, **kwds)\u001b[0m\n\u001b[1;32m    760\u001b[0m             \u001b[0mself\u001b[0m\u001b[0;34m.\u001b[0m\u001b[0moptions\u001b[0m\u001b[0;34m[\u001b[0m\u001b[0;34m'has_index_names'\u001b[0m\u001b[0;34m]\u001b[0m \u001b[0;34m=\u001b[0m \u001b[0mkwds\u001b[0m\u001b[0;34m[\u001b[0m\u001b[0;34m'has_index_names'\u001b[0m\u001b[0;34m]\u001b[0m\u001b[0;34m\u001b[0m\u001b[0m\n\u001b[1;32m    761\u001b[0m \u001b[0;34m\u001b[0m\u001b[0m\n\u001b[0;32m--> 762\u001b[0;31m         \u001b[0mself\u001b[0m\u001b[0;34m.\u001b[0m\u001b[0m_make_engine\u001b[0m\u001b[0;34m(\u001b[0m\u001b[0mself\u001b[0m\u001b[0;34m.\u001b[0m\u001b[0mengine\u001b[0m\u001b[0;34m)\u001b[0m\u001b[0;34m\u001b[0m\u001b[0m\n\u001b[0m\u001b[1;32m    763\u001b[0m \u001b[0;34m\u001b[0m\u001b[0m\n\u001b[1;32m    764\u001b[0m     \u001b[0;32mdef\u001b[0m \u001b[0mclose\u001b[0m\u001b[0;34m(\u001b[0m\u001b[0mself\u001b[0m\u001b[0;34m)\u001b[0m\u001b[0;34m:\u001b[0m\u001b[0;34m\u001b[0m\u001b[0m\n",
      "\u001b[0;32m/Users/mimoun/anaconda/lib/python3.6/site-packages/pandas/io/parsers.py\u001b[0m in \u001b[0;36m_make_engine\u001b[0;34m(self, engine)\u001b[0m\n\u001b[1;32m    964\u001b[0m     \u001b[0;32mdef\u001b[0m \u001b[0m_make_engine\u001b[0m\u001b[0;34m(\u001b[0m\u001b[0mself\u001b[0m\u001b[0;34m,\u001b[0m \u001b[0mengine\u001b[0m\u001b[0;34m=\u001b[0m\u001b[0;34m'c'\u001b[0m\u001b[0;34m)\u001b[0m\u001b[0;34m:\u001b[0m\u001b[0;34m\u001b[0m\u001b[0m\n\u001b[1;32m    965\u001b[0m         \u001b[0;32mif\u001b[0m \u001b[0mengine\u001b[0m \u001b[0;34m==\u001b[0m \u001b[0;34m'c'\u001b[0m\u001b[0;34m:\u001b[0m\u001b[0;34m\u001b[0m\u001b[0m\n\u001b[0;32m--> 966\u001b[0;31m             \u001b[0mself\u001b[0m\u001b[0;34m.\u001b[0m\u001b[0m_engine\u001b[0m \u001b[0;34m=\u001b[0m \u001b[0mCParserWrapper\u001b[0m\u001b[0;34m(\u001b[0m\u001b[0mself\u001b[0m\u001b[0;34m.\u001b[0m\u001b[0mf\u001b[0m\u001b[0;34m,\u001b[0m \u001b[0;34m**\u001b[0m\u001b[0mself\u001b[0m\u001b[0;34m.\u001b[0m\u001b[0moptions\u001b[0m\u001b[0;34m)\u001b[0m\u001b[0;34m\u001b[0m\u001b[0m\n\u001b[0m\u001b[1;32m    967\u001b[0m         \u001b[0;32melse\u001b[0m\u001b[0;34m:\u001b[0m\u001b[0;34m\u001b[0m\u001b[0m\n\u001b[1;32m    968\u001b[0m             \u001b[0;32mif\u001b[0m \u001b[0mengine\u001b[0m \u001b[0;34m==\u001b[0m \u001b[0;34m'python'\u001b[0m\u001b[0;34m:\u001b[0m\u001b[0;34m\u001b[0m\u001b[0m\n",
      "\u001b[0;32m/Users/mimoun/anaconda/lib/python3.6/site-packages/pandas/io/parsers.py\u001b[0m in \u001b[0;36m__init__\u001b[0;34m(self, src, **kwds)\u001b[0m\n\u001b[1;32m   1580\u001b[0m         \u001b[0mkwds\u001b[0m\u001b[0;34m[\u001b[0m\u001b[0;34m'allow_leading_cols'\u001b[0m\u001b[0;34m]\u001b[0m \u001b[0;34m=\u001b[0m \u001b[0mself\u001b[0m\u001b[0;34m.\u001b[0m\u001b[0mindex_col\u001b[0m \u001b[0;32mis\u001b[0m \u001b[0;32mnot\u001b[0m \u001b[0;32mFalse\u001b[0m\u001b[0;34m\u001b[0m\u001b[0m\n\u001b[1;32m   1581\u001b[0m \u001b[0;34m\u001b[0m\u001b[0m\n\u001b[0;32m-> 1582\u001b[0;31m         \u001b[0mself\u001b[0m\u001b[0;34m.\u001b[0m\u001b[0m_reader\u001b[0m \u001b[0;34m=\u001b[0m \u001b[0mparsers\u001b[0m\u001b[0;34m.\u001b[0m\u001b[0mTextReader\u001b[0m\u001b[0;34m(\u001b[0m\u001b[0msrc\u001b[0m\u001b[0;34m,\u001b[0m \u001b[0;34m**\u001b[0m\u001b[0mkwds\u001b[0m\u001b[0;34m)\u001b[0m\u001b[0;34m\u001b[0m\u001b[0m\n\u001b[0m\u001b[1;32m   1583\u001b[0m \u001b[0;34m\u001b[0m\u001b[0m\n\u001b[1;32m   1584\u001b[0m         \u001b[0;31m# XXX\u001b[0m\u001b[0;34m\u001b[0m\u001b[0;34m\u001b[0m\u001b[0m\n",
      "\u001b[0;32mpandas/_libs/parsers.pyx\u001b[0m in \u001b[0;36mpandas._libs.parsers.TextReader.__cinit__ (pandas/_libs/parsers.c:6175)\u001b[0;34m()\u001b[0m\n",
      "\u001b[0;32mpandas/_libs/parsers.pyx\u001b[0m in \u001b[0;36mpandas._libs.parsers.TextReader._get_header (pandas/_libs/parsers.c:9268)\u001b[0;34m()\u001b[0m\n",
      "\u001b[0;32mpandas/_libs/parsers.pyx\u001b[0m in \u001b[0;36mpandas._libs.parsers.TextReader._tokenize_rows (pandas/_libs/parsers.c:11755)\u001b[0;34m()\u001b[0m\n",
      "\u001b[0;32mpandas/_libs/parsers.pyx\u001b[0m in \u001b[0;36mpandas._libs.parsers.raise_parser_error (pandas/_libs/parsers.c:28765)\u001b[0;34m()\u001b[0m\n",
      "\u001b[0;31mParserError\u001b[0m: Error tokenizing data. C error: Calling read(nbytes) on source failed. Try engine='python'."
     ]
    }
   ],
   "source": [
    "### Create Cumulative PoN\n",
    "tscas_in_pon = paths_to_samples_info['tsca_id'].tolist()\n",
    "# paths = [\"/xchip/clf/seq_data/processed_for_fh/tsca20_201707_SN0125362/tsca20_201707_SN0125362.import_samples.txt\", \\\n",
    "#         \"/xchip/clf/seq_data/processed_for_fh/tsca19_201706_SN0122601/tsca19_201706_SN0122601.import_samples.txt\"]\n",
    "panel_of_normals_for_metadata_import(tscas_in_pon, -1, 'CumPoN')"
   ]
  },
  {
   "cell_type": "code",
   "execution_count": 60,
   "metadata": {
    "collapsed": true
   },
   "outputs": [],
   "source": []
  },
  {
   "cell_type": "code",
   "execution_count": null,
   "metadata": {
    "collapsed": true
   },
   "outputs": [],
   "source": []
  }
 ],
 "metadata": {
  "extensions": {
   "jupyter_dashboards": {
    "activeView": "grid_default",
    "version": 1,
    "views": {
     "grid_default": {
      "cellMargin": 10,
      "defaultCellHeight": 20,
      "maxColumns": 12,
      "name": "grid",
      "type": "grid"
     },
     "report_default": {
      "name": "report",
      "type": "report"
     }
    }
   }
  },
  "kernelspec": {
   "display_name": "Python 3",
   "language": "python",
   "name": "python3"
  },
  "language_info": {
   "codemirror_mode": {
    "name": "ipython",
    "version": 3
   },
   "file_extension": ".py",
   "mimetype": "text/x-python",
   "name": "python",
   "nbconvert_exporter": "python",
   "pygments_lexer": "ipython3",
   "version": "3.6.1"
  }
 },
 "nbformat": 4,
 "nbformat_minor": 2
}
