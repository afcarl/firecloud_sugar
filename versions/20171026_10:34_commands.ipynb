{
 "cells": [
  {
   "cell_type": "markdown",
   "metadata": {},
   "source": [
    "### Commands"
   ]
  },
  {
   "cell_type": "code",
   "execution_count": 23,
   "metadata": {
    "collapsed": true
   },
   "outputs": [],
   "source": [
    "from firecloud import api as firecloud_api\n",
    "import glob\n",
    "import fc_interface"
   ]
  },
  {
   "cell_type": "code",
   "execution_count": 2,
   "metadata": {
    "collapsed": true
   },
   "outputs": [],
   "source": [
    "%load_ext autoreload\n",
    "%autoreload 2"
   ]
  },
  {
   "cell_type": "code",
   "execution_count": 3,
   "metadata": {
    "collapsed": true
   },
   "outputs": [],
   "source": [
    "### Parameters\n",
    "namespace = \"nci-mimoun-bi-org\"\n",
    "workspace = \"CCLF_TSCA\"\n",
    "paths_to_samples_info = \"paths_to_batches_info.xlsx\"\n",
    "google_bucket_id = \"fc-35446f22-ea37-483a-bd6c-5e9fc56851ff\"\n",
    "batches_info = pd.read_excel(paths_to_samples_info)"
   ]
  },
  {
   "cell_type": "markdown",
   "metadata": {},
   "source": [
    "#### Deletions"
   ]
  },
  {
   "cell_type": "code",
   "execution_count": null,
   "metadata": {
    "collapsed": true,
    "editable": false,
    "run_control": {
     "frozen": true
    }
   },
   "outputs": [],
   "source": [
    "### Delete unnecessary attributes in samples\n",
    "attrs = [\"annotate_variants_vcf\", \"annotate_variants_vcf_index\", \"oncotated_maf\", \"mutect2_vcf_index\", \"match_normal_oncotated_maf\", \"gnomad_vcf\", \"merged_vcfs\", \"match_primary_tumor_bam_file\"]\n",
    "for idx, row in all_samples.iterrows():\n",
    "    fc_interface.delete_entity_attributes(namespace, workspace, \"sample\", row['entity:sample_id'], attrs)"
   ]
  },
  {
   "cell_type": "code",
   "execution_count": null,
   "metadata": {
    "collapsed": true,
    "editable": false,
    "run_control": {
     "frozen": true
    }
   },
   "outputs": [],
   "source": [
    "### Delete method repostory\n",
    "firecloud_api.delete_repository_method('tsca', 'CreatePoN', 15)"
   ]
  },
  {
   "cell_type": "code",
   "execution_count": null,
   "metadata": {
    "collapsed": true,
    "editable": false,
    "run_control": {
     "frozen": true
    }
   },
   "outputs": [],
   "source": [
    "### Delete method repository\n",
    "firecloud_api.delete_repository_method('tsca', 'Mutect2_for_Normal', 1)"
   ]
  },
  {
   "cell_type": "code",
   "execution_count": null,
   "metadata": {
    "collapsed": true,
    "editable": false,
    "run_control": {
     "frozen": true
    }
   },
   "outputs": [],
   "source": [
    "### Delete multiple method repositories\n",
    "for i in range(10, 23):\n",
    "    firecloud_api.delete_repository_method('tsca', 'CreatePoN', i)"
   ]
  },
  {
   "cell_type": "code",
   "execution_count": null,
   "metadata": {
    "collapsed": true,
    "editable": false,
    "run_control": {
     "frozen": true
    }
   },
   "outputs": [],
   "source": [
    "### Delete method config\n",
    "firecloud_api.delete_workspace_config(namespace, workspace, \"tsca\", \"Mutect2_for_Normal\")"
   ]
  },
  {
   "cell_type": "markdown",
   "metadata": {},
   "source": [
    "#### Pair creation"
   ]
  },
  {
   "cell_type": "code",
   "execution_count": null,
   "metadata": {
    "collapsed": true,
    "editable": false,
    "run_control": {
     "frozen": true
    }
   },
   "outputs": [],
   "source": [
    "### Create pairs\n",
    "all_samples = fc_interface.get_samples_multiple_batches(paths_to_samples_info, google_bucket_id)\n",
    "pairs_list = fc_interface.create_pairs_list(all_samples)\n",
    "blacklist = [\"DW039-Tumor-SM-DB2IF\"]\n",
    "clean_pairs_list = pairs_list[ ~pairs_list['case_sample_id'].isin(blacklist)]"
   ]
  },
  {
   "cell_type": "code",
   "execution_count": null,
   "metadata": {
    "collapsed": true,
    "editable": false,
    "run_control": {
     "frozen": true
    }
   },
   "outputs": [],
   "source": [
    "### Upload pairs\n",
    "res = fc_interface.upload_pairs(namespace, workspace, clean_pairs_list)"
   ]
  },
  {
   "cell_type": "code",
   "execution_count": null,
   "metadata": {
    "collapsed": true,
    "editable": false,
    "run_control": {
     "frozen": true
    }
   },
   "outputs": [],
   "source": [
    "# ### Delete unnecessary attributes in pairs\n",
    "# ### NOT WOKING\n",
    "# all_samples = fc_interface.get_samples_multiple_batches(paths_to_samples_info, google_bucket_id)\n",
    "# pairs_list = fc_interface.create_pairs_list(all_samples)\n",
    "# attrs = [\"__annotate_variants_vcf\", \"__annotate_variants_vcf_index\", \\\n",
    "#          \"__scattered_intervals\", \"__tmp_mutect_vcf2\", \"_tmp_mutect_vcf_index2\", \\\n",
    "#          \"__tmp_mutect_vcf2\", \"_tmp_mutect_vcf_index2\"]\n",
    "# for idx, row in pairs_list.iterrows():\n",
    "#     fc_interface.delete_entity_attributes(namespace, workspace, \"pair\", row['entity:pair_id'], attrs)"
   ]
  },
  {
   "cell_type": "code",
   "execution_count": null,
   "metadata": {
    "collapsed": true,
    "editable": false,
    "run_control": {
     "frozen": true
    }
   },
   "outputs": [],
   "source": [
    "### Upload metadata for given batch\n",
    "fc_interface.update_batch_metadata('TSCA21', \\\n",
    "                                  '/xchip/clf/seq_data/processed_for_fh/tsca21_201708_SN0128552/tsca21_201708_SN0128552.import_samples.txt', \\\n",
    "                                      paths_to_samples_info, \\\n",
    "                                        namespace, workspace, google_bucket_id)"
   ]
  },
  {
   "cell_type": "code",
   "execution_count": null,
   "metadata": {
    "collapsed": true,
    "editable": false,
    "run_control": {
     "frozen": true
    }
   },
   "outputs": [],
   "source": [
    "### Delete sample_set\n",
    "fc_interface.delete_sample_set(namespace, workspace, 'TSCA1213')"
   ]
  },
  {
   "cell_type": "code",
   "execution_count": null,
   "metadata": {
    "collapsed": true,
    "editable": false,
    "run_control": {
     "frozen": true
    }
   },
   "outputs": [],
   "source": [
    "### All paths to batch info\n",
    "# pd.read_excel('paths_to_batches_info.xlsx').path_to_samples_info.tolist()"
   ]
  },
  {
   "cell_type": "code",
   "execution_count": null,
   "metadata": {
    "collapsed": true,
    "editable": false,
    "run_control": {
     "frozen": true
    }
   },
   "outputs": [],
   "source": [
    "### Create cumulative PoN (all batches)\n",
    "batches_info = pd.read_excel(paths_to_samples_info)\n",
    "PoN = fc_interface.create_panel_of_normals(batches_info.path_to_samples_info.tolist(), -1, 'Cum_PoN_21_all')\n",
    "fc_interface.upload_pon(PoN, 'CumPoN21', namespace, workspace)"
   ]
  },
  {
   "cell_type": "code",
   "execution_count": null,
   "metadata": {
    "collapsed": true,
    "editable": false,
    "run_control": {
     "frozen": true
    }
   },
   "outputs": [],
   "source": [
    "### Create PoN from normals of only one batch (no samples from other batches)\n",
    "batches_info = pd.read_excel(paths_to_samples_info)\n",
    "tsca21_path = batches_info.path_to_samples_info.tolist()[-1]\n",
    "PoN = fc_interface.create_panel_of_normals([tsca21_path], -1, 'PoN_TSCA21_Normals')\n",
    "fc_interface.upload_pon(PoN, 'PoN_TSCA21_Normals', namespace, workspace)"
   ]
  },
  {
   "cell_type": "code",
   "execution_count": null,
   "metadata": {
    "collapsed": true,
    "editable": false,
    "run_control": {
     "frozen": true
    }
   },
   "outputs": [],
   "source": [
    "### Delete pair set\n",
    "fc_interface.delete_pair_set(namespace, workspace, 'TSCA1213')"
   ]
  },
  {
   "cell_type": "code",
   "execution_count": null,
   "metadata": {
    "collapsed": true,
    "editable": false,
    "run_control": {
     "frozen": true
    }
   },
   "outputs": [],
   "source": [
    "### Delete sample set\n",
    "fc_interface.delete_sample_set(namespace, workspace, 'TSCA1213')"
   ]
  },
  {
   "cell_type": "code",
   "execution_count": null,
   "metadata": {
    "collapsed": true,
    "editable": false,
    "run_control": {
     "frozen": true
    }
   },
   "outputs": [],
   "source": [
    "### Download method configs\n",
    "fc_interface.download_method_configs(namespace, workspace)"
   ]
  },
  {
   "cell_type": "code",
   "execution_count": null,
   "metadata": {
    "collapsed": true,
    "editable": false,
    "run_control": {
     "frozen": true
    }
   },
   "outputs": [],
   "source": [
    "### Upload pairsets\n",
    "tn_pairsets, tp_pairsets = fc_interface.create_pairsets(all_samples, clean_pairs_list)\n",
    "fc_interface.upload_pairsets(namespace, workspace, tn_pairsets, \"TN\")\n",
    "fc_interface.upload_pairsets(namespace, workspace, tp_pairsets, \"TP\")"
   ]
  },
  {
   "cell_type": "code",
   "execution_count": null,
   "metadata": {
    "collapsed": true,
    "editable": false,
    "run_control": {
     "frozen": true
    }
   },
   "outputs": [],
   "source": [
    "### Delete all pairs\n",
    "for idx, row in clean_pairs_list.iterrows():\n",
    "    res = fc_interface.delete_pair(namespace, workspace, row['entity:pair_id'])\n",
    "    print(res)"
   ]
  },
  {
   "cell_type": "code",
   "execution_count": null,
   "metadata": {
    "collapsed": true,
    "editable": false,
    "run_control": {
     "frozen": true
    }
   },
   "outputs": [],
   "source": [
    "all_samples = fc_interface.get_samples_multiple_batches(paths_to_samples_info, google_bucket_id)\n",
    "pairs_list = fc_interface.create_pairs_list(all_samples)\n",
    "blacklist = [\"DW039-Tumor-SM-DB2IF\"]\n",
    "clean_pairs_list = pairs_list[ ~pairs_list['case_sample_id'].isin(blacklist)]\n",
    "\n",
    "### Update pair attributes\n",
    "update_pair_attrs(namespace, workspace, clean_pairs_list, attrs=['control_sample_tsca_id'])"
   ]
  },
  {
   "cell_type": "code",
   "execution_count": null,
   "metadata": {
    "collapsed": true,
    "editable": false,
    "run_control": {
     "frozen": true
    }
   },
   "outputs": [],
   "source": [
    "### Create PoN from all normals\n",
    "batches_info = pd.read_excel(paths_to_samples_info)\n",
    "all_paths = batches_info.path_to_samples_info.tolist()\n",
    "PoN = fc_interface.create_panel_of_normals(all_paths, -1, 'Cum_PoN_21_all')\n",
    "fc_interface.upload_pon(PoN, 'Cum_PoN_21_all', namespace, workspace)"
   ]
  },
  {
   "cell_type": "code",
   "execution_count": 6,
   "metadata": {
    "collapsed": true
   },
   "outputs": [],
   "source": [
    "### Create PoN with normals from batch + other normals\n",
    "batches_info = pd.read_excel(paths_to_samples_info)\n",
    "all_paths = batches_info.path_to_samples_info.tolist()\n",
    "# PoN = fc_interface.create_panel_of_normals(all_paths, -1, 'Cum_PoN_21_all')\n",
    "# fc_interface.upload_pon(PoN, 'Cum_PoN_21_all', namespace, workspace)"
   ]
  },
  {
   "cell_type": "code",
   "execution_count": 4,
   "metadata": {
    "collapsed": true
   },
   "outputs": [],
   "source": [
    "# batch_id = 'TSCA21'\n",
    "# batch_path = batches_info.loc[batches_info.tsca_id==batch_id, 'path_to_samples_info'].item()\n",
    "# pd.read_table(batch_path)\n",
    "# batch_id, paths, N, name"
   ]
  },
  {
   "cell_type": "code",
   "execution_count": 21,
   "metadata": {
    "collapsed": true,
    "editable": false,
    "run_control": {
     "frozen": true
    }
   },
   "outputs": [],
   "source": [
    "# Retrieve samples before export to FC\n",
    "tsca21 = \\\n",
    "    fc_interface.\\\n",
    "        prepare_batch_samples_for_metadata_export('/xchip/clf/seq_data/processed_for_fh/tsca21_201708_SN0128552/tsca21_201708_SN0128552.import_samples.txt', \\\n",
    "                            'TSCA21', google_bucket_id)"
   ]
  },
  {
   "cell_type": "code",
   "execution_count": null,
   "metadata": {
    "collapsed": true,
    "editable": false,
    "run_control": {
     "frozen": true
    }
   },
   "outputs": [],
   "source": [
    "### Update WDLs\n",
    "fc_interface.download_remote_wdls(namespace, workspace)"
   ]
  },
  {
   "cell_type": "code",
   "execution_count": 336,
   "metadata": {
    "collapsed": true,
    "editable": false,
    "run_control": {
     "frozen": true
    }
   },
   "outputs": [],
   "source": [
    "### Prepare cohorts for export to FC\n",
    "cohorts = fc_interface.prepare_cohorts_for_metadata_export(paths_to_batches_info, google_bucket_id)"
   ]
  },
  {
   "cell_type": "code",
   "execution_count": 358,
   "metadata": {
    "collapsed": true,
    "editable": false,
    "run_control": {
     "frozen": true
    }
   },
   "outputs": [],
   "source": [
    "# # Delete cohorts\n",
    "# cohort_codes = pd.read_table('cohort_files/cohort_names_dictionary.txt', header=None)\n",
    "# for coh_code in cohort_codes.loc[:, 1].tolist():\n",
    "#     res = fc_interface.delete_sample_set(namespace, workspace, coh_code)"
   ]
  },
  {
   "cell_type": "code",
   "execution_count": 338,
   "metadata": {
    "editable": false,
    "run_control": {
     "frozen": true
    }
   },
   "outputs": [
    {
     "name": "stdout",
     "output_type": "stream",
     "text": [
      "65 Participants in this batch\n",
      "95 Samples in this batch\n"
     ]
    }
   ],
   "source": [
    "# ### Upload metadata for given batch\n",
    "# fc_interface.update_batch_metadata('TSCA21', \\\n",
    "#                                   '/xchip/clf/seq_data/processed_for_fh/tsca21_201708_SN0128552/tsca21_201708_SN0128552.import_samples.txt', \\\n",
    "#                                       paths_to_samples_info, \\\n",
    "#                                         namespace, workspace, google_bucket_id)"
   ]
  },
  {
   "cell_type": "code",
   "execution_count": 361,
   "metadata": {
    "collapsed": true,
    "editable": false,
    "run_control": {
     "frozen": true
    }
   },
   "outputs": [],
   "source": [
    "# Export metadata\n",
    "(r1, r2, r3, r4, r5, r6) = fc_interface.export_batch_metadata_to_fc('TSCA21', namespace, workspace)"
   ]
  },
  {
   "cell_type": "code",
   "execution_count": 359,
   "metadata": {
    "collapsed": true,
    "editable": false,
    "run_control": {
     "frozen": true
    }
   },
   "outputs": [],
   "source": [
    "# Cohorts\n",
    "cohorts = fc_interface.prepare_cohorts_for_metadata_export(paths_to_batches_info, google_bucket_id)"
   ]
  },
  {
   "cell_type": "code",
   "execution_count": 66,
   "metadata": {
    "collapsed": true,
    "editable": false,
    "run_control": {
     "frozen": true
    }
   },
   "outputs": [],
   "source": [
    "### Create panel of normals from batch\n",
    "pon = fc_interface.create_panel_of_normals_from_batch(batch_id, paths_to_samples_info, N=20).shape"
   ]
  },
  {
   "cell_type": "code",
   "execution_count": 78,
   "metadata": {
    "collapsed": true,
    "editable": false,
    "run_control": {
     "frozen": true
    }
   },
   "outputs": [],
   "source": [
    "### Create panel of normals from batch\n",
    "for i, row in batches_info.iterrows():\n",
    "    pon, name = fc_interface.create_panel_of_normals_from_batch(row['tsca_id'], paths_to_samples_info, N=20)\n",
    "    fc_interface.upload_pon(pon, name, namespace, workspace)"
   ]
  },
  {
   "cell_type": "code",
   "execution_count": null,
   "metadata": {
    "collapsed": true,
    "editable": false,
    "run_control": {
     "frozen": true
    }
   },
   "outputs": [],
   "source": [
    "# Retrieve samples before export to FC\n",
    "tsca21 = \\\n",
    "    fc_interface.\\\n",
    "        prepare_batch_samples_for_metadata_export('/xchip/clf/seq_data/processed_for_fh/tsca21_201708_SN0128552/tsca21_201708_SN0128552.import_samples.txt', \\\n",
    "                            'TSCA21', google_bucket_id)"
   ]
  },
  {
   "cell_type": "code",
   "execution_count": 33,
   "metadata": {
    "collapsed": true,
    "editable": false,
    "run_control": {
     "frozen": true
    }
   },
   "outputs": [],
   "source": [
    "### Prepare cohorts for export to FC\n",
    "cohorts = fc_interface.\\\n",
    "            prepare_cohorts_for_metadata_export(paths_to_samples_info, google_bucket_id, \\\n",
    "                                               blacklist=[\"CCLF_AA1012-Tumor-SM-F67DF\"])\n",
    "\n",
    "cohorts_sample_set_metadata = \"cohort_files/fc_upload_sample_set_cohorts.txt\"\n",
    "res = fc_interface.upload_entities_from_tsv(namespace, workspace, cohorts_sample_set_metadata)"
   ]
  },
  {
   "cell_type": "code",
   "execution_count": 8,
   "metadata": {
    "collapsed": true,
    "editable": false,
    "run_control": {
     "frozen": true
    }
   },
   "outputs": [],
   "source": [
    "# Export metadata\n",
    "(r1, r2, r3, r4, r5, r6) = fc_interface.export_batch_metadata_to_fc('TSCA21', namespace, workspace)"
   ]
  },
  {
   "cell_type": "code",
   "execution_count": 34,
   "metadata": {
    "collapsed": true,
    "editable": false,
    "run_control": {
     "frozen": true
    }
   },
   "outputs": [],
   "source": [
    "### Cohort of all tumors\n",
    "res = fc_interface.upload_cohort_all_tumors(paths_to_samples_info, google_bucket_id, \\\n",
    "                                      'Cum_Tumors_22_all', namespace, workspace, ['DW039-Tumor-SM-DB2IF'])"
   ]
  },
  {
   "cell_type": "code",
   "execution_count": 12,
   "metadata": {
    "editable": false,
    "run_control": {
     "frozen": true
    }
   },
   "outputs": [
    {
     "data": {
      "text/plain": [
       "(1045, 14)"
      ]
     },
     "execution_count": 12,
     "metadata": {},
     "output_type": "execute_result"
    }
   ],
   "source": [
    "# fc_interface.merge_walkupseq_files(paths_to_samples_info)"
   ]
  },
  {
   "cell_type": "markdown",
   "metadata": {},
   "source": [
    "---"
   ]
  },
  {
   "cell_type": "markdown",
   "metadata": {},
   "source": [
    "---"
   ]
  },
  {
   "cell_type": "code",
   "execution_count": null,
   "metadata": {
    "collapsed": true
   },
   "outputs": [],
   "source": [
    "def update_bsp_data(tsca_id):\n",
    "    \"\"\"The walkupseq sheets contain experimental data (collaborator, tumor type, tissue site, etc.).\n",
    "    Compile all the sheets onto one walkupseq_all_combined_TSCAXX.txt\n",
    "    Args: \n",
    "    - tsca_id: latest TSCA id added\n",
    "    Writes: \n",
    "    - bsp_latest_all_samples_TSCAXX.xls: updated bsp data\n",
    "    \"\"\"\n",
    "    files = glob.glob('/Users/mimoun/production_fc/metadata_exports/walkupseq_files/tsca*')\n",
    "    dfs = []\n",
    "    for f in files:\n",
    "        dfs.append( pd.read_table(f, comment='#', encoding='latin1'))\n",
    "    combined = pd.concat(dfs, axis=0)\n",
    "    fname = \"/Users/mimoun/production_fc/metadata_exports/walkupseq_files/walkupseq_all_combined_%s.txt\"%tsca_id\n",
    "    combined.to_csv(fname, sep=\"\\t\", index=None)\n",
    "    return combined"
   ]
  },
  {
   "cell_type": "markdown",
   "metadata": {},
   "source": [
    "## Refined: New Batch Workflow"
   ]
  },
  {
   "cell_type": "code",
   "execution_count": 90,
   "metadata": {
    "collapsed": true
   },
   "outputs": [],
   "source": [
    "tsca_id = \"TSCA22\"\n",
    "path_to_batch_samples_info = batches_info.loc[batches_info.tsca_id==tsca_id, 'path_to_samples_info'].item()"
   ]
  },
  {
   "cell_type": "code",
   "execution_count": 29,
   "metadata": {
    "collapsed": true
   },
   "outputs": [],
   "source": [
    "### ALL SAMPLES\n",
    "## Prepare\n",
    "# fc_interface.prepare_patients_for_metadata_export(path_to_batch_samples_info, tsca_id)\n",
    "# fc_interface.prepare_batch_sample_set_for_metadata_export(path_to_batch_samples_info, tsca_id)\n",
    "# fc_interface.prepare_batch_samples_for_metadata_export(path_to_batch_samples_info, tsca_id, google_bucket_id)\n",
    "\n",
    "## Export\n",
    "# fc_interface.export_batch_metadata_to_fc(tsca_id, namespace, workspace)"
   ]
  },
  {
   "cell_type": "code",
   "execution_count": 39,
   "metadata": {
    "collapsed": true
   },
   "outputs": [],
   "source": [
    "### PANEL OF NORMALS BATCH\n",
    "## Prepare \n",
    "# pon, name = fc_interface.create_panel_of_normals_from_batch(tsca_id, paths_to_samples_info, N=20)\n",
    "\n",
    "# Export\n",
    "# fc_interface.upload_pon(pon, name, namespace, workspace)"
   ]
  },
  {
   "cell_type": "code",
   "execution_count": 13,
   "metadata": {},
   "outputs": [
    {
     "name": "stdout",
     "output_type": "stream",
     "text": [
      "Creating panel of 163 normals\n"
     ]
    },
    {
     "data": {
      "text/plain": [
       "<Response [200]>"
      ]
     },
     "execution_count": 13,
     "metadata": {},
     "output_type": "execute_result"
    }
   ],
   "source": [
    "### PANEL OF NORMALS CUMULATIVE\n",
    "## Prepare\n",
    "# batches_info = pd.read_excel(paths_to_samples_info)\n",
    "# PoN = fc_interface.create_panel_of_normals(batches_info.path_to_samples_info.tolist(), -1, 'Cum_PoN_22_all')\n",
    "\n",
    "# Export\n",
    "# fc_interface.upload_pon(PoN, 'Cum_PoN_22_all', namespace, workspace)"
   ]
  },
  {
   "cell_type": "code",
   "execution_count": 92,
   "metadata": {},
   "outputs": [],
   "source": [
    "### COHORT SAMPLE SETS\n",
    "## Prepare\n",
    "cohorts = fc_interface.prepare_cohorts_for_metadata_export(paths_to_samples_info, google_bucket_id, blacklist, tsca_id)"
   ]
  },
  {
   "cell_type": "code",
   "execution_count": 94,
   "metadata": {
    "collapsed": true
   },
   "outputs": [
    {
     "data": {
      "text/plain": [
       "COHORT_PEDS         191\n",
       "COHORT_BT           110\n",
       "COHORT_CCLF_RCRF     47\n",
       "COHORT_CSHL_PDAC     47\n",
       "COHORT_AA            39\n",
       "COHORT_AB            29\n",
       "COHORT_CY            25\n",
       "COHORT_EH            22\n",
       "COHORT_JL            21\n",
       "COHORT_JB            18\n",
       "COHORT_SS            16\n",
       "COHORT_HG            15\n",
       "COHORT_NB            14\n",
       "COHORT_TC            13\n",
       "COHORT_NH            12\n",
       "COHORT_EW            11\n",
       "COHORT_DW             8\n",
       "COHORT_SP             6\n",
       "COHORT_CO             6\n",
       "COHORT_COLO           4\n",
       "COHORT_JNT            1\n",
       "COHORT_GG             1\n",
       "COHORT_PM             1\n",
       "COHORT_PK             1\n",
       "Name: membership:sample_set_id, dtype: int64"
      ]
     },
     "execution_count": 94,
     "metadata": {},
     "output_type": "execute_result"
    }
   ],
   "source": [
    "cohorts['membership:sample_set_id'].value_counts()"
   ]
  },
  {
   "cell_type": "code",
   "execution_count": null,
   "metadata": {
    "collapsed": true
   },
   "outputs": [],
   "source": [
    "### PAIRS"
   ]
  }
 ],
 "metadata": {
  "kernelspec": {
   "display_name": "Python 3",
   "language": "python",
   "name": "python3"
  },
  "language_info": {
   "codemirror_mode": {
    "name": "ipython",
    "version": 3
   },
   "file_extension": ".py",
   "mimetype": "text/x-python",
   "name": "python",
   "nbconvert_exporter": "python",
   "pygments_lexer": "ipython3",
   "version": "3.6.1"
  }
 },
 "nbformat": 4,
 "nbformat_minor": 2
}
