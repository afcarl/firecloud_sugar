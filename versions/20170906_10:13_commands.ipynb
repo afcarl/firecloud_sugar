{
 "cells": [
  {
   "cell_type": "markdown",
   "metadata": {},
   "source": [
    "### Commands"
   ]
  },
  {
   "cell_type": "code",
   "execution_count": 1,
   "metadata": {
    "collapsed": true
   },
   "outputs": [],
   "source": [
    "from firecloud import api as firecloud_api\n",
    "import fc_interface"
   ]
  },
  {
   "cell_type": "code",
   "execution_count": 2,
   "metadata": {},
   "outputs": [],
   "source": [
    "%load_ext autoreload\n",
    "%autoreload 2"
   ]
  },
  {
   "cell_type": "code",
   "execution_count": 3,
   "metadata": {
    "collapsed": true
   },
   "outputs": [],
   "source": [
    "### Parameters\n",
    "namespace = \"nci-mimoun-bi-org\"\n",
    "workspace = \"CCLF_TSCA\"\n",
    "paths_to_samples_info = \"paths_to_batches_info.xlsx\"\n",
    "google_bucket_id = \"fc-35446f22-ea37-483a-bd6c-5e9fc56851ff\""
   ]
  },
  {
   "cell_type": "code",
   "execution_count": null,
   "metadata": {
    "collapsed": true,
    "editable": false,
    "run_control": {
     "frozen": true
    }
   },
   "outputs": [],
   "source": [
    "### Delete unnecessary attributes in samples\n",
    "attrs = [\"annotate_variants_vcf\", \"annotate_variants_vcf_index\", \"oncotated_maf\", \"mutect2_vcf_index\", \"match_normal_oncotated_maf\", \"gnomad_vcf\", \"merged_vcfs\", \"match_primary_tumor_bam_file\"]\n",
    "for idx, row in all_samples.iterrows():\n",
    "    fc_interface.delete_entity_attributes(namespace, workspace, \"sample\", row['entity:sample_id'], attrs)"
   ]
  },
  {
   "cell_type": "code",
   "execution_count": 3,
   "metadata": {
    "editable": false,
    "run_control": {
     "frozen": true
    }
   },
   "outputs": [
    {
     "data": {
      "text/plain": [
       "<Response [200]>"
      ]
     },
     "execution_count": 3,
     "metadata": {},
     "output_type": "execute_result"
    }
   ],
   "source": [
    "### Delete method repostory\n",
    "firecloud_api.delete_repository_method('tsca', 'CreatePoN', 15)"
   ]
  },
  {
   "cell_type": "code",
   "execution_count": 16,
   "metadata": {
    "collapsed": true,
    "editable": false,
    "run_control": {
     "frozen": true
    }
   },
   "outputs": [],
   "source": [
    "### Delete method config\n",
    "firecloud_api.delete_workspace_config(namespace, workspace, \"tsca\", \"Mutect2_for_Normal\")"
   ]
  },
  {
   "cell_type": "code",
   "execution_count": 17,
   "metadata": {
    "editable": false,
    "run_control": {
     "frozen": true
    }
   },
   "outputs": [
    {
     "data": {
      "text/plain": [
       "<Response [200]>"
      ]
     },
     "execution_count": 17,
     "metadata": {},
     "output_type": "execute_result"
    }
   ],
   "source": [
    "### Delete method repository\n",
    "firecloud_api.delete_repository_method('tsca', 'Mutect2_for_Normal', 1)"
   ]
  },
  {
   "cell_type": "code",
   "execution_count": 42,
   "metadata": {
    "collapsed": true,
    "editable": false,
    "run_control": {
     "frozen": true
    }
   },
   "outputs": [],
   "source": [
    "### Delete multiple method repositories\n",
    "for i in range(10, 23):\n",
    "    firecloud_api.delete_repository_method('tsca', 'CreatePoN', i)"
   ]
  },
  {
   "cell_type": "code",
   "execution_count": 18,
   "metadata": {
    "collapsed": true,
    "editable": false,
    "run_control": {
     "frozen": true
    }
   },
   "outputs": [],
   "source": [
    "### Update pairs\n",
    "all_samples = fc_interface.get_samples_multiple_batches(paths_to_samples_info, google_bucket_id)\n",
    "pairs_list = fc_interface.create_pairs_list(all_samples)\n",
    "blacklist = [\"DW039-Tumor-SM-DB2IF\"]\n",
    "clean_pairs_list = pairs_list[ ~pairs_list['case_sample_id'].isin(blacklist)]\n",
    "res = fc_interface.upload_pairs(namespace, workspace, clean_pairs_list)"
   ]
  },
  {
   "cell_type": "code",
   "execution_count": 48,
   "metadata": {
    "editable": false,
    "run_control": {
     "frozen": true
    }
   },
   "outputs": [
    {
     "name": "stdout",
     "output_type": "stream",
     "text": [
      "65 Participants in this batch\n",
      "95 Samples in this batch\n"
     ]
    }
   ],
   "source": [
    "### Upload metadata for given batch\n",
    "fc_interface.update_batch_metadata('TSCA21', \\\n",
    "                                  '/xchip/clf/seq_data/processed_for_fh/tsca21_201708_SN0128552/tsca21_201708_SN0128552.import_samples.txt', \\\n",
    "                                      paths_to_samples_info, \\\n",
    "                                        namespace, workspace, google_bucket_id)"
   ]
  },
  {
   "cell_type": "code",
   "execution_count": 70,
   "metadata": {
    "editable": false,
    "run_control": {
     "frozen": true
    }
   },
   "outputs": [
    {
     "data": {
      "text/plain": [
       "<Response [204]>"
      ]
     },
     "execution_count": 70,
     "metadata": {},
     "output_type": "execute_result"
    }
   ],
   "source": [
    "### Delete sample_set\n",
    "fc_interface.delete_sample_set(namespace, workspace, 'TSCA1213')"
   ]
  },
  {
   "cell_type": "code",
   "execution_count": 74,
   "metadata": {
    "collapsed": true,
    "editable": false,
    "run_control": {
     "frozen": true
    }
   },
   "outputs": [],
   "source": [
    "### All paths to batch info\n",
    "# pd.read_excel('paths_to_batches_info.xlsx').path_to_samples_info.tolist()"
   ]
  },
  {
   "cell_type": "code",
   "execution_count": 94,
   "metadata": {
    "editable": false,
    "run_control": {
     "frozen": true
    }
   },
   "outputs": [
    {
     "name": "stdout",
     "output_type": "stream",
     "text": [
      "Creating panel of 157 normals\n"
     ]
    }
   ],
   "source": [
    "### Create cumulative PoN\n",
    "batches_info = pd.read_excel(paths_to_samples_info)\n",
    "PoN = fc_interface.create_panel_of_normals(batches_info.path_to_samples_info.tolist(), -1, 'CumPoN21')\n",
    "fc_interface.upload_pon(PoN, 'CumPoN21', namespace, workspace)"
   ]
  },
  {
   "cell_type": "code",
   "execution_count": 109,
   "metadata": {
    "editable": false,
    "run_control": {
     "frozen": true
    }
   },
   "outputs": [
    {
     "name": "stdout",
     "output_type": "stream",
     "text": [
      "Creating panel of 11 normals\n"
     ]
    },
    {
     "data": {
      "text/plain": [
       "<Response [200]>"
      ]
     },
     "execution_count": 109,
     "metadata": {},
     "output_type": "execute_result"
    }
   ],
   "source": [
    "### Create PoN from normals of only one batch\n",
    "tsca21_path = batches_info.path_to_samples_info.tolist()[-1]\n",
    "PoN = fc_interface.create_panel_of_normals([tsca21_path], -1, 'PoN_TSCA21_Normals')\n",
    "fc_interface.upload_pon(PoN, 'PoN_TSCA21_Normals', namespace, workspace)"
   ]
  },
  {
   "cell_type": "code",
   "execution_count": 20,
   "metadata": {
    "collapsed": true,
    "editable": false,
    "run_control": {
     "frozen": true
    }
   },
   "outputs": [],
   "source": [
    "### Download method configs\n",
    "fc_interface.download_method_configs(namespace, workspace)"
   ]
  },
  {
   "cell_type": "code",
   "execution_count": 22,
   "metadata": {},
   "outputs": [
    {
     "data": {
      "text/plain": [
       "(1772, 5)"
      ]
     },
     "execution_count": 22,
     "metadata": {},
     "output_type": "execute_result"
    }
   ],
   "source": [
    "# def update_pairs(namespace, workspace, pairs):\n",
    "#     os.system('mkdir -p Pairs')\n",
    "#     filename = './Pairs/fc_upload_pairs.txt'\n",
    "#     pairs.to_csv(filename, '\\t', index=False)\n",
    "#     for idx, row in pairs.iterrows():\n",
    "# #         attr_update = [{\"op\": \"AddUpdateAttribute\", \"attributeName\":  attr, \"addUpdateAttribute\": } for attr in attrs]\n",
    "# #         res = firecloud_api.update_entity(namespace, workspace, \"pair\", row['entity:pair_id'], attr_update)"
   ]
  },
  {
   "cell_type": "code",
   "execution_count": 64,
   "metadata": {
    "collapsed": true
   },
   "outputs": [],
   "source": [
    "### Update pairs\n",
    "all_samples = fc_interface.get_samples_multiple_batches(paths_to_samples_info, google_bucket_id)\n",
    "pairs_list = fc_interface.create_pairs_list(all_samples)\n",
    "blacklist = [\"DW039-Tumor-SM-DB2IF\"]\n",
    "clean_pairs_list = pairs_list[ ~pairs_list['case_sample_id'].isin(blacklist)]\n",
    "res = fc_interface.upload_pairs(namespace, workspace, clean_pairs_list)"
   ]
  },
  {
   "cell_type": "code",
   "execution_count": 65,
   "metadata": {},
   "outputs": [],
   "source": [
    "pairsets = fc_interface.create_pairsets(all_samples, clean_pairs_list)"
   ]
  },
  {
   "cell_type": "code",
   "execution_count": 66,
   "metadata": {},
   "outputs": [],
   "source": [
    "res = fc_interface.upload_pairsets(namespace, workspace, pairsets)"
   ]
  },
  {
   "cell_type": "code",
   "execution_count": 67,
   "metadata": {},
   "outputs": [
    {
     "data": {
      "text/plain": [
       "{'causes': [{'causes': [],\n",
       "   'message': 'pair PEDS194-Tumor-SM-DNUM2_PEDS194-Normal-SM-DB2IW_TP not found',\n",
       "   'source': 'rawls',\n",
       "   'stackTrace': []},\n",
       "  {'causes': [],\n",
       "   'message': 'pair PEDS195-Tumor-SM-DHZ8M_PEDS195-Tumor-SM-DB3R3_TP not found',\n",
       "   'source': 'rawls',\n",
       "   'stackTrace': []},\n",
       "  {'causes': [],\n",
       "   'message': 'pair CCLF_PEDS1021-Tumor-SM-F67F8_CCLF_PEDS1021-Tumor-SM-E7S1A_TP not found',\n",
       "   'source': 'rawls',\n",
       "   'stackTrace': []},\n",
       "  {'causes': [],\n",
       "   'message': 'pair CCLF_PEDS1008-Tumor-SM-EUVH8_CCLF_PEDS1008-Normal-SM-E7S1Q_TN not found',\n",
       "   'source': 'rawls',\n",
       "   'stackTrace': []},\n",
       "  {'causes': [],\n",
       "   'message': 'pair PEDS200-Tumor-SM-DNUMQ_PEDS200-Normal-SM-DNUME_TN not found',\n",
       "   'source': 'rawls',\n",
       "   'stackTrace': []},\n",
       "  {'causes': [],\n",
       "   'message': 'pair PEDS195-Tumor-SM-DHZ7X_PEDS195-Tumor-SM-DHZ7Z_TP not found',\n",
       "   'source': 'rawls',\n",
       "   'stackTrace': []},\n",
       "  {'causes': [],\n",
       "   'message': 'pair PEDS194-Tumor-SM-DHZ8F_PEDS194-Tumor-SM-DB2HW_TP not found',\n",
       "   'source': 'rawls',\n",
       "   'stackTrace': []},\n",
       "  {'causes': [],\n",
       "   'message': 'pair PEDS167-Tumor-SM-DHZA3_PEDS167-Tumor-SM-D4L31_TP not found',\n",
       "   'source': 'rawls',\n",
       "   'stackTrace': []},\n",
       "  {'causes': [],\n",
       "   'message': 'pair CCLF_RCRF004-Tumor-SM-DNUMA_CCLF_RCRF004-Normal-SM-DHZ5M_TP not found',\n",
       "   'source': 'rawls',\n",
       "   'stackTrace': []},\n",
       "  {'causes': [],\n",
       "   'message': 'pair PEDS200-Tumor-SM-DHZ7M_PEDS200-Normal-SM-DNUMK_TN not found',\n",
       "   'source': 'rawls',\n",
       "   'stackTrace': []},\n",
       "  {'causes': [],\n",
       "   'message': 'pair CCLF_JL1001-Tumor-SM-E7RZ7_CCLF_JL1001-Normal-SM-EUVH5_TN not found',\n",
       "   'source': 'rawls',\n",
       "   'stackTrace': []},\n",
       "  {'causes': [],\n",
       "   'message': 'pair CCLF_PEDS1003-Tumor-SM-DHZ74_CCLF_PEDS1003-Tumor-SM-DHZ6E_TP not found',\n",
       "   'source': 'rawls',\n",
       "   'stackTrace': []},\n",
       "  {'causes': [],\n",
       "   'message': 'pair CCLF_PEDS1025-Tumor-SM-EUVFV_CCLF_PEDS1025-Normal-SM-EUVFO_TN not found',\n",
       "   'source': 'rawls',\n",
       "   'stackTrace': []},\n",
       "  {'causes': [],\n",
       "   'message': 'pair PEDS195-Tumor-SM-DB3R3_PEDS195-Tumor-SM-DHZ9O_TP not found',\n",
       "   'source': 'rawls',\n",
       "   'stackTrace': []},\n",
       "  {'causes': [],\n",
       "   'message': 'pair JL61-Tumor-SM-DB2IT_JL61-Normal-SM-DNUMV_TN not found',\n",
       "   'source': 'rawls',\n",
       "   'stackTrace': []},\n",
       "  {'causes': [],\n",
       "   'message': 'pair CCLF_RCRF004-Tumor-SM-DNULX_CCLF_RCRF004-Tumor-SM-DHZ5Y_TP not found',\n",
       "   'source': 'rawls',\n",
       "   'stackTrace': []},\n",
       "  {'causes': [],\n",
       "   'message': 'pair CCLF_PEDS1026-Tumor-SM-EUVGD_CCLF_PEDS1026-Normal-SM-EUVH2_TN not found',\n",
       "   'source': 'rawls',\n",
       "   'stackTrace': []},\n",
       "  {'causes': [],\n",
       "   'message': 'pair CCLF_PEDS1035-Tumor-SM-F67DQ_CCLF_PEDS1035-Normal-SM-F29SH_TN not found',\n",
       "   'source': 'rawls',\n",
       "   'stackTrace': []},\n",
       "  {'causes': [],\n",
       "   'message': 'pair PEDS171-Tumor-SM-DNUL6_PEDS171-Normal-SM-D4L3R_TN not found',\n",
       "   'source': 'rawls',\n",
       "   'stackTrace': []},\n",
       "  {'causes': [],\n",
       "   'message': 'pair PEDS196-Tumor-SM-DNUN4_PEDS196-Normal-SM-DNULT_TN not found',\n",
       "   'source': 'rawls',\n",
       "   'stackTrace': []},\n",
       "  {'causes': [],\n",
       "   'message': 'pair EH014-Tumor-SM-D4L2W_EH014-Normal-SM-D4L27_TN not found',\n",
       "   'source': 'rawls',\n",
       "   'stackTrace': []},\n",
       "  {'causes': [],\n",
       "   'message': 'pair PEDS199-Tumor-SM-DHZ8R_PEDS199-Normal-SM-E7S1P_TN not found',\n",
       "   'source': 'rawls',\n",
       "   'stackTrace': []},\n",
       "  {'causes': [],\n",
       "   'message': 'pair EH014-Tumor-SM-D4L26_EH014-Normal-SM-D4L27_TN not found',\n",
       "   'source': 'rawls',\n",
       "   'stackTrace': []},\n",
       "  {'causes': [],\n",
       "   'message': 'pair JL61-Tumor-SM-DNUL2_JL61-Normal-SM-DNUNK_TN not found',\n",
       "   'source': 'rawls',\n",
       "   'stackTrace': []},\n",
       "  {'causes': [],\n",
       "   'message': 'pair CCLF_JL1001-Tumor-SM-EUVHJ_CCLF_JL1001-Tumor-SM-E7RZ7_TP not found',\n",
       "   'source': 'rawls',\n",
       "   'stackTrace': []},\n",
       "  {'causes': [],\n",
       "   'message': 'pair CCLF_JL1001-Tumor-SM-EUVGS_CCLF_JL1001-Normal-SM-E7S2K_TN not found',\n",
       "   'source': 'rawls',\n",
       "   'stackTrace': []},\n",
       "  {'causes': [],\n",
       "   'message': 'pair EH014-Tumor-SM-DHZ54_EH014-Normal-SM-D4L27_TN not found',\n",
       "   'source': 'rawls',\n",
       "   'stackTrace': []},\n",
       "  {'causes': [],\n",
       "   'message': 'pair PEDS194-Tumor-SM-DB2HW_PEDS194-Normal-SM-DHZ8P_TN not found',\n",
       "   'source': 'rawls',\n",
       "   'stackTrace': []},\n",
       "  {'causes': [],\n",
       "   'message': 'pair EH019-Tumor-SM-DB3RA_EH019-Normal-SM-DHZ8I_TN not found',\n",
       "   'source': 'rawls',\n",
       "   'stackTrace': []},\n",
       "  {'causes': [],\n",
       "   'message': 'pair PEDS209-Tumor-SM-DHZ51_PEDS209-Normal-SM-E7S1H_TN not found',\n",
       "   'source': 'rawls',\n",
       "   'stackTrace': []},\n",
       "  {'causes': [],\n",
       "   'message': 'pair CCLF_PEDS1008-Tumor-SM-EUVI3_CCLF_PEDS1008-Normal-SM-E7S23_TN not found',\n",
       "   'source': 'rawls',\n",
       "   'stackTrace': []},\n",
       "  {'causes': [],\n",
       "   'message': 'pair PEDS171-Tumor-SM-DNULI_PEDS171-Normal-SM-D4L3R_TN not found',\n",
       "   'source': 'rawls',\n",
       "   'stackTrace': []},\n",
       "  {'causes': [],\n",
       "   'message': 'pair PEDS207-Tumor-SM-E7S1Z_PEDS207-Normal-SM-DHZ6C_TP not found',\n",
       "   'source': 'rawls',\n",
       "   'stackTrace': []},\n",
       "  {'causes': [],\n",
       "   'message': 'pair PEDS195-Tumor-SM-DHZ9O_PEDS195-Tumor-SM-DB3R3_TP not found',\n",
       "   'source': 'rawls',\n",
       "   'stackTrace': []},\n",
       "  {'causes': [],\n",
       "   'message': 'pair JL58-Tumor-SM-DB2K8_JL58-Normal-SM-D4L4B_TP not found',\n",
       "   'source': 'rawls',\n",
       "   'stackTrace': []},\n",
       "  {'causes': [],\n",
       "   'message': 'pair PEDS195-Tumor-SM-E7S28_PEDS195-Tumor-SM-DB3R6_TP not found',\n",
       "   'source': 'rawls',\n",
       "   'stackTrace': []},\n",
       "  {'causes': [],\n",
       "   'message': 'pair JL58-Tumor-SM-D4L32_JL58-Normal-SM-DNUN8_TN not found',\n",
       "   'source': 'rawls',\n",
       "   'stackTrace': []},\n",
       "  {'causes': [],\n",
       "   'message': 'pair CCLF_PEDS1003-Tumor-SM-DHZ6E_CCLF_PEDS1003-Tumor-SM-DHZ6Q_TP not found',\n",
       "   'source': 'rawls',\n",
       "   'stackTrace': []},\n",
       "  {'causes': [],\n",
       "   'message': 'pair PEDS209-Tumor-SM-DNULQ_PEDS209-Tumor-SM-DHZ51_TP not found',\n",
       "   'source': 'rawls',\n",
       "   'stackTrace': []},\n",
       "  {'causes': [],\n",
       "   'message': 'pair PEDS207-Tumor-SM-E7RZG_PEDS207-Tumor-SM-DHZ6O_TP not found',\n",
       "   'source': 'rawls',\n",
       "   'stackTrace': []},\n",
       "  {'causes': [],\n",
       "   'message': 'pair PEDS199-Tumor-SM-DB2JW_PEDS199-Normal-SM-E7S1P_TN not found',\n",
       "   'source': 'rawls',\n",
       "   'stackTrace': []},\n",
       "  {'causes': [],\n",
       "   'message': 'pair PEDS194-Tumor-SM-DNUM2_PEDS194-Normal-SM-DHZ8D_TN not found',\n",
       "   'source': 'rawls',\n",
       "   'stackTrace': []},\n",
       "  {'causes': [],\n",
       "   'message': 'pair CCLF_PEDS1003-Tumor-SM-DHZ6Q_CCLF_PEDS1003-Tumor-SM-DHZ6H_TP not found',\n",
       "   'source': 'rawls',\n",
       "   'stackTrace': []},\n",
       "  {'causes': [],\n",
       "   'message': 'pair EH020-Tumor-SM-DHZ8H_EH020-Normal-SM-DHZ8U_TN not found',\n",
       "   'source': 'rawls',\n",
       "   'stackTrace': []},\n",
       "  {'causes': [],\n",
       "   'message': 'pair EH021-Tumor-SM-DHZ9U_EH021-Normal-SM-DHZ4X_TP not found',\n",
       "   'source': 'rawls',\n",
       "   'stackTrace': []},\n",
       "  {'causes': [],\n",
       "   'message': 'pair PEDS194-Tumor-SM-DHZA4_PEDS194-Normal-SM-DB2IW_TP not found',\n",
       "   'source': 'rawls',\n",
       "   'stackTrace': []},\n",
       "  {'causes': [],\n",
       "   'message': 'pair EH021-Tumor-SM-DHZ9I_EH021-Normal-SM-DHZ9J_TN not found',\n",
       "   'source': 'rawls',\n",
       "   'stackTrace': []},\n",
       "  {'causes': [],\n",
       "   'message': 'pair CCLF_PEDS1033-Tumor-SM-F67FY_CCLF_PEDS1033-Normal-SM-F67FB_TN not found',\n",
       "   'source': 'rawls',\n",
       "   'stackTrace': []},\n",
       "  {'causes': [],\n",
       "   'message': 'pair PEDS176-Tumor-SM-DB2JX_PEDS176-Normal-SM-D4L2I_TN not found',\n",
       "   'source': 'rawls',\n",
       "   'stackTrace': []},\n",
       "  {'causes': [],\n",
       "   'message': 'pair PEDS209-Tumor-SM-DNULQ_PEDS209-Normal-SM-DHZ7E_TN not found',\n",
       "   'source': 'rawls',\n",
       "   'stackTrace': []},\n",
       "  {'causes': [],\n",
       "   'message': 'pair CCLF_JL1001-Tumor-SM-EUVGG_CCLF_JL1001-Normal-SM-EUVH5_TN not found',\n",
       "   'source': 'rawls',\n",
       "   'stackTrace': []},\n",
       "  {'causes': [],\n",
       "   'message': 'pair PEDS063-Tumor-SM-F67EL_PEDS063-Normal-SM-GBJB9_TN not found',\n",
       "   'source': 'rawls',\n",
       "   'stackTrace': []},\n",
       "  {'causes': [],\n",
       "   'message': 'pair PEDS194-Tumor-SM-E7S1D_PEDS194-Normal-SM-DHZ7O_TN not found',\n",
       "   'source': 'rawls',\n",
       "   'stackTrace': []},\n",
       "  {'causes': [],\n",
       "   'message': 'pair JL61-Tumor-SM-DNULD_JL61-Normal-SM-DB2JI_TP not found',\n",
       "   'source': 'rawls',\n",
       "   'stackTrace': []},\n",
       "  {'causes': [],\n",
       "   'message': 'pair PEDS195-Tumor-SM-DB3R6_PEDS195-Tumor-SM-DB3R3_TP not found',\n",
       "   'source': 'rawls',\n",
       "   'stackTrace': []},\n",
       "  {'causes': [],\n",
       "   'message': 'pair PEDS207-Tumor-SM-E7RZI_PEDS207-Normal-SM-DHZ6C_TP not found',\n",
       "   'source': 'rawls',\n",
       "   'stackTrace': []},\n",
       "  {'causes': [],\n",
       "   'message': 'pair JL58-Tumor-SM-DB2J7_JL58-Normal-SM-DNUN8_TN not found',\n",
       "   'source': 'rawls',\n",
       "   'stackTrace': []},\n",
       "  {'causes': [],\n",
       "   'message': 'pair PEDS171-Tumor-SM-E7S11_PEDS171-Normal-SM-D4L21_TN not found',\n",
       "   'source': 'rawls',\n",
       "   'stackTrace': []},\n",
       "  {'causes': [],\n",
       "   'message': 'pair CCLF_JL1001-Tumor-SM-EUVHJ_CCLF_JL1001-Normal-SM-EUVH5_TN not found',\n",
       "   'source': 'rawls',\n",
       "   'stackTrace': []},\n",
       "  {'causes': [],\n",
       "   'message': 'pair PEDS200-Tumor-SM-DNUMQ_PEDS200-Normal-SM-DHZ9Z_TP not found',\n",
       "   'source': 'rawls',\n",
       "   'stackTrace': []},\n",
       "  {'causes': [],\n",
       "   'message': 'pair PEDS182-Tumor-SM-DHZ9D_PEDS182-Normal-SM-DHZA1_TN not found',\n",
       "   'source': 'rawls',\n",
       "   'stackTrace': []},\n",
       "  {'causes': [],\n",
       "   'message': 'pair JL58-Tumor-SM-DB2K8_JL58-Normal-SM-DNUN8_TN not found',\n",
       "   'source': 'rawls',\n",
       "   'stackTrace': []},\n",
       "  {'causes': [],\n",
       "   'message': 'pair JL61-Tumor-SM-DNULD_JL61-Normal-SM-DNUMV_TN not found',\n",
       "   'source': 'rawls',\n",
       "   'stackTrace': []},\n",
       "  {'causes': [],\n",
       "   'message': 'pair PEDS199-Tumor-SM-DHZ8R_PEDS199-Tumor-SM-DB2JW_TP not found',\n",
       "   'source': 'rawls',\n",
       "   'stackTrace': []},\n",
       "  {'causes': [],\n",
       "   'message': 'pair EH019-Tumor-SM-DHZ9T_EH019-Normal-SM-DB2J3_TN not found',\n",
       "   'source': 'rawls',\n",
       "   'stackTrace': []},\n",
       "  {'causes': [],\n",
       "   'message': 'pair EH021-Tumor-SM-DHZ6Y_EH021-Normal-SM-DHZ4X_TN not found',\n",
       "   'source': 'rawls',\n",
       "   'stackTrace': []},\n",
       "  {'causes': [],\n",
       "   'message': 'pair CCLF_PEDS1035-Tumor-SM-F29SJ_CCLF_PEDS1035-Normal-SM-F29SH_TN not found',\n",
       "   'source': 'rawls',\n",
       "   'stackTrace': []},\n",
       "  {'causes': [],\n",
       "   'message': 'pair CCLF_PEDS1019-Tumor-SM-E7S2G_CCLF_PEDS1019-Normal-SM-F67EO_TN not found',\n",
       "   'source': 'rawls',\n",
       "   'stackTrace': []},\n",
       "  {'causes': [],\n",
       "   'message': 'pair EH020-Tumor-SM-DHZ8T_EH020-Normal-SM-DB2IQ_TN not found',\n",
       "   'source': 'rawls',\n",
       "   'stackTrace': []},\n",
       "  {'causes': [],\n",
       "   'message': 'pair EH019-Tumor-SM-DHZ7S_EH019-Normal-SM-DB2J3_TN not found',\n",
       "   'source': 'rawls',\n",
       "   'stackTrace': []},\n",
       "  {'causes': [],\n",
       "   'message': 'pair CCLF_PEDS1007-Tumor-SM-DNULY_CCLF_PEDS1007-Normal-SM-E7S12_TN not found',\n",
       "   'source': 'rawls',\n",
       "   'stackTrace': []},\n",
       "  {'causes': [],\n",
       "   'message': 'pair PEDS179-Tumor-SM-DHZA8_PEDS179-Normal-SM-DHZ8Z_TN not found',\n",
       "   'source': 'rawls',\n",
       "   'stackTrace': []},\n",
       "  {'causes': [],\n",
       "   'message': 'pair PEDS195-Tumor-SM-DNUNH_PEDS195-Tumor-SM-DHZ9O_TP not found',\n",
       "   'source': 'rawls',\n",
       "   'stackTrace': []},\n",
       "  {'causes': [],\n",
       "   'message': 'pair PEDS207-Tumor-SM-E7RZI_PEDS207-Normal-SM-E7RZ4_TN not found',\n",
       "   'source': 'rawls',\n",
       "   'stackTrace': []},\n",
       "  {'causes': [],\n",
       "   'message': 'pair PEDS153-Tumor-SM-D4L3G_PEDS153-Normal-SM-DB2IU_TN not found',\n",
       "   'source': 'rawls',\n",
       "   'stackTrace': []},\n",
       "  {'causes': [],\n",
       "   'message': 'pair CCLF_PEDS1025-Tumor-SM-F29S9_CCLF_PEDS1025-Normal-SM-F29S8_TN not found',\n",
       "   'source': 'rawls',\n",
       "   'stackTrace': []},\n",
       "  {'causes': [],\n",
       "   'message': 'pair JL61-Tumor-SM-DNUL2_JL61-Normal-SM-DB2JI_TP not found',\n",
       "   'source': 'rawls',\n",
       "   'stackTrace': []},\n",
       "  {'causes': [],\n",
       "   'message': 'pair EH022-Tumor-SM-DHZ5O_EH022-Normal-SM-DHZ97_TN not found',\n",
       "   'source': 'rawls',\n",
       "   'stackTrace': []},\n",
       "  {'causes': [],\n",
       "   'message': 'pair PEDS194-Tumor-SM-E7S1D_PEDS194-Normal-SM-DB2IW_TP not found',\n",
       "   'source': 'rawls',\n",
       "   'stackTrace': []},\n",
       "  {'causes': [],\n",
       "   'message': 'pair CCLF_PEDS1035-Tumor-SM-F29SI_CCLF_PEDS1035-Normal-SM-F29SH_TN not found',\n",
       "   'source': 'rawls',\n",
       "   'stackTrace': []},\n",
       "  {'causes': [],\n",
       "   'message': 'pair PEDS176-Tumor-SM-DB2I7_PEDS176-Normal-SM-D4L2I_TP not found',\n",
       "   'source': 'rawls',\n",
       "   'stackTrace': []},\n",
       "  {'causes': [],\n",
       "   'message': 'pair CCLF_PEDS1029-Tumor-SM-EUVFZ_CCLF_PEDS1029-Normal-SM-EUVH1_TN not found',\n",
       "   'source': 'rawls',\n",
       "   'stackTrace': []},\n",
       "  {'causes': [],\n",
       "   'message': 'pair PEDS195-Tumor-SM-DHZ7Z_PEDS195-Tumor-SM-DHZ9O_TP not found',\n",
       "   'source': 'rawls',\n",
       "   'stackTrace': []},\n",
       "  {'causes': [],\n",
       "   'message': 'pair PEDS176-Tumor-SM-DB2I7_PEDS176-Normal-SM-DNUN3_TN not found',\n",
       "   'source': 'rawls',\n",
       "   'stackTrace': []},\n",
       "  {'causes': [],\n",
       "   'message': 'pair CCLF_PEDS1025-Tumor-SM-EUVHP_CCLF_PEDS1025-Normal-SM-EUVG1_TN not found',\n",
       "   'source': 'rawls',\n",
       "   'stackTrace': []},\n",
       "  {'causes': [],\n",
       "   'message': 'pair PEDS209-Tumor-SM-DNULA_PEDS209-Normal-SM-E7S1H_TN not found',\n",
       "   'source': 'rawls',\n",
       "   'stackTrace': []},\n",
       "  {'causes': [],\n",
       "   'message': 'pair PEDS176-Tumor-SM-D4L2T_PEDS176-Normal-SM-D4L2I_TN not found',\n",
       "   'source': 'rawls',\n",
       "   'stackTrace': []},\n",
       "  {'causes': [],\n",
       "   'message': 'pair PEDS194-Tumor-SM-DHZA4_PEDS194-Normal-SM-DHZ7O_TN not found',\n",
       "   'source': 'rawls',\n",
       "   'stackTrace': []},\n",
       "  {'causes': [],\n",
       "   'message': 'pair PEDS182-Tumor-SM-DHZ8C_PEDS182-Normal-SM-DHZA1_TN not found',\n",
       "   'source': 'rawls',\n",
       "   'stackTrace': []}],\n",
       " 'message': 'Could not resolve some entity references',\n",
       " 'source': 'rawls',\n",
       " 'stackTrace': [],\n",
       " 'statusCode': 400,\n",
       " 'timestamp': 1504706956842}"
      ]
     },
     "execution_count": 67,
     "metadata": {},
     "output_type": "execute_result"
    }
   ],
   "source": [
    "res.json()"
   ]
  },
  {
   "cell_type": "code",
   "execution_count": null,
   "metadata": {
    "collapsed": true
   },
   "outputs": [],
   "source": [
    "### Update pairs\n",
    "all_samples = fc_interface.get_samples_multiple_batches(paths_to_samples_info, google_bucket_id)\n",
    "pairs_list = fc_interface.create_pairs_list(all_samples)\n",
    "blacklist = [\"DW039-Tumor-SM-DB2IF\"]\n",
    "clean_pairs_list = pairs_list[ ~pairs_list['case_sample_id'].isin(blacklist)]\n",
    "res = fc_interface.upload_pairs(namespace, workspace, clean_pairs_list)"
   ]
  }
 ],
 "metadata": {
  "kernelspec": {
   "display_name": "Python 3",
   "language": "python",
   "name": "python3"
  },
  "language_info": {
   "codemirror_mode": {
    "name": "ipython",
    "version": 3
   },
   "file_extension": ".py",
   "mimetype": "text/x-python",
   "name": "python",
   "nbconvert_exporter": "python",
   "pygments_lexer": "ipython3",
   "version": "3.6.1"
  }
 },
 "nbformat": 4,
 "nbformat_minor": 2
}
