{
 "cells": [
  {
   "cell_type": "markdown",
   "metadata": {},
   "source": [
    "### Commands"
   ]
  },
  {
   "cell_type": "code",
   "execution_count": 2,
   "metadata": {
    "collapsed": true
   },
   "outputs": [],
   "source": [
    "from firecloud import api as firecloud_api\n",
    "import fc_interface"
   ]
  },
  {
   "cell_type": "code",
   "execution_count": 3,
   "metadata": {
    "collapsed": true
   },
   "outputs": [],
   "source": [
    "%load_ext autoreload\n",
    "%autoreload 2"
   ]
  },
  {
   "cell_type": "code",
   "execution_count": 4,
   "metadata": {
    "collapsed": true
   },
   "outputs": [],
   "source": [
    "### Parameters\n",
    "namespace = \"nci-mimoun-bi-org\"\n",
    "workspace = \"CCLF_TSCA\"\n",
    "paths_to_samples_info = \"paths_to_batches_info.xlsx\"\n",
    "google_bucket_id = \"fc-35446f22-ea37-483a-bd6c-5e9fc56851ff\""
   ]
  },
  {
   "cell_type": "code",
   "execution_count": null,
   "metadata": {
    "collapsed": true,
    "editable": false,
    "run_control": {
     "frozen": true
    }
   },
   "outputs": [],
   "source": [
    "### Delete unnecessary attributes in samples\n",
    "attrs = [\"annotate_variants_vcf\", \"annotate_variants_vcf_index\", \"oncotated_maf\", \"mutect2_vcf_index\", \"match_normal_oncotated_maf\", \"gnomad_vcf\", \"merged_vcfs\", \"match_primary_tumor_bam_file\"]\n",
    "for idx, row in all_samples.iterrows():\n",
    "    fc_interface.delete_entity_attributes(namespace, workspace, \"sample\", row['entity:sample_id'], attrs)"
   ]
  },
  {
   "cell_type": "code",
   "execution_count": 3,
   "metadata": {
    "editable": false,
    "run_control": {
     "frozen": true
    }
   },
   "outputs": [
    {
     "data": {
      "text/plain": [
       "<Response [200]>"
      ]
     },
     "execution_count": 3,
     "metadata": {},
     "output_type": "execute_result"
    }
   ],
   "source": [
    "### Delete method repostory\n",
    "firecloud_api.delete_repository_method('tsca', 'CreatePoN', 15)"
   ]
  },
  {
   "cell_type": "code",
   "execution_count": 17,
   "metadata": {
    "editable": false,
    "run_control": {
     "frozen": true
    }
   },
   "outputs": [
    {
     "data": {
      "text/plain": [
       "<Response [200]>"
      ]
     },
     "execution_count": 17,
     "metadata": {},
     "output_type": "execute_result"
    }
   ],
   "source": [
    "### Delete method repository\n",
    "firecloud_api.delete_repository_method('tsca', 'Mutect2_for_Normal', 1)"
   ]
  },
  {
   "cell_type": "code",
   "execution_count": 42,
   "metadata": {
    "collapsed": true,
    "editable": false,
    "run_control": {
     "frozen": true
    }
   },
   "outputs": [],
   "source": [
    "### Delete multiple method repositories\n",
    "for i in range(10, 23):\n",
    "    firecloud_api.delete_repository_method('tsca', 'CreatePoN', i)"
   ]
  },
  {
   "cell_type": "code",
   "execution_count": 16,
   "metadata": {
    "collapsed": true,
    "editable": false,
    "run_control": {
     "frozen": true
    }
   },
   "outputs": [],
   "source": [
    "### Delete method config\n",
    "firecloud_api.delete_workspace_config(namespace, workspace, \"tsca\", \"Mutect2_for_Normal\")"
   ]
  },
  {
   "cell_type": "code",
   "execution_count": null,
   "metadata": {
    "collapsed": true,
    "editable": false,
    "run_control": {
     "frozen": true
    }
   },
   "outputs": [],
   "source": [
    "### Create pairs\n",
    "all_samples = fc_interface.get_samples_multiple_batches(paths_to_samples_info, google_bucket_id)\n",
    "pairs_list = fc_interface.create_pairs_list(all_samples)\n",
    "blacklist = [\"DW039-Tumor-SM-DB2IF\"]\n",
    "clean_pairs_list = pairs_list[ ~pairs_list['case_sample_id'].isin(blacklist)]"
   ]
  },
  {
   "cell_type": "code",
   "execution_count": 18,
   "metadata": {
    "collapsed": true,
    "editable": false,
    "run_control": {
     "frozen": true
    }
   },
   "outputs": [],
   "source": [
    "### Upload pairs\n",
    "# res = fc_interface.upload_pairs(namespace, workspace, clean_pairs_list)"
   ]
  },
  {
   "cell_type": "code",
   "execution_count": 54,
   "metadata": {
    "collapsed": true,
    "editable": false,
    "run_control": {
     "frozen": true
    }
   },
   "outputs": [],
   "source": [
    "# ### Delete unnecessary attributes in pairs\n",
    "# ### NOT WOKING\n",
    "# all_samples = fc_interface.get_samples_multiple_batches(paths_to_samples_info, google_bucket_id)\n",
    "# pairs_list = fc_interface.create_pairs_list(all_samples)\n",
    "# attrs = [\"__annotate_variants_vcf\", \"__annotate_variants_vcf_index\", \\\n",
    "#          \"__scattered_intervals\", \"__tmp_mutect_vcf2\", \"_tmp_mutect_vcf_index2\", \\\n",
    "#          \"__tmp_mutect_vcf2\", \"_tmp_mutect_vcf_index2\"]\n",
    "# for idx, row in pairs_list.iterrows():\n",
    "#     fc_interface.delete_entity_attributes(namespace, workspace, \"pair\", row['entity:pair_id'], attrs)"
   ]
  },
  {
   "cell_type": "code",
   "execution_count": 48,
   "metadata": {
    "editable": false,
    "run_control": {
     "frozen": true
    }
   },
   "outputs": [
    {
     "name": "stdout",
     "output_type": "stream",
     "text": [
      "65 Participants in this batch\n",
      "95 Samples in this batch\n"
     ]
    }
   ],
   "source": [
    "### Upload metadata for given batch\n",
    "fc_interface.update_batch_metadata('TSCA21', \\\n",
    "                                  '/xchip/clf/seq_data/processed_for_fh/tsca21_201708_SN0128552/tsca21_201708_SN0128552.import_samples.txt', \\\n",
    "                                      paths_to_samples_info, \\\n",
    "                                        namespace, workspace, google_bucket_id)"
   ]
  },
  {
   "cell_type": "code",
   "execution_count": 70,
   "metadata": {
    "editable": false,
    "run_control": {
     "frozen": true
    }
   },
   "outputs": [
    {
     "data": {
      "text/plain": [
       "<Response [204]>"
      ]
     },
     "execution_count": 70,
     "metadata": {},
     "output_type": "execute_result"
    }
   ],
   "source": [
    "### Delete sample_set\n",
    "fc_interface.delete_sample_set(namespace, workspace, 'TSCA1213')"
   ]
  },
  {
   "cell_type": "code",
   "execution_count": 74,
   "metadata": {
    "collapsed": true,
    "editable": false,
    "run_control": {
     "frozen": true
    }
   },
   "outputs": [],
   "source": [
    "### All paths to batch info\n",
    "# pd.read_excel('paths_to_batches_info.xlsx').path_to_samples_info.tolist()"
   ]
  },
  {
   "cell_type": "code",
   "execution_count": 94,
   "metadata": {
    "editable": false,
    "run_control": {
     "frozen": true
    }
   },
   "outputs": [
    {
     "name": "stdout",
     "output_type": "stream",
     "text": [
      "Creating panel of 157 normals\n"
     ]
    }
   ],
   "source": [
    "### Create cumulative PoN\n",
    "batches_info = pd.read_excel(paths_to_samples_info)\n",
    "PoN = fc_interface.create_panel_of_normals(batches_info.path_to_samples_info.tolist(), -1, 'CumPoN21')\n",
    "fc_interface.upload_pon(PoN, 'CumPoN21', namespace, workspace)"
   ]
  },
  {
   "cell_type": "code",
   "execution_count": 109,
   "metadata": {
    "editable": false,
    "run_control": {
     "frozen": true
    }
   },
   "outputs": [
    {
     "name": "stdout",
     "output_type": "stream",
     "text": [
      "Creating panel of 11 normals\n"
     ]
    },
    {
     "data": {
      "text/plain": [
       "<Response [200]>"
      ]
     },
     "execution_count": 109,
     "metadata": {},
     "output_type": "execute_result"
    }
   ],
   "source": [
    "### Create PoN from normals of only one batch\n",
    "tsca21_path = batches_info.path_to_samples_info.tolist()[-1]\n",
    "PoN = fc_interface.create_panel_of_normals([tsca21_path], -1, 'PoN_TSCA21_Normals')\n",
    "fc_interface.upload_pon(PoN, 'PoN_TSCA21_Normals', namespace, workspace)"
   ]
  },
  {
   "cell_type": "code",
   "execution_count": 102,
   "metadata": {
    "editable": false,
    "run_control": {
     "frozen": true
    }
   },
   "outputs": [
    {
     "data": {
      "text/plain": [
       "<Response [204]>"
      ]
     },
     "execution_count": 102,
     "metadata": {},
     "output_type": "execute_result"
    }
   ],
   "source": [
    "### Delete pair set\n",
    "fc_interface.delete_pair_set(namespace, workspace, 'TSCA1213')"
   ]
  },
  {
   "cell_type": "code",
   "execution_count": null,
   "metadata": {
    "collapsed": true,
    "editable": false,
    "run_control": {
     "frozen": true
    }
   },
   "outputs": [],
   "source": [
    "### Delete sample set\n",
    "fc_interface.delete_sample_set(namespace, workspace, 'TSCA1213')"
   ]
  },
  {
   "cell_type": "code",
   "execution_count": 20,
   "metadata": {
    "collapsed": true,
    "editable": false,
    "run_control": {
     "frozen": true
    }
   },
   "outputs": [],
   "source": [
    "### Download method configs\n",
    "fc_interface.download_method_configs(namespace, workspace)"
   ]
  },
  {
   "cell_type": "code",
   "execution_count": 145,
   "metadata": {
    "collapsed": true,
    "editable": false,
    "run_control": {
     "frozen": true
    }
   },
   "outputs": [],
   "source": [
    "### Upload pairsets\n",
    "tn_pairsets, tp_pairsets = fc_interface.create_pairsets(all_samples, clean_pairs_list)\n",
    "fc_interface.upload_pairsets(namespace, workspace, tn_pairsets, \"TN\")\n",
    "fc_interface.upload_pairsets(namespace, workspace, tp_pairsets, \"TP\")"
   ]
  },
  {
   "cell_type": "markdown",
   "metadata": {},
   "source": [
    "---"
   ]
  },
  {
   "cell_type": "markdown",
   "metadata": {},
   "source": [
    "---"
   ]
  },
  {
   "cell_type": "code",
   "execution_count": 7,
   "metadata": {},
   "outputs": [],
   "source": [
    "all_samples = fc_interface.get_samples_multiple_batches(paths_to_samples_info, google_bucket_id)\n",
    "pairs_list = fc_interface.create_pairs_list(all_samples)\n",
    "blacklist = [\"DW039-Tumor-SM-DB2IF\"]\n",
    "clean_pairs_list = pairs_list[ ~pairs_list['case_sample_id'].isin(blacklist)]"
   ]
  },
  {
   "cell_type": "code",
   "execution_count": 9,
   "metadata": {
    "collapsed": true
   },
   "outputs": [],
   "source": [
    "# UPDATE THIS ONE:\n",
    "# PEDS063-Tumor-SM-GBJAK_PEDS063-Normal-SM-F67EX_TN"
   ]
  },
  {
   "cell_type": "code",
   "execution_count": 8,
   "metadata": {
    "collapsed": true
   },
   "outputs": [
    {
     "data": {
      "text/html": [
       "<div>\n",
       "<style>\n",
       "    .dataframe thead tr:only-child th {\n",
       "        text-align: right;\n",
       "    }\n",
       "\n",
       "    .dataframe thead th {\n",
       "        text-align: left;\n",
       "    }\n",
       "\n",
       "    .dataframe tbody tr th {\n",
       "        vertical-align: top;\n",
       "    }\n",
       "</style>\n",
       "<table border=\"1\" class=\"dataframe\">\n",
       "  <thead>\n",
       "    <tr style=\"text-align: right;\">\n",
       "      <th></th>\n",
       "      <th>entity:pair_id</th>\n",
       "      <th>case_sample_id</th>\n",
       "      <th>control_sample_id</th>\n",
       "      <th>participant_id</th>\n",
       "      <th>match_type</th>\n",
       "      <th>case_sample_tsca_id</th>\n",
       "      <th>control_sample_tsca_id</th>\n",
       "    </tr>\n",
       "  </thead>\n",
       "  <tbody>\n",
       "    <tr>\n",
       "      <th>0</th>\n",
       "      <td>AA34-Tumor-SM-D4L25_NA_TN</td>\n",
       "      <td>AA34-Tumor-SM-D4L25</td>\n",
       "      <td>NA</td>\n",
       "      <td>AA34</td>\n",
       "      <td>tumor_normal</td>\n",
       "      <td>TSCA1213</td>\n",
       "      <td>NA</td>\n",
       "    </tr>\n",
       "    <tr>\n",
       "      <th>1</th>\n",
       "      <td>AA34-Tumor-SM-D4L25_NA_TP</td>\n",
       "      <td>AA34-Tumor-SM-D4L25</td>\n",
       "      <td>NA</td>\n",
       "      <td>AA34</td>\n",
       "      <td>tumor_primary</td>\n",
       "      <td>TSCA1213</td>\n",
       "      <td>NA</td>\n",
       "    </tr>\n",
       "    <tr>\n",
       "      <th>2</th>\n",
       "      <td>AA36-Tumor-SM-D4L2H_NA_TN</td>\n",
       "      <td>AA36-Tumor-SM-D4L2H</td>\n",
       "      <td>NA</td>\n",
       "      <td>AA36</td>\n",
       "      <td>tumor_normal</td>\n",
       "      <td>TSCA1213</td>\n",
       "      <td>NA</td>\n",
       "    </tr>\n",
       "    <tr>\n",
       "      <th>3</th>\n",
       "      <td>AA36-Tumor-SM-D4L2H_NA_TP</td>\n",
       "      <td>AA36-Tumor-SM-D4L2H</td>\n",
       "      <td>NA</td>\n",
       "      <td>AA36</td>\n",
       "      <td>tumor_primary</td>\n",
       "      <td>TSCA1213</td>\n",
       "      <td>NA</td>\n",
       "    </tr>\n",
       "    <tr>\n",
       "      <th>4</th>\n",
       "      <td>AA39-Tumor-SM-D4L3Q_NA_TN</td>\n",
       "      <td>AA39-Tumor-SM-D4L3Q</td>\n",
       "      <td>NA</td>\n",
       "      <td>AA39</td>\n",
       "      <td>tumor_normal</td>\n",
       "      <td>TSCA1213</td>\n",
       "      <td>NA</td>\n",
       "    </tr>\n",
       "    <tr>\n",
       "      <th>5</th>\n",
       "      <td>AA39-Tumor-SM-D4L3Q_NA_TP</td>\n",
       "      <td>AA39-Tumor-SM-D4L3Q</td>\n",
       "      <td>NA</td>\n",
       "      <td>AA39</td>\n",
       "      <td>tumor_primary</td>\n",
       "      <td>TSCA1213</td>\n",
       "      <td>NA</td>\n",
       "    </tr>\n",
       "    <tr>\n",
       "      <th>6</th>\n",
       "      <td>AA40-Tumor-SM-D4L42_NA_TN</td>\n",
       "      <td>AA40-Tumor-SM-D4L42</td>\n",
       "      <td>NA</td>\n",
       "      <td>AA40</td>\n",
       "      <td>tumor_normal</td>\n",
       "      <td>TSCA1213</td>\n",
       "      <td>NA</td>\n",
       "    </tr>\n",
       "    <tr>\n",
       "      <th>7</th>\n",
       "      <td>AA40-Tumor-SM-D4L42_NA_TP</td>\n",
       "      <td>AA40-Tumor-SM-D4L42</td>\n",
       "      <td>NA</td>\n",
       "      <td>AA40</td>\n",
       "      <td>tumor_primary</td>\n",
       "      <td>TSCA1213</td>\n",
       "      <td>NA</td>\n",
       "    </tr>\n",
       "    <tr>\n",
       "      <th>8</th>\n",
       "      <td>AB044-Tumor-SM-D4L2M_NA_TN</td>\n",
       "      <td>AB044-Tumor-SM-D4L2M</td>\n",
       "      <td>NA</td>\n",
       "      <td>AB044</td>\n",
       "      <td>tumor_normal</td>\n",
       "      <td>TSCA1213</td>\n",
       "      <td>NA</td>\n",
       "    </tr>\n",
       "    <tr>\n",
       "      <th>9</th>\n",
       "      <td>AB044-Tumor-SM-D4L2M_NA_TP</td>\n",
       "      <td>AB044-Tumor-SM-D4L2M</td>\n",
       "      <td>NA</td>\n",
       "      <td>AB044</td>\n",
       "      <td>tumor_primary</td>\n",
       "      <td>TSCA1213</td>\n",
       "      <td>NA</td>\n",
       "    </tr>\n",
       "    <tr>\n",
       "      <th>10</th>\n",
       "      <td>ANGMCSS-Tumor-SM-D4L2G_NA_TN</td>\n",
       "      <td>ANGMCSS-Tumor-SM-D4L2G</td>\n",
       "      <td>NA</td>\n",
       "      <td>ANGMCSS</td>\n",
       "      <td>tumor_normal</td>\n",
       "      <td>TSCA1213</td>\n",
       "      <td>NA</td>\n",
       "    </tr>\n",
       "    <tr>\n",
       "      <th>11</th>\n",
       "      <td>ANGMCSS-Tumor-SM-D4L2G_NA_TP</td>\n",
       "      <td>ANGMCSS-Tumor-SM-D4L2G</td>\n",
       "      <td>NA</td>\n",
       "      <td>ANGMCSS</td>\n",
       "      <td>tumor_primary</td>\n",
       "      <td>TSCA1213</td>\n",
       "      <td>NA</td>\n",
       "    </tr>\n",
       "    <tr>\n",
       "      <th>12</th>\n",
       "      <td>BT1008-Tumor-SM-D4L45_NA_TN</td>\n",
       "      <td>BT1008-Tumor-SM-D4L45</td>\n",
       "      <td>NA</td>\n",
       "      <td>BT1008</td>\n",
       "      <td>tumor_normal</td>\n",
       "      <td>TSCA1213</td>\n",
       "      <td>NA</td>\n",
       "    </tr>\n",
       "    <tr>\n",
       "      <th>13</th>\n",
       "      <td>BT1008-Tumor-SM-D4L45_NA_TP</td>\n",
       "      <td>BT1008-Tumor-SM-D4L45</td>\n",
       "      <td>NA</td>\n",
       "      <td>BT1008</td>\n",
       "      <td>tumor_primary</td>\n",
       "      <td>TSCA1213</td>\n",
       "      <td>NA</td>\n",
       "    </tr>\n",
       "    <tr>\n",
       "      <th>14</th>\n",
       "      <td>BT922-Tumor-SM-D4L1W_NA_TN</td>\n",
       "      <td>BT922-Tumor-SM-D4L1W</td>\n",
       "      <td>NA</td>\n",
       "      <td>BT922</td>\n",
       "      <td>tumor_normal</td>\n",
       "      <td>TSCA1213</td>\n",
       "      <td>NA</td>\n",
       "    </tr>\n",
       "    <tr>\n",
       "      <th>15</th>\n",
       "      <td>BT922-Tumor-SM-D4L1W_NA_TP</td>\n",
       "      <td>BT922-Tumor-SM-D4L1W</td>\n",
       "      <td>NA</td>\n",
       "      <td>BT922</td>\n",
       "      <td>tumor_primary</td>\n",
       "      <td>TSCA1213</td>\n",
       "      <td>NA</td>\n",
       "    </tr>\n",
       "    <tr>\n",
       "      <th>16</th>\n",
       "      <td>BT923-Tumor-SM-D4L3W_NA_TN</td>\n",
       "      <td>BT923-Tumor-SM-D4L3W</td>\n",
       "      <td>NA</td>\n",
       "      <td>BT923</td>\n",
       "      <td>tumor_normal</td>\n",
       "      <td>TSCA1213</td>\n",
       "      <td>NA</td>\n",
       "    </tr>\n",
       "    <tr>\n",
       "      <th>17</th>\n",
       "      <td>BT923-Tumor-SM-D4L3W_NA_TP</td>\n",
       "      <td>BT923-Tumor-SM-D4L3W</td>\n",
       "      <td>NA</td>\n",
       "      <td>BT923</td>\n",
       "      <td>tumor_primary</td>\n",
       "      <td>TSCA1213</td>\n",
       "      <td>NA</td>\n",
       "    </tr>\n",
       "    <tr>\n",
       "      <th>18</th>\n",
       "      <td>BT950-Tumor-SM-D4L48_NA_TN</td>\n",
       "      <td>BT950-Tumor-SM-D4L48</td>\n",
       "      <td>NA</td>\n",
       "      <td>BT950</td>\n",
       "      <td>tumor_normal</td>\n",
       "      <td>TSCA1213</td>\n",
       "      <td>NA</td>\n",
       "    </tr>\n",
       "    <tr>\n",
       "      <th>19</th>\n",
       "      <td>BT950-Tumor-SM-D4L48_NA_TP</td>\n",
       "      <td>BT950-Tumor-SM-D4L48</td>\n",
       "      <td>NA</td>\n",
       "      <td>BT950</td>\n",
       "      <td>tumor_primary</td>\n",
       "      <td>TSCA1213</td>\n",
       "      <td>NA</td>\n",
       "    </tr>\n",
       "    <tr>\n",
       "      <th>20</th>\n",
       "      <td>BT961-Tumor-SM-D4L3C_NA_TN</td>\n",
       "      <td>BT961-Tumor-SM-D4L3C</td>\n",
       "      <td>NA</td>\n",
       "      <td>BT961</td>\n",
       "      <td>tumor_normal</td>\n",
       "      <td>TSCA1213</td>\n",
       "      <td>NA</td>\n",
       "    </tr>\n",
       "    <tr>\n",
       "      <th>21</th>\n",
       "      <td>BT961-Tumor-SM-D4L3C_NA_TP</td>\n",
       "      <td>BT961-Tumor-SM-D4L3C</td>\n",
       "      <td>NA</td>\n",
       "      <td>BT961</td>\n",
       "      <td>tumor_primary</td>\n",
       "      <td>TSCA1213</td>\n",
       "      <td>NA</td>\n",
       "    </tr>\n",
       "    <tr>\n",
       "      <th>22</th>\n",
       "      <td>BT972-Tumor-SM-D4L3Y_NA_TN</td>\n",
       "      <td>BT972-Tumor-SM-D4L3Y</td>\n",
       "      <td>NA</td>\n",
       "      <td>BT972</td>\n",
       "      <td>tumor_normal</td>\n",
       "      <td>TSCA1213</td>\n",
       "      <td>NA</td>\n",
       "    </tr>\n",
       "    <tr>\n",
       "      <th>23</th>\n",
       "      <td>BT972-Tumor-SM-D4L3Y_NA_TP</td>\n",
       "      <td>BT972-Tumor-SM-D4L3Y</td>\n",
       "      <td>NA</td>\n",
       "      <td>BT972</td>\n",
       "      <td>tumor_primary</td>\n",
       "      <td>TSCA1213</td>\n",
       "      <td>NA</td>\n",
       "    </tr>\n",
       "    <tr>\n",
       "      <th>24</th>\n",
       "      <td>CHLA200-Tumor-SM-CNN37_NA_TN</td>\n",
       "      <td>CHLA200-Tumor-SM-CNN37</td>\n",
       "      <td>NA</td>\n",
       "      <td>CHLA200</td>\n",
       "      <td>tumor_normal</td>\n",
       "      <td>TSCA1213</td>\n",
       "      <td>NA</td>\n",
       "    </tr>\n",
       "    <tr>\n",
       "      <th>25</th>\n",
       "      <td>CHLA200-Tumor-SM-CNN37_NA_TP</td>\n",
       "      <td>CHLA200-Tumor-SM-CNN37</td>\n",
       "      <td>NA</td>\n",
       "      <td>CHLA200</td>\n",
       "      <td>tumor_primary</td>\n",
       "      <td>TSCA1213</td>\n",
       "      <td>NA</td>\n",
       "    </tr>\n",
       "    <tr>\n",
       "      <th>26</th>\n",
       "      <td>CO001-Tumor-SM-D4L3V_NA_TN</td>\n",
       "      <td>CO001-Tumor-SM-D4L3V</td>\n",
       "      <td>NA</td>\n",
       "      <td>CO001</td>\n",
       "      <td>tumor_normal</td>\n",
       "      <td>TSCA1213</td>\n",
       "      <td>NA</td>\n",
       "    </tr>\n",
       "    <tr>\n",
       "      <th>27</th>\n",
       "      <td>CO001-Tumor-SM-D4L3V_NA_TP</td>\n",
       "      <td>CO001-Tumor-SM-D4L3V</td>\n",
       "      <td>NA</td>\n",
       "      <td>CO001</td>\n",
       "      <td>tumor_primary</td>\n",
       "      <td>TSCA1213</td>\n",
       "      <td>NA</td>\n",
       "    </tr>\n",
       "    <tr>\n",
       "      <th>28</th>\n",
       "      <td>CO002-Tumor-SM-D4L47_NA_TN</td>\n",
       "      <td>CO002-Tumor-SM-D4L47</td>\n",
       "      <td>NA</td>\n",
       "      <td>CO002</td>\n",
       "      <td>tumor_normal</td>\n",
       "      <td>TSCA1213</td>\n",
       "      <td>NA</td>\n",
       "    </tr>\n",
       "    <tr>\n",
       "      <th>29</th>\n",
       "      <td>CO002-Tumor-SM-D4L47_NA_TP</td>\n",
       "      <td>CO002-Tumor-SM-D4L47</td>\n",
       "      <td>NA</td>\n",
       "      <td>CO002</td>\n",
       "      <td>tumor_primary</td>\n",
       "      <td>TSCA1213</td>\n",
       "      <td>NA</td>\n",
       "    </tr>\n",
       "    <tr>\n",
       "      <th>...</th>\n",
       "      <td>...</td>\n",
       "      <td>...</td>\n",
       "      <td>...</td>\n",
       "      <td>...</td>\n",
       "      <td>...</td>\n",
       "      <td>...</td>\n",
       "      <td>...</td>\n",
       "    </tr>\n",
       "    <tr>\n",
       "      <th>1744</th>\n",
       "      <td>CY018-Tumor-SM-GBJAV_NA_TN</td>\n",
       "      <td>CY018-Tumor-SM-GBJAV</td>\n",
       "      <td>NA</td>\n",
       "      <td>CY018</td>\n",
       "      <td>tumor_normal</td>\n",
       "      <td>TSCA21</td>\n",
       "      <td>NA</td>\n",
       "    </tr>\n",
       "    <tr>\n",
       "      <th>1745</th>\n",
       "      <td>CY018-Tumor-SM-GBJAV_NA_TP</td>\n",
       "      <td>CY018-Tumor-SM-GBJAV</td>\n",
       "      <td>NA</td>\n",
       "      <td>CY018</td>\n",
       "      <td>tumor_primary</td>\n",
       "      <td>TSCA21</td>\n",
       "      <td>NA</td>\n",
       "    </tr>\n",
       "    <tr>\n",
       "      <th>1746</th>\n",
       "      <td>CY019-Tumor-SM-GBJA6_NA_TN</td>\n",
       "      <td>CY019-Tumor-SM-GBJA6</td>\n",
       "      <td>NA</td>\n",
       "      <td>CY019</td>\n",
       "      <td>tumor_normal</td>\n",
       "      <td>TSCA21</td>\n",
       "      <td>NA</td>\n",
       "    </tr>\n",
       "    <tr>\n",
       "      <th>1747</th>\n",
       "      <td>CY019-Tumor-SM-GBJA6_NA_TP</td>\n",
       "      <td>CY019-Tumor-SM-GBJA6</td>\n",
       "      <td>NA</td>\n",
       "      <td>CY019</td>\n",
       "      <td>tumor_primary</td>\n",
       "      <td>TSCA21</td>\n",
       "      <td>NA</td>\n",
       "    </tr>\n",
       "    <tr>\n",
       "      <th>1748</th>\n",
       "      <td>CY020-Tumor-SM-GBJ9R_NA_TN</td>\n",
       "      <td>CY020-Tumor-SM-GBJ9R</td>\n",
       "      <td>NA</td>\n",
       "      <td>CY020</td>\n",
       "      <td>tumor_normal</td>\n",
       "      <td>TSCA21</td>\n",
       "      <td>NA</td>\n",
       "    </tr>\n",
       "    <tr>\n",
       "      <th>1749</th>\n",
       "      <td>CY020-Tumor-SM-GBJ9R_NA_TP</td>\n",
       "      <td>CY020-Tumor-SM-GBJ9R</td>\n",
       "      <td>NA</td>\n",
       "      <td>CY020</td>\n",
       "      <td>tumor_primary</td>\n",
       "      <td>TSCA21</td>\n",
       "      <td>NA</td>\n",
       "    </tr>\n",
       "    <tr>\n",
       "      <th>1750</th>\n",
       "      <td>SUDIPGIV-Tumor-SM-GBJB2_NA_TN</td>\n",
       "      <td>SUDIPGIV-Tumor-SM-GBJB2</td>\n",
       "      <td>NA</td>\n",
       "      <td>SUDIPGIV</td>\n",
       "      <td>tumor_normal</td>\n",
       "      <td>TSCA21</td>\n",
       "      <td>NA</td>\n",
       "    </tr>\n",
       "    <tr>\n",
       "      <th>1751</th>\n",
       "      <td>SUDIPGIV-Tumor-SM-GBJB2_NA_TP</td>\n",
       "      <td>SUDIPGIV-Tumor-SM-GBJB2</td>\n",
       "      <td>NA</td>\n",
       "      <td>SUDIPGIV</td>\n",
       "      <td>tumor_primary</td>\n",
       "      <td>TSCA21</td>\n",
       "      <td>NA</td>\n",
       "    </tr>\n",
       "    <tr>\n",
       "      <th>1752</th>\n",
       "      <td>SUDIPGXIII-Tumor-SM-GBJA1_NA_TN</td>\n",
       "      <td>SUDIPGXIII-Tumor-SM-GBJA1</td>\n",
       "      <td>NA</td>\n",
       "      <td>SUDIPGXIII</td>\n",
       "      <td>tumor_normal</td>\n",
       "      <td>TSCA21</td>\n",
       "      <td>NA</td>\n",
       "    </tr>\n",
       "    <tr>\n",
       "      <th>1753</th>\n",
       "      <td>SUDIPGXIII-Tumor-SM-GBJA1_NA_TP</td>\n",
       "      <td>SUDIPGXIII-Tumor-SM-GBJA1</td>\n",
       "      <td>NA</td>\n",
       "      <td>SUDIPGXIII</td>\n",
       "      <td>tumor_primary</td>\n",
       "      <td>TSCA21</td>\n",
       "      <td>NA</td>\n",
       "    </tr>\n",
       "    <tr>\n",
       "      <th>1754</th>\n",
       "      <td>SUDIPGXVII-Tumor-SM-GBJAD_NA_TN</td>\n",
       "      <td>SUDIPGXVII-Tumor-SM-GBJAD</td>\n",
       "      <td>NA</td>\n",
       "      <td>SUDIPGXVII</td>\n",
       "      <td>tumor_normal</td>\n",
       "      <td>TSCA21</td>\n",
       "      <td>NA</td>\n",
       "    </tr>\n",
       "    <tr>\n",
       "      <th>1755</th>\n",
       "      <td>SUDIPGXVII-Tumor-SM-GBJAD_NA_TP</td>\n",
       "      <td>SUDIPGXVII-Tumor-SM-GBJAD</td>\n",
       "      <td>NA</td>\n",
       "      <td>SUDIPGXVII</td>\n",
       "      <td>tumor_primary</td>\n",
       "      <td>TSCA21</td>\n",
       "      <td>NA</td>\n",
       "    </tr>\n",
       "    <tr>\n",
       "      <th>1756</th>\n",
       "      <td>SUDIPGXXV-Tumor-SM-GBJAP_NA_TN</td>\n",
       "      <td>SUDIPGXXV-Tumor-SM-GBJAP</td>\n",
       "      <td>NA</td>\n",
       "      <td>SUDIPGXXV</td>\n",
       "      <td>tumor_normal</td>\n",
       "      <td>TSCA21</td>\n",
       "      <td>NA</td>\n",
       "    </tr>\n",
       "    <tr>\n",
       "      <th>1757</th>\n",
       "      <td>SUDIPGXXV-Tumor-SM-GBJAP_NA_TP</td>\n",
       "      <td>SUDIPGXXV-Tumor-SM-GBJAP</td>\n",
       "      <td>NA</td>\n",
       "      <td>SUDIPGXXV</td>\n",
       "      <td>tumor_primary</td>\n",
       "      <td>TSCA21</td>\n",
       "      <td>NA</td>\n",
       "    </tr>\n",
       "    <tr>\n",
       "      <th>1758</th>\n",
       "      <td>EH028-Tumor-SM-GBJAE_NA_TN</td>\n",
       "      <td>EH028-Tumor-SM-GBJAE</td>\n",
       "      <td>NA</td>\n",
       "      <td>EH028</td>\n",
       "      <td>tumor_normal</td>\n",
       "      <td>TSCA21</td>\n",
       "      <td>NA</td>\n",
       "    </tr>\n",
       "    <tr>\n",
       "      <th>1759</th>\n",
       "      <td>EH028-Tumor-SM-GBJAE_NA_TP</td>\n",
       "      <td>EH028-Tumor-SM-GBJAE</td>\n",
       "      <td>NA</td>\n",
       "      <td>EH028</td>\n",
       "      <td>tumor_primary</td>\n",
       "      <td>TSCA21</td>\n",
       "      <td>NA</td>\n",
       "    </tr>\n",
       "    <tr>\n",
       "      <th>1760</th>\n",
       "      <td>EH029-Tumor-SM-GBJB6_EH029-Normal-SM-GBJAT_TN</td>\n",
       "      <td>EH029-Tumor-SM-GBJB6</td>\n",
       "      <td>EH029-Normal-SM-GBJAT</td>\n",
       "      <td>EH029</td>\n",
       "      <td>tumor_normal</td>\n",
       "      <td>TSCA21</td>\n",
       "      <td>TSCA21</td>\n",
       "    </tr>\n",
       "    <tr>\n",
       "      <th>1761</th>\n",
       "      <td>EH029-Tumor-SM-GBJB6_NA_TP</td>\n",
       "      <td>EH029-Tumor-SM-GBJB6</td>\n",
       "      <td>NA</td>\n",
       "      <td>EH029</td>\n",
       "      <td>tumor_primary</td>\n",
       "      <td>TSCA21</td>\n",
       "      <td>NA</td>\n",
       "    </tr>\n",
       "    <tr>\n",
       "      <th>1762</th>\n",
       "      <td>EH030-Tumor-SM-GBJ95_EH030-Normal-SM-GBJBI_TN</td>\n",
       "      <td>EH030-Tumor-SM-GBJ95</td>\n",
       "      <td>EH030-Normal-SM-GBJBI</td>\n",
       "      <td>EH030</td>\n",
       "      <td>tumor_normal</td>\n",
       "      <td>TSCA21</td>\n",
       "      <td>TSCA21</td>\n",
       "    </tr>\n",
       "    <tr>\n",
       "      <th>1763</th>\n",
       "      <td>EH030-Tumor-SM-GBJ95_NA_TP</td>\n",
       "      <td>EH030-Tumor-SM-GBJ95</td>\n",
       "      <td>NA</td>\n",
       "      <td>EH030</td>\n",
       "      <td>tumor_primary</td>\n",
       "      <td>TSCA21</td>\n",
       "      <td>NA</td>\n",
       "    </tr>\n",
       "    <tr>\n",
       "      <th>1764</th>\n",
       "      <td>PEDS063-Tumor-SM-GBJAK_PEDS063-Normal-SM-F67EX_TN</td>\n",
       "      <td>PEDS063-Tumor-SM-GBJAK</td>\n",
       "      <td>PEDS063-Normal-SM-F67EX</td>\n",
       "      <td>PEDS063</td>\n",
       "      <td>tumor_normal</td>\n",
       "      <td>TSCA21</td>\n",
       "      <td>TSCA20</td>\n",
       "    </tr>\n",
       "    <tr>\n",
       "      <th>1765</th>\n",
       "      <td>PEDS063-Tumor-SM-GBJAK_NA_TP</td>\n",
       "      <td>PEDS063-Tumor-SM-GBJAK</td>\n",
       "      <td>NA</td>\n",
       "      <td>PEDS063</td>\n",
       "      <td>tumor_primary</td>\n",
       "      <td>TSCA21</td>\n",
       "      <td>NA</td>\n",
       "    </tr>\n",
       "    <tr>\n",
       "      <th>1766</th>\n",
       "      <td>PEDS063-Tumor-SM-GBJ9W_PEDS063-Normal-SM-F67EX_TN</td>\n",
       "      <td>PEDS063-Tumor-SM-GBJ9W</td>\n",
       "      <td>PEDS063-Normal-SM-F67EX</td>\n",
       "      <td>PEDS063</td>\n",
       "      <td>tumor_normal</td>\n",
       "      <td>TSCA21</td>\n",
       "      <td>TSCA20</td>\n",
       "    </tr>\n",
       "    <tr>\n",
       "      <th>1767</th>\n",
       "      <td>PEDS063-Tumor-SM-GBJ9W_NA_TP</td>\n",
       "      <td>PEDS063-Tumor-SM-GBJ9W</td>\n",
       "      <td>NA</td>\n",
       "      <td>PEDS063</td>\n",
       "      <td>tumor_primary</td>\n",
       "      <td>TSCA21</td>\n",
       "      <td>NA</td>\n",
       "    </tr>\n",
       "    <tr>\n",
       "      <th>1768</th>\n",
       "      <td>PEDS142-Tumor-SM-GBJAW_NA_TN</td>\n",
       "      <td>PEDS142-Tumor-SM-GBJAW</td>\n",
       "      <td>NA</td>\n",
       "      <td>PEDS142</td>\n",
       "      <td>tumor_normal</td>\n",
       "      <td>TSCA21</td>\n",
       "      <td>NA</td>\n",
       "    </tr>\n",
       "    <tr>\n",
       "      <th>1769</th>\n",
       "      <td>PEDS142-Tumor-SM-GBJAW_NA_TP</td>\n",
       "      <td>PEDS142-Tumor-SM-GBJAW</td>\n",
       "      <td>NA</td>\n",
       "      <td>PEDS142</td>\n",
       "      <td>tumor_primary</td>\n",
       "      <td>TSCA21</td>\n",
       "      <td>NA</td>\n",
       "    </tr>\n",
       "    <tr>\n",
       "      <th>1770</th>\n",
       "      <td>TC011-Tumor-SM-GBJA2_NA_TN</td>\n",
       "      <td>TC011-Tumor-SM-GBJA2</td>\n",
       "      <td>NA</td>\n",
       "      <td>TC011</td>\n",
       "      <td>tumor_normal</td>\n",
       "      <td>TSCA21</td>\n",
       "      <td>NA</td>\n",
       "    </tr>\n",
       "    <tr>\n",
       "      <th>1771</th>\n",
       "      <td>TC011-Tumor-SM-GBJA2_NA_TP</td>\n",
       "      <td>TC011-Tumor-SM-GBJA2</td>\n",
       "      <td>NA</td>\n",
       "      <td>TC011</td>\n",
       "      <td>tumor_primary</td>\n",
       "      <td>TSCA21</td>\n",
       "      <td>NA</td>\n",
       "    </tr>\n",
       "    <tr>\n",
       "      <th>1772</th>\n",
       "      <td>TC012-Tumor-SM-GBJ9Y_NA_TN</td>\n",
       "      <td>TC012-Tumor-SM-GBJ9Y</td>\n",
       "      <td>NA</td>\n",
       "      <td>TC012</td>\n",
       "      <td>tumor_normal</td>\n",
       "      <td>TSCA21</td>\n",
       "      <td>NA</td>\n",
       "    </tr>\n",
       "    <tr>\n",
       "      <th>1773</th>\n",
       "      <td>TC012-Tumor-SM-GBJ9Y_NA_TP</td>\n",
       "      <td>TC012-Tumor-SM-GBJ9Y</td>\n",
       "      <td>NA</td>\n",
       "      <td>TC012</td>\n",
       "      <td>tumor_primary</td>\n",
       "      <td>TSCA21</td>\n",
       "      <td>NA</td>\n",
       "    </tr>\n",
       "  </tbody>\n",
       "</table>\n",
       "<p>1772 rows × 7 columns</p>\n",
       "</div>"
      ],
      "text/plain": [
       "                                         entity:pair_id  \\\n",
       "0                             AA34-Tumor-SM-D4L25_NA_TN   \n",
       "1                             AA34-Tumor-SM-D4L25_NA_TP   \n",
       "2                             AA36-Tumor-SM-D4L2H_NA_TN   \n",
       "3                             AA36-Tumor-SM-D4L2H_NA_TP   \n",
       "4                             AA39-Tumor-SM-D4L3Q_NA_TN   \n",
       "5                             AA39-Tumor-SM-D4L3Q_NA_TP   \n",
       "6                             AA40-Tumor-SM-D4L42_NA_TN   \n",
       "7                             AA40-Tumor-SM-D4L42_NA_TP   \n",
       "8                            AB044-Tumor-SM-D4L2M_NA_TN   \n",
       "9                            AB044-Tumor-SM-D4L2M_NA_TP   \n",
       "10                         ANGMCSS-Tumor-SM-D4L2G_NA_TN   \n",
       "11                         ANGMCSS-Tumor-SM-D4L2G_NA_TP   \n",
       "12                          BT1008-Tumor-SM-D4L45_NA_TN   \n",
       "13                          BT1008-Tumor-SM-D4L45_NA_TP   \n",
       "14                           BT922-Tumor-SM-D4L1W_NA_TN   \n",
       "15                           BT922-Tumor-SM-D4L1W_NA_TP   \n",
       "16                           BT923-Tumor-SM-D4L3W_NA_TN   \n",
       "17                           BT923-Tumor-SM-D4L3W_NA_TP   \n",
       "18                           BT950-Tumor-SM-D4L48_NA_TN   \n",
       "19                           BT950-Tumor-SM-D4L48_NA_TP   \n",
       "20                           BT961-Tumor-SM-D4L3C_NA_TN   \n",
       "21                           BT961-Tumor-SM-D4L3C_NA_TP   \n",
       "22                           BT972-Tumor-SM-D4L3Y_NA_TN   \n",
       "23                           BT972-Tumor-SM-D4L3Y_NA_TP   \n",
       "24                         CHLA200-Tumor-SM-CNN37_NA_TN   \n",
       "25                         CHLA200-Tumor-SM-CNN37_NA_TP   \n",
       "26                           CO001-Tumor-SM-D4L3V_NA_TN   \n",
       "27                           CO001-Tumor-SM-D4L3V_NA_TP   \n",
       "28                           CO002-Tumor-SM-D4L47_NA_TN   \n",
       "29                           CO002-Tumor-SM-D4L47_NA_TP   \n",
       "...                                                 ...   \n",
       "1744                         CY018-Tumor-SM-GBJAV_NA_TN   \n",
       "1745                         CY018-Tumor-SM-GBJAV_NA_TP   \n",
       "1746                         CY019-Tumor-SM-GBJA6_NA_TN   \n",
       "1747                         CY019-Tumor-SM-GBJA6_NA_TP   \n",
       "1748                         CY020-Tumor-SM-GBJ9R_NA_TN   \n",
       "1749                         CY020-Tumor-SM-GBJ9R_NA_TP   \n",
       "1750                      SUDIPGIV-Tumor-SM-GBJB2_NA_TN   \n",
       "1751                      SUDIPGIV-Tumor-SM-GBJB2_NA_TP   \n",
       "1752                    SUDIPGXIII-Tumor-SM-GBJA1_NA_TN   \n",
       "1753                    SUDIPGXIII-Tumor-SM-GBJA1_NA_TP   \n",
       "1754                    SUDIPGXVII-Tumor-SM-GBJAD_NA_TN   \n",
       "1755                    SUDIPGXVII-Tumor-SM-GBJAD_NA_TP   \n",
       "1756                     SUDIPGXXV-Tumor-SM-GBJAP_NA_TN   \n",
       "1757                     SUDIPGXXV-Tumor-SM-GBJAP_NA_TP   \n",
       "1758                         EH028-Tumor-SM-GBJAE_NA_TN   \n",
       "1759                         EH028-Tumor-SM-GBJAE_NA_TP   \n",
       "1760      EH029-Tumor-SM-GBJB6_EH029-Normal-SM-GBJAT_TN   \n",
       "1761                         EH029-Tumor-SM-GBJB6_NA_TP   \n",
       "1762      EH030-Tumor-SM-GBJ95_EH030-Normal-SM-GBJBI_TN   \n",
       "1763                         EH030-Tumor-SM-GBJ95_NA_TP   \n",
       "1764  PEDS063-Tumor-SM-GBJAK_PEDS063-Normal-SM-F67EX_TN   \n",
       "1765                       PEDS063-Tumor-SM-GBJAK_NA_TP   \n",
       "1766  PEDS063-Tumor-SM-GBJ9W_PEDS063-Normal-SM-F67EX_TN   \n",
       "1767                       PEDS063-Tumor-SM-GBJ9W_NA_TP   \n",
       "1768                       PEDS142-Tumor-SM-GBJAW_NA_TN   \n",
       "1769                       PEDS142-Tumor-SM-GBJAW_NA_TP   \n",
       "1770                         TC011-Tumor-SM-GBJA2_NA_TN   \n",
       "1771                         TC011-Tumor-SM-GBJA2_NA_TP   \n",
       "1772                         TC012-Tumor-SM-GBJ9Y_NA_TN   \n",
       "1773                         TC012-Tumor-SM-GBJ9Y_NA_TP   \n",
       "\n",
       "                 case_sample_id        control_sample_id participant_id  \\\n",
       "0           AA34-Tumor-SM-D4L25                       NA           AA34   \n",
       "1           AA34-Tumor-SM-D4L25                       NA           AA34   \n",
       "2           AA36-Tumor-SM-D4L2H                       NA           AA36   \n",
       "3           AA36-Tumor-SM-D4L2H                       NA           AA36   \n",
       "4           AA39-Tumor-SM-D4L3Q                       NA           AA39   \n",
       "5           AA39-Tumor-SM-D4L3Q                       NA           AA39   \n",
       "6           AA40-Tumor-SM-D4L42                       NA           AA40   \n",
       "7           AA40-Tumor-SM-D4L42                       NA           AA40   \n",
       "8          AB044-Tumor-SM-D4L2M                       NA          AB044   \n",
       "9          AB044-Tumor-SM-D4L2M                       NA          AB044   \n",
       "10       ANGMCSS-Tumor-SM-D4L2G                       NA        ANGMCSS   \n",
       "11       ANGMCSS-Tumor-SM-D4L2G                       NA        ANGMCSS   \n",
       "12        BT1008-Tumor-SM-D4L45                       NA         BT1008   \n",
       "13        BT1008-Tumor-SM-D4L45                       NA         BT1008   \n",
       "14         BT922-Tumor-SM-D4L1W                       NA          BT922   \n",
       "15         BT922-Tumor-SM-D4L1W                       NA          BT922   \n",
       "16         BT923-Tumor-SM-D4L3W                       NA          BT923   \n",
       "17         BT923-Tumor-SM-D4L3W                       NA          BT923   \n",
       "18         BT950-Tumor-SM-D4L48                       NA          BT950   \n",
       "19         BT950-Tumor-SM-D4L48                       NA          BT950   \n",
       "20         BT961-Tumor-SM-D4L3C                       NA          BT961   \n",
       "21         BT961-Tumor-SM-D4L3C                       NA          BT961   \n",
       "22         BT972-Tumor-SM-D4L3Y                       NA          BT972   \n",
       "23         BT972-Tumor-SM-D4L3Y                       NA          BT972   \n",
       "24       CHLA200-Tumor-SM-CNN37                       NA        CHLA200   \n",
       "25       CHLA200-Tumor-SM-CNN37                       NA        CHLA200   \n",
       "26         CO001-Tumor-SM-D4L3V                       NA          CO001   \n",
       "27         CO001-Tumor-SM-D4L3V                       NA          CO001   \n",
       "28         CO002-Tumor-SM-D4L47                       NA          CO002   \n",
       "29         CO002-Tumor-SM-D4L47                       NA          CO002   \n",
       "...                         ...                      ...            ...   \n",
       "1744       CY018-Tumor-SM-GBJAV                       NA          CY018   \n",
       "1745       CY018-Tumor-SM-GBJAV                       NA          CY018   \n",
       "1746       CY019-Tumor-SM-GBJA6                       NA          CY019   \n",
       "1747       CY019-Tumor-SM-GBJA6                       NA          CY019   \n",
       "1748       CY020-Tumor-SM-GBJ9R                       NA          CY020   \n",
       "1749       CY020-Tumor-SM-GBJ9R                       NA          CY020   \n",
       "1750    SUDIPGIV-Tumor-SM-GBJB2                       NA       SUDIPGIV   \n",
       "1751    SUDIPGIV-Tumor-SM-GBJB2                       NA       SUDIPGIV   \n",
       "1752  SUDIPGXIII-Tumor-SM-GBJA1                       NA     SUDIPGXIII   \n",
       "1753  SUDIPGXIII-Tumor-SM-GBJA1                       NA     SUDIPGXIII   \n",
       "1754  SUDIPGXVII-Tumor-SM-GBJAD                       NA     SUDIPGXVII   \n",
       "1755  SUDIPGXVII-Tumor-SM-GBJAD                       NA     SUDIPGXVII   \n",
       "1756   SUDIPGXXV-Tumor-SM-GBJAP                       NA      SUDIPGXXV   \n",
       "1757   SUDIPGXXV-Tumor-SM-GBJAP                       NA      SUDIPGXXV   \n",
       "1758       EH028-Tumor-SM-GBJAE                       NA          EH028   \n",
       "1759       EH028-Tumor-SM-GBJAE                       NA          EH028   \n",
       "1760       EH029-Tumor-SM-GBJB6    EH029-Normal-SM-GBJAT          EH029   \n",
       "1761       EH029-Tumor-SM-GBJB6                       NA          EH029   \n",
       "1762       EH030-Tumor-SM-GBJ95    EH030-Normal-SM-GBJBI          EH030   \n",
       "1763       EH030-Tumor-SM-GBJ95                       NA          EH030   \n",
       "1764     PEDS063-Tumor-SM-GBJAK  PEDS063-Normal-SM-F67EX        PEDS063   \n",
       "1765     PEDS063-Tumor-SM-GBJAK                       NA        PEDS063   \n",
       "1766     PEDS063-Tumor-SM-GBJ9W  PEDS063-Normal-SM-F67EX        PEDS063   \n",
       "1767     PEDS063-Tumor-SM-GBJ9W                       NA        PEDS063   \n",
       "1768     PEDS142-Tumor-SM-GBJAW                       NA        PEDS142   \n",
       "1769     PEDS142-Tumor-SM-GBJAW                       NA        PEDS142   \n",
       "1770       TC011-Tumor-SM-GBJA2                       NA          TC011   \n",
       "1771       TC011-Tumor-SM-GBJA2                       NA          TC011   \n",
       "1772       TC012-Tumor-SM-GBJ9Y                       NA          TC012   \n",
       "1773       TC012-Tumor-SM-GBJ9Y                       NA          TC012   \n",
       "\n",
       "         match_type case_sample_tsca_id control_sample_tsca_id  \n",
       "0      tumor_normal            TSCA1213                     NA  \n",
       "1     tumor_primary            TSCA1213                     NA  \n",
       "2      tumor_normal            TSCA1213                     NA  \n",
       "3     tumor_primary            TSCA1213                     NA  \n",
       "4      tumor_normal            TSCA1213                     NA  \n",
       "5     tumor_primary            TSCA1213                     NA  \n",
       "6      tumor_normal            TSCA1213                     NA  \n",
       "7     tumor_primary            TSCA1213                     NA  \n",
       "8      tumor_normal            TSCA1213                     NA  \n",
       "9     tumor_primary            TSCA1213                     NA  \n",
       "10     tumor_normal            TSCA1213                     NA  \n",
       "11    tumor_primary            TSCA1213                     NA  \n",
       "12     tumor_normal            TSCA1213                     NA  \n",
       "13    tumor_primary            TSCA1213                     NA  \n",
       "14     tumor_normal            TSCA1213                     NA  \n",
       "15    tumor_primary            TSCA1213                     NA  \n",
       "16     tumor_normal            TSCA1213                     NA  \n",
       "17    tumor_primary            TSCA1213                     NA  \n",
       "18     tumor_normal            TSCA1213                     NA  \n",
       "19    tumor_primary            TSCA1213                     NA  \n",
       "20     tumor_normal            TSCA1213                     NA  \n",
       "21    tumor_primary            TSCA1213                     NA  \n",
       "22     tumor_normal            TSCA1213                     NA  \n",
       "23    tumor_primary            TSCA1213                     NA  \n",
       "24     tumor_normal            TSCA1213                     NA  \n",
       "25    tumor_primary            TSCA1213                     NA  \n",
       "26     tumor_normal            TSCA1213                     NA  \n",
       "27    tumor_primary            TSCA1213                     NA  \n",
       "28     tumor_normal            TSCA1213                     NA  \n",
       "29    tumor_primary            TSCA1213                     NA  \n",
       "...             ...                 ...                    ...  \n",
       "1744   tumor_normal              TSCA21                     NA  \n",
       "1745  tumor_primary              TSCA21                     NA  \n",
       "1746   tumor_normal              TSCA21                     NA  \n",
       "1747  tumor_primary              TSCA21                     NA  \n",
       "1748   tumor_normal              TSCA21                     NA  \n",
       "1749  tumor_primary              TSCA21                     NA  \n",
       "1750   tumor_normal              TSCA21                     NA  \n",
       "1751  tumor_primary              TSCA21                     NA  \n",
       "1752   tumor_normal              TSCA21                     NA  \n",
       "1753  tumor_primary              TSCA21                     NA  \n",
       "1754   tumor_normal              TSCA21                     NA  \n",
       "1755  tumor_primary              TSCA21                     NA  \n",
       "1756   tumor_normal              TSCA21                     NA  \n",
       "1757  tumor_primary              TSCA21                     NA  \n",
       "1758   tumor_normal              TSCA21                     NA  \n",
       "1759  tumor_primary              TSCA21                     NA  \n",
       "1760   tumor_normal              TSCA21                 TSCA21  \n",
       "1761  tumor_primary              TSCA21                     NA  \n",
       "1762   tumor_normal              TSCA21                 TSCA21  \n",
       "1763  tumor_primary              TSCA21                     NA  \n",
       "1764   tumor_normal              TSCA21                 TSCA20  \n",
       "1765  tumor_primary              TSCA21                     NA  \n",
       "1766   tumor_normal              TSCA21                 TSCA20  \n",
       "1767  tumor_primary              TSCA21                     NA  \n",
       "1768   tumor_normal              TSCA21                     NA  \n",
       "1769  tumor_primary              TSCA21                     NA  \n",
       "1770   tumor_normal              TSCA21                     NA  \n",
       "1771  tumor_primary              TSCA21                     NA  \n",
       "1772   tumor_normal              TSCA21                     NA  \n",
       "1773  tumor_primary              TSCA21                     NA  \n",
       "\n",
       "[1772 rows x 7 columns]"
      ]
     },
     "execution_count": 8,
     "metadata": {},
     "output_type": "execute_result"
    }
   ],
   "source": [
    "clean_pairs_list"
   ]
  },
  {
   "cell_type": "code",
   "execution_count": null,
   "metadata": {
    "collapsed": true
   },
   "outputs": [],
   "source": [
    "attr_update = [{\"op\": \"AddUpdateAttribute\", \"attributeName\":  attr, \"addUpdateAttribute\": } for attr in attrs]"
   ]
  },
  {
   "cell_type": "code",
   "execution_count": null,
   "metadata": {
    "collapsed": true
   },
   "outputs": [],
   "source": []
  },
  {
   "cell_type": "code",
   "execution_count": null,
   "metadata": {
    "collapsed": true
   },
   "outputs": [],
   "source": [
    "firecloud_api.update_entity(namespace, workspace, \"pair\", row['entity:pair_id'], attr_update)"
   ]
  },
  {
   "cell_type": "code",
   "execution_count": 4,
   "metadata": {
    "collapsed": true
   },
   "outputs": [],
   "source": [
    "# all_samples = fc_interface.get_samples_multiple_batches(paths_to_samples_info, google_bucket_id)\n",
    "\n",
    "# all_paths_df = pd.read_excel('paths_to_batches_info.xlsx')\n",
    "\n",
    "# # for idx, row in all_paths_df.iterrows():\n",
    "# #     fc_interface.prepare_batch_sample_set_for_metadata_export(row.path_to_samples_info, row.tsca_id);\n",
    "# #     tsca_id = row.tsca_id\n",
    "# #     tumors_sample_set_metadata  = \"%s/fc_upload_sample_set_tsca_%s_tumors.txt\" % (tsca_id, tsca_id)\n",
    "# #     normals_sample_set_metadata = \"%s/fc_upload_sample_set_tsca_%s_normals.txt\" % (tsca_id, tsca_id)\n",
    "# #     res = fc_interface.upload_entities_from_tsv(namespace, workspace, tumors_sample_set_metadata)\n",
    "# #     res = fc_interface.upload_entities_from_tsv(namespace, workspace, normals_sample_set_metadata)"
   ]
  }
 ],
 "metadata": {
  "kernelspec": {
   "display_name": "Python 3",
   "language": "python",
   "name": "python3"
  },
  "language_info": {
   "codemirror_mode": {
    "name": "ipython",
    "version": 3
   },
   "file_extension": ".py",
   "mimetype": "text/x-python",
   "name": "python",
   "nbconvert_exporter": "python",
   "pygments_lexer": "ipython3",
   "version": "3.6.1"
  }
 },
 "nbformat": 4,
 "nbformat_minor": 2
}
