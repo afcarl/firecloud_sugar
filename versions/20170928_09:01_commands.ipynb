{
 "cells": [
  {
   "cell_type": "markdown",
   "metadata": {},
   "source": [
    "### Commands"
   ]
  },
  {
   "cell_type": "code",
   "execution_count": 16,
   "metadata": {
    "collapsed": true
   },
   "outputs": [],
   "source": [
    "from firecloud import api as firecloud_api\n",
    "import fc_interface"
   ]
  },
  {
   "cell_type": "code",
   "execution_count": 17,
   "metadata": {},
   "outputs": [],
   "source": [
    "%load_ext autoreload\n",
    "%autoreload 2"
   ]
  },
  {
   "cell_type": "code",
   "execution_count": 69,
   "metadata": {
    "collapsed": true
   },
   "outputs": [],
   "source": [
    "### Parameters\n",
    "namespace = \"nci-mimoun-bi-org\"\n",
    "workspace = \"CCLF_TSCA\"\n",
    "paths_to_samples_info = \"paths_to_batches_info.xlsx\"\n",
    "google_bucket_id = \"fc-35446f22-ea37-483a-bd6c-5e9fc56851ff\"\n",
    "batches_info = pd.read_excel(paths_to_samples_info)"
   ]
  },
  {
   "cell_type": "markdown",
   "metadata": {},
   "source": [
    "#### Deletions"
   ]
  },
  {
   "cell_type": "code",
   "execution_count": null,
   "metadata": {
    "collapsed": true,
    "editable": false,
    "run_control": {
     "frozen": true
    }
   },
   "outputs": [],
   "source": [
    "### Delete unnecessary attributes in samples\n",
    "attrs = [\"annotate_variants_vcf\", \"annotate_variants_vcf_index\", \"oncotated_maf\", \"mutect2_vcf_index\", \"match_normal_oncotated_maf\", \"gnomad_vcf\", \"merged_vcfs\", \"match_primary_tumor_bam_file\"]\n",
    "for idx, row in all_samples.iterrows():\n",
    "    fc_interface.delete_entity_attributes(namespace, workspace, \"sample\", row['entity:sample_id'], attrs)"
   ]
  },
  {
   "cell_type": "code",
   "execution_count": null,
   "metadata": {
    "collapsed": true,
    "editable": false,
    "run_control": {
     "frozen": true
    }
   },
   "outputs": [],
   "source": [
    "### Delete method repostory\n",
    "firecloud_api.delete_repository_method('tsca', 'CreatePoN', 15)"
   ]
  },
  {
   "cell_type": "code",
   "execution_count": null,
   "metadata": {
    "collapsed": true,
    "editable": false,
    "run_control": {
     "frozen": true
    }
   },
   "outputs": [],
   "source": [
    "### Delete method repository\n",
    "firecloud_api.delete_repository_method('tsca', 'Mutect2_for_Normal', 1)"
   ]
  },
  {
   "cell_type": "code",
   "execution_count": null,
   "metadata": {
    "collapsed": true,
    "editable": false,
    "run_control": {
     "frozen": true
    }
   },
   "outputs": [],
   "source": [
    "### Delete multiple method repositories\n",
    "for i in range(10, 23):\n",
    "    firecloud_api.delete_repository_method('tsca', 'CreatePoN', i)"
   ]
  },
  {
   "cell_type": "code",
   "execution_count": null,
   "metadata": {
    "collapsed": true,
    "editable": false,
    "run_control": {
     "frozen": true
    }
   },
   "outputs": [],
   "source": [
    "### Delete method config\n",
    "firecloud_api.delete_workspace_config(namespace, workspace, \"tsca\", \"Mutect2_for_Normal\")"
   ]
  },
  {
   "cell_type": "markdown",
   "metadata": {},
   "source": [
    "#### Pair creation"
   ]
  },
  {
   "cell_type": "code",
   "execution_count": null,
   "metadata": {
    "collapsed": true,
    "editable": false,
    "run_control": {
     "frozen": true
    }
   },
   "outputs": [],
   "source": [
    "### Create pairs\n",
    "all_samples = fc_interface.get_samples_multiple_batches(paths_to_samples_info, google_bucket_id)\n",
    "pairs_list = fc_interface.create_pairs_list(all_samples)\n",
    "blacklist = [\"DW039-Tumor-SM-DB2IF\"]\n",
    "clean_pairs_list = pairs_list[ ~pairs_list['case_sample_id'].isin(blacklist)]"
   ]
  },
  {
   "cell_type": "code",
   "execution_count": null,
   "metadata": {
    "collapsed": true,
    "editable": false,
    "run_control": {
     "frozen": true
    }
   },
   "outputs": [],
   "source": [
    "### Upload pairs\n",
    "res = fc_interface.upload_pairs(namespace, workspace, clean_pairs_list)"
   ]
  },
  {
   "cell_type": "code",
   "execution_count": null,
   "metadata": {
    "collapsed": true,
    "editable": false,
    "run_control": {
     "frozen": true
    }
   },
   "outputs": [],
   "source": [
    "# ### Delete unnecessary attributes in pairs\n",
    "# ### NOT WOKING\n",
    "# all_samples = fc_interface.get_samples_multiple_batches(paths_to_samples_info, google_bucket_id)\n",
    "# pairs_list = fc_interface.create_pairs_list(all_samples)\n",
    "# attrs = [\"__annotate_variants_vcf\", \"__annotate_variants_vcf_index\", \\\n",
    "#          \"__scattered_intervals\", \"__tmp_mutect_vcf2\", \"_tmp_mutect_vcf_index2\", \\\n",
    "#          \"__tmp_mutect_vcf2\", \"_tmp_mutect_vcf_index2\"]\n",
    "# for idx, row in pairs_list.iterrows():\n",
    "#     fc_interface.delete_entity_attributes(namespace, workspace, \"pair\", row['entity:pair_id'], attrs)"
   ]
  },
  {
   "cell_type": "code",
   "execution_count": null,
   "metadata": {
    "collapsed": true,
    "editable": false,
    "run_control": {
     "frozen": true
    }
   },
   "outputs": [],
   "source": [
    "### Upload metadata for given batch\n",
    "fc_interface.update_batch_metadata('TSCA21', \\\n",
    "                                  '/xchip/clf/seq_data/processed_for_fh/tsca21_201708_SN0128552/tsca21_201708_SN0128552.import_samples.txt', \\\n",
    "                                      paths_to_samples_info, \\\n",
    "                                        namespace, workspace, google_bucket_id)"
   ]
  },
  {
   "cell_type": "code",
   "execution_count": null,
   "metadata": {
    "collapsed": true,
    "editable": false,
    "run_control": {
     "frozen": true
    }
   },
   "outputs": [],
   "source": [
    "### Delete sample_set\n",
    "fc_interface.delete_sample_set(namespace, workspace, 'TSCA1213')"
   ]
  },
  {
   "cell_type": "code",
   "execution_count": null,
   "metadata": {
    "collapsed": true,
    "editable": false,
    "run_control": {
     "frozen": true
    }
   },
   "outputs": [],
   "source": [
    "### All paths to batch info\n",
    "# pd.read_excel('paths_to_batches_info.xlsx').path_to_samples_info.tolist()"
   ]
  },
  {
   "cell_type": "code",
   "execution_count": null,
   "metadata": {
    "collapsed": true,
    "editable": false,
    "run_control": {
     "frozen": true
    }
   },
   "outputs": [],
   "source": [
    "### Create cumulative PoN (all batches)\n",
    "batches_info = pd.read_excel(paths_to_samples_info)\n",
    "PoN = fc_interface.create_panel_of_normals(batches_info.path_to_samples_info.tolist(), -1, 'Cum_PoN_21_all')\n",
    "fc_interface.upload_pon(PoN, 'CumPoN21', namespace, workspace)"
   ]
  },
  {
   "cell_type": "code",
   "execution_count": null,
   "metadata": {
    "collapsed": true,
    "editable": false,
    "run_control": {
     "frozen": true
    }
   },
   "outputs": [],
   "source": [
    "### Create PoN from normals of only one batch (no samples from other batches)\n",
    "batches_info = pd.read_excel(paths_to_samples_info)\n",
    "tsca21_path = batches_info.path_to_samples_info.tolist()[-1]\n",
    "PoN = fc_interface.create_panel_of_normals([tsca21_path], -1, 'PoN_TSCA21_Normals')\n",
    "fc_interface.upload_pon(PoN, 'PoN_TSCA21_Normals', namespace, workspace)"
   ]
  },
  {
   "cell_type": "code",
   "execution_count": null,
   "metadata": {
    "collapsed": true,
    "editable": false,
    "run_control": {
     "frozen": true
    }
   },
   "outputs": [],
   "source": [
    "### Delete pair set\n",
    "fc_interface.delete_pair_set(namespace, workspace, 'TSCA1213')"
   ]
  },
  {
   "cell_type": "code",
   "execution_count": null,
   "metadata": {
    "collapsed": true,
    "editable": false,
    "run_control": {
     "frozen": true
    }
   },
   "outputs": [],
   "source": [
    "### Delete sample set\n",
    "fc_interface.delete_sample_set(namespace, workspace, 'TSCA1213')"
   ]
  },
  {
   "cell_type": "code",
   "execution_count": null,
   "metadata": {
    "collapsed": true,
    "editable": false,
    "run_control": {
     "frozen": true
    }
   },
   "outputs": [],
   "source": [
    "### Download method configs\n",
    "fc_interface.download_method_configs(namespace, workspace)"
   ]
  },
  {
   "cell_type": "code",
   "execution_count": null,
   "metadata": {
    "collapsed": true,
    "editable": false,
    "run_control": {
     "frozen": true
    }
   },
   "outputs": [],
   "source": [
    "### Upload pairsets\n",
    "tn_pairsets, tp_pairsets = fc_interface.create_pairsets(all_samples, clean_pairs_list)\n",
    "fc_interface.upload_pairsets(namespace, workspace, tn_pairsets, \"TN\")\n",
    "fc_interface.upload_pairsets(namespace, workspace, tp_pairsets, \"TP\")"
   ]
  },
  {
   "cell_type": "code",
   "execution_count": null,
   "metadata": {
    "collapsed": true,
    "editable": false,
    "run_control": {
     "frozen": true
    }
   },
   "outputs": [],
   "source": [
    "### Delete all pairs\n",
    "for idx, row in clean_pairs_list.iterrows():\n",
    "    res = fc_interface.delete_pair(namespace, workspace, row['entity:pair_id'])\n",
    "    print(res)"
   ]
  },
  {
   "cell_type": "code",
   "execution_count": null,
   "metadata": {
    "collapsed": true,
    "editable": false,
    "run_control": {
     "frozen": true
    }
   },
   "outputs": [],
   "source": [
    "all_samples = fc_interface.get_samples_multiple_batches(paths_to_samples_info, google_bucket_id)\n",
    "pairs_list = fc_interface.create_pairs_list(all_samples)\n",
    "blacklist = [\"DW039-Tumor-SM-DB2IF\"]\n",
    "clean_pairs_list = pairs_list[ ~pairs_list['case_sample_id'].isin(blacklist)]\n",
    "\n",
    "### Update pair attributes\n",
    "update_pair_attrs(namespace, workspace, clean_pairs_list, attrs=['control_sample_tsca_id'])"
   ]
  },
  {
   "cell_type": "code",
   "execution_count": null,
   "metadata": {
    "collapsed": true,
    "editable": false,
    "run_control": {
     "frozen": true
    }
   },
   "outputs": [],
   "source": [
    "### Create PoN from all normals\n",
    "batches_info = pd.read_excel(paths_to_samples_info)\n",
    "all_paths = batches_info.path_to_samples_info.tolist()\n",
    "PoN = fc_interface.create_panel_of_normals(all_paths, -1, 'Cum_PoN_21_all')\n",
    "fc_interface.upload_pon(PoN, 'Cum_PoN_21_all', namespace, workspace)"
   ]
  },
  {
   "cell_type": "code",
   "execution_count": 6,
   "metadata": {
    "collapsed": true
   },
   "outputs": [],
   "source": [
    "### Create PoN with normals from batch + other normals\n",
    "batches_info = pd.read_excel(paths_to_samples_info)\n",
    "all_paths = batches_info.path_to_samples_info.tolist()\n",
    "# PoN = fc_interface.create_panel_of_normals(all_paths, -1, 'Cum_PoN_21_all')\n",
    "# fc_interface.upload_pon(PoN, 'Cum_PoN_21_all', namespace, workspace)"
   ]
  },
  {
   "cell_type": "code",
   "execution_count": 4,
   "metadata": {
    "collapsed": true
   },
   "outputs": [],
   "source": [
    "# batch_id = 'TSCA21'\n",
    "# batch_path = batches_info.loc[batches_info.tsca_id==batch_id, 'path_to_samples_info'].item()\n",
    "# pd.read_table(batch_path)\n",
    "# batch_id, paths, N, name"
   ]
  },
  {
   "cell_type": "code",
   "execution_count": 21,
   "metadata": {
    "editable": false,
    "run_control": {
     "frozen": true
    }
   },
   "outputs": [],
   "source": [
    "# Retrieve samples before export to FC\n",
    "tsca21 = \\\n",
    "    fc_interface.\\\n",
    "        prepare_batch_samples_for_metadata_export('/xchip/clf/seq_data/processed_for_fh/tsca21_201708_SN0128552/tsca21_201708_SN0128552.import_samples.txt', \\\n",
    "                            'TSCA21', google_bucket_id)"
   ]
  },
  {
   "cell_type": "code",
   "execution_count": null,
   "metadata": {
    "collapsed": true,
    "editable": false,
    "run_control": {
     "frozen": true
    }
   },
   "outputs": [],
   "source": [
    "### Update WDLs\n",
    "fc_interface.download_remote_wdls(namespace, workspace)"
   ]
  },
  {
   "cell_type": "markdown",
   "metadata": {},
   "source": [
    "---"
   ]
  },
  {
   "cell_type": "markdown",
   "metadata": {},
   "source": [
    "---"
   ]
  },
  {
   "cell_type": "code",
   "execution_count": 93,
   "metadata": {},
   "outputs": [
    {
     "name": "stdout",
     "output_type": "stream",
     "text": [
      "65 Participants in this batch\n",
      "95 Samples in this batch\n"
     ]
    }
   ],
   "source": [
    "### Upload metadata for given batch\n",
    "fc_interface.update_batch_metadata('TSCA21', \\\n",
    "                                  '/xchip/clf/seq_data/processed_for_fh/tsca21_201708_SN0128552/tsca21_201708_SN0128552.import_samples.txt', \\\n",
    "                                      paths_to_samples_info, \\\n",
    "                                        namespace, workspace, google_bucket_id)"
   ]
  },
  {
   "cell_type": "code",
   "execution_count": 95,
   "metadata": {},
   "outputs": [],
   "source": [
    "(r1, r2, r3, r4, r5, r6) = fc_interface.export_batch_metadata_to_fc('TSCA21', namespace, workspace)"
   ]
  },
  {
   "cell_type": "code",
   "execution_count": 169,
   "metadata": {},
   "outputs": [
    {
     "name": "stdout",
     "output_type": "stream",
     "text": [
      "(1045, 18)\n",
      "(1045, 19)\n"
     ]
    }
   ],
   "source": [
    "samples_with_cohort = pd.read_excel('walkupseq_files/bsp_data.xls')\n",
    "paths_to_batches_info = \"paths_to_batches_info.xlsx\"\n",
    "# All samples, without cohort data\n",
    "all_samples = fc_interface.get_samples_multiple_batches(paths_to_batches_info, google_bucket_id)\n",
    "\n",
    "print(all_samples.shape)\n",
    "# Add cohort data to all samples\n",
    "data = pd.merge(all_samples, samples_with_cohort[['Sample ID', 'Collection']], \\\n",
    "             left_on='bsp_sample_id_validation', \\\n",
    "             right_on='Sample ID', \\\n",
    "             how='outer') \\\n",
    "            .drop(['Sample ID'], axis=1)\n",
    "\n",
    "print(data.shape)\n",
    "\n",
    "# Dictionary of {long cohort name : short cohort code}\n",
    "cohort_formatted_names = pd.read_table('cohort_files/cohort_names_dictionary.txt', \\\n",
    "                                       header=None, names=['cohort_name', 'cohort_code'])\n",
    "\n",
    "data = pd.merge(data, cohort_formatted_names, \\\n",
    "                        left_on='Collection', right_on='cohort_name', how='outer').\\\n",
    "                        drop(['cohort_name'], axis=1)\n",
    "\n",
    "# Prepare for FC export format\n",
    "data = data.rename(columns={'cohort_code': 'membership:sample_set_id', 'entity:sample_id': 'sample_id'})\n",
    "# data = data[['membership:sample_set_id', 'sample_id']]"
   ]
  },
  {
   "cell_type": "code",
   "execution_count": 180,
   "metadata": {},
   "outputs": [
    {
     "data": {
      "text/plain": [
       "array([ 'Cancer Cell Line Factory (CCLF) / Jesse Boehm (Broad Institute) - Onboarding New Cell Lines',\n",
       "       nan,\n",
       "       'Cancer Cell Line Factory (CCLF) / David Sidransky (Champions Oncology) - PDX',\n",
       "       'Cancer Cell Line Factory (CCLF) / Mark Rubin/Beltran (Cornell) - Mix Cancers',\n",
       "       'Cancer Cell Line Factory (CCLF) / Adam Kibel/Phil Kantoff (DFCI) - Primary Prostate (GU)',\n",
       "       'Cancer Cell Line Factory (CCLF) / Mary-Ellen Taplin (DFCI) - Metastatic Prostate',\n",
       "       'Cancer Cell Line Factory (CCLF) / Ewa Sicinska (DFCI) - Sarcoma'], dtype=object)"
      ]
     },
     "execution_count": 180,
     "metadata": {},
     "output_type": "execute_result"
    }
   ],
   "source": [
    "(data.loc[ pd.isnull(data['membership:sample_set_id']), 'Collection']).unique()"
   ]
  },
  {
   "cell_type": "code",
   "execution_count": 184,
   "metadata": {},
   "outputs": [
    {
     "data": {
      "text/html": [
       "<div>\n",
       "<style>\n",
       "    .dataframe thead tr:only-child th {\n",
       "        text-align: right;\n",
       "    }\n",
       "\n",
       "    .dataframe thead th {\n",
       "        text-align: left;\n",
       "    }\n",
       "\n",
       "    .dataframe tbody tr th {\n",
       "        vertical-align: top;\n",
       "    }\n",
       "</style>\n",
       "<table border=\"1\" class=\"dataframe\">\n",
       "  <thead>\n",
       "    <tr style=\"text-align: right;\">\n",
       "      <th></th>\n",
       "      <th>sample_id</th>\n",
       "      <th>participant_id</th>\n",
       "      <th>clean_bam_file_capture</th>\n",
       "      <th>external_id_validation</th>\n",
       "      <th>aggregation_product_name_validation</th>\n",
       "      <th>bsp_sample_id_validation</th>\n",
       "      <th>stock_sample_id_validation</th>\n",
       "      <th>sample_type</th>\n",
       "      <th>picard_aggregation_type_validation</th>\n",
       "      <th>processed_subtype_validation</th>\n",
       "      <th>source_subtype_validation</th>\n",
       "      <th>squid_sample_id_validation</th>\n",
       "      <th>tumor_subtype</th>\n",
       "      <th>short_letter_code</th>\n",
       "      <th>bam_filename</th>\n",
       "      <th>bai_filename</th>\n",
       "      <th>clean_bai_file_capture</th>\n",
       "      <th>tsca_id</th>\n",
       "      <th>Collection</th>\n",
       "      <th>membership:sample_set_id</th>\n",
       "    </tr>\n",
       "  </thead>\n",
       "  <tbody>\n",
       "    <tr>\n",
       "      <th>937</th>\n",
       "      <td>GG001-Normal-SM-DHZ8L</td>\n",
       "      <td>GG001</td>\n",
       "      <td>gs://fc-35446f22-ea37-483a-bd6c-5e9fc56851ff/s...</td>\n",
       "      <td>GG001N</td>\n",
       "      <td>TSCA Rapid Cancer Detection Panel v2</td>\n",
       "      <td>SM-DHZ8L</td>\n",
       "      <td>SM-D182J</td>\n",
       "      <td>Normal</td>\n",
       "      <td>PCR</td>\n",
       "      <td>DNA:DNA Somatic</td>\n",
       "      <td>Cells:Cell Line, Viable</td>\n",
       "      <td>GG001N</td>\n",
       "      <td>Benign</td>\n",
       "      <td>NCELL</td>\n",
       "      <td>2_GG001N_H5V3YBCXY.2.aligned.duplicates_marked...</td>\n",
       "      <td>2_GG001N_H5V3YBCXY.2.aligned.duplicates_marked...</td>\n",
       "      <td>gs://fc-35446f22-ea37-483a-bd6c-5e9fc56851ff/s...</td>\n",
       "      <td>TSCA15</td>\n",
       "      <td>Cancer Cell Line Factory (CCLF) / Adam Kibel/P...</td>\n",
       "      <td>NaN</td>\n",
       "    </tr>\n",
       "    <tr>\n",
       "      <th>938</th>\n",
       "      <td>GG001-Tumor-SM-DHZ89</td>\n",
       "      <td>GG001</td>\n",
       "      <td>gs://fc-35446f22-ea37-483a-bd6c-5e9fc56851ff/s...</td>\n",
       "      <td>GG001T</td>\n",
       "      <td>TSCA Rapid Cancer Detection Panel v2</td>\n",
       "      <td>SM-DHZ89</td>\n",
       "      <td>SM-D182I</td>\n",
       "      <td>Tumor</td>\n",
       "      <td>PCR</td>\n",
       "      <td>DNA:DNA Somatic</td>\n",
       "      <td>Cells:Cell Line, Viable</td>\n",
       "      <td>GG001T</td>\n",
       "      <td>Primary</td>\n",
       "      <td>TP</td>\n",
       "      <td>2_GG001T_H5V3YBCXY.2.aligned.duplicates_marked...</td>\n",
       "      <td>2_GG001T_H5V3YBCXY.2.aligned.duplicates_marked...</td>\n",
       "      <td>gs://fc-35446f22-ea37-483a-bd6c-5e9fc56851ff/s...</td>\n",
       "      <td>TSCA15</td>\n",
       "      <td>Cancer Cell Line Factory (CCLF) / Adam Kibel/P...</td>\n",
       "      <td>NaN</td>\n",
       "    </tr>\n",
       "    <tr>\n",
       "      <th>939</th>\n",
       "      <td>GG002-Normal-SM-DHZ8X</td>\n",
       "      <td>GG002</td>\n",
       "      <td>gs://fc-35446f22-ea37-483a-bd6c-5e9fc56851ff/s...</td>\n",
       "      <td>GG002N</td>\n",
       "      <td>TSCA Rapid Cancer Detection Panel v2</td>\n",
       "      <td>SM-DHZ8X</td>\n",
       "      <td>SM-D182K</td>\n",
       "      <td>Normal</td>\n",
       "      <td>PCR</td>\n",
       "      <td>DNA:DNA Somatic</td>\n",
       "      <td>Cells:Cell Line, Viable</td>\n",
       "      <td>GG002N</td>\n",
       "      <td>Benign</td>\n",
       "      <td>NCELL</td>\n",
       "      <td>2_GG002N_H5V3YBCXY.2.aligned.duplicates_marked...</td>\n",
       "      <td>2_GG002N_H5V3YBCXY.2.aligned.duplicates_marked...</td>\n",
       "      <td>gs://fc-35446f22-ea37-483a-bd6c-5e9fc56851ff/s...</td>\n",
       "      <td>TSCA15</td>\n",
       "      <td>Cancer Cell Line Factory (CCLF) / Adam Kibel/P...</td>\n",
       "      <td>NaN</td>\n",
       "    </tr>\n",
       "    <tr>\n",
       "      <th>940</th>\n",
       "      <td>GG003-Tumor-SM-DHZ9A</td>\n",
       "      <td>GG003</td>\n",
       "      <td>gs://fc-35446f22-ea37-483a-bd6c-5e9fc56851ff/s...</td>\n",
       "      <td>GG003T</td>\n",
       "      <td>TSCA Rapid Cancer Detection Panel v2</td>\n",
       "      <td>SM-DHZ9A</td>\n",
       "      <td>SM-D182L</td>\n",
       "      <td>Tumor</td>\n",
       "      <td>PCR</td>\n",
       "      <td>DNA:DNA Somatic</td>\n",
       "      <td>Cells:Cell Line, Viable</td>\n",
       "      <td>GG003T</td>\n",
       "      <td>Primary</td>\n",
       "      <td>TP</td>\n",
       "      <td>2_GG003T_H5V3YBCXY.2.aligned.duplicates_marked...</td>\n",
       "      <td>2_GG003T_H5V3YBCXY.2.aligned.duplicates_marked...</td>\n",
       "      <td>gs://fc-35446f22-ea37-483a-bd6c-5e9fc56851ff/s...</td>\n",
       "      <td>TSCA15</td>\n",
       "      <td>Cancer Cell Line Factory (CCLF) / Adam Kibel/P...</td>\n",
       "      <td>NaN</td>\n",
       "    </tr>\n",
       "    <tr>\n",
       "      <th>941</th>\n",
       "      <td>GG004-Normal-SM-DHZ9Y</td>\n",
       "      <td>GG004</td>\n",
       "      <td>gs://fc-35446f22-ea37-483a-bd6c-5e9fc56851ff/s...</td>\n",
       "      <td>GG004N</td>\n",
       "      <td>TSCA Rapid Cancer Detection Panel v2</td>\n",
       "      <td>SM-DHZ9Y</td>\n",
       "      <td>SM-D182N</td>\n",
       "      <td>Normal</td>\n",
       "      <td>PCR</td>\n",
       "      <td>DNA:DNA Somatic</td>\n",
       "      <td>Cells:Cell Line, Viable</td>\n",
       "      <td>GG004N</td>\n",
       "      <td>Benign</td>\n",
       "      <td>NCELL</td>\n",
       "      <td>2_GG004N_H5V3YBCXY.2.aligned.duplicates_marked...</td>\n",
       "      <td>2_GG004N_H5V3YBCXY.2.aligned.duplicates_marked...</td>\n",
       "      <td>gs://fc-35446f22-ea37-483a-bd6c-5e9fc56851ff/s...</td>\n",
       "      <td>TSCA15</td>\n",
       "      <td>Cancer Cell Line Factory (CCLF) / Adam Kibel/P...</td>\n",
       "      <td>NaN</td>\n",
       "    </tr>\n",
       "    <tr>\n",
       "      <th>942</th>\n",
       "      <td>GG004-Tumor-SM-DHZ9M</td>\n",
       "      <td>GG004</td>\n",
       "      <td>gs://fc-35446f22-ea37-483a-bd6c-5e9fc56851ff/s...</td>\n",
       "      <td>GG004T</td>\n",
       "      <td>TSCA Rapid Cancer Detection Panel v2</td>\n",
       "      <td>SM-DHZ9M</td>\n",
       "      <td>SM-D182M</td>\n",
       "      <td>Tumor</td>\n",
       "      <td>PCR</td>\n",
       "      <td>DNA:DNA Somatic</td>\n",
       "      <td>Cells:Cell Line, Viable</td>\n",
       "      <td>GG004T</td>\n",
       "      <td>Primary</td>\n",
       "      <td>TP</td>\n",
       "      <td>2_GG004T_H5V3YBCXY.2.aligned.duplicates_marked...</td>\n",
       "      <td>2_GG004T_H5V3YBCXY.2.aligned.duplicates_marked...</td>\n",
       "      <td>gs://fc-35446f22-ea37-483a-bd6c-5e9fc56851ff/s...</td>\n",
       "      <td>TSCA15</td>\n",
       "      <td>Cancer Cell Line Factory (CCLF) / Adam Kibel/P...</td>\n",
       "      <td>NaN</td>\n",
       "    </tr>\n",
       "  </tbody>\n",
       "</table>\n",
       "</div>"
      ],
      "text/plain": [
       "                 sample_id participant_id  \\\n",
       "937  GG001-Normal-SM-DHZ8L          GG001   \n",
       "938   GG001-Tumor-SM-DHZ89          GG001   \n",
       "939  GG002-Normal-SM-DHZ8X          GG002   \n",
       "940   GG003-Tumor-SM-DHZ9A          GG003   \n",
       "941  GG004-Normal-SM-DHZ9Y          GG004   \n",
       "942   GG004-Tumor-SM-DHZ9M          GG004   \n",
       "\n",
       "                                clean_bam_file_capture external_id_validation  \\\n",
       "937  gs://fc-35446f22-ea37-483a-bd6c-5e9fc56851ff/s...                 GG001N   \n",
       "938  gs://fc-35446f22-ea37-483a-bd6c-5e9fc56851ff/s...                 GG001T   \n",
       "939  gs://fc-35446f22-ea37-483a-bd6c-5e9fc56851ff/s...                 GG002N   \n",
       "940  gs://fc-35446f22-ea37-483a-bd6c-5e9fc56851ff/s...                 GG003T   \n",
       "941  gs://fc-35446f22-ea37-483a-bd6c-5e9fc56851ff/s...                 GG004N   \n",
       "942  gs://fc-35446f22-ea37-483a-bd6c-5e9fc56851ff/s...                 GG004T   \n",
       "\n",
       "      aggregation_product_name_validation bsp_sample_id_validation  \\\n",
       "937  TSCA Rapid Cancer Detection Panel v2                 SM-DHZ8L   \n",
       "938  TSCA Rapid Cancer Detection Panel v2                 SM-DHZ89   \n",
       "939  TSCA Rapid Cancer Detection Panel v2                 SM-DHZ8X   \n",
       "940  TSCA Rapid Cancer Detection Panel v2                 SM-DHZ9A   \n",
       "941  TSCA Rapid Cancer Detection Panel v2                 SM-DHZ9Y   \n",
       "942  TSCA Rapid Cancer Detection Panel v2                 SM-DHZ9M   \n",
       "\n",
       "    stock_sample_id_validation sample_type picard_aggregation_type_validation  \\\n",
       "937                   SM-D182J      Normal                                PCR   \n",
       "938                   SM-D182I       Tumor                                PCR   \n",
       "939                   SM-D182K      Normal                                PCR   \n",
       "940                   SM-D182L       Tumor                                PCR   \n",
       "941                   SM-D182N      Normal                                PCR   \n",
       "942                   SM-D182M       Tumor                                PCR   \n",
       "\n",
       "    processed_subtype_validation source_subtype_validation  \\\n",
       "937              DNA:DNA Somatic   Cells:Cell Line, Viable   \n",
       "938              DNA:DNA Somatic   Cells:Cell Line, Viable   \n",
       "939              DNA:DNA Somatic   Cells:Cell Line, Viable   \n",
       "940              DNA:DNA Somatic   Cells:Cell Line, Viable   \n",
       "941              DNA:DNA Somatic   Cells:Cell Line, Viable   \n",
       "942              DNA:DNA Somatic   Cells:Cell Line, Viable   \n",
       "\n",
       "    squid_sample_id_validation tumor_subtype short_letter_code  \\\n",
       "937                     GG001N        Benign             NCELL   \n",
       "938                     GG001T       Primary                TP   \n",
       "939                     GG002N        Benign             NCELL   \n",
       "940                     GG003T       Primary                TP   \n",
       "941                     GG004N        Benign             NCELL   \n",
       "942                     GG004T       Primary                TP   \n",
       "\n",
       "                                          bam_filename  \\\n",
       "937  2_GG001N_H5V3YBCXY.2.aligned.duplicates_marked...   \n",
       "938  2_GG001T_H5V3YBCXY.2.aligned.duplicates_marked...   \n",
       "939  2_GG002N_H5V3YBCXY.2.aligned.duplicates_marked...   \n",
       "940  2_GG003T_H5V3YBCXY.2.aligned.duplicates_marked...   \n",
       "941  2_GG004N_H5V3YBCXY.2.aligned.duplicates_marked...   \n",
       "942  2_GG004T_H5V3YBCXY.2.aligned.duplicates_marked...   \n",
       "\n",
       "                                          bai_filename  \\\n",
       "937  2_GG001N_H5V3YBCXY.2.aligned.duplicates_marked...   \n",
       "938  2_GG001T_H5V3YBCXY.2.aligned.duplicates_marked...   \n",
       "939  2_GG002N_H5V3YBCXY.2.aligned.duplicates_marked...   \n",
       "940  2_GG003T_H5V3YBCXY.2.aligned.duplicates_marked...   \n",
       "941  2_GG004N_H5V3YBCXY.2.aligned.duplicates_marked...   \n",
       "942  2_GG004T_H5V3YBCXY.2.aligned.duplicates_marked...   \n",
       "\n",
       "                                clean_bai_file_capture tsca_id  \\\n",
       "937  gs://fc-35446f22-ea37-483a-bd6c-5e9fc56851ff/s...  TSCA15   \n",
       "938  gs://fc-35446f22-ea37-483a-bd6c-5e9fc56851ff/s...  TSCA15   \n",
       "939  gs://fc-35446f22-ea37-483a-bd6c-5e9fc56851ff/s...  TSCA15   \n",
       "940  gs://fc-35446f22-ea37-483a-bd6c-5e9fc56851ff/s...  TSCA15   \n",
       "941  gs://fc-35446f22-ea37-483a-bd6c-5e9fc56851ff/s...  TSCA15   \n",
       "942  gs://fc-35446f22-ea37-483a-bd6c-5e9fc56851ff/s...  TSCA15   \n",
       "\n",
       "                                            Collection  \\\n",
       "937  Cancer Cell Line Factory (CCLF) / Adam Kibel/P...   \n",
       "938  Cancer Cell Line Factory (CCLF) / Adam Kibel/P...   \n",
       "939  Cancer Cell Line Factory (CCLF) / Adam Kibel/P...   \n",
       "940  Cancer Cell Line Factory (CCLF) / Adam Kibel/P...   \n",
       "941  Cancer Cell Line Factory (CCLF) / Adam Kibel/P...   \n",
       "942  Cancer Cell Line Factory (CCLF) / Adam Kibel/P...   \n",
       "\n",
       "    membership:sample_set_id  \n",
       "937                      NaN  \n",
       "938                      NaN  \n",
       "939                      NaN  \n",
       "940                      NaN  \n",
       "941                      NaN  \n",
       "942                      NaN  "
      ]
     },
     "execution_count": 184,
     "metadata": {},
     "output_type": "execute_result"
    }
   ],
   "source": [
    "data[data['Collection'] == \"Cancer Cell Line Factory (CCLF) / Adam Kibel/Phil Kantoff (DFCI) - Primary Prostate (GU)\"]"
   ]
  },
  {
   "cell_type": "code",
   "execution_count": null,
   "metadata": {
    "collapsed": true
   },
   "outputs": [],
   "source": []
  }
 ],
 "metadata": {
  "kernelspec": {
   "display_name": "Python 3",
   "language": "python",
   "name": "python3"
  },
  "language_info": {
   "codemirror_mode": {
    "name": "ipython",
    "version": 3
   },
   "file_extension": ".py",
   "mimetype": "text/x-python",
   "name": "python",
   "nbconvert_exporter": "python",
   "pygments_lexer": "ipython3",
   "version": "3.6.1"
  }
 },
 "nbformat": 4,
 "nbformat_minor": 2
}
