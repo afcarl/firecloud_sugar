{
 "cells": [
  {
   "cell_type": "markdown",
   "metadata": {},
   "source": [
    "### Commands"
   ]
  },
  {
   "cell_type": "code",
   "execution_count": 1,
   "metadata": {
    "collapsed": true
   },
   "outputs": [],
   "source": [
    "from firecloud import api as firecloud_api\n",
    "import fc_interface"
   ]
  },
  {
   "cell_type": "code",
   "execution_count": 2,
   "metadata": {
    "collapsed": true
   },
   "outputs": [],
   "source": [
    "%load_ext autoreload\n",
    "%autoreload 2"
   ]
  },
  {
   "cell_type": "code",
   "execution_count": 11,
   "metadata": {
    "collapsed": true
   },
   "outputs": [],
   "source": [
    "### Parameters\n",
    "namespace = \"nci-mimoun-bi-org\"\n",
    "workspace = \"CCLF_TSCA\"\n",
    "paths_to_samples_info = \"paths_to_batches_info.xlsx\"\n",
    "google_bucket_id = \"fc-35446f22-ea37-483a-bd6c-5e9fc56851ff\"\n",
    "batches_info = pd.read_excel(paths_to_samples_info)"
   ]
  },
  {
   "cell_type": "markdown",
   "metadata": {},
   "source": [
    "#### Deletions"
   ]
  },
  {
   "cell_type": "code",
   "execution_count": null,
   "metadata": {
    "collapsed": true,
    "editable": false,
    "run_control": {
     "frozen": true
    }
   },
   "outputs": [],
   "source": [
    "### Delete unnecessary attributes in samples\n",
    "attrs = [\"annotate_variants_vcf\", \"annotate_variants_vcf_index\", \"oncotated_maf\", \"mutect2_vcf_index\", \"match_normal_oncotated_maf\", \"gnomad_vcf\", \"merged_vcfs\", \"match_primary_tumor_bam_file\"]\n",
    "for idx, row in all_samples.iterrows():\n",
    "    fc_interface.delete_entity_attributes(namespace, workspace, \"sample\", row['entity:sample_id'], attrs)"
   ]
  },
  {
   "cell_type": "code",
   "execution_count": null,
   "metadata": {
    "collapsed": true,
    "editable": false,
    "run_control": {
     "frozen": true
    }
   },
   "outputs": [],
   "source": [
    "### Delete method repostory\n",
    "firecloud_api.delete_repository_method('tsca', 'CreatePoN', 15)"
   ]
  },
  {
   "cell_type": "code",
   "execution_count": null,
   "metadata": {
    "collapsed": true,
    "editable": false,
    "run_control": {
     "frozen": true
    }
   },
   "outputs": [],
   "source": [
    "### Delete method repository\n",
    "firecloud_api.delete_repository_method('tsca', 'Mutect2_for_Normal', 1)"
   ]
  },
  {
   "cell_type": "code",
   "execution_count": null,
   "metadata": {
    "collapsed": true,
    "editable": false,
    "run_control": {
     "frozen": true
    }
   },
   "outputs": [],
   "source": [
    "### Delete multiple method repositories\n",
    "for i in range(10, 23):\n",
    "    firecloud_api.delete_repository_method('tsca', 'CreatePoN', i)"
   ]
  },
  {
   "cell_type": "code",
   "execution_count": null,
   "metadata": {
    "collapsed": true,
    "editable": false,
    "run_control": {
     "frozen": true
    }
   },
   "outputs": [],
   "source": [
    "### Delete method config\n",
    "firecloud_api.delete_workspace_config(namespace, workspace, \"tsca\", \"Mutect2_for_Normal\")"
   ]
  },
  {
   "cell_type": "markdown",
   "metadata": {},
   "source": [
    "#### Pair creation"
   ]
  },
  {
   "cell_type": "code",
   "execution_count": null,
   "metadata": {
    "collapsed": true,
    "editable": false,
    "run_control": {
     "frozen": true
    }
   },
   "outputs": [],
   "source": [
    "### Create pairs\n",
    "all_samples = fc_interface.get_samples_multiple_batches(paths_to_samples_info, google_bucket_id)\n",
    "pairs_list = fc_interface.create_pairs_list(all_samples)\n",
    "blacklist = [\"DW039-Tumor-SM-DB2IF\"]\n",
    "clean_pairs_list = pairs_list[ ~pairs_list['case_sample_id'].isin(blacklist)]"
   ]
  },
  {
   "cell_type": "code",
   "execution_count": null,
   "metadata": {
    "collapsed": true,
    "editable": false,
    "run_control": {
     "frozen": true
    }
   },
   "outputs": [],
   "source": [
    "### Upload pairs\n",
    "res = fc_interface.upload_pairs(namespace, workspace, clean_pairs_list)"
   ]
  },
  {
   "cell_type": "code",
   "execution_count": null,
   "metadata": {
    "collapsed": true,
    "editable": false,
    "run_control": {
     "frozen": true
    }
   },
   "outputs": [],
   "source": [
    "# ### Delete unnecessary attributes in pairs\n",
    "# ### NOT WOKING\n",
    "# all_samples = fc_interface.get_samples_multiple_batches(paths_to_samples_info, google_bucket_id)\n",
    "# pairs_list = fc_interface.create_pairs_list(all_samples)\n",
    "# attrs = [\"__annotate_variants_vcf\", \"__annotate_variants_vcf_index\", \\\n",
    "#          \"__scattered_intervals\", \"__tmp_mutect_vcf2\", \"_tmp_mutect_vcf_index2\", \\\n",
    "#          \"__tmp_mutect_vcf2\", \"_tmp_mutect_vcf_index2\"]\n",
    "# for idx, row in pairs_list.iterrows():\n",
    "#     fc_interface.delete_entity_attributes(namespace, workspace, \"pair\", row['entity:pair_id'], attrs)"
   ]
  },
  {
   "cell_type": "code",
   "execution_count": null,
   "metadata": {
    "collapsed": true,
    "editable": false,
    "run_control": {
     "frozen": true
    }
   },
   "outputs": [],
   "source": [
    "### Upload metadata for given batch\n",
    "fc_interface.update_batch_metadata('TSCA21', \\\n",
    "                                  '/xchip/clf/seq_data/processed_for_fh/tsca21_201708_SN0128552/tsca21_201708_SN0128552.import_samples.txt', \\\n",
    "                                      paths_to_samples_info, \\\n",
    "                                        namespace, workspace, google_bucket_id)"
   ]
  },
  {
   "cell_type": "code",
   "execution_count": null,
   "metadata": {
    "collapsed": true,
    "editable": false,
    "run_control": {
     "frozen": true
    }
   },
   "outputs": [],
   "source": [
    "### Delete sample_set\n",
    "fc_interface.delete_sample_set(namespace, workspace, 'TSCA1213')"
   ]
  },
  {
   "cell_type": "code",
   "execution_count": null,
   "metadata": {
    "collapsed": true,
    "editable": false,
    "run_control": {
     "frozen": true
    }
   },
   "outputs": [],
   "source": [
    "### All paths to batch info\n",
    "# pd.read_excel('paths_to_batches_info.xlsx').path_to_samples_info.tolist()"
   ]
  },
  {
   "cell_type": "code",
   "execution_count": null,
   "metadata": {
    "collapsed": true,
    "editable": false,
    "run_control": {
     "frozen": true
    }
   },
   "outputs": [],
   "source": [
    "### Create cumulative PoN (all batches)\n",
    "batches_info = pd.read_excel(paths_to_samples_info)\n",
    "PoN = fc_interface.create_panel_of_normals(batches_info.path_to_samples_info.tolist(), -1, 'Cum_PoN_21_all')\n",
    "fc_interface.upload_pon(PoN, 'CumPoN21', namespace, workspace)"
   ]
  },
  {
   "cell_type": "code",
   "execution_count": null,
   "metadata": {
    "collapsed": true,
    "editable": false,
    "run_control": {
     "frozen": true
    }
   },
   "outputs": [],
   "source": [
    "### Create PoN from normals of only one batch (no samples from other batches)\n",
    "batches_info = pd.read_excel(paths_to_samples_info)\n",
    "tsca21_path = batches_info.path_to_samples_info.tolist()[-1]\n",
    "PoN = fc_interface.create_panel_of_normals([tsca21_path], -1, 'PoN_TSCA21_Normals')\n",
    "fc_interface.upload_pon(PoN, 'PoN_TSCA21_Normals', namespace, workspace)"
   ]
  },
  {
   "cell_type": "code",
   "execution_count": null,
   "metadata": {
    "collapsed": true,
    "editable": false,
    "run_control": {
     "frozen": true
    }
   },
   "outputs": [],
   "source": [
    "### Delete pair set\n",
    "fc_interface.delete_pair_set(namespace, workspace, 'TSCA1213')"
   ]
  },
  {
   "cell_type": "code",
   "execution_count": null,
   "metadata": {
    "collapsed": true,
    "editable": false,
    "run_control": {
     "frozen": true
    }
   },
   "outputs": [],
   "source": [
    "### Delete sample set\n",
    "fc_interface.delete_sample_set(namespace, workspace, 'TSCA1213')"
   ]
  },
  {
   "cell_type": "code",
   "execution_count": null,
   "metadata": {
    "collapsed": true,
    "editable": false,
    "run_control": {
     "frozen": true
    }
   },
   "outputs": [],
   "source": [
    "### Download method configs\n",
    "fc_interface.download_method_configs(namespace, workspace)"
   ]
  },
  {
   "cell_type": "code",
   "execution_count": null,
   "metadata": {
    "collapsed": true,
    "editable": false,
    "run_control": {
     "frozen": true
    }
   },
   "outputs": [],
   "source": [
    "### Upload pairsets\n",
    "tn_pairsets, tp_pairsets = fc_interface.create_pairsets(all_samples, clean_pairs_list)\n",
    "fc_interface.upload_pairsets(namespace, workspace, tn_pairsets, \"TN\")\n",
    "fc_interface.upload_pairsets(namespace, workspace, tp_pairsets, \"TP\")"
   ]
  },
  {
   "cell_type": "code",
   "execution_count": null,
   "metadata": {
    "collapsed": true,
    "editable": false,
    "run_control": {
     "frozen": true
    }
   },
   "outputs": [],
   "source": [
    "### Delete all pairs\n",
    "for idx, row in clean_pairs_list.iterrows():\n",
    "    res = fc_interface.delete_pair(namespace, workspace, row['entity:pair_id'])\n",
    "    print(res)"
   ]
  },
  {
   "cell_type": "code",
   "execution_count": null,
   "metadata": {
    "collapsed": true,
    "editable": false,
    "run_control": {
     "frozen": true
    }
   },
   "outputs": [],
   "source": [
    "all_samples = fc_interface.get_samples_multiple_batches(paths_to_samples_info, google_bucket_id)\n",
    "pairs_list = fc_interface.create_pairs_list(all_samples)\n",
    "blacklist = [\"DW039-Tumor-SM-DB2IF\"]\n",
    "clean_pairs_list = pairs_list[ ~pairs_list['case_sample_id'].isin(blacklist)]\n",
    "\n",
    "### Update pair attributes\n",
    "update_pair_attrs(namespace, workspace, clean_pairs_list, attrs=['control_sample_tsca_id'])"
   ]
  },
  {
   "cell_type": "code",
   "execution_count": null,
   "metadata": {
    "collapsed": true,
    "editable": false,
    "run_control": {
     "frozen": true
    }
   },
   "outputs": [],
   "source": [
    "### Create PoN from all normals\n",
    "batches_info = pd.read_excel(paths_to_samples_info)\n",
    "all_paths = batches_info.path_to_samples_info.tolist()\n",
    "PoN = fc_interface.create_panel_of_normals(all_paths, -1, 'Cum_PoN_21_all')\n",
    "fc_interface.upload_pon(PoN, 'Cum_PoN_21_all', namespace, workspace)"
   ]
  },
  {
   "cell_type": "code",
   "execution_count": 6,
   "metadata": {
    "collapsed": true
   },
   "outputs": [],
   "source": [
    "### Create PoN with normals from batch + other normals\n",
    "batches_info = pd.read_excel(paths_to_samples_info)\n",
    "all_paths = batches_info.path_to_samples_info.tolist()\n",
    "# PoN = fc_interface.create_panel_of_normals(all_paths, -1, 'Cum_PoN_21_all')\n",
    "# fc_interface.upload_pon(PoN, 'Cum_PoN_21_all', namespace, workspace)"
   ]
  },
  {
   "cell_type": "code",
   "execution_count": 4,
   "metadata": {
    "collapsed": true
   },
   "outputs": [],
   "source": [
    "# batch_id = 'TSCA21'\n",
    "# batch_path = batches_info.loc[batches_info.tsca_id==batch_id, 'path_to_samples_info'].item()\n",
    "# pd.read_table(batch_path)\n",
    "# batch_id, paths, N, name"
   ]
  },
  {
   "cell_type": "code",
   "execution_count": 21,
   "metadata": {
    "collapsed": true,
    "editable": false,
    "run_control": {
     "frozen": true
    }
   },
   "outputs": [],
   "source": [
    "# Retrieve samples before export to FC\n",
    "tsca21 = \\\n",
    "    fc_interface.\\\n",
    "        prepare_batch_samples_for_metadata_export('/xchip/clf/seq_data/processed_for_fh/tsca21_201708_SN0128552/tsca21_201708_SN0128552.import_samples.txt', \\\n",
    "                            'TSCA21', google_bucket_id)"
   ]
  },
  {
   "cell_type": "code",
   "execution_count": null,
   "metadata": {
    "collapsed": true,
    "editable": false,
    "run_control": {
     "frozen": true
    }
   },
   "outputs": [],
   "source": [
    "### Update WDLs\n",
    "fc_interface.download_remote_wdls(namespace, workspace)"
   ]
  },
  {
   "cell_type": "code",
   "execution_count": 336,
   "metadata": {
    "collapsed": true,
    "editable": false,
    "run_control": {
     "frozen": true
    }
   },
   "outputs": [],
   "source": [
    "### Prepare cohorts for export to FC\n",
    "cohorts = fc_interface.prepare_cohorts_for_metadata_export(paths_to_batches_info, google_bucket_id)"
   ]
  },
  {
   "cell_type": "code",
   "execution_count": 358,
   "metadata": {
    "collapsed": true,
    "editable": false,
    "run_control": {
     "frozen": true
    }
   },
   "outputs": [],
   "source": [
    "# # Delete cohorts\n",
    "# cohort_codes = pd.read_table('cohort_files/cohort_names_dictionary.txt', header=None)\n",
    "# for coh_code in cohort_codes.loc[:, 1].tolist():\n",
    "#     res = fc_interface.delete_sample_set(namespace, workspace, coh_code)"
   ]
  },
  {
   "cell_type": "code",
   "execution_count": 338,
   "metadata": {
    "editable": false,
    "run_control": {
     "frozen": true
    }
   },
   "outputs": [
    {
     "name": "stdout",
     "output_type": "stream",
     "text": [
      "65 Participants in this batch\n",
      "95 Samples in this batch\n"
     ]
    }
   ],
   "source": [
    "# ### Upload metadata for given batch\n",
    "# fc_interface.update_batch_metadata('TSCA21', \\\n",
    "#                                   '/xchip/clf/seq_data/processed_for_fh/tsca21_201708_SN0128552/tsca21_201708_SN0128552.import_samples.txt', \\\n",
    "#                                       paths_to_samples_info, \\\n",
    "#                                         namespace, workspace, google_bucket_id)"
   ]
  },
  {
   "cell_type": "code",
   "execution_count": 361,
   "metadata": {
    "collapsed": true,
    "editable": false,
    "run_control": {
     "frozen": true
    }
   },
   "outputs": [],
   "source": [
    "# Export metadata\n",
    "(r1, r2, r3, r4, r5, r6) = fc_interface.export_batch_metadata_to_fc('TSCA21', namespace, workspace)"
   ]
  },
  {
   "cell_type": "code",
   "execution_count": 359,
   "metadata": {
    "collapsed": true,
    "editable": false,
    "run_control": {
     "frozen": true
    }
   },
   "outputs": [],
   "source": [
    "# Cohorts\n",
    "cohorts = fc_interface.prepare_cohorts_for_metadata_export(paths_to_batches_info, google_bucket_id)"
   ]
  },
  {
   "cell_type": "code",
   "execution_count": 66,
   "metadata": {
    "collapsed": true,
    "editable": false,
    "run_control": {
     "frozen": true
    }
   },
   "outputs": [],
   "source": [
    "### Create panel of normals from batch\n",
    "pon = fc_interface.create_panel_of_normals_from_batch(batch_id, paths_to_samples_info, N=20).shape"
   ]
  },
  {
   "cell_type": "code",
   "execution_count": 78,
   "metadata": {
    "collapsed": true,
    "editable": false,
    "run_control": {
     "frozen": true
    }
   },
   "outputs": [],
   "source": [
    "### Create panel of normals from batch\n",
    "for i, row in batches_info.iterrows():\n",
    "    pon, name = fc_interface.create_panel_of_normals_from_batch(row['tsca_id'], paths_to_samples_info, N=20)\n",
    "    fc_interface.upload_pon(pon, name, namespace, workspace)"
   ]
  },
  {
   "cell_type": "code",
   "execution_count": null,
   "metadata": {
    "collapsed": true,
    "editable": false,
    "run_control": {
     "frozen": true
    }
   },
   "outputs": [],
   "source": [
    "# Retrieve samples before export to FC\n",
    "tsca21 = \\\n",
    "    fc_interface.\\\n",
    "        prepare_batch_samples_for_metadata_export('/xchip/clf/seq_data/processed_for_fh/tsca21_201708_SN0128552/tsca21_201708_SN0128552.import_samples.txt', \\\n",
    "                            'TSCA21', google_bucket_id)"
   ]
  },
  {
   "cell_type": "code",
   "execution_count": 33,
   "metadata": {
    "collapsed": true,
    "editable": false,
    "run_control": {
     "frozen": true
    }
   },
   "outputs": [],
   "source": [
    "### Prepare cohorts for export to FC\n",
    "cohorts = fc_interface.\\\n",
    "            prepare_cohorts_for_metadata_export(paths_to_samples_info, google_bucket_id, \\\n",
    "                                               blacklist=[\"CCLF_AA1012-Tumor-SM-F67DF\"])\n",
    "\n",
    "cohorts_sample_set_metadata = \"cohort_files/fc_upload_sample_set_cohorts.txt\"\n",
    "res = fc_interface.upload_entities_from_tsv(namespace, workspace, cohorts_sample_set_metadata)"
   ]
  },
  {
   "cell_type": "code",
   "execution_count": 8,
   "metadata": {
    "collapsed": true,
    "editable": false,
    "run_control": {
     "frozen": true
    }
   },
   "outputs": [],
   "source": [
    "# Export metadata\n",
    "(r1, r2, r3, r4, r5, r6) = fc_interface.export_batch_metadata_to_fc('TSCA21', namespace, workspace)"
   ]
  },
  {
   "cell_type": "code",
   "execution_count": 34,
   "metadata": {
    "collapsed": true,
    "editable": false,
    "run_control": {
     "frozen": true
    }
   },
   "outputs": [],
   "source": [
    "### Cohort of all tumors\n",
    "res = fc_interface.upload_cohort_all_tumors(paths_to_samples_info, google_bucket_id, \\\n",
    "                                      'Cum_Tumors_22_all', namespace, workspace, ['DW039-Tumor-SM-DB2IF'])"
   ]
  },
  {
   "cell_type": "code",
   "execution_count": 12,
   "metadata": {
    "editable": false,
    "run_control": {
     "frozen": true
    }
   },
   "outputs": [
    {
     "data": {
      "text/plain": [
       "(1045, 14)"
      ]
     },
     "execution_count": 12,
     "metadata": {},
     "output_type": "execute_result"
    }
   ],
   "source": [
    "# fc_interface.merge_walkupseq_files(paths_to_samples_info)"
   ]
  },
  {
   "cell_type": "markdown",
   "metadata": {},
   "source": [
    "---"
   ]
  },
  {
   "cell_type": "markdown",
   "metadata": {},
   "source": [
    "---"
   ]
  },
  {
   "cell_type": "code",
   "execution_count": null,
   "metadata": {
    "collapsed": true
   },
   "outputs": [],
   "source": [
    "tsca_id = \"TSCA22\"\n",
    "path_to_batch_samples_info = batches_info.loc[batches_info.tsca_id==tsca_id, 'path_to_samples_info'].item()"
   ]
  },
  {
   "cell_type": "code",
   "execution_count": 25,
   "metadata": {},
   "outputs": [
    {
     "name": "stdout",
     "output_type": "stream",
     "text": [
      "95 Samples in this batch\n"
     ]
    },
    {
     "data": {
      "text/plain": [
       "(   membership:sample_set_id                      sample_id\n",
       " 0                    TSCA22            AA53-Tumor-SM-GL7LQ\n",
       " 1                    TSCA22            AA61-Tumor-SM-GL7LF\n",
       " 2                    TSCA22     CCLF_AA1005-Tumor-SM-GL7NT\n",
       " 3                    TSCA22     CCLF_AA1005-Tumor-SM-GL7LE\n",
       " 4                    TSCA22     CCLF_AA1024-Tumor-SM-GL7LL\n",
       " 5                    TSCA22     CCLF_AA1001-Tumor-SM-GL7N2\n",
       " 6                    TSCA22     CCLF_AA1038-Tumor-SM-GL7NJ\n",
       " 7                    TSCA22     CCLF_AA1040-Tumor-SM-GL7MW\n",
       " 8                    TSCA22     CCLF_AB1004-Tumor-SM-GL7M3\n",
       " 9                    TSCA22     CCLF_AB1013-Tumor-SM-GL7MQ\n",
       " 10                   TSCA22     CCLF_AB1016-Tumor-SM-GL7LD\n",
       " 11                   TSCA22     CCLF_AB1017-Tumor-SM-GL7MG\n",
       " 12                   TSCA22     CCLF_AB1018-Tumor-SM-GL7NF\n",
       " 13                   TSCA22     CCLF_AB1027-Tumor-SM-GL7LO\n",
       " 14                   TSCA22     CCLF_AB1028-Tumor-SM-GL7NV\n",
       " 15                   TSCA22     CCLF_AB1027-Tumor-SM-GL7LI\n",
       " 16                   TSCA22     CCLF_AB1030-Tumor-SM-GL7LV\n",
       " 17                   TSCA22     CCLF_AB1031-Tumor-SM-GL7M8\n",
       " 18                   TSCA22     CCLF_AB1032-Tumor-SM-GL7NW\n",
       " 19                   TSCA22     CCLF_KL1023-Tumor-SM-GL7LG\n",
       " 20                   TSCA22     CCLF_KL1051-Tumor-SM-GL7NR\n",
       " 21                   TSCA22     CCLF_KL1051-Tumor-SM-GL7NH\n",
       " 22                   TSCA22     CCLF_KL1058-Tumor-SM-GL7NK\n",
       " 23                   TSCA22     CCLF_KL1073-Tumor-SM-GL7LP\n",
       " 24                   TSCA22     CCLF_KL1075-Tumor-SM-GL7MF\n",
       " 25                   TSCA22     CCLF_KL1076-Tumor-SM-GL7M7\n",
       " 26                   TSCA22     CCLF_KL1077-Tumor-SM-GL7N3\n",
       " 27                   TSCA22     CCLF_KL1082-Tumor-SM-GL7NP\n",
       " 28                   TSCA22     CCLF_KL1089-Tumor-SM-GL7MU\n",
       " 29                   TSCA22     CCLF_KL1091-Tumor-SM-GL7MP\n",
       " ..                      ...                            ...\n",
       " 65                   TSCA22   CCLF_RCRF1010-Tumor-SM-GL7NA\n",
       " 66                   TSCA22   CCLF_RCRF1012-Tumor-SM-GL7MH\n",
       " 67                   TSCA22   CCLF_RCRF1013-Tumor-SM-GL7LW\n",
       " 68                   TSCA22   CCLF_RCRF1013-Tumor-SM-GL7M1\n",
       " 69                   TSCA22   CCLF_RCRF1013-Tumor-SM-GL7ML\n",
       " 70                   TSCA22   CCLF_RCRF1013-Tumor-SM-GL7M9\n",
       " 71                   TSCA22   CCLF_RCRF1014-Tumor-SM-GL7NI\n",
       " 72                   TSCA22   CCLF_RCRF1014-Tumor-SM-GL7LJ\n",
       " 73                   TSCA22   CCLF_RCRF1015-Tumor-SM-GL7N5\n",
       " 74                   TSCA22   CCLF_RCRF1015-Tumor-SM-GL7N6\n",
       " 75                   TSCA22   CCLF_RCRF1015-Tumor-SM-GL7LS\n",
       " 76                   TSCA22  CCLF_RCRF1018-Normal-SM-GL7LT\n",
       " 77                   TSCA22   CCLF_RCRF1018-Tumor-SM-GL7LH\n",
       " 78                   TSCA22     CCLF_SS1008-Tumor-SM-GL7MC\n",
       " 79                   TSCA22     CCLF_SS1009-Tumor-SM-GL7NQ\n",
       " 80                   TSCA22           CY014-Tumor-SM-GL7ME\n",
       " 81                   TSCA22           CY018-Tumor-SM-GL7N4\n",
       " 82                   TSCA22           CY018-Tumor-SM-GL7M2\n",
       " 83                   TSCA22           CY020-Tumor-SM-GL7LR\n",
       " 84                   TSCA22           CY020-Tumor-SM-GL7NG\n",
       " 85                   TSCA22           CY021-Tumor-SM-GL7MD\n",
       " 86                   TSCA22           EH031-Tumor-SM-GL7NX\n",
       " 87                   TSCA22           EH032-Tumor-SM-GL7LK\n",
       " 88                   TSCA22           EW012-Tumor-SM-GL7NM\n",
       " 89                   TSCA22           HG018-Tumor-SM-GL7NY\n",
       " 90                   TSCA22           HG018-Tumor-SM-GL7MK\n",
       " 91                   TSCA22   CCLF_RCRF1014-Tumor-SM-GL7MT\n",
       " 92                   TSCA22           TC011-Tumor-SM-GL7NS\n",
       " 93                   TSCA22           TC011-Tumor-SM-GL7M5\n",
       " 94                   TSCA22           TC013-Tumor-SM-GL7NU\n",
       " \n",
       " [95 rows x 2 columns],\n",
       "    membership:sample_set_id                     sample_id\n",
       " 0                  TSCA22_T           AA53-Tumor-SM-GL7LQ\n",
       " 1                  TSCA22_T           AA61-Tumor-SM-GL7LF\n",
       " 2                  TSCA22_T    CCLF_AA1005-Tumor-SM-GL7NT\n",
       " 3                  TSCA22_T    CCLF_AA1005-Tumor-SM-GL7LE\n",
       " 4                  TSCA22_T    CCLF_AA1024-Tumor-SM-GL7LL\n",
       " 5                  TSCA22_T    CCLF_AA1001-Tumor-SM-GL7N2\n",
       " 6                  TSCA22_T    CCLF_AA1038-Tumor-SM-GL7NJ\n",
       " 7                  TSCA22_T    CCLF_AA1040-Tumor-SM-GL7MW\n",
       " 8                  TSCA22_T    CCLF_AB1004-Tumor-SM-GL7M3\n",
       " 9                  TSCA22_T    CCLF_AB1013-Tumor-SM-GL7MQ\n",
       " 10                 TSCA22_T    CCLF_AB1016-Tumor-SM-GL7LD\n",
       " 11                 TSCA22_T    CCLF_AB1017-Tumor-SM-GL7MG\n",
       " 12                 TSCA22_T    CCLF_AB1018-Tumor-SM-GL7NF\n",
       " 13                 TSCA22_T    CCLF_AB1027-Tumor-SM-GL7LO\n",
       " 14                 TSCA22_T    CCLF_AB1028-Tumor-SM-GL7NV\n",
       " 15                 TSCA22_T    CCLF_AB1027-Tumor-SM-GL7LI\n",
       " 16                 TSCA22_T    CCLF_AB1030-Tumor-SM-GL7LV\n",
       " 17                 TSCA22_T    CCLF_AB1031-Tumor-SM-GL7M8\n",
       " 18                 TSCA22_T    CCLF_AB1032-Tumor-SM-GL7NW\n",
       " 19                 TSCA22_T    CCLF_KL1023-Tumor-SM-GL7LG\n",
       " 20                 TSCA22_T    CCLF_KL1051-Tumor-SM-GL7NR\n",
       " 21                 TSCA22_T    CCLF_KL1051-Tumor-SM-GL7NH\n",
       " 22                 TSCA22_T    CCLF_KL1058-Tumor-SM-GL7NK\n",
       " 23                 TSCA22_T    CCLF_KL1073-Tumor-SM-GL7LP\n",
       " 24                 TSCA22_T    CCLF_KL1075-Tumor-SM-GL7MF\n",
       " 25                 TSCA22_T    CCLF_KL1076-Tumor-SM-GL7M7\n",
       " 26                 TSCA22_T    CCLF_KL1077-Tumor-SM-GL7N3\n",
       " 27                 TSCA22_T    CCLF_KL1082-Tumor-SM-GL7NP\n",
       " 28                 TSCA22_T    CCLF_KL1089-Tumor-SM-GL7MU\n",
       " 29                 TSCA22_T    CCLF_KL1091-Tumor-SM-GL7MP\n",
       " ..                      ...                           ...\n",
       " 64                 TSCA22_T  CCLF_RCRF1010-Tumor-SM-GL7MX\n",
       " 65                 TSCA22_T  CCLF_RCRF1010-Tumor-SM-GL7NA\n",
       " 66                 TSCA22_T  CCLF_RCRF1012-Tumor-SM-GL7MH\n",
       " 67                 TSCA22_T  CCLF_RCRF1013-Tumor-SM-GL7LW\n",
       " 68                 TSCA22_T  CCLF_RCRF1013-Tumor-SM-GL7M1\n",
       " 69                 TSCA22_T  CCLF_RCRF1013-Tumor-SM-GL7ML\n",
       " 70                 TSCA22_T  CCLF_RCRF1013-Tumor-SM-GL7M9\n",
       " 71                 TSCA22_T  CCLF_RCRF1014-Tumor-SM-GL7NI\n",
       " 72                 TSCA22_T  CCLF_RCRF1014-Tumor-SM-GL7LJ\n",
       " 73                 TSCA22_T  CCLF_RCRF1015-Tumor-SM-GL7N5\n",
       " 74                 TSCA22_T  CCLF_RCRF1015-Tumor-SM-GL7N6\n",
       " 75                 TSCA22_T  CCLF_RCRF1015-Tumor-SM-GL7LS\n",
       " 77                 TSCA22_T  CCLF_RCRF1018-Tumor-SM-GL7LH\n",
       " 78                 TSCA22_T    CCLF_SS1008-Tumor-SM-GL7MC\n",
       " 79                 TSCA22_T    CCLF_SS1009-Tumor-SM-GL7NQ\n",
       " 80                 TSCA22_T          CY014-Tumor-SM-GL7ME\n",
       " 81                 TSCA22_T          CY018-Tumor-SM-GL7N4\n",
       " 82                 TSCA22_T          CY018-Tumor-SM-GL7M2\n",
       " 83                 TSCA22_T          CY020-Tumor-SM-GL7LR\n",
       " 84                 TSCA22_T          CY020-Tumor-SM-GL7NG\n",
       " 85                 TSCA22_T          CY021-Tumor-SM-GL7MD\n",
       " 86                 TSCA22_T          EH031-Tumor-SM-GL7NX\n",
       " 87                 TSCA22_T          EH032-Tumor-SM-GL7LK\n",
       " 88                 TSCA22_T          EW012-Tumor-SM-GL7NM\n",
       " 89                 TSCA22_T          HG018-Tumor-SM-GL7NY\n",
       " 90                 TSCA22_T          HG018-Tumor-SM-GL7MK\n",
       " 91                 TSCA22_T  CCLF_RCRF1014-Tumor-SM-GL7MT\n",
       " 92                 TSCA22_T          TC011-Tumor-SM-GL7NS\n",
       " 93                 TSCA22_T          TC011-Tumor-SM-GL7M5\n",
       " 94                 TSCA22_T          TC013-Tumor-SM-GL7NU\n",
       " \n",
       " [89 rows x 2 columns],\n",
       "    membership:sample_set_id                      sample_id\n",
       " 48                 TSCA22_N  CCLF_PEDS1040-Normal-SM-GL7O1\n",
       " 49                 TSCA22_N  CCLF_PEDS1040-Normal-SM-GL7MM\n",
       " 50                 TSCA22_N  CCLF_PEDS1040-Normal-SM-GL7NC\n",
       " 55                 TSCA22_N  CCLF_PEDS1044-Normal-SM-GL7MY\n",
       " 60                 TSCA22_N  CCLF_PEDS1047-Normal-SM-GL7NO\n",
       " 76                 TSCA22_N  CCLF_RCRF1018-Normal-SM-GL7LT)"
      ]
     },
     "execution_count": 25,
     "metadata": {},
     "output_type": "execute_result"
    }
   ],
   "source": [
    "# fc_interface.prepare_patients_for_metadata_export(path_to_batch_samples_info, tsca_id)\n",
    "fc_interface.prepare_batch_sample_set_for_metadata_export(path_to_batch_samples_info, tsca_id)"
   ]
  },
  {
   "cell_type": "code",
   "execution_count": 22,
   "metadata": {},
   "outputs": [
    {
     "data": {
      "text/plain": [
       "'/xchip/clf/seq_data/processed_for_fh/tsca22_201710_SN0133069/tsca22_201710_SN0133069.import_samples.txt'"
      ]
     },
     "execution_count": 22,
     "metadata": {},
     "output_type": "execute_result"
    }
   ],
   "source": []
  },
  {
   "cell_type": "code",
   "execution_count": null,
   "metadata": {
    "collapsed": true
   },
   "outputs": [],
   "source": []
  }
 ],
 "metadata": {
  "kernelspec": {
   "display_name": "Python 3",
   "language": "python",
   "name": "python3"
  },
  "language_info": {
   "codemirror_mode": {
    "name": "ipython",
    "version": 3
   },
   "file_extension": ".py",
   "mimetype": "text/x-python",
   "name": "python",
   "nbconvert_exporter": "python",
   "pygments_lexer": "ipython3",
   "version": "3.6.1"
  }
 },
 "nbformat": 4,
 "nbformat_minor": 2
}
