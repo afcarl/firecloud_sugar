{
 "cells": [
  {
   "cell_type": "markdown",
   "metadata": {},
   "source": [
    "### Commands"
   ]
  },
  {
   "cell_type": "code",
   "execution_count": 7,
   "metadata": {
    "collapsed": true
   },
   "outputs": [],
   "source": [
    "from firecloud import api as firecloud_api\n",
    "import fc_interface"
   ]
  },
  {
   "cell_type": "code",
   "execution_count": 8,
   "metadata": {
    "collapsed": true
   },
   "outputs": [],
   "source": [
    "%load_ext autoreload\n",
    "%autoreload 2"
   ]
  },
  {
   "cell_type": "code",
   "execution_count": 9,
   "metadata": {
    "collapsed": true
   },
   "outputs": [],
   "source": [
    "### Parameters\n",
    "namespace = \"nci-mimoun-bi-org\"\n",
    "workspace = \"CCLF_TSCA\"\n",
    "paths_to_samples_info = \"paths_to_batches_info.xlsx\"\n",
    "google_bucket_id = \"fc-35446f22-ea37-483a-bd6c-5e9fc56851ff\""
   ]
  },
  {
   "cell_type": "code",
   "execution_count": null,
   "metadata": {
    "collapsed": true,
    "editable": false,
    "run_control": {
     "frozen": true
    }
   },
   "outputs": [],
   "source": [
    "### Delete unnecessary attributes in samples\n",
    "attrs = [\"annotate_variants_vcf\", \"annotate_variants_vcf_index\", \"oncotated_maf\", \"mutect2_vcf_index\", \"match_normal_oncotated_maf\", \"gnomad_vcf\", \"merged_vcfs\", \"match_primary_tumor_bam_file\"]\n",
    "for idx, row in all_samples.iterrows():\n",
    "    fc_interface.delete_entity_attributes(namespace, workspace, \"sample\", row['entity:sample_id'], attrs)"
   ]
  },
  {
   "cell_type": "code",
   "execution_count": 3,
   "metadata": {
    "editable": false,
    "run_control": {
     "frozen": true
    }
   },
   "outputs": [
    {
     "data": {
      "text/plain": [
       "<Response [200]>"
      ]
     },
     "execution_count": 3,
     "metadata": {},
     "output_type": "execute_result"
    }
   ],
   "source": [
    "### Delete method repostory\n",
    "firecloud_api.delete_repository_method('tsca', 'CreatePoN', 15)"
   ]
  },
  {
   "cell_type": "code",
   "execution_count": 16,
   "metadata": {
    "collapsed": true,
    "editable": false,
    "run_control": {
     "frozen": true
    }
   },
   "outputs": [],
   "source": [
    "### Delete method config\n",
    "firecloud_api.delete_workspace_config(namespace, workspace, \"tsca\", \"Mutect2_for_Normal\")"
   ]
  },
  {
   "cell_type": "code",
   "execution_count": 17,
   "metadata": {
    "editable": false,
    "run_control": {
     "frozen": true
    }
   },
   "outputs": [
    {
     "data": {
      "text/plain": [
       "<Response [200]>"
      ]
     },
     "execution_count": 17,
     "metadata": {},
     "output_type": "execute_result"
    }
   ],
   "source": [
    "### Delete method repository\n",
    "firecloud_api.delete_repository_method('tsca', 'Mutect2_for_Normal', 1)"
   ]
  },
  {
   "cell_type": "code",
   "execution_count": 42,
   "metadata": {
    "collapsed": true,
    "editable": false,
    "run_control": {
     "frozen": true
    }
   },
   "outputs": [],
   "source": [
    "### Delete multiple method repositories\n",
    "for i in range(10, 23):\n",
    "    firecloud_api.delete_repository_method('tsca', 'CreatePoN', i)"
   ]
  },
  {
   "cell_type": "code",
   "execution_count": null,
   "metadata": {
    "collapsed": true,
    "editable": false,
    "run_control": {
     "frozen": true
    }
   },
   "outputs": [],
   "source": [
    "### Create pairs\n",
    "all_samples = fc_interface.get_samples_multiple_batches(paths_to_samples_info, google_bucket_id)\n",
    "pairs_list = fc_interface.create_pairs_list(all_samples)\n",
    "blacklist = [\"DW039-Tumor-SM-DB2IF\"]\n",
    "clean_pairs_list = pairs_list[ ~pairs_list['case_sample_id'].isin(blacklist)]"
   ]
  },
  {
   "cell_type": "code",
   "execution_count": 18,
   "metadata": {
    "collapsed": true,
    "editable": false,
    "run_control": {
     "frozen": true
    }
   },
   "outputs": [],
   "source": [
    "### Upload pairs\n",
    "# res = fc_interface.upload_pairs(namespace, workspace, clean_pairs_list)"
   ]
  },
  {
   "cell_type": "code",
   "execution_count": 48,
   "metadata": {
    "editable": false,
    "run_control": {
     "frozen": true
    }
   },
   "outputs": [
    {
     "name": "stdout",
     "output_type": "stream",
     "text": [
      "65 Participants in this batch\n",
      "95 Samples in this batch\n"
     ]
    }
   ],
   "source": [
    "### Upload metadata for given batch\n",
    "fc_interface.update_batch_metadata('TSCA21', \\\n",
    "                                  '/xchip/clf/seq_data/processed_for_fh/tsca21_201708_SN0128552/tsca21_201708_SN0128552.import_samples.txt', \\\n",
    "                                      paths_to_samples_info, \\\n",
    "                                        namespace, workspace, google_bucket_id)"
   ]
  },
  {
   "cell_type": "code",
   "execution_count": 70,
   "metadata": {
    "editable": false,
    "run_control": {
     "frozen": true
    }
   },
   "outputs": [
    {
     "data": {
      "text/plain": [
       "<Response [204]>"
      ]
     },
     "execution_count": 70,
     "metadata": {},
     "output_type": "execute_result"
    }
   ],
   "source": [
    "### Delete sample_set\n",
    "fc_interface.delete_sample_set(namespace, workspace, 'TSCA1213')"
   ]
  },
  {
   "cell_type": "code",
   "execution_count": 74,
   "metadata": {
    "collapsed": true,
    "editable": false,
    "run_control": {
     "frozen": true
    }
   },
   "outputs": [],
   "source": [
    "### All paths to batch info\n",
    "# pd.read_excel('paths_to_batches_info.xlsx').path_to_samples_info.tolist()"
   ]
  },
  {
   "cell_type": "code",
   "execution_count": 94,
   "metadata": {
    "editable": false,
    "run_control": {
     "frozen": true
    }
   },
   "outputs": [
    {
     "name": "stdout",
     "output_type": "stream",
     "text": [
      "Creating panel of 157 normals\n"
     ]
    }
   ],
   "source": [
    "### Create cumulative PoN\n",
    "batches_info = pd.read_excel(paths_to_samples_info)\n",
    "PoN = fc_interface.create_panel_of_normals(batches_info.path_to_samples_info.tolist(), -1, 'CumPoN21')\n",
    "fc_interface.upload_pon(PoN, 'CumPoN21', namespace, workspace)"
   ]
  },
  {
   "cell_type": "code",
   "execution_count": 109,
   "metadata": {
    "editable": false,
    "run_control": {
     "frozen": true
    }
   },
   "outputs": [
    {
     "name": "stdout",
     "output_type": "stream",
     "text": [
      "Creating panel of 11 normals\n"
     ]
    },
    {
     "data": {
      "text/plain": [
       "<Response [200]>"
      ]
     },
     "execution_count": 109,
     "metadata": {},
     "output_type": "execute_result"
    }
   ],
   "source": [
    "### Create PoN from normals of only one batch\n",
    "tsca21_path = batches_info.path_to_samples_info.tolist()[-1]\n",
    "PoN = fc_interface.create_panel_of_normals([tsca21_path], -1, 'PoN_TSCA21_Normals')\n",
    "fc_interface.upload_pon(PoN, 'PoN_TSCA21_Normals', namespace, workspace)"
   ]
  },
  {
   "cell_type": "code",
   "execution_count": 102,
   "metadata": {
    "editable": false,
    "run_control": {
     "frozen": true
    }
   },
   "outputs": [
    {
     "data": {
      "text/plain": [
       "<Response [204]>"
      ]
     },
     "execution_count": 102,
     "metadata": {},
     "output_type": "execute_result"
    }
   ],
   "source": [
    "### Delete pair set\n",
    "fc_interface.delete_pair_set(namespace, workspace, 'TSCA1213')"
   ]
  },
  {
   "cell_type": "code",
   "execution_count": null,
   "metadata": {
    "collapsed": true,
    "editable": false,
    "run_control": {
     "frozen": true
    }
   },
   "outputs": [],
   "source": [
    "### Delete sample set\n",
    "fc_interface.delete_sample_set(namespace, workspace, 'TSCA1213')"
   ]
  },
  {
   "cell_type": "code",
   "execution_count": 20,
   "metadata": {
    "collapsed": true,
    "editable": false,
    "run_control": {
     "frozen": true
    }
   },
   "outputs": [],
   "source": [
    "### Download method configs\n",
    "fc_interface.download_method_configs(namespace, workspace)"
   ]
  },
  {
   "cell_type": "code",
   "execution_count": 145,
   "metadata": {
    "collapsed": true,
    "editable": false,
    "run_control": {
     "frozen": true
    }
   },
   "outputs": [],
   "source": [
    "### Upload pairsets\n",
    "tn_pairsets, tp_pairsets = fc_interface.create_pairsets(all_samples, clean_pairs_list)\n",
    "fc_interface.upload_pairsets(namespace, workspace, tn_pairsets, \"TN\")\n",
    "fc_interface.upload_pairsets(namespace, workspace, tp_pairsets, \"TP\")"
   ]
  },
  {
   "cell_type": "markdown",
   "metadata": {},
   "source": [
    "---"
   ]
  },
  {
   "cell_type": "markdown",
   "metadata": {},
   "source": [
    "---"
   ]
  },
  {
   "cell_type": "code",
   "execution_count": 4,
   "metadata": {
    "collapsed": true
   },
   "outputs": [],
   "source": [
    "all_samples = fc_interface.get_samples_multiple_batches(paths_to_samples_info, google_bucket_id)"
   ]
  },
  {
   "cell_type": "code",
   "execution_count": 1,
   "metadata": {
    "collapsed": true
   },
   "outputs": [],
   "source": [
    "all_paths = pd.read_excel('paths_to_batches_info.xlsx').path_to_samples_info.tolist()"
   ]
  },
  {
   "cell_type": "code",
   "execution_count": null,
   "metadata": {},
   "outputs": [
    {
     "name": "stdout",
     "output_type": "stream",
     "text": [
      "95 Samples in this batch\n",
      "> /Users/mimoun/production_fc/metadata_imports/fc_interface.py(290)prepare_batch_sample_set_for_metadata_export()\n",
      "-> tumors  = all_samples[ all_samples['sample_type'] == \"Tumor\"]\n",
      "(Pdb) all_samples\n",
      "   membership:sample_set_id sample_type                      sample_id\n",
      "0                    TSCA21      TSCA21            AA53-Tumor-SM-GBJ9E\n",
      "1                    TSCA21      TSCA21            AA55-Tumor-SM-GBJBF\n",
      "2                    TSCA21      TSCA21            AA56-Tumor-SM-GBJ92\n",
      "3                    TSCA21      TSCA21           AB059-Tumor-SM-GBJAS\n",
      "4                    TSCA21      TSCA21           AB059-Tumor-SM-GBJ9G\n",
      "5                    TSCA21      TSCA21          BT1016-Tumor-SM-GBJ9Q\n",
      "6                    TSCA21      TSCA21          BT1160-Tumor-SM-GBJBE\n",
      "7                    TSCA21      TSCA21          BT1160-Tumor-SM-GBJ9C\n",
      "8                    TSCA21      TSCA21           BT869-Tumor-SM-GBJ9O\n",
      "9                    TSCA21      TSCA21     CCLF_AA1016-Tumor-SM-GBJAG\n",
      "10                   TSCA21      TSCA21     CCLF_AA1019-Tumor-SM-GBJ91\n",
      "11                   TSCA21      TSCA21     CCLF_AA1022-Tumor-SM-GBJ9T\n",
      "12                   TSCA21      TSCA21     CCLF_AA1023-Tumor-SM-GBJ9H\n",
      "13                   TSCA21      TSCA21     CCLF_AA1024-Tumor-SM-GBJ93\n",
      "14                   TSCA21      TSCA21     CCLF_AA1026-Tumor-SM-GBJ9N\n",
      "15                   TSCA21      TSCA21            AA53-Tumor-SM-GBJAU\n",
      "16                   TSCA21      TSCA21     CCLF_AB1021-Tumor-SM-GBJ9P\n",
      "17                   TSCA21      TSCA21     CCLF_AB1022-Tumor-SM-GBJAQ\n",
      "18                   TSCA21      TSCA21     CCLF_AB1025-Tumor-SM-GBJBH\n",
      "19                   TSCA21      TSCA21     CCLF_AB1026-Tumor-SM-GBJ96\n",
      "20                   TSCA21      TSCA21     CCLF_JL1003-Tumor-SM-GBJB4\n",
      "21                   TSCA21      TSCA21     CCLF_KL1068-Tumor-SM-GBJBJ\n",
      "22                   TSCA21      TSCA21     CCLF_KL1073-Tumor-SM-GBJBG\n",
      "23                   TSCA21      TSCA21     CCLF_KL1075-Tumor-SM-GBJAR\n",
      "24                   TSCA21      TSCA21     CCLF_KL1076-Tumor-SM-GBJB5\n",
      "25                   TSCA21      TSCA21     CCLF_KL1077-Tumor-SM-GBJB7\n",
      "26                   TSCA21      TSCA21     CCLF_KL1100-Tumor-SM-GBJ9U\n",
      "27                   TSCA21      TSCA21     CCLF_KL1101-Tumor-SM-GBJ9I\n",
      "28                   TSCA21      TSCA21     CCLF_NH1002-Tumor-SM-GBJ9D\n",
      "29                   TSCA21      TSCA21     CCLF_NH1003-Tumor-SM-GBJA3\n",
      "..                      ...         ...                            ...\n",
      "65                   TSCA21      TSCA21   CCLF_RCRF1016-Tumor-SM-GBJB8\n",
      "66                   TSCA21      TSCA21  CCLF_RCRF1017-Normal-SM-GBJAJ\n",
      "67                   TSCA21      TSCA21   CCLF_RCRF1017-Tumor-SM-GBJA7\n",
      "68                   TSCA21      TSCA21          COL016-Tumor-SM-GBJ9B\n",
      "69                   TSCA21      TSCA21          COL016-Tumor-SM-GBJBO\n",
      "70                   TSCA21      TSCA21           CY013-Tumor-SM-GBJBD\n",
      "71                   TSCA21      TSCA21           CY016-Tumor-SM-GBJ9F\n",
      "72                   TSCA21      TSCA21           CY016-Tumor-SM-GBJA5\n",
      "73                   TSCA21      TSCA21           CY017-Tumor-SM-GBJA4\n",
      "74                   TSCA21      TSCA21           CY018-Tumor-SM-GBJAV\n",
      "75                   TSCA21      TSCA21           CY019-Tumor-SM-GBJA6\n",
      "76                   TSCA21      TSCA21           CY020-Tumor-SM-GBJ9R\n",
      "77                   TSCA21      TSCA21        SUDIPGIV-Tumor-SM-GBJB2\n",
      "78                   TSCA21      TSCA21      SUDIPGXIII-Tumor-SM-GBJA1\n",
      "79                   TSCA21      TSCA21      SUDIPGXVII-Tumor-SM-GBJAD\n",
      "80                   TSCA21      TSCA21       SUDIPGXXV-Tumor-SM-GBJAP\n",
      "81                   TSCA21      TSCA21           EH028-Tumor-SM-GBJAE\n",
      "82                   TSCA21      TSCA21          EH029-Normal-SM-GBJAT\n",
      "83                   TSCA21      TSCA21           EH029-Tumor-SM-GBJB6\n",
      "84                   TSCA21      TSCA21          EH030-Normal-SM-GBJBI\n",
      "85                   TSCA21      TSCA21           EH030-Tumor-SM-GBJ95\n",
      "86                   TSCA21      TSCA21           JL62-Normal-SM-GBJAO\n",
      "87                   TSCA21      TSCA21        PEDS063-Normal-SM-GBJB9\n",
      "88                   TSCA21      TSCA21         PEDS063-Tumor-SM-GBJAK\n",
      "89                   TSCA21      TSCA21         PEDS063-Tumor-SM-GBJ9W\n",
      "90                   TSCA21      TSCA21        PEDS105-Normal-SM-GBJ9V\n",
      "91                   TSCA21      TSCA21        PEDS105-Normal-SM-GBJBP\n",
      "92                   TSCA21      TSCA21         PEDS142-Tumor-SM-GBJAW\n",
      "93                   TSCA21      TSCA21           TC011-Tumor-SM-GBJA2\n",
      "94                   TSCA21      TSCA21           TC012-Tumor-SM-GBJ9Y\n",
      "\n",
      "[95 rows x 3 columns]\n"
     ]
    }
   ],
   "source": [
    "tsca_21 = fc_interface.prepare_batch_sample_set_for_metadata_export(all_paths[-1], 'TSCA21')"
   ]
  },
  {
   "cell_type": "code",
   "execution_count": null,
   "metadata": {
    "collapsed": true
   },
   "outputs": [],
   "source": []
  },
  {
   "cell_type": "code",
   "execution_count": null,
   "metadata": {
    "collapsed": true
   },
   "outputs": [],
   "source": []
  }
 ],
 "metadata": {
  "kernelspec": {
   "display_name": "Python 3",
   "language": "python",
   "name": "python3"
  },
  "language_info": {
   "codemirror_mode": {
    "name": "ipython",
    "version": 3
   },
   "file_extension": ".py",
   "mimetype": "text/x-python",
   "name": "python",
   "nbconvert_exporter": "python",
   "pygments_lexer": "ipython3",
   "version": "3.6.1"
  }
 },
 "nbformat": 4,
 "nbformat_minor": 2
}
