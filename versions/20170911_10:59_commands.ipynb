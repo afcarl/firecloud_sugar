{
 "cells": [
  {
   "cell_type": "markdown",
   "metadata": {},
   "source": [
    "### Commands"
   ]
  },
  {
   "cell_type": "code",
   "execution_count": 1,
   "metadata": {
    "collapsed": true
   },
   "outputs": [],
   "source": [
    "from firecloud import api as firecloud_api\n",
    "import fc_interface"
   ]
  },
  {
   "cell_type": "code",
   "execution_count": 2,
   "metadata": {
    "collapsed": true
   },
   "outputs": [],
   "source": [
    "%load_ext autoreload\n",
    "%autoreload 2"
   ]
  },
  {
   "cell_type": "code",
   "execution_count": 3,
   "metadata": {
    "collapsed": true
   },
   "outputs": [],
   "source": [
    "### Parameters\n",
    "namespace = \"nci-mimoun-bi-org\"\n",
    "workspace = \"CCLF_TSCA\"\n",
    "paths_to_samples_info = \"paths_to_batches_info.xlsx\"\n",
    "google_bucket_id = \"fc-35446f22-ea37-483a-bd6c-5e9fc56851ff\""
   ]
  },
  {
   "cell_type": "code",
   "execution_count": null,
   "metadata": {
    "collapsed": true,
    "editable": false,
    "run_control": {
     "frozen": true
    }
   },
   "outputs": [],
   "source": [
    "### Delete unnecessary attributes in samples\n",
    "attrs = [\"annotate_variants_vcf\", \"annotate_variants_vcf_index\", \"oncotated_maf\", \"mutect2_vcf_index\", \"match_normal_oncotated_maf\", \"gnomad_vcf\", \"merged_vcfs\", \"match_primary_tumor_bam_file\"]\n",
    "for idx, row in all_samples.iterrows():\n",
    "    fc_interface.delete_entity_attributes(namespace, workspace, \"sample\", row['entity:sample_id'], attrs)"
   ]
  },
  {
   "cell_type": "code",
   "execution_count": 3,
   "metadata": {
    "editable": false,
    "run_control": {
     "frozen": true
    }
   },
   "outputs": [
    {
     "data": {
      "text/plain": [
       "<Response [200]>"
      ]
     },
     "execution_count": 3,
     "metadata": {},
     "output_type": "execute_result"
    }
   ],
   "source": [
    "### Delete method repostory\n",
    "firecloud_api.delete_repository_method('tsca', 'CreatePoN', 15)"
   ]
  },
  {
   "cell_type": "code",
   "execution_count": 17,
   "metadata": {
    "editable": false,
    "run_control": {
     "frozen": true
    }
   },
   "outputs": [
    {
     "data": {
      "text/plain": [
       "<Response [200]>"
      ]
     },
     "execution_count": 17,
     "metadata": {},
     "output_type": "execute_result"
    }
   ],
   "source": [
    "### Delete method repository\n",
    "firecloud_api.delete_repository_method('tsca', 'Mutect2_for_Normal', 1)"
   ]
  },
  {
   "cell_type": "code",
   "execution_count": 42,
   "metadata": {
    "collapsed": true,
    "editable": false,
    "run_control": {
     "frozen": true
    }
   },
   "outputs": [],
   "source": [
    "### Delete multiple method repositories\n",
    "for i in range(10, 23):\n",
    "    firecloud_api.delete_repository_method('tsca', 'CreatePoN', i)"
   ]
  },
  {
   "cell_type": "code",
   "execution_count": 16,
   "metadata": {
    "collapsed": true,
    "editable": false,
    "run_control": {
     "frozen": true
    }
   },
   "outputs": [],
   "source": [
    "### Delete method config\n",
    "firecloud_api.delete_workspace_config(namespace, workspace, \"tsca\", \"Mutect2_for_Normal\")"
   ]
  },
  {
   "cell_type": "code",
   "execution_count": null,
   "metadata": {
    "collapsed": true,
    "editable": false,
    "run_control": {
     "frozen": true
    }
   },
   "outputs": [],
   "source": [
    "### Create pairs\n",
    "all_samples = fc_interface.get_samples_multiple_batches(paths_to_samples_info, google_bucket_id)\n",
    "pairs_list = fc_interface.create_pairs_list(all_samples)\n",
    "blacklist = [\"DW039-Tumor-SM-DB2IF\"]\n",
    "clean_pairs_list = pairs_list[ ~pairs_list['case_sample_id'].isin(blacklist)]"
   ]
  },
  {
   "cell_type": "code",
   "execution_count": 18,
   "metadata": {
    "collapsed": true,
    "editable": false,
    "run_control": {
     "frozen": true
    }
   },
   "outputs": [],
   "source": [
    "### Upload pairs\n",
    "# res = fc_interface.upload_pairs(namespace, workspace, clean_pairs_list)"
   ]
  },
  {
   "cell_type": "code",
   "execution_count": 54,
   "metadata": {
    "editable": false,
    "run_control": {
     "frozen": true
    }
   },
   "outputs": [],
   "source": [
    "### Delete unnecessary attributes in pairs\n",
    "all_samples = fc_interface.get_samples_multiple_batches(paths_to_samples_info, google_bucket_id)\n",
    "pairs_list = fc_interface.create_pairs_list(all_samples)\n",
    "attrs = [\"__annotate_variants_vcf\", \"__annotate_variants_vcf_index\", \\\n",
    "         \"__scattered_intervals\", \"__tmp_mutect_vcf2\", \"_tmp_mutect_vcf_index2\", \\\n",
    "         \"__tmp_mutect_vcf2\", \"_tmp_mutect_vcf_index2\"]\n",
    "for idx, row in pairs_list.iterrows():\n",
    "    fc_interface.delete_entity_attributes(namespace, workspace, \"pair\", row['entity:pair_id'], attrs)"
   ]
  },
  {
   "cell_type": "code",
   "execution_count": 48,
   "metadata": {
    "editable": false,
    "run_control": {
     "frozen": true
    }
   },
   "outputs": [
    {
     "name": "stdout",
     "output_type": "stream",
     "text": [
      "65 Participants in this batch\n",
      "95 Samples in this batch\n"
     ]
    }
   ],
   "source": [
    "### Upload metadata for given batch\n",
    "fc_interface.update_batch_metadata('TSCA21', \\\n",
    "                                  '/xchip/clf/seq_data/processed_for_fh/tsca21_201708_SN0128552/tsca21_201708_SN0128552.import_samples.txt', \\\n",
    "                                      paths_to_samples_info, \\\n",
    "                                        namespace, workspace, google_bucket_id)"
   ]
  },
  {
   "cell_type": "code",
   "execution_count": 70,
   "metadata": {
    "editable": false,
    "run_control": {
     "frozen": true
    }
   },
   "outputs": [
    {
     "data": {
      "text/plain": [
       "<Response [204]>"
      ]
     },
     "execution_count": 70,
     "metadata": {},
     "output_type": "execute_result"
    }
   ],
   "source": [
    "### Delete sample_set\n",
    "fc_interface.delete_sample_set(namespace, workspace, 'TSCA1213')"
   ]
  },
  {
   "cell_type": "code",
   "execution_count": 74,
   "metadata": {
    "collapsed": true,
    "editable": false,
    "run_control": {
     "frozen": true
    }
   },
   "outputs": [],
   "source": [
    "### All paths to batch info\n",
    "# pd.read_excel('paths_to_batches_info.xlsx').path_to_samples_info.tolist()"
   ]
  },
  {
   "cell_type": "code",
   "execution_count": 94,
   "metadata": {
    "editable": false,
    "run_control": {
     "frozen": true
    }
   },
   "outputs": [
    {
     "name": "stdout",
     "output_type": "stream",
     "text": [
      "Creating panel of 157 normals\n"
     ]
    }
   ],
   "source": [
    "### Create cumulative PoN\n",
    "batches_info = pd.read_excel(paths_to_samples_info)\n",
    "PoN = fc_interface.create_panel_of_normals(batches_info.path_to_samples_info.tolist(), -1, 'CumPoN21')\n",
    "fc_interface.upload_pon(PoN, 'CumPoN21', namespace, workspace)"
   ]
  },
  {
   "cell_type": "code",
   "execution_count": 109,
   "metadata": {
    "editable": false,
    "run_control": {
     "frozen": true
    }
   },
   "outputs": [
    {
     "name": "stdout",
     "output_type": "stream",
     "text": [
      "Creating panel of 11 normals\n"
     ]
    },
    {
     "data": {
      "text/plain": [
       "<Response [200]>"
      ]
     },
     "execution_count": 109,
     "metadata": {},
     "output_type": "execute_result"
    }
   ],
   "source": [
    "### Create PoN from normals of only one batch\n",
    "tsca21_path = batches_info.path_to_samples_info.tolist()[-1]\n",
    "PoN = fc_interface.create_panel_of_normals([tsca21_path], -1, 'PoN_TSCA21_Normals')\n",
    "fc_interface.upload_pon(PoN, 'PoN_TSCA21_Normals', namespace, workspace)"
   ]
  },
  {
   "cell_type": "code",
   "execution_count": 102,
   "metadata": {
    "editable": false,
    "run_control": {
     "frozen": true
    }
   },
   "outputs": [
    {
     "data": {
      "text/plain": [
       "<Response [204]>"
      ]
     },
     "execution_count": 102,
     "metadata": {},
     "output_type": "execute_result"
    }
   ],
   "source": [
    "### Delete pair set\n",
    "fc_interface.delete_pair_set(namespace, workspace, 'TSCA1213')"
   ]
  },
  {
   "cell_type": "code",
   "execution_count": null,
   "metadata": {
    "collapsed": true,
    "editable": false,
    "run_control": {
     "frozen": true
    }
   },
   "outputs": [],
   "source": [
    "### Delete sample set\n",
    "fc_interface.delete_sample_set(namespace, workspace, 'TSCA1213')"
   ]
  },
  {
   "cell_type": "code",
   "execution_count": 20,
   "metadata": {
    "collapsed": true,
    "editable": false,
    "run_control": {
     "frozen": true
    }
   },
   "outputs": [],
   "source": [
    "### Download method configs\n",
    "fc_interface.download_method_configs(namespace, workspace)"
   ]
  },
  {
   "cell_type": "code",
   "execution_count": 145,
   "metadata": {
    "collapsed": true,
    "editable": false,
    "run_control": {
     "frozen": true
    }
   },
   "outputs": [],
   "source": [
    "### Upload pairsets\n",
    "tn_pairsets, tp_pairsets = fc_interface.create_pairsets(all_samples, clean_pairs_list)\n",
    "fc_interface.upload_pairsets(namespace, workspace, tn_pairsets, \"TN\")\n",
    "fc_interface.upload_pairsets(namespace, workspace, tp_pairsets, \"TP\")"
   ]
  },
  {
   "cell_type": "markdown",
   "metadata": {},
   "source": [
    "---"
   ]
  },
  {
   "cell_type": "markdown",
   "metadata": {},
   "source": [
    "---"
   ]
  },
  {
   "cell_type": "code",
   "execution_count": 4,
   "metadata": {
    "collapsed": true
   },
   "outputs": [],
   "source": [
    "# all_samples = fc_interface.get_samples_multiple_batches(paths_to_samples_info, google_bucket_id)\n",
    "\n",
    "# all_paths_df = pd.read_excel('paths_to_batches_info.xlsx')\n",
    "\n",
    "# # for idx, row in all_paths_df.iterrows():\n",
    "# #     fc_interface.prepare_batch_sample_set_for_metadata_export(row.path_to_samples_info, row.tsca_id);\n",
    "# #     tsca_id = row.tsca_id\n",
    "# #     tumors_sample_set_metadata  = \"%s/fc_upload_sample_set_tsca_%s_tumors.txt\" % (tsca_id, tsca_id)\n",
    "# #     normals_sample_set_metadata = \"%s/fc_upload_sample_set_tsca_%s_normals.txt\" % (tsca_id, tsca_id)\n",
    "# #     res = fc_interface.upload_entities_from_tsv(namespace, workspace, tumors_sample_set_metadata)\n",
    "# #     res = fc_interface.upload_entities_from_tsv(namespace, workspace, normals_sample_set_metadata)"
   ]
  },
  {
   "cell_type": "code",
   "execution_count": 57,
   "metadata": {},
   "outputs": [],
   "source": [
    "attrs = ['__tmp_mutect_vcf_index2']\n",
    "res = fc_interface.delete_entity_attributes(namespace, workspace, \"pair\", \"TC012-Tumor-SM-GBJ9Y_NA_TP\", attrs)"
   ]
  },
  {
   "cell_type": "code",
   "execution_count": 59,
   "metadata": {},
   "outputs": [
    {
     "data": {
      "text/plain": [
       "{'attributes': {'__tmp__mutect_vcf': {'items': ['gs://fc-35446f22-ea37-483a-bd6c-5e9fc56851ff/36bb75b3-ef48-4fd1-8c87-da12cef37cc3/Mutect2/e6b068ba-013d-4ae6-8c1b-1088f23e9e7e/call-mutect2TumorNormal/shard-0/TC012-Tumor-SM-GBJ9Y.output.vcf.gz',\n",
       "    'gs://fc-35446f22-ea37-483a-bd6c-5e9fc56851ff/36bb75b3-ef48-4fd1-8c87-da12cef37cc3/Mutect2/e6b068ba-013d-4ae6-8c1b-1088f23e9e7e/call-mutect2TumorNormal/shard-1/TC012-Tumor-SM-GBJ9Y.output.vcf.gz',\n",
       "    'gs://fc-35446f22-ea37-483a-bd6c-5e9fc56851ff/36bb75b3-ef48-4fd1-8c87-da12cef37cc3/Mutect2/e6b068ba-013d-4ae6-8c1b-1088f23e9e7e/call-mutect2TumorNormal/shard-2/TC012-Tumor-SM-GBJ9Y.output.vcf.gz',\n",
       "    'gs://fc-35446f22-ea37-483a-bd6c-5e9fc56851ff/36bb75b3-ef48-4fd1-8c87-da12cef37cc3/Mutect2/e6b068ba-013d-4ae6-8c1b-1088f23e9e7e/call-mutect2TumorNormal/shard-3/TC012-Tumor-SM-GBJ9Y.output.vcf.gz',\n",
       "    'gs://fc-35446f22-ea37-483a-bd6c-5e9fc56851ff/36bb75b3-ef48-4fd1-8c87-da12cef37cc3/Mutect2/e6b068ba-013d-4ae6-8c1b-1088f23e9e7e/call-mutect2TumorNormal/shard-4/TC012-Tumor-SM-GBJ9Y.output.vcf.gz',\n",
       "    'gs://fc-35446f22-ea37-483a-bd6c-5e9fc56851ff/36bb75b3-ef48-4fd1-8c87-da12cef37cc3/Mutect2/e6b068ba-013d-4ae6-8c1b-1088f23e9e7e/call-mutect2TumorNormal/shard-5/TC012-Tumor-SM-GBJ9Y.output.vcf.gz',\n",
       "    'gs://fc-35446f22-ea37-483a-bd6c-5e9fc56851ff/36bb75b3-ef48-4fd1-8c87-da12cef37cc3/Mutect2/e6b068ba-013d-4ae6-8c1b-1088f23e9e7e/call-mutect2TumorNormal/shard-6/TC012-Tumor-SM-GBJ9Y.output.vcf.gz',\n",
       "    'gs://fc-35446f22-ea37-483a-bd6c-5e9fc56851ff/36bb75b3-ef48-4fd1-8c87-da12cef37cc3/Mutect2/e6b068ba-013d-4ae6-8c1b-1088f23e9e7e/call-mutect2TumorNormal/shard-7/TC012-Tumor-SM-GBJ9Y.output.vcf.gz',\n",
       "    'gs://fc-35446f22-ea37-483a-bd6c-5e9fc56851ff/36bb75b3-ef48-4fd1-8c87-da12cef37cc3/Mutect2/e6b068ba-013d-4ae6-8c1b-1088f23e9e7e/call-mutect2TumorNormal/shard-8/TC012-Tumor-SM-GBJ9Y.output.vcf.gz',\n",
       "    'gs://fc-35446f22-ea37-483a-bd6c-5e9fc56851ff/36bb75b3-ef48-4fd1-8c87-da12cef37cc3/Mutect2/e6b068ba-013d-4ae6-8c1b-1088f23e9e7e/call-mutect2TumorNormal/shard-9/TC012-Tumor-SM-GBJ9Y.output.vcf.gz',\n",
       "    'gs://fc-35446f22-ea37-483a-bd6c-5e9fc56851ff/36bb75b3-ef48-4fd1-8c87-da12cef37cc3/Mutect2/e6b068ba-013d-4ae6-8c1b-1088f23e9e7e/call-mutect2TumorNormal/shard-10/TC012-Tumor-SM-GBJ9Y.output.vcf.gz',\n",
       "    'gs://fc-35446f22-ea37-483a-bd6c-5e9fc56851ff/36bb75b3-ef48-4fd1-8c87-da12cef37cc3/Mutect2/e6b068ba-013d-4ae6-8c1b-1088f23e9e7e/call-mutect2TumorNormal/shard-11/TC012-Tumor-SM-GBJ9Y.output.vcf.gz',\n",
       "    'gs://fc-35446f22-ea37-483a-bd6c-5e9fc56851ff/36bb75b3-ef48-4fd1-8c87-da12cef37cc3/Mutect2/e6b068ba-013d-4ae6-8c1b-1088f23e9e7e/call-mutect2TumorNormal/shard-12/TC012-Tumor-SM-GBJ9Y.output.vcf.gz',\n",
       "    'gs://fc-35446f22-ea37-483a-bd6c-5e9fc56851ff/36bb75b3-ef48-4fd1-8c87-da12cef37cc3/Mutect2/e6b068ba-013d-4ae6-8c1b-1088f23e9e7e/call-mutect2TumorNormal/shard-13/TC012-Tumor-SM-GBJ9Y.output.vcf.gz',\n",
       "    'gs://fc-35446f22-ea37-483a-bd6c-5e9fc56851ff/36bb75b3-ef48-4fd1-8c87-da12cef37cc3/Mutect2/e6b068ba-013d-4ae6-8c1b-1088f23e9e7e/call-mutect2TumorNormal/shard-14/TC012-Tumor-SM-GBJ9Y.output.vcf.gz',\n",
       "    'gs://fc-35446f22-ea37-483a-bd6c-5e9fc56851ff/36bb75b3-ef48-4fd1-8c87-da12cef37cc3/Mutect2/e6b068ba-013d-4ae6-8c1b-1088f23e9e7e/call-mutect2TumorNormal/shard-15/TC012-Tumor-SM-GBJ9Y.output.vcf.gz',\n",
       "    'gs://fc-35446f22-ea37-483a-bd6c-5e9fc56851ff/36bb75b3-ef48-4fd1-8c87-da12cef37cc3/Mutect2/e6b068ba-013d-4ae6-8c1b-1088f23e9e7e/call-mutect2TumorNormal/shard-16/TC012-Tumor-SM-GBJ9Y.output.vcf.gz',\n",
       "    'gs://fc-35446f22-ea37-483a-bd6c-5e9fc56851ff/36bb75b3-ef48-4fd1-8c87-da12cef37cc3/Mutect2/e6b068ba-013d-4ae6-8c1b-1088f23e9e7e/call-mutect2TumorNormal/shard-17/TC012-Tumor-SM-GBJ9Y.output.vcf.gz',\n",
       "    'gs://fc-35446f22-ea37-483a-bd6c-5e9fc56851ff/36bb75b3-ef48-4fd1-8c87-da12cef37cc3/Mutect2/e6b068ba-013d-4ae6-8c1b-1088f23e9e7e/call-mutect2TumorNormal/shard-18/TC012-Tumor-SM-GBJ9Y.output.vcf.gz',\n",
       "    'gs://fc-35446f22-ea37-483a-bd6c-5e9fc56851ff/36bb75b3-ef48-4fd1-8c87-da12cef37cc3/Mutect2/e6b068ba-013d-4ae6-8c1b-1088f23e9e7e/call-mutect2TumorNormal/shard-19/TC012-Tumor-SM-GBJ9Y.output.vcf.gz'],\n",
       "   'itemsType': 'AttributeValue'},\n",
       "  '__tmp__mutect_vcf_index': {'items': ['gs://fc-35446f22-ea37-483a-bd6c-5e9fc56851ff/36bb75b3-ef48-4fd1-8c87-da12cef37cc3/Mutect2/e6b068ba-013d-4ae6-8c1b-1088f23e9e7e/call-mutect2TumorNormal/shard-0/TC012-Tumor-SM-GBJ9Y.output.vcf.gz.tbi',\n",
       "    'gs://fc-35446f22-ea37-483a-bd6c-5e9fc56851ff/36bb75b3-ef48-4fd1-8c87-da12cef37cc3/Mutect2/e6b068ba-013d-4ae6-8c1b-1088f23e9e7e/call-mutect2TumorNormal/shard-1/TC012-Tumor-SM-GBJ9Y.output.vcf.gz.tbi',\n",
       "    'gs://fc-35446f22-ea37-483a-bd6c-5e9fc56851ff/36bb75b3-ef48-4fd1-8c87-da12cef37cc3/Mutect2/e6b068ba-013d-4ae6-8c1b-1088f23e9e7e/call-mutect2TumorNormal/shard-2/TC012-Tumor-SM-GBJ9Y.output.vcf.gz.tbi',\n",
       "    'gs://fc-35446f22-ea37-483a-bd6c-5e9fc56851ff/36bb75b3-ef48-4fd1-8c87-da12cef37cc3/Mutect2/e6b068ba-013d-4ae6-8c1b-1088f23e9e7e/call-mutect2TumorNormal/shard-3/TC012-Tumor-SM-GBJ9Y.output.vcf.gz.tbi',\n",
       "    'gs://fc-35446f22-ea37-483a-bd6c-5e9fc56851ff/36bb75b3-ef48-4fd1-8c87-da12cef37cc3/Mutect2/e6b068ba-013d-4ae6-8c1b-1088f23e9e7e/call-mutect2TumorNormal/shard-4/TC012-Tumor-SM-GBJ9Y.output.vcf.gz.tbi',\n",
       "    'gs://fc-35446f22-ea37-483a-bd6c-5e9fc56851ff/36bb75b3-ef48-4fd1-8c87-da12cef37cc3/Mutect2/e6b068ba-013d-4ae6-8c1b-1088f23e9e7e/call-mutect2TumorNormal/shard-5/TC012-Tumor-SM-GBJ9Y.output.vcf.gz.tbi',\n",
       "    'gs://fc-35446f22-ea37-483a-bd6c-5e9fc56851ff/36bb75b3-ef48-4fd1-8c87-da12cef37cc3/Mutect2/e6b068ba-013d-4ae6-8c1b-1088f23e9e7e/call-mutect2TumorNormal/shard-6/TC012-Tumor-SM-GBJ9Y.output.vcf.gz.tbi',\n",
       "    'gs://fc-35446f22-ea37-483a-bd6c-5e9fc56851ff/36bb75b3-ef48-4fd1-8c87-da12cef37cc3/Mutect2/e6b068ba-013d-4ae6-8c1b-1088f23e9e7e/call-mutect2TumorNormal/shard-7/TC012-Tumor-SM-GBJ9Y.output.vcf.gz.tbi',\n",
       "    'gs://fc-35446f22-ea37-483a-bd6c-5e9fc56851ff/36bb75b3-ef48-4fd1-8c87-da12cef37cc3/Mutect2/e6b068ba-013d-4ae6-8c1b-1088f23e9e7e/call-mutect2TumorNormal/shard-8/TC012-Tumor-SM-GBJ9Y.output.vcf.gz.tbi',\n",
       "    'gs://fc-35446f22-ea37-483a-bd6c-5e9fc56851ff/36bb75b3-ef48-4fd1-8c87-da12cef37cc3/Mutect2/e6b068ba-013d-4ae6-8c1b-1088f23e9e7e/call-mutect2TumorNormal/shard-9/TC012-Tumor-SM-GBJ9Y.output.vcf.gz.tbi',\n",
       "    'gs://fc-35446f22-ea37-483a-bd6c-5e9fc56851ff/36bb75b3-ef48-4fd1-8c87-da12cef37cc3/Mutect2/e6b068ba-013d-4ae6-8c1b-1088f23e9e7e/call-mutect2TumorNormal/shard-10/TC012-Tumor-SM-GBJ9Y.output.vcf.gz.tbi',\n",
       "    'gs://fc-35446f22-ea37-483a-bd6c-5e9fc56851ff/36bb75b3-ef48-4fd1-8c87-da12cef37cc3/Mutect2/e6b068ba-013d-4ae6-8c1b-1088f23e9e7e/call-mutect2TumorNormal/shard-11/TC012-Tumor-SM-GBJ9Y.output.vcf.gz.tbi',\n",
       "    'gs://fc-35446f22-ea37-483a-bd6c-5e9fc56851ff/36bb75b3-ef48-4fd1-8c87-da12cef37cc3/Mutect2/e6b068ba-013d-4ae6-8c1b-1088f23e9e7e/call-mutect2TumorNormal/shard-12/TC012-Tumor-SM-GBJ9Y.output.vcf.gz.tbi',\n",
       "    'gs://fc-35446f22-ea37-483a-bd6c-5e9fc56851ff/36bb75b3-ef48-4fd1-8c87-da12cef37cc3/Mutect2/e6b068ba-013d-4ae6-8c1b-1088f23e9e7e/call-mutect2TumorNormal/shard-13/TC012-Tumor-SM-GBJ9Y.output.vcf.gz.tbi',\n",
       "    'gs://fc-35446f22-ea37-483a-bd6c-5e9fc56851ff/36bb75b3-ef48-4fd1-8c87-da12cef37cc3/Mutect2/e6b068ba-013d-4ae6-8c1b-1088f23e9e7e/call-mutect2TumorNormal/shard-14/TC012-Tumor-SM-GBJ9Y.output.vcf.gz.tbi',\n",
       "    'gs://fc-35446f22-ea37-483a-bd6c-5e9fc56851ff/36bb75b3-ef48-4fd1-8c87-da12cef37cc3/Mutect2/e6b068ba-013d-4ae6-8c1b-1088f23e9e7e/call-mutect2TumorNormal/shard-15/TC012-Tumor-SM-GBJ9Y.output.vcf.gz.tbi',\n",
       "    'gs://fc-35446f22-ea37-483a-bd6c-5e9fc56851ff/36bb75b3-ef48-4fd1-8c87-da12cef37cc3/Mutect2/e6b068ba-013d-4ae6-8c1b-1088f23e9e7e/call-mutect2TumorNormal/shard-16/TC012-Tumor-SM-GBJ9Y.output.vcf.gz.tbi',\n",
       "    'gs://fc-35446f22-ea37-483a-bd6c-5e9fc56851ff/36bb75b3-ef48-4fd1-8c87-da12cef37cc3/Mutect2/e6b068ba-013d-4ae6-8c1b-1088f23e9e7e/call-mutect2TumorNormal/shard-17/TC012-Tumor-SM-GBJ9Y.output.vcf.gz.tbi',\n",
       "    'gs://fc-35446f22-ea37-483a-bd6c-5e9fc56851ff/36bb75b3-ef48-4fd1-8c87-da12cef37cc3/Mutect2/e6b068ba-013d-4ae6-8c1b-1088f23e9e7e/call-mutect2TumorNormal/shard-18/TC012-Tumor-SM-GBJ9Y.output.vcf.gz.tbi',\n",
       "    'gs://fc-35446f22-ea37-483a-bd6c-5e9fc56851ff/36bb75b3-ef48-4fd1-8c87-da12cef37cc3/Mutect2/e6b068ba-013d-4ae6-8c1b-1088f23e9e7e/call-mutect2TumorNormal/shard-19/TC012-Tumor-SM-GBJ9Y.output.vcf.gz.tbi'],\n",
       "   'itemsType': 'AttributeValue'},\n",
       "  'case_sample': {'entityName': 'TC012-Tumor-SM-GBJ9Y',\n",
       "   'entityType': 'sample'},\n",
       "  'case_sample_tsca_id': 'TSCA21',\n",
       "  'control_sample': {'entityName': 'NA', 'entityType': 'sample'},\n",
       "  'match_type': 'tumor_primary',\n",
       "  'mutect2_tsv': 'gs://fc-35446f22-ea37-483a-bd6c-5e9fc56851ff/f9238087-88c6-40df-96a3-cd4ece6a4db3/Mutect2/88a7ae4d-d8a3-41b5-8cac-94a6f6133b02/call-vcf2table/TC012-Tumor-SM-GBJ9Y.mutect2.tsv',\n",
       "  'mutect2_vcf': 'gs://fc-35446f22-ea37-483a-bd6c-5e9fc56851ff/f9238087-88c6-40df-96a3-cd4ece6a4db3/Mutect2/88a7ae4d-d8a3-41b5-8cac-94a6f6133b02/call-gatherVCFs/TC012-Tumor-SM-GBJ9Y.mutect2.vcf',\n",
       "  'mutect2_vcf_index': 'gs://fc-35446f22-ea37-483a-bd6c-5e9fc56851ff/f9238087-88c6-40df-96a3-cd4ece6a4db3/Mutect2/88a7ae4d-d8a3-41b5-8cac-94a6f6133b02/call-gatherVCFs/TC012-Tumor-SM-GBJ9Y.mutect2.vcf.idx',\n",
       "  'participant': {'entityName': 'TC012', 'entityType': 'participant'}},\n",
       " 'entityType': 'pair',\n",
       " 'name': 'TC012-Tumor-SM-GBJ9Y_NA_TP'}"
      ]
     },
     "execution_count": 59,
     "metadata": {},
     "output_type": "execute_result"
    }
   ],
   "source": [
    "res.json()"
   ]
  },
  {
   "cell_type": "code",
   "execution_count": null,
   "metadata": {
    "collapsed": true
   },
   "outputs": [],
   "source": []
  }
 ],
 "metadata": {
  "kernelspec": {
   "display_name": "Python 3",
   "language": "python",
   "name": "python3"
  },
  "language_info": {
   "codemirror_mode": {
    "name": "ipython",
    "version": 3
   },
   "file_extension": ".py",
   "mimetype": "text/x-python",
   "name": "python",
   "nbconvert_exporter": "python",
   "pygments_lexer": "ipython3",
   "version": "3.6.1"
  }
 },
 "nbformat": 4,
 "nbformat_minor": 2
}
