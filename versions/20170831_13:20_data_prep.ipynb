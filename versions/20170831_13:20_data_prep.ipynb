{
 "cells": [
  {
   "cell_type": "code",
   "execution_count": 3,
   "metadata": {},
   "outputs": [],
   "source": [
    "# pd.read_table(\"/xchip/clf/seq_data/processed_for_fh/tsca20_201707_SN0125362/tsca20_201707_SN0125362.import_samples.txt\")"
   ]
  },
  {
   "cell_type": "code",
   "execution_count": 21,
   "metadata": {},
   "outputs": [],
   "source": [
    "import fc_interface"
   ]
  },
  {
   "cell_type": "code",
   "execution_count": 22,
   "metadata": {},
   "outputs": [
    {
     "name": "stdout",
     "output_type": "stream",
     "text": [
      "The autoreload extension is already loaded. To reload it, use:\n",
      "  %reload_ext autoreload\n"
     ]
    }
   ],
   "source": [
    "%load_ext autoreload\n",
    "%autoreload 2"
   ]
  },
  {
   "cell_type": "code",
   "execution_count": 36,
   "metadata": {
    "collapsed": true
   },
   "outputs": [],
   "source": [
    "paths_to_batches_info = pd.read_excel(\"paths_to_batches_info.xlsx\")\n",
    "google_bucket_id = \"fc-35446f22-ea37-483a-bd6c-5e9fc56851ff\"\n",
    "namespace = \"nci-mimoun-bi-org\"\n",
    "workspace = \"CCLF_TSCA\""
   ]
  },
  {
   "cell_type": "code",
   "execution_count": 18,
   "metadata": {},
   "outputs": [],
   "source": [
    "all_samples = fc_interface.get_samples_multiple_batches(paths_to_samples_info, google_bucket_id)"
   ]
  },
  {
   "cell_type": "code",
   "execution_count": 20,
   "metadata": {},
   "outputs": [
    {
     "data": {
      "text/plain": [
       "(146, 18)"
      ]
     },
     "execution_count": 20,
     "metadata": {},
     "output_type": "execute_result"
    }
   ],
   "source": [
    "all_samples [ all_samples.sample_type == \"Normal\"]"
   ]
  },
  {
   "cell_type": "code",
   "execution_count": 62,
   "metadata": {},
   "outputs": [
    {
     "data": {
      "text/html": [
       "<div>\n",
       "<style>\n",
       "    .dataframe thead tr:only-child th {\n",
       "        text-align: right;\n",
       "    }\n",
       "\n",
       "    .dataframe thead th {\n",
       "        text-align: left;\n",
       "    }\n",
       "\n",
       "    .dataframe tbody tr th {\n",
       "        vertical-align: top;\n",
       "    }\n",
       "</style>\n",
       "<table border=\"1\" class=\"dataframe\">\n",
       "  <thead>\n",
       "    <tr style=\"text-align: right;\">\n",
       "      <th></th>\n",
       "      <th>entity:sample_id</th>\n",
       "      <th>participant_id</th>\n",
       "      <th>clean_bam_file_capture</th>\n",
       "      <th>external_id_validation</th>\n",
       "      <th>aggregation_product_name_validation</th>\n",
       "      <th>bsp_sample_id_validation</th>\n",
       "      <th>stock_sample_id_validation</th>\n",
       "      <th>sample_type</th>\n",
       "      <th>picard_aggregation_type_validation</th>\n",
       "      <th>processed_subtype_validation</th>\n",
       "      <th>source_subtype_validation</th>\n",
       "      <th>squid_sample_id_validation</th>\n",
       "      <th>tumor_subtype</th>\n",
       "      <th>short_letter_code</th>\n",
       "      <th>bam_filename</th>\n",
       "      <th>bai_filename</th>\n",
       "      <th>clean_bai_file_capture</th>\n",
       "      <th>tsca_id</th>\n",
       "    </tr>\n",
       "  </thead>\n",
       "  <tbody>\n",
       "    <tr>\n",
       "      <th>0</th>\n",
       "      <td>AB053-Tumor-SM-DNUMO</td>\n",
       "      <td>AB053</td>\n",
       "      <td>gs://fc-35446f22-ea37-483a-bd6c-5e9fc56851ff/s...</td>\n",
       "      <td>AB053T_OPAC_p4</td>\n",
       "      <td>TSCA Rapid Cancer Detection Panel v2</td>\n",
       "      <td>SM-DOEKQ</td>\n",
       "      <td>SM-DNUMO</td>\n",
       "      <td>Tumor</td>\n",
       "      <td>PCR</td>\n",
       "      <td>Cells:Pellet frozen</td>\n",
       "      <td>Tissue:Fresh Tissue</td>\n",
       "      <td>AB053T_OPAC_p4</td>\n",
       "      <td>Primary</td>\n",
       "      <td>TP</td>\n",
       "      <td>2_AB053T_OPAC_p4_H5TTJBCXY.2.aligned.duplicate...</td>\n",
       "      <td>2_AB053T_OPAC_p4_H5TTJBCXY.2.aligned.duplicate...</td>\n",
       "      <td>gs://fc-35446f22-ea37-483a-bd6c-5e9fc56851ff/s...</td>\n",
       "      <td>TSCA16</td>\n",
       "    </tr>\n",
       "    <tr>\n",
       "      <th>5</th>\n",
       "      <td>AB053-Tumor-SM-E7S1O</td>\n",
       "      <td>AB053</td>\n",
       "      <td>gs://fc-35446f22-ea37-483a-bd6c-5e9fc56851ff/s...</td>\n",
       "      <td>AB053T_5050_p8</td>\n",
       "      <td>TSCA Rapid Cancer Detection Panel v2</td>\n",
       "      <td>SM-E7S1O</td>\n",
       "      <td>SM-E77BC</td>\n",
       "      <td>Tumor</td>\n",
       "      <td>PCR</td>\n",
       "      <td>DNA:DNA Somatic</td>\n",
       "      <td>Tissue:Fresh Tissue</td>\n",
       "      <td>AB053T_5050_p8</td>\n",
       "      <td>Primary</td>\n",
       "      <td>TP</td>\n",
       "      <td>2_AB053T_5050_p8_H57WVBCXY.2.aligned.duplicate...</td>\n",
       "      <td>2_AB053T_5050_p8_H57WVBCXY.2.aligned.duplicate...</td>\n",
       "      <td>gs://fc-35446f22-ea37-483a-bd6c-5e9fc56851ff/s...</td>\n",
       "      <td>TSCA17</td>\n",
       "    </tr>\n",
       "    <tr>\n",
       "      <th>6</th>\n",
       "      <td>AB053-Tumor-SM-E7S1C</td>\n",
       "      <td>AB053</td>\n",
       "      <td>gs://fc-35446f22-ea37-483a-bd6c-5e9fc56851ff/s...</td>\n",
       "      <td>AB053T_CM_p8_2D</td>\n",
       "      <td>TSCA Rapid Cancer Detection Panel v2</td>\n",
       "      <td>SM-E7S1C</td>\n",
       "      <td>SM-E77B1</td>\n",
       "      <td>Tumor</td>\n",
       "      <td>PCR</td>\n",
       "      <td>DNA:DNA Somatic</td>\n",
       "      <td>Tissue:Fresh Tissue</td>\n",
       "      <td>AB053T_CM_p8_2D</td>\n",
       "      <td>Primary</td>\n",
       "      <td>TP</td>\n",
       "      <td>2_AB053T_CM_p8_2D_H57WVBCXY.2.aligned.duplicat...</td>\n",
       "      <td>2_AB053T_CM_p8_2D_H57WVBCXY.2.aligned.duplicat...</td>\n",
       "      <td>gs://fc-35446f22-ea37-483a-bd6c-5e9fc56851ff/s...</td>\n",
       "      <td>TSCA17</td>\n",
       "    </tr>\n",
       "    <tr>\n",
       "      <th>1</th>\n",
       "      <td>AB053-Tumor-SM-F29RR</td>\n",
       "      <td>AB053</td>\n",
       "      <td>gs://fc-35446f22-ea37-483a-bd6c-5e9fc56851ff/s...</td>\n",
       "      <td>AB053T_OPAC_p8_2D</td>\n",
       "      <td>TSCA Rapid Cancer Detection Panel v2</td>\n",
       "      <td>SM-F29RR</td>\n",
       "      <td>SM-F21NR</td>\n",
       "      <td>Tumor</td>\n",
       "      <td>PCR</td>\n",
       "      <td>DNA:DNA Somatic</td>\n",
       "      <td>Cells:Cell Line, Viable</td>\n",
       "      <td>AB053T_OPAC_p8_2D</td>\n",
       "      <td>Primary</td>\n",
       "      <td>TP</td>\n",
       "      <td>2_AB053T_OPAC_p8_2D_HKWLGBCXY.2.aligned.duplic...</td>\n",
       "      <td>2_AB053T_OPAC_p8_2D_HKWLGBCXY.2.aligned.duplic...</td>\n",
       "      <td>gs://fc-35446f22-ea37-483a-bd6c-5e9fc56851ff/s...</td>\n",
       "      <td>TSCA19</td>\n",
       "    </tr>\n",
       "  </tbody>\n",
       "</table>\n",
       "</div>"
      ],
      "text/plain": [
       "       entity:sample_id participant_id  \\\n",
       "0  AB053-Tumor-SM-DNUMO          AB053   \n",
       "5  AB053-Tumor-SM-E7S1O          AB053   \n",
       "6  AB053-Tumor-SM-E7S1C          AB053   \n",
       "1  AB053-Tumor-SM-F29RR          AB053   \n",
       "\n",
       "                              clean_bam_file_capture external_id_validation  \\\n",
       "0  gs://fc-35446f22-ea37-483a-bd6c-5e9fc56851ff/s...         AB053T_OPAC_p4   \n",
       "5  gs://fc-35446f22-ea37-483a-bd6c-5e9fc56851ff/s...         AB053T_5050_p8   \n",
       "6  gs://fc-35446f22-ea37-483a-bd6c-5e9fc56851ff/s...        AB053T_CM_p8_2D   \n",
       "1  gs://fc-35446f22-ea37-483a-bd6c-5e9fc56851ff/s...      AB053T_OPAC_p8_2D   \n",
       "\n",
       "    aggregation_product_name_validation bsp_sample_id_validation  \\\n",
       "0  TSCA Rapid Cancer Detection Panel v2                 SM-DOEKQ   \n",
       "5  TSCA Rapid Cancer Detection Panel v2                 SM-E7S1O   \n",
       "6  TSCA Rapid Cancer Detection Panel v2                 SM-E7S1C   \n",
       "1  TSCA Rapid Cancer Detection Panel v2                 SM-F29RR   \n",
       "\n",
       "  stock_sample_id_validation sample_type picard_aggregation_type_validation  \\\n",
       "0                   SM-DNUMO       Tumor                                PCR   \n",
       "5                   SM-E77BC       Tumor                                PCR   \n",
       "6                   SM-E77B1       Tumor                                PCR   \n",
       "1                   SM-F21NR       Tumor                                PCR   \n",
       "\n",
       "  processed_subtype_validation source_subtype_validation  \\\n",
       "0          Cells:Pellet frozen       Tissue:Fresh Tissue   \n",
       "5              DNA:DNA Somatic       Tissue:Fresh Tissue   \n",
       "6              DNA:DNA Somatic       Tissue:Fresh Tissue   \n",
       "1              DNA:DNA Somatic   Cells:Cell Line, Viable   \n",
       "\n",
       "  squid_sample_id_validation tumor_subtype short_letter_code  \\\n",
       "0             AB053T_OPAC_p4       Primary                TP   \n",
       "5             AB053T_5050_p8       Primary                TP   \n",
       "6            AB053T_CM_p8_2D       Primary                TP   \n",
       "1          AB053T_OPAC_p8_2D       Primary                TP   \n",
       "\n",
       "                                        bam_filename  \\\n",
       "0  2_AB053T_OPAC_p4_H5TTJBCXY.2.aligned.duplicate...   \n",
       "5  2_AB053T_5050_p8_H57WVBCXY.2.aligned.duplicate...   \n",
       "6  2_AB053T_CM_p8_2D_H57WVBCXY.2.aligned.duplicat...   \n",
       "1  2_AB053T_OPAC_p8_2D_HKWLGBCXY.2.aligned.duplic...   \n",
       "\n",
       "                                        bai_filename  \\\n",
       "0  2_AB053T_OPAC_p4_H5TTJBCXY.2.aligned.duplicate...   \n",
       "5  2_AB053T_5050_p8_H57WVBCXY.2.aligned.duplicate...   \n",
       "6  2_AB053T_CM_p8_2D_H57WVBCXY.2.aligned.duplicat...   \n",
       "1  2_AB053T_OPAC_p8_2D_HKWLGBCXY.2.aligned.duplic...   \n",
       "\n",
       "                              clean_bai_file_capture tsca_id  \n",
       "0  gs://fc-35446f22-ea37-483a-bd6c-5e9fc56851ff/s...  TSCA16  \n",
       "5  gs://fc-35446f22-ea37-483a-bd6c-5e9fc56851ff/s...  TSCA17  \n",
       "6  gs://fc-35446f22-ea37-483a-bd6c-5e9fc56851ff/s...  TSCA17  \n",
       "1  gs://fc-35446f22-ea37-483a-bd6c-5e9fc56851ff/s...  TSCA19  "
      ]
     },
     "execution_count": 62,
     "metadata": {},
     "output_type": "execute_result"
    }
   ],
   "source": [
    "all_samples[all_samples['participant_id'] ==\"AB053\"]"
   ]
  },
  {
   "cell_type": "code",
   "execution_count": 65,
   "metadata": {
    "scrolled": true
   },
   "outputs": [],
   "source": [
    "# all_samples.groupby('participant_id').size().unstack()"
   ]
  },
  {
   "cell_type": "code",
   "execution_count": 67,
   "metadata": {},
   "outputs": [],
   "source": [
    "mi_all_samples = all_samples.set_index(['participant_id'])"
   ]
  },
  {
   "cell_type": "code",
   "execution_count": null,
   "metadata": {
    "collapsed": true
   },
   "outputs": [],
   "source": [
    "mi_all_samples"
   ]
  }
 ],
 "metadata": {
  "kernelspec": {
   "display_name": "Python 3",
   "language": "python",
   "name": "python3"
  },
  "language_info": {
   "codemirror_mode": {
    "name": "ipython",
    "version": 3
   },
   "file_extension": ".py",
   "mimetype": "text/x-python",
   "name": "python",
   "nbconvert_exporter": "python",
   "pygments_lexer": "ipython3",
   "version": "3.6.1"
  }
 },
 "nbformat": 4,
 "nbformat_minor": 2
}
