{
 "cells": [
  {
   "cell_type": "code",
   "execution_count": 3,
   "metadata": {
    "collapsed": true
   },
   "outputs": [],
   "source": [
    "import v2fc_interface as fs\n",
    "\n",
    "%load_ext autoreload\n",
    "%autoreload 2"
   ]
  },
  {
   "cell_type": "code",
   "execution_count": 18,
   "metadata": {
    "collapsed": true
   },
   "outputs": [],
   "source": [
    "paths_to_samples_info = pd.read_excel(\"paths_to_batches_info.xlsx\")\n",
    "namespace = \"nci-mimoun-bi-org\"\n",
    "workspace = \"CCLF_TSCA_2_0\"\n",
    "google_bucket_id = \"fc-35446f22-ea37-483a-bd6c-5e9fc56851ff\""
   ]
  },
  {
   "cell_type": "code",
   "execution_count": 92,
   "metadata": {},
   "outputs": [],
   "source": [
    "df = fs.get_samples(\"paths_to_batches_info.xlsx\", google_bucket_id)"
   ]
  },
  {
   "cell_type": "code",
   "execution_count": 88,
   "metadata": {
    "collapsed": true
   },
   "outputs": [],
   "source": []
  },
  {
   "cell_type": "code",
   "execution_count": 89,
   "metadata": {},
   "outputs": [
    {
     "data": {
      "text/plain": [
       "<Response [200]>"
      ]
     },
     "execution_count": 89,
     "metadata": {},
     "output_type": "execute_result"
    }
   ],
   "source": []
  },
  {
   "cell_type": "code",
   "execution_count": null,
   "metadata": {
    "collapsed": true
   },
   "outputs": [],
   "source": []
  },
  {
   "cell_type": "code",
   "execution_count": null,
   "metadata": {},
   "outputs": [
    {
     "name": "stdout",
     "output_type": "stream",
     "text": [
      "> /Users/mimoun/production_fc/metadata_exports/v2fc_interface.py(132)create_pairs_list()\n",
      "-> if match_primary_tumor.empty:\n",
      "(Pdb) row\n",
      "entity:sample_id                                                     AA34-Tumor-SM-D4L25\n",
      "participant_id                                                                      AA34\n",
      "clean_bam_file_capture                 gs://fc-35446f22-ea37-483a-bd6c-5e9fc56851ff/s...\n",
      "external_id_validation                                                       AA34T_3D_p4\n",
      "aggregation_product_name_validation                 TSCA Rapid Cancer Detection Panel v2\n",
      "bsp_sample_id_validation                                                        SM-D59I2\n",
      "stock_sample_id_validation                                                      SM-D4L25\n",
      "sample_type                                                                        Tumor\n",
      "picard_aggregation_type_validation                                                   PCR\n",
      "processed_subtype_validation                                         Cells:Pellet frozen\n",
      "source_subtype_validation                                            Tissue:Fresh Tissue\n",
      "squid_sample_id_validation                                                   AA34T_3D_p4\n",
      "tumor_subtype                                                                 Metastatic\n",
      "short_letter_code                                                                     TM\n",
      "bam_filename                           1_AA34T_3D_p4_HVLVWBCXX.1.aligned.duplicates_m...\n",
      "bai_filename                           1_AA34T_3D_p4_HVLVWBCXX.1.aligned.duplicates_m...\n",
      "clean_bai_file_capture                 gs://fc-35446f22-ea37-483a-bd6c-5e9fc56851ff/s...\n",
      "tsca_id                                                                         TSCA1213\n",
      "Name: 1, dtype: object\n"
     ]
    }
   ],
   "source": [
    "fs.create_pairs_list(df)"
   ]
  },
  {
   "cell_type": "code",
   "execution_count": null,
   "metadata": {
    "collapsed": true
   },
   "outputs": [],
   "source": []
  }
 ],
 "metadata": {
  "kernelspec": {
   "display_name": "Python 3",
   "language": "python",
   "name": "python3"
  },
  "language_info": {
   "codemirror_mode": {
    "name": "ipython",
    "version": 3
   },
   "file_extension": ".py",
   "mimetype": "text/x-python",
   "name": "python",
   "nbconvert_exporter": "python",
   "pygments_lexer": "ipython3",
   "version": "3.6.1"
  }
 },
 "nbformat": 4,
 "nbformat_minor": 2
}
