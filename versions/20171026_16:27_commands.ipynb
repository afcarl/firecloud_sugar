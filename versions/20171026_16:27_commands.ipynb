{
 "cells": [
  {
   "cell_type": "markdown",
   "metadata": {},
   "source": [
    "### Commands"
   ]
  },
  {
   "cell_type": "code",
   "execution_count": 106,
   "metadata": {
    "collapsed": true
   },
   "outputs": [],
   "source": [
    "from firecloud import api as firecloud_api\n",
    "import glob\n",
    "import fc_interface"
   ]
  },
  {
   "cell_type": "code",
   "execution_count": 107,
   "metadata": {},
   "outputs": [
    {
     "name": "stdout",
     "output_type": "stream",
     "text": [
      "The autoreload extension is already loaded. To reload it, use:\n",
      "  %reload_ext autoreload\n"
     ]
    }
   ],
   "source": [
    "%load_ext autoreload\n",
    "%autoreload 2"
   ]
  },
  {
   "cell_type": "code",
   "execution_count": 118,
   "metadata": {
    "collapsed": true
   },
   "outputs": [],
   "source": [
    "### Parameters\n",
    "namespace = \"nci-mimoun-bi-org\"\n",
    "workspace = \"CCLF_TSCA\"\n",
    "paths_to_samples_info = \"paths_to_batches_info.xlsx\"\n",
    "google_bucket_id = \"fc-35446f22-ea37-483a-bd6c-5e9fc56851ff\"\n",
    "batches_info = pd.read_excel(paths_to_samples_info)"
   ]
  },
  {
   "cell_type": "markdown",
   "metadata": {},
   "source": [
    "#### Deletions"
   ]
  },
  {
   "cell_type": "code",
   "execution_count": null,
   "metadata": {
    "collapsed": true,
    "editable": false,
    "run_control": {
     "frozen": true
    }
   },
   "outputs": [],
   "source": [
    "### Delete unnecessary attributes in samples\n",
    "attrs = [\"annotate_variants_vcf\", \"annotate_variants_vcf_index\", \"oncotated_maf\", \"mutect2_vcf_index\", \"match_normal_oncotated_maf\", \"gnomad_vcf\", \"merged_vcfs\", \"match_primary_tumor_bam_file\"]\n",
    "for idx, row in all_samples.iterrows():\n",
    "    fc_interface.delete_entity_attributes(namespace, workspace, \"sample\", row['entity:sample_id'], attrs)"
   ]
  },
  {
   "cell_type": "code",
   "execution_count": null,
   "metadata": {
    "collapsed": true,
    "editable": false,
    "run_control": {
     "frozen": true
    }
   },
   "outputs": [],
   "source": [
    "### Delete method repostory\n",
    "firecloud_api.delete_repository_method('tsca', 'CreatePoN', 15)"
   ]
  },
  {
   "cell_type": "code",
   "execution_count": null,
   "metadata": {
    "collapsed": true,
    "editable": false,
    "run_control": {
     "frozen": true
    }
   },
   "outputs": [],
   "source": [
    "### Delete method repository\n",
    "firecloud_api.delete_repository_method('tsca', 'Mutect2_for_Normal', 1)"
   ]
  },
  {
   "cell_type": "code",
   "execution_count": null,
   "metadata": {
    "collapsed": true,
    "editable": false,
    "run_control": {
     "frozen": true
    }
   },
   "outputs": [],
   "source": [
    "### Delete multiple method repositories\n",
    "for i in range(10, 23):\n",
    "    firecloud_api.delete_repository_method('tsca', 'CreatePoN', i)"
   ]
  },
  {
   "cell_type": "code",
   "execution_count": null,
   "metadata": {
    "collapsed": true,
    "editable": false,
    "run_control": {
     "frozen": true
    }
   },
   "outputs": [],
   "source": [
    "### Delete method config\n",
    "firecloud_api.delete_workspace_config(namespace, workspace, \"tsca\", \"Mutect2_for_Normal\")"
   ]
  },
  {
   "cell_type": "markdown",
   "metadata": {},
   "source": [
    "#### Pair creation"
   ]
  },
  {
   "cell_type": "code",
   "execution_count": null,
   "metadata": {
    "collapsed": true,
    "editable": false,
    "run_control": {
     "frozen": true
    }
   },
   "outputs": [],
   "source": [
    "### Create pairs\n",
    "all_samples = fc_interface.get_samples_multiple_batches(paths_to_samples_info, google_bucket_id)\n",
    "pairs_list = fc_interface.create_pairs_list(all_samples)\n",
    "blacklist = [\"DW039-Tumor-SM-DB2IF\"]\n",
    "clean_pairs_list = pairs_list[ ~pairs_list['case_sample_id'].isin(blacklist)]"
   ]
  },
  {
   "cell_type": "code",
   "execution_count": null,
   "metadata": {
    "collapsed": true,
    "editable": false,
    "run_control": {
     "frozen": true
    }
   },
   "outputs": [],
   "source": [
    "### Upload pairs\n",
    "res = fc_interface.upload_pairs(namespace, workspace, clean_pairs_list)"
   ]
  },
  {
   "cell_type": "code",
   "execution_count": null,
   "metadata": {
    "collapsed": true,
    "editable": false,
    "run_control": {
     "frozen": true
    }
   },
   "outputs": [],
   "source": [
    "# ### Delete unnecessary attributes in pairs\n",
    "# ### NOT WOKING\n",
    "# all_samples = fc_interface.get_samples_multiple_batches(paths_to_samples_info, google_bucket_id)\n",
    "# pairs_list = fc_interface.create_pairs_list(all_samples)\n",
    "# attrs = [\"__annotate_variants_vcf\", \"__annotate_variants_vcf_index\", \\\n",
    "#          \"__scattered_intervals\", \"__tmp_mutect_vcf2\", \"_tmp_mutect_vcf_index2\", \\\n",
    "#          \"__tmp_mutect_vcf2\", \"_tmp_mutect_vcf_index2\"]\n",
    "# for idx, row in pairs_list.iterrows():\n",
    "#     fc_interface.delete_entity_attributes(namespace, workspace, \"pair\", row['entity:pair_id'], attrs)"
   ]
  },
  {
   "cell_type": "code",
   "execution_count": null,
   "metadata": {
    "collapsed": true,
    "editable": false,
    "run_control": {
     "frozen": true
    }
   },
   "outputs": [],
   "source": [
    "### Upload metadata for given batch\n",
    "fc_interface.update_batch_metadata('TSCA21', \\\n",
    "                                  '/xchip/clf/seq_data/processed_for_fh/tsca21_201708_SN0128552/tsca21_201708_SN0128552.import_samples.txt', \\\n",
    "                                      paths_to_samples_info, \\\n",
    "                                        namespace, workspace, google_bucket_id)"
   ]
  },
  {
   "cell_type": "code",
   "execution_count": null,
   "metadata": {
    "collapsed": true,
    "editable": false,
    "run_control": {
     "frozen": true
    }
   },
   "outputs": [],
   "source": [
    "### Delete sample_set\n",
    "fc_interface.delete_sample_set(namespace, workspace, 'TSCA1213')"
   ]
  },
  {
   "cell_type": "code",
   "execution_count": null,
   "metadata": {
    "collapsed": true,
    "editable": false,
    "run_control": {
     "frozen": true
    }
   },
   "outputs": [],
   "source": [
    "### All paths to batch info\n",
    "# pd.read_excel('paths_to_batches_info.xlsx').path_to_samples_info.tolist()"
   ]
  },
  {
   "cell_type": "code",
   "execution_count": null,
   "metadata": {
    "collapsed": true,
    "editable": false,
    "run_control": {
     "frozen": true
    }
   },
   "outputs": [],
   "source": [
    "### Create cumulative PoN (all batches)\n",
    "batches_info = pd.read_excel(paths_to_samples_info)\n",
    "PoN = fc_interface.create_panel_of_normals(batches_info.path_to_samples_info.tolist(), -1, 'Cum_PoN_21_all')\n",
    "fc_interface.upload_pon(PoN, 'CumPoN21', namespace, workspace)"
   ]
  },
  {
   "cell_type": "code",
   "execution_count": null,
   "metadata": {
    "collapsed": true,
    "editable": false,
    "run_control": {
     "frozen": true
    }
   },
   "outputs": [],
   "source": [
    "### Create PoN from normals of only one batch (no samples from other batches)\n",
    "batches_info = pd.read_excel(paths_to_samples_info)\n",
    "tsca21_path = batches_info.path_to_samples_info.tolist()[-1]\n",
    "PoN = fc_interface.create_panel_of_normals([tsca21_path], -1, 'PoN_TSCA21_Normals')\n",
    "fc_interface.upload_pon(PoN, 'PoN_TSCA21_Normals', namespace, workspace)"
   ]
  },
  {
   "cell_type": "code",
   "execution_count": null,
   "metadata": {
    "collapsed": true,
    "editable": false,
    "run_control": {
     "frozen": true
    }
   },
   "outputs": [],
   "source": [
    "### Delete pair set\n",
    "fc_interface.delete_pair_set(namespace, workspace, 'TSCA1213')"
   ]
  },
  {
   "cell_type": "code",
   "execution_count": null,
   "metadata": {
    "collapsed": true,
    "editable": false,
    "run_control": {
     "frozen": true
    }
   },
   "outputs": [],
   "source": [
    "### Delete sample set\n",
    "fc_interface.delete_sample_set(namespace, workspace, 'TSCA1213')"
   ]
  },
  {
   "cell_type": "code",
   "execution_count": null,
   "metadata": {
    "collapsed": true,
    "editable": false,
    "run_control": {
     "frozen": true
    }
   },
   "outputs": [],
   "source": [
    "### Download method configs\n",
    "fc_interface.download_method_configs(namespace, workspace)"
   ]
  },
  {
   "cell_type": "code",
   "execution_count": null,
   "metadata": {
    "collapsed": true,
    "editable": false,
    "run_control": {
     "frozen": true
    }
   },
   "outputs": [],
   "source": [
    "### Upload pairsets\n",
    "tn_pairsets, tp_pairsets = fc_interface.create_pairsets(all_samples, clean_pairs_list)\n",
    "fc_interface.upload_pairsets(namespace, workspace, tn_pairsets, \"TN\")\n",
    "fc_interface.upload_pairsets(namespace, workspace, tp_pairsets, \"TP\")"
   ]
  },
  {
   "cell_type": "code",
   "execution_count": null,
   "metadata": {
    "collapsed": true,
    "editable": false,
    "run_control": {
     "frozen": true
    }
   },
   "outputs": [],
   "source": [
    "### Delete all pairs\n",
    "for idx, row in clean_pairs_list.iterrows():\n",
    "    res = fc_interface.delete_pair(namespace, workspace, row['entity:pair_id'])\n",
    "    print(res)"
   ]
  },
  {
   "cell_type": "code",
   "execution_count": null,
   "metadata": {
    "collapsed": true,
    "editable": false,
    "run_control": {
     "frozen": true
    }
   },
   "outputs": [],
   "source": [
    "all_samples = fc_interface.get_samples_multiple_batches(paths_to_samples_info, google_bucket_id)\n",
    "pairs_list = fc_interface.create_pairs_list(all_samples)\n",
    "blacklist = [\"DW039-Tumor-SM-DB2IF\"]\n",
    "clean_pairs_list = pairs_list[ ~pairs_list['case_sample_id'].isin(blacklist)]\n",
    "\n",
    "### Update pair attributes\n",
    "update_pair_attrs(namespace, workspace, clean_pairs_list, attrs=['control_sample_tsca_id'])"
   ]
  },
  {
   "cell_type": "code",
   "execution_count": null,
   "metadata": {
    "collapsed": true,
    "editable": false,
    "run_control": {
     "frozen": true
    }
   },
   "outputs": [],
   "source": [
    "### Create PoN from all normals\n",
    "batches_info = pd.read_excel(paths_to_samples_info)\n",
    "all_paths = batches_info.path_to_samples_info.tolist()\n",
    "PoN = fc_interface.create_panel_of_normals(all_paths, -1, 'Cum_PoN_21_all')\n",
    "fc_interface.upload_pon(PoN, 'Cum_PoN_21_all', namespace, workspace)"
   ]
  },
  {
   "cell_type": "code",
   "execution_count": 6,
   "metadata": {
    "collapsed": true
   },
   "outputs": [],
   "source": [
    "### Create PoN with normals from batch + other normals\n",
    "batches_info = pd.read_excel(paths_to_samples_info)\n",
    "all_paths = batches_info.path_to_samples_info.tolist()\n",
    "# PoN = fc_interface.create_panel_of_normals(all_paths, -1, 'Cum_PoN_21_all')\n",
    "# fc_interface.upload_pon(PoN, 'Cum_PoN_21_all', namespace, workspace)"
   ]
  },
  {
   "cell_type": "code",
   "execution_count": 4,
   "metadata": {
    "collapsed": true
   },
   "outputs": [],
   "source": [
    "# batch_id = 'TSCA21'\n",
    "# batch_path = batches_info.loc[batches_info.tsca_id==batch_id, 'path_to_samples_info'].item()\n",
    "# pd.read_table(batch_path)\n",
    "# batch_id, paths, N, name"
   ]
  },
  {
   "cell_type": "code",
   "execution_count": 21,
   "metadata": {
    "collapsed": true,
    "editable": false,
    "run_control": {
     "frozen": true
    }
   },
   "outputs": [],
   "source": [
    "# Retrieve samples before export to FC\n",
    "tsca21 = \\\n",
    "    fc_interface.\\\n",
    "        prepare_batch_samples_for_metadata_export('/xchip/clf/seq_data/processed_for_fh/tsca21_201708_SN0128552/tsca21_201708_SN0128552.import_samples.txt', \\\n",
    "                            'TSCA21', google_bucket_id)"
   ]
  },
  {
   "cell_type": "code",
   "execution_count": null,
   "metadata": {
    "collapsed": true,
    "editable": false,
    "run_control": {
     "frozen": true
    }
   },
   "outputs": [],
   "source": [
    "### Update WDLs\n",
    "fc_interface.download_remote_wdls(namespace, workspace)"
   ]
  },
  {
   "cell_type": "code",
   "execution_count": 336,
   "metadata": {
    "collapsed": true,
    "editable": false,
    "run_control": {
     "frozen": true
    }
   },
   "outputs": [],
   "source": [
    "### Prepare cohorts for export to FC\n",
    "cohorts = fc_interface.prepare_cohorts_for_metadata_export(paths_to_batches_info, google_bucket_id)"
   ]
  },
  {
   "cell_type": "code",
   "execution_count": 358,
   "metadata": {
    "collapsed": true,
    "editable": false,
    "run_control": {
     "frozen": true
    }
   },
   "outputs": [],
   "source": [
    "# # Delete cohorts\n",
    "# cohort_codes = pd.read_table('cohort_files/cohort_names_dictionary.txt', header=None)\n",
    "# for coh_code in cohort_codes.loc[:, 1].tolist():\n",
    "#     res = fc_interface.delete_sample_set(namespace, workspace, coh_code)"
   ]
  },
  {
   "cell_type": "code",
   "execution_count": 338,
   "metadata": {
    "editable": false,
    "run_control": {
     "frozen": true
    }
   },
   "outputs": [
    {
     "name": "stdout",
     "output_type": "stream",
     "text": [
      "65 Participants in this batch\n",
      "95 Samples in this batch\n"
     ]
    }
   ],
   "source": [
    "# ### Upload metadata for given batch\n",
    "# fc_interface.update_batch_metadata('TSCA21', \\\n",
    "#                                   '/xchip/clf/seq_data/processed_for_fh/tsca21_201708_SN0128552/tsca21_201708_SN0128552.import_samples.txt', \\\n",
    "#                                       paths_to_samples_info, \\\n",
    "#                                         namespace, workspace, google_bucket_id)"
   ]
  },
  {
   "cell_type": "code",
   "execution_count": 361,
   "metadata": {
    "collapsed": true,
    "editable": false,
    "run_control": {
     "frozen": true
    }
   },
   "outputs": [],
   "source": [
    "# Export metadata\n",
    "(r1, r2, r3, r4, r5, r6) = fc_interface.export_batch_metadata_to_fc('TSCA21', namespace, workspace)"
   ]
  },
  {
   "cell_type": "code",
   "execution_count": 359,
   "metadata": {
    "collapsed": true,
    "editable": false,
    "run_control": {
     "frozen": true
    }
   },
   "outputs": [],
   "source": [
    "# Cohorts\n",
    "cohorts = fc_interface.prepare_cohorts_for_metadata_export(paths_to_batches_info, google_bucket_id)"
   ]
  },
  {
   "cell_type": "code",
   "execution_count": 66,
   "metadata": {
    "collapsed": true,
    "editable": false,
    "run_control": {
     "frozen": true
    }
   },
   "outputs": [],
   "source": [
    "### Create panel of normals from batch\n",
    "pon = fc_interface.create_panel_of_normals_from_batch(batch_id, paths_to_samples_info, N=20).shape"
   ]
  },
  {
   "cell_type": "code",
   "execution_count": 78,
   "metadata": {
    "collapsed": true,
    "editable": false,
    "run_control": {
     "frozen": true
    }
   },
   "outputs": [],
   "source": [
    "### Create panel of normals from batch\n",
    "for i, row in batches_info.iterrows():\n",
    "    pon, name = fc_interface.create_panel_of_normals_from_batch(row['tsca_id'], paths_to_samples_info, N=20)\n",
    "    fc_interface.upload_pon(pon, name, namespace, workspace)"
   ]
  },
  {
   "cell_type": "code",
   "execution_count": null,
   "metadata": {
    "collapsed": true,
    "editable": false,
    "run_control": {
     "frozen": true
    }
   },
   "outputs": [],
   "source": [
    "# Retrieve samples before export to FC\n",
    "tsca21 = \\\n",
    "    fc_interface.\\\n",
    "        prepare_batch_samples_for_metadata_export('/xchip/clf/seq_data/processed_for_fh/tsca21_201708_SN0128552/tsca21_201708_SN0128552.import_samples.txt', \\\n",
    "                            'TSCA21', google_bucket_id)"
   ]
  },
  {
   "cell_type": "code",
   "execution_count": 33,
   "metadata": {
    "collapsed": true,
    "editable": false,
    "run_control": {
     "frozen": true
    }
   },
   "outputs": [],
   "source": [
    "### Prepare cohorts for export to FC\n",
    "cohorts = fc_interface.\\\n",
    "            prepare_cohorts_for_metadata_export(paths_to_samples_info, google_bucket_id, \\\n",
    "                                               blacklist=[\"CCLF_AA1012-Tumor-SM-F67DF\"])\n",
    "\n",
    "cohorts_sample_set_metadata = \"cohort_files/fc_upload_sample_set_cohorts.txt\"\n",
    "res = fc_interface.upload_entities_from_tsv(namespace, workspace, cohorts_sample_set_metadata)"
   ]
  },
  {
   "cell_type": "code",
   "execution_count": 8,
   "metadata": {
    "collapsed": true,
    "editable": false,
    "run_control": {
     "frozen": true
    }
   },
   "outputs": [],
   "source": [
    "# Export metadata\n",
    "(r1, r2, r3, r4, r5, r6) = fc_interface.export_batch_metadata_to_fc('TSCA21', namespace, workspace)"
   ]
  },
  {
   "cell_type": "code",
   "execution_count": 34,
   "metadata": {
    "collapsed": true,
    "editable": false,
    "run_control": {
     "frozen": true
    }
   },
   "outputs": [],
   "source": [
    "### Cohort of all tumors\n",
    "res = fc_interface.upload_cohort_all_tumors(paths_to_samples_info, google_bucket_id, \\\n",
    "                                      'Cum_Tumors_22_all', namespace, workspace, ['DW039-Tumor-SM-DB2IF'])"
   ]
  },
  {
   "cell_type": "code",
   "execution_count": 12,
   "metadata": {
    "editable": false,
    "run_control": {
     "frozen": true
    }
   },
   "outputs": [
    {
     "data": {
      "text/plain": [
       "(1045, 14)"
      ]
     },
     "execution_count": 12,
     "metadata": {},
     "output_type": "execute_result"
    }
   ],
   "source": [
    "# fc_interface.merge_walkupseq_files(paths_to_samples_info)"
   ]
  },
  {
   "cell_type": "markdown",
   "metadata": {},
   "source": [
    "---"
   ]
  },
  {
   "cell_type": "markdown",
   "metadata": {},
   "source": [
    "---"
   ]
  },
  {
   "cell_type": "markdown",
   "metadata": {},
   "source": [
    "## Refined: New Batch Workflow"
   ]
  },
  {
   "cell_type": "code",
   "execution_count": 130,
   "metadata": {
    "collapsed": true
   },
   "outputs": [],
   "source": [
    "tsca_id = \"TSCA22\"\n",
    "blacklist = [\"DW039-Tumor-SM-DB2IF\"]\n",
    "path_to_batch_samples_info = batches_info.loc[batches_info.tsca_id==tsca_id, 'path_to_samples_info'].item()"
   ]
  },
  {
   "cell_type": "code",
   "execution_count": 29,
   "metadata": {
    "collapsed": true
   },
   "outputs": [],
   "source": [
    "### ALL SAMPLES\n",
    "## Prepare\n",
    "# fc_interface.prepare_patients_for_metadata_export(path_to_batch_samples_info, tsca_id)\n",
    "# fc_interface.prepare_batch_sample_set_for_metadata_export(path_to_batch_samples_info, tsca_id)\n",
    "# fc_interface.prepare_batch_samples_for_metadata_export(path_to_batch_samples_info, tsca_id, google_bucket_id)\n",
    "\n",
    "## Export\n",
    "# fc_interface.export_batch_metadata_to_fc(tsca_id, namespace, workspace)"
   ]
  },
  {
   "cell_type": "code",
   "execution_count": 39,
   "metadata": {
    "collapsed": true
   },
   "outputs": [],
   "source": [
    "### PANEL OF NORMALS BATCH\n",
    "## Prepare \n",
    "# pon, name = fc_interface.create_panel_of_normals_from_batch(tsca_id, paths_to_samples_info, N=20)\n",
    "\n",
    "# Export\n",
    "# fc_interface.upload_pon(pon, name, namespace, workspace)"
   ]
  },
  {
   "cell_type": "code",
   "execution_count": 13,
   "metadata": {},
   "outputs": [
    {
     "name": "stdout",
     "output_type": "stream",
     "text": [
      "Creating panel of 163 normals\n"
     ]
    },
    {
     "data": {
      "text/plain": [
       "<Response [200]>"
      ]
     },
     "execution_count": 13,
     "metadata": {},
     "output_type": "execute_result"
    }
   ],
   "source": [
    "### PANEL OF NORMALS CUMULATIVE\n",
    "## Prepare\n",
    "# batches_info = pd.read_excel(paths_to_samples_info)\n",
    "# PoN = fc_interface.create_panel_of_normals(batches_info.path_to_samples_info.tolist(), -1, 'Cum_PoN_22_all')\n",
    "\n",
    "# Export\n",
    "# fc_interface.upload_pon(PoN, 'Cum_PoN_22_all', namespace, workspace)"
   ]
  },
  {
   "cell_type": "code",
   "execution_count": 132,
   "metadata": {},
   "outputs": [],
   "source": [
    "# fc_interface.delete_sample_set(namespace, workspace, 'COHORT_AA')"
   ]
  },
  {
   "cell_type": "code",
   "execution_count": 133,
   "metadata": {},
   "outputs": [],
   "source": [
    "### COHORT SAMPLE SETS\n",
    "## Prepare\n",
    "cohorts = fc_interface.prepare_cohorts_for_metadata_export(paths_to_samples_info, google_bucket_id, blacklist, tsca_id)\n",
    "\n",
    "## Export\n",
    "# res = fc_interface.upload_cohorts(namespace, workspace)"
   ]
  },
  {
   "cell_type": "code",
   "execution_count": 152,
   "metadata": {},
   "outputs": [
    {
     "data": {
      "text/plain": [
       "(1140, 20)"
      ]
     },
     "execution_count": 152,
     "metadata": {},
     "output_type": "execute_result"
    }
   ],
   "source": [
    "cohorts.shape"
   ]
  },
  {
   "cell_type": "code",
   "execution_count": 157,
   "metadata": {},
   "outputs": [],
   "source": [
    "fc_interface.download_remote_samples(namespace, workspace)"
   ]
  },
  {
   "cell_type": "code",
   "execution_count": 158,
   "metadata": {},
   "outputs": [],
   "source": [
    "remote_samples = pd.read_table('remote_samples.txt')"
   ]
  },
  {
   "cell_type": "code",
   "execution_count": 159,
   "metadata": {},
   "outputs": [
    {
     "data": {
      "text/plain": [
       "(1140, 53)"
      ]
     },
     "execution_count": 159,
     "metadata": {},
     "output_type": "execute_result"
    }
   ],
   "source": [
    "remote_samples.shape"
   ]
  },
  {
   "cell_type": "code",
   "execution_count": 161,
   "metadata": {},
   "outputs": [
    {
     "data": {
      "text/html": [
       "<div>\n",
       "<style>\n",
       "    .dataframe thead tr:only-child th {\n",
       "        text-align: right;\n",
       "    }\n",
       "\n",
       "    .dataframe thead th {\n",
       "        text-align: left;\n",
       "    }\n",
       "\n",
       "    .dataframe tbody tr th {\n",
       "        vertical-align: top;\n",
       "    }\n",
       "</style>\n",
       "<table border=\"1\" class=\"dataframe\">\n",
       "  <thead>\n",
       "    <tr style=\"text-align: right;\">\n",
       "      <th></th>\n",
       "      <th>entity:sample_id</th>\n",
       "      <th>aggregation_product_name_validation</th>\n",
       "      <th>bai_filename</th>\n",
       "      <th>bam_filename</th>\n",
       "      <th>bsp_sample_id_validation</th>\n",
       "      <th>chromosome_coverage_dist</th>\n",
       "      <th>clean_bai_file_capture</th>\n",
       "      <th>clean_bam_file_capture</th>\n",
       "      <th>cnv_calls</th>\n",
       "      <th>external_id_validation</th>\n",
       "      <th>...</th>\n",
       "      <th>oncotated_maf_mutect1</th>\n",
       "      <th>oncotated_maf_mutect2</th>\n",
       "      <th>segmented_copy_ratio_img</th>\n",
       "      <th>interval_list_padded</th>\n",
       "      <th>sample_cum_cov</th>\n",
       "      <th>sample_cum_cov_prop</th>\n",
       "      <th>clear_indels</th>\n",
       "      <th>filtered_indels</th>\n",
       "      <th>match_normal_bam_file</th>\n",
       "      <th>match_normal_sample_id</th>\n",
       "    </tr>\n",
       "  </thead>\n",
       "  <tbody>\n",
       "    <tr>\n",
       "      <th>0</th>\n",
       "      <td>AA24-Tumor-SM-DHZ8W</td>\n",
       "      <td>TSCA Rapid Cancer Detection Panel v2</td>\n",
       "      <td>2_AA24T_OPAC_p9_H5V3YBCXY.2.aligned.duplicates...</td>\n",
       "      <td>2_AA24T_OPAC_p9_H5V3YBCXY.2.aligned.duplicates...</td>\n",
       "      <td>SM-DHZ8W</td>\n",
       "      <td>gs://fc-35446f22-ea37-483a-bd6c-5e9fc56851ff/5...</td>\n",
       "      <td>gs://fc-35446f22-ea37-483a-bd6c-5e9fc56851ff/s...</td>\n",
       "      <td>gs://fc-35446f22-ea37-483a-bd6c-5e9fc56851ff/s...</td>\n",
       "      <td>gs://fc-35446f22-ea37-483a-bd6c-5e9fc56851ff/5...</td>\n",
       "      <td>AA24T_OPAC_p9</td>\n",
       "      <td>...</td>\n",
       "      <td>NaN</td>\n",
       "      <td>NaN</td>\n",
       "      <td>NaN</td>\n",
       "      <td>NaN</td>\n",
       "      <td>NaN</td>\n",
       "      <td>NaN</td>\n",
       "      <td>NaN</td>\n",
       "      <td>NaN</td>\n",
       "      <td>NaN</td>\n",
       "      <td>NaN</td>\n",
       "    </tr>\n",
       "    <tr>\n",
       "      <th>1</th>\n",
       "      <td>AA25-Tumor-SM-DHZ99</td>\n",
       "      <td>TSCA Rapid Cancer Detection Panel v2</td>\n",
       "      <td>2_AA25T_OPAC_p4_H5V3YBCXY.2.aligned.duplicates...</td>\n",
       "      <td>2_AA25T_OPAC_p4_H5V3YBCXY.2.aligned.duplicates...</td>\n",
       "      <td>SM-DHZ99</td>\n",
       "      <td>gs://fc-35446f22-ea37-483a-bd6c-5e9fc56851ff/5...</td>\n",
       "      <td>gs://fc-35446f22-ea37-483a-bd6c-5e9fc56851ff/s...</td>\n",
       "      <td>gs://fc-35446f22-ea37-483a-bd6c-5e9fc56851ff/s...</td>\n",
       "      <td>gs://fc-35446f22-ea37-483a-bd6c-5e9fc56851ff/5...</td>\n",
       "      <td>AA25T_OPAC_p4</td>\n",
       "      <td>...</td>\n",
       "      <td>NaN</td>\n",
       "      <td>NaN</td>\n",
       "      <td>NaN</td>\n",
       "      <td>NaN</td>\n",
       "      <td>NaN</td>\n",
       "      <td>NaN</td>\n",
       "      <td>NaN</td>\n",
       "      <td>NaN</td>\n",
       "      <td>NaN</td>\n",
       "      <td>NaN</td>\n",
       "    </tr>\n",
       "    <tr>\n",
       "      <th>2</th>\n",
       "      <td>AA33-Normal-SM-D4L4D</td>\n",
       "      <td>TSCA Rapid Cancer Detection Panel v2</td>\n",
       "      <td>1_AA33N_3D_p5_HVLVWBCXX.1.aligned.duplicates_m...</td>\n",
       "      <td>1_AA33N_3D_p5_HVLVWBCXX.1.aligned.duplicates_m...</td>\n",
       "      <td>SM-D59KF</td>\n",
       "      <td>gs://fc-35446f22-ea37-483a-bd6c-5e9fc56851ff/5...</td>\n",
       "      <td>gs://fc-35446f22-ea37-483a-bd6c-5e9fc56851ff/s...</td>\n",
       "      <td>gs://fc-35446f22-ea37-483a-bd6c-5e9fc56851ff/s...</td>\n",
       "      <td>gs://fc-35446f22-ea37-483a-bd6c-5e9fc56851ff/b...</td>\n",
       "      <td>AA33N_3D_p5</td>\n",
       "      <td>...</td>\n",
       "      <td>gs://fc-35446f22-ea37-483a-bd6c-5e9fc56851ff/f...</td>\n",
       "      <td>gs://fc-35446f22-ea37-483a-bd6c-5e9fc56851ff/f...</td>\n",
       "      <td>NaN</td>\n",
       "      <td>NaN</td>\n",
       "      <td>NaN</td>\n",
       "      <td>NaN</td>\n",
       "      <td>NaN</td>\n",
       "      <td>NaN</td>\n",
       "      <td>NaN</td>\n",
       "      <td>NaN</td>\n",
       "    </tr>\n",
       "    <tr>\n",
       "      <th>3</th>\n",
       "      <td>AA33-Normal-SM-DHZ9L</td>\n",
       "      <td>TSCA Rapid Cancer Detection Panel v2</td>\n",
       "      <td>2_AA33N_OPAC_p5_H5V3YBCXY.2.aligned.duplicates...</td>\n",
       "      <td>2_AA33N_OPAC_p5_H5V3YBCXY.2.aligned.duplicates...</td>\n",
       "      <td>SM-DHZ9L</td>\n",
       "      <td>gs://fc-35446f22-ea37-483a-bd6c-5e9fc56851ff/5...</td>\n",
       "      <td>gs://fc-35446f22-ea37-483a-bd6c-5e9fc56851ff/s...</td>\n",
       "      <td>gs://fc-35446f22-ea37-483a-bd6c-5e9fc56851ff/s...</td>\n",
       "      <td>gs://fc-35446f22-ea37-483a-bd6c-5e9fc56851ff/5...</td>\n",
       "      <td>AA33N_OPAC_p5</td>\n",
       "      <td>...</td>\n",
       "      <td>gs://fc-35446f22-ea37-483a-bd6c-5e9fc56851ff/f...</td>\n",
       "      <td>gs://fc-35446f22-ea37-483a-bd6c-5e9fc56851ff/f...</td>\n",
       "      <td>NaN</td>\n",
       "      <td>NaN</td>\n",
       "      <td>NaN</td>\n",
       "      <td>NaN</td>\n",
       "      <td>NaN</td>\n",
       "      <td>NaN</td>\n",
       "      <td>NaN</td>\n",
       "      <td>NaN</td>\n",
       "    </tr>\n",
       "    <tr>\n",
       "      <th>4</th>\n",
       "      <td>AA33-Tumor-SM-DHZ9X</td>\n",
       "      <td>TSCA Rapid Cancer Detection Panel v2</td>\n",
       "      <td>2_AA33T_OPAC_p5_H5V3YBCXY.2.aligned.duplicates...</td>\n",
       "      <td>2_AA33T_OPAC_p5_H5V3YBCXY.2.aligned.duplicates...</td>\n",
       "      <td>SM-DHZ9X</td>\n",
       "      <td>gs://fc-35446f22-ea37-483a-bd6c-5e9fc56851ff/5...</td>\n",
       "      <td>gs://fc-35446f22-ea37-483a-bd6c-5e9fc56851ff/s...</td>\n",
       "      <td>gs://fc-35446f22-ea37-483a-bd6c-5e9fc56851ff/s...</td>\n",
       "      <td>gs://fc-35446f22-ea37-483a-bd6c-5e9fc56851ff/5...</td>\n",
       "      <td>AA33T_OPAC_p5</td>\n",
       "      <td>...</td>\n",
       "      <td>NaN</td>\n",
       "      <td>NaN</td>\n",
       "      <td>NaN</td>\n",
       "      <td>NaN</td>\n",
       "      <td>NaN</td>\n",
       "      <td>NaN</td>\n",
       "      <td>NaN</td>\n",
       "      <td>NaN</td>\n",
       "      <td>NaN</td>\n",
       "      <td>NaN</td>\n",
       "    </tr>\n",
       "  </tbody>\n",
       "</table>\n",
       "<p>5 rows × 53 columns</p>\n",
       "</div>"
      ],
      "text/plain": [
       "       entity:sample_id   aggregation_product_name_validation  \\\n",
       "0   AA24-Tumor-SM-DHZ8W  TSCA Rapid Cancer Detection Panel v2   \n",
       "1   AA25-Tumor-SM-DHZ99  TSCA Rapid Cancer Detection Panel v2   \n",
       "2  AA33-Normal-SM-D4L4D  TSCA Rapid Cancer Detection Panel v2   \n",
       "3  AA33-Normal-SM-DHZ9L  TSCA Rapid Cancer Detection Panel v2   \n",
       "4   AA33-Tumor-SM-DHZ9X  TSCA Rapid Cancer Detection Panel v2   \n",
       "\n",
       "                                        bai_filename  \\\n",
       "0  2_AA24T_OPAC_p9_H5V3YBCXY.2.aligned.duplicates...   \n",
       "1  2_AA25T_OPAC_p4_H5V3YBCXY.2.aligned.duplicates...   \n",
       "2  1_AA33N_3D_p5_HVLVWBCXX.1.aligned.duplicates_m...   \n",
       "3  2_AA33N_OPAC_p5_H5V3YBCXY.2.aligned.duplicates...   \n",
       "4  2_AA33T_OPAC_p5_H5V3YBCXY.2.aligned.duplicates...   \n",
       "\n",
       "                                        bam_filename bsp_sample_id_validation  \\\n",
       "0  2_AA24T_OPAC_p9_H5V3YBCXY.2.aligned.duplicates...                 SM-DHZ8W   \n",
       "1  2_AA25T_OPAC_p4_H5V3YBCXY.2.aligned.duplicates...                 SM-DHZ99   \n",
       "2  1_AA33N_3D_p5_HVLVWBCXX.1.aligned.duplicates_m...                 SM-D59KF   \n",
       "3  2_AA33N_OPAC_p5_H5V3YBCXY.2.aligned.duplicates...                 SM-DHZ9L   \n",
       "4  2_AA33T_OPAC_p5_H5V3YBCXY.2.aligned.duplicates...                 SM-DHZ9X   \n",
       "\n",
       "                            chromosome_coverage_dist  \\\n",
       "0  gs://fc-35446f22-ea37-483a-bd6c-5e9fc56851ff/5...   \n",
       "1  gs://fc-35446f22-ea37-483a-bd6c-5e9fc56851ff/5...   \n",
       "2  gs://fc-35446f22-ea37-483a-bd6c-5e9fc56851ff/5...   \n",
       "3  gs://fc-35446f22-ea37-483a-bd6c-5e9fc56851ff/5...   \n",
       "4  gs://fc-35446f22-ea37-483a-bd6c-5e9fc56851ff/5...   \n",
       "\n",
       "                              clean_bai_file_capture  \\\n",
       "0  gs://fc-35446f22-ea37-483a-bd6c-5e9fc56851ff/s...   \n",
       "1  gs://fc-35446f22-ea37-483a-bd6c-5e9fc56851ff/s...   \n",
       "2  gs://fc-35446f22-ea37-483a-bd6c-5e9fc56851ff/s...   \n",
       "3  gs://fc-35446f22-ea37-483a-bd6c-5e9fc56851ff/s...   \n",
       "4  gs://fc-35446f22-ea37-483a-bd6c-5e9fc56851ff/s...   \n",
       "\n",
       "                              clean_bam_file_capture  \\\n",
       "0  gs://fc-35446f22-ea37-483a-bd6c-5e9fc56851ff/s...   \n",
       "1  gs://fc-35446f22-ea37-483a-bd6c-5e9fc56851ff/s...   \n",
       "2  gs://fc-35446f22-ea37-483a-bd6c-5e9fc56851ff/s...   \n",
       "3  gs://fc-35446f22-ea37-483a-bd6c-5e9fc56851ff/s...   \n",
       "4  gs://fc-35446f22-ea37-483a-bd6c-5e9fc56851ff/s...   \n",
       "\n",
       "                                           cnv_calls external_id_validation  \\\n",
       "0  gs://fc-35446f22-ea37-483a-bd6c-5e9fc56851ff/5...          AA24T_OPAC_p9   \n",
       "1  gs://fc-35446f22-ea37-483a-bd6c-5e9fc56851ff/5...          AA25T_OPAC_p4   \n",
       "2  gs://fc-35446f22-ea37-483a-bd6c-5e9fc56851ff/b...            AA33N_3D_p5   \n",
       "3  gs://fc-35446f22-ea37-483a-bd6c-5e9fc56851ff/5...          AA33N_OPAC_p5   \n",
       "4  gs://fc-35446f22-ea37-483a-bd6c-5e9fc56851ff/5...          AA33T_OPAC_p5   \n",
       "\n",
       "           ...                                        oncotated_maf_mutect1  \\\n",
       "0          ...                                                          NaN   \n",
       "1          ...                                                          NaN   \n",
       "2          ...            gs://fc-35446f22-ea37-483a-bd6c-5e9fc56851ff/f...   \n",
       "3          ...            gs://fc-35446f22-ea37-483a-bd6c-5e9fc56851ff/f...   \n",
       "4          ...                                                          NaN   \n",
       "\n",
       "                               oncotated_maf_mutect2 segmented_copy_ratio_img  \\\n",
       "0                                                NaN                      NaN   \n",
       "1                                                NaN                      NaN   \n",
       "2  gs://fc-35446f22-ea37-483a-bd6c-5e9fc56851ff/f...                      NaN   \n",
       "3  gs://fc-35446f22-ea37-483a-bd6c-5e9fc56851ff/f...                      NaN   \n",
       "4                                                NaN                      NaN   \n",
       "\n",
       "  interval_list_padded sample_cum_cov sample_cum_cov_prop clear_indels  \\\n",
       "0                  NaN            NaN                 NaN          NaN   \n",
       "1                  NaN            NaN                 NaN          NaN   \n",
       "2                  NaN            NaN                 NaN          NaN   \n",
       "3                  NaN            NaN                 NaN          NaN   \n",
       "4                  NaN            NaN                 NaN          NaN   \n",
       "\n",
       "  filtered_indels match_normal_bam_file match_normal_sample_id  \n",
       "0             NaN                   NaN                    NaN  \n",
       "1             NaN                   NaN                    NaN  \n",
       "2             NaN                   NaN                    NaN  \n",
       "3             NaN                   NaN                    NaN  \n",
       "4             NaN                   NaN                    NaN  \n",
       "\n",
       "[5 rows x 53 columns]"
      ]
     },
     "execution_count": 161,
     "metadata": {},
     "output_type": "execute_result"
    }
   ],
   "source": [
    "remote_samples.head()"
   ]
  },
  {
   "cell_type": "code",
   "execution_count": 160,
   "metadata": {},
   "outputs": [
    {
     "data": {
      "text/html": [
       "<div>\n",
       "<style>\n",
       "    .dataframe thead tr:only-child th {\n",
       "        text-align: right;\n",
       "    }\n",
       "\n",
       "    .dataframe thead th {\n",
       "        text-align: left;\n",
       "    }\n",
       "\n",
       "    .dataframe tbody tr th {\n",
       "        vertical-align: top;\n",
       "    }\n",
       "</style>\n",
       "<table border=\"1\" class=\"dataframe\">\n",
       "  <thead>\n",
       "    <tr style=\"text-align: right;\">\n",
       "      <th></th>\n",
       "      <th>sample_id</th>\n",
       "      <th>participant_id</th>\n",
       "      <th>clean_bam_file_capture</th>\n",
       "      <th>external_id_validation</th>\n",
       "      <th>aggregation_product_name_validation</th>\n",
       "      <th>bsp_sample_id_validation</th>\n",
       "      <th>stock_sample_id_validation</th>\n",
       "      <th>sample_type</th>\n",
       "      <th>picard_aggregation_type_validation</th>\n",
       "      <th>processed_subtype_validation</th>\n",
       "      <th>source_subtype_validation</th>\n",
       "      <th>squid_sample_id_validation</th>\n",
       "      <th>tumor_subtype</th>\n",
       "      <th>short_letter_code</th>\n",
       "      <th>bam_filename</th>\n",
       "      <th>bai_filename</th>\n",
       "      <th>clean_bai_file_capture</th>\n",
       "      <th>tsca_id</th>\n",
       "      <th>Collection</th>\n",
       "      <th>membership:sample_set_id</th>\n",
       "    </tr>\n",
       "  </thead>\n",
       "  <tbody>\n",
       "    <tr>\n",
       "      <th>0</th>\n",
       "      <td>AA33-Normal-SM-D4L4D</td>\n",
       "      <td>AA33</td>\n",
       "      <td>gs://fc-35446f22-ea37-483a-bd6c-5e9fc56851ff/s...</td>\n",
       "      <td>AA33N_3D_p5</td>\n",
       "      <td>TSCA Rapid Cancer Detection Panel v2</td>\n",
       "      <td>SM-D59KF</td>\n",
       "      <td>SM-D4L4D</td>\n",
       "      <td>Normal</td>\n",
       "      <td>PCR</td>\n",
       "      <td>Cells:Pellet frozen</td>\n",
       "      <td>Tissue:Fresh Tissue</td>\n",
       "      <td>AA33N_3D_p5</td>\n",
       "      <td>NaN</td>\n",
       "      <td>NDNA</td>\n",
       "      <td>1_AA33N_3D_p5_HVLVWBCXX.1.aligned.duplicates_m...</td>\n",
       "      <td>1_AA33N_3D_p5_HVLVWBCXX.1.aligned.duplicates_m...</td>\n",
       "      <td>gs://fc-35446f22-ea37-483a-bd6c-5e9fc56851ff/s...</td>\n",
       "      <td>TSCA1213</td>\n",
       "      <td>Cancer Cell Line Factory (CCLF) / Andy Aguirre...</td>\n",
       "      <td>COHORT_AA</td>\n",
       "    </tr>\n",
       "    <tr>\n",
       "      <th>1</th>\n",
       "      <td>AA34-Tumor-SM-D4L25</td>\n",
       "      <td>AA34</td>\n",
       "      <td>gs://fc-35446f22-ea37-483a-bd6c-5e9fc56851ff/s...</td>\n",
       "      <td>AA34T_3D_p4</td>\n",
       "      <td>TSCA Rapid Cancer Detection Panel v2</td>\n",
       "      <td>SM-D59I2</td>\n",
       "      <td>SM-D4L25</td>\n",
       "      <td>Tumor</td>\n",
       "      <td>PCR</td>\n",
       "      <td>Cells:Pellet frozen</td>\n",
       "      <td>Tissue:Fresh Tissue</td>\n",
       "      <td>AA34T_3D_p4</td>\n",
       "      <td>Metastatic</td>\n",
       "      <td>TM</td>\n",
       "      <td>1_AA34T_3D_p4_HVLVWBCXX.1.aligned.duplicates_m...</td>\n",
       "      <td>1_AA34T_3D_p4_HVLVWBCXX.1.aligned.duplicates_m...</td>\n",
       "      <td>gs://fc-35446f22-ea37-483a-bd6c-5e9fc56851ff/s...</td>\n",
       "      <td>TSCA1213</td>\n",
       "      <td>Cancer Cell Line Factory (CCLF) / Andy Aguirre...</td>\n",
       "      <td>COHORT_AA</td>\n",
       "    </tr>\n",
       "    <tr>\n",
       "      <th>2</th>\n",
       "      <td>AA36-Tumor-SM-D4L2H</td>\n",
       "      <td>AA36</td>\n",
       "      <td>gs://fc-35446f22-ea37-483a-bd6c-5e9fc56851ff/s...</td>\n",
       "      <td>AA36T_3D_p5</td>\n",
       "      <td>TSCA Rapid Cancer Detection Panel v2</td>\n",
       "      <td>SM-D59IE</td>\n",
       "      <td>SM-D4L2H</td>\n",
       "      <td>Tumor</td>\n",
       "      <td>PCR</td>\n",
       "      <td>Cells:Pellet frozen</td>\n",
       "      <td>Tissue:Fresh Tissue</td>\n",
       "      <td>AA36T_3D_p5</td>\n",
       "      <td>Metastatic</td>\n",
       "      <td>TM</td>\n",
       "      <td>1_AA36T_3D_p5_HVLVWBCXX.1.aligned.duplicates_m...</td>\n",
       "      <td>1_AA36T_3D_p5_HVLVWBCXX.1.aligned.duplicates_m...</td>\n",
       "      <td>gs://fc-35446f22-ea37-483a-bd6c-5e9fc56851ff/s...</td>\n",
       "      <td>TSCA1213</td>\n",
       "      <td>Cancer Cell Line Factory (CCLF) / Andy Aguirre...</td>\n",
       "      <td>COHORT_AA</td>\n",
       "    </tr>\n",
       "    <tr>\n",
       "      <th>3</th>\n",
       "      <td>AA39-Tumor-SM-D4L3Q</td>\n",
       "      <td>AA39</td>\n",
       "      <td>gs://fc-35446f22-ea37-483a-bd6c-5e9fc56851ff/s...</td>\n",
       "      <td>AA39T_OPAC_3D_p5</td>\n",
       "      <td>TSCA Rapid Cancer Detection Panel v2</td>\n",
       "      <td>SM-D59JQ</td>\n",
       "      <td>SM-D4L3Q</td>\n",
       "      <td>Tumor</td>\n",
       "      <td>PCR</td>\n",
       "      <td>Cells:Pellet frozen</td>\n",
       "      <td>Tissue:Fresh Tissue</td>\n",
       "      <td>AA39T_OPAC_3D_p5</td>\n",
       "      <td>Primary</td>\n",
       "      <td>TP</td>\n",
       "      <td>1_AA39T_OPAC_3D_p5_HVLVWBCXX.1.aligned.duplica...</td>\n",
       "      <td>1_AA39T_OPAC_3D_p5_HVLVWBCXX.1.aligned.duplica...</td>\n",
       "      <td>gs://fc-35446f22-ea37-483a-bd6c-5e9fc56851ff/s...</td>\n",
       "      <td>TSCA1213</td>\n",
       "      <td>Cancer Cell Line Factory (CCLF) / Andy Aguirre...</td>\n",
       "      <td>COHORT_AA</td>\n",
       "    </tr>\n",
       "    <tr>\n",
       "      <th>4</th>\n",
       "      <td>AA40-Tumor-SM-D4L42</td>\n",
       "      <td>AA40</td>\n",
       "      <td>gs://fc-35446f22-ea37-483a-bd6c-5e9fc56851ff/s...</td>\n",
       "      <td>AA40T_3D_p5</td>\n",
       "      <td>TSCA Rapid Cancer Detection Panel v2</td>\n",
       "      <td>SM-D59K3</td>\n",
       "      <td>SM-D4L42</td>\n",
       "      <td>Tumor</td>\n",
       "      <td>PCR</td>\n",
       "      <td>Cells:Pellet frozen</td>\n",
       "      <td>Tissue:Fresh Tissue</td>\n",
       "      <td>AA40T_3D_p5</td>\n",
       "      <td>Primary</td>\n",
       "      <td>TP</td>\n",
       "      <td>1_AA40T_3D_p5_HVLVWBCXX.1.aligned.duplicates_m...</td>\n",
       "      <td>1_AA40T_3D_p5_HVLVWBCXX.1.aligned.duplicates_m...</td>\n",
       "      <td>gs://fc-35446f22-ea37-483a-bd6c-5e9fc56851ff/s...</td>\n",
       "      <td>TSCA1213</td>\n",
       "      <td>Cancer Cell Line Factory (CCLF) / Andy Aguirre...</td>\n",
       "      <td>COHORT_AA</td>\n",
       "    </tr>\n",
       "  </tbody>\n",
       "</table>\n",
       "</div>"
      ],
      "text/plain": [
       "              sample_id participant_id  \\\n",
       "0  AA33-Normal-SM-D4L4D           AA33   \n",
       "1   AA34-Tumor-SM-D4L25           AA34   \n",
       "2   AA36-Tumor-SM-D4L2H           AA36   \n",
       "3   AA39-Tumor-SM-D4L3Q           AA39   \n",
       "4   AA40-Tumor-SM-D4L42           AA40   \n",
       "\n",
       "                              clean_bam_file_capture external_id_validation  \\\n",
       "0  gs://fc-35446f22-ea37-483a-bd6c-5e9fc56851ff/s...            AA33N_3D_p5   \n",
       "1  gs://fc-35446f22-ea37-483a-bd6c-5e9fc56851ff/s...            AA34T_3D_p4   \n",
       "2  gs://fc-35446f22-ea37-483a-bd6c-5e9fc56851ff/s...            AA36T_3D_p5   \n",
       "3  gs://fc-35446f22-ea37-483a-bd6c-5e9fc56851ff/s...       AA39T_OPAC_3D_p5   \n",
       "4  gs://fc-35446f22-ea37-483a-bd6c-5e9fc56851ff/s...            AA40T_3D_p5   \n",
       "\n",
       "    aggregation_product_name_validation bsp_sample_id_validation  \\\n",
       "0  TSCA Rapid Cancer Detection Panel v2                 SM-D59KF   \n",
       "1  TSCA Rapid Cancer Detection Panel v2                 SM-D59I2   \n",
       "2  TSCA Rapid Cancer Detection Panel v2                 SM-D59IE   \n",
       "3  TSCA Rapid Cancer Detection Panel v2                 SM-D59JQ   \n",
       "4  TSCA Rapid Cancer Detection Panel v2                 SM-D59K3   \n",
       "\n",
       "  stock_sample_id_validation sample_type picard_aggregation_type_validation  \\\n",
       "0                   SM-D4L4D      Normal                                PCR   \n",
       "1                   SM-D4L25       Tumor                                PCR   \n",
       "2                   SM-D4L2H       Tumor                                PCR   \n",
       "3                   SM-D4L3Q       Tumor                                PCR   \n",
       "4                   SM-D4L42       Tumor                                PCR   \n",
       "\n",
       "  processed_subtype_validation source_subtype_validation  \\\n",
       "0          Cells:Pellet frozen       Tissue:Fresh Tissue   \n",
       "1          Cells:Pellet frozen       Tissue:Fresh Tissue   \n",
       "2          Cells:Pellet frozen       Tissue:Fresh Tissue   \n",
       "3          Cells:Pellet frozen       Tissue:Fresh Tissue   \n",
       "4          Cells:Pellet frozen       Tissue:Fresh Tissue   \n",
       "\n",
       "  squid_sample_id_validation tumor_subtype short_letter_code  \\\n",
       "0                AA33N_3D_p5           NaN              NDNA   \n",
       "1                AA34T_3D_p4    Metastatic                TM   \n",
       "2                AA36T_3D_p5    Metastatic                TM   \n",
       "3           AA39T_OPAC_3D_p5       Primary                TP   \n",
       "4                AA40T_3D_p5       Primary                TP   \n",
       "\n",
       "                                        bam_filename  \\\n",
       "0  1_AA33N_3D_p5_HVLVWBCXX.1.aligned.duplicates_m...   \n",
       "1  1_AA34T_3D_p4_HVLVWBCXX.1.aligned.duplicates_m...   \n",
       "2  1_AA36T_3D_p5_HVLVWBCXX.1.aligned.duplicates_m...   \n",
       "3  1_AA39T_OPAC_3D_p5_HVLVWBCXX.1.aligned.duplica...   \n",
       "4  1_AA40T_3D_p5_HVLVWBCXX.1.aligned.duplicates_m...   \n",
       "\n",
       "                                        bai_filename  \\\n",
       "0  1_AA33N_3D_p5_HVLVWBCXX.1.aligned.duplicates_m...   \n",
       "1  1_AA34T_3D_p4_HVLVWBCXX.1.aligned.duplicates_m...   \n",
       "2  1_AA36T_3D_p5_HVLVWBCXX.1.aligned.duplicates_m...   \n",
       "3  1_AA39T_OPAC_3D_p5_HVLVWBCXX.1.aligned.duplica...   \n",
       "4  1_AA40T_3D_p5_HVLVWBCXX.1.aligned.duplicates_m...   \n",
       "\n",
       "                              clean_bai_file_capture   tsca_id  \\\n",
       "0  gs://fc-35446f22-ea37-483a-bd6c-5e9fc56851ff/s...  TSCA1213   \n",
       "1  gs://fc-35446f22-ea37-483a-bd6c-5e9fc56851ff/s...  TSCA1213   \n",
       "2  gs://fc-35446f22-ea37-483a-bd6c-5e9fc56851ff/s...  TSCA1213   \n",
       "3  gs://fc-35446f22-ea37-483a-bd6c-5e9fc56851ff/s...  TSCA1213   \n",
       "4  gs://fc-35446f22-ea37-483a-bd6c-5e9fc56851ff/s...  TSCA1213   \n",
       "\n",
       "                                          Collection membership:sample_set_id  \n",
       "0  Cancer Cell Line Factory (CCLF) / Andy Aguirre...                COHORT_AA  \n",
       "1  Cancer Cell Line Factory (CCLF) / Andy Aguirre...                COHORT_AA  \n",
       "2  Cancer Cell Line Factory (CCLF) / Andy Aguirre...                COHORT_AA  \n",
       "3  Cancer Cell Line Factory (CCLF) / Andy Aguirre...                COHORT_AA  \n",
       "4  Cancer Cell Line Factory (CCLF) / Andy Aguirre...                COHORT_AA  "
      ]
     },
     "execution_count": 160,
     "metadata": {},
     "output_type": "execute_result"
    }
   ],
   "source": [
    "### PAIRS\n",
    "cohorts.head()"
   ]
  },
  {
   "cell_type": "code",
   "execution_count": null,
   "metadata": {
    "collapsed": true
   },
   "outputs": [],
   "source": []
  }
 ],
 "metadata": {
  "kernelspec": {
   "display_name": "Python 3",
   "language": "python",
   "name": "python3"
  },
  "language_info": {
   "codemirror_mode": {
    "name": "ipython",
    "version": 3
   },
   "file_extension": ".py",
   "mimetype": "text/x-python",
   "name": "python",
   "nbconvert_exporter": "python",
   "pygments_lexer": "ipython3",
   "version": "3.6.1"
  }
 },
 "nbformat": 4,
 "nbformat_minor": 2
}
