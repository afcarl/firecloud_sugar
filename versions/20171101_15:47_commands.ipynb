{
 "cells": [
  {
   "cell_type": "markdown",
   "metadata": {},
   "source": [
    "### Commands"
   ]
  },
  {
   "cell_type": "code",
   "execution_count": 1,
   "metadata": {
    "collapsed": true
   },
   "outputs": [],
   "source": [
    "from firecloud import api as firecloud_api\n",
    "import glob\n",
    "import fc_interface"
   ]
  },
  {
   "cell_type": "code",
   "execution_count": 2,
   "metadata": {
    "collapsed": true
   },
   "outputs": [],
   "source": [
    "%load_ext autoreload\n",
    "%autoreload 2"
   ]
  },
  {
   "cell_type": "code",
   "execution_count": 3,
   "metadata": {
    "collapsed": true
   },
   "outputs": [],
   "source": [
    "### Parameters\n",
    "namespace = \"nci-mimoun-bi-org\"\n",
    "workspace = \"CCLF_TSCA\"\n",
    "paths_to_samples_info = \"paths_to_batches_info.xlsx\"\n",
    "google_bucket_id = \"fc-35446f22-ea37-483a-bd6c-5e9fc56851ff\"\n",
    "batches_info = pd.read_excel(paths_to_samples_info)"
   ]
  },
  {
   "cell_type": "markdown",
   "metadata": {},
   "source": [
    "#### Deletions"
   ]
  },
  {
   "cell_type": "code",
   "execution_count": null,
   "metadata": {
    "collapsed": true,
    "editable": false,
    "run_control": {
     "frozen": true
    }
   },
   "outputs": [],
   "source": [
    "### Delete unnecessary attributes in samples\n",
    "attrs = [\"annotate_variants_vcf\", \"annotate_variants_vcf_index\", \"oncotated_maf\", \"mutect2_vcf_index\", \"match_normal_oncotated_maf\", \"gnomad_vcf\", \"merged_vcfs\", \"match_primary_tumor_bam_file\"]\n",
    "for idx, row in all_samples.iterrows():\n",
    "    fc_interface.delete_entity_attributes(namespace, workspace, \"sample\", row['entity:sample_id'], attrs)"
   ]
  },
  {
   "cell_type": "code",
   "execution_count": null,
   "metadata": {
    "collapsed": true,
    "editable": false,
    "run_control": {
     "frozen": true
    }
   },
   "outputs": [],
   "source": [
    "### Delete method repostory\n",
    "firecloud_api.delete_repository_method('tsca', 'CreatePoN', 15)"
   ]
  },
  {
   "cell_type": "code",
   "execution_count": null,
   "metadata": {
    "collapsed": true,
    "editable": false,
    "run_control": {
     "frozen": true
    }
   },
   "outputs": [],
   "source": [
    "### Delete method repository\n",
    "firecloud_api.delete_repository_method('tsca', 'Mutect2_for_Normal', 1)"
   ]
  },
  {
   "cell_type": "code",
   "execution_count": null,
   "metadata": {
    "collapsed": true,
    "editable": false,
    "run_control": {
     "frozen": true
    }
   },
   "outputs": [],
   "source": [
    "### Delete multiple method repositories\n",
    "for i in range(10, 23):\n",
    "    firecloud_api.delete_repository_method('tsca', 'CreatePoN', i)"
   ]
  },
  {
   "cell_type": "code",
   "execution_count": null,
   "metadata": {
    "collapsed": true,
    "editable": false,
    "run_control": {
     "frozen": true
    }
   },
   "outputs": [],
   "source": [
    "### Delete method config\n",
    "firecloud_api.delete_workspace_config(namespace, workspace, \"tsca\", \"Mutect2_for_Normal\")"
   ]
  },
  {
   "cell_type": "markdown",
   "metadata": {},
   "source": [
    "#### Pair creation"
   ]
  },
  {
   "cell_type": "code",
   "execution_count": null,
   "metadata": {
    "collapsed": true,
    "editable": false,
    "run_control": {
     "frozen": true
    }
   },
   "outputs": [],
   "source": [
    "### Create pairs\n",
    "all_samples = fc_interface.get_samples_multiple_batches(paths_to_samples_info, google_bucket_id)\n",
    "pairs_list = fc_interface.create_pairs_list(all_samples)\n",
    "blacklist = [\"DW039-Tumor-SM-DB2IF\"]\n",
    "clean_pairs_list = pairs_list[ ~pairs_list['case_sample_id'].isin(blacklist)]"
   ]
  },
  {
   "cell_type": "code",
   "execution_count": null,
   "metadata": {
    "collapsed": true,
    "editable": false,
    "run_control": {
     "frozen": true
    }
   },
   "outputs": [],
   "source": [
    "### Upload pairs\n",
    "res = fc_interface.upload_pairs(namespace, workspace, clean_pairs_list)"
   ]
  },
  {
   "cell_type": "code",
   "execution_count": null,
   "metadata": {
    "collapsed": true,
    "editable": false,
    "run_control": {
     "frozen": true
    }
   },
   "outputs": [],
   "source": [
    "# ### Delete unnecessary attributes in pairs\n",
    "# ### NOT WOKING\n",
    "# all_samples = fc_interface.get_samples_multiple_batches(paths_to_samples_info, google_bucket_id)\n",
    "# pairs_list = fc_interface.create_pairs_list(all_samples)\n",
    "# attrs = [\"__annotate_variants_vcf\", \"__annotate_variants_vcf_index\", \\\n",
    "#          \"__scattered_intervals\", \"__tmp_mutect_vcf2\", \"_tmp_mutect_vcf_index2\", \\\n",
    "#          \"__tmp_mutect_vcf2\", \"_tmp_mutect_vcf_index2\"]\n",
    "# for idx, row in pairs_list.iterrows():\n",
    "#     fc_interface.delete_entity_attributes(namespace, workspace, \"pair\", row['entity:pair_id'], attrs)"
   ]
  },
  {
   "cell_type": "code",
   "execution_count": null,
   "metadata": {
    "collapsed": true,
    "editable": false,
    "run_control": {
     "frozen": true
    }
   },
   "outputs": [],
   "source": [
    "### Upload metadata for given batch\n",
    "fc_interface.update_batch_metadata('TSCA21', \\\n",
    "                                  '/xchip/clf/seq_data/processed_for_fh/tsca21_201708_SN0128552/tsca21_201708_SN0128552.import_samples.txt', \\\n",
    "                                      paths_to_samples_info, \\\n",
    "                                        namespace, workspace, google_bucket_id)"
   ]
  },
  {
   "cell_type": "code",
   "execution_count": null,
   "metadata": {
    "collapsed": true,
    "editable": false,
    "run_control": {
     "frozen": true
    }
   },
   "outputs": [],
   "source": [
    "### Delete sample_set\n",
    "fc_interface.delete_sample_set(namespace, workspace, 'TSCA1213')"
   ]
  },
  {
   "cell_type": "code",
   "execution_count": null,
   "metadata": {
    "collapsed": true,
    "editable": false,
    "run_control": {
     "frozen": true
    }
   },
   "outputs": [],
   "source": [
    "### All paths to batch info\n",
    "# pd.read_excel('paths_to_batches_info.xlsx').path_to_samples_info.tolist()"
   ]
  },
  {
   "cell_type": "code",
   "execution_count": null,
   "metadata": {
    "collapsed": true,
    "editable": false,
    "run_control": {
     "frozen": true
    }
   },
   "outputs": [],
   "source": [
    "### Create cumulative PoN (all batches)\n",
    "batches_info = pd.read_excel(paths_to_samples_info)\n",
    "PoN = fc_interface.create_panel_of_normals(batches_info.path_to_samples_info.tolist(), -1, 'Cum_PoN_21_all')\n",
    "fc_interface.upload_pon(PoN, 'CumPoN21', namespace, workspace)"
   ]
  },
  {
   "cell_type": "code",
   "execution_count": null,
   "metadata": {
    "collapsed": true,
    "editable": false,
    "run_control": {
     "frozen": true
    }
   },
   "outputs": [],
   "source": [
    "### Create PoN from normals of only one batch (no samples from other batches)\n",
    "batches_info = pd.read_excel(paths_to_samples_info)\n",
    "tsca21_path = batches_info.path_to_samples_info.tolist()[-1]\n",
    "PoN = fc_interface.create_panel_of_normals([tsca21_path], -1, 'PoN_TSCA21_Normals')\n",
    "fc_interface.upload_pon(PoN, 'PoN_TSCA21_Normals', namespace, workspace)"
   ]
  },
  {
   "cell_type": "code",
   "execution_count": null,
   "metadata": {
    "collapsed": true,
    "editable": false,
    "run_control": {
     "frozen": true
    }
   },
   "outputs": [],
   "source": [
    "### Delete pair set\n",
    "fc_interface.delete_pair_set(namespace, workspace, 'TSCA1213')"
   ]
  },
  {
   "cell_type": "code",
   "execution_count": null,
   "metadata": {
    "collapsed": true,
    "editable": false,
    "run_control": {
     "frozen": true
    }
   },
   "outputs": [],
   "source": [
    "### Delete sample set\n",
    "fc_interface.delete_sample_set(namespace, workspace, 'TSCA1213')"
   ]
  },
  {
   "cell_type": "code",
   "execution_count": null,
   "metadata": {
    "collapsed": true,
    "editable": false,
    "run_control": {
     "frozen": true
    }
   },
   "outputs": [],
   "source": [
    "### Download method configs\n",
    "fc_interface.download_method_configs(namespace, workspace)"
   ]
  },
  {
   "cell_type": "code",
   "execution_count": null,
   "metadata": {
    "collapsed": true,
    "editable": false,
    "run_control": {
     "frozen": true
    }
   },
   "outputs": [],
   "source": [
    "### Upload pairsets\n",
    "tn_pairsets, tp_pairsets = fc_interface.create_pairsets(all_samples, clean_pairs_list)\n",
    "fc_interface.upload_pairsets(namespace, workspace, tn_pairsets, \"TN\")\n",
    "fc_interface.upload_pairsets(namespace, workspace, tp_pairsets, \"TP\")"
   ]
  },
  {
   "cell_type": "code",
   "execution_count": null,
   "metadata": {
    "collapsed": true,
    "editable": false,
    "run_control": {
     "frozen": true
    }
   },
   "outputs": [],
   "source": [
    "### Delete all pairs\n",
    "for idx, row in clean_pairs_list.iterrows():\n",
    "    res = fc_interface.delete_pair(namespace, workspace, row['entity:pair_id'])\n",
    "    print(res)"
   ]
  },
  {
   "cell_type": "code",
   "execution_count": null,
   "metadata": {
    "collapsed": true,
    "editable": false,
    "run_control": {
     "frozen": true
    }
   },
   "outputs": [],
   "source": [
    "all_samples = fc_interface.get_samples_multiple_batches(paths_to_samples_info, google_bucket_id)\n",
    "pairs_list = fc_interface.create_pairs_list(all_samples)\n",
    "blacklist = [\"DW039-Tumor-SM-DB2IF\"]\n",
    "clean_pairs_list = pairs_list[ ~pairs_list['case_sample_id'].isin(blacklist)]\n",
    "\n",
    "### Update pair attributes\n",
    "update_pair_attrs(namespace, workspace, clean_pairs_list, attrs=['control_sample_tsca_id'])"
   ]
  },
  {
   "cell_type": "code",
   "execution_count": null,
   "metadata": {
    "collapsed": true,
    "editable": false,
    "run_control": {
     "frozen": true
    }
   },
   "outputs": [],
   "source": [
    "### Create PoN from all normals\n",
    "batches_info = pd.read_excel(paths_to_samples_info)\n",
    "all_paths = batches_info.path_to_samples_info.tolist()\n",
    "PoN = fc_interface.create_panel_of_normals(all_paths, -1, 'Cum_PoN_21_all')\n",
    "fc_interface.upload_pon(PoN, 'Cum_PoN_21_all', namespace, workspace)"
   ]
  },
  {
   "cell_type": "code",
   "execution_count": null,
   "metadata": {
    "collapsed": true
   },
   "outputs": [],
   "source": [
    "### Create PoN with normals from batch + other normals\n",
    "batches_info = pd.read_excel(paths_to_samples_info)\n",
    "all_paths = batches_info.path_to_samples_info.tolist()\n",
    "# PoN = fc_interface.create_panel_of_normals(all_paths, -1, 'Cum_PoN_21_all')\n",
    "# fc_interface.upload_pon(PoN, 'Cum_PoN_21_all', namespace, workspace)"
   ]
  },
  {
   "cell_type": "code",
   "execution_count": null,
   "metadata": {
    "collapsed": true
   },
   "outputs": [],
   "source": [
    "# batch_id = 'TSCA21'\n",
    "# batch_path = batches_info.loc[batches_info.tsca_id==batch_id, 'path_to_samples_info'].item()\n",
    "# pd.read_table(batch_path)\n",
    "# batch_id, paths, N, name"
   ]
  },
  {
   "cell_type": "code",
   "execution_count": null,
   "metadata": {
    "collapsed": true,
    "editable": false,
    "run_control": {
     "frozen": true
    }
   },
   "outputs": [],
   "source": [
    "### Delete all cohorts\n",
    "cohort_metadata = pd.read_table('cohort_files/cohort_names_dictionary.txt', header=None, names=['name', 'code'])\n",
    "cohort_codes = cohort_metadata.code.tolist()\n",
    "for c in cohort_codes:\n",
    "    fc_interface.delete_sample_set(namespace, workspace, c)"
   ]
  },
  {
   "cell_type": "code",
   "execution_count": null,
   "metadata": {
    "collapsed": true,
    "editable": false,
    "run_control": {
     "frozen": true
    }
   },
   "outputs": [],
   "source": [
    "# Retrieve samples before export to FC\n",
    "tsca21 = \\\n",
    "    fc_interface.\\\n",
    "        prepare_batch_samples_for_metadata_export('/xchip/clf/seq_data/processed_for_fh/tsca21_201708_SN0128552/tsca21_201708_SN0128552.import_samples.txt', \\\n",
    "                            'TSCA21', google_bucket_id)"
   ]
  },
  {
   "cell_type": "code",
   "execution_count": null,
   "metadata": {
    "collapsed": true,
    "editable": false,
    "run_control": {
     "frozen": true
    }
   },
   "outputs": [],
   "source": [
    "### Update WDLs\n",
    "fc_interface.download_remote_wdls(namespace, workspace)"
   ]
  },
  {
   "cell_type": "code",
   "execution_count": null,
   "metadata": {
    "collapsed": true,
    "editable": false,
    "run_control": {
     "frozen": true
    }
   },
   "outputs": [],
   "source": [
    "### Prepare cohorts for export to FC\n",
    "cohorts = fc_interface.prepare_cohorts_for_metadata_export(paths_to_batches_info, google_bucket_id)"
   ]
  },
  {
   "cell_type": "code",
   "execution_count": null,
   "metadata": {
    "collapsed": true,
    "editable": false,
    "run_control": {
     "frozen": true
    }
   },
   "outputs": [],
   "source": [
    "# # Delete cohorts\n",
    "# cohort_codes = pd.read_table('cohort_files/cohort_names_dictionary.txt', header=None)\n",
    "# for coh_code in cohort_codes.loc[:, 1].tolist():\n",
    "#     res = fc_interface.delete_sample_set(namespace, workspace, coh_code)"
   ]
  },
  {
   "cell_type": "code",
   "execution_count": null,
   "metadata": {
    "editable": false,
    "run_control": {
     "frozen": true
    }
   },
   "outputs": [],
   "source": [
    "# ### Upload metadata for given batch\n",
    "# fc_interface.update_batch_metadata('TSCA21', \\\n",
    "#                                   '/xchip/clf/seq_data/processed_for_fh/tsca21_201708_SN0128552/tsca21_201708_SN0128552.import_samples.txt', \\\n",
    "#                                       paths_to_samples_info, \\\n",
    "#                                         namespace, workspace, google_bucket_id)"
   ]
  },
  {
   "cell_type": "code",
   "execution_count": null,
   "metadata": {
    "collapsed": true,
    "editable": false,
    "run_control": {
     "frozen": true
    }
   },
   "outputs": [],
   "source": [
    "# Export metadata\n",
    "(r1, r2, r3, r4, r5, r6) = fc_interface.export_batch_metadata_to_fc('TSCA21', namespace, workspace)"
   ]
  },
  {
   "cell_type": "code",
   "execution_count": null,
   "metadata": {
    "collapsed": true,
    "editable": false,
    "run_control": {
     "frozen": true
    }
   },
   "outputs": [],
   "source": [
    "# Cohorts\n",
    "cohorts = fc_interface.prepare_cohorts_for_metadata_export(paths_to_batches_info, google_bucket_id)"
   ]
  },
  {
   "cell_type": "code",
   "execution_count": null,
   "metadata": {
    "collapsed": true,
    "editable": false,
    "run_control": {
     "frozen": true
    }
   },
   "outputs": [],
   "source": [
    "### Create panel of normals from batch\n",
    "pon = fc_interface.create_panel_of_normals_from_batch(batch_id, paths_to_samples_info, N=20).shape"
   ]
  },
  {
   "cell_type": "code",
   "execution_count": null,
   "metadata": {
    "collapsed": true,
    "editable": false,
    "run_control": {
     "frozen": true
    }
   },
   "outputs": [],
   "source": [
    "### Create panel of normals from batch\n",
    "for i, row in batches_info.iterrows():\n",
    "    pon, name = fc_interface.create_panel_of_normals_from_batch(row['tsca_id'], paths_to_samples_info, N=20)\n",
    "    fc_interface.upload_pon(pon, name, namespace, workspace)"
   ]
  },
  {
   "cell_type": "code",
   "execution_count": null,
   "metadata": {
    "collapsed": true,
    "editable": false,
    "run_control": {
     "frozen": true
    }
   },
   "outputs": [],
   "source": [
    "# Retrieve samples before export to FC\n",
    "tsca21 = \\\n",
    "    fc_interface.\\\n",
    "        prepare_batch_samples_for_metadata_export('/xchip/clf/seq_data/processed_for_fh/tsca21_201708_SN0128552/tsca21_201708_SN0128552.import_samples.txt', \\\n",
    "                            'TSCA21', google_bucket_id)"
   ]
  },
  {
   "cell_type": "code",
   "execution_count": null,
   "metadata": {
    "collapsed": true,
    "editable": false,
    "run_control": {
     "frozen": true
    }
   },
   "outputs": [],
   "source": [
    "### Prepare cohorts for export to FC\n",
    "cohorts = fc_interface.\\\n",
    "            prepare_cohorts_for_metadata_export(paths_to_samples_info, google_bucket_id, \\\n",
    "                                               blacklist=[\"CCLF_AA1012-Tumor-SM-F67DF\"])\n",
    "\n",
    "cohorts_sample_set_metadata = \"cohort_files/fc_upload_sample_set_cohorts.txt\"\n",
    "res = fc_interface.upload_entities_from_tsv(namespace, workspace, cohorts_sample_set_metadata)"
   ]
  },
  {
   "cell_type": "code",
   "execution_count": null,
   "metadata": {
    "collapsed": true,
    "editable": false,
    "run_control": {
     "frozen": true
    }
   },
   "outputs": [],
   "source": [
    "# Export metadata\n",
    "(r1, r2, r3, r4, r5, r6) = fc_interface.export_batch_metadata_to_fc('TSCA21', namespace, workspace)"
   ]
  },
  {
   "cell_type": "code",
   "execution_count": null,
   "metadata": {
    "collapsed": true,
    "editable": false,
    "run_control": {
     "frozen": true
    }
   },
   "outputs": [],
   "source": [
    "### Cohort of all tumors\n",
    "res = fc_interface.upload_cohort_all_tumors(paths_to_samples_info, google_bucket_id, \\\n",
    "                                      'Cum_Tumors_22_all', namespace, workspace, ['DW039-Tumor-SM-DB2IF'])"
   ]
  },
  {
   "cell_type": "code",
   "execution_count": null,
   "metadata": {
    "editable": false,
    "run_control": {
     "frozen": true
    }
   },
   "outputs": [],
   "source": [
    "# fc_interface.merge_walkupseq_files(paths_to_samples_info)"
   ]
  },
  {
   "cell_type": "markdown",
   "metadata": {},
   "source": [
    "---"
   ]
  },
  {
   "cell_type": "markdown",
   "metadata": {},
   "source": [
    "---"
   ]
  },
  {
   "cell_type": "markdown",
   "metadata": {},
   "source": [
    "## Refined: New Batch Workflow"
   ]
  },
  {
   "cell_type": "code",
   "execution_count": 4,
   "metadata": {
    "collapsed": true
   },
   "outputs": [],
   "source": [
    "### PARAMETERS\n",
    "tsca_id = \"TSCA22\"\n",
    "tsca_num = \"22\"\n",
    "blacklist = [\"DW039-Tumor-SM-DB2IF\"]\n",
    "path_to_batch_samples_info = batches_info.loc[batches_info.tsca_id==tsca_id, 'path_to_samples_info'].item()"
   ]
  },
  {
   "cell_type": "code",
   "execution_count": null,
   "metadata": {
    "collapsed": true
   },
   "outputs": [],
   "source": [
    "### ALL SAMPLES\n",
    "## Prepare\n",
    "# fc_interface.prepare_patients_for_metadata_export(path_to_batch_samples_info, tsca_id)\n",
    "# fc_interface.prepare_batch_sample_set_for_metadata_export(path_to_batch_samples_info, tsca_id)\n",
    "# fc_interface.prepare_batch_samples_for_metadata_export(path_to_batch_samples_info, tsca_id, google_bucket_id)\n",
    "\n",
    "## Export\n",
    "# fc_interface.export_batch_metadata_to_fc(tsca_id, namespace, workspace)"
   ]
  },
  {
   "cell_type": "code",
   "execution_count": null,
   "metadata": {
    "collapsed": true
   },
   "outputs": [],
   "source": [
    "### PANEL OF NORMALS BATCH\n",
    "## Prepare \n",
    "# pon, name = fc_interface.create_panel_of_normals_from_batch(tsca_id, paths_to_samples_info, N=20)\n",
    "\n",
    "## Export\n",
    "# fc_interface.upload_pon(pon, name, namespace, workspace)"
   ]
  },
  {
   "cell_type": "code",
   "execution_count": null,
   "metadata": {},
   "outputs": [],
   "source": [
    "### PANEL OF NORMALS CUMULATIVE\n",
    "## Prepare\n",
    "# batches_info = pd.read_excel(paths_to_samples_info)\n",
    "# PoN = fc_interface.create_panel_of_normals(batches_info.path_to_samples_info.tolist(), -1, 'Cum_PoN_22_all')\n",
    "\n",
    "## Export\n",
    "# fc_interface.upload_pon(PoN, 'Cum_PoN_22_all', namespace, workspace)"
   ]
  },
  {
   "cell_type": "code",
   "execution_count": null,
   "metadata": {
    "collapsed": true
   },
   "outputs": [],
   "source": [
    "### COHORT SAMPLE SETS\n",
    "## Prepare\n",
    "# cohorts = fc_interface.prepare_cohorts_for_metadata_export(paths_to_samples_info, \\\n",
    "#                                                            google_bucket_id, blacklist, tsca_id, \\\n",
    "#                                                           namespace, workspace)\n",
    "\n",
    "# ## Export\n",
    "# res = fc_interface.upload_cohorts(namespace, workspace, tsca_id)"
   ]
  },
  {
   "cell_type": "code",
   "execution_count": null,
   "metadata": {},
   "outputs": [],
   "source": [
    "# ### PAIRS\n",
    "# ## Prepare\n",
    "# clean_pair_list = fc_interface.prepare_pairs_for_metadata_exports(paths_to_samples_info, tsca_id, google_bucket_id, blacklist)\n",
    "\n",
    "# ## Export\n",
    "# fc_interface.upload_pairs(namespace, workspace, clean_pairs_list)"
   ]
  },
  {
   "cell_type": "code",
   "execution_count": null,
   "metadata": {},
   "outputs": [],
   "source": [
    "# ### PAIRSETS\n",
    "# ## Prepare\n",
    "# # all_samples = fc_interface.get_samples_multiple_batches(paths_to_samples_info, google_bucket_id)\n",
    "# tn_pairsets, tp_pairsets = fc_interface.create_pairsets(all_samples, clean_pairs_list)\n",
    "\n",
    "# # ### Upload pairsets\n",
    "# fc_interface.upload_pairsets(namespace, workspace, tn_pairsets, \"TN\")\n",
    "# fc_interface.upload_pairsets(namespace, workspace, tp_pairsets, \"TP\")"
   ]
  },
  {
   "cell_type": "code",
   "execution_count": null,
   "metadata": {
    "collapsed": true
   },
   "outputs": [],
   "source": [
    "### CUMULATIVE COHORT OF ALL SAMPLES\n",
    "# res = fc_interface.upload_cohort_all_samples(paths_to_samples_info, google_bucket_id, \\\n",
    "#                                             'Cum_22_all', namespace, workspace, blacklist)"
   ]
  },
  {
   "cell_type": "code",
   "execution_count": null,
   "metadata": {
    "collapsed": true
   },
   "outputs": [],
   "source": [
    "### CUMULATIVE PANEL OF NORMALS"
   ]
  },
  {
   "cell_type": "code",
   "execution_count": null,
   "metadata": {
    "collapsed": true
   },
   "outputs": [],
   "source": [
    "### CREATE COHORTS PAIRSETS"
   ]
  },
  {
   "cell_type": "code",
   "execution_count": null,
   "metadata": {
    "collapsed": true
   },
   "outputs": [],
   "source": []
  },
  {
   "cell_type": "code",
   "execution_count": 6,
   "metadata": {
    "collapsed": true
   },
   "outputs": [],
   "source": [
    "all_samples = fc_interface.get_all_samples_with_cohort(tsca_id, paths_to_samples_info, google_bucket_id)"
   ]
  },
  {
   "cell_type": "code",
   "execution_count": 7,
   "metadata": {},
   "outputs": [],
   "source": []
  },
  {
   "cell_type": "code",
   "execution_count": 10,
   "metadata": {},
   "outputs": [
    {
     "data": {
      "text/html": [
       "<div>\n",
       "<style>\n",
       "    .dataframe thead tr:only-child th {\n",
       "        text-align: right;\n",
       "    }\n",
       "\n",
       "    .dataframe thead th {\n",
       "        text-align: left;\n",
       "    }\n",
       "\n",
       "    .dataframe tbody tr th {\n",
       "        vertical-align: top;\n",
       "    }\n",
       "</style>\n",
       "<table border=\"1\" class=\"dataframe\">\n",
       "  <thead>\n",
       "    <tr style=\"text-align: right;\">\n",
       "      <th></th>\n",
       "      <th>entity:pair_id</th>\n",
       "      <th>case_sample_id</th>\n",
       "      <th>control_sample_id</th>\n",
       "      <th>participant_id</th>\n",
       "      <th>match_type</th>\n",
       "      <th>case_sample_tsca_id</th>\n",
       "      <th>control_sample_tsca_id</th>\n",
       "    </tr>\n",
       "  </thead>\n",
       "  <tbody>\n",
       "    <tr>\n",
       "      <th>0</th>\n",
       "      <td>AA34-Tumor-SM-D4L25_NA_TN</td>\n",
       "      <td>AA34-Tumor-SM-D4L25</td>\n",
       "      <td>NA</td>\n",
       "      <td>AA34</td>\n",
       "      <td>tumor_normal</td>\n",
       "      <td>TSCA1213</td>\n",
       "      <td>NA</td>\n",
       "    </tr>\n",
       "    <tr>\n",
       "      <th>1</th>\n",
       "      <td>AA34-Tumor-SM-D4L25_NA_TP</td>\n",
       "      <td>AA34-Tumor-SM-D4L25</td>\n",
       "      <td>NA</td>\n",
       "      <td>AA34</td>\n",
       "      <td>tumor_primary</td>\n",
       "      <td>TSCA1213</td>\n",
       "      <td>NA</td>\n",
       "    </tr>\n",
       "    <tr>\n",
       "      <th>2</th>\n",
       "      <td>AA36-Tumor-SM-D4L2H_NA_TN</td>\n",
       "      <td>AA36-Tumor-SM-D4L2H</td>\n",
       "      <td>NA</td>\n",
       "      <td>AA36</td>\n",
       "      <td>tumor_normal</td>\n",
       "      <td>TSCA1213</td>\n",
       "      <td>NA</td>\n",
       "    </tr>\n",
       "    <tr>\n",
       "      <th>3</th>\n",
       "      <td>AA36-Tumor-SM-D4L2H_NA_TP</td>\n",
       "      <td>AA36-Tumor-SM-D4L2H</td>\n",
       "      <td>NA</td>\n",
       "      <td>AA36</td>\n",
       "      <td>tumor_primary</td>\n",
       "      <td>TSCA1213</td>\n",
       "      <td>NA</td>\n",
       "    </tr>\n",
       "    <tr>\n",
       "      <th>4</th>\n",
       "      <td>AA39-Tumor-SM-D4L3Q_NA_TN</td>\n",
       "      <td>AA39-Tumor-SM-D4L3Q</td>\n",
       "      <td>NA</td>\n",
       "      <td>AA39</td>\n",
       "      <td>tumor_normal</td>\n",
       "      <td>TSCA1213</td>\n",
       "      <td>NA</td>\n",
       "    </tr>\n",
       "    <tr>\n",
       "      <th>5</th>\n",
       "      <td>AA39-Tumor-SM-D4L3Q_NA_TP</td>\n",
       "      <td>AA39-Tumor-SM-D4L3Q</td>\n",
       "      <td>NA</td>\n",
       "      <td>AA39</td>\n",
       "      <td>tumor_primary</td>\n",
       "      <td>TSCA1213</td>\n",
       "      <td>NA</td>\n",
       "    </tr>\n",
       "    <tr>\n",
       "      <th>6</th>\n",
       "      <td>AA40-Tumor-SM-D4L42_NA_TN</td>\n",
       "      <td>AA40-Tumor-SM-D4L42</td>\n",
       "      <td>NA</td>\n",
       "      <td>AA40</td>\n",
       "      <td>tumor_normal</td>\n",
       "      <td>TSCA1213</td>\n",
       "      <td>NA</td>\n",
       "    </tr>\n",
       "    <tr>\n",
       "      <th>7</th>\n",
       "      <td>AA40-Tumor-SM-D4L42_NA_TP</td>\n",
       "      <td>AA40-Tumor-SM-D4L42</td>\n",
       "      <td>NA</td>\n",
       "      <td>AA40</td>\n",
       "      <td>tumor_primary</td>\n",
       "      <td>TSCA1213</td>\n",
       "      <td>NA</td>\n",
       "    </tr>\n",
       "    <tr>\n",
       "      <th>8</th>\n",
       "      <td>AA24-Tumor-SM-DHZ8W_NA_TN</td>\n",
       "      <td>AA24-Tumor-SM-DHZ8W</td>\n",
       "      <td>NA</td>\n",
       "      <td>AA24</td>\n",
       "      <td>tumor_normal</td>\n",
       "      <td>TSCA15</td>\n",
       "      <td>NA</td>\n",
       "    </tr>\n",
       "    <tr>\n",
       "      <th>9</th>\n",
       "      <td>AA24-Tumor-SM-DHZ8W_NA_TP</td>\n",
       "      <td>AA24-Tumor-SM-DHZ8W</td>\n",
       "      <td>NA</td>\n",
       "      <td>AA24</td>\n",
       "      <td>tumor_primary</td>\n",
       "      <td>TSCA15</td>\n",
       "      <td>NA</td>\n",
       "    </tr>\n",
       "    <tr>\n",
       "      <th>10</th>\n",
       "      <td>AA25-Tumor-SM-DHZ99_NA_TN</td>\n",
       "      <td>AA25-Tumor-SM-DHZ99</td>\n",
       "      <td>NA</td>\n",
       "      <td>AA25</td>\n",
       "      <td>tumor_normal</td>\n",
       "      <td>TSCA15</td>\n",
       "      <td>NA</td>\n",
       "    </tr>\n",
       "    <tr>\n",
       "      <th>11</th>\n",
       "      <td>AA25-Tumor-SM-DHZ99_NA_TP</td>\n",
       "      <td>AA25-Tumor-SM-DHZ99</td>\n",
       "      <td>NA</td>\n",
       "      <td>AA25</td>\n",
       "      <td>tumor_primary</td>\n",
       "      <td>TSCA15</td>\n",
       "      <td>NA</td>\n",
       "    </tr>\n",
       "    <tr>\n",
       "      <th>12</th>\n",
       "      <td>AA33-Tumor-SM-DHZ9X_AA33-Normal-SM-D4L4D_TN</td>\n",
       "      <td>AA33-Tumor-SM-DHZ9X</td>\n",
       "      <td>AA33-Normal-SM-D4L4D</td>\n",
       "      <td>AA33</td>\n",
       "      <td>tumor_normal</td>\n",
       "      <td>TSCA15</td>\n",
       "      <td>TSCA1213</td>\n",
       "    </tr>\n",
       "    <tr>\n",
       "      <th>13</th>\n",
       "      <td>AA33-Tumor-SM-DHZ9X_NA_TP</td>\n",
       "      <td>AA33-Tumor-SM-DHZ9X</td>\n",
       "      <td>NA</td>\n",
       "      <td>AA33</td>\n",
       "      <td>tumor_primary</td>\n",
       "      <td>TSCA15</td>\n",
       "      <td>NA</td>\n",
       "    </tr>\n",
       "    <tr>\n",
       "      <th>14</th>\n",
       "      <td>AA38-Tumor-SM-DHZ98_NA_TN</td>\n",
       "      <td>AA38-Tumor-SM-DHZ98</td>\n",
       "      <td>NA</td>\n",
       "      <td>AA38</td>\n",
       "      <td>tumor_normal</td>\n",
       "      <td>TSCA15</td>\n",
       "      <td>NA</td>\n",
       "    </tr>\n",
       "    <tr>\n",
       "      <th>15</th>\n",
       "      <td>AA38-Tumor-SM-DHZ98_NA_TP</td>\n",
       "      <td>AA38-Tumor-SM-DHZ98</td>\n",
       "      <td>NA</td>\n",
       "      <td>AA38</td>\n",
       "      <td>tumor_primary</td>\n",
       "      <td>TSCA15</td>\n",
       "      <td>NA</td>\n",
       "    </tr>\n",
       "    <tr>\n",
       "      <th>16</th>\n",
       "      <td>AA39-Tumor-SM-DHZAA_NA_TN</td>\n",
       "      <td>AA39-Tumor-SM-DHZAA</td>\n",
       "      <td>NA</td>\n",
       "      <td>AA39</td>\n",
       "      <td>tumor_normal</td>\n",
       "      <td>TSCA15</td>\n",
       "      <td>NA</td>\n",
       "    </tr>\n",
       "    <tr>\n",
       "      <th>17</th>\n",
       "      <td>AA39-Tumor-SM-DHZAA_NA_TP</td>\n",
       "      <td>AA39-Tumor-SM-DHZAA</td>\n",
       "      <td>NA</td>\n",
       "      <td>AA39</td>\n",
       "      <td>tumor_primary</td>\n",
       "      <td>TSCA15</td>\n",
       "      <td>NA</td>\n",
       "    </tr>\n",
       "    <tr>\n",
       "      <th>18</th>\n",
       "      <td>AA40-Tumor-SM-DHZ7W_NA_TN</td>\n",
       "      <td>AA40-Tumor-SM-DHZ7W</td>\n",
       "      <td>NA</td>\n",
       "      <td>AA40</td>\n",
       "      <td>tumor_normal</td>\n",
       "      <td>TSCA15</td>\n",
       "      <td>NA</td>\n",
       "    </tr>\n",
       "    <tr>\n",
       "      <th>19</th>\n",
       "      <td>AA40-Tumor-SM-DHZ7W_NA_TP</td>\n",
       "      <td>AA40-Tumor-SM-DHZ7W</td>\n",
       "      <td>NA</td>\n",
       "      <td>AA40</td>\n",
       "      <td>tumor_primary</td>\n",
       "      <td>TSCA15</td>\n",
       "      <td>NA</td>\n",
       "    </tr>\n",
       "    <tr>\n",
       "      <th>20</th>\n",
       "      <td>AA42-Tumor-SM-DHZ9W_NA_TN</td>\n",
       "      <td>AA42-Tumor-SM-DHZ9W</td>\n",
       "      <td>NA</td>\n",
       "      <td>AA42</td>\n",
       "      <td>tumor_normal</td>\n",
       "      <td>TSCA15</td>\n",
       "      <td>NA</td>\n",
       "    </tr>\n",
       "    <tr>\n",
       "      <th>21</th>\n",
       "      <td>AA42-Tumor-SM-DHZ9W_NA_TP</td>\n",
       "      <td>AA42-Tumor-SM-DHZ9W</td>\n",
       "      <td>NA</td>\n",
       "      <td>AA42</td>\n",
       "      <td>tumor_primary</td>\n",
       "      <td>TSCA15</td>\n",
       "      <td>NA</td>\n",
       "    </tr>\n",
       "    <tr>\n",
       "      <th>22</th>\n",
       "      <td>AA43-Tumor-SM-DHZ8K_NA_TN</td>\n",
       "      <td>AA43-Tumor-SM-DHZ8K</td>\n",
       "      <td>NA</td>\n",
       "      <td>AA43</td>\n",
       "      <td>tumor_normal</td>\n",
       "      <td>TSCA15</td>\n",
       "      <td>NA</td>\n",
       "    </tr>\n",
       "    <tr>\n",
       "      <th>23</th>\n",
       "      <td>AA43-Tumor-SM-DHZ8K_NA_TP</td>\n",
       "      <td>AA43-Tumor-SM-DHZ8K</td>\n",
       "      <td>NA</td>\n",
       "      <td>AA43</td>\n",
       "      <td>tumor_primary</td>\n",
       "      <td>TSCA15</td>\n",
       "      <td>NA</td>\n",
       "    </tr>\n",
       "    <tr>\n",
       "      <th>24</th>\n",
       "      <td>AA45-Tumor-SM-DHZ9K_NA_TN</td>\n",
       "      <td>AA45-Tumor-SM-DHZ9K</td>\n",
       "      <td>NA</td>\n",
       "      <td>AA45</td>\n",
       "      <td>tumor_normal</td>\n",
       "      <td>TSCA15</td>\n",
       "      <td>NA</td>\n",
       "    </tr>\n",
       "    <tr>\n",
       "      <th>25</th>\n",
       "      <td>AA45-Tumor-SM-DHZ9K_NA_TP</td>\n",
       "      <td>AA45-Tumor-SM-DHZ9K</td>\n",
       "      <td>NA</td>\n",
       "      <td>AA45</td>\n",
       "      <td>tumor_primary</td>\n",
       "      <td>TSCA15</td>\n",
       "      <td>NA</td>\n",
       "    </tr>\n",
       "    <tr>\n",
       "      <th>26</th>\n",
       "      <td>AA46-Tumor-SM-DHZA9_NA_TN</td>\n",
       "      <td>AA46-Tumor-SM-DHZA9</td>\n",
       "      <td>NA</td>\n",
       "      <td>AA46</td>\n",
       "      <td>tumor_normal</td>\n",
       "      <td>TSCA15</td>\n",
       "      <td>NA</td>\n",
       "    </tr>\n",
       "    <tr>\n",
       "      <th>27</th>\n",
       "      <td>AA46-Tumor-SM-DHZA9_NA_TP</td>\n",
       "      <td>AA46-Tumor-SM-DHZA9</td>\n",
       "      <td>NA</td>\n",
       "      <td>AA46</td>\n",
       "      <td>tumor_primary</td>\n",
       "      <td>TSCA15</td>\n",
       "      <td>NA</td>\n",
       "    </tr>\n",
       "    <tr>\n",
       "      <th>28</th>\n",
       "      <td>AA47-Tumor-SM-DHZ7V_NA_TN</td>\n",
       "      <td>AA47-Tumor-SM-DHZ7V</td>\n",
       "      <td>NA</td>\n",
       "      <td>AA47</td>\n",
       "      <td>tumor_normal</td>\n",
       "      <td>TSCA15</td>\n",
       "      <td>NA</td>\n",
       "    </tr>\n",
       "    <tr>\n",
       "      <th>29</th>\n",
       "      <td>AA47-Tumor-SM-DHZ7V_NA_TP</td>\n",
       "      <td>AA47-Tumor-SM-DHZ7V</td>\n",
       "      <td>NA</td>\n",
       "      <td>AA47</td>\n",
       "      <td>tumor_primary</td>\n",
       "      <td>TSCA15</td>\n",
       "      <td>NA</td>\n",
       "    </tr>\n",
       "    <tr>\n",
       "      <th>...</th>\n",
       "      <td>...</td>\n",
       "      <td>...</td>\n",
       "      <td>...</td>\n",
       "      <td>...</td>\n",
       "      <td>...</td>\n",
       "      <td>...</td>\n",
       "      <td>...</td>\n",
       "    </tr>\n",
       "    <tr>\n",
       "      <th>1922</th>\n",
       "      <td>CSHL_PDAC_36-Tumor-SM-F29U8_NA_TN</td>\n",
       "      <td>CSHL_PDAC_36-Tumor-SM-F29U8</td>\n",
       "      <td>NA</td>\n",
       "      <td>CSHL_PDAC_36</td>\n",
       "      <td>tumor_normal</td>\n",
       "      <td>TSCA19</td>\n",
       "      <td>NA</td>\n",
       "    </tr>\n",
       "    <tr>\n",
       "      <th>1923</th>\n",
       "      <td>CSHL_PDAC_36-Tumor-SM-F29U8_NA_TP</td>\n",
       "      <td>CSHL_PDAC_36-Tumor-SM-F29U8</td>\n",
       "      <td>NA</td>\n",
       "      <td>CSHL_PDAC_36</td>\n",
       "      <td>tumor_primary</td>\n",
       "      <td>TSCA19</td>\n",
       "      <td>NA</td>\n",
       "    </tr>\n",
       "    <tr>\n",
       "      <th>1924</th>\n",
       "      <td>CSHL_PDAC_37-Tumor-SM-F29U9_NA_TN</td>\n",
       "      <td>CSHL_PDAC_37-Tumor-SM-F29U9</td>\n",
       "      <td>NA</td>\n",
       "      <td>CSHL_PDAC_37</td>\n",
       "      <td>tumor_normal</td>\n",
       "      <td>TSCA19</td>\n",
       "      <td>NA</td>\n",
       "    </tr>\n",
       "    <tr>\n",
       "      <th>1925</th>\n",
       "      <td>CSHL_PDAC_37-Tumor-SM-F29U9_NA_TP</td>\n",
       "      <td>CSHL_PDAC_37-Tumor-SM-F29U9</td>\n",
       "      <td>NA</td>\n",
       "      <td>CSHL_PDAC_37</td>\n",
       "      <td>tumor_primary</td>\n",
       "      <td>TSCA19</td>\n",
       "      <td>NA</td>\n",
       "    </tr>\n",
       "    <tr>\n",
       "      <th>1926</th>\n",
       "      <td>CSHL_PDAC_38-Tumor-SM-F29UA_NA_TN</td>\n",
       "      <td>CSHL_PDAC_38-Tumor-SM-F29UA</td>\n",
       "      <td>NA</td>\n",
       "      <td>CSHL_PDAC_38</td>\n",
       "      <td>tumor_normal</td>\n",
       "      <td>TSCA19</td>\n",
       "      <td>NA</td>\n",
       "    </tr>\n",
       "    <tr>\n",
       "      <th>1927</th>\n",
       "      <td>CSHL_PDAC_38-Tumor-SM-F29UA_NA_TP</td>\n",
       "      <td>CSHL_PDAC_38-Tumor-SM-F29UA</td>\n",
       "      <td>NA</td>\n",
       "      <td>CSHL_PDAC_38</td>\n",
       "      <td>tumor_primary</td>\n",
       "      <td>TSCA19</td>\n",
       "      <td>NA</td>\n",
       "    </tr>\n",
       "    <tr>\n",
       "      <th>1928</th>\n",
       "      <td>CSHL_PDAC_38-Tumor-SM-F29UB_NA_TN</td>\n",
       "      <td>CSHL_PDAC_38-Tumor-SM-F29UB</td>\n",
       "      <td>NA</td>\n",
       "      <td>CSHL_PDAC_38</td>\n",
       "      <td>tumor_normal</td>\n",
       "      <td>TSCA19</td>\n",
       "      <td>NA</td>\n",
       "    </tr>\n",
       "    <tr>\n",
       "      <th>1929</th>\n",
       "      <td>CSHL_PDAC_38-Tumor-SM-F29UB_NA_TP</td>\n",
       "      <td>CSHL_PDAC_38-Tumor-SM-F29UB</td>\n",
       "      <td>NA</td>\n",
       "      <td>CSHL_PDAC_38</td>\n",
       "      <td>tumor_primary</td>\n",
       "      <td>TSCA19</td>\n",
       "      <td>NA</td>\n",
       "    </tr>\n",
       "    <tr>\n",
       "      <th>1930</th>\n",
       "      <td>CSHL_PDAC_38-Tumor-SM-F29UC_NA_TN</td>\n",
       "      <td>CSHL_PDAC_38-Tumor-SM-F29UC</td>\n",
       "      <td>NA</td>\n",
       "      <td>CSHL_PDAC_38</td>\n",
       "      <td>tumor_normal</td>\n",
       "      <td>TSCA19</td>\n",
       "      <td>NA</td>\n",
       "    </tr>\n",
       "    <tr>\n",
       "      <th>1931</th>\n",
       "      <td>CSHL_PDAC_38-Tumor-SM-F29UC_NA_TP</td>\n",
       "      <td>CSHL_PDAC_38-Tumor-SM-F29UC</td>\n",
       "      <td>NA</td>\n",
       "      <td>CSHL_PDAC_38</td>\n",
       "      <td>tumor_primary</td>\n",
       "      <td>TSCA19</td>\n",
       "      <td>NA</td>\n",
       "    </tr>\n",
       "    <tr>\n",
       "      <th>1932</th>\n",
       "      <td>CSHL_PDAC_38-Tumor-SM-F29UD_NA_TN</td>\n",
       "      <td>CSHL_PDAC_38-Tumor-SM-F29UD</td>\n",
       "      <td>NA</td>\n",
       "      <td>CSHL_PDAC_38</td>\n",
       "      <td>tumor_normal</td>\n",
       "      <td>TSCA19</td>\n",
       "      <td>NA</td>\n",
       "    </tr>\n",
       "    <tr>\n",
       "      <th>1933</th>\n",
       "      <td>CSHL_PDAC_38-Tumor-SM-F29UD_NA_TP</td>\n",
       "      <td>CSHL_PDAC_38-Tumor-SM-F29UD</td>\n",
       "      <td>NA</td>\n",
       "      <td>CSHL_PDAC_38</td>\n",
       "      <td>tumor_primary</td>\n",
       "      <td>TSCA19</td>\n",
       "      <td>NA</td>\n",
       "    </tr>\n",
       "    <tr>\n",
       "      <th>1934</th>\n",
       "      <td>CSHL_PDAC_39-Tumor-SM-F29UE_NA_TN</td>\n",
       "      <td>CSHL_PDAC_39-Tumor-SM-F29UE</td>\n",
       "      <td>NA</td>\n",
       "      <td>CSHL_PDAC_39</td>\n",
       "      <td>tumor_normal</td>\n",
       "      <td>TSCA19</td>\n",
       "      <td>NA</td>\n",
       "    </tr>\n",
       "    <tr>\n",
       "      <th>1935</th>\n",
       "      <td>CSHL_PDAC_39-Tumor-SM-F29UE_NA_TP</td>\n",
       "      <td>CSHL_PDAC_39-Tumor-SM-F29UE</td>\n",
       "      <td>NA</td>\n",
       "      <td>CSHL_PDAC_39</td>\n",
       "      <td>tumor_primary</td>\n",
       "      <td>TSCA19</td>\n",
       "      <td>NA</td>\n",
       "    </tr>\n",
       "    <tr>\n",
       "      <th>1936</th>\n",
       "      <td>CSHL_PDAC_4-Tumor-SM-F29T7_NA_TN</td>\n",
       "      <td>CSHL_PDAC_4-Tumor-SM-F29T7</td>\n",
       "      <td>NA</td>\n",
       "      <td>CSHL_PDAC_4</td>\n",
       "      <td>tumor_normal</td>\n",
       "      <td>TSCA19</td>\n",
       "      <td>NA</td>\n",
       "    </tr>\n",
       "    <tr>\n",
       "      <th>1937</th>\n",
       "      <td>CSHL_PDAC_4-Tumor-SM-F29T7_NA_TP</td>\n",
       "      <td>CSHL_PDAC_4-Tumor-SM-F29T7</td>\n",
       "      <td>NA</td>\n",
       "      <td>CSHL_PDAC_4</td>\n",
       "      <td>tumor_primary</td>\n",
       "      <td>TSCA19</td>\n",
       "      <td>NA</td>\n",
       "    </tr>\n",
       "    <tr>\n",
       "      <th>1938</th>\n",
       "      <td>CSHL_PDAC_40-Tumor-SM-F29UF_NA_TN</td>\n",
       "      <td>CSHL_PDAC_40-Tumor-SM-F29UF</td>\n",
       "      <td>NA</td>\n",
       "      <td>CSHL_PDAC_40</td>\n",
       "      <td>tumor_normal</td>\n",
       "      <td>TSCA19</td>\n",
       "      <td>NA</td>\n",
       "    </tr>\n",
       "    <tr>\n",
       "      <th>1939</th>\n",
       "      <td>CSHL_PDAC_40-Tumor-SM-F29UF_NA_TP</td>\n",
       "      <td>CSHL_PDAC_40-Tumor-SM-F29UF</td>\n",
       "      <td>NA</td>\n",
       "      <td>CSHL_PDAC_40</td>\n",
       "      <td>tumor_primary</td>\n",
       "      <td>TSCA19</td>\n",
       "      <td>NA</td>\n",
       "    </tr>\n",
       "    <tr>\n",
       "      <th>1940</th>\n",
       "      <td>CSHL_PDAC_5-Tumor-SM-F29T8_NA_TN</td>\n",
       "      <td>CSHL_PDAC_5-Tumor-SM-F29T8</td>\n",
       "      <td>NA</td>\n",
       "      <td>CSHL_PDAC_5</td>\n",
       "      <td>tumor_normal</td>\n",
       "      <td>TSCA19</td>\n",
       "      <td>NA</td>\n",
       "    </tr>\n",
       "    <tr>\n",
       "      <th>1941</th>\n",
       "      <td>CSHL_PDAC_5-Tumor-SM-F29T8_NA_TP</td>\n",
       "      <td>CSHL_PDAC_5-Tumor-SM-F29T8</td>\n",
       "      <td>NA</td>\n",
       "      <td>CSHL_PDAC_5</td>\n",
       "      <td>tumor_primary</td>\n",
       "      <td>TSCA19</td>\n",
       "      <td>NA</td>\n",
       "    </tr>\n",
       "    <tr>\n",
       "      <th>1942</th>\n",
       "      <td>CSHL_PDAC_5-Tumor-SM-F29TY_NA_TN</td>\n",
       "      <td>CSHL_PDAC_5-Tumor-SM-F29TY</td>\n",
       "      <td>NA</td>\n",
       "      <td>CSHL_PDAC_5</td>\n",
       "      <td>tumor_normal</td>\n",
       "      <td>TSCA19</td>\n",
       "      <td>NA</td>\n",
       "    </tr>\n",
       "    <tr>\n",
       "      <th>1943</th>\n",
       "      <td>CSHL_PDAC_5-Tumor-SM-F29TY_NA_TP</td>\n",
       "      <td>CSHL_PDAC_5-Tumor-SM-F29TY</td>\n",
       "      <td>NA</td>\n",
       "      <td>CSHL_PDAC_5</td>\n",
       "      <td>tumor_primary</td>\n",
       "      <td>TSCA19</td>\n",
       "      <td>NA</td>\n",
       "    </tr>\n",
       "    <tr>\n",
       "      <th>1944</th>\n",
       "      <td>CSHL_PDAC_6-Tumor-SM-F29T9_NA_TN</td>\n",
       "      <td>CSHL_PDAC_6-Tumor-SM-F29T9</td>\n",
       "      <td>NA</td>\n",
       "      <td>CSHL_PDAC_6</td>\n",
       "      <td>tumor_normal</td>\n",
       "      <td>TSCA19</td>\n",
       "      <td>NA</td>\n",
       "    </tr>\n",
       "    <tr>\n",
       "      <th>1945</th>\n",
       "      <td>CSHL_PDAC_6-Tumor-SM-F29T9_NA_TP</td>\n",
       "      <td>CSHL_PDAC_6-Tumor-SM-F29T9</td>\n",
       "      <td>NA</td>\n",
       "      <td>CSHL_PDAC_6</td>\n",
       "      <td>tumor_primary</td>\n",
       "      <td>TSCA19</td>\n",
       "      <td>NA</td>\n",
       "    </tr>\n",
       "    <tr>\n",
       "      <th>1946</th>\n",
       "      <td>CSHL_PDAC_7-Tumor-SM-F29TA_NA_TN</td>\n",
       "      <td>CSHL_PDAC_7-Tumor-SM-F29TA</td>\n",
       "      <td>NA</td>\n",
       "      <td>CSHL_PDAC_7</td>\n",
       "      <td>tumor_normal</td>\n",
       "      <td>TSCA19</td>\n",
       "      <td>NA</td>\n",
       "    </tr>\n",
       "    <tr>\n",
       "      <th>1947</th>\n",
       "      <td>CSHL_PDAC_7-Tumor-SM-F29TA_NA_TP</td>\n",
       "      <td>CSHL_PDAC_7-Tumor-SM-F29TA</td>\n",
       "      <td>NA</td>\n",
       "      <td>CSHL_PDAC_7</td>\n",
       "      <td>tumor_primary</td>\n",
       "      <td>TSCA19</td>\n",
       "      <td>NA</td>\n",
       "    </tr>\n",
       "    <tr>\n",
       "      <th>1948</th>\n",
       "      <td>CSHL_PDAC_8-Tumor-SM-F29TB_NA_TN</td>\n",
       "      <td>CSHL_PDAC_8-Tumor-SM-F29TB</td>\n",
       "      <td>NA</td>\n",
       "      <td>CSHL_PDAC_8</td>\n",
       "      <td>tumor_normal</td>\n",
       "      <td>TSCA19</td>\n",
       "      <td>NA</td>\n",
       "    </tr>\n",
       "    <tr>\n",
       "      <th>1949</th>\n",
       "      <td>CSHL_PDAC_8-Tumor-SM-F29TB_NA_TP</td>\n",
       "      <td>CSHL_PDAC_8-Tumor-SM-F29TB</td>\n",
       "      <td>NA</td>\n",
       "      <td>CSHL_PDAC_8</td>\n",
       "      <td>tumor_primary</td>\n",
       "      <td>TSCA19</td>\n",
       "      <td>NA</td>\n",
       "    </tr>\n",
       "    <tr>\n",
       "      <th>1950</th>\n",
       "      <td>CSHL_PDAC_9-Tumor-SM-F29TC_NA_TN</td>\n",
       "      <td>CSHL_PDAC_9-Tumor-SM-F29TC</td>\n",
       "      <td>NA</td>\n",
       "      <td>CSHL_PDAC_9</td>\n",
       "      <td>tumor_normal</td>\n",
       "      <td>TSCA19</td>\n",
       "      <td>NA</td>\n",
       "    </tr>\n",
       "    <tr>\n",
       "      <th>1951</th>\n",
       "      <td>CSHL_PDAC_9-Tumor-SM-F29TC_NA_TP</td>\n",
       "      <td>CSHL_PDAC_9-Tumor-SM-F29TC</td>\n",
       "      <td>NA</td>\n",
       "      <td>CSHL_PDAC_9</td>\n",
       "      <td>tumor_primary</td>\n",
       "      <td>TSCA19</td>\n",
       "      <td>NA</td>\n",
       "    </tr>\n",
       "  </tbody>\n",
       "</table>\n",
       "<p>1952 rows × 7 columns</p>\n",
       "</div>"
      ],
      "text/plain": [
       "                                   entity:pair_id  \\\n",
       "0                       AA34-Tumor-SM-D4L25_NA_TN   \n",
       "1                       AA34-Tumor-SM-D4L25_NA_TP   \n",
       "2                       AA36-Tumor-SM-D4L2H_NA_TN   \n",
       "3                       AA36-Tumor-SM-D4L2H_NA_TP   \n",
       "4                       AA39-Tumor-SM-D4L3Q_NA_TN   \n",
       "5                       AA39-Tumor-SM-D4L3Q_NA_TP   \n",
       "6                       AA40-Tumor-SM-D4L42_NA_TN   \n",
       "7                       AA40-Tumor-SM-D4L42_NA_TP   \n",
       "8                       AA24-Tumor-SM-DHZ8W_NA_TN   \n",
       "9                       AA24-Tumor-SM-DHZ8W_NA_TP   \n",
       "10                      AA25-Tumor-SM-DHZ99_NA_TN   \n",
       "11                      AA25-Tumor-SM-DHZ99_NA_TP   \n",
       "12    AA33-Tumor-SM-DHZ9X_AA33-Normal-SM-D4L4D_TN   \n",
       "13                      AA33-Tumor-SM-DHZ9X_NA_TP   \n",
       "14                      AA38-Tumor-SM-DHZ98_NA_TN   \n",
       "15                      AA38-Tumor-SM-DHZ98_NA_TP   \n",
       "16                      AA39-Tumor-SM-DHZAA_NA_TN   \n",
       "17                      AA39-Tumor-SM-DHZAA_NA_TP   \n",
       "18                      AA40-Tumor-SM-DHZ7W_NA_TN   \n",
       "19                      AA40-Tumor-SM-DHZ7W_NA_TP   \n",
       "20                      AA42-Tumor-SM-DHZ9W_NA_TN   \n",
       "21                      AA42-Tumor-SM-DHZ9W_NA_TP   \n",
       "22                      AA43-Tumor-SM-DHZ8K_NA_TN   \n",
       "23                      AA43-Tumor-SM-DHZ8K_NA_TP   \n",
       "24                      AA45-Tumor-SM-DHZ9K_NA_TN   \n",
       "25                      AA45-Tumor-SM-DHZ9K_NA_TP   \n",
       "26                      AA46-Tumor-SM-DHZA9_NA_TN   \n",
       "27                      AA46-Tumor-SM-DHZA9_NA_TP   \n",
       "28                      AA47-Tumor-SM-DHZ7V_NA_TN   \n",
       "29                      AA47-Tumor-SM-DHZ7V_NA_TP   \n",
       "...                                           ...   \n",
       "1922            CSHL_PDAC_36-Tumor-SM-F29U8_NA_TN   \n",
       "1923            CSHL_PDAC_36-Tumor-SM-F29U8_NA_TP   \n",
       "1924            CSHL_PDAC_37-Tumor-SM-F29U9_NA_TN   \n",
       "1925            CSHL_PDAC_37-Tumor-SM-F29U9_NA_TP   \n",
       "1926            CSHL_PDAC_38-Tumor-SM-F29UA_NA_TN   \n",
       "1927            CSHL_PDAC_38-Tumor-SM-F29UA_NA_TP   \n",
       "1928            CSHL_PDAC_38-Tumor-SM-F29UB_NA_TN   \n",
       "1929            CSHL_PDAC_38-Tumor-SM-F29UB_NA_TP   \n",
       "1930            CSHL_PDAC_38-Tumor-SM-F29UC_NA_TN   \n",
       "1931            CSHL_PDAC_38-Tumor-SM-F29UC_NA_TP   \n",
       "1932            CSHL_PDAC_38-Tumor-SM-F29UD_NA_TN   \n",
       "1933            CSHL_PDAC_38-Tumor-SM-F29UD_NA_TP   \n",
       "1934            CSHL_PDAC_39-Tumor-SM-F29UE_NA_TN   \n",
       "1935            CSHL_PDAC_39-Tumor-SM-F29UE_NA_TP   \n",
       "1936             CSHL_PDAC_4-Tumor-SM-F29T7_NA_TN   \n",
       "1937             CSHL_PDAC_4-Tumor-SM-F29T7_NA_TP   \n",
       "1938            CSHL_PDAC_40-Tumor-SM-F29UF_NA_TN   \n",
       "1939            CSHL_PDAC_40-Tumor-SM-F29UF_NA_TP   \n",
       "1940             CSHL_PDAC_5-Tumor-SM-F29T8_NA_TN   \n",
       "1941             CSHL_PDAC_5-Tumor-SM-F29T8_NA_TP   \n",
       "1942             CSHL_PDAC_5-Tumor-SM-F29TY_NA_TN   \n",
       "1943             CSHL_PDAC_5-Tumor-SM-F29TY_NA_TP   \n",
       "1944             CSHL_PDAC_6-Tumor-SM-F29T9_NA_TN   \n",
       "1945             CSHL_PDAC_6-Tumor-SM-F29T9_NA_TP   \n",
       "1946             CSHL_PDAC_7-Tumor-SM-F29TA_NA_TN   \n",
       "1947             CSHL_PDAC_7-Tumor-SM-F29TA_NA_TP   \n",
       "1948             CSHL_PDAC_8-Tumor-SM-F29TB_NA_TN   \n",
       "1949             CSHL_PDAC_8-Tumor-SM-F29TB_NA_TP   \n",
       "1950             CSHL_PDAC_9-Tumor-SM-F29TC_NA_TN   \n",
       "1951             CSHL_PDAC_9-Tumor-SM-F29TC_NA_TP   \n",
       "\n",
       "                   case_sample_id     control_sample_id participant_id  \\\n",
       "0             AA34-Tumor-SM-D4L25                    NA           AA34   \n",
       "1             AA34-Tumor-SM-D4L25                    NA           AA34   \n",
       "2             AA36-Tumor-SM-D4L2H                    NA           AA36   \n",
       "3             AA36-Tumor-SM-D4L2H                    NA           AA36   \n",
       "4             AA39-Tumor-SM-D4L3Q                    NA           AA39   \n",
       "5             AA39-Tumor-SM-D4L3Q                    NA           AA39   \n",
       "6             AA40-Tumor-SM-D4L42                    NA           AA40   \n",
       "7             AA40-Tumor-SM-D4L42                    NA           AA40   \n",
       "8             AA24-Tumor-SM-DHZ8W                    NA           AA24   \n",
       "9             AA24-Tumor-SM-DHZ8W                    NA           AA24   \n",
       "10            AA25-Tumor-SM-DHZ99                    NA           AA25   \n",
       "11            AA25-Tumor-SM-DHZ99                    NA           AA25   \n",
       "12            AA33-Tumor-SM-DHZ9X  AA33-Normal-SM-D4L4D           AA33   \n",
       "13            AA33-Tumor-SM-DHZ9X                    NA           AA33   \n",
       "14            AA38-Tumor-SM-DHZ98                    NA           AA38   \n",
       "15            AA38-Tumor-SM-DHZ98                    NA           AA38   \n",
       "16            AA39-Tumor-SM-DHZAA                    NA           AA39   \n",
       "17            AA39-Tumor-SM-DHZAA                    NA           AA39   \n",
       "18            AA40-Tumor-SM-DHZ7W                    NA           AA40   \n",
       "19            AA40-Tumor-SM-DHZ7W                    NA           AA40   \n",
       "20            AA42-Tumor-SM-DHZ9W                    NA           AA42   \n",
       "21            AA42-Tumor-SM-DHZ9W                    NA           AA42   \n",
       "22            AA43-Tumor-SM-DHZ8K                    NA           AA43   \n",
       "23            AA43-Tumor-SM-DHZ8K                    NA           AA43   \n",
       "24            AA45-Tumor-SM-DHZ9K                    NA           AA45   \n",
       "25            AA45-Tumor-SM-DHZ9K                    NA           AA45   \n",
       "26            AA46-Tumor-SM-DHZA9                    NA           AA46   \n",
       "27            AA46-Tumor-SM-DHZA9                    NA           AA46   \n",
       "28            AA47-Tumor-SM-DHZ7V                    NA           AA47   \n",
       "29            AA47-Tumor-SM-DHZ7V                    NA           AA47   \n",
       "...                           ...                   ...            ...   \n",
       "1922  CSHL_PDAC_36-Tumor-SM-F29U8                    NA   CSHL_PDAC_36   \n",
       "1923  CSHL_PDAC_36-Tumor-SM-F29U8                    NA   CSHL_PDAC_36   \n",
       "1924  CSHL_PDAC_37-Tumor-SM-F29U9                    NA   CSHL_PDAC_37   \n",
       "1925  CSHL_PDAC_37-Tumor-SM-F29U9                    NA   CSHL_PDAC_37   \n",
       "1926  CSHL_PDAC_38-Tumor-SM-F29UA                    NA   CSHL_PDAC_38   \n",
       "1927  CSHL_PDAC_38-Tumor-SM-F29UA                    NA   CSHL_PDAC_38   \n",
       "1928  CSHL_PDAC_38-Tumor-SM-F29UB                    NA   CSHL_PDAC_38   \n",
       "1929  CSHL_PDAC_38-Tumor-SM-F29UB                    NA   CSHL_PDAC_38   \n",
       "1930  CSHL_PDAC_38-Tumor-SM-F29UC                    NA   CSHL_PDAC_38   \n",
       "1931  CSHL_PDAC_38-Tumor-SM-F29UC                    NA   CSHL_PDAC_38   \n",
       "1932  CSHL_PDAC_38-Tumor-SM-F29UD                    NA   CSHL_PDAC_38   \n",
       "1933  CSHL_PDAC_38-Tumor-SM-F29UD                    NA   CSHL_PDAC_38   \n",
       "1934  CSHL_PDAC_39-Tumor-SM-F29UE                    NA   CSHL_PDAC_39   \n",
       "1935  CSHL_PDAC_39-Tumor-SM-F29UE                    NA   CSHL_PDAC_39   \n",
       "1936   CSHL_PDAC_4-Tumor-SM-F29T7                    NA    CSHL_PDAC_4   \n",
       "1937   CSHL_PDAC_4-Tumor-SM-F29T7                    NA    CSHL_PDAC_4   \n",
       "1938  CSHL_PDAC_40-Tumor-SM-F29UF                    NA   CSHL_PDAC_40   \n",
       "1939  CSHL_PDAC_40-Tumor-SM-F29UF                    NA   CSHL_PDAC_40   \n",
       "1940   CSHL_PDAC_5-Tumor-SM-F29T8                    NA    CSHL_PDAC_5   \n",
       "1941   CSHL_PDAC_5-Tumor-SM-F29T8                    NA    CSHL_PDAC_5   \n",
       "1942   CSHL_PDAC_5-Tumor-SM-F29TY                    NA    CSHL_PDAC_5   \n",
       "1943   CSHL_PDAC_5-Tumor-SM-F29TY                    NA    CSHL_PDAC_5   \n",
       "1944   CSHL_PDAC_6-Tumor-SM-F29T9                    NA    CSHL_PDAC_6   \n",
       "1945   CSHL_PDAC_6-Tumor-SM-F29T9                    NA    CSHL_PDAC_6   \n",
       "1946   CSHL_PDAC_7-Tumor-SM-F29TA                    NA    CSHL_PDAC_7   \n",
       "1947   CSHL_PDAC_7-Tumor-SM-F29TA                    NA    CSHL_PDAC_7   \n",
       "1948   CSHL_PDAC_8-Tumor-SM-F29TB                    NA    CSHL_PDAC_8   \n",
       "1949   CSHL_PDAC_8-Tumor-SM-F29TB                    NA    CSHL_PDAC_8   \n",
       "1950   CSHL_PDAC_9-Tumor-SM-F29TC                    NA    CSHL_PDAC_9   \n",
       "1951   CSHL_PDAC_9-Tumor-SM-F29TC                    NA    CSHL_PDAC_9   \n",
       "\n",
       "         match_type case_sample_tsca_id control_sample_tsca_id  \n",
       "0      tumor_normal            TSCA1213                     NA  \n",
       "1     tumor_primary            TSCA1213                     NA  \n",
       "2      tumor_normal            TSCA1213                     NA  \n",
       "3     tumor_primary            TSCA1213                     NA  \n",
       "4      tumor_normal            TSCA1213                     NA  \n",
       "5     tumor_primary            TSCA1213                     NA  \n",
       "6      tumor_normal            TSCA1213                     NA  \n",
       "7     tumor_primary            TSCA1213                     NA  \n",
       "8      tumor_normal              TSCA15                     NA  \n",
       "9     tumor_primary              TSCA15                     NA  \n",
       "10     tumor_normal              TSCA15                     NA  \n",
       "11    tumor_primary              TSCA15                     NA  \n",
       "12     tumor_normal              TSCA15               TSCA1213  \n",
       "13    tumor_primary              TSCA15                     NA  \n",
       "14     tumor_normal              TSCA15                     NA  \n",
       "15    tumor_primary              TSCA15                     NA  \n",
       "16     tumor_normal              TSCA15                     NA  \n",
       "17    tumor_primary              TSCA15                     NA  \n",
       "18     tumor_normal              TSCA15                     NA  \n",
       "19    tumor_primary              TSCA15                     NA  \n",
       "20     tumor_normal              TSCA15                     NA  \n",
       "21    tumor_primary              TSCA15                     NA  \n",
       "22     tumor_normal              TSCA15                     NA  \n",
       "23    tumor_primary              TSCA15                     NA  \n",
       "24     tumor_normal              TSCA15                     NA  \n",
       "25    tumor_primary              TSCA15                     NA  \n",
       "26     tumor_normal              TSCA15                     NA  \n",
       "27    tumor_primary              TSCA15                     NA  \n",
       "28     tumor_normal              TSCA15                     NA  \n",
       "29    tumor_primary              TSCA15                     NA  \n",
       "...             ...                 ...                    ...  \n",
       "1922   tumor_normal              TSCA19                     NA  \n",
       "1923  tumor_primary              TSCA19                     NA  \n",
       "1924   tumor_normal              TSCA19                     NA  \n",
       "1925  tumor_primary              TSCA19                     NA  \n",
       "1926   tumor_normal              TSCA19                     NA  \n",
       "1927  tumor_primary              TSCA19                     NA  \n",
       "1928   tumor_normal              TSCA19                     NA  \n",
       "1929  tumor_primary              TSCA19                     NA  \n",
       "1930   tumor_normal              TSCA19                     NA  \n",
       "1931  tumor_primary              TSCA19                     NA  \n",
       "1932   tumor_normal              TSCA19                     NA  \n",
       "1933  tumor_primary              TSCA19                     NA  \n",
       "1934   tumor_normal              TSCA19                     NA  \n",
       "1935  tumor_primary              TSCA19                     NA  \n",
       "1936   tumor_normal              TSCA19                     NA  \n",
       "1937  tumor_primary              TSCA19                     NA  \n",
       "1938   tumor_normal              TSCA19                     NA  \n",
       "1939  tumor_primary              TSCA19                     NA  \n",
       "1940   tumor_normal              TSCA19                     NA  \n",
       "1941  tumor_primary              TSCA19                     NA  \n",
       "1942   tumor_normal              TSCA19                     NA  \n",
       "1943  tumor_primary              TSCA19                     NA  \n",
       "1944   tumor_normal              TSCA19                     NA  \n",
       "1945  tumor_primary              TSCA19                     NA  \n",
       "1946   tumor_normal              TSCA19                     NA  \n",
       "1947  tumor_primary              TSCA19                     NA  \n",
       "1948   tumor_normal              TSCA19                     NA  \n",
       "1949  tumor_primary              TSCA19                     NA  \n",
       "1950   tumor_normal              TSCA19                     NA  \n",
       "1951  tumor_primary              TSCA19                     NA  \n",
       "\n",
       "[1952 rows x 7 columns]"
      ]
     },
     "execution_count": 10,
     "metadata": {},
     "output_type": "execute_result"
    }
   ],
   "source": []
  },
  {
   "cell_type": "code",
   "execution_count": null,
   "metadata": {
    "collapsed": true
   },
   "outputs": [],
   "source": []
  },
  {
   "cell_type": "code",
   "execution_count": null,
   "metadata": {},
   "outputs": [],
   "source": [
    "pairs_list"
   ]
  },
  {
   "cell_type": "code",
   "execution_count": null,
   "metadata": {
    "collapsed": true
   },
   "outputs": [],
   "source": [
    "all_samples = fc_interface.get_all_samples_with_cohort(tsca_id, paths_to_samples_info, google_bucket_id)\n",
    "# Create list of pairs\n",
    "pairs_list = fc_interface.create_pairs_list(all_samples)\n",
    "# Filter blacklist\n",
    "blacklist = [\"DW039-Tumor-SM-DB2IF\"]\n",
    "clean_pairs_list = pairs_list[ ~pairs_list['case_sample_id'].isin(blacklist)]\n",
    "\n",
    "# # Samples in new batch\n",
    "# samples_new_batch = pd.read_table(\"%s/fc_upload_sample_set_tsca_%s.txt\"%(tsca_id, tsca_id))\n",
    "# # Sample IDs in new batch\n",
    "# new_batch_sample_ids = samples_new_batch.sample_id.tolist()\n",
    "\n",
    "# # Only upload new pairs. \n",
    "# # New pairs are pairs that have a sample from the new batch as either a sample or control.\n",
    "# clean_pairs_list = clean_pairs_list[ clean_pairs_list['case_sample_id'].isin(new_batch_sample_ids) | \\\n",
    "#                                    clean_pairs_list['control_sample_id'].isin(new_batch_sample_ids)]"
   ]
  },
  {
   "cell_type": "code",
   "execution_count": null,
   "metadata": {
    "collapsed": true
   },
   "outputs": [],
   "source": [
    "all_samples[['entity:sample_id', 'cohort_code']]"
   ]
  },
  {
   "cell_type": "code",
   "execution_count": null,
   "metadata": {
    "collapsed": true
   },
   "outputs": [],
   "source": [
    "pairs_with_cohort = pd.merge(clean_pairs_list, all_samples[['entity:sample_id', 'cohort_code']], \\\n",
    "         left_on='case_sample_id', right_on='entity:sample_id')"
   ]
  },
  {
   "cell_type": "code",
   "execution_count": null,
   "metadata": {},
   "outputs": [],
   "source": [
    "pairs_with_cohort.head(2)"
   ]
  },
  {
   "cell_type": "code",
   "execution_count": null,
   "metadata": {
    "collapsed": true
   },
   "outputs": [],
   "source": [
    "pairs_with_cohort_clean = pairs_with_cohort[['cohort_code', 'entity:pair_id']] \\\n",
    "    .rename(columns={'entity:pair_id': 'pair_id', 'cohort_code': 'membership:pair_set_id'})"
   ]
  },
  {
   "cell_type": "code",
   "execution_count": null,
   "metadata": {},
   "outputs": [],
   "source": [
    "pairs_with_cohort_clean.shape"
   ]
  },
  {
   "cell_type": "code",
   "execution_count": null,
   "metadata": {},
   "outputs": [],
   "source": [
    "all_samples.head(2)"
   ]
  },
  {
   "cell_type": "code",
   "execution_count": null,
   "metadata": {},
   "outputs": [],
   "source": [
    "cohort_pairsets.head(2)"
   ]
  },
  {
   "cell_type": "code",
   "execution_count": null,
   "metadata": {
    "collapsed": true
   },
   "outputs": [],
   "source": [
    "cohort_pairsets = fc_interface.prepare_cohort_pairsets_for_metadata_exports\\\n",
    "    (tsca_id, blacklist, paths_to_samples_info, google_bucket_id)"
   ]
  },
  {
   "cell_type": "code",
   "execution_count": null,
   "metadata": {
    "collapsed": true
   },
   "outputs": [],
   "source": [
    "res = fc_interface.upload_cohort_pairsets(namespace, workspace, cohort_pairsets)"
   ]
  },
  {
   "cell_type": "code",
   "execution_count": null,
   "metadata": {},
   "outputs": [],
   "source": [
    "res.json()"
   ]
  },
  {
   "cell_type": "code",
   "execution_count": null,
   "metadata": {
    "collapsed": true
   },
   "outputs": [],
   "source": []
  }
 ],
 "metadata": {
  "kernelspec": {
   "display_name": "Python 3",
   "language": "python",
   "name": "python3"
  },
  "language_info": {
   "codemirror_mode": {
    "name": "ipython",
    "version": 3
   },
   "file_extension": ".py",
   "mimetype": "text/x-python",
   "name": "python",
   "nbconvert_exporter": "python",
   "pygments_lexer": "ipython3",
   "version": "3.6.1"
  }
 },
 "nbformat": 4,
 "nbformat_minor": 2
}
