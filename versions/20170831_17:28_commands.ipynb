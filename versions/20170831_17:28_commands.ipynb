{
 "cells": [
  {
   "cell_type": "markdown",
   "metadata": {},
   "source": [
    "### Commands"
   ]
  },
  {
   "cell_type": "code",
   "execution_count": 13,
   "metadata": {
    "collapsed": true
   },
   "outputs": [],
   "source": [
    "from firecloud import api as firecloud_api\n",
    "import fc_interface"
   ]
  },
  {
   "cell_type": "code",
   "execution_count": 14,
   "metadata": {
    "collapsed": true
   },
   "outputs": [],
   "source": [
    "namespace = \"nci-mimoun-bi-org\"\n",
    "workspace = \"CCLF_TSCA\"\n",
    "paths_to_samples_info = \"paths_to_batches_info.xlsx\"\n",
    "google_bucket_id = \"fc-35446f22-ea37-483a-bd6c-5e9fc56851ff\""
   ]
  },
  {
   "cell_type": "code",
   "execution_count": 15,
   "metadata": {},
   "outputs": [
    {
     "name": "stdout",
     "output_type": "stream",
     "text": [
      "The autoreload extension is already loaded. To reload it, use:\n",
      "  %reload_ext autoreload\n"
     ]
    }
   ],
   "source": [
    "%load_ext autoreload\n",
    "%autoreload 2"
   ]
  },
  {
   "cell_type": "code",
   "execution_count": null,
   "metadata": {
    "collapsed": true,
    "editable": false,
    "run_control": {
     "frozen": true
    }
   },
   "outputs": [],
   "source": [
    "### Delete unnecessary attributes in samples\n",
    "attrs = [\"annotate_variants_vcf\", \"annotate_variants_vcf_index\", \"oncotated_maf\", \"mutect2_vcf_index\", \"match_normal_oncotated_maf\", \"gnomad_vcf\", \"merged_vcfs\", \"match_primary_tumor_bam_file\"]\n",
    "for idx, row in all_samples.iterrows():\n",
    "    fc_interface.delete_entity_attributes(namespace, workspace, \"sample\", row['entity:sample_id'], attrs)"
   ]
  },
  {
   "cell_type": "code",
   "execution_count": 3,
   "metadata": {
    "editable": false,
    "run_control": {
     "frozen": true
    }
   },
   "outputs": [
    {
     "data": {
      "text/plain": [
       "<Response [200]>"
      ]
     },
     "execution_count": 3,
     "metadata": {},
     "output_type": "execute_result"
    }
   ],
   "source": [
    "### Delete method repostory\n",
    "firecloud_api.delete_repository_method('tsca', 'CreatePoN', 15)"
   ]
  },
  {
   "cell_type": "code",
   "execution_count": 16,
   "metadata": {
    "collapsed": true,
    "editable": false,
    "run_control": {
     "frozen": true
    }
   },
   "outputs": [],
   "source": [
    "### Delete method config\n",
    "firecloud_api.delete_workspace_config(namespace, workspace, \"tsca\", \"Mutect2_for_Normal\")"
   ]
  },
  {
   "cell_type": "code",
   "execution_count": 17,
   "metadata": {
    "editable": false,
    "run_control": {
     "frozen": true
    }
   },
   "outputs": [
    {
     "data": {
      "text/plain": [
       "<Response [200]>"
      ]
     },
     "execution_count": 17,
     "metadata": {},
     "output_type": "execute_result"
    }
   ],
   "source": [
    "### Delete method repository\n",
    "firecloud_api.delete_repository_method('tsca', 'Mutect2_for_Normal', 1)"
   ]
  },
  {
   "cell_type": "code",
   "execution_count": 18,
   "metadata": {
    "collapsed": true
   },
   "outputs": [],
   "source": [
    "### Update pairs\n",
    "all_samples = fc_interface.get_samples_multiple_batches(paths_to_samples_info, google_bucket_id)"
   ]
  },
  {
   "cell_type": "code",
   "execution_count": 28,
   "metadata": {},
   "outputs": [],
   "source": [
    "pairs_list = fc_interface.create_pairs_list(all_samples)\n",
    "blacklist = \"DW039-Tumor-SM-DB2IF\""
   ]
  },
  {
   "cell_type": "code",
   "execution_count": null,
   "metadata": {
    "collapsed": true
   },
   "outputs": [],
   "source": [
    "res = fc_interface.upload_pairs(namespace, workspace, pairs_list)"
   ]
  },
  {
   "cell_type": "code",
   "execution_count": 34,
   "metadata": {},
   "outputs": [
    {
     "data": {
      "text/plain": [
       "(1608, 5)"
      ]
     },
     "execution_count": 34,
     "metadata": {},
     "output_type": "execute_result"
    }
   ],
   "source": [
    "pairs_list.shape"
   ]
  },
  {
   "cell_type": "code",
   "execution_count": 33,
   "metadata": {},
   "outputs": [
    {
     "data": {
      "text/plain": [
       "(1606, 5)"
      ]
     },
     "execution_count": 33,
     "metadata": {},
     "output_type": "execute_result"
    }
   ],
   "source": [
    "pairs_list[ pairs_list['case_sample_id'] not in ]"
   ]
  },
  {
   "cell_type": "code",
   "execution_count": 31,
   "metadata": {},
   "outputs": [
    {
     "data": {
      "text/html": [
       "<div>\n",
       "<style>\n",
       "    .dataframe thead tr:only-child th {\n",
       "        text-align: right;\n",
       "    }\n",
       "\n",
       "    .dataframe thead th {\n",
       "        text-align: left;\n",
       "    }\n",
       "\n",
       "    .dataframe tbody tr th {\n",
       "        vertical-align: top;\n",
       "    }\n",
       "</style>\n",
       "<table border=\"1\" class=\"dataframe\">\n",
       "  <thead>\n",
       "    <tr style=\"text-align: right;\">\n",
       "      <th></th>\n",
       "      <th>entity:pair_id</th>\n",
       "      <th>case_sample_id</th>\n",
       "      <th>control_sample_id</th>\n",
       "      <th>participant_id</th>\n",
       "      <th>match_type</th>\n",
       "    </tr>\n",
       "  </thead>\n",
       "  <tbody>\n",
       "    <tr>\n",
       "      <th>0</th>\n",
       "      <td>AA34-Tumor-SM-D4L25_NA_TN</td>\n",
       "      <td>AA34-Tumor-SM-D4L25</td>\n",
       "      <td>NA</td>\n",
       "      <td>AA34</td>\n",
       "      <td>tumor_normal</td>\n",
       "    </tr>\n",
       "    <tr>\n",
       "      <th>1</th>\n",
       "      <td>AA34-Tumor-SM-D4L25_NA_TP</td>\n",
       "      <td>AA34-Tumor-SM-D4L25</td>\n",
       "      <td>NA</td>\n",
       "      <td>AA34</td>\n",
       "      <td>tumor_primary</td>\n",
       "    </tr>\n",
       "    <tr>\n",
       "      <th>2</th>\n",
       "      <td>AA36-Tumor-SM-D4L2H_NA_TN</td>\n",
       "      <td>AA36-Tumor-SM-D4L2H</td>\n",
       "      <td>NA</td>\n",
       "      <td>AA36</td>\n",
       "      <td>tumor_normal</td>\n",
       "    </tr>\n",
       "    <tr>\n",
       "      <th>3</th>\n",
       "      <td>AA36-Tumor-SM-D4L2H_NA_TP</td>\n",
       "      <td>AA36-Tumor-SM-D4L2H</td>\n",
       "      <td>NA</td>\n",
       "      <td>AA36</td>\n",
       "      <td>tumor_primary</td>\n",
       "    </tr>\n",
       "    <tr>\n",
       "      <th>4</th>\n",
       "      <td>AA39-Tumor-SM-D4L3Q_NA_TN</td>\n",
       "      <td>AA39-Tumor-SM-D4L3Q</td>\n",
       "      <td>NA</td>\n",
       "      <td>AA39</td>\n",
       "      <td>tumor_normal</td>\n",
       "    </tr>\n",
       "  </tbody>\n",
       "</table>\n",
       "</div>"
      ],
      "text/plain": [
       "              entity:pair_id       case_sample_id control_sample_id  \\\n",
       "0  AA34-Tumor-SM-D4L25_NA_TN  AA34-Tumor-SM-D4L25                NA   \n",
       "1  AA34-Tumor-SM-D4L25_NA_TP  AA34-Tumor-SM-D4L25                NA   \n",
       "2  AA36-Tumor-SM-D4L2H_NA_TN  AA36-Tumor-SM-D4L2H                NA   \n",
       "3  AA36-Tumor-SM-D4L2H_NA_TP  AA36-Tumor-SM-D4L2H                NA   \n",
       "4  AA39-Tumor-SM-D4L3Q_NA_TN  AA39-Tumor-SM-D4L3Q                NA   \n",
       "\n",
       "  participant_id     match_type  \n",
       "0           AA34   tumor_normal  \n",
       "1           AA34  tumor_primary  \n",
       "2           AA36   tumor_normal  \n",
       "3           AA36  tumor_primary  \n",
       "4           AA39   tumor_normal  "
      ]
     },
     "execution_count": 31,
     "metadata": {},
     "output_type": "execute_result"
    }
   ],
   "source": [
    "pairs_list.head()"
   ]
  },
  {
   "cell_type": "code",
   "execution_count": null,
   "metadata": {
    "collapsed": true
   },
   "outputs": [],
   "source": []
  }
 ],
 "metadata": {
  "kernelspec": {
   "display_name": "Python 3",
   "language": "python",
   "name": "python3"
  },
  "language_info": {
   "codemirror_mode": {
    "name": "ipython",
    "version": 3
   },
   "file_extension": ".py",
   "mimetype": "text/x-python",
   "name": "python",
   "nbconvert_exporter": "python",
   "pygments_lexer": "ipython3",
   "version": "3.6.1"
  }
 },
 "nbformat": 4,
 "nbformat_minor": 2
}
