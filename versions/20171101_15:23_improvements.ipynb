{
 "cells": [
  {
   "cell_type": "code",
   "execution_count": 11,
   "metadata": {
    "collapsed": true
   },
   "outputs": [],
   "source": [
    "import v2fc_interface as fs"
   ]
  },
  {
   "cell_type": "code",
   "execution_count": 20,
   "metadata": {},
   "outputs": [
    {
     "name": "stdout",
     "output_type": "stream",
     "text": [
      "The autoreload extension is already loaded. To reload it, use:\n",
      "  %reload_ext autoreload\n"
     ]
    }
   ],
   "source": [
    "%load_ext autoreload\n",
    "%autoreload 2"
   ]
  },
  {
   "cell_type": "code",
   "execution_count": 13,
   "metadata": {
    "collapsed": true
   },
   "outputs": [],
   "source": [
    "paths_to_batches_info = \"paths_to_batches_info.xlsx\"\n",
    "google_bucket_id = \"fc-35446f22-ea37-483a-bd6c-5e9fc56851ff\""
   ]
  },
  {
   "cell_type": "code",
   "execution_count": 22,
   "metadata": {},
   "outputs": [],
   "source": [
    "S = fs.get_samples_multiple_batches(paths_to_batches_info, google_bucket_id)"
   ]
  },
  {
   "cell_type": "code",
   "execution_count": 23,
   "metadata": {},
   "outputs": [
    {
     "data": {
      "text/plain": [
       "(1140, 18)"
      ]
     },
     "execution_count": 23,
     "metadata": {},
     "output_type": "execute_result"
    }
   ],
   "source": [
    "S.shape"
   ]
  },
  {
   "cell_type": "code",
   "execution_count": 37,
   "metadata": {},
   "outputs": [
    {
     "name": "stdout",
     "output_type": "stream",
     "text": [
      "> /Users/mimoun/production_fc/metadata_exports/v2fc_interface.py(79)create_pairs_list()\n",
      "-> patient_samples = all_samples[ (all_samples['participant_id'] == row['participant_id']) \\\n",
      "(Pdb) row\n",
      "entity:sample_id                                                    EH015-Tumor-SM-D4L1Z\n",
      "participant_id                                                                     EH015\n",
      "clean_bam_file_capture                 gs://fc-35446f22-ea37-483a-bd6c-5e9fc56851ff/s...\n",
      "external_id_validation                                                     EH015T_AR5_p5\n",
      "aggregation_product_name_validation                 TSCA Rapid Cancer Detection Panel v2\n",
      "bsp_sample_id_validation                                                        SM-D59HW\n",
      "stock_sample_id_validation                                                      SM-D4L1Z\n",
      "sample_type                                                                        Tumor\n",
      "picard_aggregation_type_validation                                                   PCR\n",
      "processed_subtype_validation                                         Cells:Pellet frozen\n",
      "source_subtype_validation                                        Cells:Cell Line, Viable\n",
      "squid_sample_id_validation                                                 EH015T_AR5_p5\n",
      "tumor_subtype                                                                    Primary\n",
      "short_letter_code                                                                     TP\n",
      "bam_filename                           1_EH015T_AR5_p5_HVLVWBCXX.1.aligned.duplicates...\n",
      "bai_filename                           1_EH015T_AR5_p5_HVLVWBCXX.1.aligned.duplicates...\n",
      "clean_bai_file_capture                 gs://fc-35446f22-ea37-483a-bd6c-5e9fc56851ff/s...\n",
      "tsca_id                                                                         TSCA1213\n",
      "Name: 40, dtype: object\n",
      "(Pdb) n\n",
      "> /Users/mimoun/production_fc/metadata_exports/v2fc_interface.py(80)create_pairs_list()\n",
      "-> & (all_samples['entity:sample_id'] != row['entity:sample_id']) ]\n",
      "(Pdb) n\n",
      "> /Users/mimoun/production_fc/metadata_exports/v2fc_interface.py(86)create_pairs_list()\n",
      "-> match_normal = patient_samples[ patient_samples['sample_type'] == \"Normal\"]\n",
      "(Pdb) patient_samples\n",
      "         entity:sample_id participant_id  \\\n",
      "37  EH015-Normal-SM-D4L2J          EH015   \n",
      "38  EH015-Normal-SM-D4L38          EH015   \n",
      "39  EH015-Normal-SM-D4L2L          EH015   \n",
      "41   EH015-Tumor-SM-D4L2X          EH015   \n",
      "42   EH015-Tumor-SM-D4L3A          EH015   \n",
      "43   EH015-Tumor-SM-D4L2B          EH015   \n",
      "\n",
      "                               clean_bam_file_capture external_id_validation  \\\n",
      "37  gs://fc-35446f22-ea37-483a-bd6c-5e9fc56851ff/s...           EH015N_CM_p5   \n",
      "38  gs://fc-35446f22-ea37-483a-bd6c-5e9fc56851ff/s...         EH015N_RETM_p5   \n",
      "39  gs://fc-35446f22-ea37-483a-bd6c-5e9fc56851ff/s...         EH015N_SMGM_p5   \n",
      "41  gs://fc-35446f22-ea37-483a-bd6c-5e9fc56851ff/s...           EH015T_CM_p5   \n",
      "42  gs://fc-35446f22-ea37-483a-bd6c-5e9fc56851ff/s...         EH015T_RETM_p5   \n",
      "43  gs://fc-35446f22-ea37-483a-bd6c-5e9fc56851ff/s...         EH015T_SMGM_p5   \n",
      "\n",
      "     aggregation_product_name_validation bsp_sample_id_validation  \\\n",
      "37  TSCA Rapid Cancer Detection Panel v2                 SM-D59IG   \n",
      "38  TSCA Rapid Cancer Detection Panel v2                 SM-D59J7   \n",
      "39  TSCA Rapid Cancer Detection Panel v2                 SM-D59II   \n",
      "41  TSCA Rapid Cancer Detection Panel v2                 SM-D59IV   \n",
      "42  TSCA Rapid Cancer Detection Panel v2                 SM-D59J9   \n",
      "43  TSCA Rapid Cancer Detection Panel v2                 SM-D59I8   \n",
      "\n",
      "   stock_sample_id_validation sample_type picard_aggregation_type_validation  \\\n",
      "37                   SM-D4L2J      Normal                                PCR   \n",
      "38                   SM-D4L38      Normal                                PCR   \n",
      "39                   SM-D4L2L      Normal                                PCR   \n",
      "41                   SM-D4L2X       Tumor                                PCR   \n",
      "42                   SM-D4L3A       Tumor                                PCR   \n",
      "43                   SM-D4L2B       Tumor                                PCR   \n",
      "\n",
      "   processed_subtype_validation source_subtype_validation  \\\n",
      "37          Cells:Pellet frozen   Cells:Cell Line, Viable   \n",
      "38          Cells:Pellet frozen   Cells:Cell Line, Viable   \n",
      "39          Cells:Pellet frozen   Cells:Cell Line, Viable   \n",
      "41          Cells:Pellet frozen   Cells:Cell Line, Viable   \n",
      "42          Cells:Pellet frozen   Cells:Cell Line, Viable   \n",
      "43          Cells:Pellet frozen   Cells:Cell Line, Viable   \n",
      "\n",
      "   squid_sample_id_validation tumor_subtype short_letter_code  \\\n",
      "37               EH015N_CM_p5           NaN             NCELL   \n",
      "38             EH015N_RETM_p5           NaN             NCELL   \n",
      "39             EH015N_SMGM_p5           NaN             NCELL   \n",
      "41               EH015T_CM_p5       Primary                TP   \n",
      "42             EH015T_RETM_p5       Primary                TP   \n",
      "43             EH015T_SMGM_p5       Primary                TP   \n",
      "\n",
      "                                         bam_filename  \\\n",
      "37  1_EH015N_CM_p5_HVLVWBCXX.1.aligned.duplicates_...   \n",
      "38  1_EH015N_RETM_p5_HVLVWBCXX.1.aligned.duplicate...   \n",
      "39  1_EH015N_SMGM_p5_HVLVWBCXX.1.aligned.duplicate...   \n",
      "41  1_EH015T_CM_p5_HVLVWBCXX.1.aligned.duplicates_...   \n",
      "42  1_EH015T_RETM_p5_HVLVWBCXX.1.aligned.duplicate...   \n",
      "43  1_EH015T_SMGM_p5_HVLVWBCXX.1.aligned.duplicate...   \n",
      "\n",
      "                                         bai_filename  \\\n",
      "37  1_EH015N_CM_p5_HVLVWBCXX.1.aligned.duplicates_...   \n",
      "38  1_EH015N_RETM_p5_HVLVWBCXX.1.aligned.duplicate...   \n",
      "39  1_EH015N_SMGM_p5_HVLVWBCXX.1.aligned.duplicate...   \n",
      "41  1_EH015T_CM_p5_HVLVWBCXX.1.aligned.duplicates_...   \n",
      "42  1_EH015T_RETM_p5_HVLVWBCXX.1.aligned.duplicate...   \n",
      "43  1_EH015T_SMGM_p5_HVLVWBCXX.1.aligned.duplicate...   \n",
      "\n",
      "                               clean_bai_file_capture   tsca_id  \n",
      "37  gs://fc-35446f22-ea37-483a-bd6c-5e9fc56851ff/s...  TSCA1213  \n",
      "38  gs://fc-35446f22-ea37-483a-bd6c-5e9fc56851ff/s...  TSCA1213  \n",
      "39  gs://fc-35446f22-ea37-483a-bd6c-5e9fc56851ff/s...  TSCA1213  \n",
      "41  gs://fc-35446f22-ea37-483a-bd6c-5e9fc56851ff/s...  TSCA1213  \n",
      "42  gs://fc-35446f22-ea37-483a-bd6c-5e9fc56851ff/s...  TSCA1213  \n",
      "43  gs://fc-35446f22-ea37-483a-bd6c-5e9fc56851ff/s...  TSCA1213  \n",
      "(Pdb) n\n",
      "> /Users/mimoun/production_fc/metadata_exports/v2fc_interface.py(88)create_pairs_list()\n",
      "-> if match_normal.empty:\n",
      "(Pdb) match_normal\n",
      "         entity:sample_id participant_id  \\\n",
      "37  EH015-Normal-SM-D4L2J          EH015   \n",
      "38  EH015-Normal-SM-D4L38          EH015   \n",
      "39  EH015-Normal-SM-D4L2L          EH015   \n",
      "\n",
      "                               clean_bam_file_capture external_id_validation  \\\n",
      "37  gs://fc-35446f22-ea37-483a-bd6c-5e9fc56851ff/s...           EH015N_CM_p5   \n",
      "38  gs://fc-35446f22-ea37-483a-bd6c-5e9fc56851ff/s...         EH015N_RETM_p5   \n",
      "39  gs://fc-35446f22-ea37-483a-bd6c-5e9fc56851ff/s...         EH015N_SMGM_p5   \n",
      "\n",
      "     aggregation_product_name_validation bsp_sample_id_validation  \\\n",
      "37  TSCA Rapid Cancer Detection Panel v2                 SM-D59IG   \n",
      "38  TSCA Rapid Cancer Detection Panel v2                 SM-D59J7   \n",
      "39  TSCA Rapid Cancer Detection Panel v2                 SM-D59II   \n",
      "\n",
      "   stock_sample_id_validation sample_type picard_aggregation_type_validation  \\\n",
      "37                   SM-D4L2J      Normal                                PCR   \n",
      "38                   SM-D4L38      Normal                                PCR   \n",
      "39                   SM-D4L2L      Normal                                PCR   \n",
      "\n",
      "   processed_subtype_validation source_subtype_validation  \\\n",
      "37          Cells:Pellet frozen   Cells:Cell Line, Viable   \n",
      "38          Cells:Pellet frozen   Cells:Cell Line, Viable   \n",
      "39          Cells:Pellet frozen   Cells:Cell Line, Viable   \n",
      "\n",
      "   squid_sample_id_validation tumor_subtype short_letter_code  \\\n",
      "37               EH015N_CM_p5           NaN             NCELL   \n",
      "38             EH015N_RETM_p5           NaN             NCELL   \n",
      "39             EH015N_SMGM_p5           NaN             NCELL   \n",
      "\n",
      "                                         bam_filename  \\\n",
      "37  1_EH015N_CM_p5_HVLVWBCXX.1.aligned.duplicates_...   \n",
      "38  1_EH015N_RETM_p5_HVLVWBCXX.1.aligned.duplicate...   \n",
      "39  1_EH015N_SMGM_p5_HVLVWBCXX.1.aligned.duplicate...   \n",
      "\n",
      "                                         bai_filename  \\\n",
      "37  1_EH015N_CM_p5_HVLVWBCXX.1.aligned.duplicates_...   \n",
      "38  1_EH015N_RETM_p5_HVLVWBCXX.1.aligned.duplicate...   \n",
      "39  1_EH015N_SMGM_p5_HVLVWBCXX.1.aligned.duplicate...   \n",
      "\n",
      "                               clean_bai_file_capture   tsca_id  \n",
      "37  gs://fc-35446f22-ea37-483a-bd6c-5e9fc56851ff/s...  TSCA1213  \n",
      "38  gs://fc-35446f22-ea37-483a-bd6c-5e9fc56851ff/s...  TSCA1213  \n",
      "39  gs://fc-35446f22-ea37-483a-bd6c-5e9fc56851ff/s...  TSCA1213  \n"
     ]
    },
    {
     "name": "stdout",
     "output_type": "stream",
     "text": [
      "--KeyboardInterrupt--\n",
      "(Pdb) quit\n"
     ]
    },
    {
     "ename": "BdbQuit",
     "evalue": "",
     "output_type": "error",
     "traceback": [
      "\u001b[0;31m---------------------------------------------------------------------------\u001b[0m",
      "\u001b[0;31mBdbQuit\u001b[0m                                   Traceback (most recent call last)",
      "\u001b[0;32m<ipython-input-37-3fcae1ef0dde>\u001b[0m in \u001b[0;36m<module>\u001b[0;34m()\u001b[0m\n\u001b[0;32m----> 1\u001b[0;31m \u001b[0mP\u001b[0m \u001b[0;34m=\u001b[0m \u001b[0mfs\u001b[0m\u001b[0;34m.\u001b[0m\u001b[0mcreate_pairs_list\u001b[0m\u001b[0;34m(\u001b[0m\u001b[0mS\u001b[0m\u001b[0;34m)\u001b[0m\u001b[0;34m\u001b[0m\u001b[0m\n\u001b[0m",
      "\u001b[0;32m/Users/mimoun/production_fc/metadata_exports/v2fc_interface.py\u001b[0m in \u001b[0;36mcreate_pairs_list\u001b[0;34m(all_samples)\u001b[0m\n\u001b[1;32m     86\u001b[0m         \u001b[0;31m# The match normal is used to compute allelic fractions in Mutect2, so for now we ignore the conditions it was grown in.\u001b[0m\u001b[0;34m\u001b[0m\u001b[0;34m\u001b[0m\u001b[0m\n\u001b[1;32m     87\u001b[0m \u001b[0;34m\u001b[0m\u001b[0m\n\u001b[0;32m---> 88\u001b[0;31m         \u001b[0;31m######## Match normal: Add match normal\u001b[0m\u001b[0;34m\u001b[0m\u001b[0;34m\u001b[0m\u001b[0m\n\u001b[0m\u001b[1;32m     89\u001b[0m         \u001b[0mmatch_normal\u001b[0m \u001b[0;34m=\u001b[0m \u001b[0mpatient_samples\u001b[0m\u001b[0;34m[\u001b[0m \u001b[0mpatient_samples\u001b[0m\u001b[0;34m[\u001b[0m\u001b[0;34m'sample_type'\u001b[0m\u001b[0;34m]\u001b[0m \u001b[0;34m==\u001b[0m \u001b[0;34m\"Normal\"\u001b[0m\u001b[0;34m]\u001b[0m\u001b[0;34m\u001b[0m\u001b[0m\n\u001b[1;32m     90\u001b[0m         \u001b[0;31m#   > No match normal found\u001b[0m\u001b[0;34m\u001b[0m\u001b[0;34m\u001b[0m\u001b[0m\n",
      "\u001b[0;32m/Users/mimoun/production_fc/metadata_exports/v2fc_interface.py\u001b[0m in \u001b[0;36mcreate_pairs_list\u001b[0;34m(all_samples)\u001b[0m\n\u001b[1;32m     86\u001b[0m         \u001b[0;31m# The match normal is used to compute allelic fractions in Mutect2, so for now we ignore the conditions it was grown in.\u001b[0m\u001b[0;34m\u001b[0m\u001b[0;34m\u001b[0m\u001b[0m\n\u001b[1;32m     87\u001b[0m \u001b[0;34m\u001b[0m\u001b[0m\n\u001b[0;32m---> 88\u001b[0;31m         \u001b[0;31m######## Match normal: Add match normal\u001b[0m\u001b[0;34m\u001b[0m\u001b[0;34m\u001b[0m\u001b[0m\n\u001b[0m\u001b[1;32m     89\u001b[0m         \u001b[0mmatch_normal\u001b[0m \u001b[0;34m=\u001b[0m \u001b[0mpatient_samples\u001b[0m\u001b[0;34m[\u001b[0m \u001b[0mpatient_samples\u001b[0m\u001b[0;34m[\u001b[0m\u001b[0;34m'sample_type'\u001b[0m\u001b[0;34m]\u001b[0m \u001b[0;34m==\u001b[0m \u001b[0;34m\"Normal\"\u001b[0m\u001b[0;34m]\u001b[0m\u001b[0;34m\u001b[0m\u001b[0m\n\u001b[1;32m     90\u001b[0m         \u001b[0;31m#   > No match normal found\u001b[0m\u001b[0;34m\u001b[0m\u001b[0;34m\u001b[0m\u001b[0m\n",
      "\u001b[0;32m/Users/mimoun/anaconda/lib/python3.6/bdb.py\u001b[0m in \u001b[0;36mtrace_dispatch\u001b[0;34m(self, frame, event, arg)\u001b[0m\n\u001b[1;32m     46\u001b[0m             \u001b[0;32mreturn\u001b[0m \u001b[0;31m# None\u001b[0m\u001b[0;34m\u001b[0m\u001b[0m\n\u001b[1;32m     47\u001b[0m         \u001b[0;32mif\u001b[0m \u001b[0mevent\u001b[0m \u001b[0;34m==\u001b[0m \u001b[0;34m'line'\u001b[0m\u001b[0;34m:\u001b[0m\u001b[0;34m\u001b[0m\u001b[0m\n\u001b[0;32m---> 48\u001b[0;31m             \u001b[0;32mreturn\u001b[0m \u001b[0mself\u001b[0m\u001b[0;34m.\u001b[0m\u001b[0mdispatch_line\u001b[0m\u001b[0;34m(\u001b[0m\u001b[0mframe\u001b[0m\u001b[0;34m)\u001b[0m\u001b[0;34m\u001b[0m\u001b[0m\n\u001b[0m\u001b[1;32m     49\u001b[0m         \u001b[0;32mif\u001b[0m \u001b[0mevent\u001b[0m \u001b[0;34m==\u001b[0m \u001b[0;34m'call'\u001b[0m\u001b[0;34m:\u001b[0m\u001b[0;34m\u001b[0m\u001b[0m\n\u001b[1;32m     50\u001b[0m             \u001b[0;32mreturn\u001b[0m \u001b[0mself\u001b[0m\u001b[0;34m.\u001b[0m\u001b[0mdispatch_call\u001b[0m\u001b[0;34m(\u001b[0m\u001b[0mframe\u001b[0m\u001b[0;34m,\u001b[0m \u001b[0marg\u001b[0m\u001b[0;34m)\u001b[0m\u001b[0;34m\u001b[0m\u001b[0m\n",
      "\u001b[0;32m/Users/mimoun/anaconda/lib/python3.6/bdb.py\u001b[0m in \u001b[0;36mdispatch_line\u001b[0;34m(self, frame)\u001b[0m\n\u001b[1;32m     65\u001b[0m         \u001b[0;32mif\u001b[0m \u001b[0mself\u001b[0m\u001b[0;34m.\u001b[0m\u001b[0mstop_here\u001b[0m\u001b[0;34m(\u001b[0m\u001b[0mframe\u001b[0m\u001b[0;34m)\u001b[0m \u001b[0;32mor\u001b[0m \u001b[0mself\u001b[0m\u001b[0;34m.\u001b[0m\u001b[0mbreak_here\u001b[0m\u001b[0;34m(\u001b[0m\u001b[0mframe\u001b[0m\u001b[0;34m)\u001b[0m\u001b[0;34m:\u001b[0m\u001b[0;34m\u001b[0m\u001b[0m\n\u001b[1;32m     66\u001b[0m             \u001b[0mself\u001b[0m\u001b[0;34m.\u001b[0m\u001b[0muser_line\u001b[0m\u001b[0;34m(\u001b[0m\u001b[0mframe\u001b[0m\u001b[0;34m)\u001b[0m\u001b[0;34m\u001b[0m\u001b[0m\n\u001b[0;32m---> 67\u001b[0;31m             \u001b[0;32mif\u001b[0m \u001b[0mself\u001b[0m\u001b[0;34m.\u001b[0m\u001b[0mquitting\u001b[0m\u001b[0;34m:\u001b[0m \u001b[0;32mraise\u001b[0m \u001b[0mBdbQuit\u001b[0m\u001b[0;34m\u001b[0m\u001b[0m\n\u001b[0m\u001b[1;32m     68\u001b[0m         \u001b[0;32mreturn\u001b[0m \u001b[0mself\u001b[0m\u001b[0;34m.\u001b[0m\u001b[0mtrace_dispatch\u001b[0m\u001b[0;34m\u001b[0m\u001b[0m\n\u001b[1;32m     69\u001b[0m \u001b[0;34m\u001b[0m\u001b[0m\n",
      "\u001b[0;31mBdbQuit\u001b[0m: "
     ]
    }
   ],
   "source": [
    "P = fs.create_pairs_list(S)"
   ]
  },
  {
   "cell_type": "code",
   "execution_count": 34,
   "metadata": {},
   "outputs": [
    {
     "data": {
      "text/plain": [
       "(1952, 7)"
      ]
     },
     "execution_count": 34,
     "metadata": {},
     "output_type": "execute_result"
    }
   ],
   "source": [
    "P.shape"
   ]
  },
  {
   "cell_type": "code",
   "execution_count": 30,
   "metadata": {},
   "outputs": [
    {
     "data": {
      "text/plain": [
       "False"
      ]
     },
     "execution_count": 30,
     "metadata": {},
     "output_type": "execute_result"
    }
   ],
   "source": [
    "'EH015-Tumor-SM-D4L1Z_EH015-Normal-SM-D4L2J_TN' in P['entity:pair_id'].tolist()"
   ]
  },
  {
   "cell_type": "code",
   "execution_count": 36,
   "metadata": {},
   "outputs": [
    {
     "data": {
      "text/html": [
       "<div>\n",
       "<style>\n",
       "    .dataframe thead tr:only-child th {\n",
       "        text-align: right;\n",
       "    }\n",
       "\n",
       "    .dataframe thead th {\n",
       "        text-align: left;\n",
       "    }\n",
       "\n",
       "    .dataframe tbody tr th {\n",
       "        vertical-align: top;\n",
       "    }\n",
       "</style>\n",
       "<table border=\"1\" class=\"dataframe\">\n",
       "  <thead>\n",
       "    <tr style=\"text-align: right;\">\n",
       "      <th></th>\n",
       "      <th>entity:pair_id</th>\n",
       "      <th>case_sample_id</th>\n",
       "      <th>control_sample_id</th>\n",
       "      <th>participant_id</th>\n",
       "      <th>match_type</th>\n",
       "      <th>case_sample_tsca_id</th>\n",
       "      <th>control_sample_tsca_id</th>\n",
       "    </tr>\n",
       "  </thead>\n",
       "  <tbody>\n",
       "    <tr>\n",
       "      <th>66</th>\n",
       "      <td>EH015-Tumor-SM-D4L1Z_EH015-Normal-SM-D4L2L_TN</td>\n",
       "      <td>EH015-Tumor-SM-D4L1Z</td>\n",
       "      <td>EH015-Normal-SM-D4L2L</td>\n",
       "      <td>EH015</td>\n",
       "      <td>tumor_normal</td>\n",
       "      <td>TSCA1213</td>\n",
       "      <td>TSCA1213</td>\n",
       "    </tr>\n",
       "    <tr>\n",
       "      <th>67</th>\n",
       "      <td>EH015-Tumor-SM-D4L1Z_NA_TP</td>\n",
       "      <td>EH015-Tumor-SM-D4L1Z</td>\n",
       "      <td>NA</td>\n",
       "      <td>EH015</td>\n",
       "      <td>tumor_primary</td>\n",
       "      <td>TSCA1213</td>\n",
       "      <td>NA</td>\n",
       "    </tr>\n",
       "  </tbody>\n",
       "</table>\n",
       "</div>"
      ],
      "text/plain": [
       "                                   entity:pair_id        case_sample_id  \\\n",
       "66  EH015-Tumor-SM-D4L1Z_EH015-Normal-SM-D4L2L_TN  EH015-Tumor-SM-D4L1Z   \n",
       "67                     EH015-Tumor-SM-D4L1Z_NA_TP  EH015-Tumor-SM-D4L1Z   \n",
       "\n",
       "        control_sample_id participant_id     match_type case_sample_tsca_id  \\\n",
       "66  EH015-Normal-SM-D4L2L          EH015   tumor_normal            TSCA1213   \n",
       "67                     NA          EH015  tumor_primary            TSCA1213   \n",
       "\n",
       "   control_sample_tsca_id  \n",
       "66               TSCA1213  \n",
       "67                     NA  "
      ]
     },
     "execution_count": 36,
     "metadata": {},
     "output_type": "execute_result"
    }
   ],
   "source": [
    "P[P['case_sample_id'] == \"EH015-Tumor-SM-D4L1Z\"]"
   ]
  },
  {
   "cell_type": "code",
   "execution_count": 38,
   "metadata": {},
   "outputs": [
    {
     "data": {
      "text/html": [
       "<div>\n",
       "<style>\n",
       "    .dataframe thead tr:only-child th {\n",
       "        text-align: right;\n",
       "    }\n",
       "\n",
       "    .dataframe thead th {\n",
       "        text-align: left;\n",
       "    }\n",
       "\n",
       "    .dataframe tbody tr th {\n",
       "        vertical-align: top;\n",
       "    }\n",
       "</style>\n",
       "<table border=\"1\" class=\"dataframe\">\n",
       "  <thead>\n",
       "    <tr style=\"text-align: right;\">\n",
       "      <th></th>\n",
       "      <th>entity:pair_id</th>\n",
       "      <th>case_sample_id</th>\n",
       "      <th>control_sample_id</th>\n",
       "      <th>participant_id</th>\n",
       "      <th>match_type</th>\n",
       "      <th>case_sample_tsca_id</th>\n",
       "      <th>control_sample_tsca_id</th>\n",
       "    </tr>\n",
       "  </thead>\n",
       "  <tbody>\n",
       "    <tr>\n",
       "      <th>418</th>\n",
       "      <td>JL58-Tumor-SM-DB2K8_JL58-Normal-SM-D4L4B_TN</td>\n",
       "      <td>JL58-Tumor-SM-DB2K8</td>\n",
       "      <td>JL58-Normal-SM-D4L4B</td>\n",
       "      <td>JL58</td>\n",
       "      <td>tumor_normal</td>\n",
       "      <td>TSCA14</td>\n",
       "      <td>TSCA1213</td>\n",
       "    </tr>\n",
       "    <tr>\n",
       "      <th>419</th>\n",
       "      <td>JL58-Tumor-SM-DB2K8_JL58-Tumor-SM-D4L32_TP</td>\n",
       "      <td>JL58-Tumor-SM-DB2K8</td>\n",
       "      <td>JL58-Tumor-SM-D4L32</td>\n",
       "      <td>JL58</td>\n",
       "      <td>tumor_primary</td>\n",
       "      <td>TSCA14</td>\n",
       "      <td>TSCA1213</td>\n",
       "    </tr>\n",
       "  </tbody>\n",
       "</table>\n",
       "</div>"
      ],
      "text/plain": [
       "                                  entity:pair_id       case_sample_id  \\\n",
       "418  JL58-Tumor-SM-DB2K8_JL58-Normal-SM-D4L4B_TN  JL58-Tumor-SM-DB2K8   \n",
       "419   JL58-Tumor-SM-DB2K8_JL58-Tumor-SM-D4L32_TP  JL58-Tumor-SM-DB2K8   \n",
       "\n",
       "        control_sample_id participant_id     match_type case_sample_tsca_id  \\\n",
       "418  JL58-Normal-SM-D4L4B           JL58   tumor_normal              TSCA14   \n",
       "419   JL58-Tumor-SM-D4L32           JL58  tumor_primary              TSCA14   \n",
       "\n",
       "    control_sample_tsca_id  \n",
       "418               TSCA1213  \n",
       "419               TSCA1213  "
      ]
     },
     "execution_count": 38,
     "metadata": {},
     "output_type": "execute_result"
    }
   ],
   "source": [
    "P[P['case_sample_id'] == \"JL58-Tumor-SM-DB2K8\"]"
   ]
  },
  {
   "cell_type": "code",
   "execution_count": null,
   "metadata": {
    "collapsed": true
   },
   "outputs": [],
   "source": []
  }
 ],
 "metadata": {
  "kernelspec": {
   "display_name": "Python 3",
   "language": "python",
   "name": "python3"
  },
  "language_info": {
   "codemirror_mode": {
    "name": "ipython",
    "version": 3
   },
   "file_extension": ".py",
   "mimetype": "text/x-python",
   "name": "python",
   "nbconvert_exporter": "python",
   "pygments_lexer": "ipython3",
   "version": "3.6.1"
  }
 },
 "nbformat": 4,
 "nbformat_minor": 2
}
