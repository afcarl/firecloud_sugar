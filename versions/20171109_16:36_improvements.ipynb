{
 "cells": [
  {
   "cell_type": "code",
   "execution_count": null,
   "metadata": {},
   "outputs": [],
   "source": [
    "import v2fc_interface as fs\n",
    "from firecloud import api as firecloud_api\n",
    "%load_ext autoreload\n",
    "%autoreload 2"
   ]
  },
  {
   "cell_type": "code",
   "execution_count": 2,
   "metadata": {
    "collapsed": true
   },
   "outputs": [],
   "source": [
    "paths_to_samples_info = pd.read_excel(\"paths_to_batches_info.xlsx\")\n",
    "namespace = \"nci-mimoun-bi-org\"\n",
    "workspace = \"CCLF_TSCA_2_0\"\n",
    "google_bucket_id = \"fc-35446f22-ea37-483a-bd6c-5e9fc56851ff\""
   ]
  },
  {
   "cell_type": "code",
   "execution_count": 3,
   "metadata": {
    "collapsed": true
   },
   "outputs": [],
   "source": [
    "tsca_id = \"TSCA1213\"\n",
    "latest_tsca_id = \"TSCA22\"\n",
    "path_to_samples_info = \"/xchip/clf/seq_data/processed_for_fh/tsca1213_201610_SN0106956/tsca1213_201610_SN0106956.import_samples.txt\""
   ]
  },
  {
   "cell_type": "code",
   "execution_count": null,
   "metadata": {
    "editable": false,
    "run_control": {
     "frozen": true
    }
   },
   "outputs": [],
   "source": [
    "### PROCESS FOR NEW BATCH\n",
    "tsca_id = \"TSCA1213\"\n",
    "latest_tsca_id = \"TSCA22\"\n",
    "path_to_samples_info = \"/xchip/clf/seq_data/processed_for_fh/tsca1213_201610_SN0106956/tsca1213_201610_SN0106956.import_samples.txt\"\n",
    "res = fs.upload_data_new_batch(tsca_id, latest_tsca_id, path_to_samples_info, namespace, workspace, google_bucket_id)\n",
    "# res = update_cohorts(latest_tsca_id, namespace, workspace, google_bucket_id)"
   ]
  },
  {
   "cell_type": "code",
   "execution_count": 57,
   "metadata": {},
   "outputs": [
    {
     "data": {
      "text/plain": [
       "(<Response [200]>, <Response [200]>)"
      ]
     },
     "execution_count": 57,
     "metadata": {},
     "output_type": "execute_result"
    }
   ],
   "source": [
    "fs.update_cohorts(latest_tsca_id, namespace, workspace, google_bucket_id)"
   ]
  },
  {
   "cell_type": "code",
   "execution_count": 61,
   "metadata": {},
   "outputs": [],
   "source": [
    "fs.download_remote_samples(namespace, workspace)\n",
    "remote_samples = pd.read_table('remote_files/remote_samples.txt')"
   ]
  },
  {
   "cell_type": "code",
   "execution_count": 66,
   "metadata": {},
   "outputs": [
    {
     "data": {
      "text/html": [
       "<div>\n",
       "<style>\n",
       "    .dataframe thead tr:only-child th {\n",
       "        text-align: right;\n",
       "    }\n",
       "\n",
       "    .dataframe thead th {\n",
       "        text-align: left;\n",
       "    }\n",
       "\n",
       "    .dataframe tbody tr th {\n",
       "        vertical-align: top;\n",
       "    }\n",
       "</style>\n",
       "<table border=\"1\" class=\"dataframe\">\n",
       "  <thead>\n",
       "    <tr style=\"text-align: right;\">\n",
       "      <th></th>\n",
       "      <th>entity:sample_id</th>\n",
       "      <th>aggregation_product_name_validation</th>\n",
       "      <th>bai_filename</th>\n",
       "      <th>bam_filename</th>\n",
       "      <th>bsp_sample_id_validation</th>\n",
       "      <th>clean_bai_file_capture</th>\n",
       "      <th>clean_bam_file_capture</th>\n",
       "      <th>external_id_validation</th>\n",
       "      <th>interval_list_padded</th>\n",
       "      <th>participant</th>\n",
       "      <th>...</th>\n",
       "      <th>clear_snvs</th>\n",
       "      <th>filtered_variants</th>\n",
       "      <th>mutect1_callstats</th>\n",
       "      <th>mutect1_coveragewig</th>\n",
       "      <th>mutect1_powerwig</th>\n",
       "      <th>mutect1_vcf</th>\n",
       "      <th>mutect2_vcf</th>\n",
       "      <th>oncotated_maf_mutect1</th>\n",
       "      <th>oncotated_maf_mutect2</th>\n",
       "      <th>mutect2_tsv</th>\n",
       "    </tr>\n",
       "  </thead>\n",
       "  <tbody>\n",
       "    <tr>\n",
       "      <th>0</th>\n",
       "      <td>AA24-Tumor-SM-DHZ8W</td>\n",
       "      <td>TSCA Rapid Cancer Detection Panel v2</td>\n",
       "      <td>2_AA24T_OPAC_p9_H5V3YBCXY.2.aligned.duplicates...</td>\n",
       "      <td>2_AA24T_OPAC_p9_H5V3YBCXY.2.aligned.duplicates...</td>\n",
       "      <td>SM-DHZ8W</td>\n",
       "      <td>gs://fc-35446f22-ea37-483a-bd6c-5e9fc56851ff/s...</td>\n",
       "      <td>gs://fc-35446f22-ea37-483a-bd6c-5e9fc56851ff/s...</td>\n",
       "      <td>AA24T_OPAC_p9</td>\n",
       "      <td>gs://fc-c23078b3-05b3-4158-ba8f-2b1eeb1bfa16/5...</td>\n",
       "      <td>AA24</td>\n",
       "      <td>...</td>\n",
       "      <td>NaN</td>\n",
       "      <td>NaN</td>\n",
       "      <td>NaN</td>\n",
       "      <td>NaN</td>\n",
       "      <td>NaN</td>\n",
       "      <td>NaN</td>\n",
       "      <td>NaN</td>\n",
       "      <td>NaN</td>\n",
       "      <td>NaN</td>\n",
       "      <td>NaN</td>\n",
       "    </tr>\n",
       "    <tr>\n",
       "      <th>1</th>\n",
       "      <td>AA25-Tumor-SM-DHZ99</td>\n",
       "      <td>TSCA Rapid Cancer Detection Panel v2</td>\n",
       "      <td>2_AA25T_OPAC_p4_H5V3YBCXY.2.aligned.duplicates...</td>\n",
       "      <td>2_AA25T_OPAC_p4_H5V3YBCXY.2.aligned.duplicates...</td>\n",
       "      <td>SM-DHZ99</td>\n",
       "      <td>gs://fc-35446f22-ea37-483a-bd6c-5e9fc56851ff/s...</td>\n",
       "      <td>gs://fc-35446f22-ea37-483a-bd6c-5e9fc56851ff/s...</td>\n",
       "      <td>AA25T_OPAC_p4</td>\n",
       "      <td>gs://fc-c23078b3-05b3-4158-ba8f-2b1eeb1bfa16/5...</td>\n",
       "      <td>AA25</td>\n",
       "      <td>...</td>\n",
       "      <td>NaN</td>\n",
       "      <td>NaN</td>\n",
       "      <td>NaN</td>\n",
       "      <td>NaN</td>\n",
       "      <td>NaN</td>\n",
       "      <td>NaN</td>\n",
       "      <td>NaN</td>\n",
       "      <td>NaN</td>\n",
       "      <td>NaN</td>\n",
       "      <td>NaN</td>\n",
       "    </tr>\n",
       "  </tbody>\n",
       "</table>\n",
       "<p>2 rows × 37 columns</p>\n",
       "</div>"
      ],
      "text/plain": [
       "      entity:sample_id   aggregation_product_name_validation  \\\n",
       "0  AA24-Tumor-SM-DHZ8W  TSCA Rapid Cancer Detection Panel v2   \n",
       "1  AA25-Tumor-SM-DHZ99  TSCA Rapid Cancer Detection Panel v2   \n",
       "\n",
       "                                        bai_filename  \\\n",
       "0  2_AA24T_OPAC_p9_H5V3YBCXY.2.aligned.duplicates...   \n",
       "1  2_AA25T_OPAC_p4_H5V3YBCXY.2.aligned.duplicates...   \n",
       "\n",
       "                                        bam_filename bsp_sample_id_validation  \\\n",
       "0  2_AA24T_OPAC_p9_H5V3YBCXY.2.aligned.duplicates...                 SM-DHZ8W   \n",
       "1  2_AA25T_OPAC_p4_H5V3YBCXY.2.aligned.duplicates...                 SM-DHZ99   \n",
       "\n",
       "                              clean_bai_file_capture  \\\n",
       "0  gs://fc-35446f22-ea37-483a-bd6c-5e9fc56851ff/s...   \n",
       "1  gs://fc-35446f22-ea37-483a-bd6c-5e9fc56851ff/s...   \n",
       "\n",
       "                              clean_bam_file_capture external_id_validation  \\\n",
       "0  gs://fc-35446f22-ea37-483a-bd6c-5e9fc56851ff/s...          AA24T_OPAC_p9   \n",
       "1  gs://fc-35446f22-ea37-483a-bd6c-5e9fc56851ff/s...          AA25T_OPAC_p4   \n",
       "\n",
       "                                interval_list_padded participant     ...      \\\n",
       "0  gs://fc-c23078b3-05b3-4158-ba8f-2b1eeb1bfa16/5...        AA24     ...       \n",
       "1  gs://fc-c23078b3-05b3-4158-ba8f-2b1eeb1bfa16/5...        AA25     ...       \n",
       "\n",
       "  clear_snvs filtered_variants mutect1_callstats mutect1_coveragewig  \\\n",
       "0        NaN               NaN               NaN                 NaN   \n",
       "1        NaN               NaN               NaN                 NaN   \n",
       "\n",
       "  mutect1_powerwig mutect1_vcf mutect2_vcf oncotated_maf_mutect1  \\\n",
       "0              NaN         NaN         NaN                   NaN   \n",
       "1              NaN         NaN         NaN                   NaN   \n",
       "\n",
       "  oncotated_maf_mutect2 mutect2_tsv  \n",
       "0                   NaN         NaN  \n",
       "1                   NaN         NaN  \n",
       "\n",
       "[2 rows x 37 columns]"
      ]
     },
     "execution_count": 66,
     "metadata": {},
     "output_type": "execute_result"
    }
   ],
   "source": [
    "remote_samples.head(2)"
   ]
  },
  {
   "cell_type": "code",
   "execution_count": 64,
   "metadata": {},
   "outputs": [],
   "source": [
    "all_samples = fs.get_samples_with_cohort(latest_tsca_id, \"paths_to_batches_info.xlsx\", google_bucket_id)"
   ]
  },
  {
   "cell_type": "code",
   "execution_count": 67,
   "metadata": {},
   "outputs": [
    {
     "data": {
      "text/html": [
       "<div>\n",
       "<style>\n",
       "    .dataframe thead tr:only-child th {\n",
       "        text-align: right;\n",
       "    }\n",
       "\n",
       "    .dataframe thead th {\n",
       "        text-align: left;\n",
       "    }\n",
       "\n",
       "    .dataframe tbody tr th {\n",
       "        vertical-align: top;\n",
       "    }\n",
       "</style>\n",
       "<table border=\"1\" class=\"dataframe\">\n",
       "  <thead>\n",
       "    <tr style=\"text-align: right;\">\n",
       "      <th></th>\n",
       "      <th>entity:sample_id</th>\n",
       "      <th>participant_id</th>\n",
       "      <th>clean_bam_file_capture</th>\n",
       "      <th>external_id_validation</th>\n",
       "      <th>aggregation_product_name_validation</th>\n",
       "      <th>bsp_sample_id_validation</th>\n",
       "      <th>stock_sample_id_validation</th>\n",
       "      <th>sample_type</th>\n",
       "      <th>picard_aggregation_type_validation</th>\n",
       "      <th>processed_subtype_validation</th>\n",
       "      <th>source_subtype_validation</th>\n",
       "      <th>squid_sample_id_validation</th>\n",
       "      <th>tumor_subtype</th>\n",
       "      <th>short_letter_code</th>\n",
       "      <th>bam_filename</th>\n",
       "      <th>bai_filename</th>\n",
       "      <th>clean_bai_file_capture</th>\n",
       "      <th>tsca_id</th>\n",
       "      <th>Collection</th>\n",
       "      <th>cohort_code</th>\n",
       "    </tr>\n",
       "  </thead>\n",
       "  <tbody>\n",
       "    <tr>\n",
       "      <th>0</th>\n",
       "      <td>AA33-Normal-SM-D4L4D</td>\n",
       "      <td>AA33</td>\n",
       "      <td>gs://fc-35446f22-ea37-483a-bd6c-5e9fc56851ff/s...</td>\n",
       "      <td>AA33N_3D_p5</td>\n",
       "      <td>TSCA Rapid Cancer Detection Panel v2</td>\n",
       "      <td>SM-D59KF</td>\n",
       "      <td>SM-D4L4D</td>\n",
       "      <td>Normal</td>\n",
       "      <td>PCR</td>\n",
       "      <td>Cells:Pellet frozen</td>\n",
       "      <td>Tissue:Fresh Tissue</td>\n",
       "      <td>AA33N_3D_p5</td>\n",
       "      <td>NaN</td>\n",
       "      <td>NDNA</td>\n",
       "      <td>1_AA33N_3D_p5_HVLVWBCXX.1.aligned.duplicates_m...</td>\n",
       "      <td>1_AA33N_3D_p5_HVLVWBCXX.1.aligned.duplicates_m...</td>\n",
       "      <td>gs://fc-35446f22-ea37-483a-bd6c-5e9fc56851ff/s...</td>\n",
       "      <td>TSCA1213</td>\n",
       "      <td>Cancer Cell Line Factory (CCLF) / Andy Aguirre...</td>\n",
       "      <td>COHORT_AA</td>\n",
       "    </tr>\n",
       "    <tr>\n",
       "      <th>1</th>\n",
       "      <td>AA34-Tumor-SM-D4L25</td>\n",
       "      <td>AA34</td>\n",
       "      <td>gs://fc-35446f22-ea37-483a-bd6c-5e9fc56851ff/s...</td>\n",
       "      <td>AA34T_3D_p4</td>\n",
       "      <td>TSCA Rapid Cancer Detection Panel v2</td>\n",
       "      <td>SM-D59I2</td>\n",
       "      <td>SM-D4L25</td>\n",
       "      <td>Tumor</td>\n",
       "      <td>PCR</td>\n",
       "      <td>Cells:Pellet frozen</td>\n",
       "      <td>Tissue:Fresh Tissue</td>\n",
       "      <td>AA34T_3D_p4</td>\n",
       "      <td>Metastatic</td>\n",
       "      <td>TM</td>\n",
       "      <td>1_AA34T_3D_p4_HVLVWBCXX.1.aligned.duplicates_m...</td>\n",
       "      <td>1_AA34T_3D_p4_HVLVWBCXX.1.aligned.duplicates_m...</td>\n",
       "      <td>gs://fc-35446f22-ea37-483a-bd6c-5e9fc56851ff/s...</td>\n",
       "      <td>TSCA1213</td>\n",
       "      <td>Cancer Cell Line Factory (CCLF) / Andy Aguirre...</td>\n",
       "      <td>COHORT_AA</td>\n",
       "    </tr>\n",
       "  </tbody>\n",
       "</table>\n",
       "</div>"
      ],
      "text/plain": [
       "       entity:sample_id participant_id  \\\n",
       "0  AA33-Normal-SM-D4L4D           AA33   \n",
       "1   AA34-Tumor-SM-D4L25           AA34   \n",
       "\n",
       "                              clean_bam_file_capture external_id_validation  \\\n",
       "0  gs://fc-35446f22-ea37-483a-bd6c-5e9fc56851ff/s...            AA33N_3D_p5   \n",
       "1  gs://fc-35446f22-ea37-483a-bd6c-5e9fc56851ff/s...            AA34T_3D_p4   \n",
       "\n",
       "    aggregation_product_name_validation bsp_sample_id_validation  \\\n",
       "0  TSCA Rapid Cancer Detection Panel v2                 SM-D59KF   \n",
       "1  TSCA Rapid Cancer Detection Panel v2                 SM-D59I2   \n",
       "\n",
       "  stock_sample_id_validation sample_type picard_aggregation_type_validation  \\\n",
       "0                   SM-D4L4D      Normal                                PCR   \n",
       "1                   SM-D4L25       Tumor                                PCR   \n",
       "\n",
       "  processed_subtype_validation source_subtype_validation  \\\n",
       "0          Cells:Pellet frozen       Tissue:Fresh Tissue   \n",
       "1          Cells:Pellet frozen       Tissue:Fresh Tissue   \n",
       "\n",
       "  squid_sample_id_validation tumor_subtype short_letter_code  \\\n",
       "0                AA33N_3D_p5           NaN              NDNA   \n",
       "1                AA34T_3D_p4    Metastatic                TM   \n",
       "\n",
       "                                        bam_filename  \\\n",
       "0  1_AA33N_3D_p5_HVLVWBCXX.1.aligned.duplicates_m...   \n",
       "1  1_AA34T_3D_p4_HVLVWBCXX.1.aligned.duplicates_m...   \n",
       "\n",
       "                                        bai_filename  \\\n",
       "0  1_AA33N_3D_p5_HVLVWBCXX.1.aligned.duplicates_m...   \n",
       "1  1_AA34T_3D_p4_HVLVWBCXX.1.aligned.duplicates_m...   \n",
       "\n",
       "                              clean_bai_file_capture   tsca_id  \\\n",
       "0  gs://fc-35446f22-ea37-483a-bd6c-5e9fc56851ff/s...  TSCA1213   \n",
       "1  gs://fc-35446f22-ea37-483a-bd6c-5e9fc56851ff/s...  TSCA1213   \n",
       "\n",
       "                                          Collection cohort_code  \n",
       "0  Cancer Cell Line Factory (CCLF) / Andy Aguirre...   COHORT_AA  \n",
       "1  Cancer Cell Line Factory (CCLF) / Andy Aguirre...   COHORT_AA  "
      ]
     },
     "execution_count": 67,
     "metadata": {},
     "output_type": "execute_result"
    }
   ],
   "source": [
    "all_samples.head(2)"
   ]
  },
  {
   "cell_type": "code",
   "execution_count": 69,
   "metadata": {},
   "outputs": [],
   "source": [
    "remote_sample_ids = remote_samples['entity:sample_id'].tolist()\n",
    "all_samples_clean = all_samples[~all_samples['entity:sample_id'].isin(remote_sample_ids)]"
   ]
  },
  {
   "cell_type": "code",
   "execution_count": 70,
   "metadata": {},
   "outputs": [
    {
     "data": {
      "text/html": [
       "<div>\n",
       "<style>\n",
       "    .dataframe thead tr:only-child th {\n",
       "        text-align: right;\n",
       "    }\n",
       "\n",
       "    .dataframe thead th {\n",
       "        text-align: left;\n",
       "    }\n",
       "\n",
       "    .dataframe tbody tr th {\n",
       "        vertical-align: top;\n",
       "    }\n",
       "</style>\n",
       "<table border=\"1\" class=\"dataframe\">\n",
       "  <thead>\n",
       "    <tr style=\"text-align: right;\">\n",
       "      <th></th>\n",
       "      <th>entity:sample_id</th>\n",
       "      <th>participant_id</th>\n",
       "      <th>clean_bam_file_capture</th>\n",
       "      <th>external_id_validation</th>\n",
       "      <th>aggregation_product_name_validation</th>\n",
       "      <th>bsp_sample_id_validation</th>\n",
       "      <th>stock_sample_id_validation</th>\n",
       "      <th>sample_type</th>\n",
       "      <th>picard_aggregation_type_validation</th>\n",
       "      <th>processed_subtype_validation</th>\n",
       "      <th>source_subtype_validation</th>\n",
       "      <th>squid_sample_id_validation</th>\n",
       "      <th>tumor_subtype</th>\n",
       "      <th>short_letter_code</th>\n",
       "      <th>bam_filename</th>\n",
       "      <th>bai_filename</th>\n",
       "      <th>clean_bai_file_capture</th>\n",
       "      <th>tsca_id</th>\n",
       "      <th>Collection</th>\n",
       "      <th>cohort_code</th>\n",
       "    </tr>\n",
       "  </thead>\n",
       "  <tbody>\n",
       "  </tbody>\n",
       "</table>\n",
       "</div>"
      ],
      "text/plain": [
       "Empty DataFrame\n",
       "Columns: [entity:sample_id, participant_id, clean_bam_file_capture, external_id_validation, aggregation_product_name_validation, bsp_sample_id_validation, stock_sample_id_validation, sample_type, picard_aggregation_type_validation, processed_subtype_validation, source_subtype_validation, squid_sample_id_validation, tumor_subtype, short_letter_code, bam_filename, bai_filename, clean_bai_file_capture, tsca_id, Collection, cohort_code]\n",
       "Index: []"
      ]
     },
     "execution_count": 70,
     "metadata": {},
     "output_type": "execute_result"
    }
   ],
   "source": [
    "all_samples_clean"
   ]
  },
  {
   "cell_type": "code",
   "execution_count": null,
   "metadata": {
    "collapsed": true
   },
   "outputs": [],
   "source": []
  }
 ],
 "metadata": {
  "kernelspec": {
   "display_name": "Python 3",
   "language": "python",
   "name": "python3"
  },
  "language_info": {
   "codemirror_mode": {
    "name": "ipython",
    "version": 3
   },
   "file_extension": ".py",
   "mimetype": "text/x-python",
   "name": "python",
   "nbconvert_exporter": "python",
   "pygments_lexer": "ipython3",
   "version": "3.6.1"
  }
 },
 "nbformat": 4,
 "nbformat_minor": 2
}
