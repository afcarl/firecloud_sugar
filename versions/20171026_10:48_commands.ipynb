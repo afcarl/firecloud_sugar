{
 "cells": [
  {
   "cell_type": "markdown",
   "metadata": {},
   "source": [
    "### Commands"
   ]
  },
  {
   "cell_type": "code",
   "execution_count": 23,
   "metadata": {
    "collapsed": true
   },
   "outputs": [],
   "source": [
    "from firecloud import api as firecloud_api\n",
    "import glob\n",
    "import fc_interface"
   ]
  },
  {
   "cell_type": "code",
   "execution_count": 96,
   "metadata": {},
   "outputs": [
    {
     "name": "stdout",
     "output_type": "stream",
     "text": [
      "The autoreload extension is already loaded. To reload it, use:\n",
      "  %reload_ext autoreload\n"
     ]
    }
   ],
   "source": [
    "%load_ext autoreload\n",
    "%autoreload 2"
   ]
  },
  {
   "cell_type": "code",
   "execution_count": 97,
   "metadata": {
    "collapsed": true
   },
   "outputs": [],
   "source": [
    "### Parameters\n",
    "namespace = \"nci-mimoun-bi-org\"\n",
    "workspace = \"CCLF_TSCA\"\n",
    "paths_to_samples_info = \"paths_to_batches_info.xlsx\"\n",
    "google_bucket_id = \"fc-35446f22-ea37-483a-bd6c-5e9fc56851ff\"\n",
    "batches_info = pd.read_excel(paths_to_samples_info)"
   ]
  },
  {
   "cell_type": "markdown",
   "metadata": {},
   "source": [
    "#### Deletions"
   ]
  },
  {
   "cell_type": "code",
   "execution_count": null,
   "metadata": {
    "collapsed": true,
    "editable": false,
    "run_control": {
     "frozen": true
    }
   },
   "outputs": [],
   "source": [
    "### Delete unnecessary attributes in samples\n",
    "attrs = [\"annotate_variants_vcf\", \"annotate_variants_vcf_index\", \"oncotated_maf\", \"mutect2_vcf_index\", \"match_normal_oncotated_maf\", \"gnomad_vcf\", \"merged_vcfs\", \"match_primary_tumor_bam_file\"]\n",
    "for idx, row in all_samples.iterrows():\n",
    "    fc_interface.delete_entity_attributes(namespace, workspace, \"sample\", row['entity:sample_id'], attrs)"
   ]
  },
  {
   "cell_type": "code",
   "execution_count": null,
   "metadata": {
    "collapsed": true,
    "editable": false,
    "run_control": {
     "frozen": true
    }
   },
   "outputs": [],
   "source": [
    "### Delete method repostory\n",
    "firecloud_api.delete_repository_method('tsca', 'CreatePoN', 15)"
   ]
  },
  {
   "cell_type": "code",
   "execution_count": null,
   "metadata": {
    "collapsed": true,
    "editable": false,
    "run_control": {
     "frozen": true
    }
   },
   "outputs": [],
   "source": [
    "### Delete method repository\n",
    "firecloud_api.delete_repository_method('tsca', 'Mutect2_for_Normal', 1)"
   ]
  },
  {
   "cell_type": "code",
   "execution_count": null,
   "metadata": {
    "collapsed": true,
    "editable": false,
    "run_control": {
     "frozen": true
    }
   },
   "outputs": [],
   "source": [
    "### Delete multiple method repositories\n",
    "for i in range(10, 23):\n",
    "    firecloud_api.delete_repository_method('tsca', 'CreatePoN', i)"
   ]
  },
  {
   "cell_type": "code",
   "execution_count": null,
   "metadata": {
    "collapsed": true,
    "editable": false,
    "run_control": {
     "frozen": true
    }
   },
   "outputs": [],
   "source": [
    "### Delete method config\n",
    "firecloud_api.delete_workspace_config(namespace, workspace, \"tsca\", \"Mutect2_for_Normal\")"
   ]
  },
  {
   "cell_type": "markdown",
   "metadata": {},
   "source": [
    "#### Pair creation"
   ]
  },
  {
   "cell_type": "code",
   "execution_count": null,
   "metadata": {
    "collapsed": true,
    "editable": false,
    "run_control": {
     "frozen": true
    }
   },
   "outputs": [],
   "source": [
    "### Create pairs\n",
    "all_samples = fc_interface.get_samples_multiple_batches(paths_to_samples_info, google_bucket_id)\n",
    "pairs_list = fc_interface.create_pairs_list(all_samples)\n",
    "blacklist = [\"DW039-Tumor-SM-DB2IF\"]\n",
    "clean_pairs_list = pairs_list[ ~pairs_list['case_sample_id'].isin(blacklist)]"
   ]
  },
  {
   "cell_type": "code",
   "execution_count": null,
   "metadata": {
    "collapsed": true,
    "editable": false,
    "run_control": {
     "frozen": true
    }
   },
   "outputs": [],
   "source": [
    "### Upload pairs\n",
    "res = fc_interface.upload_pairs(namespace, workspace, clean_pairs_list)"
   ]
  },
  {
   "cell_type": "code",
   "execution_count": null,
   "metadata": {
    "collapsed": true,
    "editable": false,
    "run_control": {
     "frozen": true
    }
   },
   "outputs": [],
   "source": [
    "# ### Delete unnecessary attributes in pairs\n",
    "# ### NOT WOKING\n",
    "# all_samples = fc_interface.get_samples_multiple_batches(paths_to_samples_info, google_bucket_id)\n",
    "# pairs_list = fc_interface.create_pairs_list(all_samples)\n",
    "# attrs = [\"__annotate_variants_vcf\", \"__annotate_variants_vcf_index\", \\\n",
    "#          \"__scattered_intervals\", \"__tmp_mutect_vcf2\", \"_tmp_mutect_vcf_index2\", \\\n",
    "#          \"__tmp_mutect_vcf2\", \"_tmp_mutect_vcf_index2\"]\n",
    "# for idx, row in pairs_list.iterrows():\n",
    "#     fc_interface.delete_entity_attributes(namespace, workspace, \"pair\", row['entity:pair_id'], attrs)"
   ]
  },
  {
   "cell_type": "code",
   "execution_count": null,
   "metadata": {
    "collapsed": true,
    "editable": false,
    "run_control": {
     "frozen": true
    }
   },
   "outputs": [],
   "source": [
    "### Upload metadata for given batch\n",
    "fc_interface.update_batch_metadata('TSCA21', \\\n",
    "                                  '/xchip/clf/seq_data/processed_for_fh/tsca21_201708_SN0128552/tsca21_201708_SN0128552.import_samples.txt', \\\n",
    "                                      paths_to_samples_info, \\\n",
    "                                        namespace, workspace, google_bucket_id)"
   ]
  },
  {
   "cell_type": "code",
   "execution_count": null,
   "metadata": {
    "collapsed": true,
    "editable": false,
    "run_control": {
     "frozen": true
    }
   },
   "outputs": [],
   "source": [
    "### Delete sample_set\n",
    "fc_interface.delete_sample_set(namespace, workspace, 'TSCA1213')"
   ]
  },
  {
   "cell_type": "code",
   "execution_count": null,
   "metadata": {
    "collapsed": true,
    "editable": false,
    "run_control": {
     "frozen": true
    }
   },
   "outputs": [],
   "source": [
    "### All paths to batch info\n",
    "# pd.read_excel('paths_to_batches_info.xlsx').path_to_samples_info.tolist()"
   ]
  },
  {
   "cell_type": "code",
   "execution_count": null,
   "metadata": {
    "collapsed": true,
    "editable": false,
    "run_control": {
     "frozen": true
    }
   },
   "outputs": [],
   "source": [
    "### Create cumulative PoN (all batches)\n",
    "batches_info = pd.read_excel(paths_to_samples_info)\n",
    "PoN = fc_interface.create_panel_of_normals(batches_info.path_to_samples_info.tolist(), -1, 'Cum_PoN_21_all')\n",
    "fc_interface.upload_pon(PoN, 'CumPoN21', namespace, workspace)"
   ]
  },
  {
   "cell_type": "code",
   "execution_count": null,
   "metadata": {
    "collapsed": true,
    "editable": false,
    "run_control": {
     "frozen": true
    }
   },
   "outputs": [],
   "source": [
    "### Create PoN from normals of only one batch (no samples from other batches)\n",
    "batches_info = pd.read_excel(paths_to_samples_info)\n",
    "tsca21_path = batches_info.path_to_samples_info.tolist()[-1]\n",
    "PoN = fc_interface.create_panel_of_normals([tsca21_path], -1, 'PoN_TSCA21_Normals')\n",
    "fc_interface.upload_pon(PoN, 'PoN_TSCA21_Normals', namespace, workspace)"
   ]
  },
  {
   "cell_type": "code",
   "execution_count": null,
   "metadata": {
    "collapsed": true,
    "editable": false,
    "run_control": {
     "frozen": true
    }
   },
   "outputs": [],
   "source": [
    "### Delete pair set\n",
    "fc_interface.delete_pair_set(namespace, workspace, 'TSCA1213')"
   ]
  },
  {
   "cell_type": "code",
   "execution_count": null,
   "metadata": {
    "collapsed": true,
    "editable": false,
    "run_control": {
     "frozen": true
    }
   },
   "outputs": [],
   "source": [
    "### Delete sample set\n",
    "fc_interface.delete_sample_set(namespace, workspace, 'TSCA1213')"
   ]
  },
  {
   "cell_type": "code",
   "execution_count": null,
   "metadata": {
    "collapsed": true,
    "editable": false,
    "run_control": {
     "frozen": true
    }
   },
   "outputs": [],
   "source": [
    "### Download method configs\n",
    "fc_interface.download_method_configs(namespace, workspace)"
   ]
  },
  {
   "cell_type": "code",
   "execution_count": null,
   "metadata": {
    "collapsed": true,
    "editable": false,
    "run_control": {
     "frozen": true
    }
   },
   "outputs": [],
   "source": [
    "### Upload pairsets\n",
    "tn_pairsets, tp_pairsets = fc_interface.create_pairsets(all_samples, clean_pairs_list)\n",
    "fc_interface.upload_pairsets(namespace, workspace, tn_pairsets, \"TN\")\n",
    "fc_interface.upload_pairsets(namespace, workspace, tp_pairsets, \"TP\")"
   ]
  },
  {
   "cell_type": "code",
   "execution_count": null,
   "metadata": {
    "collapsed": true,
    "editable": false,
    "run_control": {
     "frozen": true
    }
   },
   "outputs": [],
   "source": [
    "### Delete all pairs\n",
    "for idx, row in clean_pairs_list.iterrows():\n",
    "    res = fc_interface.delete_pair(namespace, workspace, row['entity:pair_id'])\n",
    "    print(res)"
   ]
  },
  {
   "cell_type": "code",
   "execution_count": null,
   "metadata": {
    "collapsed": true,
    "editable": false,
    "run_control": {
     "frozen": true
    }
   },
   "outputs": [],
   "source": [
    "all_samples = fc_interface.get_samples_multiple_batches(paths_to_samples_info, google_bucket_id)\n",
    "pairs_list = fc_interface.create_pairs_list(all_samples)\n",
    "blacklist = [\"DW039-Tumor-SM-DB2IF\"]\n",
    "clean_pairs_list = pairs_list[ ~pairs_list['case_sample_id'].isin(blacklist)]\n",
    "\n",
    "### Update pair attributes\n",
    "update_pair_attrs(namespace, workspace, clean_pairs_list, attrs=['control_sample_tsca_id'])"
   ]
  },
  {
   "cell_type": "code",
   "execution_count": null,
   "metadata": {
    "collapsed": true,
    "editable": false,
    "run_control": {
     "frozen": true
    }
   },
   "outputs": [],
   "source": [
    "### Create PoN from all normals\n",
    "batches_info = pd.read_excel(paths_to_samples_info)\n",
    "all_paths = batches_info.path_to_samples_info.tolist()\n",
    "PoN = fc_interface.create_panel_of_normals(all_paths, -1, 'Cum_PoN_21_all')\n",
    "fc_interface.upload_pon(PoN, 'Cum_PoN_21_all', namespace, workspace)"
   ]
  },
  {
   "cell_type": "code",
   "execution_count": 6,
   "metadata": {
    "collapsed": true
   },
   "outputs": [],
   "source": [
    "### Create PoN with normals from batch + other normals\n",
    "batches_info = pd.read_excel(paths_to_samples_info)\n",
    "all_paths = batches_info.path_to_samples_info.tolist()\n",
    "# PoN = fc_interface.create_panel_of_normals(all_paths, -1, 'Cum_PoN_21_all')\n",
    "# fc_interface.upload_pon(PoN, 'Cum_PoN_21_all', namespace, workspace)"
   ]
  },
  {
   "cell_type": "code",
   "execution_count": 4,
   "metadata": {
    "collapsed": true
   },
   "outputs": [],
   "source": [
    "# batch_id = 'TSCA21'\n",
    "# batch_path = batches_info.loc[batches_info.tsca_id==batch_id, 'path_to_samples_info'].item()\n",
    "# pd.read_table(batch_path)\n",
    "# batch_id, paths, N, name"
   ]
  },
  {
   "cell_type": "code",
   "execution_count": 21,
   "metadata": {
    "collapsed": true,
    "editable": false,
    "run_control": {
     "frozen": true
    }
   },
   "outputs": [],
   "source": [
    "# Retrieve samples before export to FC\n",
    "tsca21 = \\\n",
    "    fc_interface.\\\n",
    "        prepare_batch_samples_for_metadata_export('/xchip/clf/seq_data/processed_for_fh/tsca21_201708_SN0128552/tsca21_201708_SN0128552.import_samples.txt', \\\n",
    "                            'TSCA21', google_bucket_id)"
   ]
  },
  {
   "cell_type": "code",
   "execution_count": null,
   "metadata": {
    "collapsed": true,
    "editable": false,
    "run_control": {
     "frozen": true
    }
   },
   "outputs": [],
   "source": [
    "### Update WDLs\n",
    "fc_interface.download_remote_wdls(namespace, workspace)"
   ]
  },
  {
   "cell_type": "code",
   "execution_count": 336,
   "metadata": {
    "collapsed": true,
    "editable": false,
    "run_control": {
     "frozen": true
    }
   },
   "outputs": [],
   "source": [
    "### Prepare cohorts for export to FC\n",
    "cohorts = fc_interface.prepare_cohorts_for_metadata_export(paths_to_batches_info, google_bucket_id)"
   ]
  },
  {
   "cell_type": "code",
   "execution_count": 358,
   "metadata": {
    "collapsed": true,
    "editable": false,
    "run_control": {
     "frozen": true
    }
   },
   "outputs": [],
   "source": [
    "# # Delete cohorts\n",
    "# cohort_codes = pd.read_table('cohort_files/cohort_names_dictionary.txt', header=None)\n",
    "# for coh_code in cohort_codes.loc[:, 1].tolist():\n",
    "#     res = fc_interface.delete_sample_set(namespace, workspace, coh_code)"
   ]
  },
  {
   "cell_type": "code",
   "execution_count": 338,
   "metadata": {
    "editable": false,
    "run_control": {
     "frozen": true
    }
   },
   "outputs": [
    {
     "name": "stdout",
     "output_type": "stream",
     "text": [
      "65 Participants in this batch\n",
      "95 Samples in this batch\n"
     ]
    }
   ],
   "source": [
    "# ### Upload metadata for given batch\n",
    "# fc_interface.update_batch_metadata('TSCA21', \\\n",
    "#                                   '/xchip/clf/seq_data/processed_for_fh/tsca21_201708_SN0128552/tsca21_201708_SN0128552.import_samples.txt', \\\n",
    "#                                       paths_to_samples_info, \\\n",
    "#                                         namespace, workspace, google_bucket_id)"
   ]
  },
  {
   "cell_type": "code",
   "execution_count": 361,
   "metadata": {
    "collapsed": true,
    "editable": false,
    "run_control": {
     "frozen": true
    }
   },
   "outputs": [],
   "source": [
    "# Export metadata\n",
    "(r1, r2, r3, r4, r5, r6) = fc_interface.export_batch_metadata_to_fc('TSCA21', namespace, workspace)"
   ]
  },
  {
   "cell_type": "code",
   "execution_count": 359,
   "metadata": {
    "collapsed": true,
    "editable": false,
    "run_control": {
     "frozen": true
    }
   },
   "outputs": [],
   "source": [
    "# Cohorts\n",
    "cohorts = fc_interface.prepare_cohorts_for_metadata_export(paths_to_batches_info, google_bucket_id)"
   ]
  },
  {
   "cell_type": "code",
   "execution_count": 66,
   "metadata": {
    "collapsed": true,
    "editable": false,
    "run_control": {
     "frozen": true
    }
   },
   "outputs": [],
   "source": [
    "### Create panel of normals from batch\n",
    "pon = fc_interface.create_panel_of_normals_from_batch(batch_id, paths_to_samples_info, N=20).shape"
   ]
  },
  {
   "cell_type": "code",
   "execution_count": 78,
   "metadata": {
    "collapsed": true,
    "editable": false,
    "run_control": {
     "frozen": true
    }
   },
   "outputs": [],
   "source": [
    "### Create panel of normals from batch\n",
    "for i, row in batches_info.iterrows():\n",
    "    pon, name = fc_interface.create_panel_of_normals_from_batch(row['tsca_id'], paths_to_samples_info, N=20)\n",
    "    fc_interface.upload_pon(pon, name, namespace, workspace)"
   ]
  },
  {
   "cell_type": "code",
   "execution_count": null,
   "metadata": {
    "collapsed": true,
    "editable": false,
    "run_control": {
     "frozen": true
    }
   },
   "outputs": [],
   "source": [
    "# Retrieve samples before export to FC\n",
    "tsca21 = \\\n",
    "    fc_interface.\\\n",
    "        prepare_batch_samples_for_metadata_export('/xchip/clf/seq_data/processed_for_fh/tsca21_201708_SN0128552/tsca21_201708_SN0128552.import_samples.txt', \\\n",
    "                            'TSCA21', google_bucket_id)"
   ]
  },
  {
   "cell_type": "code",
   "execution_count": 33,
   "metadata": {
    "collapsed": true,
    "editable": false,
    "run_control": {
     "frozen": true
    }
   },
   "outputs": [],
   "source": [
    "### Prepare cohorts for export to FC\n",
    "cohorts = fc_interface.\\\n",
    "            prepare_cohorts_for_metadata_export(paths_to_samples_info, google_bucket_id, \\\n",
    "                                               blacklist=[\"CCLF_AA1012-Tumor-SM-F67DF\"])\n",
    "\n",
    "cohorts_sample_set_metadata = \"cohort_files/fc_upload_sample_set_cohorts.txt\"\n",
    "res = fc_interface.upload_entities_from_tsv(namespace, workspace, cohorts_sample_set_metadata)"
   ]
  },
  {
   "cell_type": "code",
   "execution_count": 8,
   "metadata": {
    "collapsed": true,
    "editable": false,
    "run_control": {
     "frozen": true
    }
   },
   "outputs": [],
   "source": [
    "# Export metadata\n",
    "(r1, r2, r3, r4, r5, r6) = fc_interface.export_batch_metadata_to_fc('TSCA21', namespace, workspace)"
   ]
  },
  {
   "cell_type": "code",
   "execution_count": 34,
   "metadata": {
    "collapsed": true,
    "editable": false,
    "run_control": {
     "frozen": true
    }
   },
   "outputs": [],
   "source": [
    "### Cohort of all tumors\n",
    "res = fc_interface.upload_cohort_all_tumors(paths_to_samples_info, google_bucket_id, \\\n",
    "                                      'Cum_Tumors_22_all', namespace, workspace, ['DW039-Tumor-SM-DB2IF'])"
   ]
  },
  {
   "cell_type": "code",
   "execution_count": 12,
   "metadata": {
    "editable": false,
    "run_control": {
     "frozen": true
    }
   },
   "outputs": [
    {
     "data": {
      "text/plain": [
       "(1045, 14)"
      ]
     },
     "execution_count": 12,
     "metadata": {},
     "output_type": "execute_result"
    }
   ],
   "source": [
    "# fc_interface.merge_walkupseq_files(paths_to_samples_info)"
   ]
  },
  {
   "cell_type": "markdown",
   "metadata": {},
   "source": [
    "---"
   ]
  },
  {
   "cell_type": "markdown",
   "metadata": {},
   "source": [
    "---"
   ]
  },
  {
   "cell_type": "markdown",
   "metadata": {},
   "source": [
    "## Refined: New Batch Workflow"
   ]
  },
  {
   "cell_type": "code",
   "execution_count": 90,
   "metadata": {
    "collapsed": true
   },
   "outputs": [],
   "source": [
    "tsca_id = \"TSCA22\"\n",
    "path_to_batch_samples_info = batches_info.loc[batches_info.tsca_id==tsca_id, 'path_to_samples_info'].item()"
   ]
  },
  {
   "cell_type": "code",
   "execution_count": 29,
   "metadata": {
    "collapsed": true
   },
   "outputs": [],
   "source": [
    "### ALL SAMPLES\n",
    "## Prepare\n",
    "# fc_interface.prepare_patients_for_metadata_export(path_to_batch_samples_info, tsca_id)\n",
    "# fc_interface.prepare_batch_sample_set_for_metadata_export(path_to_batch_samples_info, tsca_id)\n",
    "# fc_interface.prepare_batch_samples_for_metadata_export(path_to_batch_samples_info, tsca_id, google_bucket_id)\n",
    "\n",
    "## Export\n",
    "# fc_interface.export_batch_metadata_to_fc(tsca_id, namespace, workspace)"
   ]
  },
  {
   "cell_type": "code",
   "execution_count": 39,
   "metadata": {
    "collapsed": true
   },
   "outputs": [],
   "source": [
    "### PANEL OF NORMALS BATCH\n",
    "## Prepare \n",
    "# pon, name = fc_interface.create_panel_of_normals_from_batch(tsca_id, paths_to_samples_info, N=20)\n",
    "\n",
    "# Export\n",
    "# fc_interface.upload_pon(pon, name, namespace, workspace)"
   ]
  },
  {
   "cell_type": "code",
   "execution_count": 13,
   "metadata": {},
   "outputs": [
    {
     "name": "stdout",
     "output_type": "stream",
     "text": [
      "Creating panel of 163 normals\n"
     ]
    },
    {
     "data": {
      "text/plain": [
       "<Response [200]>"
      ]
     },
     "execution_count": 13,
     "metadata": {},
     "output_type": "execute_result"
    }
   ],
   "source": [
    "### PANEL OF NORMALS CUMULATIVE\n",
    "## Prepare\n",
    "# batches_info = pd.read_excel(paths_to_samples_info)\n",
    "# PoN = fc_interface.create_panel_of_normals(batches_info.path_to_samples_info.tolist(), -1, 'Cum_PoN_22_all')\n",
    "\n",
    "# Export\n",
    "# fc_interface.upload_pon(PoN, 'Cum_PoN_22_all', namespace, workspace)"
   ]
  },
  {
   "cell_type": "code",
   "execution_count": 103,
   "metadata": {},
   "outputs": [],
   "source": [
    "### COHORT SAMPLE SETS\n",
    "## Prepare\n",
    "cohorts = fc_interface.prepare_cohorts_for_metadata_export(paths_to_samples_info, google_bucket_id, blacklist, tsca_id)"
   ]
  },
  {
   "cell_type": "code",
   "execution_count": 104,
   "metadata": {},
   "outputs": [
    {
     "data": {
      "text/plain": [
       "COHORT_PEDS         354\n",
       "COHORT_BT           140\n",
       "COHORT_JNT           90\n",
       "COHORT_EH            62\n",
       "COHORT_AA            58\n",
       "COHORT_CCLF_RCRF     56\n",
       "COHORT_CSHL_PDAC     47\n",
       "COHORT_JL            41\n",
       "COHORT_JB            40\n",
       "COHORT_CY            38\n",
       "COHORT_AB            36\n",
       "COHORT_HG            30\n",
       "COHORT_CO            28\n",
       "COHORT_SS            22\n",
       "COHORT_DW            18\n",
       "COHORT_TC            15\n",
       "COHORT_NB            14\n",
       "COHORT_NH            12\n",
       "COHORT_EW            11\n",
       "COHORT_COLO          11\n",
       "COHORT_SP             7\n",
       "COHORT_GG             6\n",
       "COHORT_PM             3\n",
       "COHORT_PK             1\n",
       "Name: membership:sample_set_id, dtype: int64"
      ]
     },
     "execution_count": 104,
     "metadata": {},
     "output_type": "execute_result"
    }
   ],
   "source": [
    "cohorts['membership:sample_set_id'].value_counts()"
   ]
  },
  {
   "cell_type": "code",
   "execution_count": 105,
   "metadata": {},
   "outputs": [
    {
     "data": {
      "text/html": [
       "<div>\n",
       "<style>\n",
       "    .dataframe thead tr:only-child th {\n",
       "        text-align: right;\n",
       "    }\n",
       "\n",
       "    .dataframe thead th {\n",
       "        text-align: left;\n",
       "    }\n",
       "\n",
       "    .dataframe tbody tr th {\n",
       "        vertical-align: top;\n",
       "    }\n",
       "</style>\n",
       "<table border=\"1\" class=\"dataframe\">\n",
       "  <thead>\n",
       "    <tr style=\"text-align: right;\">\n",
       "      <th></th>\n",
       "      <th>membership:sample_set_id</th>\n",
       "      <th>sample_id</th>\n",
       "    </tr>\n",
       "  </thead>\n",
       "  <tbody>\n",
       "    <tr>\n",
       "      <th>0</th>\n",
       "      <td>COHORT_AA</td>\n",
       "      <td>AA33-Normal-SM-D4L4D</td>\n",
       "    </tr>\n",
       "    <tr>\n",
       "      <th>1</th>\n",
       "      <td>COHORT_AA</td>\n",
       "      <td>AA34-Tumor-SM-D4L25</td>\n",
       "    </tr>\n",
       "    <tr>\n",
       "      <th>2</th>\n",
       "      <td>COHORT_AA</td>\n",
       "      <td>AA36-Tumor-SM-D4L2H</td>\n",
       "    </tr>\n",
       "    <tr>\n",
       "      <th>3</th>\n",
       "      <td>COHORT_AA</td>\n",
       "      <td>AA39-Tumor-SM-D4L3Q</td>\n",
       "    </tr>\n",
       "    <tr>\n",
       "      <th>4</th>\n",
       "      <td>COHORT_AA</td>\n",
       "      <td>AA40-Tumor-SM-D4L42</td>\n",
       "    </tr>\n",
       "    <tr>\n",
       "      <th>5</th>\n",
       "      <td>COHORT_AA</td>\n",
       "      <td>AA24-Tumor-SM-DHZ8W</td>\n",
       "    </tr>\n",
       "    <tr>\n",
       "      <th>6</th>\n",
       "      <td>COHORT_AA</td>\n",
       "      <td>AA25-Tumor-SM-DHZ99</td>\n",
       "    </tr>\n",
       "    <tr>\n",
       "      <th>7</th>\n",
       "      <td>COHORT_AA</td>\n",
       "      <td>AA33-Normal-SM-DHZ9L</td>\n",
       "    </tr>\n",
       "    <tr>\n",
       "      <th>8</th>\n",
       "      <td>COHORT_AA</td>\n",
       "      <td>AA33-Tumor-SM-DHZ9X</td>\n",
       "    </tr>\n",
       "    <tr>\n",
       "      <th>9</th>\n",
       "      <td>COHORT_AA</td>\n",
       "      <td>AA38-Tumor-SM-DHZ98</td>\n",
       "    </tr>\n",
       "    <tr>\n",
       "      <th>10</th>\n",
       "      <td>COHORT_AA</td>\n",
       "      <td>AA39-Tumor-SM-DHZAA</td>\n",
       "    </tr>\n",
       "    <tr>\n",
       "      <th>11</th>\n",
       "      <td>COHORT_AA</td>\n",
       "      <td>AA40-Tumor-SM-DHZ7W</td>\n",
       "    </tr>\n",
       "    <tr>\n",
       "      <th>12</th>\n",
       "      <td>COHORT_AA</td>\n",
       "      <td>AA42-Tumor-SM-DHZ9W</td>\n",
       "    </tr>\n",
       "    <tr>\n",
       "      <th>13</th>\n",
       "      <td>COHORT_AA</td>\n",
       "      <td>AA43-Tumor-SM-DHZ8K</td>\n",
       "    </tr>\n",
       "    <tr>\n",
       "      <th>14</th>\n",
       "      <td>COHORT_AA</td>\n",
       "      <td>AA44-Normal-SM-DHZ88</td>\n",
       "    </tr>\n",
       "    <tr>\n",
       "      <th>15</th>\n",
       "      <td>COHORT_AA</td>\n",
       "      <td>AA45-Tumor-SM-DHZ9K</td>\n",
       "    </tr>\n",
       "    <tr>\n",
       "      <th>16</th>\n",
       "      <td>COHORT_AA</td>\n",
       "      <td>AA46-Tumor-SM-DHZA9</td>\n",
       "    </tr>\n",
       "    <tr>\n",
       "      <th>17</th>\n",
       "      <td>COHORT_AA</td>\n",
       "      <td>AA47-Tumor-SM-DHZ7V</td>\n",
       "    </tr>\n",
       "    <tr>\n",
       "      <th>18</th>\n",
       "      <td>COHORT_AA</td>\n",
       "      <td>AA38-Tumor-SM-E7S17</td>\n",
       "    </tr>\n",
       "    <tr>\n",
       "      <th>19</th>\n",
       "      <td>COHORT_AA</td>\n",
       "      <td>AA42-Tumor-SM-E7S2I</td>\n",
       "    </tr>\n",
       "    <tr>\n",
       "      <th>20</th>\n",
       "      <td>COHORT_AA</td>\n",
       "      <td>AA45-Tumor-SM-E7RZ5</td>\n",
       "    </tr>\n",
       "    <tr>\n",
       "      <th>21</th>\n",
       "      <td>COHORT_AA</td>\n",
       "      <td>AA47-Tumor-SM-E7S1J</td>\n",
       "    </tr>\n",
       "    <tr>\n",
       "      <th>22</th>\n",
       "      <td>COHORT_AA</td>\n",
       "      <td>AA49-Tumor-SM-E7S1V</td>\n",
       "    </tr>\n",
       "    <tr>\n",
       "      <th>23</th>\n",
       "      <td>COHORT_AA</td>\n",
       "      <td>AA49-Tumor-SM-EUVFI</td>\n",
       "    </tr>\n",
       "    <tr>\n",
       "      <th>24</th>\n",
       "      <td>COHORT_AA</td>\n",
       "      <td>AA53-Tumor-SM-EUVFU</td>\n",
       "    </tr>\n",
       "    <tr>\n",
       "      <th>25</th>\n",
       "      <td>COHORT_AA</td>\n",
       "      <td>AA55-Tumor-SM-EUVGJ</td>\n",
       "    </tr>\n",
       "    <tr>\n",
       "      <th>26</th>\n",
       "      <td>COHORT_AA</td>\n",
       "      <td>AA56-Tumor-SM-EUVGH</td>\n",
       "    </tr>\n",
       "    <tr>\n",
       "      <th>27</th>\n",
       "      <td>COHORT_AA</td>\n",
       "      <td>AA59-Tumor-SM-EUVH6</td>\n",
       "    </tr>\n",
       "    <tr>\n",
       "      <th>28</th>\n",
       "      <td>COHORT_AA</td>\n",
       "      <td>AA66-Tumor-SM-F29RQ</td>\n",
       "    </tr>\n",
       "    <tr>\n",
       "      <th>29</th>\n",
       "      <td>COHORT_AA</td>\n",
       "      <td>CCLF_AA1003-Tumor-SM-F29RS</td>\n",
       "    </tr>\n",
       "    <tr>\n",
       "      <th>...</th>\n",
       "      <td>...</td>\n",
       "      <td>...</td>\n",
       "    </tr>\n",
       "    <tr>\n",
       "      <th>1110</th>\n",
       "      <td>COHORT_CSHL_PDAC</td>\n",
       "      <td>CSHL_PDAC_25-Tumor-SM-F29TS</td>\n",
       "    </tr>\n",
       "    <tr>\n",
       "      <th>1111</th>\n",
       "      <td>COHORT_CSHL_PDAC</td>\n",
       "      <td>CSHL_PDAC_26-Tumor-SM-F29TT</td>\n",
       "    </tr>\n",
       "    <tr>\n",
       "      <th>1112</th>\n",
       "      <td>COHORT_CSHL_PDAC</td>\n",
       "      <td>CSHL_PDAC_27-Tumor-SM-F29TU</td>\n",
       "    </tr>\n",
       "    <tr>\n",
       "      <th>1113</th>\n",
       "      <td>COHORT_CSHL_PDAC</td>\n",
       "      <td>CSHL_PDAC_28-Tumor-SM-F29TV</td>\n",
       "    </tr>\n",
       "    <tr>\n",
       "      <th>1114</th>\n",
       "      <td>COHORT_CSHL_PDAC</td>\n",
       "      <td>CSHL_PDAC_29-Tumor-SM-F29TW</td>\n",
       "    </tr>\n",
       "    <tr>\n",
       "      <th>1115</th>\n",
       "      <td>COHORT_CSHL_PDAC</td>\n",
       "      <td>CSHL_PDAC_3-Tumor-SM-F29T6</td>\n",
       "    </tr>\n",
       "    <tr>\n",
       "      <th>1116</th>\n",
       "      <td>COHORT_CSHL_PDAC</td>\n",
       "      <td>CSHL_PDAC_30-Tumor-SM-F29TX</td>\n",
       "    </tr>\n",
       "    <tr>\n",
       "      <th>1117</th>\n",
       "      <td>COHORT_CSHL_PDAC</td>\n",
       "      <td>CSHL_PDAC_31-Tumor-SM-F29TZ</td>\n",
       "    </tr>\n",
       "    <tr>\n",
       "      <th>1118</th>\n",
       "      <td>COHORT_CSHL_PDAC</td>\n",
       "      <td>CSHL_PDAC_32-Tumor-SM-F29U1</td>\n",
       "    </tr>\n",
       "    <tr>\n",
       "      <th>1119</th>\n",
       "      <td>COHORT_CSHL_PDAC</td>\n",
       "      <td>CSHL_PDAC_33-Tumor-SM-F29U2</td>\n",
       "    </tr>\n",
       "    <tr>\n",
       "      <th>1120</th>\n",
       "      <td>COHORT_CSHL_PDAC</td>\n",
       "      <td>CSHL_PDAC_34-Tumor-SM-F29U3</td>\n",
       "    </tr>\n",
       "    <tr>\n",
       "      <th>1121</th>\n",
       "      <td>COHORT_CSHL_PDAC</td>\n",
       "      <td>CSHL_PDAC_34-Tumor-SM-F29U4</td>\n",
       "    </tr>\n",
       "    <tr>\n",
       "      <th>1122</th>\n",
       "      <td>COHORT_CSHL_PDAC</td>\n",
       "      <td>CSHL_PDAC_35-Tumor-SM-F29U5</td>\n",
       "    </tr>\n",
       "    <tr>\n",
       "      <th>1123</th>\n",
       "      <td>COHORT_CSHL_PDAC</td>\n",
       "      <td>CSHL_PDAC_36-Tumor-SM-F29U6</td>\n",
       "    </tr>\n",
       "    <tr>\n",
       "      <th>1124</th>\n",
       "      <td>COHORT_CSHL_PDAC</td>\n",
       "      <td>CSHL_PDAC_36-Tumor-SM-F29U7</td>\n",
       "    </tr>\n",
       "    <tr>\n",
       "      <th>1125</th>\n",
       "      <td>COHORT_CSHL_PDAC</td>\n",
       "      <td>CSHL_PDAC_36-Tumor-SM-F29U8</td>\n",
       "    </tr>\n",
       "    <tr>\n",
       "      <th>1126</th>\n",
       "      <td>COHORT_CSHL_PDAC</td>\n",
       "      <td>CSHL_PDAC_37-Tumor-SM-F29U9</td>\n",
       "    </tr>\n",
       "    <tr>\n",
       "      <th>1127</th>\n",
       "      <td>COHORT_CSHL_PDAC</td>\n",
       "      <td>CSHL_PDAC_38-Tumor-SM-F29UA</td>\n",
       "    </tr>\n",
       "    <tr>\n",
       "      <th>1128</th>\n",
       "      <td>COHORT_CSHL_PDAC</td>\n",
       "      <td>CSHL_PDAC_38-Tumor-SM-F29UB</td>\n",
       "    </tr>\n",
       "    <tr>\n",
       "      <th>1129</th>\n",
       "      <td>COHORT_CSHL_PDAC</td>\n",
       "      <td>CSHL_PDAC_38-Tumor-SM-F29UC</td>\n",
       "    </tr>\n",
       "    <tr>\n",
       "      <th>1130</th>\n",
       "      <td>COHORT_CSHL_PDAC</td>\n",
       "      <td>CSHL_PDAC_38-Tumor-SM-F29UD</td>\n",
       "    </tr>\n",
       "    <tr>\n",
       "      <th>1131</th>\n",
       "      <td>COHORT_CSHL_PDAC</td>\n",
       "      <td>CSHL_PDAC_39-Tumor-SM-F29UE</td>\n",
       "    </tr>\n",
       "    <tr>\n",
       "      <th>1132</th>\n",
       "      <td>COHORT_CSHL_PDAC</td>\n",
       "      <td>CSHL_PDAC_4-Tumor-SM-F29T7</td>\n",
       "    </tr>\n",
       "    <tr>\n",
       "      <th>1133</th>\n",
       "      <td>COHORT_CSHL_PDAC</td>\n",
       "      <td>CSHL_PDAC_40-Tumor-SM-F29UF</td>\n",
       "    </tr>\n",
       "    <tr>\n",
       "      <th>1134</th>\n",
       "      <td>COHORT_CSHL_PDAC</td>\n",
       "      <td>CSHL_PDAC_5-Tumor-SM-F29T8</td>\n",
       "    </tr>\n",
       "    <tr>\n",
       "      <th>1135</th>\n",
       "      <td>COHORT_CSHL_PDAC</td>\n",
       "      <td>CSHL_PDAC_5-Tumor-SM-F29TY</td>\n",
       "    </tr>\n",
       "    <tr>\n",
       "      <th>1136</th>\n",
       "      <td>COHORT_CSHL_PDAC</td>\n",
       "      <td>CSHL_PDAC_6-Tumor-SM-F29T9</td>\n",
       "    </tr>\n",
       "    <tr>\n",
       "      <th>1137</th>\n",
       "      <td>COHORT_CSHL_PDAC</td>\n",
       "      <td>CSHL_PDAC_7-Tumor-SM-F29TA</td>\n",
       "    </tr>\n",
       "    <tr>\n",
       "      <th>1138</th>\n",
       "      <td>COHORT_CSHL_PDAC</td>\n",
       "      <td>CSHL_PDAC_8-Tumor-SM-F29TB</td>\n",
       "    </tr>\n",
       "    <tr>\n",
       "      <th>1139</th>\n",
       "      <td>COHORT_CSHL_PDAC</td>\n",
       "      <td>CSHL_PDAC_9-Tumor-SM-F29TC</td>\n",
       "    </tr>\n",
       "  </tbody>\n",
       "</table>\n",
       "<p>1140 rows × 2 columns</p>\n",
       "</div>"
      ],
      "text/plain": [
       "     membership:sample_set_id                    sample_id\n",
       "0                   COHORT_AA         AA33-Normal-SM-D4L4D\n",
       "1                   COHORT_AA          AA34-Tumor-SM-D4L25\n",
       "2                   COHORT_AA          AA36-Tumor-SM-D4L2H\n",
       "3                   COHORT_AA          AA39-Tumor-SM-D4L3Q\n",
       "4                   COHORT_AA          AA40-Tumor-SM-D4L42\n",
       "5                   COHORT_AA          AA24-Tumor-SM-DHZ8W\n",
       "6                   COHORT_AA          AA25-Tumor-SM-DHZ99\n",
       "7                   COHORT_AA         AA33-Normal-SM-DHZ9L\n",
       "8                   COHORT_AA          AA33-Tumor-SM-DHZ9X\n",
       "9                   COHORT_AA          AA38-Tumor-SM-DHZ98\n",
       "10                  COHORT_AA          AA39-Tumor-SM-DHZAA\n",
       "11                  COHORT_AA          AA40-Tumor-SM-DHZ7W\n",
       "12                  COHORT_AA          AA42-Tumor-SM-DHZ9W\n",
       "13                  COHORT_AA          AA43-Tumor-SM-DHZ8K\n",
       "14                  COHORT_AA         AA44-Normal-SM-DHZ88\n",
       "15                  COHORT_AA          AA45-Tumor-SM-DHZ9K\n",
       "16                  COHORT_AA          AA46-Tumor-SM-DHZA9\n",
       "17                  COHORT_AA          AA47-Tumor-SM-DHZ7V\n",
       "18                  COHORT_AA          AA38-Tumor-SM-E7S17\n",
       "19                  COHORT_AA          AA42-Tumor-SM-E7S2I\n",
       "20                  COHORT_AA          AA45-Tumor-SM-E7RZ5\n",
       "21                  COHORT_AA          AA47-Tumor-SM-E7S1J\n",
       "22                  COHORT_AA          AA49-Tumor-SM-E7S1V\n",
       "23                  COHORT_AA          AA49-Tumor-SM-EUVFI\n",
       "24                  COHORT_AA          AA53-Tumor-SM-EUVFU\n",
       "25                  COHORT_AA          AA55-Tumor-SM-EUVGJ\n",
       "26                  COHORT_AA          AA56-Tumor-SM-EUVGH\n",
       "27                  COHORT_AA          AA59-Tumor-SM-EUVH6\n",
       "28                  COHORT_AA          AA66-Tumor-SM-F29RQ\n",
       "29                  COHORT_AA   CCLF_AA1003-Tumor-SM-F29RS\n",
       "...                       ...                          ...\n",
       "1110         COHORT_CSHL_PDAC  CSHL_PDAC_25-Tumor-SM-F29TS\n",
       "1111         COHORT_CSHL_PDAC  CSHL_PDAC_26-Tumor-SM-F29TT\n",
       "1112         COHORT_CSHL_PDAC  CSHL_PDAC_27-Tumor-SM-F29TU\n",
       "1113         COHORT_CSHL_PDAC  CSHL_PDAC_28-Tumor-SM-F29TV\n",
       "1114         COHORT_CSHL_PDAC  CSHL_PDAC_29-Tumor-SM-F29TW\n",
       "1115         COHORT_CSHL_PDAC   CSHL_PDAC_3-Tumor-SM-F29T6\n",
       "1116         COHORT_CSHL_PDAC  CSHL_PDAC_30-Tumor-SM-F29TX\n",
       "1117         COHORT_CSHL_PDAC  CSHL_PDAC_31-Tumor-SM-F29TZ\n",
       "1118         COHORT_CSHL_PDAC  CSHL_PDAC_32-Tumor-SM-F29U1\n",
       "1119         COHORT_CSHL_PDAC  CSHL_PDAC_33-Tumor-SM-F29U2\n",
       "1120         COHORT_CSHL_PDAC  CSHL_PDAC_34-Tumor-SM-F29U3\n",
       "1121         COHORT_CSHL_PDAC  CSHL_PDAC_34-Tumor-SM-F29U4\n",
       "1122         COHORT_CSHL_PDAC  CSHL_PDAC_35-Tumor-SM-F29U5\n",
       "1123         COHORT_CSHL_PDAC  CSHL_PDAC_36-Tumor-SM-F29U6\n",
       "1124         COHORT_CSHL_PDAC  CSHL_PDAC_36-Tumor-SM-F29U7\n",
       "1125         COHORT_CSHL_PDAC  CSHL_PDAC_36-Tumor-SM-F29U8\n",
       "1126         COHORT_CSHL_PDAC  CSHL_PDAC_37-Tumor-SM-F29U9\n",
       "1127         COHORT_CSHL_PDAC  CSHL_PDAC_38-Tumor-SM-F29UA\n",
       "1128         COHORT_CSHL_PDAC  CSHL_PDAC_38-Tumor-SM-F29UB\n",
       "1129         COHORT_CSHL_PDAC  CSHL_PDAC_38-Tumor-SM-F29UC\n",
       "1130         COHORT_CSHL_PDAC  CSHL_PDAC_38-Tumor-SM-F29UD\n",
       "1131         COHORT_CSHL_PDAC  CSHL_PDAC_39-Tumor-SM-F29UE\n",
       "1132         COHORT_CSHL_PDAC   CSHL_PDAC_4-Tumor-SM-F29T7\n",
       "1133         COHORT_CSHL_PDAC  CSHL_PDAC_40-Tumor-SM-F29UF\n",
       "1134         COHORT_CSHL_PDAC   CSHL_PDAC_5-Tumor-SM-F29T8\n",
       "1135         COHORT_CSHL_PDAC   CSHL_PDAC_5-Tumor-SM-F29TY\n",
       "1136         COHORT_CSHL_PDAC   CSHL_PDAC_6-Tumor-SM-F29T9\n",
       "1137         COHORT_CSHL_PDAC   CSHL_PDAC_7-Tumor-SM-F29TA\n",
       "1138         COHORT_CSHL_PDAC   CSHL_PDAC_8-Tumor-SM-F29TB\n",
       "1139         COHORT_CSHL_PDAC   CSHL_PDAC_9-Tumor-SM-F29TC\n",
       "\n",
       "[1140 rows x 2 columns]"
      ]
     },
     "execution_count": 105,
     "metadata": {},
     "output_type": "execute_result"
    }
   ],
   "source": [
    "cohorts"
   ]
  },
  {
   "cell_type": "code",
   "execution_count": null,
   "metadata": {
    "collapsed": true
   },
   "outputs": [],
   "source": [
    "### PAIRS"
   ]
  }
 ],
 "metadata": {
  "kernelspec": {
   "display_name": "Python 3",
   "language": "python",
   "name": "python3"
  },
  "language_info": {
   "codemirror_mode": {
    "name": "ipython",
    "version": 3
   },
   "file_extension": ".py",
   "mimetype": "text/x-python",
   "name": "python",
   "nbconvert_exporter": "python",
   "pygments_lexer": "ipython3",
   "version": "3.6.1"
  }
 },
 "nbformat": 4,
 "nbformat_minor": 2
}
