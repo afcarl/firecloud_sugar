{
 "cells": [
  {
   "cell_type": "code",
   "execution_count": 1,
   "metadata": {
    "collapsed": true
   },
   "outputs": [],
   "source": [
    "from firecloud import api as firecloud_api"
   ]
  },
  {
   "cell_type": "markdown",
   "metadata": {},
   "source": [
    "### Workflows"
   ]
  },
  {
   "cell_type": "code",
   "execution_count": null,
   "metadata": {
    "collapsed": true
   },
   "outputs": [],
   "source": [
    "### SNV Pipeline\n",
    "1. RenameBAM\n",
    "    - TSCA_XX (sample_set)\n",
    "2. Mutect2 \n",
    "    - TSCA_XX_TN (pair_set)\n"
   ]
  },
  {
   "cell_type": "code",
   "execution_count": null,
   "metadata": {
    "collapsed": true
   },
   "outputs": [],
   "source": [
    "# Entity\n",
    "CalculateTargetCoverage (sample, run on expression all samples)\n",
    "CallSomaticCNV(sample, run on expression all samples)\n",
    "DepthOfCov(sample, run on expression all samples)\n",
    "DepthOfCovQC(sample, run on expression all samples)\n",
    "PlotSomaticCNVMaps(sample set)"
   ]
  },
  {
   "cell_type": "code",
   "execution_count": null,
   "metadata": {
    "collapsed": true
   },
   "outputs": [],
   "source": [
    "### SNVs\n",
    "Mutect2TumorOnly(sample, run on expression all samples)\n",
    "Update oncotated match normals\n",
    "FilterGermnlineVariants(sample, run on normals only)\n",
    "FilterGermnlineVariants(sample, run on tumors only)"
   ]
  },
  {
   "cell_type": "code",
   "execution_count": null,
   "metadata": {
    "collapsed": true
   },
   "outputs": [],
   "source": [
    "create_submission(wnamespace, workspace, cnamespace, config,\n",
    "                      entity, etype, expression=None, use_callcache=True):"
   ]
  }
 ],
 "metadata": {
  "kernelspec": {
   "display_name": "Python 3",
   "language": "python",
   "name": "python3"
  },
  "language_info": {
   "codemirror_mode": {
    "name": "ipython",
    "version": 3
   },
   "file_extension": ".py",
   "mimetype": "text/x-python",
   "name": "python",
   "nbconvert_exporter": "python",
   "pygments_lexer": "ipython3",
   "version": "3.6.1"
  }
 },
 "nbformat": 4,
 "nbformat_minor": 2
}
