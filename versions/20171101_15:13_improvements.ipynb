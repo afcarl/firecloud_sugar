{
 "cells": [
  {
   "cell_type": "code",
   "execution_count": 11,
   "metadata": {
    "collapsed": true
   },
   "outputs": [],
   "source": [
    "import v2fc_interface as fs"
   ]
  },
  {
   "cell_type": "code",
   "execution_count": 20,
   "metadata": {},
   "outputs": [
    {
     "name": "stdout",
     "output_type": "stream",
     "text": [
      "The autoreload extension is already loaded. To reload it, use:\n",
      "  %reload_ext autoreload\n"
     ]
    }
   ],
   "source": [
    "%load_ext autoreload\n",
    "%autoreload 2"
   ]
  },
  {
   "cell_type": "code",
   "execution_count": 13,
   "metadata": {
    "collapsed": true
   },
   "outputs": [],
   "source": [
    "paths_to_batches_info = \"paths_to_batches_info.xlsx\"\n",
    "google_bucket_id = \"fc-35446f22-ea37-483a-bd6c-5e9fc56851ff\""
   ]
  },
  {
   "cell_type": "code",
   "execution_count": 22,
   "metadata": {},
   "outputs": [],
   "source": [
    "S = fs.get_samples_multiple_batches(paths_to_batches_info, google_bucket_id)"
   ]
  },
  {
   "cell_type": "code",
   "execution_count": 23,
   "metadata": {},
   "outputs": [
    {
     "data": {
      "text/plain": [
       "(1140, 18)"
      ]
     },
     "execution_count": 23,
     "metadata": {},
     "output_type": "execute_result"
    }
   ],
   "source": [
    "S.shape"
   ]
  },
  {
   "cell_type": "code",
   "execution_count": null,
   "metadata": {},
   "outputs": [
    {
     "name": "stdout",
     "output_type": "stream",
     "text": [
      "> /Users/mimoun/production_fc/metadata_exports/v2fc_interface.py(79)create_pairs_list()\n",
      "-> patient_samples = all_samples[ (all_samples['participant_id'] == row['participant_id']) \\\n",
      "(Pdb) row\n",
      "entity:sample_id                                                    EH015-Tumor-SM-D4L1Z\n",
      "participant_id                                                                     EH015\n",
      "clean_bam_file_capture                 gs://fc-35446f22-ea37-483a-bd6c-5e9fc56851ff/s...\n",
      "external_id_validation                                                     EH015T_AR5_p5\n",
      "aggregation_product_name_validation                 TSCA Rapid Cancer Detection Panel v2\n",
      "bsp_sample_id_validation                                                        SM-D59HW\n",
      "stock_sample_id_validation                                                      SM-D4L1Z\n",
      "sample_type                                                                        Tumor\n",
      "picard_aggregation_type_validation                                                   PCR\n",
      "processed_subtype_validation                                         Cells:Pellet frozen\n",
      "source_subtype_validation                                        Cells:Cell Line, Viable\n",
      "squid_sample_id_validation                                                 EH015T_AR5_p5\n",
      "tumor_subtype                                                                    Primary\n",
      "short_letter_code                                                                     TP\n",
      "bam_filename                           1_EH015T_AR5_p5_HVLVWBCXX.1.aligned.duplicates...\n",
      "bai_filename                           1_EH015T_AR5_p5_HVLVWBCXX.1.aligned.duplicates...\n",
      "clean_bai_file_capture                 gs://fc-35446f22-ea37-483a-bd6c-5e9fc56851ff/s...\n",
      "tsca_id                                                                         TSCA1213\n",
      "Name: 40, dtype: object\n"
     ]
    }
   ],
   "source": [
    "P = fs.create_pairs_list(S)"
   ]
  },
  {
   "cell_type": "code",
   "execution_count": 34,
   "metadata": {},
   "outputs": [
    {
     "data": {
      "text/plain": [
       "(1952, 7)"
      ]
     },
     "execution_count": 34,
     "metadata": {},
     "output_type": "execute_result"
    }
   ],
   "source": [
    "P.shape"
   ]
  },
  {
   "cell_type": "code",
   "execution_count": 30,
   "metadata": {},
   "outputs": [
    {
     "data": {
      "text/plain": [
       "False"
      ]
     },
     "execution_count": 30,
     "metadata": {},
     "output_type": "execute_result"
    }
   ],
   "source": [
    "'EH015-Tumor-SM-D4L1Z_EH015-Normal-SM-D4L2J_TN' in P['entity:pair_id'].tolist()"
   ]
  },
  {
   "cell_type": "code",
   "execution_count": 36,
   "metadata": {},
   "outputs": [
    {
     "data": {
      "text/html": [
       "<div>\n",
       "<style>\n",
       "    .dataframe thead tr:only-child th {\n",
       "        text-align: right;\n",
       "    }\n",
       "\n",
       "    .dataframe thead th {\n",
       "        text-align: left;\n",
       "    }\n",
       "\n",
       "    .dataframe tbody tr th {\n",
       "        vertical-align: top;\n",
       "    }\n",
       "</style>\n",
       "<table border=\"1\" class=\"dataframe\">\n",
       "  <thead>\n",
       "    <tr style=\"text-align: right;\">\n",
       "      <th></th>\n",
       "      <th>entity:pair_id</th>\n",
       "      <th>case_sample_id</th>\n",
       "      <th>control_sample_id</th>\n",
       "      <th>participant_id</th>\n",
       "      <th>match_type</th>\n",
       "      <th>case_sample_tsca_id</th>\n",
       "      <th>control_sample_tsca_id</th>\n",
       "    </tr>\n",
       "  </thead>\n",
       "  <tbody>\n",
       "    <tr>\n",
       "      <th>66</th>\n",
       "      <td>EH015-Tumor-SM-D4L1Z_EH015-Normal-SM-D4L2L_TN</td>\n",
       "      <td>EH015-Tumor-SM-D4L1Z</td>\n",
       "      <td>EH015-Normal-SM-D4L2L</td>\n",
       "      <td>EH015</td>\n",
       "      <td>tumor_normal</td>\n",
       "      <td>TSCA1213</td>\n",
       "      <td>TSCA1213</td>\n",
       "    </tr>\n",
       "    <tr>\n",
       "      <th>67</th>\n",
       "      <td>EH015-Tumor-SM-D4L1Z_NA_TP</td>\n",
       "      <td>EH015-Tumor-SM-D4L1Z</td>\n",
       "      <td>NA</td>\n",
       "      <td>EH015</td>\n",
       "      <td>tumor_primary</td>\n",
       "      <td>TSCA1213</td>\n",
       "      <td>NA</td>\n",
       "    </tr>\n",
       "  </tbody>\n",
       "</table>\n",
       "</div>"
      ],
      "text/plain": [
       "                                   entity:pair_id        case_sample_id  \\\n",
       "66  EH015-Tumor-SM-D4L1Z_EH015-Normal-SM-D4L2L_TN  EH015-Tumor-SM-D4L1Z   \n",
       "67                     EH015-Tumor-SM-D4L1Z_NA_TP  EH015-Tumor-SM-D4L1Z   \n",
       "\n",
       "        control_sample_id participant_id     match_type case_sample_tsca_id  \\\n",
       "66  EH015-Normal-SM-D4L2L          EH015   tumor_normal            TSCA1213   \n",
       "67                     NA          EH015  tumor_primary            TSCA1213   \n",
       "\n",
       "   control_sample_tsca_id  \n",
       "66               TSCA1213  \n",
       "67                     NA  "
      ]
     },
     "execution_count": 36,
     "metadata": {},
     "output_type": "execute_result"
    }
   ],
   "source": [
    "P[P['case_sample_id'] == \"EH015-Tumor-SM-D4L1Z\"]"
   ]
  },
  {
   "cell_type": "code",
   "execution_count": null,
   "metadata": {
    "collapsed": true
   },
   "outputs": [],
   "source": []
  }
 ],
 "metadata": {
  "kernelspec": {
   "display_name": "Python 3",
   "language": "python",
   "name": "python3"
  },
  "language_info": {
   "codemirror_mode": {
    "name": "ipython",
    "version": 3
   },
   "file_extension": ".py",
   "mimetype": "text/x-python",
   "name": "python",
   "nbconvert_exporter": "python",
   "pygments_lexer": "ipython3",
   "version": "3.6.1"
  }
 },
 "nbformat": 4,
 "nbformat_minor": 2
}
