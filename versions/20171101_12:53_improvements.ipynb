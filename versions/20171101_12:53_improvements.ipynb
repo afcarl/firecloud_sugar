{
 "cells": [
  {
   "cell_type": "code",
   "execution_count": 5,
   "metadata": {},
   "outputs": [],
   "source": [
    "paths_to_batches_info = pd.read_excel('paths_to_batches_info.xlsx')"
   ]
  },
  {
   "cell_type": "code",
   "execution_count": 8,
   "metadata": {},
   "outputs": [
    {
     "name": "stdout",
     "output_type": "stream",
     "text": [
      "TSCA1213\n",
      "TSCA14\n",
      "TSCA15\n",
      "TSCA16\n",
      "TSCA17\n",
      "TSCA18\n",
      "TSCA19\n",
      "TSCA20\n",
      "TSCA21\n",
      "TSCA22\n"
     ]
    }
   ],
   "source": [
    "for i, row in paths_to_batches_info.iterrows():\n",
    "    print(row['tsca_id'])"
   ]
  },
  {
   "cell_type": "code",
   "execution_count": null,
   "metadata": {
    "collapsed": true
   },
   "outputs": [],
   "source": []
  }
 ],
 "metadata": {
  "kernelspec": {
   "display_name": "Python 3",
   "language": "python",
   "name": "python3"
  },
  "language_info": {
   "codemirror_mode": {
    "name": "ipython",
    "version": 3
   },
   "file_extension": ".py",
   "mimetype": "text/x-python",
   "name": "python",
   "nbconvert_exporter": "python",
   "pygments_lexer": "ipython3",
   "version": "3.6.1"
  }
 },
 "nbformat": 4,
 "nbformat_minor": 2
}
