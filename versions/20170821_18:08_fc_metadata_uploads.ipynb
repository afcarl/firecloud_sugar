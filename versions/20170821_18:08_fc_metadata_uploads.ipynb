{
 "cells": [
  {
   "cell_type": "markdown",
   "metadata": {
    "extensions": {
     "jupyter_dashboards": {
      "version": 1,
      "views": {
       "grid_default": {
        "col": 0,
        "height": 4,
        "hidden": false,
        "row": 0,
        "width": 4
       },
       "report_default": {}
      }
     }
    }
   },
   "source": [
    "## Firecloud: Uploading Metadata to Firecloud\n",
    "Mimoun Cadosch 7/17"
   ]
  },
  {
   "cell_type": "code",
   "execution_count": 1,
   "metadata": {
    "collapsed": true,
    "extensions": {
     "jupyter_dashboards": {
      "version": 1,
      "views": {
       "grid_default": {
        "hidden": true
       },
       "report_default": {}
      }
     }
    }
   },
   "outputs": [],
   "source": [
    "from firecloud import api as firecloud_api\n",
    "import pandas as pd\n",
    "import os\n",
    "from IPython.display import display"
   ]
  },
  {
   "cell_type": "code",
   "execution_count": 2,
   "metadata": {
    "collapsed": true,
    "extensions": {
     "jupyter_dashboards": {
      "version": 1,
      "views": {
       "grid_default": {
        "hidden": true
       },
       "report_default": {}
      }
     }
    }
   },
   "outputs": [],
   "source": [
    "## Resources\n",
    "# https://github.com/broadinstitute/fiss/blob/master/firecloud/api.py\n",
    "# https://github.com/broadinstitute/firecloud-tools"
   ]
  },
  {
   "cell_type": "code",
   "execution_count": 3,
   "metadata": {
    "code_folding": [],
    "extensions": {
     "jupyter_dashboards": {
      "version": 1,
      "views": {
       "grid_default": {
        "hidden": true
       },
       "report_default": {}
      }
     }
    }
   },
   "outputs": [],
   "source": [
    "# res = firecloud_api.delete_workspace_config(namespace, workspace, \"tsca\", \"Mutect2TumorOnly\")\n",
    "# res = firecloud_api.delete_workspace_config(namespace, workspace, 'tsca', 'CreatePanelOfNormalsGATK')\n",
    "# delete_sample(namespace, workspace, \"AA66-Tumor-SM-F29RQ\")\n",
    "# res = delete_sample_set(namespace, workspace, sample_set_id='CumPoN_1920')\n",
    "# firecloud_api.delete_repository_method('tsca', 'CallSomaticCNV', 10)"
   ]
  },
  {
   "cell_type": "code",
   "execution_count": 4,
   "metadata": {
    "code_folding": [
     0
    ],
    "collapsed": true,
    "extensions": {
     "jupyter_dashboards": {
      "version": 1,
      "views": {
       "grid_default": {
        "hidden": true
       },
       "report_default": {}
      }
     }
    }
   },
   "outputs": [],
   "source": [
    "def delete_sample(namespace, workspace, sample_id):\n",
    "    \"\"\"Delete sample from workspace/namespace\n",
    "    Args: \n",
    "        Self-explanatory\n",
    "    Returns: \n",
    "        HTTP Response\n",
    "    \"\"\"\n",
    "    body = [{\"entityType\": \"sample\", \"entityName\": sample_id}]\n",
    "    res = firecloud_api.delete_entities(namespace, workspace, body)\n",
    "    return res"
   ]
  },
  {
   "cell_type": "code",
   "execution_count": 5,
   "metadata": {
    "code_folding": [
     0
    ],
    "collapsed": true
   },
   "outputs": [],
   "source": [
    "def delete_sample_set(namespace, workspace, sample_set_id):\n",
    "    \"\"\"Delete sample set from workspace/namespace\n",
    "    Args: \n",
    "        Self-explanatory\n",
    "    Returns: \n",
    "        HTTP Response\n",
    "    \"\"\"\n",
    "    body = [{\"entityType\": \"sample_set\", \"entityName\": sample_set_id}]\n",
    "    res = firecloud_api.delete_entities(namespace, workspace, body)\n",
    "    return res"
   ]
  },
  {
   "cell_type": "code",
   "execution_count": 6,
   "metadata": {
    "code_folding": [
     0
    ],
    "collapsed": true
   },
   "outputs": [],
   "source": [
    "def delete_workspace_config(namespace, workspace, cnamespace, config):\n",
    "    \"\"\"Delete workspace configuration\n",
    "    Args: \n",
    "        Self-explanatory\n",
    "    Returns: \n",
    "        HTTP Response\n",
    "    \"\"\"\n",
    "    res = firecloud_api.delete_workspace_config(namespace, workspace, cnamespace, config)\n",
    "    return res"
   ]
  },
  {
   "cell_type": "code",
   "execution_count": 7,
   "metadata": {
    "code_folding": [
     0
    ],
    "collapsed": true
   },
   "outputs": [],
   "source": [
    "def upload_entities_from_tsv(namespace, workspace, entities_tsv_file):\n",
    "    \"\"\"Upload entities from tsv file\n",
    "    Args: \n",
    "        Self-explanatory\n",
    "        entities_tsv_file: path to tsv file\n",
    "    Returns: \n",
    "        HTTP Response\n",
    "    \"\"\"\n",
    "    res = firecloud_api.upload_entities_tsv(namespace, workspace, entities_tsv=entities_tsv_file)\n",
    "    return res"
   ]
  },
  {
   "cell_type": "code",
   "execution_count": 8,
   "metadata": {
    "code_folding": [
     0
    ],
    "collapsed": true,
    "extensions": {
     "jupyter_dashboards": {
      "version": 1,
      "views": {
       "grid_default": {
        "hidden": true
       },
       "report_default": {}
      }
     }
    }
   },
   "outputs": [],
   "source": [
    "def patients_for_metadata_import(path, tsca_id):\n",
    "    \"\"\"Create participant entities in Firecloud. \n",
    "    Patients need to exist before you can upload their respective samples\n",
    "    Args:\n",
    "        path_id: path to file ending in {}.import_samples.txt\n",
    "        tsca_id: tsca id\n",
    "    Pending:\n",
    "        Are we allowed to add age, gender, race?\n",
    "    Saves: \n",
    "        ./tsca_id/fc_upload_patients_tsca_{tsca_id}.csv:\n",
    "            contains patient ids in tsca batch\n",
    "    \"\"\"    \n",
    "    raw = pd.read_table(path)\n",
    "    print( \"%d Participants in this batch\" % raw['individual_id'].unique().shape[0] )\n",
    "    # Data to upload\n",
    "    data = pd.DataFrame(raw.individual_id.drop_duplicates()).rename(columns={'individual_id':'entity:participant_id'})\n",
    "    os.system('mkdir -p %s'%tsca_id)\n",
    "    filename = './%s/fc_upload_patients_tsca_%s.txt' % (tsca_id, tsca_id)\n",
    "    data.to_csv(filename, '\\t', index=False)"
   ]
  },
  {
   "cell_type": "code",
   "execution_count": 9,
   "metadata": {
    "code_folding": [
     0
    ],
    "collapsed": true
   },
   "outputs": [],
   "source": [
    "def batch_sample_set_for_metadata_import(path, tsca_id):\n",
    "    \"\"\"Create sample_set entities in Firecloud.\n",
    "    A sample for a given batch \n",
    "    Args:\n",
    "        path: path to file ending in {}.import_samples.txt\n",
    "        tsca_id: batch tsca id\n",
    "    \"\"\"\n",
    "    raw = pd.read_table(path)\n",
    "    print( \"%d Samples in this batch\" % raw.shape[0] )\n",
    "\n",
    "    # Data to upload\n",
    "    data = pd.concat([pd.DataFrame(index=raw.index, columns=['membership:sample_set_id'], data=tsca_id), \\\n",
    "                      raw.sample_id], axis=1)\n",
    "    os.system('mkdir -p %s'%tsca_id)\n",
    "    filename = './%s/fc_upload_sample_set_tsca_%s.txt' % (tsca_id, tsca_id)\n",
    "    data.to_csv(filename, '\\t', index=False)"
   ]
  },
  {
   "cell_type": "code",
   "execution_count": 10,
   "metadata": {
    "code_folding": [
     0
    ],
    "collapsed": true,
    "extensions": {
     "jupyter_dashboards": {
      "version": 1,
      "views": {
       "grid_default": {
        "hidden": true
       },
       "report_default": {}
      }
     }
    }
   },
   "outputs": [],
   "source": [
    "def batch_samples_for_metadata_import(path, tsca_id, google_bucket_id):\n",
    "    \"\"\"Prepare the file to import samples metadata to firecloud\n",
    "    Args:\n",
    "        path_id: path to file ending in {}.import_samples.txt\n",
    "        tsca_id: TSCAXX\n",
    "        google_bucket_id: id of google bucket ('gs://google_bucket_id')\n",
    "    Returns:\n",
    "        pd.DF of data ready for import\n",
    "    Saves:\n",
    "        ./{tsca_id}/fc_upload_samples_tsca_{tsca_id}.txt\n",
    "    \"\"\"\n",
    "    # Import raw data\n",
    "    data = pd.read_table(path)\n",
    "    \n",
    "    # Rename columns to match firecloud requirements\n",
    "    data = data.rename(columns={'sample_id':'entity:sample_id', 'individual_id':'participant_id'})\n",
    "    \n",
    "    # Locations of BAM files in google bucket\n",
    "    path_in_bucket_full = \"gs://%s/seq_data/%s\" % (google_bucket_id, tsca_id)\n",
    "\n",
    "    # Extract bam filename\n",
    "    data['bam_filename'] = data.apply(lambda row: row['clean_bam_file_capture'].split('/')[-1], axis=1)\n",
    "    \n",
    "    # Create bai filename (change extension on .bam file)\n",
    "    data['bai_filename'] = data.apply(lambda row: \"%s%s\" %(row['bam_filename'][:-3], 'bai'), axis=1)\n",
    "    \n",
    "    # Change BAM path from xchip to Google cloud\n",
    "    data['clean_bam_file_capture'] = \\\n",
    "        data.apply( lambda row: \"%s/%s/%s\" \\\n",
    "                   %(path_in_bucket_full, row['external_id_validation'], row['bam_filename']), axis=1)\n",
    "    \n",
    "    # Add location of .bai file \n",
    "    data['clean_bai_file_capture'] = \\\n",
    "        data.apply( lambda row: \"%s/%s/%s\" \\\n",
    "                   %(path_in_bucket_full, row['external_id_validation'], row['bai_filename']), axis=1)\n",
    "       \n",
    "    # Add TSCA ID\n",
    "    data['tsca_id'] = tsca_id\n",
    "        \n",
    "    return data"
   ]
  },
  {
   "cell_type": "code",
   "execution_count": 86,
   "metadata": {
    "code_folding": [],
    "collapsed": true
   },
   "outputs": [],
   "source": [
    "def panel_of_normals_for_metadata_import(tsca_ids, paths, N, name):\n",
    "    \"\"\"Create panel of normals sample set for Firecloud from multiple TSCA batches\n",
    "    Args:\n",
    "        tsca_ids: tsca_ids for PoN creation\n",
    "        paths: (list) paths to file ending in {}.import_samples.txt\n",
    "        N: (int) number of samples in panel of normals\n",
    "        name: (string) name of Panel of Normals\n",
    "    \"\"\"    \n",
    "    df0 = pd.read_table(paths[0])\n",
    "    df0['tsca_id'] = tsca_ids[0]\n",
    "    dfs = [df0]\n",
    "    for i, path in enumerate(paths[1:]):\n",
    "        df_to_concat = pd.read_table(path)\n",
    "        df_to_concat['tsca_id'] = tsca_ids[i]\n",
    "        dfs.append(df_to_concat)\n",
    "\n",
    "    df = pd.concat(dfs, axis=0)\n",
    "    normals = df[df.sample_type==\"Normal\"][:N]['sample_id', 'tsca_id']\n",
    "    # Shuffle samples to pick from all batches\n",
    "    normals = normals.sample(frac=1).reset_index(drop=True)\n",
    "    display(normals.head())\n",
    "    if N==-1: print (\"Creating panel of %d normals\" %normals.shape[0])\n",
    "    else: print (\"Creating panel of %d normals\" %N)\n",
    "    \n",
    "    data = pd.concat([pd.DataFrame(index=normals.index, columns=['membership:sample_set_id'], data=name), \\\n",
    "                        normals], axis=1)\n",
    "\n",
    "    os.system('mkdir -p PoNs')\n",
    "    filename = './PoNs/fc_upload_PoN_sample_set_tsca_%s.txt' % (name)\n",
    "    data.to_csv(filename, '\\t', index=False)"
   ]
  },
  {
   "cell_type": "code",
   "execution_count": 12,
   "metadata": {
    "code_folding": [
     0
    ],
    "collapsed": true
   },
   "outputs": [],
   "source": [
    "def write_df_to_csv(data, tsca_id):\n",
    "    data.to_csv('%s/fc_upload_samples_tsca_%s.txt' % (tsca_id, tsca_id), sep='\\t', index=False)"
   ]
  },
  {
   "cell_type": "code",
   "execution_count": 13,
   "metadata": {
    "code_folding": [
     0
    ],
    "collapsed": true
   },
   "outputs": [],
   "source": [
    "def compile_samples(paths_to_samples_info, google_bucket_id):\n",
    "    \"\"\"Compile all samples from all batches\n",
    "    Args: Self-explanatory\n",
    "        - paths_to_samples_info: .xlsx file containing paths to files containing sample_info\n",
    "    Returns: \n",
    "        - df with samples from all batches\n",
    "    \"\"\"\n",
    "    paths_to_samples_info = pd.read_excel(paths_to_samples_info, index_col=0)\n",
    "    df_list = []\n",
    "\n",
    "    for tsca_id, paths in paths_to_samples_info.iterrows():\n",
    "        # Make data Firecloud-compatible\n",
    "        batch_data = batch_samples_for_metadata_import(paths.path_to_samples_info, tsca_id, google_bucket_id)\n",
    "        df_list.append(batch_data)\n",
    "\n",
    "    all_samples = pd.concat(df_list, axis=0)\n",
    "    return all_samples"
   ]
  },
  {
   "cell_type": "code",
   "execution_count": 14,
   "metadata": {
    "code_folding": [
     0
    ],
    "collapsed": true
   },
   "outputs": [],
   "source": [
    "def add_matching_samples(all_samples, batch_samples):\n",
    "    \"\"\"Add sample_id and bam filepath of matching normals and primary tumor tissue for every sample\n",
    "    Args:\n",
    "        - all_samples: df with target samples we want to find matches in\n",
    "        - batch_samples: df with source samples we want to find matches for\n",
    "    Returns: \n",
    "        - batch_samples (augmented)\n",
    "    \"\"\"\n",
    "    for index, row in batch_samples.iterrows():\n",
    "        # Find all samples from same individual (same individual_id, different sample_id)\n",
    "        patient_samples = all_samples[ (all_samples['participant_id'] == row['participant_id']) \\\n",
    "                                      & (all_samples['entity:sample_id'] != row['entity:sample_id']) ]\n",
    "\n",
    "        # NOTE: If more than one match tumor tissue or match normal found, select one at random.\n",
    "        # The match normal is used to compute allelic fractions in Mutect2, so for now we ignore the conditions it was grown in.\n",
    "\n",
    "        # Tumor tissue: Add primary tumor tissue\n",
    "        match_primary_tumor = patient_samples[ patient_samples['external_id_validation'] \\\n",
    "                                              .str.contains('primary|prim|tissue|tiss') ]\n",
    "        #    > No primary tumor tissue found\n",
    "        if match_primary_tumor.empty:\n",
    "            batch_samples.loc[index, 'match_primary_tumor_sample_id'] = \"NA\"\n",
    "            batch_samples.loc[index, 'match_primary_tumor_bam_file'] = \"NA\"\n",
    "        #    > Tumor tissue found\n",
    "        elif match_primary_tumor.shape[0] > 0:\n",
    "            match_primary_tumor = match_primary_tumor.sample(n=1)\n",
    "            batch_samples.loc[index, 'match_primary_tumor_sample_id'] = match_primary_tumor['entity:sample_id'].item()\n",
    "            batch_samples.loc[index, 'match_primary_tumor_bam_file'] = match_primary_tumor['clean_bam_file_capture'].item()\n",
    "\n",
    "        # Add match normal\n",
    "        match_normal = patient_samples[ patient_samples['sample_type'] == \"Normal\"]\n",
    "        #   > No match normal found\n",
    "        if match_normal.empty: \n",
    "            batch_samples.loc[index, 'match_normal_sample_id'] = \"NA\"\n",
    "            batch_samples.loc[index, 'match_normal_bam_file'] = \"NA\"\n",
    "        #   > Match normal found\n",
    "        elif match_normal.shape[0] > 0:\n",
    "            match_normal = match_normal.sample(n=1)\n",
    "            batch_samples.loc[index, 'match_normal_sample_id'] = match_normal['entity:sample_id'].item()\n",
    "            batch_samples.loc[index, 'match_normal_bam_file'] = match_normal['clean_bam_file_capture'].item()\n",
    "            \n",
    "    return batch_samples"
   ]
  },
  {
   "cell_type": "code",
   "execution_count": 15,
   "metadata": {
    "code_folding": [
     0
    ],
    "collapsed": true
   },
   "outputs": [],
   "source": [
    "def prepare_all_metadata(tsca_id, path_to_samples_info):    \n",
    "    patients_for_metadata_import(path_to_samples_info, tsca_id)\n",
    "    batch_sample_set_for_metadata_import(path_to_samples_info, tsca_id)\n",
    "    batch_samples = batch_samples_for_metadata_import(path_to_samples_info, tsca_id, google_bucket_id)\n",
    "    all_samples = compile_samples('paths_to_samples_info.xlsx', google_bucket_id)\n",
    "    batch_samples_with_normal = add_matching_samples(all_samples, batch_samples)\n",
    "    write_df_to_csv(batch_samples_with_normal, tsca_id)"
   ]
  },
  {
   "cell_type": "code",
   "execution_count": 16,
   "metadata": {
    "code_folding": [
     0
    ],
    "collapsed": true
   },
   "outputs": [],
   "source": [
    "def export_metadata(tsca_id):\n",
    "    \"\"\"Export metadata into Firecloud\n",
    "    Args: \n",
    "        - tsca_id\n",
    "    \"\"\"\n",
    "    patient_metadata    = \"%s/fc_upload_patients_tsca_%s.txt\" % (tsca_id, tsca_id)\n",
    "    sample_set_metadata = \"%s/fc_upload_sample_set_tsca_%s.txt\" % (tsca_id, tsca_id)\n",
    "    samples_metadata    = \"%s/fc_upload_samples_tsca_%s.txt\" % (tsca_id, tsca_id)\n",
    "    pon_metadata = \"PoNs/fc_upload_PoN_sample_set_tsca_%s_PoN.txt\" %(tsca_id)\n",
    "\n",
    "    # Upload metadata\n",
    "    r1 = upload_entities_from_tsv(namespace, workspace, patient_metadata)\n",
    "    r2 = upload_entities_from_tsv(namespace, workspace, samples_metadata)\n",
    "    r3 = upload_entities_from_tsv(namespace, workspace, sample_set_metadata)\n",
    "    # r4 = upload_entities_from_tsv(namespace, workspace, pon_metadata)\n",
    "    return"
   ]
  },
  {
   "cell_type": "code",
   "execution_count": 81,
   "metadata": {
    "code_folding": [],
    "collapsed": true
   },
   "outputs": [],
   "source": [
    "def create_cumulative_pon(batches_info, num_normals, pon_name):\n",
    "    \"\"\"Create Cumulative PoN\n",
    "    Args:\n",
    "        - tsca_ids: list of tsca_ids used in this batch\n",
    "        - Self-explanatory\n",
    "    \"\"\"\n",
    "    panel_of_normals_for_metadata_import(batches_info.tsca_id.tolist(), \\\n",
    "                                         batches_info.path_to_samples_info.tolist(), \\\n",
    "                                         num_normals, pon_name)\n",
    "    res = upload_entities_from_tsv(namespace, workspace, 'PoNs/fc_upload_PoN_sample_set_tsca_%s.txt'%pon_name)\n",
    "    return res"
   ]
  },
  {
   "cell_type": "code",
   "execution_count": 77,
   "metadata": {
    "code_folding": [],
    "collapsed": true,
    "extensions": {
     "jupyter_dashboards": {
      "version": 1,
      "views": {
       "grid_default": {
        "col": 8,
        "height": 4,
        "hidden": false,
        "row": 0,
        "width": 4
       },
       "report_default": {}
      }
     }
    }
   },
   "outputs": [],
   "source": [
    "namespace = \"nci-mimoun-bi-org\"\n",
    "workspace = \"CCLF_TSCA\"\n",
    "google_bucket_id = \"fc-35446f22-ea37-483a-bd6c-5e9fc56851ff\"\n",
    "batches_info = pd.read_excel('paths_to_samples_info.xlsx')"
   ]
  },
  {
   "cell_type": "code",
   "execution_count": 50,
   "metadata": {},
   "outputs": [
    {
     "data": {
      "text/plain": [
       "'/xchip/clf/seq_data/processed_for_fh/tsca20_201707_SN0125362/tsca20_201707_SN0125362.import_samples.txt'"
      ]
     },
     "execution_count": 50,
     "metadata": {},
     "output_type": "execute_result"
    }
   ],
   "source": [
    "paths_to_samples_info.loc[7, 'path_to_samples_info']"
   ]
  },
  {
   "cell_type": "markdown",
   "metadata": {},
   "source": [
    "### Prepare metadata"
   ]
  },
  {
   "cell_type": "code",
   "execution_count": 57,
   "metadata": {},
   "outputs": [
    {
     "name": "stdout",
     "output_type": "stream",
     "text": [
      "59 Participants in this batch\n",
      "95 Samples in this batch\n"
     ]
    }
   ],
   "source": [
    "prepare_all_metadata('TSCA20', '/xchip/clf/seq_data/processed_for_fh/tsca20_201707_SN0125362/tsca20_201707_SN0125362.import_samples.txt')"
   ]
  },
  {
   "cell_type": "code",
   "execution_count": 64,
   "metadata": {
    "collapsed": true
   },
   "outputs": [],
   "source": [
    "# ### Create Batch PoN\n",
    "# for index, value in paths_to_samples_info.iterrows():\n",
    "#     paths = [value.path_to_samples_info]\n",
    "#     pon_id = \"%s_PoN\" % value.tsca_id\n",
    "#     panel_of_normals_for_metadata_import(paths, -1, pon_id)"
   ]
  },
  {
   "cell_type": "code",
   "execution_count": 47,
   "metadata": {
    "collapsed": true
   },
   "outputs": [],
   "source": [
    "# export_metadata('TSCA1213')\n",
    "# for index, value in paths_to_samples_info.iterrows():\n",
    "#     export_metadata(value.tsca_id)"
   ]
  },
  {
   "cell_type": "code",
   "execution_count": 76,
   "metadata": {
    "collapsed": true
   },
   "outputs": [],
   "source": [
    "# for tsca_id in paths_to_samples_info['tsca_id'].tolist():\n",
    "#     delete_sample_set(namespace, workspace, \"%s_PoN\" %tsca_id)"
   ]
  },
  {
   "cell_type": "code",
   "execution_count": 87,
   "metadata": {},
   "outputs": [
    {
     "ename": "KeyError",
     "evalue": "('sample_id', 'tsca_id')",
     "output_type": "error",
     "traceback": [
      "\u001b[0;31m---------------------------------------------------------------------------\u001b[0m",
      "\u001b[0;31mKeyError\u001b[0m                                  Traceback (most recent call last)",
      "\u001b[0;32m/Users/mimoun/anaconda/lib/python3.6/site-packages/pandas/core/indexes/base.py\u001b[0m in \u001b[0;36mget_loc\u001b[0;34m(self, key, method, tolerance)\u001b[0m\n\u001b[1;32m   2392\u001b[0m             \u001b[0;32mtry\u001b[0m\u001b[0;34m:\u001b[0m\u001b[0;34m\u001b[0m\u001b[0m\n\u001b[0;32m-> 2393\u001b[0;31m                 \u001b[0;32mreturn\u001b[0m \u001b[0mself\u001b[0m\u001b[0;34m.\u001b[0m\u001b[0m_engine\u001b[0m\u001b[0;34m.\u001b[0m\u001b[0mget_loc\u001b[0m\u001b[0;34m(\u001b[0m\u001b[0mkey\u001b[0m\u001b[0;34m)\u001b[0m\u001b[0;34m\u001b[0m\u001b[0m\n\u001b[0m\u001b[1;32m   2394\u001b[0m             \u001b[0;32mexcept\u001b[0m \u001b[0mKeyError\u001b[0m\u001b[0;34m:\u001b[0m\u001b[0;34m\u001b[0m\u001b[0m\n",
      "\u001b[0;32mpandas/_libs/index.pyx\u001b[0m in \u001b[0;36mpandas._libs.index.IndexEngine.get_loc (pandas/_libs/index.c:5239)\u001b[0;34m()\u001b[0m\n",
      "\u001b[0;32mpandas/_libs/index.pyx\u001b[0m in \u001b[0;36mpandas._libs.index.IndexEngine.get_loc (pandas/_libs/index.c:5085)\u001b[0;34m()\u001b[0m\n",
      "\u001b[0;32mpandas/_libs/hashtable_class_helper.pxi\u001b[0m in \u001b[0;36mpandas._libs.hashtable.PyObjectHashTable.get_item (pandas/_libs/hashtable.c:20405)\u001b[0;34m()\u001b[0m\n",
      "\u001b[0;32mpandas/_libs/hashtable_class_helper.pxi\u001b[0m in \u001b[0;36mpandas._libs.hashtable.PyObjectHashTable.get_item (pandas/_libs/hashtable.c:20359)\u001b[0;34m()\u001b[0m\n",
      "\u001b[0;31mKeyError\u001b[0m: ('sample_id', 'tsca_id')",
      "\nDuring handling of the above exception, another exception occurred:\n",
      "\u001b[0;31mKeyError\u001b[0m                                  Traceback (most recent call last)",
      "\u001b[0;32m<ipython-input-87-8768b277d32f>\u001b[0m in \u001b[0;36m<module>\u001b[0;34m()\u001b[0m\n\u001b[0;32m----> 1\u001b[0;31m \u001b[0mcreate_cumulative_pon\u001b[0m\u001b[0;34m(\u001b[0m\u001b[0mbatches_info\u001b[0m\u001b[0;34m,\u001b[0m \u001b[0;36m40\u001b[0m\u001b[0;34m,\u001b[0m \u001b[0;34m'CumPon40'\u001b[0m\u001b[0;34m)\u001b[0m\u001b[0;34m\u001b[0m\u001b[0m\n\u001b[0m",
      "\u001b[0;32m<ipython-input-81-be7fd0eaa64c>\u001b[0m in \u001b[0;36mcreate_cumulative_pon\u001b[0;34m(batches_info, num_normals, pon_name)\u001b[0m\n\u001b[1;32m      5\u001b[0m         \u001b[0;34m-\u001b[0m \u001b[0mSelf\u001b[0m\u001b[0;34m-\u001b[0m\u001b[0mexplanatory\u001b[0m\u001b[0;34m\u001b[0m\u001b[0m\n\u001b[1;32m      6\u001b[0m     \"\"\"\n\u001b[0;32m----> 7\u001b[0;31m     \u001b[0mpanel_of_normals_for_metadata_import\u001b[0m\u001b[0;34m(\u001b[0m\u001b[0mbatches_info\u001b[0m\u001b[0;34m.\u001b[0m\u001b[0mtsca_id\u001b[0m\u001b[0;34m.\u001b[0m\u001b[0mtolist\u001b[0m\u001b[0;34m(\u001b[0m\u001b[0;34m)\u001b[0m\u001b[0;34m,\u001b[0m                                          \u001b[0mbatches_info\u001b[0m\u001b[0;34m.\u001b[0m\u001b[0mpath_to_samples_info\u001b[0m\u001b[0;34m.\u001b[0m\u001b[0mtolist\u001b[0m\u001b[0;34m(\u001b[0m\u001b[0;34m)\u001b[0m\u001b[0;34m,\u001b[0m                                          \u001b[0mnum_normals\u001b[0m\u001b[0;34m,\u001b[0m \u001b[0mpon_name\u001b[0m\u001b[0;34m)\u001b[0m\u001b[0;34m\u001b[0m\u001b[0m\n\u001b[0m\u001b[1;32m      8\u001b[0m     \u001b[0mres\u001b[0m \u001b[0;34m=\u001b[0m \u001b[0mupload_entities_from_tsv\u001b[0m\u001b[0;34m(\u001b[0m\u001b[0mnamespace\u001b[0m\u001b[0;34m,\u001b[0m \u001b[0mworkspace\u001b[0m\u001b[0;34m,\u001b[0m \u001b[0;34m'PoNs/fc_upload_PoN_sample_set_tsca_%s.txt'\u001b[0m\u001b[0;34m%\u001b[0m\u001b[0mpon_name\u001b[0m\u001b[0;34m)\u001b[0m\u001b[0;34m\u001b[0m\u001b[0m\n\u001b[1;32m      9\u001b[0m     \u001b[0;32mreturn\u001b[0m \u001b[0mres\u001b[0m\u001b[0;34m\u001b[0m\u001b[0m\n",
      "\u001b[0;32m<ipython-input-86-04ffd011766e>\u001b[0m in \u001b[0;36mpanel_of_normals_for_metadata_import\u001b[0;34m(tsca_ids, paths, N, name)\u001b[0m\n\u001b[1;32m     16\u001b[0m \u001b[0;34m\u001b[0m\u001b[0m\n\u001b[1;32m     17\u001b[0m     \u001b[0mdf\u001b[0m \u001b[0;34m=\u001b[0m \u001b[0mpd\u001b[0m\u001b[0;34m.\u001b[0m\u001b[0mconcat\u001b[0m\u001b[0;34m(\u001b[0m\u001b[0mdfs\u001b[0m\u001b[0;34m,\u001b[0m \u001b[0maxis\u001b[0m\u001b[0;34m=\u001b[0m\u001b[0;36m0\u001b[0m\u001b[0;34m)\u001b[0m\u001b[0;34m\u001b[0m\u001b[0m\n\u001b[0;32m---> 18\u001b[0;31m     \u001b[0mnormals\u001b[0m \u001b[0;34m=\u001b[0m \u001b[0mdf\u001b[0m\u001b[0;34m[\u001b[0m\u001b[0mdf\u001b[0m\u001b[0;34m.\u001b[0m\u001b[0msample_type\u001b[0m\u001b[0;34m==\u001b[0m\u001b[0;34m\"Normal\"\u001b[0m\u001b[0;34m]\u001b[0m\u001b[0;34m[\u001b[0m\u001b[0;34m:\u001b[0m\u001b[0mN\u001b[0m\u001b[0;34m]\u001b[0m\u001b[0;34m[\u001b[0m\u001b[0;34m'sample_id'\u001b[0m\u001b[0;34m,\u001b[0m \u001b[0;34m'tsca_id'\u001b[0m\u001b[0;34m]\u001b[0m\u001b[0;34m\u001b[0m\u001b[0m\n\u001b[0m\u001b[1;32m     19\u001b[0m     \u001b[0;31m# Shuffle samples to pick from all batches\u001b[0m\u001b[0;34m\u001b[0m\u001b[0;34m\u001b[0m\u001b[0m\n\u001b[1;32m     20\u001b[0m     \u001b[0mnormals\u001b[0m \u001b[0;34m=\u001b[0m \u001b[0mnormals\u001b[0m\u001b[0;34m.\u001b[0m\u001b[0msample\u001b[0m\u001b[0;34m(\u001b[0m\u001b[0mfrac\u001b[0m\u001b[0;34m=\u001b[0m\u001b[0;36m1\u001b[0m\u001b[0;34m)\u001b[0m\u001b[0;34m.\u001b[0m\u001b[0mreset_index\u001b[0m\u001b[0;34m(\u001b[0m\u001b[0mdrop\u001b[0m\u001b[0;34m=\u001b[0m\u001b[0;32mTrue\u001b[0m\u001b[0;34m)\u001b[0m\u001b[0;34m\u001b[0m\u001b[0m\n",
      "\u001b[0;32m/Users/mimoun/anaconda/lib/python3.6/site-packages/pandas/core/frame.py\u001b[0m in \u001b[0;36m__getitem__\u001b[0;34m(self, key)\u001b[0m\n\u001b[1;32m   2060\u001b[0m             \u001b[0;32mreturn\u001b[0m \u001b[0mself\u001b[0m\u001b[0;34m.\u001b[0m\u001b[0m_getitem_multilevel\u001b[0m\u001b[0;34m(\u001b[0m\u001b[0mkey\u001b[0m\u001b[0;34m)\u001b[0m\u001b[0;34m\u001b[0m\u001b[0m\n\u001b[1;32m   2061\u001b[0m         \u001b[0;32melse\u001b[0m\u001b[0;34m:\u001b[0m\u001b[0;34m\u001b[0m\u001b[0m\n\u001b[0;32m-> 2062\u001b[0;31m             \u001b[0;32mreturn\u001b[0m \u001b[0mself\u001b[0m\u001b[0;34m.\u001b[0m\u001b[0m_getitem_column\u001b[0m\u001b[0;34m(\u001b[0m\u001b[0mkey\u001b[0m\u001b[0;34m)\u001b[0m\u001b[0;34m\u001b[0m\u001b[0m\n\u001b[0m\u001b[1;32m   2063\u001b[0m \u001b[0;34m\u001b[0m\u001b[0m\n\u001b[1;32m   2064\u001b[0m     \u001b[0;32mdef\u001b[0m \u001b[0m_getitem_column\u001b[0m\u001b[0;34m(\u001b[0m\u001b[0mself\u001b[0m\u001b[0;34m,\u001b[0m \u001b[0mkey\u001b[0m\u001b[0;34m)\u001b[0m\u001b[0;34m:\u001b[0m\u001b[0;34m\u001b[0m\u001b[0m\n",
      "\u001b[0;32m/Users/mimoun/anaconda/lib/python3.6/site-packages/pandas/core/frame.py\u001b[0m in \u001b[0;36m_getitem_column\u001b[0;34m(self, key)\u001b[0m\n\u001b[1;32m   2067\u001b[0m         \u001b[0;31m# get column\u001b[0m\u001b[0;34m\u001b[0m\u001b[0;34m\u001b[0m\u001b[0m\n\u001b[1;32m   2068\u001b[0m         \u001b[0;32mif\u001b[0m \u001b[0mself\u001b[0m\u001b[0;34m.\u001b[0m\u001b[0mcolumns\u001b[0m\u001b[0;34m.\u001b[0m\u001b[0mis_unique\u001b[0m\u001b[0;34m:\u001b[0m\u001b[0;34m\u001b[0m\u001b[0m\n\u001b[0;32m-> 2069\u001b[0;31m             \u001b[0;32mreturn\u001b[0m \u001b[0mself\u001b[0m\u001b[0;34m.\u001b[0m\u001b[0m_get_item_cache\u001b[0m\u001b[0;34m(\u001b[0m\u001b[0mkey\u001b[0m\u001b[0;34m)\u001b[0m\u001b[0;34m\u001b[0m\u001b[0m\n\u001b[0m\u001b[1;32m   2070\u001b[0m \u001b[0;34m\u001b[0m\u001b[0m\n\u001b[1;32m   2071\u001b[0m         \u001b[0;31m# duplicate columns & possible reduce dimensionality\u001b[0m\u001b[0;34m\u001b[0m\u001b[0;34m\u001b[0m\u001b[0m\n",
      "\u001b[0;32m/Users/mimoun/anaconda/lib/python3.6/site-packages/pandas/core/generic.py\u001b[0m in \u001b[0;36m_get_item_cache\u001b[0;34m(self, item)\u001b[0m\n\u001b[1;32m   1532\u001b[0m         \u001b[0mres\u001b[0m \u001b[0;34m=\u001b[0m \u001b[0mcache\u001b[0m\u001b[0;34m.\u001b[0m\u001b[0mget\u001b[0m\u001b[0;34m(\u001b[0m\u001b[0mitem\u001b[0m\u001b[0;34m)\u001b[0m\u001b[0;34m\u001b[0m\u001b[0m\n\u001b[1;32m   1533\u001b[0m         \u001b[0;32mif\u001b[0m \u001b[0mres\u001b[0m \u001b[0;32mis\u001b[0m \u001b[0;32mNone\u001b[0m\u001b[0;34m:\u001b[0m\u001b[0;34m\u001b[0m\u001b[0m\n\u001b[0;32m-> 1534\u001b[0;31m             \u001b[0mvalues\u001b[0m \u001b[0;34m=\u001b[0m \u001b[0mself\u001b[0m\u001b[0;34m.\u001b[0m\u001b[0m_data\u001b[0m\u001b[0;34m.\u001b[0m\u001b[0mget\u001b[0m\u001b[0;34m(\u001b[0m\u001b[0mitem\u001b[0m\u001b[0;34m)\u001b[0m\u001b[0;34m\u001b[0m\u001b[0m\n\u001b[0m\u001b[1;32m   1535\u001b[0m             \u001b[0mres\u001b[0m \u001b[0;34m=\u001b[0m \u001b[0mself\u001b[0m\u001b[0;34m.\u001b[0m\u001b[0m_box_item_values\u001b[0m\u001b[0;34m(\u001b[0m\u001b[0mitem\u001b[0m\u001b[0;34m,\u001b[0m \u001b[0mvalues\u001b[0m\u001b[0;34m)\u001b[0m\u001b[0;34m\u001b[0m\u001b[0m\n\u001b[1;32m   1536\u001b[0m             \u001b[0mcache\u001b[0m\u001b[0;34m[\u001b[0m\u001b[0mitem\u001b[0m\u001b[0;34m]\u001b[0m \u001b[0;34m=\u001b[0m \u001b[0mres\u001b[0m\u001b[0;34m\u001b[0m\u001b[0m\n",
      "\u001b[0;32m/Users/mimoun/anaconda/lib/python3.6/site-packages/pandas/core/internals.py\u001b[0m in \u001b[0;36mget\u001b[0;34m(self, item, fastpath)\u001b[0m\n\u001b[1;32m   3588\u001b[0m \u001b[0;34m\u001b[0m\u001b[0m\n\u001b[1;32m   3589\u001b[0m             \u001b[0;32mif\u001b[0m \u001b[0;32mnot\u001b[0m \u001b[0misnull\u001b[0m\u001b[0;34m(\u001b[0m\u001b[0mitem\u001b[0m\u001b[0;34m)\u001b[0m\u001b[0;34m:\u001b[0m\u001b[0;34m\u001b[0m\u001b[0m\n\u001b[0;32m-> 3590\u001b[0;31m                 \u001b[0mloc\u001b[0m \u001b[0;34m=\u001b[0m \u001b[0mself\u001b[0m\u001b[0;34m.\u001b[0m\u001b[0mitems\u001b[0m\u001b[0;34m.\u001b[0m\u001b[0mget_loc\u001b[0m\u001b[0;34m(\u001b[0m\u001b[0mitem\u001b[0m\u001b[0;34m)\u001b[0m\u001b[0;34m\u001b[0m\u001b[0m\n\u001b[0m\u001b[1;32m   3591\u001b[0m             \u001b[0;32melse\u001b[0m\u001b[0;34m:\u001b[0m\u001b[0;34m\u001b[0m\u001b[0m\n\u001b[1;32m   3592\u001b[0m                 \u001b[0mindexer\u001b[0m \u001b[0;34m=\u001b[0m \u001b[0mnp\u001b[0m\u001b[0;34m.\u001b[0m\u001b[0marange\u001b[0m\u001b[0;34m(\u001b[0m\u001b[0mlen\u001b[0m\u001b[0;34m(\u001b[0m\u001b[0mself\u001b[0m\u001b[0;34m.\u001b[0m\u001b[0mitems\u001b[0m\u001b[0;34m)\u001b[0m\u001b[0;34m)\u001b[0m\u001b[0;34m[\u001b[0m\u001b[0misnull\u001b[0m\u001b[0;34m(\u001b[0m\u001b[0mself\u001b[0m\u001b[0;34m.\u001b[0m\u001b[0mitems\u001b[0m\u001b[0;34m)\u001b[0m\u001b[0;34m]\u001b[0m\u001b[0;34m\u001b[0m\u001b[0m\n",
      "\u001b[0;32m/Users/mimoun/anaconda/lib/python3.6/site-packages/pandas/core/indexes/base.py\u001b[0m in \u001b[0;36mget_loc\u001b[0;34m(self, key, method, tolerance)\u001b[0m\n\u001b[1;32m   2393\u001b[0m                 \u001b[0;32mreturn\u001b[0m \u001b[0mself\u001b[0m\u001b[0;34m.\u001b[0m\u001b[0m_engine\u001b[0m\u001b[0;34m.\u001b[0m\u001b[0mget_loc\u001b[0m\u001b[0;34m(\u001b[0m\u001b[0mkey\u001b[0m\u001b[0;34m)\u001b[0m\u001b[0;34m\u001b[0m\u001b[0m\n\u001b[1;32m   2394\u001b[0m             \u001b[0;32mexcept\u001b[0m \u001b[0mKeyError\u001b[0m\u001b[0;34m:\u001b[0m\u001b[0;34m\u001b[0m\u001b[0m\n\u001b[0;32m-> 2395\u001b[0;31m                 \u001b[0;32mreturn\u001b[0m \u001b[0mself\u001b[0m\u001b[0;34m.\u001b[0m\u001b[0m_engine\u001b[0m\u001b[0;34m.\u001b[0m\u001b[0mget_loc\u001b[0m\u001b[0;34m(\u001b[0m\u001b[0mself\u001b[0m\u001b[0;34m.\u001b[0m\u001b[0m_maybe_cast_indexer\u001b[0m\u001b[0;34m(\u001b[0m\u001b[0mkey\u001b[0m\u001b[0;34m)\u001b[0m\u001b[0;34m)\u001b[0m\u001b[0;34m\u001b[0m\u001b[0m\n\u001b[0m\u001b[1;32m   2396\u001b[0m \u001b[0;34m\u001b[0m\u001b[0m\n\u001b[1;32m   2397\u001b[0m         \u001b[0mindexer\u001b[0m \u001b[0;34m=\u001b[0m \u001b[0mself\u001b[0m\u001b[0;34m.\u001b[0m\u001b[0mget_indexer\u001b[0m\u001b[0;34m(\u001b[0m\u001b[0;34m[\u001b[0m\u001b[0mkey\u001b[0m\u001b[0;34m]\u001b[0m\u001b[0;34m,\u001b[0m \u001b[0mmethod\u001b[0m\u001b[0;34m=\u001b[0m\u001b[0mmethod\u001b[0m\u001b[0;34m,\u001b[0m \u001b[0mtolerance\u001b[0m\u001b[0;34m=\u001b[0m\u001b[0mtolerance\u001b[0m\u001b[0;34m)\u001b[0m\u001b[0;34m\u001b[0m\u001b[0m\n",
      "\u001b[0;32mpandas/_libs/index.pyx\u001b[0m in \u001b[0;36mpandas._libs.index.IndexEngine.get_loc (pandas/_libs/index.c:5239)\u001b[0;34m()\u001b[0m\n",
      "\u001b[0;32mpandas/_libs/index.pyx\u001b[0m in \u001b[0;36mpandas._libs.index.IndexEngine.get_loc (pandas/_libs/index.c:5085)\u001b[0;34m()\u001b[0m\n",
      "\u001b[0;32mpandas/_libs/hashtable_class_helper.pxi\u001b[0m in \u001b[0;36mpandas._libs.hashtable.PyObjectHashTable.get_item (pandas/_libs/hashtable.c:20405)\u001b[0;34m()\u001b[0m\n",
      "\u001b[0;32mpandas/_libs/hashtable_class_helper.pxi\u001b[0m in \u001b[0;36mpandas._libs.hashtable.PyObjectHashTable.get_item (pandas/_libs/hashtable.c:20359)\u001b[0;34m()\u001b[0m\n",
      "\u001b[0;31mKeyError\u001b[0m: ('sample_id', 'tsca_id')"
     ]
    }
   ],
   "source": [
    "create_cumulative_pon(batches_info, 40, 'CumPon40')"
   ]
  },
  {
   "cell_type": "code",
   "execution_count": 21,
   "metadata": {},
   "outputs": [],
   "source": [
    "# for i, v in paths_to_samples_info.iterrows():\n",
    "#     cmd = \\\n",
    "#     \"\"\"\n",
    "#     #!/bin/bash -l\n",
    "#     #$ -N %s\n",
    "#     #$ -j y\n",
    "\n",
    "#     . /broad/software/scripts/useuse\n",
    "#     reuse Google-Cloud-SDK\n",
    "#     gsutil -m cp -r \\\n",
    "#     %s/* \\\n",
    "#     gs://fc-35446f22-ea37-483a-bd6c-5e9fc56851ff/seq_data/%s/\n",
    "#     \"\"\" % (v.tsca_id, v.path_to_samples_info, v.tsca_id)\n",
    "#     print (cmd)"
   ]
  }
 ],
 "metadata": {
  "extensions": {
   "jupyter_dashboards": {
    "activeView": "grid_default",
    "version": 1,
    "views": {
     "grid_default": {
      "cellMargin": 10,
      "defaultCellHeight": 20,
      "maxColumns": 12,
      "name": "grid",
      "type": "grid"
     },
     "report_default": {
      "name": "report",
      "type": "report"
     }
    }
   }
  },
  "kernelspec": {
   "display_name": "Python 3",
   "language": "python",
   "name": "python3"
  },
  "language_info": {
   "codemirror_mode": {
    "name": "ipython",
    "version": 3
   },
   "file_extension": ".py",
   "mimetype": "text/x-python",
   "name": "python",
   "nbconvert_exporter": "python",
   "pygments_lexer": "ipython3",
   "version": "3.6.1"
  }
 },
 "nbformat": 4,
 "nbformat_minor": 2
}
