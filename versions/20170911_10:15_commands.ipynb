{
 "cells": [
  {
   "cell_type": "markdown",
   "metadata": {},
   "source": [
    "### Commands"
   ]
  },
  {
   "cell_type": "code",
   "execution_count": 1,
   "metadata": {
    "collapsed": true
   },
   "outputs": [],
   "source": [
    "from firecloud import api as firecloud_api\n",
    "import fc_interface"
   ]
  },
  {
   "cell_type": "code",
   "execution_count": 2,
   "metadata": {
    "collapsed": true
   },
   "outputs": [],
   "source": [
    "%load_ext autoreload\n",
    "%autoreload 2"
   ]
  },
  {
   "cell_type": "code",
   "execution_count": 3,
   "metadata": {
    "collapsed": true
   },
   "outputs": [],
   "source": [
    "### Parameters\n",
    "namespace = \"nci-mimoun-bi-org\"\n",
    "workspace = \"CCLF_TSCA\"\n",
    "paths_to_samples_info = \"paths_to_batches_info.xlsx\"\n",
    "google_bucket_id = \"fc-35446f22-ea37-483a-bd6c-5e9fc56851ff\""
   ]
  },
  {
   "cell_type": "code",
   "execution_count": null,
   "metadata": {
    "collapsed": true,
    "editable": false,
    "run_control": {
     "frozen": true
    }
   },
   "outputs": [],
   "source": [
    "### Delete unnecessary attributes in samples\n",
    "attrs = [\"annotate_variants_vcf\", \"annotate_variants_vcf_index\", \"oncotated_maf\", \"mutect2_vcf_index\", \"match_normal_oncotated_maf\", \"gnomad_vcf\", \"merged_vcfs\", \"match_primary_tumor_bam_file\"]\n",
    "for idx, row in all_samples.iterrows():\n",
    "    fc_interface.delete_entity_attributes(namespace, workspace, \"sample\", row['entity:sample_id'], attrs)"
   ]
  },
  {
   "cell_type": "code",
   "execution_count": 3,
   "metadata": {
    "editable": false,
    "run_control": {
     "frozen": true
    }
   },
   "outputs": [
    {
     "data": {
      "text/plain": [
       "<Response [200]>"
      ]
     },
     "execution_count": 3,
     "metadata": {},
     "output_type": "execute_result"
    }
   ],
   "source": [
    "### Delete method repostory\n",
    "firecloud_api.delete_repository_method('tsca', 'CreatePoN', 15)"
   ]
  },
  {
   "cell_type": "code",
   "execution_count": 17,
   "metadata": {
    "editable": false,
    "run_control": {
     "frozen": true
    }
   },
   "outputs": [
    {
     "data": {
      "text/plain": [
       "<Response [200]>"
      ]
     },
     "execution_count": 17,
     "metadata": {},
     "output_type": "execute_result"
    }
   ],
   "source": [
    "### Delete method repository\n",
    "firecloud_api.delete_repository_method('tsca', 'Mutect2_for_Normal', 1)"
   ]
  },
  {
   "cell_type": "code",
   "execution_count": 42,
   "metadata": {
    "collapsed": true,
    "editable": false,
    "run_control": {
     "frozen": true
    }
   },
   "outputs": [],
   "source": [
    "### Delete multiple method repositories\n",
    "for i in range(10, 23):\n",
    "    firecloud_api.delete_repository_method('tsca', 'CreatePoN', i)"
   ]
  },
  {
   "cell_type": "code",
   "execution_count": 16,
   "metadata": {
    "collapsed": true,
    "editable": false,
    "run_control": {
     "frozen": true
    }
   },
   "outputs": [],
   "source": [
    "### Delete method config\n",
    "firecloud_api.delete_workspace_config(namespace, workspace, \"tsca\", \"Mutect2_for_Normal\")"
   ]
  },
  {
   "cell_type": "code",
   "execution_count": null,
   "metadata": {
    "collapsed": true,
    "editable": false,
    "run_control": {
     "frozen": true
    }
   },
   "outputs": [],
   "source": [
    "### Create pairs\n",
    "all_samples = fc_interface.get_samples_multiple_batches(paths_to_samples_info, google_bucket_id)\n",
    "pairs_list = fc_interface.create_pairs_list(all_samples)\n",
    "blacklist = [\"DW039-Tumor-SM-DB2IF\"]\n",
    "clean_pairs_list = pairs_list[ ~pairs_list['case_sample_id'].isin(blacklist)]"
   ]
  },
  {
   "cell_type": "code",
   "execution_count": 18,
   "metadata": {
    "collapsed": true,
    "editable": false,
    "run_control": {
     "frozen": true
    }
   },
   "outputs": [],
   "source": [
    "### Upload pairs\n",
    "# res = fc_interface.upload_pairs(namespace, workspace, clean_pairs_list)"
   ]
  },
  {
   "cell_type": "code",
   "execution_count": 48,
   "metadata": {
    "editable": false,
    "run_control": {
     "frozen": true
    }
   },
   "outputs": [
    {
     "name": "stdout",
     "output_type": "stream",
     "text": [
      "65 Participants in this batch\n",
      "95 Samples in this batch\n"
     ]
    }
   ],
   "source": [
    "### Upload metadata for given batch\n",
    "fc_interface.update_batch_metadata('TSCA21', \\\n",
    "                                  '/xchip/clf/seq_data/processed_for_fh/tsca21_201708_SN0128552/tsca21_201708_SN0128552.import_samples.txt', \\\n",
    "                                      paths_to_samples_info, \\\n",
    "                                        namespace, workspace, google_bucket_id)"
   ]
  },
  {
   "cell_type": "code",
   "execution_count": 70,
   "metadata": {
    "editable": false,
    "run_control": {
     "frozen": true
    }
   },
   "outputs": [
    {
     "data": {
      "text/plain": [
       "<Response [204]>"
      ]
     },
     "execution_count": 70,
     "metadata": {},
     "output_type": "execute_result"
    }
   ],
   "source": [
    "### Delete sample_set\n",
    "fc_interface.delete_sample_set(namespace, workspace, 'TSCA1213')"
   ]
  },
  {
   "cell_type": "code",
   "execution_count": 74,
   "metadata": {
    "collapsed": true,
    "editable": false,
    "run_control": {
     "frozen": true
    }
   },
   "outputs": [],
   "source": [
    "### All paths to batch info\n",
    "# pd.read_excel('paths_to_batches_info.xlsx').path_to_samples_info.tolist()"
   ]
  },
  {
   "cell_type": "code",
   "execution_count": 94,
   "metadata": {
    "editable": false,
    "run_control": {
     "frozen": true
    }
   },
   "outputs": [
    {
     "name": "stdout",
     "output_type": "stream",
     "text": [
      "Creating panel of 157 normals\n"
     ]
    }
   ],
   "source": [
    "### Create cumulative PoN\n",
    "batches_info = pd.read_excel(paths_to_samples_info)\n",
    "PoN = fc_interface.create_panel_of_normals(batches_info.path_to_samples_info.tolist(), -1, 'CumPoN21')\n",
    "fc_interface.upload_pon(PoN, 'CumPoN21', namespace, workspace)"
   ]
  },
  {
   "cell_type": "code",
   "execution_count": 109,
   "metadata": {
    "editable": false,
    "run_control": {
     "frozen": true
    }
   },
   "outputs": [
    {
     "name": "stdout",
     "output_type": "stream",
     "text": [
      "Creating panel of 11 normals\n"
     ]
    },
    {
     "data": {
      "text/plain": [
       "<Response [200]>"
      ]
     },
     "execution_count": 109,
     "metadata": {},
     "output_type": "execute_result"
    }
   ],
   "source": [
    "### Create PoN from normals of only one batch\n",
    "tsca21_path = batches_info.path_to_samples_info.tolist()[-1]\n",
    "PoN = fc_interface.create_panel_of_normals([tsca21_path], -1, 'PoN_TSCA21_Normals')\n",
    "fc_interface.upload_pon(PoN, 'PoN_TSCA21_Normals', namespace, workspace)"
   ]
  },
  {
   "cell_type": "code",
   "execution_count": 102,
   "metadata": {
    "editable": false,
    "run_control": {
     "frozen": true
    }
   },
   "outputs": [
    {
     "data": {
      "text/plain": [
       "<Response [204]>"
      ]
     },
     "execution_count": 102,
     "metadata": {},
     "output_type": "execute_result"
    }
   ],
   "source": [
    "### Delete pair set\n",
    "fc_interface.delete_pair_set(namespace, workspace, 'TSCA1213')"
   ]
  },
  {
   "cell_type": "code",
   "execution_count": null,
   "metadata": {
    "collapsed": true,
    "editable": false,
    "run_control": {
     "frozen": true
    }
   },
   "outputs": [],
   "source": [
    "### Delete sample set\n",
    "fc_interface.delete_sample_set(namespace, workspace, 'TSCA1213')"
   ]
  },
  {
   "cell_type": "code",
   "execution_count": 20,
   "metadata": {
    "collapsed": true,
    "editable": false,
    "run_control": {
     "frozen": true
    }
   },
   "outputs": [],
   "source": [
    "### Download method configs\n",
    "fc_interface.download_method_configs(namespace, workspace)"
   ]
  },
  {
   "cell_type": "code",
   "execution_count": 145,
   "metadata": {
    "collapsed": true,
    "editable": false,
    "run_control": {
     "frozen": true
    }
   },
   "outputs": [],
   "source": [
    "### Upload pairsets\n",
    "tn_pairsets, tp_pairsets = fc_interface.create_pairsets(all_samples, clean_pairs_list)\n",
    "fc_interface.upload_pairsets(namespace, workspace, tn_pairsets, \"TN\")\n",
    "fc_interface.upload_pairsets(namespace, workspace, tp_pairsets, \"TP\")"
   ]
  },
  {
   "cell_type": "markdown",
   "metadata": {},
   "source": [
    "---"
   ]
  },
  {
   "cell_type": "markdown",
   "metadata": {},
   "source": [
    "---"
   ]
  },
  {
   "cell_type": "code",
   "execution_count": 4,
   "metadata": {
    "collapsed": true
   },
   "outputs": [],
   "source": [
    "all_samples = fc_interface.get_samples_multiple_batches(paths_to_samples_info, google_bucket_id)"
   ]
  },
  {
   "cell_type": "code",
   "execution_count": 6,
   "metadata": {
    "collapsed": true
   },
   "outputs": [],
   "source": [
    "all_paths = pd.read_excel('paths_to_batches_info.xlsx').path_to_samples_info.tolist()"
   ]
  },
  {
   "cell_type": "code",
   "execution_count": null,
   "metadata": {},
   "outputs": [],
   "source": [
    "# tsca_21 = fc_interface.prepare_batch_sample_set_for_metadata_export(all_paths[-1], 'TSCA21')"
   ]
  },
  {
   "cell_type": "code",
   "execution_count": 7,
   "metadata": {},
   "outputs": [],
   "source": [
    "raw = pd.read_table(all_paths[-1])"
   ]
  },
  {
   "cell_type": "code",
   "execution_count": 10,
   "metadata": {
    "collapsed": true
   },
   "outputs": [
    {
     "data": {
      "text/html": [
       "<div>\n",
       "<style>\n",
       "    .dataframe thead tr:only-child th {\n",
       "        text-align: right;\n",
       "    }\n",
       "\n",
       "    .dataframe thead th {\n",
       "        text-align: left;\n",
       "    }\n",
       "\n",
       "    .dataframe tbody tr th {\n",
       "        vertical-align: top;\n",
       "    }\n",
       "</style>\n",
       "<table border=\"1\" class=\"dataframe\">\n",
       "  <thead>\n",
       "    <tr style=\"text-align: right;\">\n",
       "      <th></th>\n",
       "      <th>membership:sample_set_id</th>\n",
       "    </tr>\n",
       "  </thead>\n",
       "  <tbody>\n",
       "    <tr>\n",
       "      <th>0</th>\n",
       "      <td>TSCA21</td>\n",
       "    </tr>\n",
       "    <tr>\n",
       "      <th>1</th>\n",
       "      <td>TSCA21</td>\n",
       "    </tr>\n",
       "    <tr>\n",
       "      <th>2</th>\n",
       "      <td>TSCA21</td>\n",
       "    </tr>\n",
       "    <tr>\n",
       "      <th>3</th>\n",
       "      <td>TSCA21</td>\n",
       "    </tr>\n",
       "    <tr>\n",
       "      <th>4</th>\n",
       "      <td>TSCA21</td>\n",
       "    </tr>\n",
       "    <tr>\n",
       "      <th>5</th>\n",
       "      <td>TSCA21</td>\n",
       "    </tr>\n",
       "    <tr>\n",
       "      <th>6</th>\n",
       "      <td>TSCA21</td>\n",
       "    </tr>\n",
       "    <tr>\n",
       "      <th>7</th>\n",
       "      <td>TSCA21</td>\n",
       "    </tr>\n",
       "    <tr>\n",
       "      <th>8</th>\n",
       "      <td>TSCA21</td>\n",
       "    </tr>\n",
       "    <tr>\n",
       "      <th>9</th>\n",
       "      <td>TSCA21</td>\n",
       "    </tr>\n",
       "    <tr>\n",
       "      <th>10</th>\n",
       "      <td>TSCA21</td>\n",
       "    </tr>\n",
       "    <tr>\n",
       "      <th>11</th>\n",
       "      <td>TSCA21</td>\n",
       "    </tr>\n",
       "    <tr>\n",
       "      <th>12</th>\n",
       "      <td>TSCA21</td>\n",
       "    </tr>\n",
       "    <tr>\n",
       "      <th>13</th>\n",
       "      <td>TSCA21</td>\n",
       "    </tr>\n",
       "    <tr>\n",
       "      <th>14</th>\n",
       "      <td>TSCA21</td>\n",
       "    </tr>\n",
       "    <tr>\n",
       "      <th>15</th>\n",
       "      <td>TSCA21</td>\n",
       "    </tr>\n",
       "    <tr>\n",
       "      <th>16</th>\n",
       "      <td>TSCA21</td>\n",
       "    </tr>\n",
       "    <tr>\n",
       "      <th>17</th>\n",
       "      <td>TSCA21</td>\n",
       "    </tr>\n",
       "    <tr>\n",
       "      <th>18</th>\n",
       "      <td>TSCA21</td>\n",
       "    </tr>\n",
       "    <tr>\n",
       "      <th>19</th>\n",
       "      <td>TSCA21</td>\n",
       "    </tr>\n",
       "    <tr>\n",
       "      <th>20</th>\n",
       "      <td>TSCA21</td>\n",
       "    </tr>\n",
       "    <tr>\n",
       "      <th>21</th>\n",
       "      <td>TSCA21</td>\n",
       "    </tr>\n",
       "    <tr>\n",
       "      <th>22</th>\n",
       "      <td>TSCA21</td>\n",
       "    </tr>\n",
       "    <tr>\n",
       "      <th>23</th>\n",
       "      <td>TSCA21</td>\n",
       "    </tr>\n",
       "    <tr>\n",
       "      <th>24</th>\n",
       "      <td>TSCA21</td>\n",
       "    </tr>\n",
       "    <tr>\n",
       "      <th>25</th>\n",
       "      <td>TSCA21</td>\n",
       "    </tr>\n",
       "    <tr>\n",
       "      <th>26</th>\n",
       "      <td>TSCA21</td>\n",
       "    </tr>\n",
       "    <tr>\n",
       "      <th>27</th>\n",
       "      <td>TSCA21</td>\n",
       "    </tr>\n",
       "    <tr>\n",
       "      <th>28</th>\n",
       "      <td>TSCA21</td>\n",
       "    </tr>\n",
       "    <tr>\n",
       "      <th>29</th>\n",
       "      <td>TSCA21</td>\n",
       "    </tr>\n",
       "    <tr>\n",
       "      <th>...</th>\n",
       "      <td>...</td>\n",
       "    </tr>\n",
       "    <tr>\n",
       "      <th>65</th>\n",
       "      <td>TSCA21</td>\n",
       "    </tr>\n",
       "    <tr>\n",
       "      <th>66</th>\n",
       "      <td>TSCA21</td>\n",
       "    </tr>\n",
       "    <tr>\n",
       "      <th>67</th>\n",
       "      <td>TSCA21</td>\n",
       "    </tr>\n",
       "    <tr>\n",
       "      <th>68</th>\n",
       "      <td>TSCA21</td>\n",
       "    </tr>\n",
       "    <tr>\n",
       "      <th>69</th>\n",
       "      <td>TSCA21</td>\n",
       "    </tr>\n",
       "    <tr>\n",
       "      <th>70</th>\n",
       "      <td>TSCA21</td>\n",
       "    </tr>\n",
       "    <tr>\n",
       "      <th>71</th>\n",
       "      <td>TSCA21</td>\n",
       "    </tr>\n",
       "    <tr>\n",
       "      <th>72</th>\n",
       "      <td>TSCA21</td>\n",
       "    </tr>\n",
       "    <tr>\n",
       "      <th>73</th>\n",
       "      <td>TSCA21</td>\n",
       "    </tr>\n",
       "    <tr>\n",
       "      <th>74</th>\n",
       "      <td>TSCA21</td>\n",
       "    </tr>\n",
       "    <tr>\n",
       "      <th>75</th>\n",
       "      <td>TSCA21</td>\n",
       "    </tr>\n",
       "    <tr>\n",
       "      <th>76</th>\n",
       "      <td>TSCA21</td>\n",
       "    </tr>\n",
       "    <tr>\n",
       "      <th>77</th>\n",
       "      <td>TSCA21</td>\n",
       "    </tr>\n",
       "    <tr>\n",
       "      <th>78</th>\n",
       "      <td>TSCA21</td>\n",
       "    </tr>\n",
       "    <tr>\n",
       "      <th>79</th>\n",
       "      <td>TSCA21</td>\n",
       "    </tr>\n",
       "    <tr>\n",
       "      <th>80</th>\n",
       "      <td>TSCA21</td>\n",
       "    </tr>\n",
       "    <tr>\n",
       "      <th>81</th>\n",
       "      <td>TSCA21</td>\n",
       "    </tr>\n",
       "    <tr>\n",
       "      <th>82</th>\n",
       "      <td>TSCA21</td>\n",
       "    </tr>\n",
       "    <tr>\n",
       "      <th>83</th>\n",
       "      <td>TSCA21</td>\n",
       "    </tr>\n",
       "    <tr>\n",
       "      <th>84</th>\n",
       "      <td>TSCA21</td>\n",
       "    </tr>\n",
       "    <tr>\n",
       "      <th>85</th>\n",
       "      <td>TSCA21</td>\n",
       "    </tr>\n",
       "    <tr>\n",
       "      <th>86</th>\n",
       "      <td>TSCA21</td>\n",
       "    </tr>\n",
       "    <tr>\n",
       "      <th>87</th>\n",
       "      <td>TSCA21</td>\n",
       "    </tr>\n",
       "    <tr>\n",
       "      <th>88</th>\n",
       "      <td>TSCA21</td>\n",
       "    </tr>\n",
       "    <tr>\n",
       "      <th>89</th>\n",
       "      <td>TSCA21</td>\n",
       "    </tr>\n",
       "    <tr>\n",
       "      <th>90</th>\n",
       "      <td>TSCA21</td>\n",
       "    </tr>\n",
       "    <tr>\n",
       "      <th>91</th>\n",
       "      <td>TSCA21</td>\n",
       "    </tr>\n",
       "    <tr>\n",
       "      <th>92</th>\n",
       "      <td>TSCA21</td>\n",
       "    </tr>\n",
       "    <tr>\n",
       "      <th>93</th>\n",
       "      <td>TSCA21</td>\n",
       "    </tr>\n",
       "    <tr>\n",
       "      <th>94</th>\n",
       "      <td>TSCA21</td>\n",
       "    </tr>\n",
       "  </tbody>\n",
       "</table>\n",
       "<p>95 rows × 1 columns</p>\n",
       "</div>"
      ],
      "text/plain": [
       "   membership:sample_set_id\n",
       "0                    TSCA21\n",
       "1                    TSCA21\n",
       "2                    TSCA21\n",
       "3                    TSCA21\n",
       "4                    TSCA21\n",
       "5                    TSCA21\n",
       "6                    TSCA21\n",
       "7                    TSCA21\n",
       "8                    TSCA21\n",
       "9                    TSCA21\n",
       "10                   TSCA21\n",
       "11                   TSCA21\n",
       "12                   TSCA21\n",
       "13                   TSCA21\n",
       "14                   TSCA21\n",
       "15                   TSCA21\n",
       "16                   TSCA21\n",
       "17                   TSCA21\n",
       "18                   TSCA21\n",
       "19                   TSCA21\n",
       "20                   TSCA21\n",
       "21                   TSCA21\n",
       "22                   TSCA21\n",
       "23                   TSCA21\n",
       "24                   TSCA21\n",
       "25                   TSCA21\n",
       "26                   TSCA21\n",
       "27                   TSCA21\n",
       "28                   TSCA21\n",
       "29                   TSCA21\n",
       "..                      ...\n",
       "65                   TSCA21\n",
       "66                   TSCA21\n",
       "67                   TSCA21\n",
       "68                   TSCA21\n",
       "69                   TSCA21\n",
       "70                   TSCA21\n",
       "71                   TSCA21\n",
       "72                   TSCA21\n",
       "73                   TSCA21\n",
       "74                   TSCA21\n",
       "75                   TSCA21\n",
       "76                   TSCA21\n",
       "77                   TSCA21\n",
       "78                   TSCA21\n",
       "79                   TSCA21\n",
       "80                   TSCA21\n",
       "81                   TSCA21\n",
       "82                   TSCA21\n",
       "83                   TSCA21\n",
       "84                   TSCA21\n",
       "85                   TSCA21\n",
       "86                   TSCA21\n",
       "87                   TSCA21\n",
       "88                   TSCA21\n",
       "89                   TSCA21\n",
       "90                   TSCA21\n",
       "91                   TSCA21\n",
       "92                   TSCA21\n",
       "93                   TSCA21\n",
       "94                   TSCA21\n",
       "\n",
       "[95 rows x 1 columns]"
      ]
     },
     "execution_count": 10,
     "metadata": {},
     "output_type": "execute_result"
    }
   ],
   "source": [
    "pd.DataFrame(index=raw.index, columns=['membership:sample_set_id'], data='TSCA21')"
   ]
  },
  {
   "cell_type": "code",
   "execution_count": 14,
   "metadata": {},
   "outputs": [],
   "source": [
    "all_samples = pd.concat([pd.DataFrame(index=raw.index, columns=['membership:sample_set_id'], data='TSCA21'), \\\n",
    "                      raw[ ['sample_id', 'sample_type'] ]], axis=1)"
   ]
  },
  {
   "cell_type": "code",
   "execution_count": 15,
   "metadata": {},
   "outputs": [
    {
     "data": {
      "text/html": [
       "<div>\n",
       "<style>\n",
       "    .dataframe thead tr:only-child th {\n",
       "        text-align: right;\n",
       "    }\n",
       "\n",
       "    .dataframe thead th {\n",
       "        text-align: left;\n",
       "    }\n",
       "\n",
       "    .dataframe tbody tr th {\n",
       "        vertical-align: top;\n",
       "    }\n",
       "</style>\n",
       "<table border=\"1\" class=\"dataframe\">\n",
       "  <thead>\n",
       "    <tr style=\"text-align: right;\">\n",
       "      <th></th>\n",
       "      <th>membership:sample_set_id</th>\n",
       "      <th>sample_id</th>\n",
       "      <th>sample_type</th>\n",
       "    </tr>\n",
       "  </thead>\n",
       "  <tbody>\n",
       "    <tr>\n",
       "      <th>0</th>\n",
       "      <td>TSCA21</td>\n",
       "      <td>AA53-Tumor-SM-GBJ9E</td>\n",
       "      <td>Tumor</td>\n",
       "    </tr>\n",
       "    <tr>\n",
       "      <th>1</th>\n",
       "      <td>TSCA21</td>\n",
       "      <td>AA55-Tumor-SM-GBJBF</td>\n",
       "      <td>Tumor</td>\n",
       "    </tr>\n",
       "    <tr>\n",
       "      <th>2</th>\n",
       "      <td>TSCA21</td>\n",
       "      <td>AA56-Tumor-SM-GBJ92</td>\n",
       "      <td>Tumor</td>\n",
       "    </tr>\n",
       "    <tr>\n",
       "      <th>3</th>\n",
       "      <td>TSCA21</td>\n",
       "      <td>AB059-Tumor-SM-GBJAS</td>\n",
       "      <td>Tumor</td>\n",
       "    </tr>\n",
       "    <tr>\n",
       "      <th>4</th>\n",
       "      <td>TSCA21</td>\n",
       "      <td>AB059-Tumor-SM-GBJ9G</td>\n",
       "      <td>Tumor</td>\n",
       "    </tr>\n",
       "    <tr>\n",
       "      <th>5</th>\n",
       "      <td>TSCA21</td>\n",
       "      <td>BT1016-Tumor-SM-GBJ9Q</td>\n",
       "      <td>Tumor</td>\n",
       "    </tr>\n",
       "    <tr>\n",
       "      <th>6</th>\n",
       "      <td>TSCA21</td>\n",
       "      <td>BT1160-Tumor-SM-GBJBE</td>\n",
       "      <td>Tumor</td>\n",
       "    </tr>\n",
       "    <tr>\n",
       "      <th>7</th>\n",
       "      <td>TSCA21</td>\n",
       "      <td>BT1160-Tumor-SM-GBJ9C</td>\n",
       "      <td>Tumor</td>\n",
       "    </tr>\n",
       "    <tr>\n",
       "      <th>8</th>\n",
       "      <td>TSCA21</td>\n",
       "      <td>BT869-Tumor-SM-GBJ9O</td>\n",
       "      <td>Tumor</td>\n",
       "    </tr>\n",
       "    <tr>\n",
       "      <th>9</th>\n",
       "      <td>TSCA21</td>\n",
       "      <td>CCLF_AA1016-Tumor-SM-GBJAG</td>\n",
       "      <td>Tumor</td>\n",
       "    </tr>\n",
       "    <tr>\n",
       "      <th>10</th>\n",
       "      <td>TSCA21</td>\n",
       "      <td>CCLF_AA1019-Tumor-SM-GBJ91</td>\n",
       "      <td>Tumor</td>\n",
       "    </tr>\n",
       "    <tr>\n",
       "      <th>11</th>\n",
       "      <td>TSCA21</td>\n",
       "      <td>CCLF_AA1022-Tumor-SM-GBJ9T</td>\n",
       "      <td>Tumor</td>\n",
       "    </tr>\n",
       "    <tr>\n",
       "      <th>12</th>\n",
       "      <td>TSCA21</td>\n",
       "      <td>CCLF_AA1023-Tumor-SM-GBJ9H</td>\n",
       "      <td>Tumor</td>\n",
       "    </tr>\n",
       "    <tr>\n",
       "      <th>13</th>\n",
       "      <td>TSCA21</td>\n",
       "      <td>CCLF_AA1024-Tumor-SM-GBJ93</td>\n",
       "      <td>Tumor</td>\n",
       "    </tr>\n",
       "    <tr>\n",
       "      <th>14</th>\n",
       "      <td>TSCA21</td>\n",
       "      <td>CCLF_AA1026-Tumor-SM-GBJ9N</td>\n",
       "      <td>Tumor</td>\n",
       "    </tr>\n",
       "    <tr>\n",
       "      <th>15</th>\n",
       "      <td>TSCA21</td>\n",
       "      <td>AA53-Tumor-SM-GBJAU</td>\n",
       "      <td>Tumor</td>\n",
       "    </tr>\n",
       "    <tr>\n",
       "      <th>16</th>\n",
       "      <td>TSCA21</td>\n",
       "      <td>CCLF_AB1021-Tumor-SM-GBJ9P</td>\n",
       "      <td>Tumor</td>\n",
       "    </tr>\n",
       "    <tr>\n",
       "      <th>17</th>\n",
       "      <td>TSCA21</td>\n",
       "      <td>CCLF_AB1022-Tumor-SM-GBJAQ</td>\n",
       "      <td>Tumor</td>\n",
       "    </tr>\n",
       "    <tr>\n",
       "      <th>18</th>\n",
       "      <td>TSCA21</td>\n",
       "      <td>CCLF_AB1025-Tumor-SM-GBJBH</td>\n",
       "      <td>Tumor</td>\n",
       "    </tr>\n",
       "    <tr>\n",
       "      <th>19</th>\n",
       "      <td>TSCA21</td>\n",
       "      <td>CCLF_AB1026-Tumor-SM-GBJ96</td>\n",
       "      <td>Tumor</td>\n",
       "    </tr>\n",
       "    <tr>\n",
       "      <th>20</th>\n",
       "      <td>TSCA21</td>\n",
       "      <td>CCLF_JL1003-Tumor-SM-GBJB4</td>\n",
       "      <td>Tumor</td>\n",
       "    </tr>\n",
       "    <tr>\n",
       "      <th>21</th>\n",
       "      <td>TSCA21</td>\n",
       "      <td>CCLF_KL1068-Tumor-SM-GBJBJ</td>\n",
       "      <td>Tumor</td>\n",
       "    </tr>\n",
       "    <tr>\n",
       "      <th>22</th>\n",
       "      <td>TSCA21</td>\n",
       "      <td>CCLF_KL1073-Tumor-SM-GBJBG</td>\n",
       "      <td>Tumor</td>\n",
       "    </tr>\n",
       "    <tr>\n",
       "      <th>23</th>\n",
       "      <td>TSCA21</td>\n",
       "      <td>CCLF_KL1075-Tumor-SM-GBJAR</td>\n",
       "      <td>Tumor</td>\n",
       "    </tr>\n",
       "    <tr>\n",
       "      <th>24</th>\n",
       "      <td>TSCA21</td>\n",
       "      <td>CCLF_KL1076-Tumor-SM-GBJB5</td>\n",
       "      <td>Tumor</td>\n",
       "    </tr>\n",
       "    <tr>\n",
       "      <th>25</th>\n",
       "      <td>TSCA21</td>\n",
       "      <td>CCLF_KL1077-Tumor-SM-GBJB7</td>\n",
       "      <td>Tumor</td>\n",
       "    </tr>\n",
       "    <tr>\n",
       "      <th>26</th>\n",
       "      <td>TSCA21</td>\n",
       "      <td>CCLF_KL1100-Tumor-SM-GBJ9U</td>\n",
       "      <td>Tumor</td>\n",
       "    </tr>\n",
       "    <tr>\n",
       "      <th>27</th>\n",
       "      <td>TSCA21</td>\n",
       "      <td>CCLF_KL1101-Tumor-SM-GBJ9I</td>\n",
       "      <td>Tumor</td>\n",
       "    </tr>\n",
       "    <tr>\n",
       "      <th>28</th>\n",
       "      <td>TSCA21</td>\n",
       "      <td>CCLF_NH1002-Tumor-SM-GBJ9D</td>\n",
       "      <td>Tumor</td>\n",
       "    </tr>\n",
       "    <tr>\n",
       "      <th>29</th>\n",
       "      <td>TSCA21</td>\n",
       "      <td>CCLF_NH1003-Tumor-SM-GBJA3</td>\n",
       "      <td>Tumor</td>\n",
       "    </tr>\n",
       "    <tr>\n",
       "      <th>...</th>\n",
       "      <td>...</td>\n",
       "      <td>...</td>\n",
       "      <td>...</td>\n",
       "    </tr>\n",
       "    <tr>\n",
       "      <th>65</th>\n",
       "      <td>TSCA21</td>\n",
       "      <td>CCLF_RCRF1016-Tumor-SM-GBJB8</td>\n",
       "      <td>Tumor</td>\n",
       "    </tr>\n",
       "    <tr>\n",
       "      <th>66</th>\n",
       "      <td>TSCA21</td>\n",
       "      <td>CCLF_RCRF1017-Normal-SM-GBJAJ</td>\n",
       "      <td>Normal</td>\n",
       "    </tr>\n",
       "    <tr>\n",
       "      <th>67</th>\n",
       "      <td>TSCA21</td>\n",
       "      <td>CCLF_RCRF1017-Tumor-SM-GBJA7</td>\n",
       "      <td>Tumor</td>\n",
       "    </tr>\n",
       "    <tr>\n",
       "      <th>68</th>\n",
       "      <td>TSCA21</td>\n",
       "      <td>COL016-Tumor-SM-GBJ9B</td>\n",
       "      <td>Tumor</td>\n",
       "    </tr>\n",
       "    <tr>\n",
       "      <th>69</th>\n",
       "      <td>TSCA21</td>\n",
       "      <td>COL016-Tumor-SM-GBJBO</td>\n",
       "      <td>Tumor</td>\n",
       "    </tr>\n",
       "    <tr>\n",
       "      <th>70</th>\n",
       "      <td>TSCA21</td>\n",
       "      <td>CY013-Tumor-SM-GBJBD</td>\n",
       "      <td>Tumor</td>\n",
       "    </tr>\n",
       "    <tr>\n",
       "      <th>71</th>\n",
       "      <td>TSCA21</td>\n",
       "      <td>CY016-Tumor-SM-GBJ9F</td>\n",
       "      <td>Tumor</td>\n",
       "    </tr>\n",
       "    <tr>\n",
       "      <th>72</th>\n",
       "      <td>TSCA21</td>\n",
       "      <td>CY016-Tumor-SM-GBJA5</td>\n",
       "      <td>Tumor</td>\n",
       "    </tr>\n",
       "    <tr>\n",
       "      <th>73</th>\n",
       "      <td>TSCA21</td>\n",
       "      <td>CY017-Tumor-SM-GBJA4</td>\n",
       "      <td>Tumor</td>\n",
       "    </tr>\n",
       "    <tr>\n",
       "      <th>74</th>\n",
       "      <td>TSCA21</td>\n",
       "      <td>CY018-Tumor-SM-GBJAV</td>\n",
       "      <td>Tumor</td>\n",
       "    </tr>\n",
       "    <tr>\n",
       "      <th>75</th>\n",
       "      <td>TSCA21</td>\n",
       "      <td>CY019-Tumor-SM-GBJA6</td>\n",
       "      <td>Tumor</td>\n",
       "    </tr>\n",
       "    <tr>\n",
       "      <th>76</th>\n",
       "      <td>TSCA21</td>\n",
       "      <td>CY020-Tumor-SM-GBJ9R</td>\n",
       "      <td>Tumor</td>\n",
       "    </tr>\n",
       "    <tr>\n",
       "      <th>77</th>\n",
       "      <td>TSCA21</td>\n",
       "      <td>SUDIPGIV-Tumor-SM-GBJB2</td>\n",
       "      <td>Tumor</td>\n",
       "    </tr>\n",
       "    <tr>\n",
       "      <th>78</th>\n",
       "      <td>TSCA21</td>\n",
       "      <td>SUDIPGXIII-Tumor-SM-GBJA1</td>\n",
       "      <td>Tumor</td>\n",
       "    </tr>\n",
       "    <tr>\n",
       "      <th>79</th>\n",
       "      <td>TSCA21</td>\n",
       "      <td>SUDIPGXVII-Tumor-SM-GBJAD</td>\n",
       "      <td>Tumor</td>\n",
       "    </tr>\n",
       "    <tr>\n",
       "      <th>80</th>\n",
       "      <td>TSCA21</td>\n",
       "      <td>SUDIPGXXV-Tumor-SM-GBJAP</td>\n",
       "      <td>Tumor</td>\n",
       "    </tr>\n",
       "    <tr>\n",
       "      <th>81</th>\n",
       "      <td>TSCA21</td>\n",
       "      <td>EH028-Tumor-SM-GBJAE</td>\n",
       "      <td>Tumor</td>\n",
       "    </tr>\n",
       "    <tr>\n",
       "      <th>82</th>\n",
       "      <td>TSCA21</td>\n",
       "      <td>EH029-Normal-SM-GBJAT</td>\n",
       "      <td>Normal</td>\n",
       "    </tr>\n",
       "    <tr>\n",
       "      <th>83</th>\n",
       "      <td>TSCA21</td>\n",
       "      <td>EH029-Tumor-SM-GBJB6</td>\n",
       "      <td>Tumor</td>\n",
       "    </tr>\n",
       "    <tr>\n",
       "      <th>84</th>\n",
       "      <td>TSCA21</td>\n",
       "      <td>EH030-Normal-SM-GBJBI</td>\n",
       "      <td>Normal</td>\n",
       "    </tr>\n",
       "    <tr>\n",
       "      <th>85</th>\n",
       "      <td>TSCA21</td>\n",
       "      <td>EH030-Tumor-SM-GBJ95</td>\n",
       "      <td>Tumor</td>\n",
       "    </tr>\n",
       "    <tr>\n",
       "      <th>86</th>\n",
       "      <td>TSCA21</td>\n",
       "      <td>JL62-Normal-SM-GBJAO</td>\n",
       "      <td>Normal</td>\n",
       "    </tr>\n",
       "    <tr>\n",
       "      <th>87</th>\n",
       "      <td>TSCA21</td>\n",
       "      <td>PEDS063-Normal-SM-GBJB9</td>\n",
       "      <td>Normal</td>\n",
       "    </tr>\n",
       "    <tr>\n",
       "      <th>88</th>\n",
       "      <td>TSCA21</td>\n",
       "      <td>PEDS063-Tumor-SM-GBJAK</td>\n",
       "      <td>Tumor</td>\n",
       "    </tr>\n",
       "    <tr>\n",
       "      <th>89</th>\n",
       "      <td>TSCA21</td>\n",
       "      <td>PEDS063-Tumor-SM-GBJ9W</td>\n",
       "      <td>Tumor</td>\n",
       "    </tr>\n",
       "    <tr>\n",
       "      <th>90</th>\n",
       "      <td>TSCA21</td>\n",
       "      <td>PEDS105-Normal-SM-GBJ9V</td>\n",
       "      <td>Normal</td>\n",
       "    </tr>\n",
       "    <tr>\n",
       "      <th>91</th>\n",
       "      <td>TSCA21</td>\n",
       "      <td>PEDS105-Normal-SM-GBJBP</td>\n",
       "      <td>Normal</td>\n",
       "    </tr>\n",
       "    <tr>\n",
       "      <th>92</th>\n",
       "      <td>TSCA21</td>\n",
       "      <td>PEDS142-Tumor-SM-GBJAW</td>\n",
       "      <td>Tumor</td>\n",
       "    </tr>\n",
       "    <tr>\n",
       "      <th>93</th>\n",
       "      <td>TSCA21</td>\n",
       "      <td>TC011-Tumor-SM-GBJA2</td>\n",
       "      <td>Tumor</td>\n",
       "    </tr>\n",
       "    <tr>\n",
       "      <th>94</th>\n",
       "      <td>TSCA21</td>\n",
       "      <td>TC012-Tumor-SM-GBJ9Y</td>\n",
       "      <td>Tumor</td>\n",
       "    </tr>\n",
       "  </tbody>\n",
       "</table>\n",
       "<p>95 rows × 3 columns</p>\n",
       "</div>"
      ],
      "text/plain": [
       "   membership:sample_set_id                      sample_id sample_type\n",
       "0                    TSCA21            AA53-Tumor-SM-GBJ9E       Tumor\n",
       "1                    TSCA21            AA55-Tumor-SM-GBJBF       Tumor\n",
       "2                    TSCA21            AA56-Tumor-SM-GBJ92       Tumor\n",
       "3                    TSCA21           AB059-Tumor-SM-GBJAS       Tumor\n",
       "4                    TSCA21           AB059-Tumor-SM-GBJ9G       Tumor\n",
       "5                    TSCA21          BT1016-Tumor-SM-GBJ9Q       Tumor\n",
       "6                    TSCA21          BT1160-Tumor-SM-GBJBE       Tumor\n",
       "7                    TSCA21          BT1160-Tumor-SM-GBJ9C       Tumor\n",
       "8                    TSCA21           BT869-Tumor-SM-GBJ9O       Tumor\n",
       "9                    TSCA21     CCLF_AA1016-Tumor-SM-GBJAG       Tumor\n",
       "10                   TSCA21     CCLF_AA1019-Tumor-SM-GBJ91       Tumor\n",
       "11                   TSCA21     CCLF_AA1022-Tumor-SM-GBJ9T       Tumor\n",
       "12                   TSCA21     CCLF_AA1023-Tumor-SM-GBJ9H       Tumor\n",
       "13                   TSCA21     CCLF_AA1024-Tumor-SM-GBJ93       Tumor\n",
       "14                   TSCA21     CCLF_AA1026-Tumor-SM-GBJ9N       Tumor\n",
       "15                   TSCA21            AA53-Tumor-SM-GBJAU       Tumor\n",
       "16                   TSCA21     CCLF_AB1021-Tumor-SM-GBJ9P       Tumor\n",
       "17                   TSCA21     CCLF_AB1022-Tumor-SM-GBJAQ       Tumor\n",
       "18                   TSCA21     CCLF_AB1025-Tumor-SM-GBJBH       Tumor\n",
       "19                   TSCA21     CCLF_AB1026-Tumor-SM-GBJ96       Tumor\n",
       "20                   TSCA21     CCLF_JL1003-Tumor-SM-GBJB4       Tumor\n",
       "21                   TSCA21     CCLF_KL1068-Tumor-SM-GBJBJ       Tumor\n",
       "22                   TSCA21     CCLF_KL1073-Tumor-SM-GBJBG       Tumor\n",
       "23                   TSCA21     CCLF_KL1075-Tumor-SM-GBJAR       Tumor\n",
       "24                   TSCA21     CCLF_KL1076-Tumor-SM-GBJB5       Tumor\n",
       "25                   TSCA21     CCLF_KL1077-Tumor-SM-GBJB7       Tumor\n",
       "26                   TSCA21     CCLF_KL1100-Tumor-SM-GBJ9U       Tumor\n",
       "27                   TSCA21     CCLF_KL1101-Tumor-SM-GBJ9I       Tumor\n",
       "28                   TSCA21     CCLF_NH1002-Tumor-SM-GBJ9D       Tumor\n",
       "29                   TSCA21     CCLF_NH1003-Tumor-SM-GBJA3       Tumor\n",
       "..                      ...                            ...         ...\n",
       "65                   TSCA21   CCLF_RCRF1016-Tumor-SM-GBJB8       Tumor\n",
       "66                   TSCA21  CCLF_RCRF1017-Normal-SM-GBJAJ      Normal\n",
       "67                   TSCA21   CCLF_RCRF1017-Tumor-SM-GBJA7       Tumor\n",
       "68                   TSCA21          COL016-Tumor-SM-GBJ9B       Tumor\n",
       "69                   TSCA21          COL016-Tumor-SM-GBJBO       Tumor\n",
       "70                   TSCA21           CY013-Tumor-SM-GBJBD       Tumor\n",
       "71                   TSCA21           CY016-Tumor-SM-GBJ9F       Tumor\n",
       "72                   TSCA21           CY016-Tumor-SM-GBJA5       Tumor\n",
       "73                   TSCA21           CY017-Tumor-SM-GBJA4       Tumor\n",
       "74                   TSCA21           CY018-Tumor-SM-GBJAV       Tumor\n",
       "75                   TSCA21           CY019-Tumor-SM-GBJA6       Tumor\n",
       "76                   TSCA21           CY020-Tumor-SM-GBJ9R       Tumor\n",
       "77                   TSCA21        SUDIPGIV-Tumor-SM-GBJB2       Tumor\n",
       "78                   TSCA21      SUDIPGXIII-Tumor-SM-GBJA1       Tumor\n",
       "79                   TSCA21      SUDIPGXVII-Tumor-SM-GBJAD       Tumor\n",
       "80                   TSCA21       SUDIPGXXV-Tumor-SM-GBJAP       Tumor\n",
       "81                   TSCA21           EH028-Tumor-SM-GBJAE       Tumor\n",
       "82                   TSCA21          EH029-Normal-SM-GBJAT      Normal\n",
       "83                   TSCA21           EH029-Tumor-SM-GBJB6       Tumor\n",
       "84                   TSCA21          EH030-Normal-SM-GBJBI      Normal\n",
       "85                   TSCA21           EH030-Tumor-SM-GBJ95       Tumor\n",
       "86                   TSCA21           JL62-Normal-SM-GBJAO      Normal\n",
       "87                   TSCA21        PEDS063-Normal-SM-GBJB9      Normal\n",
       "88                   TSCA21         PEDS063-Tumor-SM-GBJAK       Tumor\n",
       "89                   TSCA21         PEDS063-Tumor-SM-GBJ9W       Tumor\n",
       "90                   TSCA21        PEDS105-Normal-SM-GBJ9V      Normal\n",
       "91                   TSCA21        PEDS105-Normal-SM-GBJBP      Normal\n",
       "92                   TSCA21         PEDS142-Tumor-SM-GBJAW       Tumor\n",
       "93                   TSCA21           TC011-Tumor-SM-GBJA2       Tumor\n",
       "94                   TSCA21           TC012-Tumor-SM-GBJ9Y       Tumor\n",
       "\n",
       "[95 rows x 3 columns]"
      ]
     },
     "execution_count": 15,
     "metadata": {},
     "output_type": "execute_result"
    }
   ],
   "source": [
    "all_samples"
   ]
  },
  {
   "cell_type": "code",
   "execution_count": null,
   "metadata": {
    "collapsed": true
   },
   "outputs": [],
   "source": []
  }
 ],
 "metadata": {
  "kernelspec": {
   "display_name": "Python 3",
   "language": "python",
   "name": "python3"
  },
  "language_info": {
   "codemirror_mode": {
    "name": "ipython",
    "version": 3
   },
   "file_extension": ".py",
   "mimetype": "text/x-python",
   "name": "python",
   "nbconvert_exporter": "python",
   "pygments_lexer": "ipython3",
   "version": "3.6.1"
  }
 },
 "nbformat": 4,
 "nbformat_minor": 2
}
