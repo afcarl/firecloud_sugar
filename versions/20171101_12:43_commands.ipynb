{
 "cells": [
  {
   "cell_type": "markdown",
   "metadata": {},
   "source": [
    "### Commands"
   ]
  },
  {
   "cell_type": "code",
   "execution_count": 1,
   "metadata": {
    "collapsed": true
   },
   "outputs": [],
   "source": [
    "from firecloud import api as firecloud_api\n",
    "import glob\n",
    "import fc_interface"
   ]
  },
  {
   "cell_type": "code",
   "execution_count": 2,
   "metadata": {
    "collapsed": true
   },
   "outputs": [],
   "source": [
    "%load_ext autoreload\n",
    "%autoreload 2"
   ]
  },
  {
   "cell_type": "code",
   "execution_count": 3,
   "metadata": {
    "collapsed": true
   },
   "outputs": [],
   "source": [
    "### Parameters\n",
    "namespace = \"nci-mimoun-bi-org\"\n",
    "workspace = \"CCLF_TSCA\"\n",
    "paths_to_samples_info = \"paths_to_batches_info.xlsx\"\n",
    "google_bucket_id = \"fc-35446f22-ea37-483a-bd6c-5e9fc56851ff\"\n",
    "batches_info = pd.read_excel(paths_to_samples_info)"
   ]
  },
  {
   "cell_type": "markdown",
   "metadata": {},
   "source": [
    "#### Deletions"
   ]
  },
  {
   "cell_type": "code",
   "execution_count": null,
   "metadata": {
    "collapsed": true,
    "editable": false,
    "run_control": {
     "frozen": true
    }
   },
   "outputs": [],
   "source": [
    "### Delete unnecessary attributes in samples\n",
    "attrs = [\"annotate_variants_vcf\", \"annotate_variants_vcf_index\", \"oncotated_maf\", \"mutect2_vcf_index\", \"match_normal_oncotated_maf\", \"gnomad_vcf\", \"merged_vcfs\", \"match_primary_tumor_bam_file\"]\n",
    "for idx, row in all_samples.iterrows():\n",
    "    fc_interface.delete_entity_attributes(namespace, workspace, \"sample\", row['entity:sample_id'], attrs)"
   ]
  },
  {
   "cell_type": "code",
   "execution_count": null,
   "metadata": {
    "collapsed": true,
    "editable": false,
    "run_control": {
     "frozen": true
    }
   },
   "outputs": [],
   "source": [
    "### Delete method repostory\n",
    "firecloud_api.delete_repository_method('tsca', 'CreatePoN', 15)"
   ]
  },
  {
   "cell_type": "code",
   "execution_count": null,
   "metadata": {
    "collapsed": true,
    "editable": false,
    "run_control": {
     "frozen": true
    }
   },
   "outputs": [],
   "source": [
    "### Delete method repository\n",
    "firecloud_api.delete_repository_method('tsca', 'Mutect2_for_Normal', 1)"
   ]
  },
  {
   "cell_type": "code",
   "execution_count": null,
   "metadata": {
    "collapsed": true,
    "editable": false,
    "run_control": {
     "frozen": true
    }
   },
   "outputs": [],
   "source": [
    "### Delete multiple method repositories\n",
    "for i in range(10, 23):\n",
    "    firecloud_api.delete_repository_method('tsca', 'CreatePoN', i)"
   ]
  },
  {
   "cell_type": "code",
   "execution_count": null,
   "metadata": {
    "collapsed": true,
    "editable": false,
    "run_control": {
     "frozen": true
    }
   },
   "outputs": [],
   "source": [
    "### Delete method config\n",
    "firecloud_api.delete_workspace_config(namespace, workspace, \"tsca\", \"Mutect2_for_Normal\")"
   ]
  },
  {
   "cell_type": "markdown",
   "metadata": {},
   "source": [
    "#### Pair creation"
   ]
  },
  {
   "cell_type": "code",
   "execution_count": null,
   "metadata": {
    "collapsed": true,
    "editable": false,
    "run_control": {
     "frozen": true
    }
   },
   "outputs": [],
   "source": [
    "### Create pairs\n",
    "all_samples = fc_interface.get_samples_multiple_batches(paths_to_samples_info, google_bucket_id)\n",
    "pairs_list = fc_interface.create_pairs_list(all_samples)\n",
    "blacklist = [\"DW039-Tumor-SM-DB2IF\"]\n",
    "clean_pairs_list = pairs_list[ ~pairs_list['case_sample_id'].isin(blacklist)]"
   ]
  },
  {
   "cell_type": "code",
   "execution_count": null,
   "metadata": {
    "collapsed": true,
    "editable": false,
    "run_control": {
     "frozen": true
    }
   },
   "outputs": [],
   "source": [
    "### Upload pairs\n",
    "res = fc_interface.upload_pairs(namespace, workspace, clean_pairs_list)"
   ]
  },
  {
   "cell_type": "code",
   "execution_count": null,
   "metadata": {
    "collapsed": true,
    "editable": false,
    "run_control": {
     "frozen": true
    }
   },
   "outputs": [],
   "source": [
    "# ### Delete unnecessary attributes in pairs\n",
    "# ### NOT WOKING\n",
    "# all_samples = fc_interface.get_samples_multiple_batches(paths_to_samples_info, google_bucket_id)\n",
    "# pairs_list = fc_interface.create_pairs_list(all_samples)\n",
    "# attrs = [\"__annotate_variants_vcf\", \"__annotate_variants_vcf_index\", \\\n",
    "#          \"__scattered_intervals\", \"__tmp_mutect_vcf2\", \"_tmp_mutect_vcf_index2\", \\\n",
    "#          \"__tmp_mutect_vcf2\", \"_tmp_mutect_vcf_index2\"]\n",
    "# for idx, row in pairs_list.iterrows():\n",
    "#     fc_interface.delete_entity_attributes(namespace, workspace, \"pair\", row['entity:pair_id'], attrs)"
   ]
  },
  {
   "cell_type": "code",
   "execution_count": null,
   "metadata": {
    "collapsed": true,
    "editable": false,
    "run_control": {
     "frozen": true
    }
   },
   "outputs": [],
   "source": [
    "### Upload metadata for given batch\n",
    "fc_interface.update_batch_metadata('TSCA21', \\\n",
    "                                  '/xchip/clf/seq_data/processed_for_fh/tsca21_201708_SN0128552/tsca21_201708_SN0128552.import_samples.txt', \\\n",
    "                                      paths_to_samples_info, \\\n",
    "                                        namespace, workspace, google_bucket_id)"
   ]
  },
  {
   "cell_type": "code",
   "execution_count": null,
   "metadata": {
    "collapsed": true,
    "editable": false,
    "run_control": {
     "frozen": true
    }
   },
   "outputs": [],
   "source": [
    "### Delete sample_set\n",
    "fc_interface.delete_sample_set(namespace, workspace, 'TSCA1213')"
   ]
  },
  {
   "cell_type": "code",
   "execution_count": null,
   "metadata": {
    "collapsed": true,
    "editable": false,
    "run_control": {
     "frozen": true
    }
   },
   "outputs": [],
   "source": [
    "### All paths to batch info\n",
    "# pd.read_excel('paths_to_batches_info.xlsx').path_to_samples_info.tolist()"
   ]
  },
  {
   "cell_type": "code",
   "execution_count": null,
   "metadata": {
    "collapsed": true,
    "editable": false,
    "run_control": {
     "frozen": true
    }
   },
   "outputs": [],
   "source": [
    "### Create cumulative PoN (all batches)\n",
    "batches_info = pd.read_excel(paths_to_samples_info)\n",
    "PoN = fc_interface.create_panel_of_normals(batches_info.path_to_samples_info.tolist(), -1, 'Cum_PoN_21_all')\n",
    "fc_interface.upload_pon(PoN, 'CumPoN21', namespace, workspace)"
   ]
  },
  {
   "cell_type": "code",
   "execution_count": null,
   "metadata": {
    "collapsed": true,
    "editable": false,
    "run_control": {
     "frozen": true
    }
   },
   "outputs": [],
   "source": [
    "### Create PoN from normals of only one batch (no samples from other batches)\n",
    "batches_info = pd.read_excel(paths_to_samples_info)\n",
    "tsca21_path = batches_info.path_to_samples_info.tolist()[-1]\n",
    "PoN = fc_interface.create_panel_of_normals([tsca21_path], -1, 'PoN_TSCA21_Normals')\n",
    "fc_interface.upload_pon(PoN, 'PoN_TSCA21_Normals', namespace, workspace)"
   ]
  },
  {
   "cell_type": "code",
   "execution_count": null,
   "metadata": {
    "collapsed": true,
    "editable": false,
    "run_control": {
     "frozen": true
    }
   },
   "outputs": [],
   "source": [
    "### Delete pair set\n",
    "fc_interface.delete_pair_set(namespace, workspace, 'TSCA1213')"
   ]
  },
  {
   "cell_type": "code",
   "execution_count": null,
   "metadata": {
    "collapsed": true,
    "editable": false,
    "run_control": {
     "frozen": true
    }
   },
   "outputs": [],
   "source": [
    "### Delete sample set\n",
    "fc_interface.delete_sample_set(namespace, workspace, 'TSCA1213')"
   ]
  },
  {
   "cell_type": "code",
   "execution_count": null,
   "metadata": {
    "collapsed": true,
    "editable": false,
    "run_control": {
     "frozen": true
    }
   },
   "outputs": [],
   "source": [
    "### Download method configs\n",
    "fc_interface.download_method_configs(namespace, workspace)"
   ]
  },
  {
   "cell_type": "code",
   "execution_count": null,
   "metadata": {
    "collapsed": true,
    "editable": false,
    "run_control": {
     "frozen": true
    }
   },
   "outputs": [],
   "source": [
    "### Upload pairsets\n",
    "tn_pairsets, tp_pairsets = fc_interface.create_pairsets(all_samples, clean_pairs_list)\n",
    "fc_interface.upload_pairsets(namespace, workspace, tn_pairsets, \"TN\")\n",
    "fc_interface.upload_pairsets(namespace, workspace, tp_pairsets, \"TP\")"
   ]
  },
  {
   "cell_type": "code",
   "execution_count": null,
   "metadata": {
    "collapsed": true,
    "editable": false,
    "run_control": {
     "frozen": true
    }
   },
   "outputs": [],
   "source": [
    "### Delete all pairs\n",
    "for idx, row in clean_pairs_list.iterrows():\n",
    "    res = fc_interface.delete_pair(namespace, workspace, row['entity:pair_id'])\n",
    "    print(res)"
   ]
  },
  {
   "cell_type": "code",
   "execution_count": null,
   "metadata": {
    "collapsed": true,
    "editable": false,
    "run_control": {
     "frozen": true
    }
   },
   "outputs": [],
   "source": [
    "all_samples = fc_interface.get_samples_multiple_batches(paths_to_samples_info, google_bucket_id)\n",
    "pairs_list = fc_interface.create_pairs_list(all_samples)\n",
    "blacklist = [\"DW039-Tumor-SM-DB2IF\"]\n",
    "clean_pairs_list = pairs_list[ ~pairs_list['case_sample_id'].isin(blacklist)]\n",
    "\n",
    "### Update pair attributes\n",
    "update_pair_attrs(namespace, workspace, clean_pairs_list, attrs=['control_sample_tsca_id'])"
   ]
  },
  {
   "cell_type": "code",
   "execution_count": null,
   "metadata": {
    "collapsed": true,
    "editable": false,
    "run_control": {
     "frozen": true
    }
   },
   "outputs": [],
   "source": [
    "### Create PoN from all normals\n",
    "batches_info = pd.read_excel(paths_to_samples_info)\n",
    "all_paths = batches_info.path_to_samples_info.tolist()\n",
    "PoN = fc_interface.create_panel_of_normals(all_paths, -1, 'Cum_PoN_21_all')\n",
    "fc_interface.upload_pon(PoN, 'Cum_PoN_21_all', namespace, workspace)"
   ]
  },
  {
   "cell_type": "code",
   "execution_count": 6,
   "metadata": {
    "collapsed": true
   },
   "outputs": [],
   "source": [
    "### Create PoN with normals from batch + other normals\n",
    "batches_info = pd.read_excel(paths_to_samples_info)\n",
    "all_paths = batches_info.path_to_samples_info.tolist()\n",
    "# PoN = fc_interface.create_panel_of_normals(all_paths, -1, 'Cum_PoN_21_all')\n",
    "# fc_interface.upload_pon(PoN, 'Cum_PoN_21_all', namespace, workspace)"
   ]
  },
  {
   "cell_type": "code",
   "execution_count": 4,
   "metadata": {
    "collapsed": true
   },
   "outputs": [],
   "source": [
    "# batch_id = 'TSCA21'\n",
    "# batch_path = batches_info.loc[batches_info.tsca_id==batch_id, 'path_to_samples_info'].item()\n",
    "# pd.read_table(batch_path)\n",
    "# batch_id, paths, N, name"
   ]
  },
  {
   "cell_type": "code",
   "execution_count": 172,
   "metadata": {
    "collapsed": true,
    "editable": false,
    "run_control": {
     "frozen": true
    }
   },
   "outputs": [],
   "source": [
    "### Delete all cohorts\n",
    "cohort_metadata = pd.read_table('cohort_files/cohort_names_dictionary.txt', header=None, names=['name', 'code'])\n",
    "cohort_codes = cohort_metadata.code.tolist()\n",
    "for c in cohort_codes:\n",
    "    fc_interface.delete_sample_set(namespace, workspace, c)"
   ]
  },
  {
   "cell_type": "code",
   "execution_count": 21,
   "metadata": {
    "collapsed": true,
    "editable": false,
    "run_control": {
     "frozen": true
    }
   },
   "outputs": [],
   "source": [
    "# Retrieve samples before export to FC\n",
    "tsca21 = \\\n",
    "    fc_interface.\\\n",
    "        prepare_batch_samples_for_metadata_export('/xchip/clf/seq_data/processed_for_fh/tsca21_201708_SN0128552/tsca21_201708_SN0128552.import_samples.txt', \\\n",
    "                            'TSCA21', google_bucket_id)"
   ]
  },
  {
   "cell_type": "code",
   "execution_count": null,
   "metadata": {
    "collapsed": true,
    "editable": false,
    "run_control": {
     "frozen": true
    }
   },
   "outputs": [],
   "source": [
    "### Update WDLs\n",
    "fc_interface.download_remote_wdls(namespace, workspace)"
   ]
  },
  {
   "cell_type": "code",
   "execution_count": 336,
   "metadata": {
    "collapsed": true,
    "editable": false,
    "run_control": {
     "frozen": true
    }
   },
   "outputs": [],
   "source": [
    "### Prepare cohorts for export to FC\n",
    "cohorts = fc_interface.prepare_cohorts_for_metadata_export(paths_to_batches_info, google_bucket_id)"
   ]
  },
  {
   "cell_type": "code",
   "execution_count": 358,
   "metadata": {
    "collapsed": true,
    "editable": false,
    "run_control": {
     "frozen": true
    }
   },
   "outputs": [],
   "source": [
    "# # Delete cohorts\n",
    "# cohort_codes = pd.read_table('cohort_files/cohort_names_dictionary.txt', header=None)\n",
    "# for coh_code in cohort_codes.loc[:, 1].tolist():\n",
    "#     res = fc_interface.delete_sample_set(namespace, workspace, coh_code)"
   ]
  },
  {
   "cell_type": "code",
   "execution_count": 338,
   "metadata": {
    "editable": false,
    "run_control": {
     "frozen": true
    }
   },
   "outputs": [
    {
     "name": "stdout",
     "output_type": "stream",
     "text": [
      "65 Participants in this batch\n",
      "95 Samples in this batch\n"
     ]
    }
   ],
   "source": [
    "# ### Upload metadata for given batch\n",
    "# fc_interface.update_batch_metadata('TSCA21', \\\n",
    "#                                   '/xchip/clf/seq_data/processed_for_fh/tsca21_201708_SN0128552/tsca21_201708_SN0128552.import_samples.txt', \\\n",
    "#                                       paths_to_samples_info, \\\n",
    "#                                         namespace, workspace, google_bucket_id)"
   ]
  },
  {
   "cell_type": "code",
   "execution_count": 361,
   "metadata": {
    "collapsed": true,
    "editable": false,
    "run_control": {
     "frozen": true
    }
   },
   "outputs": [],
   "source": [
    "# Export metadata\n",
    "(r1, r2, r3, r4, r5, r6) = fc_interface.export_batch_metadata_to_fc('TSCA21', namespace, workspace)"
   ]
  },
  {
   "cell_type": "code",
   "execution_count": 359,
   "metadata": {
    "collapsed": true,
    "editable": false,
    "run_control": {
     "frozen": true
    }
   },
   "outputs": [],
   "source": [
    "# Cohorts\n",
    "cohorts = fc_interface.prepare_cohorts_for_metadata_export(paths_to_batches_info, google_bucket_id)"
   ]
  },
  {
   "cell_type": "code",
   "execution_count": 66,
   "metadata": {
    "collapsed": true,
    "editable": false,
    "run_control": {
     "frozen": true
    }
   },
   "outputs": [],
   "source": [
    "### Create panel of normals from batch\n",
    "pon = fc_interface.create_panel_of_normals_from_batch(batch_id, paths_to_samples_info, N=20).shape"
   ]
  },
  {
   "cell_type": "code",
   "execution_count": 78,
   "metadata": {
    "collapsed": true,
    "editable": false,
    "run_control": {
     "frozen": true
    }
   },
   "outputs": [],
   "source": [
    "### Create panel of normals from batch\n",
    "for i, row in batches_info.iterrows():\n",
    "    pon, name = fc_interface.create_panel_of_normals_from_batch(row['tsca_id'], paths_to_samples_info, N=20)\n",
    "    fc_interface.upload_pon(pon, name, namespace, workspace)"
   ]
  },
  {
   "cell_type": "code",
   "execution_count": null,
   "metadata": {
    "collapsed": true,
    "editable": false,
    "run_control": {
     "frozen": true
    }
   },
   "outputs": [],
   "source": [
    "# Retrieve samples before export to FC\n",
    "tsca21 = \\\n",
    "    fc_interface.\\\n",
    "        prepare_batch_samples_for_metadata_export('/xchip/clf/seq_data/processed_for_fh/tsca21_201708_SN0128552/tsca21_201708_SN0128552.import_samples.txt', \\\n",
    "                            'TSCA21', google_bucket_id)"
   ]
  },
  {
   "cell_type": "code",
   "execution_count": 33,
   "metadata": {
    "collapsed": true,
    "editable": false,
    "run_control": {
     "frozen": true
    }
   },
   "outputs": [],
   "source": [
    "### Prepare cohorts for export to FC\n",
    "cohorts = fc_interface.\\\n",
    "            prepare_cohorts_for_metadata_export(paths_to_samples_info, google_bucket_id, \\\n",
    "                                               blacklist=[\"CCLF_AA1012-Tumor-SM-F67DF\"])\n",
    "\n",
    "cohorts_sample_set_metadata = \"cohort_files/fc_upload_sample_set_cohorts.txt\"\n",
    "res = fc_interface.upload_entities_from_tsv(namespace, workspace, cohorts_sample_set_metadata)"
   ]
  },
  {
   "cell_type": "code",
   "execution_count": 8,
   "metadata": {
    "collapsed": true,
    "editable": false,
    "run_control": {
     "frozen": true
    }
   },
   "outputs": [],
   "source": [
    "# Export metadata\n",
    "(r1, r2, r3, r4, r5, r6) = fc_interface.export_batch_metadata_to_fc('TSCA21', namespace, workspace)"
   ]
  },
  {
   "cell_type": "code",
   "execution_count": 34,
   "metadata": {
    "collapsed": true,
    "editable": false,
    "run_control": {
     "frozen": true
    }
   },
   "outputs": [],
   "source": [
    "### Cohort of all tumors\n",
    "res = fc_interface.upload_cohort_all_tumors(paths_to_samples_info, google_bucket_id, \\\n",
    "                                      'Cum_Tumors_22_all', namespace, workspace, ['DW039-Tumor-SM-DB2IF'])"
   ]
  },
  {
   "cell_type": "code",
   "execution_count": 12,
   "metadata": {
    "editable": false,
    "run_control": {
     "frozen": true
    }
   },
   "outputs": [
    {
     "data": {
      "text/plain": [
       "(1045, 14)"
      ]
     },
     "execution_count": 12,
     "metadata": {},
     "output_type": "execute_result"
    }
   ],
   "source": [
    "# fc_interface.merge_walkupseq_files(paths_to_samples_info)"
   ]
  },
  {
   "cell_type": "markdown",
   "metadata": {},
   "source": [
    "---"
   ]
  },
  {
   "cell_type": "markdown",
   "metadata": {},
   "source": [
    "---"
   ]
  },
  {
   "cell_type": "markdown",
   "metadata": {},
   "source": [
    "## Refined: New Batch Workflow"
   ]
  },
  {
   "cell_type": "code",
   "execution_count": 5,
   "metadata": {
    "collapsed": true
   },
   "outputs": [],
   "source": [
    "### PARAMETERS\n",
    "tsca_id = \"TSCA22\"\n",
    "tsca_num = \"22\"\n",
    "blacklist = [\"DW039-Tumor-SM-DB2IF\"]\n",
    "path_to_batch_samples_info = batches_info.loc[batches_info.tsca_id==tsca_id, 'path_to_samples_info'].item()"
   ]
  },
  {
   "cell_type": "code",
   "execution_count": 29,
   "metadata": {
    "collapsed": true
   },
   "outputs": [],
   "source": [
    "### ALL SAMPLES\n",
    "## Prepare\n",
    "# fc_interface.prepare_patients_for_metadata_export(path_to_batch_samples_info, tsca_id)\n",
    "# fc_interface.prepare_batch_sample_set_for_metadata_export(path_to_batch_samples_info, tsca_id)\n",
    "# fc_interface.prepare_batch_samples_for_metadata_export(path_to_batch_samples_info, tsca_id, google_bucket_id)\n",
    "\n",
    "## Export\n",
    "# fc_interface.export_batch_metadata_to_fc(tsca_id, namespace, workspace)"
   ]
  },
  {
   "cell_type": "code",
   "execution_count": 39,
   "metadata": {
    "collapsed": true
   },
   "outputs": [],
   "source": [
    "### PANEL OF NORMALS BATCH\n",
    "## Prepare \n",
    "# pon, name = fc_interface.create_panel_of_normals_from_batch(tsca_id, paths_to_samples_info, N=20)\n",
    "\n",
    "# Export\n",
    "# fc_interface.upload_pon(pon, name, namespace, workspace)"
   ]
  },
  {
   "cell_type": "code",
   "execution_count": 13,
   "metadata": {},
   "outputs": [
    {
     "name": "stdout",
     "output_type": "stream",
     "text": [
      "Creating panel of 163 normals\n"
     ]
    },
    {
     "data": {
      "text/plain": [
       "<Response [200]>"
      ]
     },
     "execution_count": 13,
     "metadata": {},
     "output_type": "execute_result"
    }
   ],
   "source": [
    "### PANEL OF NORMALS CUMULATIVE\n",
    "## Prepare\n",
    "# batches_info = pd.read_excel(paths_to_samples_info)\n",
    "# PoN = fc_interface.create_panel_of_normals(batches_info.path_to_samples_info.tolist(), -1, 'Cum_PoN_22_all')\n",
    "\n",
    "# Export\n",
    "# fc_interface.upload_pon(PoN, 'Cum_PoN_22_all', namespace, workspace)"
   ]
  },
  {
   "cell_type": "code",
   "execution_count": 183,
   "metadata": {
    "collapsed": true
   },
   "outputs": [],
   "source": [
    "### COHORT SAMPLE SETS\n",
    "## Prepare\n",
    "# cohorts = fc_interface.prepare_cohorts_for_metadata_export(paths_to_samples_info, \\\n",
    "#                                                            google_bucket_id, blacklist, tsca_id, \\\n",
    "#                                                           namespace, workspace)\n",
    "\n",
    "# ## Export\n",
    "# res = fc_interface.upload_cohorts(namespace, workspace, tsca_id)"
   ]
  },
  {
   "cell_type": "code",
   "execution_count": 231,
   "metadata": {},
   "outputs": [
    {
     "ename": "FileNotFoundError",
     "evalue": "File b'/xchip/clf/seq_data/processed_for_fh/tsca1213_201610_SN0106956/tsca1213_201610_SN0106956.import_samples.txt' does not exist",
     "output_type": "error",
     "traceback": [
      "\u001b[0;31m---------------------------------------------------------------------------\u001b[0m",
      "\u001b[0;31mFileNotFoundError\u001b[0m                         Traceback (most recent call last)",
      "\u001b[0;32m<ipython-input-231-76175e74489c>\u001b[0m in \u001b[0;36m<module>\u001b[0;34m()\u001b[0m\n\u001b[1;32m      1\u001b[0m \u001b[0;31m### PAIRS\u001b[0m\u001b[0;34m\u001b[0m\u001b[0;34m\u001b[0m\u001b[0m\n\u001b[1;32m      2\u001b[0m \u001b[0;31m## Prepare\u001b[0m\u001b[0;34m\u001b[0m\u001b[0;34m\u001b[0m\u001b[0m\n\u001b[0;32m----> 3\u001b[0;31m \u001b[0mall_samples\u001b[0m \u001b[0;34m=\u001b[0m \u001b[0mfc_interface\u001b[0m\u001b[0;34m.\u001b[0m\u001b[0mget_samples_multiple_batches\u001b[0m\u001b[0;34m(\u001b[0m\u001b[0mpaths_to_samples_info\u001b[0m\u001b[0;34m,\u001b[0m \u001b[0mgoogle_bucket_id\u001b[0m\u001b[0;34m)\u001b[0m\u001b[0;34m\u001b[0m\u001b[0m\n\u001b[0m\u001b[1;32m      4\u001b[0m \u001b[0mpairs_list\u001b[0m \u001b[0;34m=\u001b[0m \u001b[0mfc_interface\u001b[0m\u001b[0;34m.\u001b[0m\u001b[0mcreate_pairs_list\u001b[0m\u001b[0;34m(\u001b[0m\u001b[0mall_samples\u001b[0m\u001b[0;34m)\u001b[0m\u001b[0;34m\u001b[0m\u001b[0m\n\u001b[1;32m      5\u001b[0m \u001b[0mblacklist\u001b[0m \u001b[0;34m=\u001b[0m \u001b[0;34m[\u001b[0m\u001b[0;34m\"DW039-Tumor-SM-DB2IF\"\u001b[0m\u001b[0;34m]\u001b[0m\u001b[0;34m\u001b[0m\u001b[0m\n",
      "\u001b[0;32m/Users/mimoun/production_fc/metadata_exports/fc_interface.py\u001b[0m in \u001b[0;36mget_samples_multiple_batches\u001b[0;34m(paths_to_samples_info, google_bucket_id, sublist)\u001b[0m\n\u001b[1;32m    236\u001b[0m             \u001b[0;32mcontinue\u001b[0m\u001b[0;34m\u001b[0m\u001b[0m\n\u001b[1;32m    237\u001b[0m         \u001b[0;31m# Make data Firecloud-compatible\u001b[0m\u001b[0;34m\u001b[0m\u001b[0;34m\u001b[0m\u001b[0m\n\u001b[0;32m--> 238\u001b[0;31m         \u001b[0mbatch_data\u001b[0m \u001b[0;34m=\u001b[0m \u001b[0mprepare_batch_samples_for_metadata_export\u001b[0m\u001b[0;34m(\u001b[0m\u001b[0mpaths\u001b[0m\u001b[0;34m.\u001b[0m\u001b[0mpath_to_samples_info\u001b[0m\u001b[0;34m,\u001b[0m \u001b[0mtsca_id\u001b[0m\u001b[0;34m,\u001b[0m \u001b[0mgoogle_bucket_id\u001b[0m\u001b[0;34m)\u001b[0m\u001b[0;34m\u001b[0m\u001b[0m\n\u001b[0m\u001b[1;32m    239\u001b[0m         \u001b[0mdf_list\u001b[0m\u001b[0;34m.\u001b[0m\u001b[0mappend\u001b[0m\u001b[0;34m(\u001b[0m\u001b[0mbatch_data\u001b[0m\u001b[0;34m)\u001b[0m\u001b[0;34m\u001b[0m\u001b[0m\n\u001b[1;32m    240\u001b[0m \u001b[0;34m\u001b[0m\u001b[0m\n",
      "\u001b[0;32m/Users/mimoun/production_fc/metadata_exports/fc_interface.py\u001b[0m in \u001b[0;36mprepare_batch_samples_for_metadata_export\u001b[0;34m(path, tsca_id, google_bucket_id)\u001b[0m\n\u001b[1;32m    408\u001b[0m     \"\"\"\n\u001b[1;32m    409\u001b[0m     \u001b[0;31m# export raw data\u001b[0m\u001b[0;34m\u001b[0m\u001b[0;34m\u001b[0m\u001b[0m\n\u001b[0;32m--> 410\u001b[0;31m     \u001b[0mdata\u001b[0m \u001b[0;34m=\u001b[0m \u001b[0mpd\u001b[0m\u001b[0;34m.\u001b[0m\u001b[0mread_table\u001b[0m\u001b[0;34m(\u001b[0m\u001b[0mpath\u001b[0m\u001b[0;34m)\u001b[0m\u001b[0;34m\u001b[0m\u001b[0m\n\u001b[0m\u001b[1;32m    411\u001b[0m \u001b[0;34m\u001b[0m\u001b[0m\n\u001b[1;32m    412\u001b[0m     \u001b[0;31m# Rename columns to match firecloud requirements\u001b[0m\u001b[0;34m\u001b[0m\u001b[0;34m\u001b[0m\u001b[0m\n",
      "\u001b[0;32m/Users/mimoun/anaconda/lib/python3.6/site-packages/pandas/io/parsers.py\u001b[0m in \u001b[0;36mparser_f\u001b[0;34m(filepath_or_buffer, sep, delimiter, header, names, index_col, usecols, squeeze, prefix, mangle_dupe_cols, dtype, engine, converters, true_values, false_values, skipinitialspace, skiprows, nrows, na_values, keep_default_na, na_filter, verbose, skip_blank_lines, parse_dates, infer_datetime_format, keep_date_col, date_parser, dayfirst, iterator, chunksize, compression, thousands, decimal, lineterminator, quotechar, quoting, escapechar, comment, encoding, dialect, tupleize_cols, error_bad_lines, warn_bad_lines, skipfooter, skip_footer, doublequote, delim_whitespace, as_recarray, compact_ints, use_unsigned, low_memory, buffer_lines, memory_map, float_precision)\u001b[0m\n\u001b[1;32m    653\u001b[0m                     skip_blank_lines=skip_blank_lines)\n\u001b[1;32m    654\u001b[0m \u001b[0;34m\u001b[0m\u001b[0m\n\u001b[0;32m--> 655\u001b[0;31m         \u001b[0;32mreturn\u001b[0m \u001b[0m_read\u001b[0m\u001b[0;34m(\u001b[0m\u001b[0mfilepath_or_buffer\u001b[0m\u001b[0;34m,\u001b[0m \u001b[0mkwds\u001b[0m\u001b[0;34m)\u001b[0m\u001b[0;34m\u001b[0m\u001b[0m\n\u001b[0m\u001b[1;32m    656\u001b[0m \u001b[0;34m\u001b[0m\u001b[0m\n\u001b[1;32m    657\u001b[0m     \u001b[0mparser_f\u001b[0m\u001b[0;34m.\u001b[0m\u001b[0m__name__\u001b[0m \u001b[0;34m=\u001b[0m \u001b[0mname\u001b[0m\u001b[0;34m\u001b[0m\u001b[0m\n",
      "\u001b[0;32m/Users/mimoun/anaconda/lib/python3.6/site-packages/pandas/io/parsers.py\u001b[0m in \u001b[0;36m_read\u001b[0;34m(filepath_or_buffer, kwds)\u001b[0m\n\u001b[1;32m    403\u001b[0m \u001b[0;34m\u001b[0m\u001b[0m\n\u001b[1;32m    404\u001b[0m     \u001b[0;31m# Create the parser.\u001b[0m\u001b[0;34m\u001b[0m\u001b[0;34m\u001b[0m\u001b[0m\n\u001b[0;32m--> 405\u001b[0;31m     \u001b[0mparser\u001b[0m \u001b[0;34m=\u001b[0m \u001b[0mTextFileReader\u001b[0m\u001b[0;34m(\u001b[0m\u001b[0mfilepath_or_buffer\u001b[0m\u001b[0;34m,\u001b[0m \u001b[0;34m**\u001b[0m\u001b[0mkwds\u001b[0m\u001b[0;34m)\u001b[0m\u001b[0;34m\u001b[0m\u001b[0m\n\u001b[0m\u001b[1;32m    406\u001b[0m \u001b[0;34m\u001b[0m\u001b[0m\n\u001b[1;32m    407\u001b[0m     \u001b[0;32mif\u001b[0m \u001b[0mchunksize\u001b[0m \u001b[0;32mor\u001b[0m \u001b[0miterator\u001b[0m\u001b[0;34m:\u001b[0m\u001b[0;34m\u001b[0m\u001b[0m\n",
      "\u001b[0;32m/Users/mimoun/anaconda/lib/python3.6/site-packages/pandas/io/parsers.py\u001b[0m in \u001b[0;36m__init__\u001b[0;34m(self, f, engine, **kwds)\u001b[0m\n\u001b[1;32m    760\u001b[0m             \u001b[0mself\u001b[0m\u001b[0;34m.\u001b[0m\u001b[0moptions\u001b[0m\u001b[0;34m[\u001b[0m\u001b[0;34m'has_index_names'\u001b[0m\u001b[0;34m]\u001b[0m \u001b[0;34m=\u001b[0m \u001b[0mkwds\u001b[0m\u001b[0;34m[\u001b[0m\u001b[0;34m'has_index_names'\u001b[0m\u001b[0;34m]\u001b[0m\u001b[0;34m\u001b[0m\u001b[0m\n\u001b[1;32m    761\u001b[0m \u001b[0;34m\u001b[0m\u001b[0m\n\u001b[0;32m--> 762\u001b[0;31m         \u001b[0mself\u001b[0m\u001b[0;34m.\u001b[0m\u001b[0m_make_engine\u001b[0m\u001b[0;34m(\u001b[0m\u001b[0mself\u001b[0m\u001b[0;34m.\u001b[0m\u001b[0mengine\u001b[0m\u001b[0;34m)\u001b[0m\u001b[0;34m\u001b[0m\u001b[0m\n\u001b[0m\u001b[1;32m    763\u001b[0m \u001b[0;34m\u001b[0m\u001b[0m\n\u001b[1;32m    764\u001b[0m     \u001b[0;32mdef\u001b[0m \u001b[0mclose\u001b[0m\u001b[0;34m(\u001b[0m\u001b[0mself\u001b[0m\u001b[0;34m)\u001b[0m\u001b[0;34m:\u001b[0m\u001b[0;34m\u001b[0m\u001b[0m\n",
      "\u001b[0;32m/Users/mimoun/anaconda/lib/python3.6/site-packages/pandas/io/parsers.py\u001b[0m in \u001b[0;36m_make_engine\u001b[0;34m(self, engine)\u001b[0m\n\u001b[1;32m    964\u001b[0m     \u001b[0;32mdef\u001b[0m \u001b[0m_make_engine\u001b[0m\u001b[0;34m(\u001b[0m\u001b[0mself\u001b[0m\u001b[0;34m,\u001b[0m \u001b[0mengine\u001b[0m\u001b[0;34m=\u001b[0m\u001b[0;34m'c'\u001b[0m\u001b[0;34m)\u001b[0m\u001b[0;34m:\u001b[0m\u001b[0;34m\u001b[0m\u001b[0m\n\u001b[1;32m    965\u001b[0m         \u001b[0;32mif\u001b[0m \u001b[0mengine\u001b[0m \u001b[0;34m==\u001b[0m \u001b[0;34m'c'\u001b[0m\u001b[0;34m:\u001b[0m\u001b[0;34m\u001b[0m\u001b[0m\n\u001b[0;32m--> 966\u001b[0;31m             \u001b[0mself\u001b[0m\u001b[0;34m.\u001b[0m\u001b[0m_engine\u001b[0m \u001b[0;34m=\u001b[0m \u001b[0mCParserWrapper\u001b[0m\u001b[0;34m(\u001b[0m\u001b[0mself\u001b[0m\u001b[0;34m.\u001b[0m\u001b[0mf\u001b[0m\u001b[0;34m,\u001b[0m \u001b[0;34m**\u001b[0m\u001b[0mself\u001b[0m\u001b[0;34m.\u001b[0m\u001b[0moptions\u001b[0m\u001b[0;34m)\u001b[0m\u001b[0;34m\u001b[0m\u001b[0m\n\u001b[0m\u001b[1;32m    967\u001b[0m         \u001b[0;32melse\u001b[0m\u001b[0;34m:\u001b[0m\u001b[0;34m\u001b[0m\u001b[0m\n\u001b[1;32m    968\u001b[0m             \u001b[0;32mif\u001b[0m \u001b[0mengine\u001b[0m \u001b[0;34m==\u001b[0m \u001b[0;34m'python'\u001b[0m\u001b[0;34m:\u001b[0m\u001b[0;34m\u001b[0m\u001b[0m\n",
      "\u001b[0;32m/Users/mimoun/anaconda/lib/python3.6/site-packages/pandas/io/parsers.py\u001b[0m in \u001b[0;36m__init__\u001b[0;34m(self, src, **kwds)\u001b[0m\n\u001b[1;32m   1580\u001b[0m         \u001b[0mkwds\u001b[0m\u001b[0;34m[\u001b[0m\u001b[0;34m'allow_leading_cols'\u001b[0m\u001b[0;34m]\u001b[0m \u001b[0;34m=\u001b[0m \u001b[0mself\u001b[0m\u001b[0;34m.\u001b[0m\u001b[0mindex_col\u001b[0m \u001b[0;32mis\u001b[0m \u001b[0;32mnot\u001b[0m \u001b[0;32mFalse\u001b[0m\u001b[0;34m\u001b[0m\u001b[0m\n\u001b[1;32m   1581\u001b[0m \u001b[0;34m\u001b[0m\u001b[0m\n\u001b[0;32m-> 1582\u001b[0;31m         \u001b[0mself\u001b[0m\u001b[0;34m.\u001b[0m\u001b[0m_reader\u001b[0m \u001b[0;34m=\u001b[0m \u001b[0mparsers\u001b[0m\u001b[0;34m.\u001b[0m\u001b[0mTextReader\u001b[0m\u001b[0;34m(\u001b[0m\u001b[0msrc\u001b[0m\u001b[0;34m,\u001b[0m \u001b[0;34m**\u001b[0m\u001b[0mkwds\u001b[0m\u001b[0;34m)\u001b[0m\u001b[0;34m\u001b[0m\u001b[0m\n\u001b[0m\u001b[1;32m   1583\u001b[0m \u001b[0;34m\u001b[0m\u001b[0m\n\u001b[1;32m   1584\u001b[0m         \u001b[0;31m# XXX\u001b[0m\u001b[0;34m\u001b[0m\u001b[0;34m\u001b[0m\u001b[0m\n",
      "\u001b[0;32mpandas/_libs/parsers.pyx\u001b[0m in \u001b[0;36mpandas._libs.parsers.TextReader.__cinit__ (pandas/_libs/parsers.c:4209)\u001b[0;34m()\u001b[0m\n",
      "\u001b[0;32mpandas/_libs/parsers.pyx\u001b[0m in \u001b[0;36mpandas._libs.parsers.TextReader._setup_parser_source (pandas/_libs/parsers.c:8873)\u001b[0;34m()\u001b[0m\n",
      "\u001b[0;31mFileNotFoundError\u001b[0m: File b'/xchip/clf/seq_data/processed_for_fh/tsca1213_201610_SN0106956/tsca1213_201610_SN0106956.import_samples.txt' does not exist"
     ]
    }
   ],
   "source": [
    "# ### PAIRS\n",
    "# ## Prepare\n",
    "# clean_pair_list = fc_interface.prepare_pairs_for_metadata_exports(paths_to_samples_info, tsca_id, google_bucket_id, blacklist)\n",
    "\n",
    "# ## Export\n",
    "# fc_interface.upload_pairs(namespace, workspace, clean_pairs_list)"
   ]
  },
  {
   "cell_type": "code",
   "execution_count": 6,
   "metadata": {},
   "outputs": [],
   "source": [
    "clean_pair_list = fc_interface.prepare_pairs_for_metadata_exports(paths_to_samples_info, tsca_id, google_bucket_id, blacklist)"
   ]
  },
  {
   "cell_type": "code",
   "execution_count": 8,
   "metadata": {},
   "outputs": [
    {
     "data": {
      "text/plain": [
       "(179, 7)"
      ]
     },
     "execution_count": 8,
     "metadata": {},
     "output_type": "execute_result"
    }
   ],
   "source": [
    "clean_pair_list.shape"
   ]
  },
  {
   "cell_type": "code",
   "execution_count": 244,
   "metadata": {},
   "outputs": [
    {
     "data": {
      "text/plain": [
       "<Response [200]>"
      ]
     },
     "execution_count": 244,
     "metadata": {},
     "output_type": "execute_result"
    }
   ],
   "source": [
    "# ### PAIRSETS\n",
    "# ## Prepare\n",
    "# # all_samples = fc_interface.get_samples_multiple_batches(paths_to_samples_info, google_bucket_id)\n",
    "# tn_pairsets, tp_pairsets = fc_interface.create_pairsets(all_samples, clean_pairs_list)\n",
    "\n",
    "# # ### Upload pairsets\n",
    "# fc_interface.upload_pairsets(namespace, workspace, tn_pairsets, \"TN\")\n",
    "# fc_interface.upload_pairsets(namespace, workspace, tp_pairsets, \"TP\")"
   ]
  },
  {
   "cell_type": "code",
   "execution_count": 6,
   "metadata": {
    "collapsed": true
   },
   "outputs": [],
   "source": [
    "### CUMULATIVE COHORT OF ALL SAMPLES\n",
    "res = fc_interface.upload_cohort_all_samples(paths_to_samples_info, google_bucket_id, \\\n",
    "                                            'Cum_22_all', namespace, workspace, blacklist)"
   ]
  },
  {
   "cell_type": "code",
   "execution_count": null,
   "metadata": {
    "collapsed": true
   },
   "outputs": [],
   "source": [
    "### CUMULATIVE PANEL OF NORMALS"
   ]
  },
  {
   "cell_type": "code",
   "execution_count": null,
   "metadata": {
    "collapsed": true
   },
   "outputs": [],
   "source": [
    "### CREATE COHORTS PAIRSETS"
   ]
  },
  {
   "cell_type": "code",
   "execution_count": 35,
   "metadata": {},
   "outputs": [],
   "source": [
    "all_samples = fc_interface.get_all_samples_with_cohort(tsca_id, paths_to_samples_info, google_bucket_id)\n",
    "# Create list of pairs\n",
    "pairs_list = fc_interface.create_pairs_list(all_samples)\n",
    "# Filter blacklist\n",
    "blacklist = [\"DW039-Tumor-SM-DB2IF\"]\n",
    "clean_pairs_list = pairs_list[ ~pairs_list['case_sample_id'].isin(blacklist)]\n",
    "\n",
    "# # Samples in new batch\n",
    "# samples_new_batch = pd.read_table(\"%s/fc_upload_sample_set_tsca_%s.txt\"%(tsca_id, tsca_id))\n",
    "# # Sample IDs in new batch\n",
    "# new_batch_sample_ids = samples_new_batch.sample_id.tolist()\n",
    "\n",
    "# # Only upload new pairs. \n",
    "# # New pairs are pairs that have a sample from the new batch as either a sample or control.\n",
    "# clean_pairs_list = clean_pairs_list[ clean_pairs_list['case_sample_id'].isin(new_batch_sample_ids) | \\\n",
    "#                                    clean_pairs_list['control_sample_id'].isin(new_batch_sample_ids)]"
   ]
  },
  {
   "cell_type": "code",
   "execution_count": 41,
   "metadata": {
    "collapsed": true
   },
   "outputs": [
    {
     "data": {
      "text/html": [
       "<div>\n",
       "<style>\n",
       "    .dataframe thead tr:only-child th {\n",
       "        text-align: right;\n",
       "    }\n",
       "\n",
       "    .dataframe thead th {\n",
       "        text-align: left;\n",
       "    }\n",
       "\n",
       "    .dataframe tbody tr th {\n",
       "        vertical-align: top;\n",
       "    }\n",
       "</style>\n",
       "<table border=\"1\" class=\"dataframe\">\n",
       "  <thead>\n",
       "    <tr style=\"text-align: right;\">\n",
       "      <th></th>\n",
       "      <th>entity:sample_id</th>\n",
       "      <th>cohort_code</th>\n",
       "    </tr>\n",
       "  </thead>\n",
       "  <tbody>\n",
       "    <tr>\n",
       "      <th>0</th>\n",
       "      <td>AA33-Normal-SM-D4L4D</td>\n",
       "      <td>COHORT_AA</td>\n",
       "    </tr>\n",
       "    <tr>\n",
       "      <th>1</th>\n",
       "      <td>AA34-Tumor-SM-D4L25</td>\n",
       "      <td>COHORT_AA</td>\n",
       "    </tr>\n",
       "    <tr>\n",
       "      <th>2</th>\n",
       "      <td>AA36-Tumor-SM-D4L2H</td>\n",
       "      <td>COHORT_AA</td>\n",
       "    </tr>\n",
       "    <tr>\n",
       "      <th>3</th>\n",
       "      <td>AA39-Tumor-SM-D4L3Q</td>\n",
       "      <td>COHORT_AA</td>\n",
       "    </tr>\n",
       "    <tr>\n",
       "      <th>4</th>\n",
       "      <td>AA40-Tumor-SM-D4L42</td>\n",
       "      <td>COHORT_AA</td>\n",
       "    </tr>\n",
       "    <tr>\n",
       "      <th>5</th>\n",
       "      <td>AA24-Tumor-SM-DHZ8W</td>\n",
       "      <td>COHORT_AA</td>\n",
       "    </tr>\n",
       "    <tr>\n",
       "      <th>6</th>\n",
       "      <td>AA25-Tumor-SM-DHZ99</td>\n",
       "      <td>COHORT_AA</td>\n",
       "    </tr>\n",
       "    <tr>\n",
       "      <th>7</th>\n",
       "      <td>AA33-Normal-SM-DHZ9L</td>\n",
       "      <td>COHORT_AA</td>\n",
       "    </tr>\n",
       "    <tr>\n",
       "      <th>8</th>\n",
       "      <td>AA33-Tumor-SM-DHZ9X</td>\n",
       "      <td>COHORT_AA</td>\n",
       "    </tr>\n",
       "    <tr>\n",
       "      <th>9</th>\n",
       "      <td>AA38-Tumor-SM-DHZ98</td>\n",
       "      <td>COHORT_AA</td>\n",
       "    </tr>\n",
       "    <tr>\n",
       "      <th>10</th>\n",
       "      <td>AA39-Tumor-SM-DHZAA</td>\n",
       "      <td>COHORT_AA</td>\n",
       "    </tr>\n",
       "    <tr>\n",
       "      <th>11</th>\n",
       "      <td>AA40-Tumor-SM-DHZ7W</td>\n",
       "      <td>COHORT_AA</td>\n",
       "    </tr>\n",
       "    <tr>\n",
       "      <th>12</th>\n",
       "      <td>AA42-Tumor-SM-DHZ9W</td>\n",
       "      <td>COHORT_AA</td>\n",
       "    </tr>\n",
       "    <tr>\n",
       "      <th>13</th>\n",
       "      <td>AA43-Tumor-SM-DHZ8K</td>\n",
       "      <td>COHORT_AA</td>\n",
       "    </tr>\n",
       "    <tr>\n",
       "      <th>14</th>\n",
       "      <td>AA44-Normal-SM-DHZ88</td>\n",
       "      <td>COHORT_AA</td>\n",
       "    </tr>\n",
       "    <tr>\n",
       "      <th>15</th>\n",
       "      <td>AA45-Tumor-SM-DHZ9K</td>\n",
       "      <td>COHORT_AA</td>\n",
       "    </tr>\n",
       "    <tr>\n",
       "      <th>16</th>\n",
       "      <td>AA46-Tumor-SM-DHZA9</td>\n",
       "      <td>COHORT_AA</td>\n",
       "    </tr>\n",
       "    <tr>\n",
       "      <th>17</th>\n",
       "      <td>AA47-Tumor-SM-DHZ7V</td>\n",
       "      <td>COHORT_AA</td>\n",
       "    </tr>\n",
       "    <tr>\n",
       "      <th>18</th>\n",
       "      <td>AA38-Tumor-SM-E7S17</td>\n",
       "      <td>COHORT_AA</td>\n",
       "    </tr>\n",
       "    <tr>\n",
       "      <th>19</th>\n",
       "      <td>AA42-Tumor-SM-E7S2I</td>\n",
       "      <td>COHORT_AA</td>\n",
       "    </tr>\n",
       "    <tr>\n",
       "      <th>20</th>\n",
       "      <td>AA45-Tumor-SM-E7RZ5</td>\n",
       "      <td>COHORT_AA</td>\n",
       "    </tr>\n",
       "    <tr>\n",
       "      <th>21</th>\n",
       "      <td>AA47-Tumor-SM-E7S1J</td>\n",
       "      <td>COHORT_AA</td>\n",
       "    </tr>\n",
       "    <tr>\n",
       "      <th>22</th>\n",
       "      <td>AA49-Tumor-SM-E7S1V</td>\n",
       "      <td>COHORT_AA</td>\n",
       "    </tr>\n",
       "    <tr>\n",
       "      <th>23</th>\n",
       "      <td>AA49-Tumor-SM-EUVFI</td>\n",
       "      <td>COHORT_AA</td>\n",
       "    </tr>\n",
       "    <tr>\n",
       "      <th>24</th>\n",
       "      <td>AA53-Tumor-SM-EUVFU</td>\n",
       "      <td>COHORT_AA</td>\n",
       "    </tr>\n",
       "    <tr>\n",
       "      <th>25</th>\n",
       "      <td>AA55-Tumor-SM-EUVGJ</td>\n",
       "      <td>COHORT_AA</td>\n",
       "    </tr>\n",
       "    <tr>\n",
       "      <th>26</th>\n",
       "      <td>AA56-Tumor-SM-EUVGH</td>\n",
       "      <td>COHORT_AA</td>\n",
       "    </tr>\n",
       "    <tr>\n",
       "      <th>27</th>\n",
       "      <td>AA59-Tumor-SM-EUVH6</td>\n",
       "      <td>COHORT_AA</td>\n",
       "    </tr>\n",
       "    <tr>\n",
       "      <th>28</th>\n",
       "      <td>AA66-Tumor-SM-F29RQ</td>\n",
       "      <td>COHORT_AA</td>\n",
       "    </tr>\n",
       "    <tr>\n",
       "      <th>29</th>\n",
       "      <td>CCLF_AA1003-Tumor-SM-F29RS</td>\n",
       "      <td>COHORT_AA</td>\n",
       "    </tr>\n",
       "    <tr>\n",
       "      <th>...</th>\n",
       "      <td>...</td>\n",
       "      <td>...</td>\n",
       "    </tr>\n",
       "    <tr>\n",
       "      <th>1110</th>\n",
       "      <td>CSHL_PDAC_25-Tumor-SM-F29TS</td>\n",
       "      <td>COHORT_CSHL_PDAC</td>\n",
       "    </tr>\n",
       "    <tr>\n",
       "      <th>1111</th>\n",
       "      <td>CSHL_PDAC_26-Tumor-SM-F29TT</td>\n",
       "      <td>COHORT_CSHL_PDAC</td>\n",
       "    </tr>\n",
       "    <tr>\n",
       "      <th>1112</th>\n",
       "      <td>CSHL_PDAC_27-Tumor-SM-F29TU</td>\n",
       "      <td>COHORT_CSHL_PDAC</td>\n",
       "    </tr>\n",
       "    <tr>\n",
       "      <th>1113</th>\n",
       "      <td>CSHL_PDAC_28-Tumor-SM-F29TV</td>\n",
       "      <td>COHORT_CSHL_PDAC</td>\n",
       "    </tr>\n",
       "    <tr>\n",
       "      <th>1114</th>\n",
       "      <td>CSHL_PDAC_29-Tumor-SM-F29TW</td>\n",
       "      <td>COHORT_CSHL_PDAC</td>\n",
       "    </tr>\n",
       "    <tr>\n",
       "      <th>1115</th>\n",
       "      <td>CSHL_PDAC_3-Tumor-SM-F29T6</td>\n",
       "      <td>COHORT_CSHL_PDAC</td>\n",
       "    </tr>\n",
       "    <tr>\n",
       "      <th>1116</th>\n",
       "      <td>CSHL_PDAC_30-Tumor-SM-F29TX</td>\n",
       "      <td>COHORT_CSHL_PDAC</td>\n",
       "    </tr>\n",
       "    <tr>\n",
       "      <th>1117</th>\n",
       "      <td>CSHL_PDAC_31-Tumor-SM-F29TZ</td>\n",
       "      <td>COHORT_CSHL_PDAC</td>\n",
       "    </tr>\n",
       "    <tr>\n",
       "      <th>1118</th>\n",
       "      <td>CSHL_PDAC_32-Tumor-SM-F29U1</td>\n",
       "      <td>COHORT_CSHL_PDAC</td>\n",
       "    </tr>\n",
       "    <tr>\n",
       "      <th>1119</th>\n",
       "      <td>CSHL_PDAC_33-Tumor-SM-F29U2</td>\n",
       "      <td>COHORT_CSHL_PDAC</td>\n",
       "    </tr>\n",
       "    <tr>\n",
       "      <th>1120</th>\n",
       "      <td>CSHL_PDAC_34-Tumor-SM-F29U3</td>\n",
       "      <td>COHORT_CSHL_PDAC</td>\n",
       "    </tr>\n",
       "    <tr>\n",
       "      <th>1121</th>\n",
       "      <td>CSHL_PDAC_34-Tumor-SM-F29U4</td>\n",
       "      <td>COHORT_CSHL_PDAC</td>\n",
       "    </tr>\n",
       "    <tr>\n",
       "      <th>1122</th>\n",
       "      <td>CSHL_PDAC_35-Tumor-SM-F29U5</td>\n",
       "      <td>COHORT_CSHL_PDAC</td>\n",
       "    </tr>\n",
       "    <tr>\n",
       "      <th>1123</th>\n",
       "      <td>CSHL_PDAC_36-Tumor-SM-F29U6</td>\n",
       "      <td>COHORT_CSHL_PDAC</td>\n",
       "    </tr>\n",
       "    <tr>\n",
       "      <th>1124</th>\n",
       "      <td>CSHL_PDAC_36-Tumor-SM-F29U7</td>\n",
       "      <td>COHORT_CSHL_PDAC</td>\n",
       "    </tr>\n",
       "    <tr>\n",
       "      <th>1125</th>\n",
       "      <td>CSHL_PDAC_36-Tumor-SM-F29U8</td>\n",
       "      <td>COHORT_CSHL_PDAC</td>\n",
       "    </tr>\n",
       "    <tr>\n",
       "      <th>1126</th>\n",
       "      <td>CSHL_PDAC_37-Tumor-SM-F29U9</td>\n",
       "      <td>COHORT_CSHL_PDAC</td>\n",
       "    </tr>\n",
       "    <tr>\n",
       "      <th>1127</th>\n",
       "      <td>CSHL_PDAC_38-Tumor-SM-F29UA</td>\n",
       "      <td>COHORT_CSHL_PDAC</td>\n",
       "    </tr>\n",
       "    <tr>\n",
       "      <th>1128</th>\n",
       "      <td>CSHL_PDAC_38-Tumor-SM-F29UB</td>\n",
       "      <td>COHORT_CSHL_PDAC</td>\n",
       "    </tr>\n",
       "    <tr>\n",
       "      <th>1129</th>\n",
       "      <td>CSHL_PDAC_38-Tumor-SM-F29UC</td>\n",
       "      <td>COHORT_CSHL_PDAC</td>\n",
       "    </tr>\n",
       "    <tr>\n",
       "      <th>1130</th>\n",
       "      <td>CSHL_PDAC_38-Tumor-SM-F29UD</td>\n",
       "      <td>COHORT_CSHL_PDAC</td>\n",
       "    </tr>\n",
       "    <tr>\n",
       "      <th>1131</th>\n",
       "      <td>CSHL_PDAC_39-Tumor-SM-F29UE</td>\n",
       "      <td>COHORT_CSHL_PDAC</td>\n",
       "    </tr>\n",
       "    <tr>\n",
       "      <th>1132</th>\n",
       "      <td>CSHL_PDAC_4-Tumor-SM-F29T7</td>\n",
       "      <td>COHORT_CSHL_PDAC</td>\n",
       "    </tr>\n",
       "    <tr>\n",
       "      <th>1133</th>\n",
       "      <td>CSHL_PDAC_40-Tumor-SM-F29UF</td>\n",
       "      <td>COHORT_CSHL_PDAC</td>\n",
       "    </tr>\n",
       "    <tr>\n",
       "      <th>1134</th>\n",
       "      <td>CSHL_PDAC_5-Tumor-SM-F29T8</td>\n",
       "      <td>COHORT_CSHL_PDAC</td>\n",
       "    </tr>\n",
       "    <tr>\n",
       "      <th>1135</th>\n",
       "      <td>CSHL_PDAC_5-Tumor-SM-F29TY</td>\n",
       "      <td>COHORT_CSHL_PDAC</td>\n",
       "    </tr>\n",
       "    <tr>\n",
       "      <th>1136</th>\n",
       "      <td>CSHL_PDAC_6-Tumor-SM-F29T9</td>\n",
       "      <td>COHORT_CSHL_PDAC</td>\n",
       "    </tr>\n",
       "    <tr>\n",
       "      <th>1137</th>\n",
       "      <td>CSHL_PDAC_7-Tumor-SM-F29TA</td>\n",
       "      <td>COHORT_CSHL_PDAC</td>\n",
       "    </tr>\n",
       "    <tr>\n",
       "      <th>1138</th>\n",
       "      <td>CSHL_PDAC_8-Tumor-SM-F29TB</td>\n",
       "      <td>COHORT_CSHL_PDAC</td>\n",
       "    </tr>\n",
       "    <tr>\n",
       "      <th>1139</th>\n",
       "      <td>CSHL_PDAC_9-Tumor-SM-F29TC</td>\n",
       "      <td>COHORT_CSHL_PDAC</td>\n",
       "    </tr>\n",
       "  </tbody>\n",
       "</table>\n",
       "<p>1140 rows × 2 columns</p>\n",
       "</div>"
      ],
      "text/plain": [
       "                 entity:sample_id       cohort_code\n",
       "0            AA33-Normal-SM-D4L4D         COHORT_AA\n",
       "1             AA34-Tumor-SM-D4L25         COHORT_AA\n",
       "2             AA36-Tumor-SM-D4L2H         COHORT_AA\n",
       "3             AA39-Tumor-SM-D4L3Q         COHORT_AA\n",
       "4             AA40-Tumor-SM-D4L42         COHORT_AA\n",
       "5             AA24-Tumor-SM-DHZ8W         COHORT_AA\n",
       "6             AA25-Tumor-SM-DHZ99         COHORT_AA\n",
       "7            AA33-Normal-SM-DHZ9L         COHORT_AA\n",
       "8             AA33-Tumor-SM-DHZ9X         COHORT_AA\n",
       "9             AA38-Tumor-SM-DHZ98         COHORT_AA\n",
       "10            AA39-Tumor-SM-DHZAA         COHORT_AA\n",
       "11            AA40-Tumor-SM-DHZ7W         COHORT_AA\n",
       "12            AA42-Tumor-SM-DHZ9W         COHORT_AA\n",
       "13            AA43-Tumor-SM-DHZ8K         COHORT_AA\n",
       "14           AA44-Normal-SM-DHZ88         COHORT_AA\n",
       "15            AA45-Tumor-SM-DHZ9K         COHORT_AA\n",
       "16            AA46-Tumor-SM-DHZA9         COHORT_AA\n",
       "17            AA47-Tumor-SM-DHZ7V         COHORT_AA\n",
       "18            AA38-Tumor-SM-E7S17         COHORT_AA\n",
       "19            AA42-Tumor-SM-E7S2I         COHORT_AA\n",
       "20            AA45-Tumor-SM-E7RZ5         COHORT_AA\n",
       "21            AA47-Tumor-SM-E7S1J         COHORT_AA\n",
       "22            AA49-Tumor-SM-E7S1V         COHORT_AA\n",
       "23            AA49-Tumor-SM-EUVFI         COHORT_AA\n",
       "24            AA53-Tumor-SM-EUVFU         COHORT_AA\n",
       "25            AA55-Tumor-SM-EUVGJ         COHORT_AA\n",
       "26            AA56-Tumor-SM-EUVGH         COHORT_AA\n",
       "27            AA59-Tumor-SM-EUVH6         COHORT_AA\n",
       "28            AA66-Tumor-SM-F29RQ         COHORT_AA\n",
       "29     CCLF_AA1003-Tumor-SM-F29RS         COHORT_AA\n",
       "...                           ...               ...\n",
       "1110  CSHL_PDAC_25-Tumor-SM-F29TS  COHORT_CSHL_PDAC\n",
       "1111  CSHL_PDAC_26-Tumor-SM-F29TT  COHORT_CSHL_PDAC\n",
       "1112  CSHL_PDAC_27-Tumor-SM-F29TU  COHORT_CSHL_PDAC\n",
       "1113  CSHL_PDAC_28-Tumor-SM-F29TV  COHORT_CSHL_PDAC\n",
       "1114  CSHL_PDAC_29-Tumor-SM-F29TW  COHORT_CSHL_PDAC\n",
       "1115   CSHL_PDAC_3-Tumor-SM-F29T6  COHORT_CSHL_PDAC\n",
       "1116  CSHL_PDAC_30-Tumor-SM-F29TX  COHORT_CSHL_PDAC\n",
       "1117  CSHL_PDAC_31-Tumor-SM-F29TZ  COHORT_CSHL_PDAC\n",
       "1118  CSHL_PDAC_32-Tumor-SM-F29U1  COHORT_CSHL_PDAC\n",
       "1119  CSHL_PDAC_33-Tumor-SM-F29U2  COHORT_CSHL_PDAC\n",
       "1120  CSHL_PDAC_34-Tumor-SM-F29U3  COHORT_CSHL_PDAC\n",
       "1121  CSHL_PDAC_34-Tumor-SM-F29U4  COHORT_CSHL_PDAC\n",
       "1122  CSHL_PDAC_35-Tumor-SM-F29U5  COHORT_CSHL_PDAC\n",
       "1123  CSHL_PDAC_36-Tumor-SM-F29U6  COHORT_CSHL_PDAC\n",
       "1124  CSHL_PDAC_36-Tumor-SM-F29U7  COHORT_CSHL_PDAC\n",
       "1125  CSHL_PDAC_36-Tumor-SM-F29U8  COHORT_CSHL_PDAC\n",
       "1126  CSHL_PDAC_37-Tumor-SM-F29U9  COHORT_CSHL_PDAC\n",
       "1127  CSHL_PDAC_38-Tumor-SM-F29UA  COHORT_CSHL_PDAC\n",
       "1128  CSHL_PDAC_38-Tumor-SM-F29UB  COHORT_CSHL_PDAC\n",
       "1129  CSHL_PDAC_38-Tumor-SM-F29UC  COHORT_CSHL_PDAC\n",
       "1130  CSHL_PDAC_38-Tumor-SM-F29UD  COHORT_CSHL_PDAC\n",
       "1131  CSHL_PDAC_39-Tumor-SM-F29UE  COHORT_CSHL_PDAC\n",
       "1132   CSHL_PDAC_4-Tumor-SM-F29T7  COHORT_CSHL_PDAC\n",
       "1133  CSHL_PDAC_40-Tumor-SM-F29UF  COHORT_CSHL_PDAC\n",
       "1134   CSHL_PDAC_5-Tumor-SM-F29T8  COHORT_CSHL_PDAC\n",
       "1135   CSHL_PDAC_5-Tumor-SM-F29TY  COHORT_CSHL_PDAC\n",
       "1136   CSHL_PDAC_6-Tumor-SM-F29T9  COHORT_CSHL_PDAC\n",
       "1137   CSHL_PDAC_7-Tumor-SM-F29TA  COHORT_CSHL_PDAC\n",
       "1138   CSHL_PDAC_8-Tumor-SM-F29TB  COHORT_CSHL_PDAC\n",
       "1139   CSHL_PDAC_9-Tumor-SM-F29TC  COHORT_CSHL_PDAC\n",
       "\n",
       "[1140 rows x 2 columns]"
      ]
     },
     "execution_count": 41,
     "metadata": {},
     "output_type": "execute_result"
    }
   ],
   "source": [
    "all_samples[['entity:sample_id', 'cohort_code']]"
   ]
  },
  {
   "cell_type": "code",
   "execution_count": 42,
   "metadata": {
    "collapsed": true
   },
   "outputs": [],
   "source": [
    "pairs_with_cohort = pd.merge(clean_pairs_list, all_samples[['entity:sample_id', 'cohort_code']], \\\n",
    "         left_on='case_sample_id', right_on='entity:sample_id')"
   ]
  },
  {
   "cell_type": "code",
   "execution_count": 44,
   "metadata": {},
   "outputs": [
    {
     "data": {
      "text/html": [
       "<div>\n",
       "<style>\n",
       "    .dataframe thead tr:only-child th {\n",
       "        text-align: right;\n",
       "    }\n",
       "\n",
       "    .dataframe thead th {\n",
       "        text-align: left;\n",
       "    }\n",
       "\n",
       "    .dataframe tbody tr th {\n",
       "        vertical-align: top;\n",
       "    }\n",
       "</style>\n",
       "<table border=\"1\" class=\"dataframe\">\n",
       "  <thead>\n",
       "    <tr style=\"text-align: right;\">\n",
       "      <th></th>\n",
       "      <th>entity:pair_id</th>\n",
       "      <th>case_sample_id</th>\n",
       "      <th>control_sample_id</th>\n",
       "      <th>participant_id</th>\n",
       "      <th>match_type</th>\n",
       "      <th>case_sample_tsca_id</th>\n",
       "      <th>control_sample_tsca_id</th>\n",
       "      <th>entity:sample_id</th>\n",
       "      <th>cohort_code</th>\n",
       "    </tr>\n",
       "  </thead>\n",
       "  <tbody>\n",
       "    <tr>\n",
       "      <th>0</th>\n",
       "      <td>AA34-Tumor-SM-D4L25_NA_TN</td>\n",
       "      <td>AA34-Tumor-SM-D4L25</td>\n",
       "      <td>NA</td>\n",
       "      <td>AA34</td>\n",
       "      <td>tumor_normal</td>\n",
       "      <td>TSCA1213</td>\n",
       "      <td>NA</td>\n",
       "      <td>AA34-Tumor-SM-D4L25</td>\n",
       "      <td>COHORT_AA</td>\n",
       "    </tr>\n",
       "    <tr>\n",
       "      <th>1</th>\n",
       "      <td>AA34-Tumor-SM-D4L25_NA_TP</td>\n",
       "      <td>AA34-Tumor-SM-D4L25</td>\n",
       "      <td>NA</td>\n",
       "      <td>AA34</td>\n",
       "      <td>tumor_primary</td>\n",
       "      <td>TSCA1213</td>\n",
       "      <td>NA</td>\n",
       "      <td>AA34-Tumor-SM-D4L25</td>\n",
       "      <td>COHORT_AA</td>\n",
       "    </tr>\n",
       "  </tbody>\n",
       "</table>\n",
       "</div>"
      ],
      "text/plain": [
       "              entity:pair_id       case_sample_id control_sample_id  \\\n",
       "0  AA34-Tumor-SM-D4L25_NA_TN  AA34-Tumor-SM-D4L25                NA   \n",
       "1  AA34-Tumor-SM-D4L25_NA_TP  AA34-Tumor-SM-D4L25                NA   \n",
       "\n",
       "  participant_id     match_type case_sample_tsca_id control_sample_tsca_id  \\\n",
       "0           AA34   tumor_normal            TSCA1213                     NA   \n",
       "1           AA34  tumor_primary            TSCA1213                     NA   \n",
       "\n",
       "      entity:sample_id cohort_code  \n",
       "0  AA34-Tumor-SM-D4L25   COHORT_AA  \n",
       "1  AA34-Tumor-SM-D4L25   COHORT_AA  "
      ]
     },
     "execution_count": 44,
     "metadata": {},
     "output_type": "execute_result"
    }
   ],
   "source": [
    "pairs_with_cohort.head(2)"
   ]
  },
  {
   "cell_type": "code",
   "execution_count": 45,
   "metadata": {},
   "outputs": [],
   "source": [
    "pairs_with_cohort_clean = pairs_with_cohort[['cohort_code', 'entity:pair_id']] \\\n",
    "    .rename(columns={'entity:pair_id': 'pair_id', 'cohort_code': 'membership:pair_set_id'})"
   ]
  },
  {
   "cell_type": "code",
   "execution_count": 47,
   "metadata": {},
   "outputs": [
    {
     "data": {
      "text/plain": [
       "(1950, 2)"
      ]
     },
     "execution_count": 47,
     "metadata": {},
     "output_type": "execute_result"
    }
   ],
   "source": [
    "pairs_with_cohort_clean.shape"
   ]
  },
  {
   "cell_type": "code",
   "execution_count": 29,
   "metadata": {},
   "outputs": [
    {
     "data": {
      "text/html": [
       "<div>\n",
       "<style>\n",
       "    .dataframe thead tr:only-child th {\n",
       "        text-align: right;\n",
       "    }\n",
       "\n",
       "    .dataframe thead th {\n",
       "        text-align: left;\n",
       "    }\n",
       "\n",
       "    .dataframe tbody tr th {\n",
       "        vertical-align: top;\n",
       "    }\n",
       "</style>\n",
       "<table border=\"1\" class=\"dataframe\">\n",
       "  <thead>\n",
       "    <tr style=\"text-align: right;\">\n",
       "      <th></th>\n",
       "      <th>entity:sample_id</th>\n",
       "      <th>participant_id</th>\n",
       "      <th>clean_bam_file_capture</th>\n",
       "      <th>external_id_validation</th>\n",
       "      <th>aggregation_product_name_validation</th>\n",
       "      <th>bsp_sample_id_validation</th>\n",
       "      <th>stock_sample_id_validation</th>\n",
       "      <th>sample_type</th>\n",
       "      <th>picard_aggregation_type_validation</th>\n",
       "      <th>processed_subtype_validation</th>\n",
       "      <th>source_subtype_validation</th>\n",
       "      <th>squid_sample_id_validation</th>\n",
       "      <th>tumor_subtype</th>\n",
       "      <th>short_letter_code</th>\n",
       "      <th>bam_filename</th>\n",
       "      <th>bai_filename</th>\n",
       "      <th>clean_bai_file_capture</th>\n",
       "      <th>tsca_id</th>\n",
       "      <th>Collection</th>\n",
       "      <th>cohort_code</th>\n",
       "    </tr>\n",
       "  </thead>\n",
       "  <tbody>\n",
       "    <tr>\n",
       "      <th>0</th>\n",
       "      <td>AA33-Normal-SM-D4L4D</td>\n",
       "      <td>AA33</td>\n",
       "      <td>gs://fc-35446f22-ea37-483a-bd6c-5e9fc56851ff/s...</td>\n",
       "      <td>AA33N_3D_p5</td>\n",
       "      <td>TSCA Rapid Cancer Detection Panel v2</td>\n",
       "      <td>SM-D59KF</td>\n",
       "      <td>SM-D4L4D</td>\n",
       "      <td>Normal</td>\n",
       "      <td>PCR</td>\n",
       "      <td>Cells:Pellet frozen</td>\n",
       "      <td>Tissue:Fresh Tissue</td>\n",
       "      <td>AA33N_3D_p5</td>\n",
       "      <td>NaN</td>\n",
       "      <td>NDNA</td>\n",
       "      <td>1_AA33N_3D_p5_HVLVWBCXX.1.aligned.duplicates_m...</td>\n",
       "      <td>1_AA33N_3D_p5_HVLVWBCXX.1.aligned.duplicates_m...</td>\n",
       "      <td>gs://fc-35446f22-ea37-483a-bd6c-5e9fc56851ff/s...</td>\n",
       "      <td>TSCA1213</td>\n",
       "      <td>Cancer Cell Line Factory (CCLF) / Andy Aguirre...</td>\n",
       "      <td>COHORT_AA</td>\n",
       "    </tr>\n",
       "    <tr>\n",
       "      <th>1</th>\n",
       "      <td>AA34-Tumor-SM-D4L25</td>\n",
       "      <td>AA34</td>\n",
       "      <td>gs://fc-35446f22-ea37-483a-bd6c-5e9fc56851ff/s...</td>\n",
       "      <td>AA34T_3D_p4</td>\n",
       "      <td>TSCA Rapid Cancer Detection Panel v2</td>\n",
       "      <td>SM-D59I2</td>\n",
       "      <td>SM-D4L25</td>\n",
       "      <td>Tumor</td>\n",
       "      <td>PCR</td>\n",
       "      <td>Cells:Pellet frozen</td>\n",
       "      <td>Tissue:Fresh Tissue</td>\n",
       "      <td>AA34T_3D_p4</td>\n",
       "      <td>Metastatic</td>\n",
       "      <td>TM</td>\n",
       "      <td>1_AA34T_3D_p4_HVLVWBCXX.1.aligned.duplicates_m...</td>\n",
       "      <td>1_AA34T_3D_p4_HVLVWBCXX.1.aligned.duplicates_m...</td>\n",
       "      <td>gs://fc-35446f22-ea37-483a-bd6c-5e9fc56851ff/s...</td>\n",
       "      <td>TSCA1213</td>\n",
       "      <td>Cancer Cell Line Factory (CCLF) / Andy Aguirre...</td>\n",
       "      <td>COHORT_AA</td>\n",
       "    </tr>\n",
       "  </tbody>\n",
       "</table>\n",
       "</div>"
      ],
      "text/plain": [
       "       entity:sample_id participant_id  \\\n",
       "0  AA33-Normal-SM-D4L4D           AA33   \n",
       "1   AA34-Tumor-SM-D4L25           AA34   \n",
       "\n",
       "                              clean_bam_file_capture external_id_validation  \\\n",
       "0  gs://fc-35446f22-ea37-483a-bd6c-5e9fc56851ff/s...            AA33N_3D_p5   \n",
       "1  gs://fc-35446f22-ea37-483a-bd6c-5e9fc56851ff/s...            AA34T_3D_p4   \n",
       "\n",
       "    aggregation_product_name_validation bsp_sample_id_validation  \\\n",
       "0  TSCA Rapid Cancer Detection Panel v2                 SM-D59KF   \n",
       "1  TSCA Rapid Cancer Detection Panel v2                 SM-D59I2   \n",
       "\n",
       "  stock_sample_id_validation sample_type picard_aggregation_type_validation  \\\n",
       "0                   SM-D4L4D      Normal                                PCR   \n",
       "1                   SM-D4L25       Tumor                                PCR   \n",
       "\n",
       "  processed_subtype_validation source_subtype_validation  \\\n",
       "0          Cells:Pellet frozen       Tissue:Fresh Tissue   \n",
       "1          Cells:Pellet frozen       Tissue:Fresh Tissue   \n",
       "\n",
       "  squid_sample_id_validation tumor_subtype short_letter_code  \\\n",
       "0                AA33N_3D_p5           NaN              NDNA   \n",
       "1                AA34T_3D_p4    Metastatic                TM   \n",
       "\n",
       "                                        bam_filename  \\\n",
       "0  1_AA33N_3D_p5_HVLVWBCXX.1.aligned.duplicates_m...   \n",
       "1  1_AA34T_3D_p4_HVLVWBCXX.1.aligned.duplicates_m...   \n",
       "\n",
       "                                        bai_filename  \\\n",
       "0  1_AA33N_3D_p5_HVLVWBCXX.1.aligned.duplicates_m...   \n",
       "1  1_AA34T_3D_p4_HVLVWBCXX.1.aligned.duplicates_m...   \n",
       "\n",
       "                              clean_bai_file_capture   tsca_id  \\\n",
       "0  gs://fc-35446f22-ea37-483a-bd6c-5e9fc56851ff/s...  TSCA1213   \n",
       "1  gs://fc-35446f22-ea37-483a-bd6c-5e9fc56851ff/s...  TSCA1213   \n",
       "\n",
       "                                          Collection cohort_code  \n",
       "0  Cancer Cell Line Factory (CCLF) / Andy Aguirre...   COHORT_AA  \n",
       "1  Cancer Cell Line Factory (CCLF) / Andy Aguirre...   COHORT_AA  "
      ]
     },
     "execution_count": 29,
     "metadata": {},
     "output_type": "execute_result"
    }
   ],
   "source": [
    "all_samples.head(2)"
   ]
  },
  {
   "cell_type": "code",
   "execution_count": 59,
   "metadata": {},
   "outputs": [
    {
     "data": {
      "text/html": [
       "<div>\n",
       "<style>\n",
       "    .dataframe thead tr:only-child th {\n",
       "        text-align: right;\n",
       "    }\n",
       "\n",
       "    .dataframe thead th {\n",
       "        text-align: left;\n",
       "    }\n",
       "\n",
       "    .dataframe tbody tr th {\n",
       "        vertical-align: top;\n",
       "    }\n",
       "</style>\n",
       "<table border=\"1\" class=\"dataframe\">\n",
       "  <thead>\n",
       "    <tr style=\"text-align: right;\">\n",
       "      <th></th>\n",
       "      <th>membership:pair_set_id</th>\n",
       "      <th>pair_id</th>\n",
       "    </tr>\n",
       "  </thead>\n",
       "  <tbody>\n",
       "    <tr>\n",
       "      <th>0</th>\n",
       "      <td>COHORT_AA</td>\n",
       "      <td>AA34-Tumor-SM-D4L25_NA_TN</td>\n",
       "    </tr>\n",
       "    <tr>\n",
       "      <th>1</th>\n",
       "      <td>COHORT_AA</td>\n",
       "      <td>AA34-Tumor-SM-D4L25_NA_TP</td>\n",
       "    </tr>\n",
       "  </tbody>\n",
       "</table>\n",
       "</div>"
      ],
      "text/plain": [
       "  membership:pair_set_id                    pair_id\n",
       "0              COHORT_AA  AA34-Tumor-SM-D4L25_NA_TN\n",
       "1              COHORT_AA  AA34-Tumor-SM-D4L25_NA_TP"
      ]
     },
     "execution_count": 59,
     "metadata": {},
     "output_type": "execute_result"
    }
   ],
   "source": [
    "cohort_pairsets.head(2)"
   ]
  },
  {
   "cell_type": "code",
   "execution_count": 52,
   "metadata": {
    "collapsed": true
   },
   "outputs": [],
   "source": [
    "cohort_pairsets = fc_interface.prepare_cohort_pairsets_for_metadata_exports\\\n",
    "    (tsca_id, blacklist, paths_to_samples_info, google_bucket_id)"
   ]
  },
  {
   "cell_type": "code",
   "execution_count": 54,
   "metadata": {},
   "outputs": [],
   "source": [
    "res = fc_interface.upload_cohort_pairsets(namespace, workspace, cohort_pairsets)"
   ]
  },
  {
   "cell_type": "code",
   "execution_count": 57,
   "metadata": {},
   "outputs": [
    {
     "data": {
      "text/plain": [
       "{'causes': [{'causes': [],\n",
       "   'message': 'pair EH015-Tumor-SM-D4L1Z_EH015-Normal-SM-D4L2J_TN not found',\n",
       "   'source': 'rawls',\n",
       "   'stackTrace': []},\n",
       "  {'causes': [],\n",
       "   'message': 'pair PEDS167-Tumor-SM-DHZA3_PEDS167-Normal-SM-D4L3M_TP not found',\n",
       "   'source': 'rawls',\n",
       "   'stackTrace': []},\n",
       "  {'causes': [],\n",
       "   'message': 'pair CCLF_PEDS1025-Tumor-SM-F29S9_CCLF_PEDS1025-Normal-SM-EUVFO_TN not found',\n",
       "   'source': 'rawls',\n",
       "   'stackTrace': []},\n",
       "  {'causes': [],\n",
       "   'message': 'pair PEDS195-Tumor-SM-E7S28_PEDS195-Tumor-SM-DHZ9O_TP not found',\n",
       "   'source': 'rawls',\n",
       "   'stackTrace': []},\n",
       "  {'causes': [],\n",
       "   'message': 'pair PEDS196-Tumor-SM-E7RZA_PEDS196-Normal-SM-DNULT_TN not found',\n",
       "   'source': 'rawls',\n",
       "   'stackTrace': []},\n",
       "  {'causes': [],\n",
       "   'message': 'pair PEDS063-Tumor-SM-GBJ9W_PEDS063-Normal-SM-F67EX_TN not found',\n",
       "   'source': 'rawls',\n",
       "   'stackTrace': []},\n",
       "  {'causes': [],\n",
       "   'message': 'pair CCLF_PEDS1021-Tumor-SM-F67F8_CCLF_PEDS1021-Tumor-SM-E7S1A_TP not found',\n",
       "   'source': 'rawls',\n",
       "   'stackTrace': []},\n",
       "  {'causes': [],\n",
       "   'message': 'pair CCLF_PEDS1008-Tumor-SM-EUVH8_CCLF_PEDS1008-Normal-SM-E7S1Q_TN not found',\n",
       "   'source': 'rawls',\n",
       "   'stackTrace': []},\n",
       "  {'causes': [],\n",
       "   'message': 'pair PEDS171-Tumor-SM-DNUL6_PEDS171-Normal-SM-D4L1V_TN not found',\n",
       "   'source': 'rawls',\n",
       "   'stackTrace': []},\n",
       "  {'causes': [],\n",
       "   'message': 'pair PEDS194-Tumor-SM-DHZA4_PEDS194-Normal-SM-DHZ8P_TN not found',\n",
       "   'source': 'rawls',\n",
       "   'stackTrace': []},\n",
       "  {'causes': [],\n",
       "   'message': 'pair CCLF_JL1001-Tumor-SM-E7RZ7_CCLF_JL1001-Normal-SM-EUVH5_TN not found',\n",
       "   'source': 'rawls',\n",
       "   'stackTrace': []},\n",
       "  {'causes': [],\n",
       "   'message': 'pair PEDS199-Tumor-SM-DHZ8R_PEDS199-Normal-SM-DB2K9_TN not found',\n",
       "   'source': 'rawls',\n",
       "   'stackTrace': []},\n",
       "  {'causes': [],\n",
       "   'message': 'pair CCLF_PEDS1026-Tumor-SM-EUVGD_CCLF_PEDS1026-Normal-SM-EUVH2_TN not found',\n",
       "   'source': 'rawls',\n",
       "   'stackTrace': []},\n",
       "  {'causes': [],\n",
       "   'message': 'pair EH014-Tumor-SM-DHZ54_EH014-Normal-SM-D4L46_TN not found',\n",
       "   'source': 'rawls',\n",
       "   'stackTrace': []},\n",
       "  {'causes': [],\n",
       "   'message': 'pair CCLF_PEDS1033-Tumor-SM-F29SE_CCLF_PEDS1033-Normal-SM-F67FB_TN not found',\n",
       "   'source': 'rawls',\n",
       "   'stackTrace': []},\n",
       "  {'causes': [],\n",
       "   'message': 'pair PEDS199-Tumor-SM-DHZ8J_PEDS199-Normal-SM-DNULP_TN not found',\n",
       "   'source': 'rawls',\n",
       "   'stackTrace': []},\n",
       "  {'causes': [],\n",
       "   'message': 'pair PEDS196-Tumor-SM-DNUN4_PEDS196-Normal-SM-DNULT_TN not found',\n",
       "   'source': 'rawls',\n",
       "   'stackTrace': []},\n",
       "  {'causes': [],\n",
       "   'message': 'pair PEDS195-Tumor-SM-DNUNH_PEDS195-Tumor-SM-DHZ7Z_TP not found',\n",
       "   'source': 'rawls',\n",
       "   'stackTrace': []},\n",
       "  {'causes': [],\n",
       "   'message': 'pair CCLF_JL1001-Tumor-SM-EUVHJ_CCLF_JL1001-Normal-SM-EUVFR_TN not found',\n",
       "   'source': 'rawls',\n",
       "   'stackTrace': []},\n",
       "  {'causes': [],\n",
       "   'message': 'pair EH014-Tumor-SM-D4L2W_EH014-Normal-SM-D4L27_TN not found',\n",
       "   'source': 'rawls',\n",
       "   'stackTrace': []},\n",
       "  {'causes': [],\n",
       "   'message': 'pair EH014-Tumor-SM-D4L26_EH014-Normal-SM-D4L27_TN not found',\n",
       "   'source': 'rawls',\n",
       "   'stackTrace': []},\n",
       "  {'causes': [],\n",
       "   'message': 'pair CCLF_JL1001-Tumor-SM-EUVHJ_CCLF_JL1001-Tumor-SM-E7RZ7_TP not found',\n",
       "   'source': 'rawls',\n",
       "   'stackTrace': []},\n",
       "  {'causes': [],\n",
       "   'message': 'pair PEDS200-Tumor-SM-DNUMU_PEDS200-Normal-SM-DNUME_TN not found',\n",
       "   'source': 'rawls',\n",
       "   'stackTrace': []},\n",
       "  {'causes': [],\n",
       "   'message': 'pair PEDS194-Tumor-SM-DHZ8F_PEDS194-Normal-SM-DHZ8P_TN not found',\n",
       "   'source': 'rawls',\n",
       "   'stackTrace': []},\n",
       "  {'causes': [],\n",
       "   'message': 'pair PEDS194-Tumor-SM-DHZ8Q_PEDS194-Normal-SM-DHZ7O_TN not found',\n",
       "   'source': 'rawls',\n",
       "   'stackTrace': []},\n",
       "  {'causes': [],\n",
       "   'message': 'pair EH019-Tumor-SM-DB3RA_EH019-Normal-SM-DHZ8I_TN not found',\n",
       "   'source': 'rawls',\n",
       "   'stackTrace': []},\n",
       "  {'causes': [],\n",
       "   'message': 'pair PEDS063-Tumor-SM-GBJAK_PEDS063-Normal-SM-F67EX_TN not found',\n",
       "   'source': 'rawls',\n",
       "   'stackTrace': []},\n",
       "  {'causes': [],\n",
       "   'message': 'pair PEDS199-Tumor-SM-DHZ8J_PEDS199-Tumor-SM-DB2JW_TP not found',\n",
       "   'source': 'rawls',\n",
       "   'stackTrace': []},\n",
       "  {'causes': [],\n",
       "   'message': 'pair PEDS209-Tumor-SM-DHZ51_PEDS209-Normal-SM-E7S1H_TN not found',\n",
       "   'source': 'rawls',\n",
       "   'stackTrace': []},\n",
       "  {'causes': [],\n",
       "   'message': 'pair CCLF_PEDS1008-Tumor-SM-EUVI3_CCLF_PEDS1008-Normal-SM-E7S23_TN not found',\n",
       "   'source': 'rawls',\n",
       "   'stackTrace': []},\n",
       "  {'causes': [],\n",
       "   'message': 'pair EH015-Tumor-SM-D4L3A_EH015-Normal-SM-D4L38_TN not found',\n",
       "   'source': 'rawls',\n",
       "   'stackTrace': []},\n",
       "  {'causes': [],\n",
       "   'message': 'pair JL58-Tumor-SM-DB2K8_JL58-Normal-SM-D4L4B_TP not found',\n",
       "   'source': 'rawls',\n",
       "   'stackTrace': []},\n",
       "  {'causes': [],\n",
       "   'message': 'pair PEDS176-Tumor-SM-DB3R9_PEDS176-Normal-SM-D4L2I_TP not found',\n",
       "   'source': 'rawls',\n",
       "   'stackTrace': []},\n",
       "  {'causes': [],\n",
       "   'message': 'pair PEDS195-Tumor-SM-E7S2H_PEDS195-Tumor-SM-DHZ9O_TP not found',\n",
       "   'source': 'rawls',\n",
       "   'stackTrace': []},\n",
       "  {'causes': [],\n",
       "   'message': 'pair PEDS196-Tumor-SM-DNUN5_PEDS196-Normal-SM-DNUN7_TN not found',\n",
       "   'source': 'rawls',\n",
       "   'stackTrace': []},\n",
       "  {'causes': [],\n",
       "   'message': 'pair EH020-Tumor-SM-DHZ8T_EH020-Normal-SM-DB2IQ_TP not found',\n",
       "   'source': 'rawls',\n",
       "   'stackTrace': []},\n",
       "  {'causes': [],\n",
       "   'message': 'pair PEDS195-Tumor-SM-DHZ9O_PEDS195-Tumor-SM-DB3R6_TP not found',\n",
       "   'source': 'rawls',\n",
       "   'stackTrace': []},\n",
       "  {'causes': [],\n",
       "   'message': 'pair CCLF_PEDS1003-Tumor-SM-DHZ6H_CCLF_PEDS1003-Tumor-SM-DHZ6E_TP not found',\n",
       "   'source': 'rawls',\n",
       "   'stackTrace': []},\n",
       "  {'causes': [],\n",
       "   'message': 'pair EH015-Tumor-SM-D4L2B_EH015-Normal-SM-D4L2L_TN not found',\n",
       "   'source': 'rawls',\n",
       "   'stackTrace': []},\n",
       "  {'causes': [],\n",
       "   'message': 'pair PEDS195-Tumor-SM-DHZ7X_PEDS195-Tumor-SM-DHZ9O_TP not found',\n",
       "   'source': 'rawls',\n",
       "   'stackTrace': []},\n",
       "  {'causes': [],\n",
       "   'message': 'pair PEDS105-Tumor-SM-F67FA_PEDS105-Normal-SM-GBJBP_TN not found',\n",
       "   'source': 'rawls',\n",
       "   'stackTrace': []},\n",
       "  {'causes': [],\n",
       "   'message': 'pair PEDS207-Tumor-SM-E7RZG_PEDS207-Normal-SM-E7RZ4_TN not found',\n",
       "   'source': 'rawls',\n",
       "   'stackTrace': []},\n",
       "  {'causes': [],\n",
       "   'message': 'pair CCLF_JL1001-Tumor-SM-EUVGG_CCLF_JL1001-Normal-SM-EUVFR_TN not found',\n",
       "   'source': 'rawls',\n",
       "   'stackTrace': []},\n",
       "  {'causes': [],\n",
       "   'message': 'pair PEDS176-Tumor-SM-DB2JX_PEDS176-Normal-SM-D4L2I_TN not found',\n",
       "   'source': 'rawls',\n",
       "   'stackTrace': []},\n",
       "  {'causes': [],\n",
       "   'message': 'pair EH021-Tumor-SM-DHZ9U_EH021-Normal-SM-DHZ9J_TN not found',\n",
       "   'source': 'rawls',\n",
       "   'stackTrace': []},\n",
       "  {'causes': [],\n",
       "   'message': 'pair EH020-Tumor-SM-DB3R4_EH020-Normal-SM-DHZ8U_TN not found',\n",
       "   'source': 'rawls',\n",
       "   'stackTrace': []},\n",
       "  {'causes': [],\n",
       "   'message': 'pair PEDS063-Tumor-SM-F67EL_PEDS063-Normal-SM-GBJB9_TN not found',\n",
       "   'source': 'rawls',\n",
       "   'stackTrace': []},\n",
       "  {'causes': [],\n",
       "   'message': 'pair PEDS195-Tumor-SM-DHZ9B_PEDS195-Tumor-SM-DB3R6_TP not found',\n",
       "   'source': 'rawls',\n",
       "   'stackTrace': []},\n",
       "  {'causes': [],\n",
       "   'message': 'pair CCLF_PEDS1033-Tumor-SM-F67G3_CCLF_PEDS1033-Normal-SM-F67FB_TN not found',\n",
       "   'source': 'rawls',\n",
       "   'stackTrace': []},\n",
       "  {'causes': [],\n",
       "   'message': 'pair CCLF_PEDS1008-Tumor-SM-E7RZ2_CCLF_PEDS1008-Normal-SM-E7S1Q_TN not found',\n",
       "   'source': 'rawls',\n",
       "   'stackTrace': []},\n",
       "  {'causes': [],\n",
       "   'message': 'pair JL61-Tumor-SM-DNULD_JL61-Normal-SM-DB2JI_TP not found',\n",
       "   'source': 'rawls',\n",
       "   'stackTrace': []},\n",
       "  {'causes': [],\n",
       "   'message': 'pair PEDS209-Tumor-SM-DNULQ_PEDS209-Normal-SM-E7S1H_TN not found',\n",
       "   'source': 'rawls',\n",
       "   'stackTrace': []},\n",
       "  {'causes': [],\n",
       "   'message': 'pair CCLF_PEDS1033-Tumor-SM-F67EA_CCLF_PEDS1033-Normal-SM-F67FB_TN not found',\n",
       "   'source': 'rawls',\n",
       "   'stackTrace': []},\n",
       "  {'causes': [],\n",
       "   'message': 'pair PEDS166-Tumor-SM-D4L2O_PEDS166-Normal-SM-D4L3H_TN not found',\n",
       "   'source': 'rawls',\n",
       "   'stackTrace': []},\n",
       "  {'causes': [],\n",
       "   'message': 'pair CCLF_PEDS1033-Tumor-SM-F67FY_CCLF_PEDS1033-Normal-SM-F29SC_TN not found',\n",
       "   'source': 'rawls',\n",
       "   'stackTrace': []},\n",
       "  {'causes': [],\n",
       "   'message': 'pair PEDS194-Tumor-SM-DHZ8F_PEDS194-Normal-SM-DB2IW_TP not found',\n",
       "   'source': 'rawls',\n",
       "   'stackTrace': []},\n",
       "  {'causes': [],\n",
       "   'message': 'pair PEDS171-Tumor-SM-E7S11_PEDS171-Normal-SM-D4L1V_TN not found',\n",
       "   'source': 'rawls',\n",
       "   'stackTrace': []},\n",
       "  {'causes': [],\n",
       "   'message': 'pair EH022-Tumor-SM-DHZA7_EH022-Normal-SM-DHZ97_TN not found',\n",
       "   'source': 'rawls',\n",
       "   'stackTrace': []},\n",
       "  {'causes': [],\n",
       "   'message': 'pair EH020-Tumor-SM-DHZ85_EH020-Normal-SM-DHZ8U_TN not found',\n",
       "   'source': 'rawls',\n",
       "   'stackTrace': []},\n",
       "  {'causes': [],\n",
       "   'message': 'pair CCLF_JL1001-Tumor-SM-EUVGG_CCLF_JL1001-Tumor-SM-E7RZ7_TP not found',\n",
       "   'source': 'rawls',\n",
       "   'stackTrace': []},\n",
       "  {'causes': [],\n",
       "   'message': 'pair PEDS182-Tumor-SM-DHZ9D_PEDS182-Normal-SM-DHZA1_TN not found',\n",
       "   'source': 'rawls',\n",
       "   'stackTrace': []},\n",
       "  {'causes': [],\n",
       "   'message': 'pair PEDS176-Tumor-SM-DB2I7_PEDS176-Normal-SM-D4L2I_TN not found',\n",
       "   'source': 'rawls',\n",
       "   'stackTrace': []},\n",
       "  {'causes': [],\n",
       "   'message': 'pair CCLF_PEDS1003-Tumor-SM-DHZ74_CCLF_PEDS1003-Tumor-SM-DHZ6H_TP not found',\n",
       "   'source': 'rawls',\n",
       "   'stackTrace': []},\n",
       "  {'causes': [],\n",
       "   'message': 'pair PEDS194-Tumor-SM-DNUM2_PEDS194-Normal-SM-DHZ8P_TN not found',\n",
       "   'source': 'rawls',\n",
       "   'stackTrace': []},\n",
       "  {'causes': [],\n",
       "   'message': 'pair PEDS195-Tumor-SM-DHZ8M_PEDS195-Tumor-SM-DB3R6_TP not found',\n",
       "   'source': 'rawls',\n",
       "   'stackTrace': []},\n",
       "  {'causes': [],\n",
       "   'message': 'pair JL62-Tumor-SM-DHZ6X_JL62-Normal-SM-DHZ6L_TN not found',\n",
       "   'source': 'rawls',\n",
       "   'stackTrace': []},\n",
       "  {'causes': [],\n",
       "   'message': 'pair JL61-Tumor-SM-DB2IT_JL61-Normal-SM-DNUNK_TN not found',\n",
       "   'source': 'rawls',\n",
       "   'stackTrace': []},\n",
       "  {'causes': [],\n",
       "   'message': 'pair CCLF_PEDS1025-Tumor-SM-EUVFV_CCLF_PEDS1025-Normal-SM-EUVG8_TN not found',\n",
       "   'source': 'rawls',\n",
       "   'stackTrace': []},\n",
       "  {'causes': [],\n",
       "   'message': 'pair CCLF_PEDS1003-Tumor-SM-DHZ6E_CCLF_PEDS1003-Tumor-SM-DHZ74_TP not found',\n",
       "   'source': 'rawls',\n",
       "   'stackTrace': []},\n",
       "  {'causes': [],\n",
       "   'message': 'pair PEDS195-Tumor-SM-DHZ7L_PEDS195-Tumor-SM-DHZ9O_TP not found',\n",
       "   'source': 'rawls',\n",
       "   'stackTrace': []},\n",
       "  {'causes': [],\n",
       "   'message': 'pair EH020-Tumor-SM-DHZ8T_EH020-Normal-SM-DHZ8U_TN not found',\n",
       "   'source': 'rawls',\n",
       "   'stackTrace': []},\n",
       "  {'causes': [],\n",
       "   'message': 'pair PEDS179-Tumor-SM-DHZA8_PEDS179-Normal-SM-DHZ8Z_TN not found',\n",
       "   'source': 'rawls',\n",
       "   'stackTrace': []},\n",
       "  {'causes': [],\n",
       "   'message': 'pair EH019-Tumor-SM-DHZ7S_EH019-Normal-SM-DHZ8I_TN not found',\n",
       "   'source': 'rawls',\n",
       "   'stackTrace': []},\n",
       "  {'causes': [],\n",
       "   'message': 'pair PEDS207-Tumor-SM-E7RZI_PEDS207-Normal-SM-E7RZ4_TN not found',\n",
       "   'source': 'rawls',\n",
       "   'stackTrace': []},\n",
       "  {'causes': [],\n",
       "   'message': 'pair CCLF_RCRF004-Tumor-SM-DNUMY_CCLF_RCRF004-Normal-SM-DHZ5M_TP not found',\n",
       "   'source': 'rawls',\n",
       "   'stackTrace': []},\n",
       "  {'causes': [],\n",
       "   'message': 'pair AA33-Tumor-SM-DHZ9X_AA33-Normal-SM-D4L4D_TN not found',\n",
       "   'source': 'rawls',\n",
       "   'stackTrace': []},\n",
       "  {'causes': [],\n",
       "   'message': 'pair PEDS194-Tumor-SM-DHZ8Q_PEDS194-Normal-SM-DB2IW_TP not found',\n",
       "   'source': 'rawls',\n",
       "   'stackTrace': []},\n",
       "  {'causes': [],\n",
       "   'message': 'pair PEDS167-Tumor-SM-DB2KF_PEDS167-Normal-SM-D4L3M_TP not found',\n",
       "   'source': 'rawls',\n",
       "   'stackTrace': []},\n",
       "  {'causes': [],\n",
       "   'message': 'pair CCLF_PEDS1022-Tumor-SM-F67DU_CCLF_PEDS1022-Normal-SM-E7RZ3_TP not found',\n",
       "   'source': 'rawls',\n",
       "   'stackTrace': []},\n",
       "  {'causes': [],\n",
       "   'message': 'pair CCLF_PEDS1007-Tumor-SM-DNULY_CCLF_PEDS1007-Normal-SM-E7S1E_TN not found',\n",
       "   'source': 'rawls',\n",
       "   'stackTrace': []},\n",
       "  {'causes': [],\n",
       "   'message': 'pair PEDS176-Tumor-SM-DB2JX_PEDS176-Normal-SM-D4L2I_TP not found',\n",
       "   'source': 'rawls',\n",
       "   'stackTrace': []},\n",
       "  {'causes': [],\n",
       "   'message': 'pair EH019-Tumor-SM-DHZ7S_EH019-Normal-SM-DB2J3_TP not found',\n",
       "   'source': 'rawls',\n",
       "   'stackTrace': []},\n",
       "  {'causes': [],\n",
       "   'message': 'pair CCLF_JL1001-Tumor-SM-EUVGS_CCLF_JL1001-Normal-SM-EUVFR_TN not found',\n",
       "   'source': 'rawls',\n",
       "   'stackTrace': []},\n",
       "  {'causes': [],\n",
       "   'message': 'pair JL61-Tumor-SM-DNUL2_JL61-Tumor-SM-DB2IT_TP not found',\n",
       "   'source': 'rawls',\n",
       "   'stackTrace': []},\n",
       "  {'causes': [],\n",
       "   'message': 'pair JL62-Tumor-SM-E7RZ6_JL62-Normal-SM-DHZ6L_TN not found',\n",
       "   'source': 'rawls',\n",
       "   'stackTrace': []},\n",
       "  {'causes': [],\n",
       "   'message': 'pair JL58-Tumor-SM-DB2J7_JL58-Normal-SM-D4L4B_TN not found',\n",
       "   'source': 'rawls',\n",
       "   'stackTrace': []},\n",
       "  {'causes': [],\n",
       "   'message': 'pair PEDS182-Tumor-SM-DHZA5_PEDS182-Normal-SM-DHZA1_TN not found',\n",
       "   'source': 'rawls',\n",
       "   'stackTrace': []},\n",
       "  {'causes': [],\n",
       "   'message': 'pair PEDS167-Tumor-SM-DB2IE_PEDS167-Normal-SM-D4L3M_TP not found',\n",
       "   'source': 'rawls',\n",
       "   'stackTrace': []},\n",
       "  {'causes': [],\n",
       "   'message': 'pair EH014-Tumor-SM-D4L1T_EH014-Normal-SM-D4L46_TN not found',\n",
       "   'source': 'rawls',\n",
       "   'stackTrace': []},\n",
       "  {'causes': [],\n",
       "   'message': 'pair CCLF_PEDS1025-Tumor-SM-EUVHD_CCLF_PEDS1025-Normal-SM-EUVG1_TN not found',\n",
       "   'source': 'rawls',\n",
       "   'stackTrace': []},\n",
       "  {'causes': [],\n",
       "   'message': 'pair CCLF_PEDS1008-Tumor-SM-E7S2F_CCLF_PEDS1008-Normal-SM-E7S23_TN not found',\n",
       "   'source': 'rawls',\n",
       "   'stackTrace': []},\n",
       "  {'causes': [],\n",
       "   'message': 'pair PEDS176-Tumor-SM-DB2I7_PEDS176-Normal-SM-D4L2I_TP not found',\n",
       "   'source': 'rawls',\n",
       "   'stackTrace': []},\n",
       "  {'causes': [],\n",
       "   'message': 'pair CCLF_PEDS1029-Tumor-SM-EUVFZ_CCLF_PEDS1029-Normal-SM-EUVH1_TN not found',\n",
       "   'source': 'rawls',\n",
       "   'stackTrace': []},\n",
       "  {'causes': [],\n",
       "   'message': 'pair CCLF_PEDS1019-Tumor-SM-E7S2G_CCLF_PEDS1019-Normal-SM-E7S24_TN not found',\n",
       "   'source': 'rawls',\n",
       "   'stackTrace': []},\n",
       "  {'causes': [],\n",
       "   'message': 'pair CCLF_PEDS1029-Tumor-SM-F67FP_CCLF_PEDS1029-Normal-SM-EUVH1_TN not found',\n",
       "   'source': 'rawls',\n",
       "   'stackTrace': []},\n",
       "  {'causes': [],\n",
       "   'message': 'pair CCLF_PEDS1003-Tumor-SM-DHZ6Q_CCLF_PEDS1003-Tumor-SM-DHZ74_TP not found',\n",
       "   'source': 'rawls',\n",
       "   'stackTrace': []},\n",
       "  {'causes': [],\n",
       "   'message': 'pair JL62-Tumor-SM-E7RZ6_JL62-Normal-SM-DHZ6L_TP not found',\n",
       "   'source': 'rawls',\n",
       "   'stackTrace': []},\n",
       "  {'causes': [],\n",
       "   'message': 'pair PEDS153-Tumor-SM-D4L3G_PEDS153-Normal-SM-D4L1X_TN not found',\n",
       "   'source': 'rawls',\n",
       "   'stackTrace': []},\n",
       "  {'causes': [],\n",
       "   'message': 'pair JL61-Tumor-SM-DNUL2_JL61-Normal-SM-DB2JI_TN not found',\n",
       "   'source': 'rawls',\n",
       "   'stackTrace': []},\n",
       "  {'causes': [],\n",
       "   'message': 'pair CCLF_PEDS1035-Tumor-SM-F29SJ_CCLF_PEDS1035-Normal-SM-F29SG_TN not found',\n",
       "   'source': 'rawls',\n",
       "   'stackTrace': []},\n",
       "  {'causes': [],\n",
       "   'message': 'pair JL61-Tumor-SM-DNULD_JL61-Normal-SM-DB2JI_TN not found',\n",
       "   'source': 'rawls',\n",
       "   'stackTrace': []},\n",
       "  {'causes': [],\n",
       "   'message': 'pair PEDS209-Tumor-SM-DNULA_PEDS209-Normal-SM-DHZ7E_TP not found',\n",
       "   'source': 'rawls',\n",
       "   'stackTrace': []},\n",
       "  {'causes': [],\n",
       "   'message': 'pair PEDS211-Tumor-SM-DNUM5_PEDS211-Normal-SM-E7S1T_TN not found',\n",
       "   'source': 'rawls',\n",
       "   'stackTrace': []},\n",
       "  {'causes': [],\n",
       "   'message': 'pair CCLF_PEDS1033-Tumor-SM-F29SF_CCLF_PEDS1033-Normal-SM-F29SD_TN not found',\n",
       "   'source': 'rawls',\n",
       "   'stackTrace': []},\n",
       "  {'causes': [],\n",
       "   'message': 'pair PEDS195-Tumor-SM-DB3R3_PEDS195-Tumor-SM-DHZ7Z_TP not found',\n",
       "   'source': 'rawls',\n",
       "   'stackTrace': []},\n",
       "  {'causes': [],\n",
       "   'message': 'pair CCLF_PEDS1025-Tumor-SM-EUVHP_CCLF_PEDS1025-Normal-SM-EUVG1_TN not found',\n",
       "   'source': 'rawls',\n",
       "   'stackTrace': []},\n",
       "  {'causes': [],\n",
       "   'message': 'pair PEDS194-Tumor-SM-DB2HW_PEDS194-Normal-SM-DB2IW_TN not found',\n",
       "   'source': 'rawls',\n",
       "   'stackTrace': []},\n",
       "  {'causes': [],\n",
       "   'message': 'pair PEDS176-Tumor-SM-D4L2T_PEDS176-Normal-SM-D4L2I_TN not found',\n",
       "   'source': 'rawls',\n",
       "   'stackTrace': []},\n",
       "  {'causes': [],\n",
       "   'message': 'pair PEDS194-Tumor-SM-E7S1D_PEDS194-Normal-SM-DHZ8P_TN not found',\n",
       "   'source': 'rawls',\n",
       "   'stackTrace': []},\n",
       "  {'causes': [],\n",
       "   'message': 'pair JL58-Tumor-SM-D4L32_JL58-Normal-SM-D4L4B_TN not found',\n",
       "   'source': 'rawls',\n",
       "   'stackTrace': []}],\n",
       " 'message': 'Could not resolve some entity references',\n",
       " 'source': 'rawls',\n",
       " 'stackTrace': [],\n",
       " 'statusCode': 400,\n",
       " 'timestamp': 1509554312665}"
      ]
     },
     "execution_count": 57,
     "metadata": {},
     "output_type": "execute_result"
    }
   ],
   "source": [
    "res.json()"
   ]
  },
  {
   "cell_type": "code",
   "execution_count": null,
   "metadata": {
    "collapsed": true
   },
   "outputs": [],
   "source": []
  }
 ],
 "metadata": {
  "kernelspec": {
   "display_name": "Python 3",
   "language": "python",
   "name": "python3"
  },
  "language_info": {
   "codemirror_mode": {
    "name": "ipython",
    "version": 3
   },
   "file_extension": ".py",
   "mimetype": "text/x-python",
   "name": "python",
   "nbconvert_exporter": "python",
   "pygments_lexer": "ipython3",
   "version": "3.6.1"
  }
 },
 "nbformat": 4,
 "nbformat_minor": 2
}
